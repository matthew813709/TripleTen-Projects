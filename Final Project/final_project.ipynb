{
 "cells": [
  {
   "cell_type": "markdown",
   "metadata": {},
   "source": [
    "In this project, we aim to predict customer churn for a telecom company. Customer churn is a significant issue as it directly impacts the company's revenue. By identifying customers who are likely to churn, the company can take proactive measures to retain them. The dataset includes various customer details, usage details, and contract information. Our goal is to build a robust machine learning model to predict churn with high accuracy and an AUC-ROC score of at least 0.88.\n",
    "\n",
    "This project involves several steps:\n",
    "\n",
    "Data Cleaning: Handling missing values and standardizing the formatting of key columns.\n",
    "\n",
    "Exploratory Data Analysis (EDA): Understanding the data by visualizing distributions and relationships between features.\n",
    "\n",
    "Feature Engineering: Creating new features or modifying existing ones to improve model performance.\n",
    "\n",
    "Model Training: Using machine learning models like Random Forest and tuning their hyperparameters to optimize performance.\n",
    "\n",
    "Evaluation: Assessing the model's performance using metrics such as precision, recall, and AUC-ROC.\n",
    "\n",
    "By following these steps, we aim to uncover insights that will help the telecom company reduce churn rates and foster better customer relationships.\n"
   ]
  },
  {
   "cell_type": "code",
   "execution_count": 1,
   "metadata": {},
   "outputs": [],
   "source": [
    "import pandas as pd\n",
    "from sklearn.model_selection import train_test_split, GridSearchCV\n",
    "from sklearn.ensemble import RandomForestClassifier\n",
    "from sklearn.utils.class_weight import compute_class_weight\n",
    "from sklearn.preprocessing import LabelEncoder\n",
    "import seaborn as sns\n",
    "import matplotlib.pyplot as plt\n",
    "from sklearn.ensemble import RandomForestClassifier\n",
    "from sklearn.metrics import classification_report, roc_auc_score, roc_curve, auc\n",
    "from sklearn.preprocessing import StandardScaler\n",
    "from sklearn.metrics import classification_report, roc_auc_score, precision_score, roc_curve, auc\n",
    "from sklearn.preprocessing import StandardScaler\n",
    "from sklearn.model_selection import RandomizedSearchCV\n",
    "import numpy as np"
   ]
  },
  {
   "cell_type": "code",
   "execution_count": 6,
   "metadata": {},
   "outputs": [
    {
     "name": "stdout",
     "output_type": "stream",
     "text": [
      "   customerID   BeginDate              EndDate            Type  \\\n",
      "0  7590-VHVEG  2020-01-01                   No  Month-to-month   \n",
      "1  5575-GNVDE  2017-04-01                   No        One year   \n",
      "2  3668-QPYBK  2019-10-01  2019-12-01 00:00:00  Month-to-month   \n",
      "3  7795-CFOCW  2016-05-01                   No        One year   \n",
      "4  9237-HQITU  2019-09-01  2019-11-01 00:00:00  Month-to-month   \n",
      "\n",
      "  PaperlessBilling              PaymentMethod  MonthlyCharges TotalCharges  \n",
      "0              Yes           Electronic check           29.85        29.85  \n",
      "1               No               Mailed check           56.95       1889.5  \n",
      "2              Yes               Mailed check           53.85       108.15  \n",
      "3               No  Bank transfer (automatic)           42.30      1840.75  \n",
      "4              Yes           Electronic check           70.70       151.65  \n"
     ]
    }
   ],
   "source": [
    "contract_path = \"/datasets/final_provider/contract.csv\"\n",
    "contract = pd.read_csv(contract_path)\n",
    "print(contract.head())"
   ]
  },
  {
   "cell_type": "code",
   "execution_count": 7,
   "metadata": {},
   "outputs": [
    {
     "name": "stdout",
     "output_type": "stream",
     "text": [
      "   customerID InternetService OnlineSecurity OnlineBackup DeviceProtection  \\\n",
      "0  7590-VHVEG             DSL             No          Yes               No   \n",
      "1  5575-GNVDE             DSL            Yes           No              Yes   \n",
      "2  3668-QPYBK             DSL            Yes          Yes               No   \n",
      "3  7795-CFOCW             DSL            Yes           No              Yes   \n",
      "4  9237-HQITU     Fiber optic             No           No               No   \n",
      "\n",
      "  TechSupport StreamingTV StreamingMovies  \n",
      "0          No          No              No  \n",
      "1          No          No              No  \n",
      "2          No          No              No  \n",
      "3         Yes          No              No  \n",
      "4          No          No              No  \n"
     ]
    }
   ],
   "source": [
    "internet_path = \"/datasets/final_provider/internet.csv\"\n",
    "internet = pd.read_csv(internet_path)\n",
    "print(internet.head())"
   ]
  },
  {
   "cell_type": "code",
   "execution_count": 8,
   "metadata": {},
   "outputs": [
    {
     "name": "stdout",
     "output_type": "stream",
     "text": [
      "   customerID  gender  SeniorCitizen Partner Dependents\n",
      "0  7590-VHVEG  Female              0     Yes         No\n",
      "1  5575-GNVDE    Male              0      No         No\n",
      "2  3668-QPYBK    Male              0      No         No\n",
      "3  7795-CFOCW    Male              0      No         No\n",
      "4  9237-HQITU  Female              0      No         No\n"
     ]
    }
   ],
   "source": [
    "personal_path = \"/datasets/final_provider/personal.csv\"\n",
    "personal = pd.read_csv(personal_path)\n",
    "print(personal.head())"
   ]
  },
  {
   "cell_type": "code",
   "execution_count": 9,
   "metadata": {},
   "outputs": [
    {
     "name": "stdout",
     "output_type": "stream",
     "text": [
      "   customerID MultipleLines\n",
      "0  5575-GNVDE            No\n",
      "1  3668-QPYBK            No\n",
      "2  9237-HQITU            No\n",
      "3  9305-CDSKC           Yes\n",
      "4  1452-KIOVK           Yes\n"
     ]
    }
   ],
   "source": [
    "phone_path = \"/datasets/final_provider/phone.csv\"\n",
    "phone = pd.read_csv(phone_path)\n",
    "print(phone.head())"
   ]
  },
  {
   "cell_type": "code",
   "execution_count": 10,
   "metadata": {},
   "outputs": [
    {
     "name": "stdout",
     "output_type": "stream",
     "text": [
      "\n",
      "Merged DataFrame:\n",
      "   customerID   BeginDate              EndDate            Type  \\\n",
      "0  7590-VHVEG  2020-01-01                   No  Month-to-month   \n",
      "1  5575-GNVDE  2017-04-01                   No        One year   \n",
      "2  3668-QPYBK  2019-10-01  2019-12-01 00:00:00  Month-to-month   \n",
      "3  7795-CFOCW  2016-05-01                   No        One year   \n",
      "4  9237-HQITU  2019-09-01  2019-11-01 00:00:00  Month-to-month   \n",
      "\n",
      "  PaperlessBilling              PaymentMethod  MonthlyCharges TotalCharges  \\\n",
      "0              Yes           Electronic check           29.85        29.85   \n",
      "1               No               Mailed check           56.95       1889.5   \n",
      "2              Yes               Mailed check           53.85       108.15   \n",
      "3               No  Bank transfer (automatic)           42.30      1840.75   \n",
      "4              Yes           Electronic check           70.70       151.65   \n",
      "\n",
      "  InternetService OnlineSecurity OnlineBackup DeviceProtection TechSupport  \\\n",
      "0             DSL             No          Yes               No          No   \n",
      "1             DSL            Yes           No              Yes          No   \n",
      "2             DSL            Yes          Yes               No          No   \n",
      "3             DSL            Yes           No              Yes         Yes   \n",
      "4     Fiber optic             No           No               No          No   \n",
      "\n",
      "  StreamingTV StreamingMovies  \n",
      "0          No              No  \n",
      "1          No              No  \n",
      "2          No              No  \n",
      "3          No              No  \n",
      "4          No              No  \n"
     ]
    }
   ],
   "source": [
    "merged_df = pd.merge(contract, internet, on='customerID', how='outer')\n",
    "\n",
    "# Display the head of the merged DataFrame\n",
    "print(\"\\nMerged DataFrame:\")\n",
    "print(merged_df.head())\n"
   ]
  },
  {
   "cell_type": "markdown",
   "metadata": {},
   "source": [
    "Initial merging of the dataframes."
   ]
  },
  {
   "cell_type": "code",
   "execution_count": 11,
   "metadata": {},
   "outputs": [
    {
     "name": "stdout",
     "output_type": "stream",
     "text": [
      "\n",
      "Merged DataFrame:\n",
      "   customerID   BeginDate              EndDate            Type  \\\n",
      "0  7590-VHVEG  2020-01-01                   No  Month-to-month   \n",
      "1  5575-GNVDE  2017-04-01                   No        One year   \n",
      "2  3668-QPYBK  2019-10-01  2019-12-01 00:00:00  Month-to-month   \n",
      "3  7795-CFOCW  2016-05-01                   No        One year   \n",
      "4  9237-HQITU  2019-09-01  2019-11-01 00:00:00  Month-to-month   \n",
      "\n",
      "  PaperlessBilling              PaymentMethod  MonthlyCharges TotalCharges  \\\n",
      "0              Yes           Electronic check           29.85        29.85   \n",
      "1               No               Mailed check           56.95       1889.5   \n",
      "2              Yes               Mailed check           53.85       108.15   \n",
      "3               No  Bank transfer (automatic)           42.30      1840.75   \n",
      "4              Yes           Electronic check           70.70       151.65   \n",
      "\n",
      "  InternetService OnlineSecurity OnlineBackup DeviceProtection TechSupport  \\\n",
      "0             DSL             No          Yes               No          No   \n",
      "1             DSL            Yes           No              Yes          No   \n",
      "2             DSL            Yes          Yes               No          No   \n",
      "3             DSL            Yes           No              Yes         Yes   \n",
      "4     Fiber optic             No           No               No          No   \n",
      "\n",
      "  StreamingTV StreamingMovies  gender  SeniorCitizen Partner Dependents  \n",
      "0          No              No  Female              0     Yes         No  \n",
      "1          No              No    Male              0      No         No  \n",
      "2          No              No    Male              0      No         No  \n",
      "3          No              No    Male              0      No         No  \n",
      "4          No              No  Female              0      No         No  \n"
     ]
    }
   ],
   "source": [
    "merged_df_2 = pd.merge(merged_df, personal, on='customerID', how='outer')\n",
    "\n",
    "# Display the head of the merged DataFrame\n",
    "print(\"\\nMerged DataFrame:\")\n",
    "print(merged_df_2.head())\n"
   ]
  },
  {
   "cell_type": "code",
   "execution_count": 12,
   "metadata": {},
   "outputs": [
    {
     "name": "stdout",
     "output_type": "stream",
     "text": [
      "\n",
      "Merged DataFrame:\n",
      "   customerID   BeginDate              EndDate            Type  \\\n",
      "0  7590-VHVEG  2020-01-01                   No  Month-to-month   \n",
      "1  5575-GNVDE  2017-04-01                   No        One year   \n",
      "2  3668-QPYBK  2019-10-01  2019-12-01 00:00:00  Month-to-month   \n",
      "3  7795-CFOCW  2016-05-01                   No        One year   \n",
      "4  9237-HQITU  2019-09-01  2019-11-01 00:00:00  Month-to-month   \n",
      "\n",
      "  PaperlessBilling              PaymentMethod  MonthlyCharges TotalCharges  \\\n",
      "0              Yes           Electronic check           29.85        29.85   \n",
      "1               No               Mailed check           56.95       1889.5   \n",
      "2              Yes               Mailed check           53.85       108.15   \n",
      "3               No  Bank transfer (automatic)           42.30      1840.75   \n",
      "4              Yes           Electronic check           70.70       151.65   \n",
      "\n",
      "  InternetService OnlineSecurity OnlineBackup DeviceProtection TechSupport  \\\n",
      "0             DSL             No          Yes               No          No   \n",
      "1             DSL            Yes           No              Yes          No   \n",
      "2             DSL            Yes          Yes               No          No   \n",
      "3             DSL            Yes           No              Yes         Yes   \n",
      "4     Fiber optic             No           No               No          No   \n",
      "\n",
      "  StreamingTV StreamingMovies  gender  SeniorCitizen Partner Dependents  \\\n",
      "0          No              No  Female              0     Yes         No   \n",
      "1          No              No    Male              0      No         No   \n",
      "2          No              No    Male              0      No         No   \n",
      "3          No              No    Male              0      No         No   \n",
      "4          No              No  Female              0      No         No   \n",
      "\n",
      "  MultipleLines  \n",
      "0           NaN  \n",
      "1            No  \n",
      "2            No  \n",
      "3           NaN  \n",
      "4            No  \n"
     ]
    }
   ],
   "source": [
    "final_merged_df = pd.merge(merged_df_2, phone, on='customerID', how='outer')\n",
    "\n",
    "# Display the head of the merged DataFrame\n",
    "print(\"\\nMerged DataFrame:\")\n",
    "print(final_merged_df.head())\n"
   ]
  },
  {
   "cell_type": "markdown",
   "metadata": {},
   "source": [
    "Merged all the tables."
   ]
  },
  {
   "cell_type": "code",
   "execution_count": 13,
   "metadata": {},
   "outputs": [
    {
     "data": {
      "text/html": [
       "<div>\n",
       "<style scoped>\n",
       "    .dataframe tbody tr th:only-of-type {\n",
       "        vertical-align: middle;\n",
       "    }\n",
       "\n",
       "    .dataframe tbody tr th {\n",
       "        vertical-align: top;\n",
       "    }\n",
       "\n",
       "    .dataframe thead th {\n",
       "        text-align: right;\n",
       "    }\n",
       "</style>\n",
       "<table border=\"1\" class=\"dataframe\">\n",
       "  <thead>\n",
       "    <tr style=\"text-align: right;\">\n",
       "      <th></th>\n",
       "      <th>customerID</th>\n",
       "      <th>BeginDate</th>\n",
       "      <th>EndDate</th>\n",
       "      <th>Type</th>\n",
       "      <th>PaperlessBilling</th>\n",
       "      <th>PaymentMethod</th>\n",
       "      <th>MonthlyCharges</th>\n",
       "      <th>TotalCharges</th>\n",
       "      <th>InternetService</th>\n",
       "      <th>OnlineSecurity</th>\n",
       "      <th>OnlineBackup</th>\n",
       "      <th>DeviceProtection</th>\n",
       "      <th>TechSupport</th>\n",
       "      <th>StreamingTV</th>\n",
       "      <th>StreamingMovies</th>\n",
       "      <th>gender</th>\n",
       "      <th>SeniorCitizen</th>\n",
       "      <th>Partner</th>\n",
       "      <th>Dependents</th>\n",
       "      <th>MultipleLines</th>\n",
       "    </tr>\n",
       "  </thead>\n",
       "  <tbody>\n",
       "    <tr>\n",
       "      <th>0</th>\n",
       "      <td>7590-VHVEG</td>\n",
       "      <td>2020-01-01</td>\n",
       "      <td>No</td>\n",
       "      <td>Month-to-month</td>\n",
       "      <td>Yes</td>\n",
       "      <td>Electronic check</td>\n",
       "      <td>29.85</td>\n",
       "      <td>29.85</td>\n",
       "      <td>DSL</td>\n",
       "      <td>No</td>\n",
       "      <td>Yes</td>\n",
       "      <td>No</td>\n",
       "      <td>No</td>\n",
       "      <td>No</td>\n",
       "      <td>No</td>\n",
       "      <td>Female</td>\n",
       "      <td>0</td>\n",
       "      <td>Yes</td>\n",
       "      <td>No</td>\n",
       "      <td>NaN</td>\n",
       "    </tr>\n",
       "    <tr>\n",
       "      <th>1</th>\n",
       "      <td>5575-GNVDE</td>\n",
       "      <td>2017-04-01</td>\n",
       "      <td>No</td>\n",
       "      <td>One year</td>\n",
       "      <td>No</td>\n",
       "      <td>Mailed check</td>\n",
       "      <td>56.95</td>\n",
       "      <td>1889.5</td>\n",
       "      <td>DSL</td>\n",
       "      <td>Yes</td>\n",
       "      <td>No</td>\n",
       "      <td>Yes</td>\n",
       "      <td>No</td>\n",
       "      <td>No</td>\n",
       "      <td>No</td>\n",
       "      <td>Male</td>\n",
       "      <td>0</td>\n",
       "      <td>No</td>\n",
       "      <td>No</td>\n",
       "      <td>No</td>\n",
       "    </tr>\n",
       "    <tr>\n",
       "      <th>2</th>\n",
       "      <td>3668-QPYBK</td>\n",
       "      <td>2019-10-01</td>\n",
       "      <td>2019-12-01 00:00:00</td>\n",
       "      <td>Month-to-month</td>\n",
       "      <td>Yes</td>\n",
       "      <td>Mailed check</td>\n",
       "      <td>53.85</td>\n",
       "      <td>108.15</td>\n",
       "      <td>DSL</td>\n",
       "      <td>Yes</td>\n",
       "      <td>Yes</td>\n",
       "      <td>No</td>\n",
       "      <td>No</td>\n",
       "      <td>No</td>\n",
       "      <td>No</td>\n",
       "      <td>Male</td>\n",
       "      <td>0</td>\n",
       "      <td>No</td>\n",
       "      <td>No</td>\n",
       "      <td>No</td>\n",
       "    </tr>\n",
       "    <tr>\n",
       "      <th>3</th>\n",
       "      <td>7795-CFOCW</td>\n",
       "      <td>2016-05-01</td>\n",
       "      <td>No</td>\n",
       "      <td>One year</td>\n",
       "      <td>No</td>\n",
       "      <td>Bank transfer (automatic)</td>\n",
       "      <td>42.30</td>\n",
       "      <td>1840.75</td>\n",
       "      <td>DSL</td>\n",
       "      <td>Yes</td>\n",
       "      <td>No</td>\n",
       "      <td>Yes</td>\n",
       "      <td>Yes</td>\n",
       "      <td>No</td>\n",
       "      <td>No</td>\n",
       "      <td>Male</td>\n",
       "      <td>0</td>\n",
       "      <td>No</td>\n",
       "      <td>No</td>\n",
       "      <td>NaN</td>\n",
       "    </tr>\n",
       "    <tr>\n",
       "      <th>4</th>\n",
       "      <td>9237-HQITU</td>\n",
       "      <td>2019-09-01</td>\n",
       "      <td>2019-11-01 00:00:00</td>\n",
       "      <td>Month-to-month</td>\n",
       "      <td>Yes</td>\n",
       "      <td>Electronic check</td>\n",
       "      <td>70.70</td>\n",
       "      <td>151.65</td>\n",
       "      <td>Fiber optic</td>\n",
       "      <td>No</td>\n",
       "      <td>No</td>\n",
       "      <td>No</td>\n",
       "      <td>No</td>\n",
       "      <td>No</td>\n",
       "      <td>No</td>\n",
       "      <td>Female</td>\n",
       "      <td>0</td>\n",
       "      <td>No</td>\n",
       "      <td>No</td>\n",
       "      <td>No</td>\n",
       "    </tr>\n",
       "    <tr>\n",
       "      <th>...</th>\n",
       "      <td>...</td>\n",
       "      <td>...</td>\n",
       "      <td>...</td>\n",
       "      <td>...</td>\n",
       "      <td>...</td>\n",
       "      <td>...</td>\n",
       "      <td>...</td>\n",
       "      <td>...</td>\n",
       "      <td>...</td>\n",
       "      <td>...</td>\n",
       "      <td>...</td>\n",
       "      <td>...</td>\n",
       "      <td>...</td>\n",
       "      <td>...</td>\n",
       "      <td>...</td>\n",
       "      <td>...</td>\n",
       "      <td>...</td>\n",
       "      <td>...</td>\n",
       "      <td>...</td>\n",
       "      <td>...</td>\n",
       "    </tr>\n",
       "    <tr>\n",
       "      <th>7038</th>\n",
       "      <td>6840-RESVB</td>\n",
       "      <td>2018-02-01</td>\n",
       "      <td>No</td>\n",
       "      <td>One year</td>\n",
       "      <td>Yes</td>\n",
       "      <td>Mailed check</td>\n",
       "      <td>84.80</td>\n",
       "      <td>1990.5</td>\n",
       "      <td>DSL</td>\n",
       "      <td>Yes</td>\n",
       "      <td>No</td>\n",
       "      <td>Yes</td>\n",
       "      <td>Yes</td>\n",
       "      <td>Yes</td>\n",
       "      <td>Yes</td>\n",
       "      <td>Male</td>\n",
       "      <td>0</td>\n",
       "      <td>Yes</td>\n",
       "      <td>Yes</td>\n",
       "      <td>Yes</td>\n",
       "    </tr>\n",
       "    <tr>\n",
       "      <th>7039</th>\n",
       "      <td>2234-XADUH</td>\n",
       "      <td>2014-02-01</td>\n",
       "      <td>No</td>\n",
       "      <td>One year</td>\n",
       "      <td>Yes</td>\n",
       "      <td>Credit card (automatic)</td>\n",
       "      <td>103.20</td>\n",
       "      <td>7362.9</td>\n",
       "      <td>Fiber optic</td>\n",
       "      <td>No</td>\n",
       "      <td>Yes</td>\n",
       "      <td>Yes</td>\n",
       "      <td>No</td>\n",
       "      <td>Yes</td>\n",
       "      <td>Yes</td>\n",
       "      <td>Female</td>\n",
       "      <td>0</td>\n",
       "      <td>Yes</td>\n",
       "      <td>Yes</td>\n",
       "      <td>Yes</td>\n",
       "    </tr>\n",
       "    <tr>\n",
       "      <th>7040</th>\n",
       "      <td>4801-JZAZL</td>\n",
       "      <td>2019-03-01</td>\n",
       "      <td>No</td>\n",
       "      <td>Month-to-month</td>\n",
       "      <td>Yes</td>\n",
       "      <td>Electronic check</td>\n",
       "      <td>29.60</td>\n",
       "      <td>346.45</td>\n",
       "      <td>DSL</td>\n",
       "      <td>Yes</td>\n",
       "      <td>No</td>\n",
       "      <td>No</td>\n",
       "      <td>No</td>\n",
       "      <td>No</td>\n",
       "      <td>No</td>\n",
       "      <td>Female</td>\n",
       "      <td>0</td>\n",
       "      <td>Yes</td>\n",
       "      <td>Yes</td>\n",
       "      <td>NaN</td>\n",
       "    </tr>\n",
       "    <tr>\n",
       "      <th>7041</th>\n",
       "      <td>8361-LTMKD</td>\n",
       "      <td>2019-07-01</td>\n",
       "      <td>2019-11-01 00:00:00</td>\n",
       "      <td>Month-to-month</td>\n",
       "      <td>Yes</td>\n",
       "      <td>Mailed check</td>\n",
       "      <td>74.40</td>\n",
       "      <td>306.6</td>\n",
       "      <td>Fiber optic</td>\n",
       "      <td>No</td>\n",
       "      <td>No</td>\n",
       "      <td>No</td>\n",
       "      <td>No</td>\n",
       "      <td>No</td>\n",
       "      <td>No</td>\n",
       "      <td>Male</td>\n",
       "      <td>1</td>\n",
       "      <td>Yes</td>\n",
       "      <td>No</td>\n",
       "      <td>Yes</td>\n",
       "    </tr>\n",
       "    <tr>\n",
       "      <th>7042</th>\n",
       "      <td>3186-AJIEK</td>\n",
       "      <td>2014-08-01</td>\n",
       "      <td>No</td>\n",
       "      <td>Two year</td>\n",
       "      <td>Yes</td>\n",
       "      <td>Bank transfer (automatic)</td>\n",
       "      <td>105.65</td>\n",
       "      <td>6844.5</td>\n",
       "      <td>Fiber optic</td>\n",
       "      <td>Yes</td>\n",
       "      <td>No</td>\n",
       "      <td>Yes</td>\n",
       "      <td>Yes</td>\n",
       "      <td>Yes</td>\n",
       "      <td>Yes</td>\n",
       "      <td>Male</td>\n",
       "      <td>0</td>\n",
       "      <td>No</td>\n",
       "      <td>No</td>\n",
       "      <td>No</td>\n",
       "    </tr>\n",
       "  </tbody>\n",
       "</table>\n",
       "<p>7043 rows × 20 columns</p>\n",
       "</div>"
      ],
      "text/plain": [
       "      customerID   BeginDate              EndDate            Type  \\\n",
       "0     7590-VHVEG  2020-01-01                   No  Month-to-month   \n",
       "1     5575-GNVDE  2017-04-01                   No        One year   \n",
       "2     3668-QPYBK  2019-10-01  2019-12-01 00:00:00  Month-to-month   \n",
       "3     7795-CFOCW  2016-05-01                   No        One year   \n",
       "4     9237-HQITU  2019-09-01  2019-11-01 00:00:00  Month-to-month   \n",
       "...          ...         ...                  ...             ...   \n",
       "7038  6840-RESVB  2018-02-01                   No        One year   \n",
       "7039  2234-XADUH  2014-02-01                   No        One year   \n",
       "7040  4801-JZAZL  2019-03-01                   No  Month-to-month   \n",
       "7041  8361-LTMKD  2019-07-01  2019-11-01 00:00:00  Month-to-month   \n",
       "7042  3186-AJIEK  2014-08-01                   No        Two year   \n",
       "\n",
       "     PaperlessBilling              PaymentMethod  MonthlyCharges TotalCharges  \\\n",
       "0                 Yes           Electronic check           29.85        29.85   \n",
       "1                  No               Mailed check           56.95       1889.5   \n",
       "2                 Yes               Mailed check           53.85       108.15   \n",
       "3                  No  Bank transfer (automatic)           42.30      1840.75   \n",
       "4                 Yes           Electronic check           70.70       151.65   \n",
       "...               ...                        ...             ...          ...   \n",
       "7038              Yes               Mailed check           84.80       1990.5   \n",
       "7039              Yes    Credit card (automatic)          103.20       7362.9   \n",
       "7040              Yes           Electronic check           29.60       346.45   \n",
       "7041              Yes               Mailed check           74.40        306.6   \n",
       "7042              Yes  Bank transfer (automatic)          105.65       6844.5   \n",
       "\n",
       "     InternetService OnlineSecurity OnlineBackup DeviceProtection TechSupport  \\\n",
       "0                DSL             No          Yes               No          No   \n",
       "1                DSL            Yes           No              Yes          No   \n",
       "2                DSL            Yes          Yes               No          No   \n",
       "3                DSL            Yes           No              Yes         Yes   \n",
       "4        Fiber optic             No           No               No          No   \n",
       "...              ...            ...          ...              ...         ...   \n",
       "7038             DSL            Yes           No              Yes         Yes   \n",
       "7039     Fiber optic             No          Yes              Yes          No   \n",
       "7040             DSL            Yes           No               No          No   \n",
       "7041     Fiber optic             No           No               No          No   \n",
       "7042     Fiber optic            Yes           No              Yes         Yes   \n",
       "\n",
       "     StreamingTV StreamingMovies  gender  SeniorCitizen Partner Dependents  \\\n",
       "0             No              No  Female              0     Yes         No   \n",
       "1             No              No    Male              0      No         No   \n",
       "2             No              No    Male              0      No         No   \n",
       "3             No              No    Male              0      No         No   \n",
       "4             No              No  Female              0      No         No   \n",
       "...          ...             ...     ...            ...     ...        ...   \n",
       "7038         Yes             Yes    Male              0     Yes        Yes   \n",
       "7039         Yes             Yes  Female              0     Yes        Yes   \n",
       "7040          No              No  Female              0     Yes        Yes   \n",
       "7041          No              No    Male              1     Yes         No   \n",
       "7042         Yes             Yes    Male              0      No         No   \n",
       "\n",
       "     MultipleLines  \n",
       "0              NaN  \n",
       "1               No  \n",
       "2               No  \n",
       "3              NaN  \n",
       "4               No  \n",
       "...            ...  \n",
       "7038           Yes  \n",
       "7039           Yes  \n",
       "7040           NaN  \n",
       "7041           Yes  \n",
       "7042            No  \n",
       "\n",
       "[7043 rows x 20 columns]"
      ]
     },
     "execution_count": 13,
     "metadata": {},
     "output_type": "execute_result"
    }
   ],
   "source": [
    "final_merged_df"
   ]
  },
  {
   "cell_type": "code",
   "execution_count": 14,
   "metadata": {},
   "outputs": [],
   "source": [
    "contract['EndDate'].fillna('No Churn', inplace=True)\n",
    "\n",
    "# Replace 'No' in EndDate with NaN (pd.NA)\n",
    "contract['EndDate'].replace('No', pd.NA, inplace=True)"
   ]
  },
  {
   "cell_type": "markdown",
   "metadata": {},
   "source": [
    "This takes care of the 'EndDate' column issue, indicating cleaerly which customersb have churned."
   ]
  },
  {
   "cell_type": "code",
   "execution_count": 15,
   "metadata": {},
   "outputs": [
    {
     "name": "stdout",
     "output_type": "stream",
     "text": [
      "Final Merged DataFrame:\n",
      "   customerID   BeginDate              EndDate            Type  \\\n",
      "0  7590-VHVEG  2020-01-01             No Churn  Month-to-month   \n",
      "1  5575-GNVDE  2017-04-01             No Churn        One year   \n",
      "2  3668-QPYBK  2019-10-01  2019-12-01 00:00:00  Month-to-month   \n",
      "3  7795-CFOCW  2016-05-01             No Churn        One year   \n",
      "4  9237-HQITU  2019-09-01  2019-11-01 00:00:00  Month-to-month   \n",
      "\n",
      "  PaperlessBilling              PaymentMethod  MonthlyCharges TotalCharges  \\\n",
      "0              Yes           Electronic check           29.85        29.85   \n",
      "1               No               Mailed check           56.95       1889.5   \n",
      "2              Yes               Mailed check           53.85       108.15   \n",
      "3               No  Bank transfer (automatic)           42.30      1840.75   \n",
      "4              Yes           Electronic check           70.70       151.65   \n",
      "\n",
      "  InternetService OnlineSecurity  ... DeviceProtection TechSupport  \\\n",
      "0             DSL             No  ...               No          No   \n",
      "1             DSL            Yes  ...              Yes          No   \n",
      "2             DSL            Yes  ...               No          No   \n",
      "3             DSL            Yes  ...              Yes         Yes   \n",
      "4     Fiber optic             No  ...               No          No   \n",
      "\n",
      "  StreamingTV StreamingMovies  gender SeniorCitizen  Partner Dependents  \\\n",
      "0          No              No  Female             0      Yes         No   \n",
      "1          No              No    Male             0       No         No   \n",
      "2          No              No    Male             0       No         No   \n",
      "3          No              No    Male             0       No         No   \n",
      "4          No              No  Female             0       No         No   \n",
      "\n",
      "  MultipleLines Churn  \n",
      "0           NaN     0  \n",
      "1            No     0  \n",
      "2            No     1  \n",
      "3           NaN     0  \n",
      "4            No     1  \n",
      "\n",
      "[5 rows x 21 columns]\n",
      "\n",
      "Churn column distribution:\n",
      "0    5174\n",
      "1    1869\n",
      "Name: Churn, dtype: int64\n"
     ]
    }
   ],
   "source": [
    "final_merged_df['EndDate'].replace('No', pd.NA, inplace=True)\n",
    "final_merged_df['EndDate'].fillna('No Churn', inplace=True)\n",
    "final_merged_df['Churn'] = (final_merged_df['EndDate'] != 'No Churn').astype(int)\n",
    "\n",
    "# Display the head of the merged DataFrame\n",
    "print(\"Final Merged DataFrame:\")\n",
    "print(final_merged_df.head())\n",
    "\n",
    "# Verify if the Churn column is created correctly\n",
    "print(\"\\nChurn column distribution:\")\n",
    "print(final_merged_df['Churn'].value_counts())"
   ]
  },
  {
   "cell_type": "markdown",
   "metadata": {},
   "source": [
    "the Churn column: 1 if the customer has churned, 0 otherwise."
   ]
  },
  {
   "cell_type": "markdown",
   "metadata": {},
   "source": [
    "This indicates 1869 customers have churned."
   ]
  },
  {
   "cell_type": "code",
   "execution_count": 16,
   "metadata": {},
   "outputs": [
    {
     "name": "stdout",
     "output_type": "stream",
     "text": [
      "<class 'pandas.core.frame.DataFrame'>\n",
      "Int64Index: 7043 entries, 0 to 7042\n",
      "Data columns (total 21 columns):\n",
      " #   Column            Non-Null Count  Dtype  \n",
      "---  ------            --------------  -----  \n",
      " 0   customerID        7043 non-null   object \n",
      " 1   BeginDate         7043 non-null   object \n",
      " 2   EndDate           7043 non-null   object \n",
      " 3   Type              7043 non-null   object \n",
      " 4   PaperlessBilling  7043 non-null   object \n",
      " 5   PaymentMethod     7043 non-null   object \n",
      " 6   MonthlyCharges    7043 non-null   float64\n",
      " 7   TotalCharges      7043 non-null   object \n",
      " 8   InternetService   5517 non-null   object \n",
      " 9   OnlineSecurity    5517 non-null   object \n",
      " 10  OnlineBackup      5517 non-null   object \n",
      " 11  DeviceProtection  5517 non-null   object \n",
      " 12  TechSupport       5517 non-null   object \n",
      " 13  StreamingTV       5517 non-null   object \n",
      " 14  StreamingMovies   5517 non-null   object \n",
      " 15  gender            7043 non-null   object \n",
      " 16  SeniorCitizen     7043 non-null   int64  \n",
      " 17  Partner           7043 non-null   object \n",
      " 18  Dependents        7043 non-null   object \n",
      " 19  MultipleLines     6361 non-null   object \n",
      " 20  Churn             7043 non-null   int64  \n",
      "dtypes: float64(1), int64(2), object(18)\n",
      "memory usage: 1.2+ MB\n",
      "None\n",
      "       MonthlyCharges  SeniorCitizen        Churn\n",
      "count     7043.000000    7043.000000  7043.000000\n",
      "mean        64.761692       0.162147     0.265370\n",
      "std         30.090047       0.368612     0.441561\n",
      "min         18.250000       0.000000     0.000000\n",
      "25%         35.500000       0.000000     0.000000\n",
      "50%         70.350000       0.000000     0.000000\n",
      "75%         89.850000       0.000000     1.000000\n",
      "max        118.750000       1.000000     1.000000\n"
     ]
    }
   ],
   "source": [
    "print(final_merged_df.info())\n",
    "print(final_merged_df.describe())"
   ]
  },
  {
   "cell_type": "code",
   "execution_count": 17,
   "metadata": {},
   "outputs": [
    {
     "name": "stdout",
     "output_type": "stream",
     "text": [
      "customerID             0\n",
      "BeginDate              0\n",
      "EndDate                0\n",
      "Type                   0\n",
      "PaperlessBilling       0\n",
      "PaymentMethod          0\n",
      "MonthlyCharges         0\n",
      "TotalCharges           0\n",
      "InternetService     1526\n",
      "OnlineSecurity      1526\n",
      "OnlineBackup        1526\n",
      "DeviceProtection    1526\n",
      "TechSupport         1526\n",
      "StreamingTV         1526\n",
      "StreamingMovies     1526\n",
      "gender                 0\n",
      "SeniorCitizen          0\n",
      "Partner                0\n",
      "Dependents             0\n",
      "MultipleLines        682\n",
      "Churn                  0\n",
      "dtype: int64\n"
     ]
    }
   ],
   "source": [
    "print(final_merged_df.isnull().sum())\n"
   ]
  },
  {
   "cell_type": "markdown",
   "metadata": {},
   "source": [
    "This tells us the number of null values in each column."
   ]
  },
  {
   "cell_type": "code",
   "execution_count": 18,
   "metadata": {},
   "outputs": [
    {
     "name": "stdout",
     "output_type": "stream",
     "text": [
      "       MonthlyCharges  SeniorCitizen        Churn\n",
      "count     7043.000000    7043.000000  7043.000000\n",
      "mean        64.761692       0.162147     0.265370\n",
      "std         30.090047       0.368612     0.441561\n",
      "min         18.250000       0.000000     0.000000\n",
      "25%         35.500000       0.000000     0.000000\n",
      "50%         70.350000       0.000000     0.000000\n",
      "75%         89.850000       0.000000     1.000000\n",
      "max        118.750000       1.000000     1.000000\n",
      "       MonthlyCharges  SeniorCitizen\n",
      "Churn                               \n",
      "0           61.265124       0.128721\n",
      "1           74.441332       0.254682\n"
     ]
    }
   ],
   "source": [
    "print(final_merged_df.describe())\n",
    "\n",
    "churn_grouped_mean = final_merged_df.groupby('Churn').mean(numeric_only=True)\n",
    "print(churn_grouped_mean)"
   ]
  },
  {
   "cell_type": "code",
   "execution_count": 19,
   "metadata": {},
   "outputs": [
    {
     "data": {
      "text/html": [
       "<div>\n",
       "<style scoped>\n",
       "    .dataframe tbody tr th:only-of-type {\n",
       "        vertical-align: middle;\n",
       "    }\n",
       "\n",
       "    .dataframe tbody tr th {\n",
       "        vertical-align: top;\n",
       "    }\n",
       "\n",
       "    .dataframe thead th {\n",
       "        text-align: right;\n",
       "    }\n",
       "</style>\n",
       "<table border=\"1\" class=\"dataframe\">\n",
       "  <thead>\n",
       "    <tr style=\"text-align: right;\">\n",
       "      <th></th>\n",
       "      <th>customerID</th>\n",
       "      <th>BeginDate</th>\n",
       "      <th>EndDate</th>\n",
       "      <th>Type</th>\n",
       "      <th>PaperlessBilling</th>\n",
       "      <th>PaymentMethod</th>\n",
       "      <th>MonthlyCharges</th>\n",
       "      <th>TotalCharges</th>\n",
       "      <th>InternetService</th>\n",
       "      <th>OnlineSecurity</th>\n",
       "      <th>...</th>\n",
       "      <th>DeviceProtection</th>\n",
       "      <th>TechSupport</th>\n",
       "      <th>StreamingTV</th>\n",
       "      <th>StreamingMovies</th>\n",
       "      <th>gender</th>\n",
       "      <th>SeniorCitizen</th>\n",
       "      <th>Partner</th>\n",
       "      <th>Dependents</th>\n",
       "      <th>MultipleLines</th>\n",
       "      <th>Churn</th>\n",
       "    </tr>\n",
       "  </thead>\n",
       "  <tbody>\n",
       "    <tr>\n",
       "      <th>0</th>\n",
       "      <td>7590-VHVEG</td>\n",
       "      <td>2020-01-01</td>\n",
       "      <td>No Churn</td>\n",
       "      <td>Month-to-month</td>\n",
       "      <td>Yes</td>\n",
       "      <td>Electronic check</td>\n",
       "      <td>29.85</td>\n",
       "      <td>29.85</td>\n",
       "      <td>DSL</td>\n",
       "      <td>No</td>\n",
       "      <td>...</td>\n",
       "      <td>No</td>\n",
       "      <td>No</td>\n",
       "      <td>No</td>\n",
       "      <td>No</td>\n",
       "      <td>Female</td>\n",
       "      <td>0</td>\n",
       "      <td>Yes</td>\n",
       "      <td>No</td>\n",
       "      <td>NaN</td>\n",
       "      <td>0</td>\n",
       "    </tr>\n",
       "    <tr>\n",
       "      <th>1</th>\n",
       "      <td>5575-GNVDE</td>\n",
       "      <td>2017-04-01</td>\n",
       "      <td>No Churn</td>\n",
       "      <td>One year</td>\n",
       "      <td>No</td>\n",
       "      <td>Mailed check</td>\n",
       "      <td>56.95</td>\n",
       "      <td>1889.5</td>\n",
       "      <td>DSL</td>\n",
       "      <td>Yes</td>\n",
       "      <td>...</td>\n",
       "      <td>Yes</td>\n",
       "      <td>No</td>\n",
       "      <td>No</td>\n",
       "      <td>No</td>\n",
       "      <td>Male</td>\n",
       "      <td>0</td>\n",
       "      <td>No</td>\n",
       "      <td>No</td>\n",
       "      <td>No</td>\n",
       "      <td>0</td>\n",
       "    </tr>\n",
       "    <tr>\n",
       "      <th>2</th>\n",
       "      <td>3668-QPYBK</td>\n",
       "      <td>2019-10-01</td>\n",
       "      <td>2019-12-01 00:00:00</td>\n",
       "      <td>Month-to-month</td>\n",
       "      <td>Yes</td>\n",
       "      <td>Mailed check</td>\n",
       "      <td>53.85</td>\n",
       "      <td>108.15</td>\n",
       "      <td>DSL</td>\n",
       "      <td>Yes</td>\n",
       "      <td>...</td>\n",
       "      <td>No</td>\n",
       "      <td>No</td>\n",
       "      <td>No</td>\n",
       "      <td>No</td>\n",
       "      <td>Male</td>\n",
       "      <td>0</td>\n",
       "      <td>No</td>\n",
       "      <td>No</td>\n",
       "      <td>No</td>\n",
       "      <td>1</td>\n",
       "    </tr>\n",
       "    <tr>\n",
       "      <th>3</th>\n",
       "      <td>7795-CFOCW</td>\n",
       "      <td>2016-05-01</td>\n",
       "      <td>No Churn</td>\n",
       "      <td>One year</td>\n",
       "      <td>No</td>\n",
       "      <td>Bank transfer (automatic)</td>\n",
       "      <td>42.30</td>\n",
       "      <td>1840.75</td>\n",
       "      <td>DSL</td>\n",
       "      <td>Yes</td>\n",
       "      <td>...</td>\n",
       "      <td>Yes</td>\n",
       "      <td>Yes</td>\n",
       "      <td>No</td>\n",
       "      <td>No</td>\n",
       "      <td>Male</td>\n",
       "      <td>0</td>\n",
       "      <td>No</td>\n",
       "      <td>No</td>\n",
       "      <td>NaN</td>\n",
       "      <td>0</td>\n",
       "    </tr>\n",
       "    <tr>\n",
       "      <th>4</th>\n",
       "      <td>9237-HQITU</td>\n",
       "      <td>2019-09-01</td>\n",
       "      <td>2019-11-01 00:00:00</td>\n",
       "      <td>Month-to-month</td>\n",
       "      <td>Yes</td>\n",
       "      <td>Electronic check</td>\n",
       "      <td>70.70</td>\n",
       "      <td>151.65</td>\n",
       "      <td>Fiber optic</td>\n",
       "      <td>No</td>\n",
       "      <td>...</td>\n",
       "      <td>No</td>\n",
       "      <td>No</td>\n",
       "      <td>No</td>\n",
       "      <td>No</td>\n",
       "      <td>Female</td>\n",
       "      <td>0</td>\n",
       "      <td>No</td>\n",
       "      <td>No</td>\n",
       "      <td>No</td>\n",
       "      <td>1</td>\n",
       "    </tr>\n",
       "    <tr>\n",
       "      <th>...</th>\n",
       "      <td>...</td>\n",
       "      <td>...</td>\n",
       "      <td>...</td>\n",
       "      <td>...</td>\n",
       "      <td>...</td>\n",
       "      <td>...</td>\n",
       "      <td>...</td>\n",
       "      <td>...</td>\n",
       "      <td>...</td>\n",
       "      <td>...</td>\n",
       "      <td>...</td>\n",
       "      <td>...</td>\n",
       "      <td>...</td>\n",
       "      <td>...</td>\n",
       "      <td>...</td>\n",
       "      <td>...</td>\n",
       "      <td>...</td>\n",
       "      <td>...</td>\n",
       "      <td>...</td>\n",
       "      <td>...</td>\n",
       "      <td>...</td>\n",
       "    </tr>\n",
       "    <tr>\n",
       "      <th>7038</th>\n",
       "      <td>6840-RESVB</td>\n",
       "      <td>2018-02-01</td>\n",
       "      <td>No Churn</td>\n",
       "      <td>One year</td>\n",
       "      <td>Yes</td>\n",
       "      <td>Mailed check</td>\n",
       "      <td>84.80</td>\n",
       "      <td>1990.5</td>\n",
       "      <td>DSL</td>\n",
       "      <td>Yes</td>\n",
       "      <td>...</td>\n",
       "      <td>Yes</td>\n",
       "      <td>Yes</td>\n",
       "      <td>Yes</td>\n",
       "      <td>Yes</td>\n",
       "      <td>Male</td>\n",
       "      <td>0</td>\n",
       "      <td>Yes</td>\n",
       "      <td>Yes</td>\n",
       "      <td>Yes</td>\n",
       "      <td>0</td>\n",
       "    </tr>\n",
       "    <tr>\n",
       "      <th>7039</th>\n",
       "      <td>2234-XADUH</td>\n",
       "      <td>2014-02-01</td>\n",
       "      <td>No Churn</td>\n",
       "      <td>One year</td>\n",
       "      <td>Yes</td>\n",
       "      <td>Credit card (automatic)</td>\n",
       "      <td>103.20</td>\n",
       "      <td>7362.9</td>\n",
       "      <td>Fiber optic</td>\n",
       "      <td>No</td>\n",
       "      <td>...</td>\n",
       "      <td>Yes</td>\n",
       "      <td>No</td>\n",
       "      <td>Yes</td>\n",
       "      <td>Yes</td>\n",
       "      <td>Female</td>\n",
       "      <td>0</td>\n",
       "      <td>Yes</td>\n",
       "      <td>Yes</td>\n",
       "      <td>Yes</td>\n",
       "      <td>0</td>\n",
       "    </tr>\n",
       "    <tr>\n",
       "      <th>7040</th>\n",
       "      <td>4801-JZAZL</td>\n",
       "      <td>2019-03-01</td>\n",
       "      <td>No Churn</td>\n",
       "      <td>Month-to-month</td>\n",
       "      <td>Yes</td>\n",
       "      <td>Electronic check</td>\n",
       "      <td>29.60</td>\n",
       "      <td>346.45</td>\n",
       "      <td>DSL</td>\n",
       "      <td>Yes</td>\n",
       "      <td>...</td>\n",
       "      <td>No</td>\n",
       "      <td>No</td>\n",
       "      <td>No</td>\n",
       "      <td>No</td>\n",
       "      <td>Female</td>\n",
       "      <td>0</td>\n",
       "      <td>Yes</td>\n",
       "      <td>Yes</td>\n",
       "      <td>NaN</td>\n",
       "      <td>0</td>\n",
       "    </tr>\n",
       "    <tr>\n",
       "      <th>7041</th>\n",
       "      <td>8361-LTMKD</td>\n",
       "      <td>2019-07-01</td>\n",
       "      <td>2019-11-01 00:00:00</td>\n",
       "      <td>Month-to-month</td>\n",
       "      <td>Yes</td>\n",
       "      <td>Mailed check</td>\n",
       "      <td>74.40</td>\n",
       "      <td>306.6</td>\n",
       "      <td>Fiber optic</td>\n",
       "      <td>No</td>\n",
       "      <td>...</td>\n",
       "      <td>No</td>\n",
       "      <td>No</td>\n",
       "      <td>No</td>\n",
       "      <td>No</td>\n",
       "      <td>Male</td>\n",
       "      <td>1</td>\n",
       "      <td>Yes</td>\n",
       "      <td>No</td>\n",
       "      <td>Yes</td>\n",
       "      <td>1</td>\n",
       "    </tr>\n",
       "    <tr>\n",
       "      <th>7042</th>\n",
       "      <td>3186-AJIEK</td>\n",
       "      <td>2014-08-01</td>\n",
       "      <td>No Churn</td>\n",
       "      <td>Two year</td>\n",
       "      <td>Yes</td>\n",
       "      <td>Bank transfer (automatic)</td>\n",
       "      <td>105.65</td>\n",
       "      <td>6844.5</td>\n",
       "      <td>Fiber optic</td>\n",
       "      <td>Yes</td>\n",
       "      <td>...</td>\n",
       "      <td>Yes</td>\n",
       "      <td>Yes</td>\n",
       "      <td>Yes</td>\n",
       "      <td>Yes</td>\n",
       "      <td>Male</td>\n",
       "      <td>0</td>\n",
       "      <td>No</td>\n",
       "      <td>No</td>\n",
       "      <td>No</td>\n",
       "      <td>0</td>\n",
       "    </tr>\n",
       "  </tbody>\n",
       "</table>\n",
       "<p>7043 rows × 21 columns</p>\n",
       "</div>"
      ],
      "text/plain": [
       "      customerID   BeginDate              EndDate            Type  \\\n",
       "0     7590-VHVEG  2020-01-01             No Churn  Month-to-month   \n",
       "1     5575-GNVDE  2017-04-01             No Churn        One year   \n",
       "2     3668-QPYBK  2019-10-01  2019-12-01 00:00:00  Month-to-month   \n",
       "3     7795-CFOCW  2016-05-01             No Churn        One year   \n",
       "4     9237-HQITU  2019-09-01  2019-11-01 00:00:00  Month-to-month   \n",
       "...          ...         ...                  ...             ...   \n",
       "7038  6840-RESVB  2018-02-01             No Churn        One year   \n",
       "7039  2234-XADUH  2014-02-01             No Churn        One year   \n",
       "7040  4801-JZAZL  2019-03-01             No Churn  Month-to-month   \n",
       "7041  8361-LTMKD  2019-07-01  2019-11-01 00:00:00  Month-to-month   \n",
       "7042  3186-AJIEK  2014-08-01             No Churn        Two year   \n",
       "\n",
       "     PaperlessBilling              PaymentMethod  MonthlyCharges TotalCharges  \\\n",
       "0                 Yes           Electronic check           29.85        29.85   \n",
       "1                  No               Mailed check           56.95       1889.5   \n",
       "2                 Yes               Mailed check           53.85       108.15   \n",
       "3                  No  Bank transfer (automatic)           42.30      1840.75   \n",
       "4                 Yes           Electronic check           70.70       151.65   \n",
       "...               ...                        ...             ...          ...   \n",
       "7038              Yes               Mailed check           84.80       1990.5   \n",
       "7039              Yes    Credit card (automatic)          103.20       7362.9   \n",
       "7040              Yes           Electronic check           29.60       346.45   \n",
       "7041              Yes               Mailed check           74.40        306.6   \n",
       "7042              Yes  Bank transfer (automatic)          105.65       6844.5   \n",
       "\n",
       "     InternetService OnlineSecurity  ... DeviceProtection TechSupport  \\\n",
       "0                DSL             No  ...               No          No   \n",
       "1                DSL            Yes  ...              Yes          No   \n",
       "2                DSL            Yes  ...               No          No   \n",
       "3                DSL            Yes  ...              Yes         Yes   \n",
       "4        Fiber optic             No  ...               No          No   \n",
       "...              ...            ...  ...              ...         ...   \n",
       "7038             DSL            Yes  ...              Yes         Yes   \n",
       "7039     Fiber optic             No  ...              Yes          No   \n",
       "7040             DSL            Yes  ...               No          No   \n",
       "7041     Fiber optic             No  ...               No          No   \n",
       "7042     Fiber optic            Yes  ...              Yes         Yes   \n",
       "\n",
       "     StreamingTV StreamingMovies  gender SeniorCitizen  Partner Dependents  \\\n",
       "0             No              No  Female             0      Yes         No   \n",
       "1             No              No    Male             0       No         No   \n",
       "2             No              No    Male             0       No         No   \n",
       "3             No              No    Male             0       No         No   \n",
       "4             No              No  Female             0       No         No   \n",
       "...          ...             ...     ...           ...      ...        ...   \n",
       "7038         Yes             Yes    Male             0      Yes        Yes   \n",
       "7039         Yes             Yes  Female             0      Yes        Yes   \n",
       "7040          No              No  Female             0      Yes        Yes   \n",
       "7041          No              No    Male             1      Yes         No   \n",
       "7042         Yes             Yes    Male             0       No         No   \n",
       "\n",
       "     MultipleLines Churn  \n",
       "0              NaN     0  \n",
       "1               No     0  \n",
       "2               No     1  \n",
       "3              NaN     0  \n",
       "4               No     1  \n",
       "...            ...   ...  \n",
       "7038           Yes     0  \n",
       "7039           Yes     0  \n",
       "7040           NaN     0  \n",
       "7041           Yes     1  \n",
       "7042            No     0  \n",
       "\n",
       "[7043 rows x 21 columns]"
      ]
     },
     "execution_count": 19,
     "metadata": {},
     "output_type": "execute_result"
    }
   ],
   "source": [
    "final_merged_df"
   ]
  },
  {
   "cell_type": "code",
   "execution_count": 20,
   "metadata": {},
   "outputs": [
    {
     "data": {
      "image/png": "[encoded data removed]",
      "text/plain": [
       "<Figure size 1500x1000 with 4 Axes>"
      ]
     },
     "metadata": {},
     "output_type": "display_data"
    }
   ],
   "source": [
    "final_merged_df.hist(bins=30, figsize=(15, 10), grid=False)\n",
    "plt.show()"
   ]
  },
  {
   "cell_type": "markdown",
   "metadata": {},
   "source": [
    "This indicates the monthly charges, and compares them to churn vs if the customer is a senior citizen and should be marketed appropriately."
   ]
  },
  {
   "cell_type": "code",
   "execution_count": 21,
   "metadata": {},
   "outputs": [
    {
     "data": {
      "image/png": "[encoded data removed]",
      "text/plain": [
       "<Figure size 640x480 with 1 Axes>"
      ]
     },
     "metadata": {},
     "output_type": "display_data"
    }
   ],
   "source": [
    "# Analyze the distribution of the Churn variable\n",
    "sns.countplot(x='Churn', data=final_merged_df)\n",
    "plt.title('Distribution of Churn')\n",
    "plt.show()"
   ]
  },
  {
   "cell_type": "markdown",
   "metadata": {},
   "source": [
    "This chart analyzes the distribution of churn vs no churn customers."
   ]
  },
  {
   "cell_type": "code",
   "execution_count": 22,
   "metadata": {},
   "outputs": [
    {
     "data": {
      "image/png": "[encoded data removed]",
      "text/plain": [
       "<Figure size 558.875x500 with 6 Axes>"
      ]
     },
     "metadata": {},
     "output_type": "display_data"
    },
    {
     "data": {
      "image/png": "[encoded data removed]",
      "text/plain": [
       "<Figure size 600x300 with 2 Axes>"
      ]
     },
     "metadata": {},
     "output_type": "display_data"
    }
   ],
   "source": [
    "# Pair plots\n",
    "sns.pairplot(final_merged_df, hue='Churn', diag_kind='kde')\n",
    "plt.show()\n",
    "\n",
    "# Facet Grids\n",
    "g = sns.FacetGrid(final_merged_df, col='Churn')\n",
    "g.map(plt.hist, 'MonthlyCharges')\n",
    "plt.show()"
   ]
  },
  {
   "cell_type": "markdown",
   "metadata": {},
   "source": [
    "Another visualization of churn vs no churn."
   ]
  },
  {
   "cell_type": "code",
   "execution_count": 23,
   "metadata": {},
   "outputs": [
    {
     "data": {
      "image/png": "[encoded data removed]",
      "text/plain": [
       "<Figure size 558.875x500 with 6 Axes>"
      ]
     },
     "metadata": {},
     "output_type": "display_data"
    }
   ],
   "source": [
    "# Scatter plots\n",
    "sns.pairplot(final_merged_df, hue='Churn')\n",
    "plt.show()\n"
   ]
  },
  {
   "cell_type": "code",
   "execution_count": 27,
   "metadata": {},
   "outputs": [],
   "source": [
    "# Compute class weights\n",
    "\n",
    "features = final_merged_df.drop(columns=['customerID', 'Churn', 'EndDate'])\n",
    "target = final_merged_df['Churn']\n",
    "\n",
    "class_weights = compute_class_weight('balanced', classes=[0, 1], y=target)\n",
    "class_weights_dict = {0: class_weights[0], 1: class_weights[1]}\n",
    "\n",
    "# Initialize the model with class weights\n",
    "model = RandomForestClassifier(class_weight=class_weights_dict)\n",
    "\n",
    "# Proceed with GridSearchCV and training as shown above"
   ]
  },
  {
   "cell_type": "code",
   "execution_count": 28,
   "metadata": {},
   "outputs": [],
   "source": [
    "final_merged_df['EndDate'].replace('No', pd.NA, inplace=True)\n",
    "final_merged_df['EndDate'].fillna('No Churn', inplace=True)\n",
    "final_merged_df['Churn'] = (final_merged_df['EndDate'] != 'No Churn').astype(int)\n",
    "\n",
    "# Define feature columns and target variable\n",
    "features = final_merged_df.drop(columns=['customerID', 'Churn', 'EndDate'])\n",
    "target = final_merged_df['Churn']\n",
    "\n",
    "# Handle categorical columns using one-hot encoding\n",
    "features = pd.get_dummies(features, drop_first=True)\n",
    "\n",
    "# Standardize features if necessary\n",
    "scaler = StandardScaler()\n",
    "features_scaled = scaler.fit_transform(features)\n",
    "\n",
    "# Split the data into training and validation sets\n",
    "X_train, X_val, y_train, y_val = train_test_split(features_scaled, target, test_size=0.2, random_state=42)\n",
    "\n",
    "# Compute class weights\n",
    "class_weights = compute_class_weight('balanced', classes=[0, 1], y=target)\n",
    "class_weights_dict = {0: class_weights[0], 1: class_weights[1]}"
   ]
  },
  {
   "cell_type": "code",
   "execution_count": 29,
   "metadata": {},
   "outputs": [],
   "source": [
    "# Define parameter distribution for RandomizedSearchCV\n",
    "param_dist = {\n",
    "    'n_estimators': [150, 200, 250, 300],\n",
    "    'max_depth': [10, 20, 30],\n",
    "    'min_samples_split': [2, 5, 10],\n",
    "    'min_samples_leaf': [1, 2, 4],\n",
    "    'max_features': ['auto', 'sqrt', 'log2']\n",
    "}\n",
    "\n",
    "# Initialize RandomizedSearchCV with the model and parameter distribution\n",
    "random_search = RandomizedSearchCV(estimator=model, param_distributions=param_dist, n_iter=50,\n",
    "                                   cv=3, n_jobs=-1, scoring='roc_auc', random_state=42)\n",
    "\n",
    "# Fit RandomizedSearchCV to the training data\n",
    "random_search.fit(X_train, y_train)\n",
    "\n",
    "# Get the best model from RandomizedSearchCV\n",
    "best_model = random_search.best_estimator_\n",
    "\n",
    "# Predict probabilities on the validation set\n",
    "y_probs = best_model.predict_proba(X_val)[:, 1]\n",
    "\n",
    "# Calculate AUC-ROC\n",
    "roc_auc = roc_auc_score(y_val, y_probs)"
   ]
  },
  {
   "cell_type": "code",
   "execution_count": null,
   "metadata": {},
   "outputs": [],
   "source": []
  },
  {
   "cell_type": "code",
   "execution_count": 30,
   "metadata": {},
   "outputs": [
    {
     "data": {
      "image/png": "[encoded data removed]",
      "text/plain": [
       "<Figure size 640x480 with 1 Axes>"
      ]
     },
     "metadata": {},
     "output_type": "display_data"
    },
    {
     "name": "stdout",
     "output_type": "stream",
     "text": [
      "              precision    recall  f1-score   support\n",
      "\n",
      "           0       0.91      0.78      0.84      1036\n",
      "           1       0.56      0.78      0.65       373\n",
      "\n",
      "    accuracy                           0.78      1409\n",
      "   macro avg       0.74      0.78      0.75      1409\n",
      "weighted avg       0.82      0.78      0.79      1409\n",
      "\n",
      "ROC AUC: 0.8617\n"
     ]
    }
   ],
   "source": [
    "y_pred = best_model.predict(X_val)\n",
    "\n",
    "# Calculate AUC-ROC curve\n",
    "fpr, tpr, _ = roc_curve(y_val, y_probs)\n",
    "roc_auc = auc(fpr, tpr)\n",
    "\n",
    "# Plot AUC-ROC curve\n",
    "plt.figure()\n",
    "plt.plot(fpr, tpr, color='blue', lw=2, label='ROC curve (area = %0.2f)' % roc_auc)\n",
    "plt.plot([0, 1], [0, 1], color='red', lw=2, linestyle='--')\n",
    "plt.xlabel('False Positive Rate')\n",
    "plt.ylabel('True Positive Rate')\n",
    "plt.title('Receiver Operating Characteristic (ROC) Curve')\n",
    "plt.legend(loc=\"lower right\")\n",
    "plt.show()\n",
    "\n",
    "# Evaluate the model using classification report\n",
    "print(classification_report(y_val, y_pred))\n",
    "\n",
    "# Output the best parameters from GridSearchCV\n",
    "\n",
    "print(f\"ROC AUC: {roc_auc:.4f}\")"
   ]
  },
  {
   "cell_type": "markdown",
   "metadata": {},
   "source": [
    "This is the more informative table, showing the metrics we're looking for, including accuracy, precision and AUC-ROC over various metrics."
   ]
  },
  {
   "cell_type": "code",
   "execution_count": null,
   "metadata": {},
   "outputs": [],
   "source": [
    "final_merged_df['EndDate'].replace('No', pd.NA, inplace=True)\n",
    "final_merged_df['EndDate'].fillna('No Churn', inplace=True)\n",
    "final_merged_df['Churn'] = (final_merged_df['EndDate'] != 'No Churn').astype(int)\n",
    "\n",
    "# Define feature columns and target variable\n",
    "features = final_merged_df.drop(columns=['customerID', 'Churn', 'EndDate'])\n",
    "target = final_merged_df['Churn']\n",
    "\n",
    "# Handle categorical columns using one-hot encoding\n",
    "features = pd.get_dummies(features, drop_first=True)\n",
    "\n",
    "# Standardize features if necessary\n",
    "scaler = StandardScaler()\n",
    "features_scaled = scaler.fit_transform(features)\n",
    "\n",
    "# Split the data into training, validation, and test sets\n",
    "X_train, X_temp, y_train, y_temp = train_test_split(features_scaled, target, test_size=0.4, random_state=42)\n",
    "X_val, X_test, y_val, y_test = train_test_split(X_temp, y_temp, test_size=0.5, random_state=42)\n",
    "\n",
    "# Compute class weights using the training target variable\n",
    "class_weights = compute_class_weight(class_weight='balanced', classes=[0, 1], y=y_train)\n",
    "class_weights_dict = {0: class_weights[0], 1: class_weights[1]}\n",
    "\n",
    "# Initialize a model with class weights\n",
    "model = RandomForestClassifier(class_weight=class_weights_dict, random_state=42)\n",
    "\n",
    "# Define parameter grid for GridSearchCV\n",
    "param_grid = {\n",
    "    'n_estimators': [100, 200, 300],\n",
    "    'max_depth': [None, 10, 20, 30],\n",
    "    'min_samples_split': [2, 5, 10],\n",
    "    'min_samples_leaf': [1, 2, 4],\n",
    "    'max_features': ['auto', 'sqrt', 'log2']\n",
    "}\n",
    "# Initialize GridSearchCV with the model and parameter grid\n",
    "grid_search = GridSearchCV(estimator=model, param_grid=param_grid, cv=3, n_jobs=-1, scoring='roc_auc')\n",
    "\n",
    "# Fit GridSearchCV to the training data\n",
    "grid_search.fit(X_train, y_train)\n",
    "\n",
    "# Get the best model from GridSearchCV\n",
    "best_model = grid_search.best_estimator_\n",
    "\n",
    "# Predict on the validation set\n",
    "y_val_pred = best_model.predict(X_val)\n",
    "y_val_probs = best_model.predict_proba(X_val)[:, 1]\n",
    "\n",
    "# Calculate AUC-ROC on the validation set\n",
    "roc_auc_val = roc_auc_score(y_val, y_val_probs)\n",
    "print(f\"Validation ROC AUC: {roc_auc_val:.4f}\")\n",
    "\n",
    "# Evaluate the model using classification report on the validation set\n",
    "print(\"Validation Set Classification Report:\")\n",
    "print(classification_report(y_val, y_val_pred))\n",
    "\n",
    "# After validation, evaluate the final model on the test set\n",
    "y_test_pred = best_model.predict(X_test)\n",
    "y_test_probs = best_model.predict_proba(X_test)[:, 1]\n",
    "\n",
    "# Calculate AUC-ROC on the test set\n",
    "roc_auc_test = roc_auc_score(y_test, y_test_probs)\n",
    "print(f\"Test ROC AUC: {roc_auc_test:.4f}\")\n",
    "\n",
    "# Evaluate the model using classification report on the test set\n",
    "print(\"Test Set Classification Report:\")\n",
    "print(classification_report(y_test, y_test_pred))\n",
    "\n",
    "# Plot AUC-ROC curve for the test set\n",
    "fpr, tpr, _ = roc_curve(y_test, y_test_probs)\n",
    "roc_auc = auc(fpr, tpr)\n",
    "\n",
    "plt.figure()\n",
    "plt.plot(fpr, tpr, color='blue', lw=2, label='ROC curve (area = %0.2f)' % roc_auc)\n",
    "plt.plot([0, 1], [0, 1], color='red', lw=2, linestyle='--')\n",
    "plt.xlabel('False Positive Rate')\n",
    "plt.ylabel('True Positive Rate')\n",
    "plt.title('Receiver Operating Characteristic (ROC) Curve')\n",
    "plt.legend(loc=\"lower right\")\n",
    "plt.show()\n",
    "\n",
    "# Output the best parameters from GridSearchCV\n",
    "print(f\"Best parameters found: {grid_search.best_params_}\")"
   ]
  },
  {
   "cell_type": "markdown",
   "metadata": {},
   "source": [
    "Based on the analysis and the evaluation metrics obtained from the model, we can draw several important conclusions:\n",
    "\n",
    "Model Performance:\n",
    "\n",
    "The RandomForest model achieved an AUC-ROC score of 0.86, indicating a high level of accuracy in distinguishing between churn and non-churn customers. The AUC-ROC curve demonstrates that the model performs well in terms of both sensitivity (true positive rate) and specificity (false positive rate).\n",
    "\n",
    "Classification Metrics:\n",
    "\n",
    "Precision: The model has a precision of 0.65 for the churn class (1), meaning it correctly identifies 65% of the predicted churn instances.\n",
    "\n",
    "Recall: The recall for the churn class is 0.66, indicating that the model successfully captures 66% of the actual churn instances.\n",
    "\n",
    "F1-Score: An F1-score of 0.66 for the churn class balances precision and recall, showing that the model is effective at identifying churn without being excessively biased towards false positives or false negatives.\n",
    "\n",
    "Class Imbalance Handling:\n",
    "The class weights applied during model training helped to address the imbalance in the target variable, ensuring the model doesn't disproportionately favor the majority class (non-churn).\n",
    "\n",
    "Optimal Hyperparameters:\n",
    "The best hyperparameters found for the RandomForest model are: max_depth=None, min_samples_leaf=1, min_samples_split=5, and n_estimators=300. These hyperparameters were determined using GridSearchCV to optimize the model's performance.\n",
    "\n",
    "Visual Representation (AUC-ROC Curve):\n",
    "The ROC curve provides a visual representation of the model's true positive rate versus the false positive rate across different thresholds. The curve being significantly above the diagonal line (random guessing) confirms that the model performs well.\n",
    "\n",
    "Actionable Insights:\n",
    "With the precise metrics provided, the company can make data-driven decisions to retain customers at risk of churning by focusing on those segments with higher churn probabilities."
   ]
  },
  {
   "cell_type": "markdown",
   "metadata": {},
   "source": [
    "Based on the analysis and model evaluation, we reached the following conclusions:\n",
    "\n",
    "Effective Feature Selection: We identified several key features that significantly impact customer churn, such as contract type, monthly charges, and tenure with the company. Properly handling categorical features using one-hot encoding contributed to a better-performing model.\n",
    "Class Imbalance Handling: Addressing class imbalance in the target variable (churn) was crucial for the model's accuracy. By applying class weights, we ensured that the model appropriately handled the minority class, leading to improved precision and recall.\n",
    "Model Performance: The Random Forest model, when tuned with GridSearchCV, achieved an AUC-ROC score of 0.8613. This indicates a high level of accuracy in distinguishing between churn and non-churn customers.\n",
    "\n",
    "Precision and Recall: The model's precision, accuracy and recall scores were 0.65, 0.82 and 0.79 respectively, demonstrating its effectiveness in minimizing false positives and false negatives. These metrics are critical for business decisions, as they help in identifying true churn risks without overestimating them.\n",
    "Visualization Insights: EDA revealed interesting patterns in the data, such as the higher likelihood of churn among customers with shorter contract terms and higher monthly charges. These insights can guide strategic decisions regarding pricing and contract offerings.\n",
    "\n",
    "Overall, this project demonstrates the value of using machine learning to predict customer churn. The insights gained from EDA and model evaluation provide actionable recommendations for the telecom company to reduce churn rates and enhance customer retention.\n",
    "\n",
    "Next Steps\n",
    "Actionable Insights: Implement targeted retention strategies based on the identified key features influencing churn, such as offering discounts to high-risk customers.\n",
    "Model Deployment: Integrate the final model into the company’s operational pipeline to enable real-time churn prediction and proactive customer engagement.\n",
    "Continuous Monitoring and Improvement: Continuously monitor model performance and regularly update it with new data to maintain high predictive accuracy.\n",
    "\n",
    "By following these next steps, the telecom company can effectively leverage the insights generated from this analysis to drive business growth and customer satisfaction."
   ]
  }
 ],
 "metadata": {
  "ExecuteTimeLog": [
   {
    "duration": 5177,
    "start_time": "2024-07-25T12:36:25.954Z"
   },
   {
    "duration": 1168,
    "start_time": "2024-07-25T12:36:31.134Z"
   },
   {
    "duration": 0,
    "start_time": "2024-07-25T12:36:32.307Z"
   },
   {
    "duration": 0,
    "start_time": "2024-07-25T12:36:32.310Z"
   },
   {
    "duration": 0,
    "start_time": "2024-07-25T12:36:32.326Z"
   },
   {
    "duration": 0,
    "start_time": "2024-07-25T12:36:32.329Z"
   },
   {
    "duration": 0,
    "start_time": "2024-07-25T12:36:32.331Z"
   },
   {
    "duration": 0,
    "start_time": "2024-07-25T12:36:32.333Z"
   },
   {
    "duration": 0,
    "start_time": "2024-07-25T12:36:32.336Z"
   },
   {
    "duration": 0,
    "start_time": "2024-07-25T12:36:32.338Z"
   },
   {
    "duration": 0,
    "start_time": "2024-07-25T12:36:32.341Z"
   },
   {
    "duration": 0,
    "start_time": "2024-07-25T12:36:32.344Z"
   },
   {
    "duration": 0,
    "start_time": "2024-07-25T12:36:32.347Z"
   },
   {
    "duration": 1,
    "start_time": "2024-07-25T12:36:32.349Z"
   },
   {
    "duration": 0,
    "start_time": "2024-07-25T12:36:32.352Z"
   },
   {
    "duration": 0,
    "start_time": "2024-07-25T12:36:32.354Z"
   },
   {
    "duration": 0,
    "start_time": "2024-07-25T12:36:32.356Z"
   },
   {
    "duration": 0,
    "start_time": "2024-07-25T12:36:32.358Z"
   },
   {
    "duration": 0,
    "start_time": "2024-07-25T12:36:32.360Z"
   },
   {
    "duration": 0,
    "start_time": "2024-07-25T12:36:32.363Z"
   },
   {
    "duration": 0,
    "start_time": "2024-07-25T12:36:32.426Z"
   },
   {
    "duration": 0,
    "start_time": "2024-07-25T12:36:32.427Z"
   },
   {
    "duration": 0,
    "start_time": "2024-07-25T12:36:32.430Z"
   },
   {
    "duration": 0,
    "start_time": "2024-07-25T12:36:32.432Z"
   },
   {
    "duration": 7,
    "start_time": "2024-07-25T12:37:52.276Z"
   },
   {
    "duration": 6,
    "start_time": "2024-07-25T12:37:58.763Z"
   },
   {
    "duration": 122,
    "start_time": "2024-07-25T12:38:05.653Z"
   },
   {
    "duration": 45,
    "start_time": "2024-07-25T12:38:20.944Z"
   },
   {
    "duration": 30,
    "start_time": "2024-07-25T12:38:41.813Z"
   },
   {
    "duration": 25,
    "start_time": "2024-07-25T12:39:04.715Z"
   },
   {
    "duration": 17,
    "start_time": "2024-07-25T12:39:32.068Z"
   },
   {
    "duration": 26,
    "start_time": "2024-07-25T12:39:38.004Z"
   },
   {
    "duration": 24,
    "start_time": "2024-07-25T12:39:39.108Z"
   },
   {
    "duration": 24,
    "start_time": "2024-07-25T12:39:39.668Z"
   },
   {
    "duration": 38,
    "start_time": "2024-07-25T12:39:40.600Z"
   },
   {
    "duration": 6,
    "start_time": "2024-07-25T12:39:41.069Z"
   },
   {
    "duration": 24,
    "start_time": "2024-07-25T12:39:42.166Z"
   },
   {
    "duration": 36,
    "start_time": "2024-07-25T12:39:43.489Z"
   },
   {
    "duration": 12,
    "start_time": "2024-07-25T12:39:44.014Z"
   },
   {
    "duration": 24,
    "start_time": "2024-07-25T12:39:44.958Z"
   },
   {
    "duration": 45,
    "start_time": "2024-07-25T12:39:45.449Z"
   },
   {
    "duration": 683,
    "start_time": "2024-07-25T12:39:45.897Z"
   },
   {
    "duration": 232,
    "start_time": "2024-07-25T12:39:46.737Z"
   },
   {
    "duration": 3534,
    "start_time": "2024-07-25T12:39:48.001Z"
   },
   {
    "duration": 2841,
    "start_time": "2024-07-25T12:39:53.047Z"
   },
   {
    "duration": 28,
    "start_time": "2024-07-25T12:39:56.799Z"
   },
   {
    "duration": 26,
    "start_time": "2024-07-25T12:40:12.888Z"
   },
   {
    "duration": 28,
    "start_time": "2024-07-25T12:42:55.379Z"
   },
   {
    "duration": 9,
    "start_time": "2024-07-25T12:43:10.032Z"
   },
   {
    "duration": 1565,
    "start_time": "2024-07-25T12:43:11.395Z"
   },
   {
    "duration": 425437,
    "start_time": "2024-07-25T12:43:12.964Z"
   },
   {
    "duration": 406,
    "start_time": "2024-07-25T12:50:41.185Z"
   }
  ],
  "kernelspec": {
   "display_name": "Python 3 (ipykernel)",
   "language": "python",
   "name": "python3"
  },
  "language_info": {
   "codemirror_mode": {
    "name": "ipython",
    "version": 3
   },
   "file_extension": ".py",
   "mimetype": "text/x-python",
   "name": "python",
   "nbconvert_exporter": "python",
   "pygments_lexer": "ipython3",
   "version": "3.9.19"
  },
  "toc": {
   "base_numbering": 1,
   "nav_menu": {},
   "number_sections": true,
   "sideBar": true,
   "skip_h1_title": true,
   "title_cell": "Table of Contents",
   "title_sidebar": "Contents",
   "toc_cell": false,
   "toc_position": {},
   "toc_section_display": true,
   "toc_window_display": false
  }
 },
 "nbformat": 4,
 "nbformat_minor": 2
}
