{
 "cells": [
  {
   "cell_type": "markdown",
   "metadata": {},
   "source": [
    "# Sentiment Analysis of Customer Feedback: Model Development and Evaluation \n",
    "\n",
    "Sweet Lift Taxi company has collected historical data on taxi orders at airports. To attract more drivers during peak hours, we need to predict the amount of taxi orders for the next hour. Build a model for such a prediction.\n",
    "\n",
    "The RMSE metric on the test set should not be more than 48.\n",
    "\n"
  },
  {
   "cell_type": "markdown",
   "metadata": {},
   "source": [
    "## Preparation"
   ]
  },
  {
   "cell_type": "code",
   "execution_count": 2,
   "metadata": {},
   "outputs": [],
   "source": [
    "import pandas as pd\n",
    "import matplotlib.pyplot as plt\n",
    "from sklearn.metrics import mean_squared_error\n",
    "import numpy as np\n",
    "from statsmodels.tsa.arima.model import ARIMA\n",
    "from statsmodels.tsa.statespace.sarimax import SARIMAX\n",
    "from sklearn.ensemble import RandomForestRegressor\n",
    "from sklearn.model_selection import GridSearchCV\n",
    "from sklearn.ensemble import RandomForestRegressor\n",
    "from sklearn.metrics import make_scorer, mean_squared_error\n",
    "import itertools\n",
    "import warnings\n",
    "from sklearn.model_selection import RandomizedSearchCV\n",
    "from sklearn.ensemble import RandomForestRegressor\n",
    "from sklearn.model_selection import train_test_split\n",
    "from statsmodels.tsa.seasonal import seasonal_decompose"
   ]
  },
  {
   "cell_type": "markdown",
   "metadata": {},
   "source": [
    "## Analysis"
   ]
  },
  {
   "cell_type": "code",
   "execution_count": 3,
   "metadata": {},
   "outputs": [],
   "source": [
    "df = pd.read_csv(\"/datasets/taxi.csv\")"
   ]
  },
  {
   "cell_type": "code",
   "execution_count": 4,
   "metadata": {},
   "outputs": [
    {
     "name": "stdout",
     "output_type": "stream",
     "text": [
      "datetime      object\n",
      "num_orders     int64\n",
      "dtype: object\n"
     ]
    }
   ],
   "source": [
    "print(df.dtypes)"
   ]
  },
  {
   "cell_type": "code",
   "execution_count": 5,
   "metadata": {},
   "outputs": [
    {
     "data": {
      "text/html": [
       "<div>\n",
       "<style scoped>\n",
       "    .dataframe tbody tr th:only-of-type {\n",
       "        vertical-align: middle;\n",
       "    }\n",
       "\n",
       "    .dataframe tbody tr th {\n",
       "        vertical-align: top;\n",
       "    }\n",
       "\n",
       "    .dataframe thead th {\n",
       "        text-align: right;\n",
       "    }\n",
       "</style>\n",
       "<table border=\"1\" class=\"dataframe\">\n",
       "  <thead>\n",
       "    <tr style=\"text-align: right;\">\n",
       "      <th></th>\n",
       "      <th>datetime</th>\n",
       "      <th>num_orders</th>\n",
       "    </tr>\n",
       "  </thead>\n",
       "  <tbody>\n",
       "    <tr>\n",
       "      <th>0</th>\n",
       "      <td>2018-03-01 00:00:00</td>\n",
       "      <td>9</td>\n",
       "    </tr>\n",
       "    <tr>\n",
       "      <th>1</th>\n",
       "      <td>2018-03-01 00:10:00</td>\n",
       "      <td>14</td>\n",
       "    </tr>\n",
       "    <tr>\n",
       "      <th>2</th>\n",
       "      <td>2018-03-01 00:20:00</td>\n",
       "      <td>28</td>\n",
       "    </tr>\n",
       "    <tr>\n",
       "      <th>3</th>\n",
       "      <td>2018-03-01 00:30:00</td>\n",
       "      <td>20</td>\n",
       "    </tr>\n",
       "    <tr>\n",
       "      <th>4</th>\n",
       "      <td>2018-03-01 00:40:00</td>\n",
       "      <td>32</td>\n",
       "    </tr>\n",
       "  </tbody>\n",
       "</table>\n",
       "</div>"
      ],
      "text/plain": [
       "              datetime  num_orders\n",
       "0  2018-03-01 00:00:00           9\n",
       "1  2018-03-01 00:10:00          14\n",
       "2  2018-03-01 00:20:00          28\n",
       "3  2018-03-01 00:30:00          20\n",
       "4  2018-03-01 00:40:00          32"
      ]
     },
     "execution_count": 5,
     "metadata": {},
     "output_type": "execute_result"
    }
   ],
   "source": [
    "df.head()"
   ]
  },
  {
   "cell_type": "code",
   "execution_count": 6,
   "metadata": {},
   "outputs": [],
   "source": [
    "df['datetime'] = pd.to_datetime(df['datetime'])"
   ]
  },
  {
   "cell_type": "code",
   "execution_count": 7,
   "metadata": {},
   "outputs": [
    {
     "name": "stdout",
     "output_type": "stream",
     "text": [
      "datetime      0\n",
      "num_orders    0\n",
      "dtype: int64\n"
     ]
    }
   ],
   "source": [
    "print(df.isnull().sum())"
   ]
  },
  {
   "cell_type": "code",
   "execution_count": 8,
   "metadata": {},
   "outputs": [
    {
     "name": "stdout",
     "output_type": "stream",
     "text": [
      "                     num_orders\n",
      "datetime                       \n",
      "2018-03-01 00:00:00         124\n",
      "2018-03-01 01:00:00          85\n",
      "2018-03-01 02:00:00          71\n",
      "2018-03-01 03:00:00          66\n",
      "2018-03-01 04:00:00          43\n"
     ]
    }
   ],
   "source": [
    "df.set_index('datetime', inplace=True)\n",
    "df_resampled = df.resample('H').sum()  # Summing the number of orders for each hour\n",
    "print(df_resampled.head())"
   ]
  },
  {
   "cell_type": "code",
   "execution_count": 9,
   "metadata": {},
   "outputs": [
    {
     "data": {
      "image/png": "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",
      "text/plain": [
       "<Figure size 1200x600 with 1 Axes>"
      ]
     },
     "metadata": {},
     "output_type": "display_data"
    }
   ],
   "source": [
    "plt.figure(figsize=(12, 6))\n",
    "plt.plot(df_resampled.index, df_resampled['num_orders'])\n",
    "plt.title('Number of Taxi Orders Over Time')\n",
    "plt.xlabel('Datetime')\n",
    "plt.ylabel('Number of Orders')\n",
    "plt.show()"
   ]
  },
  {
   "cell_type": "code",
   "execution_count": 10,
   "metadata": {},
   "outputs": [
    {
     "name": "stdout",
     "output_type": "stream",
     "text": [
      "count    4416.000000\n",
      "mean       84.422781\n",
      "std        45.023853\n",
      "min         0.000000\n",
      "25%        54.000000\n",
      "50%        78.000000\n",
      "75%       107.000000\n",
      "max       462.000000\n",
      "Name: num_orders, dtype: float64\n"
     ]
    }
   ],
   "source": [
    "print(df_resampled['num_orders'].describe())"
   ]
  },
  {
   "cell_type": "code",
   "execution_count": 11,
   "metadata": {},
   "outputs": [
    {
     "data": {
      "text/plain": [
       "<Figure size 1200x800 with 0 Axes>"
      ]
     },
     "metadata": {},
     "output_type": "display_data"
    },
    {
     "data": {
      "image/png": "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",
      "text/plain": [
       "<Figure size 640x480 with 4 Axes>"
      ]
     },
     "metadata": {},
     "output_type": "display_data"
    }
   ],
   "source": [
    "df_resampled = df.resample('H').sum()  # Make sure to use your existing df_resampled\n",
    "\n",
    "# Perform time series decomposition\n",
    "decomposition = seasonal_decompose(df_resampled['num_orders'], model='additive', period=24)  # Assuming daily seasonality\n",
    "\n",
    "# Plot the decomposition\n",
    "plt.figure(figsize=(12, 8))\n",
    "decomposition.plot()\n",
    "plt.show()"
   ]
  },
  {
   "cell_type": "code",
   "execution_count": 12,
   "metadata": {},
   "outputs": [
    {
     "name": "stdout",
     "output_type": "stream",
     "text": [
      "Train RMSE: 36.1716994464752\n",
      "Test RMSE: 62.3818265237187\n"
     ]
    },
    {
     "name": "stderr",
     "output_type": "stream",
     "text": [
      "/tmp/ipykernel_35/2006170101.py:6: SettingWithCopyWarning: \n",
      "A value is trying to be set on a copy of a slice from a DataFrame.\n",
      "Try using .loc[row_indexer,col_indexer] = value instead\n",
      "\n",
      "See the caveats in the documentation: https://pandas.pydata.org/pandas-docs/stable/user_guide/indexing.html#returning-a-view-versus-a-copy\n",
      "  train['SMA'] = train['num_orders'].rolling(window=window_size).mean().shift()\n",
      "/tmp/ipykernel_35/2006170101.py:7: SettingWithCopyWarning: \n",
      "A value is trying to be set on a copy of a slice from a DataFrame.\n",
      "Try using .loc[row_indexer,col_indexer] = value instead\n",
      "\n",
      "See the caveats in the documentation: https://pandas.pydata.org/pandas-docs/stable/user_guide/indexing.html#returning-a-view-versus-a-copy\n",
      "  test['SMA'] = test['num_orders'].rolling(window=window_size).mean().shift()\n",
      "/tmp/ipykernel_35/2006170101.py:9: SettingWithCopyWarning: \n",
      "A value is trying to be set on a copy of a slice from a DataFrame\n",
      "\n",
      "See the caveats in the documentation: https://pandas.pydata.org/pandas-docs/stable/user_guide/indexing.html#returning-a-view-versus-a-copy\n",
      "  train.dropna(inplace=True)\n",
      "/tmp/ipykernel_35/2006170101.py:10: SettingWithCopyWarning: \n",
      "A value is trying to be set on a copy of a slice from a DataFrame\n",
      "\n",
      "See the caveats in the documentation: https://pandas.pydata.org/pandas-docs/stable/user_guide/indexing.html#returning-a-view-versus-a-copy\n",
      "  test.dropna(inplace=True)\n"
     ]
    }
   ],
   "source": [
    "train_size = int(len(df_resampled) * 0.9)\n",
    "train, test = df_resampled[:train_size], df_resampled[train_size:]\n",
    "\n",
    "\n",
    "window_size = 3\n",
    "train['SMA'] = train['num_orders'].rolling(window=window_size).mean().shift()\n",
    "test['SMA'] = test['num_orders'].rolling(window=window_size).mean().shift()\n",
    "\n",
    "train.dropna(inplace=True)\n",
    "test.dropna(inplace=True)\n",
    "\n",
    "train_rmse = np.sqrt(mean_squared_error(train['num_orders'], train['SMA']))\n",
    "test_rmse = np.sqrt(mean_squared_error(test['num_orders'], test['SMA']))\n",
    "\n",
    "print(f'Train RMSE: {train_rmse}')\n",
    "print(f'Test RMSE: {test_rmse}')"
   ]
  },
  {
   "cell_type": "code",
   "execution_count": 13,
   "metadata": {},
   "outputs": [],
   "source": [
    "train_size = int(len(df_resampled) * 0.9)\n",
    "train, test = df_resampled.iloc[:train_size], df_resampled.iloc[train_size:]"
   ]
  },
  {
   "cell_type": "code",
   "execution_count": 14,
   "metadata": {},
   "outputs": [],
   "source": [
    "start_date_small = '2018-01-01' \n",
    "end_date_small = '2019-01-31'   \n",
    "df_small_interval = df_resampled[start_date_small:end_date_small]\n"
   ]
  },
  {
   "cell_type": "code",
   "execution_count": 15,
   "metadata": {},
   "outputs": [
    {
     "data": {
      "text/plain": [
       "<Figure size 1200x800 with 0 Axes>"
      ]
     },
     "metadata": {},
     "output_type": "display_data"
    },
    {
     "data": {
      "image/png": "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",
      "text/plain": [
       "<Figure size 640x480 with 4 Axes>"
      ]
     },
     "metadata": {},
     "output_type": "display_data"
    }
   ],
   "source": [
    "decomposition_small = seasonal_decompose(df_small_interval, model='additive', period=24)\n",
    "plt.figure(figsize=(12, 8))\n",
    "decomposition_small.plot()\n",
    "plt.show()"
   ]
  },
  {
   "cell_type": "markdown",
   "metadata": {},
   "source": [
    "## Training"
   ]
  },
  {
   "cell_type": "code",
   "execution_count": 16,
   "metadata": {},
   "outputs": [],
   "source": [
    "df_resampled['hour'] = df_resampled.index.hour\n",
    "df_resampled['day_of_week'] = df_resampled.index.dayofweek\n",
    "df_resampled['month'] = df_resampled.index.month\n",
    "\n",
    "for lag in range(1, 24):\n",
    "    df_resampled[f'lag_{lag}'] = df_resampled['num_orders'].shift(lag)\n",
    "\n",
    "df_resampled.dropna(inplace=True)"
   ]
  },
  {
   "cell_type": "code",
   "execution_count": 17,
   "metadata": {},
   "outputs": [],
   "source": [
    "# Lag features\n",
    "for lag in range(1, 13):\n",
    "    df_resampled[f'lag_{lag}'] = df_resampled['num_orders'].shift(lag)"
   ]
  },
  {
   "cell_type": "code",
   "execution_count": 18,
   "metadata": {},
   "outputs": [],
   "source": [
    "y = df_resampled['num_orders']\n",
    "lags = df_resampled.drop('num_orders', axis=1)\n",
    "\n",
    "X_train, X_test = lags.iloc[:train_size], lags.iloc[train_size:]\n",
    "y_train, y_test = y.iloc[:train_size], y.iloc[train_size:]"
   ]
  },
  {
   "cell_type": "code",
   "execution_count": 19,
   "metadata": {},
   "outputs": [],
   "source": [
    "# Ensure there are no missing values after resampling\n",
    "df_resampled = df_resampled.dropna()\n",
    "\n",
    "# Split the data into features and target variable\n",
    "X = df_resampled.drop('num_orders', axis=1)\n",
    "y = df_resampled['num_orders']\n",
    "\n",
    "# Split data into training and testing sets (90% train, 10% test)\n",
    "X_train, X_test, y_train, y_test = train_test_split(X, y, test_size=0.1, random_state=42, shuffle=False)"
   ]
  },
  {
   "cell_type": "markdown",
   "metadata": {},
   "source": [
    "## Testing"
   ]
  },
  {
   "cell_type": "code",
   "execution_count": 20,
   "metadata": {},
   "outputs": [
    {
     "name": "stdout",
     "output_type": "stream",
     "text": [
      "ARIMA RMSE: 61.54402689978738\n"
     ]
    }
   ],
   "source": [
    "# Fit ARIMA model\n",
    "arima_model = ARIMA(train['num_orders'], order=(5, 1, 0))\n",
    "arima_model_fit = arima_model.fit()\n",
    "\n",
    "# Predict on test data\n",
    "arima_predictions = arima_model_fit.forecast(steps=len(test))\n",
    "\n",
    "# Evaluation\n",
    "arima_rmse = np.sqrt(mean_squared_error(test['num_orders'], arima_predictions))\n",
    "print(f'ARIMA RMSE: {arima_rmse}')"
   ]
  },
  {
   "cell_type": "code",
   "execution_count": 21,
   "metadata": {},
   "outputs": [
    {
     "name": "stderr",
     "output_type": "stream",
     "text": [
      "/opt/conda/envs/python3/lib/python3.9/site-packages/statsmodels/tsa/statespace/sarimax.py:978: UserWarning: Non-invertible starting MA parameters found. Using zeros as starting parameters.\n",
      "  warn('Non-invertible starting MA parameters found.'\n"
     ]
    },
    {
     "name": "stdout",
     "output_type": "stream",
     "text": [
      "Best ARIMA order: (2, 1, 2)\n",
      "ARIMA RMSE: 64.11881978394729\n"
     ]
    }
   ],
   "source": [
    "# Define a function to tune ARIMA hyperparameters\n",
    "def tune_arima(train, p_values, d_values, q_values):\n",
    "    best_aic = float('inf')\n",
    "    best_order = None\n",
    "\n",
    "    for p in p_values:\n",
    "        for d in d_values:\n",
    "            for q in q_values:\n",
    "                try:\n",
    "                    arima_model = ARIMA(train, order=(p, d, q))\n",
    "                    arima_model_fit = arima_model.fit()\n",
    "                    if arima_model_fit.aic < best_aic:\n",
    "                        best_aic = arima_model_fit.aic\n",
    "                        best_order = (p, d, q)\n",
    "                except:\n",
    "                    continue\n",
    "    return best_order\n",
    "\n",
    "# Use ranges for p, d, and q hyperparameters\n",
    "p_values = range(0, 3)\n",
    "d_values = range(0, 2)\n",
    "q_values = range(0, 3)\n",
    "\n",
    "best_order = tune_arima(y_train, p_values, d_values, q_values)\n",
    "print(f'Best ARIMA order: {best_order}')\n",
    "\n",
    "# Train the best ARIMA model and predict\n",
    "best_arima_model = ARIMA(y_train, order=best_order)\n",
    "best_arima_model_fit = best_arima_model.fit()\n",
    "arima_forecast = best_arima_model_fit.forecast(steps=len(y_test))\n",
    "\n",
    "# Evaluate ARIMA\n",
    "arima_rmse = np.sqrt(mean_squared_error(y_test, arima_forecast))\n",
    "print(f'ARIMA RMSE: {arima_rmse}')"
   ]
  },
  {
   "cell_type": "markdown",
   "metadata": {},
   "source": [
    "The ARIMA model provided a baseline performance. It captures some of the underlying patterns in the data but may struggle with seasonality and higher-order patterns."
   ]
  },
  {
   "cell_type": "code",
   "execution_count": 22,
   "metadata": {},
   "outputs": [
    {
     "name": "stdout",
     "output_type": "stream",
     "text": [
      "Random Forest RMSE: 42.93841135780018\n"
     ]
    }
   ],
   "source": [
    "# Fit Random Forest model\n",
    "rf_model = RandomForestRegressor(n_estimators=100, random_state=42)\n",
    "rf_model.fit(X_train, y_train)\n",
    "\n",
    "# Predict on test data\n",
    "rf_predictions = rf_model.predict(X_test)\n",
    "\n",
    "# Evaluation\n",
    "rf_rmse = np.sqrt(mean_squared_error(y_test, rf_predictions))\n",
    "print(f'Random Forest RMSE: {rf_rmse}')"
   ]
  },
  {
   "cell_type": "code",
   "execution_count": 23,
   "metadata": {},
   "outputs": [
    {
     "name": "stdout",
     "output_type": "stream",
     "text": [
      "Best RF parameters: {'n_estimators': 100, 'min_samples_split': 5, 'max_depth': 20}\n",
      "Best RF RMSE: 26.16132882483778\n",
      "Random Forest Test RMSE: 43.13972762721535\n"
     ]
    }
   ],
   "source": [
    "# Define the hyperparameter grid\n",
    "param_grid_rf = {\n",
    "    'n_estimators': [50, 100, 200],\n",
    "    'max_depth': [10, 20, None],\n",
    "    'min_samples_split': [2, 5, 10]\n",
    "}\n",
    "\n",
    "# Define scorer\n",
    "scorer = make_scorer(mean_squared_error, greater_is_better=False)\n",
    "\n",
    "# Initialize RandomizedSearchCV\n",
    "random_search_rf = RandomizedSearchCV(\n",
    "    estimator=RandomForestRegressor(random_state=42),\n",
    "    param_distributions=param_grid_rf,\n",
    "    scoring=scorer,\n",
    "    n_iter=10,\n",
    "    cv=3,\n",
    "    n_jobs=-1,\n",
    "    random_state=42\n",
    ")\n",
    "\n",
    "# Fit the model\n",
    "random_search_rf.fit(X_train, y_train)\n",
    "\n",
    "# Best parameters and score\n",
    "best_params_rf = random_search_rf.best_params_\n",
    "best_rmse_rf = (-random_search_rf.best_score_)**0.5\n",
    "print(f'Best RF parameters: {best_params_rf}')\n",
    "print(f'Best RF RMSE: {best_rmse_rf}')\n",
    "\n",
    "# Evaluate on test set\n",
    "rf_best_model = random_search_rf.best_estimator_\n",
    "rf_y_pred = rf_best_model.predict(X_test)\n",
    "rf_test_rmse = np.sqrt(mean_squared_error(y_test, rf_y_pred))\n",
    "print(f'Random Forest Test RMSE: {rf_test_rmse}')\n"
   ]
  },
  {
   "cell_type": "markdown",
   "metadata": {},
   "source": [
    "The Random Forest model, being a non-linear ensemble approach, often captures complex interactions in the data. Despite potential overfitting, it may still provide robust predictions if tuned correctly. However, it might not perform as well with purely time series data without significant feature engineering."
   ]
  },
  {
   "cell_type": "code",
   "execution_count": 24,
   "metadata": {},
   "outputs": [
    {
     "name": "stdout",
     "output_type": "stream",
     "text": [
      "SARIMA RMSE: 85.27946144146712\n"
     ]
    }
   ],
   "source": [
    "# Use a simpler model with reduced order complexity\n",
    "sarima_model = SARIMAX(train['num_orders'], order=(1, 1, 1), seasonal_order=(0, 1, 0, 12))\n",
    "sarima_model_fit = sarima_model.fit(disp=False)\n",
    "\n",
    "# Predict on test data\n",
    "sarima_predictions = sarima_model_fit.forecast(steps=len(test))\n",
    "\n",
    "# Evaluation\n",
    "sarima_rmse = np.sqrt(mean_squared_error(test['num_orders'], sarima_predictions))\n",
    "print(f'SARIMA RMSE: {sarima_rmse}')"
   ]
  },
  {
   "cell_type": "code",
   "execution_count": 25,
   "metadata": {},
   "outputs": [
    {
     "name": "stdout",
     "output_type": "stream",
     "text": [
      "SARIMA Test RMSE: 49.972606922733206\n"
     ]
    }
   ],
   "source": [
    "# Define the best order and seasonal order found earlier\n",
    "best_order = (1, 1, 1)\n",
    "best_seasonal_order = (1, 1, 1, 12)\n",
    "\n",
    "# Train the best SARIMA model\n",
    "best_sarima_model = SARIMAX(y_train, order=best_order, seasonal_order=best_seasonal_order)\n",
    "best_sarima_model_fit = best_sarima_model.fit(disp=False)\n",
    "\n",
    "# Make predictions\n",
    "sarima_forecast = best_sarima_model_fit.forecast(steps=len(y_test))\n",
    "\n",
    "# Evaluate\n",
    "sarima_rmse = np.sqrt(mean_squared_error(y_test, sarima_forecast))\n",
    "print(f'SARIMA Test RMSE: {sarima_rmse}')\n",
    "\n"
   ]
  },
  {
   "cell_type": "markdown",
   "metadata": {},
   "source": [
    "The SARIMA model, incorporating seasonal components, generally offers a better RMSE compared to ARIMA, as it can capture both seasonal and non-seasonal patterns. Although it took longer to compute, it provided a more accurate performance in predicting peak taxi orders."
   ]
  },
  {
   "cell_type": "markdown",
   "metadata": {},
   "source": [
    "Conclusions\n",
    "\n",
    "Comparison and Analysis\n",
    "Accuracy:\n",
    "Among the three models, The Random Forest model had the lowest RMSE, indicating it was the most accurate in predicting the number of taxi orders.\n",
    "Computational Efficiency:\n",
    "The ARIMA model was the fastest to compute but had the highest RMSE.\n",
    "The SARIMA model provided a good balance between capturing seasonal trends and accuracy but was computationally intensive.\n",
    "The Random Forest model took a moderate amount of time to train, especially with a larger number of trees or more hyperparameter tuning.\n",
    "\n",
    "Recommendations\n",
    "For Operational Use:\n",
    "If model prediction accuracy is the highest priority, implementing the Random Forest model is recommended due to its lowest RMSE.\n",
    "For a balance of quick computations and moderate accuracy, the ARIMA model might be a suitable choice, especially if predictions are needed in near real-time and seasonality is not a strong aspect of the data.\n",
    "\n",
    "Future Work:\n",
    "Consider ensemble approaches that combine predictions from multiple models to potentially leverage the strengths of each.\n",
    "Further hyperparameter tuning, especially with Random Forest, and feature engineering could refine model predictions.\n",
    "Exploration of other time series forecasting methods like Facebook Prophet or more advanced deep learning models such as LSTM or GRU could be beneficial.\n",
    "\n",
    "Business Impact\n",
    "Accurate predictions of taxi orders can help Sweet Lift Taxi company in resource allocation, ensuring more drivers are available during peak hours, ultimately leading to enhanced customer satisfaction and increased revenues."
   ]
  },
  {
   "cell_type": "markdown",
   "metadata": {},
   "source": [
    "# Review checklist"
   ]
  },
  {
   "cell_type": "markdown",
   "metadata": {},
   "source": [
    "- [x]  Jupyter Notebook is open\n",
    "- [x]  The code is error-free\n",
    "- [x]  The cells with the code have been arranged in order of execution\n",
    "- [x]  The data has been downloaded and prepared\n",
    "- [x]  The data has been analyzed\n",
    "- [x]  The model has been trained and hyperparameters have been selected\n",
    "- [x]  The models have been evaluated. Conclusion has been provided\n",
    "- [x] *RMSE* for the test set is not more than 48"
   ]
  }
 ],
 "metadata": {
  "ExecuteTimeLog": [
   {
    "duration": 443,
    "start_time": "2024-07-19T00:42:29.568Z"
   },
   {
    "duration": 1047,
    "start_time": "2024-07-19T00:43:15.656Z"
   },
   {
    "duration": 3,
    "start_time": "2024-07-19T00:43:22.676Z"
   },
   {
    "duration": 120,
    "start_time": "2024-07-19T00:43:23.223Z"
   },
   {
    "duration": 325,
    "start_time": "2024-07-19T14:17:00.697Z"
   },
   {
    "duration": 497,
    "start_time": "2024-07-19T14:17:08.695Z"
   },
   {
    "duration": 792,
    "start_time": "2024-07-19T14:17:09.402Z"
   },
   {
    "duration": 26,
    "start_time": "2024-07-19T14:18:18.582Z"
   },
   {
    "duration": 32,
    "start_time": "2024-07-19T14:18:26.909Z"
   },
   {
    "duration": 6,
    "start_time": "2024-07-19T14:18:49.441Z"
   },
   {
    "duration": 16,
    "start_time": "2024-07-19T14:19:02.888Z"
   },
   {
    "duration": 23,
    "start_time": "2024-07-19T14:19:08.810Z"
   },
   {
    "duration": 14,
    "start_time": "2024-07-19T14:19:13.447Z"
   },
   {
    "duration": 10,
    "start_time": "2024-07-19T14:19:26.496Z"
   },
   {
    "duration": 12,
    "start_time": "2024-07-19T14:22:18.073Z"
   },
   {
    "duration": 9,
    "start_time": "2024-07-19T14:22:30.399Z"
   },
   {
    "duration": 17,
    "start_time": "2024-07-19T14:22:46.887Z"
   },
   {
    "duration": 244,
    "start_time": "2024-07-19T14:23:04.235Z"
   },
   {
    "duration": 27,
    "start_time": "2024-07-19T14:23:04.840Z"
   },
   {
    "duration": 6,
    "start_time": "2024-07-19T14:23:05.071Z"
   },
   {
    "duration": 11,
    "start_time": "2024-07-19T14:23:05.271Z"
   },
   {
    "duration": 14,
    "start_time": "2024-07-19T14:23:05.504Z"
   },
   {
    "duration": 7,
    "start_time": "2024-07-19T14:23:06.155Z"
   },
   {
    "duration": 16,
    "start_time": "2024-07-19T14:23:07.171Z"
   },
   {
    "duration": 351,
    "start_time": "2024-07-19T14:23:20.307Z"
   },
   {
    "duration": 16,
    "start_time": "2024-07-19T14:23:33.679Z"
   },
   {
    "duration": 257,
    "start_time": "2024-07-19T14:23:47.480Z"
   },
   {
    "duration": 4,
    "start_time": "2024-07-19T14:24:04.324Z"
   },
   {
    "duration": 741,
    "start_time": "2024-07-19T14:24:22.650Z"
   },
   {
    "duration": 5,
    "start_time": "2024-07-19T14:25:04.894Z"
   },
   {
    "duration": 50,
    "start_time": "2024-07-19T14:25:05.676Z"
   },
   {
    "duration": 6,
    "start_time": "2024-07-19T14:25:06.175Z"
   },
   {
    "duration": 13,
    "start_time": "2024-07-19T14:25:06.500Z"
   },
   {
    "duration": 13,
    "start_time": "2024-07-19T14:25:06.902Z"
   },
   {
    "duration": 7,
    "start_time": "2024-07-19T14:25:07.233Z"
   },
   {
    "duration": 14,
    "start_time": "2024-07-19T14:25:07.475Z"
   },
   {
    "duration": 309,
    "start_time": "2024-07-19T14:25:07.741Z"
   },
   {
    "duration": 9,
    "start_time": "2024-07-19T14:25:08.112Z"
   },
   {
    "duration": 250,
    "start_time": "2024-07-19T14:25:08.567Z"
   },
   {
    "duration": 5,
    "start_time": "2024-07-19T14:25:09.724Z"
   },
   {
    "duration": 410,
    "start_time": "2024-07-19T14:25:10.193Z"
   },
   {
    "duration": 23,
    "start_time": "2024-07-19T14:25:26.195Z"
   },
   {
    "duration": 22,
    "start_time": "2024-07-19T14:25:52.457Z"
   },
   {
    "duration": 13,
    "start_time": "2024-07-19T14:27:16.858Z"
   },
   {
    "duration": 24,
    "start_time": "2024-07-19T14:27:17.436Z"
   },
   {
    "duration": 6,
    "start_time": "2024-07-19T14:27:17.669Z"
   },
   {
    "duration": 10,
    "start_time": "2024-07-19T14:27:17.878Z"
   },
   {
    "duration": 12,
    "start_time": "2024-07-19T14:27:18.083Z"
   },
   {
    "duration": 7,
    "start_time": "2024-07-19T14:27:18.260Z"
   },
   {
    "duration": 13,
    "start_time": "2024-07-19T14:27:18.450Z"
   },
   {
    "duration": 311,
    "start_time": "2024-07-19T14:27:18.645Z"
   },
   {
    "duration": 11,
    "start_time": "2024-07-19T14:27:18.961Z"
   },
   {
    "duration": 246,
    "start_time": "2024-07-19T14:27:19.045Z"
   },
   {
    "duration": 5,
    "start_time": "2024-07-19T14:27:20.070Z"
   },
   {
    "duration": 20,
    "start_time": "2024-07-19T14:27:20.520Z"
   },
   {
    "duration": 21,
    "start_time": "2024-07-19T14:27:21.198Z"
   },
   {
    "duration": 68,
    "start_time": "2024-07-19T14:27:24.704Z"
   },
   {
    "duration": 48,
    "start_time": "2024-07-19T14:28:28.835Z"
   },
   {
    "duration": 105,
    "start_time": "2024-07-19T14:28:55.476Z"
   },
   {
    "duration": 26,
    "start_time": "2024-07-19T14:28:56.140Z"
   },
   {
    "duration": 6,
    "start_time": "2024-07-19T14:28:56.395Z"
   },
   {
    "duration": 12,
    "start_time": "2024-07-19T14:28:56.635Z"
   },
   {
    "duration": 14,
    "start_time": "2024-07-19T14:28:56.880Z"
   },
   {
    "duration": 7,
    "start_time": "2024-07-19T14:28:57.107Z"
   },
   {
    "duration": 13,
    "start_time": "2024-07-19T14:28:57.363Z"
   },
   {
    "duration": 339,
    "start_time": "2024-07-19T14:28:57.562Z"
   },
   {
    "duration": 10,
    "start_time": "2024-07-19T14:28:57.906Z"
   },
   {
    "duration": 265,
    "start_time": "2024-07-19T14:28:58.036Z"
   },
   {
    "duration": 4,
    "start_time": "2024-07-19T14:28:58.651Z"
   },
   {
    "duration": 21,
    "start_time": "2024-07-19T14:28:58.879Z"
   },
   {
    "duration": 24,
    "start_time": "2024-07-19T14:28:59.341Z"
   },
   {
    "duration": 1683,
    "start_time": "2024-07-19T14:29:00.123Z"
   },
   {
    "duration": 4,
    "start_time": "2024-07-19T14:29:16.798Z"
   },
   {
    "duration": 26,
    "start_time": "2024-07-19T14:29:17.676Z"
   },
   {
    "duration": 6,
    "start_time": "2024-07-19T14:29:17.877Z"
   },
   {
    "duration": 9,
    "start_time": "2024-07-19T14:29:18.079Z"
   },
   {
    "duration": 12,
    "start_time": "2024-07-19T14:29:18.265Z"
   },
   {
    "duration": 9,
    "start_time": "2024-07-19T14:29:18.446Z"
   },
   {
    "duration": 14,
    "start_time": "2024-07-19T14:29:18.616Z"
   },
   {
    "duration": 331,
    "start_time": "2024-07-19T14:29:18.799Z"
   },
   {
    "duration": 10,
    "start_time": "2024-07-19T14:29:19.134Z"
   },
   {
    "duration": 245,
    "start_time": "2024-07-19T14:29:19.221Z"
   },
   {
    "duration": 4,
    "start_time": "2024-07-19T14:29:19.802Z"
   },
   {
    "duration": 19,
    "start_time": "2024-07-19T14:29:20.242Z"
   },
   {
    "duration": 24,
    "start_time": "2024-07-19T14:29:20.682Z"
   },
   {
    "duration": 1767,
    "start_time": "2024-07-19T14:29:21.649Z"
   },
   {
    "duration": 2201,
    "start_time": "2024-07-19T14:30:34.952Z"
   },
   {
    "duration": 87,
    "start_time": "2024-07-19T14:30:37.158Z"
   },
   {
    "duration": 7,
    "start_time": "2024-07-19T14:30:37.248Z"
   },
   {
    "duration": 17,
    "start_time": "2024-07-19T14:30:37.259Z"
   },
   {
    "duration": 30,
    "start_time": "2024-07-19T14:30:37.283Z"
   },
   {
    "duration": 13,
    "start_time": "2024-07-19T14:30:37.317Z"
   },
   {
    "duration": 20,
    "start_time": "2024-07-19T14:30:37.334Z"
   },
   {
    "duration": 570,
    "start_time": "2024-07-19T14:30:37.358Z"
   },
   {
    "duration": 20,
    "start_time": "2024-07-19T14:30:37.931Z"
   },
   {
    "duration": 408,
    "start_time": "2024-07-19T14:30:37.955Z"
   },
   {
    "duration": 7,
    "start_time": "2024-07-19T14:30:38.374Z"
   },
   {
    "duration": 33,
    "start_time": "2024-07-19T14:30:38.395Z"
   },
   {
    "duration": 34,
    "start_time": "2024-07-19T14:30:38.432Z"
   },
   {
    "duration": 25,
    "start_time": "2024-07-19T14:30:38.481Z"
   },
   {
    "duration": 2137,
    "start_time": "2024-07-19T14:30:38.510Z"
   },
   {
    "duration": 1633,
    "start_time": "2024-07-19T14:31:34.386Z"
   },
   {
    "duration": 26,
    "start_time": "2024-07-19T14:31:36.023Z"
   },
   {
    "duration": 5,
    "start_time": "2024-07-19T14:31:36.052Z"
   },
   {
    "duration": 43,
    "start_time": "2024-07-19T14:31:36.061Z"
   },
   {
    "duration": 16,
    "start_time": "2024-07-19T14:31:36.112Z"
   },
   {
    "duration": 8,
    "start_time": "2024-07-19T14:31:36.131Z"
   },
   {
    "duration": 17,
    "start_time": "2024-07-19T14:31:36.143Z"
   },
   {
    "duration": 364,
    "start_time": "2024-07-19T14:31:36.204Z"
   },
   {
    "duration": 10,
    "start_time": "2024-07-19T14:31:36.572Z"
   },
   {
    "duration": 286,
    "start_time": "2024-07-19T14:31:36.585Z"
   },
   {
    "duration": 5,
    "start_time": "2024-07-19T14:31:36.874Z"
   },
   {
    "duration": 38,
    "start_time": "2024-07-19T14:31:36.882Z"
   },
   {
    "duration": 23,
    "start_time": "2024-07-19T14:31:36.924Z"
   },
   {
    "duration": 7,
    "start_time": "2024-07-19T14:31:36.952Z"
   },
   {
    "duration": 1705,
    "start_time": "2024-07-19T14:31:37.002Z"
   },
   {
    "duration": 3798,
    "start_time": "2024-07-19T14:31:38.711Z"
   },
   {
    "duration": 7749,
    "start_time": "2024-07-19T14:32:52.361Z"
   },
   {
    "duration": 7,
    "start_time": "2024-07-19T14:34:19.146Z"
   },
   {
    "duration": 442,
    "start_time": "2024-07-19T14:40:49.666Z"
   },
   {
    "duration": 1695,
    "start_time": "2024-07-19T14:40:57.806Z"
   },
   {
    "duration": 33,
    "start_time": "2024-07-19T14:40:59.506Z"
   },
   {
    "duration": 7,
    "start_time": "2024-07-19T14:40:59.543Z"
   },
   {
    "duration": 14,
    "start_time": "2024-07-19T14:40:59.554Z"
   },
   {
    "duration": 13,
    "start_time": "2024-07-19T14:40:59.604Z"
   },
   {
    "duration": 8,
    "start_time": "2024-07-19T14:40:59.621Z"
   },
   {
    "duration": 16,
    "start_time": "2024-07-19T14:40:59.632Z"
   },
   {
    "duration": 387,
    "start_time": "2024-07-19T14:40:59.651Z"
   },
   {
    "duration": 10,
    "start_time": "2024-07-19T14:41:00.042Z"
   },
   {
    "duration": 263,
    "start_time": "2024-07-19T14:41:00.055Z"
   },
   {
    "duration": 5,
    "start_time": "2024-07-19T14:41:00.321Z"
   },
   {
    "duration": 22,
    "start_time": "2024-07-19T14:41:00.329Z"
   },
   {
    "duration": 58,
    "start_time": "2024-07-19T14:41:00.354Z"
   },
   {
    "duration": 7,
    "start_time": "2024-07-19T14:41:00.417Z"
   },
   {
    "duration": 1639,
    "start_time": "2024-07-19T14:42:40.510Z"
   },
   {
    "duration": 25,
    "start_time": "2024-07-19T14:42:42.153Z"
   },
   {
    "duration": 20,
    "start_time": "2024-07-19T14:42:42.181Z"
   },
   {
    "duration": 13,
    "start_time": "2024-07-19T14:42:42.205Z"
   },
   {
    "duration": 12,
    "start_time": "2024-07-19T14:42:42.221Z"
   },
   {
    "duration": 6,
    "start_time": "2024-07-19T14:42:42.237Z"
   },
   {
    "duration": 56,
    "start_time": "2024-07-19T14:42:42.247Z"
   },
   {
    "duration": 370,
    "start_time": "2024-07-19T14:42:42.307Z"
   },
   {
    "duration": 10,
    "start_time": "2024-07-19T14:42:42.680Z"
   },
   {
    "duration": 262,
    "start_time": "2024-07-19T14:42:42.696Z"
   },
   {
    "duration": 5,
    "start_time": "2024-07-19T14:42:42.961Z"
   },
   {
    "duration": 43,
    "start_time": "2024-07-19T14:42:42.970Z"
   },
   {
    "duration": 23,
    "start_time": "2024-07-19T14:42:43.017Z"
   },
   {
    "duration": 8,
    "start_time": "2024-07-19T14:42:43.043Z"
   },
   {
    "duration": 176689,
    "start_time": "2024-07-19T14:42:43.055Z"
   },
   {
    "duration": 0,
    "start_time": "2024-07-19T14:45:39.747Z"
   },
   {
    "duration": 0,
    "start_time": "2024-07-19T14:45:39.750Z"
   },
   {
    "duration": 0,
    "start_time": "2024-07-19T14:45:39.753Z"
   },
   {
    "duration": 0,
    "start_time": "2024-07-19T14:45:39.756Z"
   },
   {
    "duration": 0,
    "start_time": "2024-07-19T14:45:39.759Z"
   },
   {
    "duration": 35,
    "start_time": "2024-07-19T14:45:44.716Z"
   },
   {
    "duration": 1693,
    "start_time": "2024-07-19T14:45:54.482Z"
   },
   {
    "duration": 40,
    "start_time": "2024-07-19T14:45:56.178Z"
   },
   {
    "duration": 7,
    "start_time": "2024-07-19T14:45:56.221Z"
   },
   {
    "duration": 14,
    "start_time": "2024-07-19T14:45:56.231Z"
   },
   {
    "duration": 12,
    "start_time": "2024-07-19T14:45:56.250Z"
   },
   {
    "duration": 10,
    "start_time": "2024-07-19T14:45:56.305Z"
   },
   {
    "duration": 29,
    "start_time": "2024-07-19T14:45:56.319Z"
   },
   {
    "duration": 381,
    "start_time": "2024-07-19T14:45:56.353Z"
   },
   {
    "duration": 11,
    "start_time": "2024-07-19T14:45:56.738Z"
   },
   {
    "duration": 270,
    "start_time": "2024-07-19T14:45:56.752Z"
   },
   {
    "duration": 5,
    "start_time": "2024-07-19T14:45:57.024Z"
   },
   {
    "duration": 25,
    "start_time": "2024-07-19T14:45:57.033Z"
   },
   {
    "duration": 56,
    "start_time": "2024-07-19T14:45:57.061Z"
   },
   {
    "duration": 8,
    "start_time": "2024-07-19T14:45:57.123Z"
   },
   {
    "duration": 491,
    "start_time": "2024-07-19T14:45:57.134Z"
   },
   {
    "duration": 0,
    "start_time": "2024-07-19T14:45:57.629Z"
   },
   {
    "duration": 0,
    "start_time": "2024-07-19T14:45:57.632Z"
   },
   {
    "duration": 0,
    "start_time": "2024-07-19T14:45:57.635Z"
   },
   {
    "duration": 0,
    "start_time": "2024-07-19T14:45:57.638Z"
   },
   {
    "duration": 0,
    "start_time": "2024-07-19T14:45:57.641Z"
   },
   {
    "duration": 7,
    "start_time": "2024-07-19T14:46:17.615Z"
   },
   {
    "duration": 25,
    "start_time": "2024-07-19T14:46:18.320Z"
   },
   {
    "duration": 6,
    "start_time": "2024-07-19T14:46:18.686Z"
   },
   {
    "duration": 10,
    "start_time": "2024-07-19T14:46:19.013Z"
   },
   {
    "duration": 12,
    "start_time": "2024-07-19T14:46:19.341Z"
   },
   {
    "duration": 8,
    "start_time": "2024-07-19T14:46:19.628Z"
   },
   {
    "duration": 13,
    "start_time": "2024-07-19T14:46:19.929Z"
   },
   {
    "duration": 305,
    "start_time": "2024-07-19T14:46:20.211Z"
   },
   {
    "duration": 11,
    "start_time": "2024-07-19T14:46:20.553Z"
   },
   {
    "duration": 240,
    "start_time": "2024-07-19T14:46:20.954Z"
   },
   {
    "duration": 5,
    "start_time": "2024-07-19T14:46:21.832Z"
   },
   {
    "duration": 18,
    "start_time": "2024-07-19T14:46:22.127Z"
   },
   {
    "duration": 21,
    "start_time": "2024-07-19T14:46:22.427Z"
   },
   {
    "duration": 8,
    "start_time": "2024-07-19T14:46:22.705Z"
   },
   {
    "duration": 124,
    "start_time": "2024-07-19T14:46:23.352Z"
   },
   {
    "duration": 11,
    "start_time": "2024-07-19T14:49:43.331Z"
   },
   {
    "duration": 37,
    "start_time": "2024-07-19T14:49:55.008Z"
   },
   {
    "duration": 6,
    "start_time": "2024-07-19T14:50:29.511Z"
   },
   {
    "duration": 25,
    "start_time": "2024-07-19T14:50:30.161Z"
   },
   {
    "duration": 5,
    "start_time": "2024-07-19T14:50:30.438Z"
   },
   {
    "duration": 10,
    "start_time": "2024-07-19T14:50:30.668Z"
   },
   {
    "duration": 12,
    "start_time": "2024-07-19T14:50:30.913Z"
   },
   {
    "duration": 7,
    "start_time": "2024-07-19T14:50:31.157Z"
   },
   {
    "duration": 13,
    "start_time": "2024-07-19T14:50:31.400Z"
   },
   {
    "duration": 303,
    "start_time": "2024-07-19T14:50:31.637Z"
   },
   {
    "duration": 10,
    "start_time": "2024-07-19T14:50:31.943Z"
   },
   {
    "duration": 248,
    "start_time": "2024-07-19T14:50:32.103Z"
   },
   {
    "duration": 4,
    "start_time": "2024-07-19T14:50:32.864Z"
   },
   {
    "duration": 20,
    "start_time": "2024-07-19T14:50:33.100Z"
   },
   {
    "duration": 21,
    "start_time": "2024-07-19T14:50:33.344Z"
   },
   {
    "duration": 9,
    "start_time": "2024-07-19T14:50:33.613Z"
   },
   {
    "duration": 32,
    "start_time": "2024-07-19T14:50:34.121Z"
   },
   {
    "duration": 1577,
    "start_time": "2024-07-19T14:50:35.228Z"
   },
   {
    "duration": 87995,
    "start_time": "2024-07-19T14:50:36.811Z"
   },
   {
    "duration": 3917,
    "start_time": "2024-07-19T14:52:04.809Z"
   },
   {
    "duration": 7709,
    "start_time": "2024-07-19T14:52:08.729Z"
   },
   {
    "duration": 1673,
    "start_time": "2024-07-19T14:54:00.305Z"
   },
   {
    "duration": 31,
    "start_time": "2024-07-19T14:54:01.983Z"
   },
   {
    "duration": 6,
    "start_time": "2024-07-19T14:54:02.017Z"
   },
   {
    "duration": 15,
    "start_time": "2024-07-19T14:54:02.029Z"
   },
   {
    "duration": 14,
    "start_time": "2024-07-19T14:54:02.047Z"
   },
   {
    "duration": 9,
    "start_time": "2024-07-19T14:54:02.102Z"
   },
   {
    "duration": 16,
    "start_time": "2024-07-19T14:54:02.114Z"
   },
   {
    "duration": 360,
    "start_time": "2024-07-19T14:54:02.134Z"
   },
   {
    "duration": 11,
    "start_time": "2024-07-19T14:54:02.497Z"
   },
   {
    "duration": 288,
    "start_time": "2024-07-19T14:54:02.513Z"
   },
   {
    "duration": 5,
    "start_time": "2024-07-19T14:54:02.805Z"
   },
   {
    "duration": 23,
    "start_time": "2024-07-19T14:54:02.813Z"
   },
   {
    "duration": 63,
    "start_time": "2024-07-19T14:54:02.839Z"
   },
   {
    "duration": 7,
    "start_time": "2024-07-19T14:54:02.904Z"
   },
   {
    "duration": 166775,
    "start_time": "2024-07-19T14:54:02.914Z"
   },
   {
    "duration": 0,
    "start_time": "2024-07-19T14:56:49.694Z"
   },
   {
    "duration": 0,
    "start_time": "2024-07-19T14:56:49.705Z"
   },
   {
    "duration": 0,
    "start_time": "2024-07-19T14:56:49.708Z"
   },
   {
    "duration": 0,
    "start_time": "2024-07-19T14:56:49.712Z"
   },
   {
    "duration": 0,
    "start_time": "2024-07-19T14:56:49.714Z"
   },
   {
    "duration": 1678,
    "start_time": "2024-07-19T14:58:43.496Z"
   },
   {
    "duration": 34,
    "start_time": "2024-07-19T14:58:45.177Z"
   },
   {
    "duration": 6,
    "start_time": "2024-07-19T14:58:45.214Z"
   },
   {
    "duration": 14,
    "start_time": "2024-07-19T14:58:45.223Z"
   },
   {
    "duration": 12,
    "start_time": "2024-07-19T14:58:45.242Z"
   },
   {
    "duration": 46,
    "start_time": "2024-07-19T14:58:45.258Z"
   },
   {
    "duration": 16,
    "start_time": "2024-07-19T14:58:45.307Z"
   },
   {
    "duration": 376,
    "start_time": "2024-07-19T14:58:45.326Z"
   },
   {
    "duration": 10,
    "start_time": "2024-07-19T14:58:45.706Z"
   },
   {
    "duration": 295,
    "start_time": "2024-07-19T14:58:45.719Z"
   },
   {
    "duration": 5,
    "start_time": "2024-07-19T14:58:46.018Z"
   },
   {
    "duration": 23,
    "start_time": "2024-07-19T14:58:46.027Z"
   },
   {
    "duration": 67,
    "start_time": "2024-07-19T14:58:46.053Z"
   },
   {
    "duration": 7,
    "start_time": "2024-07-19T14:58:46.128Z"
   },
   {
    "duration": 65,
    "start_time": "2024-07-19T14:58:46.140Z"
   },
   {
    "duration": 1792,
    "start_time": "2024-07-19T14:58:46.210Z"
   },
   {
    "duration": 45612,
    "start_time": "2024-07-19T14:58:48.006Z"
   },
   {
    "duration": 3857,
    "start_time": "2024-07-19T14:59:33.623Z"
   },
   {
    "duration": 89133,
    "start_time": "2024-07-19T14:59:37.484Z"
   },
   {
    "duration": 7744,
    "start_time": "2024-07-19T15:01:06.620Z"
   },
   {
    "duration": 1675,
    "start_time": "2024-07-19T15:09:28.580Z"
   },
   {
    "duration": 31,
    "start_time": "2024-07-19T15:09:30.259Z"
   },
   {
    "duration": 6,
    "start_time": "2024-07-19T15:09:30.301Z"
   },
   {
    "duration": 15,
    "start_time": "2024-07-19T15:09:30.310Z"
   },
   {
    "duration": 12,
    "start_time": "2024-07-19T15:09:30.330Z"
   },
   {
    "duration": 8,
    "start_time": "2024-07-19T15:09:30.346Z"
   },
   {
    "duration": 58,
    "start_time": "2024-07-19T15:09:30.358Z"
   },
   {
    "duration": 380,
    "start_time": "2024-07-19T15:09:30.422Z"
   },
   {
    "duration": 12,
    "start_time": "2024-07-19T15:09:30.806Z"
   },
   {
    "duration": 288,
    "start_time": "2024-07-19T15:09:30.821Z"
   },
   {
    "duration": 5,
    "start_time": "2024-07-19T15:09:31.113Z"
   },
   {
    "duration": 24,
    "start_time": "2024-07-19T15:09:31.122Z"
   },
   {
    "duration": 78,
    "start_time": "2024-07-19T15:09:31.151Z"
   },
   {
    "duration": 17,
    "start_time": "2024-07-19T15:09:31.237Z"
   },
   {
    "duration": 8,
    "start_time": "2024-07-19T15:09:31.257Z"
   },
   {
    "duration": 31,
    "start_time": "2024-07-19T15:09:31.302Z"
   },
   {
    "duration": 1868,
    "start_time": "2024-07-19T15:09:31.337Z"
   },
   {
    "duration": 45402,
    "start_time": "2024-07-19T15:09:33.208Z"
   },
   {
    "duration": 3752,
    "start_time": "2024-07-19T15:10:18.613Z"
   },
   {
    "duration": 74556,
    "start_time": "2024-07-19T15:10:22.368Z"
   },
   {
    "duration": 7800,
    "start_time": "2024-07-19T15:11:36.930Z"
   },
   {
    "duration": 72150,
    "start_time": "2024-07-19T15:11:44.733Z"
   },
   {
    "duration": 22,
    "start_time": "2024-07-20T09:10:07.248Z"
   },
   {
    "duration": 5541,
    "start_time": "2024-07-20T14:34:30.919Z"
   },
   {
    "duration": 38,
    "start_time": "2024-07-20T14:34:36.463Z"
   },
   {
    "duration": 6,
    "start_time": "2024-07-20T14:34:36.503Z"
   },
   {
    "duration": 21,
    "start_time": "2024-07-20T14:34:36.513Z"
   },
   {
    "duration": 14,
    "start_time": "2024-07-20T14:34:36.537Z"
   },
   {
    "duration": 6,
    "start_time": "2024-07-20T14:34:36.555Z"
   },
   {
    "duration": 111,
    "start_time": "2024-07-20T14:34:36.564Z"
   },
   {
    "duration": 369,
    "start_time": "2024-07-20T14:34:36.678Z"
   },
   {
    "duration": 10,
    "start_time": "2024-07-20T14:34:37.050Z"
   },
   {
    "duration": 866,
    "start_time": "2024-07-20T14:34:37.067Z"
   },
   {
    "duration": 5,
    "start_time": "2024-07-20T14:34:37.937Z"
   },
   {
    "duration": 25,
    "start_time": "2024-07-20T14:34:37.946Z"
   },
   {
    "duration": 70,
    "start_time": "2024-07-20T14:34:37.975Z"
   },
   {
    "duration": 13,
    "start_time": "2024-07-20T14:34:38.048Z"
   },
   {
    "duration": 6,
    "start_time": "2024-07-20T14:34:38.064Z"
   },
   {
    "duration": 62,
    "start_time": "2024-07-20T14:34:38.073Z"
   },
   {
    "duration": 1793,
    "start_time": "2024-07-20T14:34:38.138Z"
   },
   {
    "duration": 44417,
    "start_time": "2024-07-20T14:34:39.934Z"
   },
   {
    "duration": 3795,
    "start_time": "2024-07-20T14:35:24.355Z"
   },
   {
    "duration": 72170,
    "start_time": "2024-07-20T14:35:28.153Z"
   },
   {
    "duration": 7751,
    "start_time": "2024-07-20T14:36:40.331Z"
   },
   {
    "duration": 72233,
    "start_time": "2024-07-20T14:36:48.086Z"
   },
   {
    "duration": 1523,
    "start_time": "2024-07-20T14:39:43.447Z"
   },
   {
    "duration": 25,
    "start_time": "2024-07-20T14:39:44.974Z"
   },
   {
    "duration": 5,
    "start_time": "2024-07-20T14:39:45.002Z"
   },
   {
    "duration": 13,
    "start_time": "2024-07-20T14:39:45.032Z"
   },
   {
    "duration": 13,
    "start_time": "2024-07-20T14:39:45.049Z"
   },
   {
    "duration": 8,
    "start_time": "2024-07-20T14:39:45.064Z"
   },
   {
    "duration": 55,
    "start_time": "2024-07-20T14:39:45.075Z"
   },
   {
    "duration": 346,
    "start_time": "2024-07-20T14:39:45.133Z"
   },
   {
    "duration": 450,
    "start_time": "2024-07-20T14:39:45.482Z"
   },
   {
    "duration": 0,
    "start_time": "2024-07-20T14:39:45.936Z"
   },
   {
    "duration": 0,
    "start_time": "2024-07-20T14:39:45.938Z"
   },
   {
    "duration": 0,
    "start_time": "2024-07-20T14:39:45.940Z"
   },
   {
    "duration": 0,
    "start_time": "2024-07-20T14:39:45.943Z"
   },
   {
    "duration": 0,
    "start_time": "2024-07-20T14:39:45.945Z"
   },
   {
    "duration": 0,
    "start_time": "2024-07-20T14:39:45.948Z"
   },
   {
    "duration": 0,
    "start_time": "2024-07-20T14:39:45.950Z"
   },
   {
    "duration": 0,
    "start_time": "2024-07-20T14:39:45.952Z"
   },
   {
    "duration": 0,
    "start_time": "2024-07-20T14:39:45.954Z"
   },
   {
    "duration": 0,
    "start_time": "2024-07-20T14:39:45.956Z"
   },
   {
    "duration": 0,
    "start_time": "2024-07-20T14:39:45.958Z"
   },
   {
    "duration": 0,
    "start_time": "2024-07-20T14:39:45.960Z"
   },
   {
    "duration": 0,
    "start_time": "2024-07-20T14:39:45.961Z"
   },
   {
    "duration": 1483,
    "start_time": "2024-07-20T14:40:53.790Z"
   },
   {
    "duration": 25,
    "start_time": "2024-07-20T14:40:55.277Z"
   },
   {
    "duration": 6,
    "start_time": "2024-07-20T14:40:55.305Z"
   },
   {
    "duration": 14,
    "start_time": "2024-07-20T14:40:55.333Z"
   },
   {
    "duration": 12,
    "start_time": "2024-07-20T14:40:55.350Z"
   },
   {
    "duration": 9,
    "start_time": "2024-07-20T14:40:55.365Z"
   },
   {
    "duration": 55,
    "start_time": "2024-07-20T14:40:55.377Z"
   },
   {
    "duration": 348,
    "start_time": "2024-07-20T14:40:55.435Z"
   },
   {
    "duration": 10,
    "start_time": "2024-07-20T14:40:55.786Z"
   },
   {
    "duration": 812,
    "start_time": "2024-07-20T14:40:55.801Z"
   },
   {
    "duration": 456,
    "start_time": "2024-07-20T14:40:56.617Z"
   },
   {
    "duration": 0,
    "start_time": "2024-07-20T14:40:57.075Z"
   },
   {
    "duration": 0,
    "start_time": "2024-07-20T14:40:57.079Z"
   },
   {
    "duration": 0,
    "start_time": "2024-07-20T14:40:57.081Z"
   },
   {
    "duration": 0,
    "start_time": "2024-07-20T14:40:57.083Z"
   },
   {
    "duration": 0,
    "start_time": "2024-07-20T14:40:57.085Z"
   },
   {
    "duration": 0,
    "start_time": "2024-07-20T14:40:57.087Z"
   },
   {
    "duration": 0,
    "start_time": "2024-07-20T14:40:57.090Z"
   },
   {
    "duration": 0,
    "start_time": "2024-07-20T14:40:57.093Z"
   },
   {
    "duration": 0,
    "start_time": "2024-07-20T14:40:57.095Z"
   },
   {
    "duration": 0,
    "start_time": "2024-07-20T14:40:57.131Z"
   },
   {
    "duration": 0,
    "start_time": "2024-07-20T14:40:57.133Z"
   },
   {
    "duration": 1705,
    "start_time": "2024-07-20T14:43:09.315Z"
   },
   {
    "duration": 28,
    "start_time": "2024-07-20T14:43:11.026Z"
   },
   {
    "duration": 8,
    "start_time": "2024-07-20T14:43:11.057Z"
   },
   {
    "duration": 15,
    "start_time": "2024-07-20T14:43:11.072Z"
   },
   {
    "duration": 41,
    "start_time": "2024-07-20T14:43:11.090Z"
   },
   {
    "duration": 9,
    "start_time": "2024-07-20T14:43:11.135Z"
   },
   {
    "duration": 16,
    "start_time": "2024-07-20T14:43:11.148Z"
   },
   {
    "duration": 396,
    "start_time": "2024-07-20T14:43:11.170Z"
   },
   {
    "duration": 10,
    "start_time": "2024-07-20T14:43:11.569Z"
   },
   {
    "duration": 957,
    "start_time": "2024-07-20T14:43:11.586Z"
   },
   {
    "duration": 25,
    "start_time": "2024-07-20T14:43:12.546Z"
   },
   {
    "duration": 5,
    "start_time": "2024-07-20T14:43:12.575Z"
   },
   {
    "duration": 39,
    "start_time": "2024-07-20T14:43:12.615Z"
   },
   {
    "duration": 21,
    "start_time": "2024-07-20T14:43:12.657Z"
   },
   {
    "duration": 13,
    "start_time": "2024-07-20T14:43:12.682Z"
   },
   {
    "duration": 50,
    "start_time": "2024-07-20T14:43:12.700Z"
   },
   {
    "duration": 1777,
    "start_time": "2024-07-20T14:43:12.754Z"
   },
   {
    "duration": 48797,
    "start_time": "2024-07-20T14:43:14.534Z"
   },
   {
    "duration": 7069,
    "start_time": "2024-07-20T14:44:03.335Z"
   },
   {
    "duration": 131544,
    "start_time": "2024-07-20T14:44:10.410Z"
   },
   {
    "duration": 9532,
    "start_time": "2024-07-20T14:46:21.957Z"
   },
   {
    "duration": 72238,
    "start_time": "2024-07-20T14:46:31.495Z"
   },
   {
    "duration": 13,
    "start_time": "2024-07-20T20:35:56.393Z"
   },
   {
    "duration": 316,
    "start_time": "2024-07-20T22:23:35.290Z"
   },
   {
    "duration": 5315,
    "start_time": "2024-07-20T22:23:53.192Z"
   },
   {
    "duration": 44,
    "start_time": "2024-07-20T22:23:58.512Z"
   },
   {
    "duration": 7,
    "start_time": "2024-07-20T22:23:58.561Z"
   },
   {
    "duration": 17,
    "start_time": "2024-07-20T22:23:58.573Z"
   },
   {
    "duration": 40,
    "start_time": "2024-07-20T22:23:58.593Z"
   },
   {
    "duration": 8,
    "start_time": "2024-07-20T22:23:58.637Z"
   },
   {
    "duration": 21,
    "start_time": "2024-07-20T22:23:58.649Z"
   },
   {
    "duration": 393,
    "start_time": "2024-07-20T22:23:58.674Z"
   },
   {
    "duration": 12,
    "start_time": "2024-07-20T22:23:59.071Z"
   },
   {
    "duration": 904,
    "start_time": "2024-07-20T22:23:59.090Z"
   },
   {
    "duration": 43,
    "start_time": "2024-07-20T22:23:59.998Z"
   },
   {
    "duration": 8,
    "start_time": "2024-07-20T22:24:00.046Z"
   },
   {
    "duration": 1833,
    "start_time": "2024-07-20T22:24:00.057Z"
   },
   {
    "duration": 0,
    "start_time": "2024-07-20T22:24:01.894Z"
   },
   {
    "duration": 0,
    "start_time": "2024-07-20T22:24:01.896Z"
   },
   {
    "duration": 0,
    "start_time": "2024-07-20T22:24:01.898Z"
   },
   {
    "duration": 0,
    "start_time": "2024-07-20T22:24:01.900Z"
   },
   {
    "duration": 0,
    "start_time": "2024-07-20T22:24:01.903Z"
   },
   {
    "duration": 0,
    "start_time": "2024-07-20T22:24:01.905Z"
   },
   {
    "duration": 0,
    "start_time": "2024-07-20T22:24:01.908Z"
   },
   {
    "duration": 0,
    "start_time": "2024-07-20T22:24:01.931Z"
   },
   {
    "duration": 0,
    "start_time": "2024-07-20T22:24:01.934Z"
   },
   {
    "duration": 0,
    "start_time": "2024-07-20T22:24:01.936Z"
   },
   {
    "duration": 0,
    "start_time": "2024-07-20T22:24:01.939Z"
   },
   {
    "duration": 6,
    "start_time": "2024-07-20T22:24:50.523Z"
   },
   {
    "duration": 6,
    "start_time": "2024-07-20T22:24:59.000Z"
   },
   {
    "duration": 73,
    "start_time": "2024-07-20T22:24:59.355Z"
   },
   {
    "duration": 6,
    "start_time": "2024-07-20T22:25:13.919Z"
   },
   {
    "duration": 728,
    "start_time": "2024-07-20T22:25:14.378Z"
   },
   {
    "duration": 16,
    "start_time": "2024-07-20T22:25:58.596Z"
   },
   {
    "duration": 32,
    "start_time": "2024-07-20T22:26:00.095Z"
   },
   {
    "duration": 10,
    "start_time": "2024-07-20T22:26:16.648Z"
   },
   {
    "duration": 6,
    "start_time": "2024-07-20T22:26:16.991Z"
   },
   {
    "duration": 13,
    "start_time": "2024-07-20T22:26:17.377Z"
   },
   {
    "duration": 1681,
    "start_time": "2024-07-20T22:26:20.759Z"
   },
   {
    "duration": 46893,
    "start_time": "2024-07-20T22:26:22.444Z"
   },
   {
    "duration": 7087,
    "start_time": "2024-07-20T22:27:09.340Z"
   },
   {
    "duration": 1533,
    "start_time": "2024-07-20T22:27:26.140Z"
   },
   {
    "duration": 25,
    "start_time": "2024-07-20T22:27:27.677Z"
   },
   {
    "duration": 6,
    "start_time": "2024-07-20T22:27:27.704Z"
   },
   {
    "duration": 12,
    "start_time": "2024-07-20T22:27:27.732Z"
   },
   {
    "duration": 26,
    "start_time": "2024-07-20T22:27:27.752Z"
   },
   {
    "duration": 8,
    "start_time": "2024-07-20T22:27:27.781Z"
   },
   {
    "duration": 15,
    "start_time": "2024-07-20T22:27:27.791Z"
   },
   {
    "duration": 345,
    "start_time": "2024-07-20T22:27:27.830Z"
   },
   {
    "duration": 11,
    "start_time": "2024-07-20T22:27:28.178Z"
   },
   {
    "duration": 789,
    "start_time": "2024-07-20T22:27:28.191Z"
   },
   {
    "duration": 21,
    "start_time": "2024-07-20T22:27:28.983Z"
   },
   {
    "duration": 23,
    "start_time": "2024-07-20T22:27:29.007Z"
   },
   {
    "duration": 7,
    "start_time": "2024-07-20T22:27:29.033Z"
   },
   {
    "duration": 758,
    "start_time": "2024-07-20T22:27:29.047Z"
   },
   {
    "duration": 43,
    "start_time": "2024-07-20T22:27:29.808Z"
   },
   {
    "duration": 10,
    "start_time": "2024-07-20T22:27:29.854Z"
   },
   {
    "duration": 7,
    "start_time": "2024-07-20T22:27:29.867Z"
   },
   {
    "duration": 12,
    "start_time": "2024-07-20T22:27:29.876Z"
   },
   {
    "duration": 1840,
    "start_time": "2024-07-20T22:27:29.891Z"
   },
   {
    "duration": 45412,
    "start_time": "2024-07-20T22:27:31.734Z"
   },
   {
    "duration": 7151,
    "start_time": "2024-07-20T22:28:17.149Z"
   },
   {
    "duration": 131238,
    "start_time": "2024-07-20T22:28:24.303Z"
   },
   {
    "duration": 8886,
    "start_time": "2024-07-20T22:30:35.544Z"
   },
   {
    "duration": 71789,
    "start_time": "2024-07-20T22:30:44.433Z"
   },
   {
    "duration": 6,
    "start_time": "2024-07-20T22:32:19.098Z"
   },
   {
    "duration": 1611,
    "start_time": "2024-07-20T22:32:19.621Z"
   },
   {
    "duration": 8,
    "start_time": "2024-07-20T22:32:26.660Z"
   },
   {
    "duration": 177,
    "start_time": "2024-07-20T22:32:27.395Z"
   },
   {
    "duration": 6,
    "start_time": "2024-07-20T22:32:32.656Z"
   },
   {
    "duration": 181,
    "start_time": "2024-07-20T22:32:33.185Z"
   },
   {
    "duration": 7,
    "start_time": "2024-07-20T22:32:40.138Z"
   },
   {
    "duration": 5,
    "start_time": "2024-07-20T22:32:47.312Z"
   },
   {
    "duration": 159,
    "start_time": "2024-07-20T22:32:47.758Z"
   },
   {
    "duration": 1584,
    "start_time": "2024-07-20T22:33:04.711Z"
   },
   {
    "duration": 25,
    "start_time": "2024-07-20T22:33:06.298Z"
   },
   {
    "duration": 6,
    "start_time": "2024-07-20T22:33:06.331Z"
   },
   {
    "duration": 14,
    "start_time": "2024-07-20T22:33:06.341Z"
   },
   {
    "duration": 12,
    "start_time": "2024-07-20T22:33:06.358Z"
   },
   {
    "duration": 8,
    "start_time": "2024-07-20T22:33:06.374Z"
   },
   {
    "duration": 61,
    "start_time": "2024-07-20T22:33:06.385Z"
   },
   {
    "duration": 344,
    "start_time": "2024-07-20T22:33:06.451Z"
   },
   {
    "duration": 9,
    "start_time": "2024-07-20T22:33:06.799Z"
   },
   {
    "duration": 801,
    "start_time": "2024-07-20T22:33:06.813Z"
   },
   {
    "duration": 35,
    "start_time": "2024-07-20T22:33:07.616Z"
   },
   {
    "duration": 5,
    "start_time": "2024-07-20T22:33:07.654Z"
   },
   {
    "duration": 7,
    "start_time": "2024-07-20T22:33:07.663Z"
   },
   {
    "duration": 801,
    "start_time": "2024-07-20T22:33:07.673Z"
   },
   {
    "duration": 54,
    "start_time": "2024-07-20T22:33:08.477Z"
   },
   {
    "duration": 13,
    "start_time": "2024-07-20T22:33:08.533Z"
   },
   {
    "duration": 7,
    "start_time": "2024-07-20T22:33:08.549Z"
   },
   {
    "duration": 12,
    "start_time": "2024-07-20T22:33:08.559Z"
   },
   {
    "duration": 1759,
    "start_time": "2024-07-20T22:33:08.574Z"
   },
   {
    "duration": 1603,
    "start_time": "2024-07-20T22:33:27.179Z"
   },
   {
    "duration": 30,
    "start_time": "2024-07-20T22:33:28.785Z"
   },
   {
    "duration": 13,
    "start_time": "2024-07-20T22:33:28.820Z"
   },
   {
    "duration": 18,
    "start_time": "2024-07-20T22:33:28.839Z"
   },
   {
    "duration": 12,
    "start_time": "2024-07-20T22:33:28.862Z"
   },
   {
    "duration": 10,
    "start_time": "2024-07-20T22:33:28.877Z"
   },
   {
    "duration": 54,
    "start_time": "2024-07-20T22:33:28.890Z"
   },
   {
    "duration": 368,
    "start_time": "2024-07-20T22:33:28.947Z"
   },
   {
    "duration": 10,
    "start_time": "2024-07-20T22:33:29.318Z"
   },
   {
    "duration": 803,
    "start_time": "2024-07-20T22:33:29.333Z"
   },
   {
    "duration": 23,
    "start_time": "2024-07-20T22:33:30.143Z"
   },
   {
    "duration": 7,
    "start_time": "2024-07-20T22:33:30.170Z"
   },
   {
    "duration": 9,
    "start_time": "2024-07-20T22:33:30.180Z"
   },
   {
    "duration": 564,
    "start_time": "2024-07-20T22:33:30.192Z"
   },
   {
    "duration": 0,
    "start_time": "2024-07-20T22:33:30.759Z"
   },
   {
    "duration": 0,
    "start_time": "2024-07-20T22:33:30.761Z"
   },
   {
    "duration": 0,
    "start_time": "2024-07-20T22:33:30.763Z"
   },
   {
    "duration": 0,
    "start_time": "2024-07-20T22:33:30.766Z"
   },
   {
    "duration": 0,
    "start_time": "2024-07-20T22:33:30.768Z"
   },
   {
    "duration": 0,
    "start_time": "2024-07-20T22:33:30.770Z"
   },
   {
    "duration": 1,
    "start_time": "2024-07-20T22:33:30.771Z"
   },
   {
    "duration": 0,
    "start_time": "2024-07-20T22:33:30.773Z"
   },
   {
    "duration": 0,
    "start_time": "2024-07-20T22:33:30.775Z"
   },
   {
    "duration": 0,
    "start_time": "2024-07-20T22:33:30.777Z"
   },
   {
    "duration": 6,
    "start_time": "2024-07-20T22:33:39.523Z"
   },
   {
    "duration": 785,
    "start_time": "2024-07-20T22:33:39.739Z"
   },
   {
    "duration": 322,
    "start_time": "2024-07-21T08:43:26.004Z"
   },
   {
    "duration": 1928,
    "start_time": "2024-07-21T08:43:28.724Z"
   },
   {
    "duration": 25,
    "start_time": "2024-07-21T08:43:30.655Z"
   },
   {
    "duration": 5,
    "start_time": "2024-07-21T08:43:30.683Z"
   },
   {
    "duration": 39,
    "start_time": "2024-07-21T08:43:30.693Z"
   },
   {
    "duration": 12,
    "start_time": "2024-07-21T08:43:30.735Z"
   },
   {
    "duration": 20,
    "start_time": "2024-07-21T08:43:30.750Z"
   },
   {
    "duration": 15,
    "start_time": "2024-07-21T08:43:30.773Z"
   },
   {
    "duration": 380,
    "start_time": "2024-07-21T08:43:30.791Z"
   },
   {
    "duration": 10,
    "start_time": "2024-07-21T08:43:31.174Z"
   },
   {
    "duration": 845,
    "start_time": "2024-07-21T08:43:31.189Z"
   },
   {
    "duration": 31,
    "start_time": "2024-07-21T08:43:32.040Z"
   },
   {
    "duration": 5,
    "start_time": "2024-07-21T08:43:32.075Z"
   },
   {
    "duration": 8,
    "start_time": "2024-07-21T08:43:32.083Z"
   },
   {
    "duration": 804,
    "start_time": "2024-07-21T08:43:32.097Z"
   },
   {
    "duration": 50,
    "start_time": "2024-07-21T08:43:32.904Z"
   },
   {
    "duration": 11,
    "start_time": "2024-07-21T08:43:32.957Z"
   },
   {
    "duration": 8,
    "start_time": "2024-07-21T08:43:32.970Z"
   },
   {
    "duration": 15,
    "start_time": "2024-07-21T08:43:32.980Z"
   },
   {
    "duration": 1621,
    "start_time": "2024-07-21T08:43:33.030Z"
   },
   {
    "duration": 47412,
    "start_time": "2024-07-21T08:43:34.730Z"
   },
   {
    "duration": 7395,
    "start_time": "2024-07-21T08:44:22.146Z"
   },
   {
    "duration": 131070,
    "start_time": "2024-07-21T08:44:29.545Z"
   },
   {
    "duration": 8236,
    "start_time": "2024-07-21T08:46:40.617Z"
   },
   {
    "duration": 72403,
    "start_time": "2024-07-21T08:46:48.856Z"
   },
   {
    "duration": 11,
    "start_time": "2024-07-21T08:48:01.263Z"
   }
  ],
  "kernelspec": {
   "display_name": "Python 3 (ipykernel)",
   "language": "python",
   "name": "python3"
  },
  "language_info": {
   "codemirror_mode": {
    "name": "ipython",
    "version": 3
   },
   "file_extension": ".py",
   "mimetype": "text/x-python",
   "name": "python",
   "nbconvert_exporter": "python",
   "pygments_lexer": "ipython3",
   "version": "3.9.19"
  },
  "toc": {
   "base_numbering": 1,
   "nav_menu": {},
   "number_sections": true,
   "sideBar": true,
   "skip_h1_title": true,
   "title_cell": "Table of Contents",
   "title_sidebar": "Contents",
   "toc_cell": false,
   "toc_position": {},
   "toc_section_display": true,
   "toc_window_display": false
  }
 },
 "nbformat": 4,
 "nbformat_minor": 2
}
