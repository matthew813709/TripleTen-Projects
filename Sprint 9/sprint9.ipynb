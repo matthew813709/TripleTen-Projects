{
 "cells": [
  {
   "cell_type": "markdown",
   "metadata": {},
   "source": [
    "# Optimizing Oil Well Investment: Predictive Modeling and Profitability Analysis Across Regions"
   ]
  },
  {
   "cell_type": "markdown",
   "metadata": {},
   "source": [
    "In this project we attempt to:\n",
    "Collect the oil well parameters in the selected region: oil quality and volume of reserves;\n",
    "Build a model for predicting the volume of reserves in the new wells;\n",
    "Pick the oil wells with the highest estimated values;\n",
    "Pick the region with the highest total profit for the selected oil wells."
   ]
  },
  {
   "cell_type": "code",
   "execution_count": 1,
   "metadata": {},
   "outputs": [],
   "source": [
    "import pandas as pd\n",
    "from sklearn.model_selection import train_test_split\n",
    "from sklearn.preprocessing import StandardScaler\n",
    "from sklearn.linear_model import LinearRegression\n",
    "from sklearn.metrics import mean_squared_error\n",
    "import numpy as np"
   ]
  },
  {
   "cell_type": "code",
   "execution_count": 2,
   "metadata": {},
   "outputs": [],
   "source": [
    "data_0 = pd.read_csv('/datasets/geo_data_0.csv')\n",
    "data_1 = pd.read_csv('/datasets/geo_data_1.csv')\n",
    "data_2 = pd.read_csv('/datasets/geo_data_2.csv')"
   ]
  },
  {
   "cell_type": "code",
   "execution_count": 3,
   "metadata": {},
   "outputs": [
    {
     "data": {
      "text/html": [
       "<div>\n",
       "<style scoped>\n",
       "    .dataframe tbody tr th:only-of-type {\n",
       "        vertical-align: middle;\n",
       "    }\n",
       "\n",
       "    .dataframe tbody tr th {\n",
       "        vertical-align: top;\n",
       "    }\n",
       "\n",
       "    .dataframe thead th {\n",
       "        text-align: right;\n",
       "    }\n",
       "</style>\n",
       "<table border=\"1\" class=\"dataframe\">\n",
       "  <thead>\n",
       "    <tr style=\"text-align: right;\">\n",
       "      <th></th>\n",
       "      <th>id</th>\n",
       "      <th>f0</th>\n",
       "      <th>f1</th>\n",
       "      <th>f2</th>\n",
       "      <th>product</th>\n",
       "    </tr>\n",
       "  </thead>\n",
       "  <tbody>\n",
       "    <tr>\n",
       "      <th>0</th>\n",
       "      <td>txEyH</td>\n",
       "      <td>0.705745</td>\n",
       "      <td>-0.497823</td>\n",
       "      <td>1.221170</td>\n",
       "      <td>105.280062</td>\n",
       "    </tr>\n",
       "    <tr>\n",
       "      <th>1</th>\n",
       "      <td>2acmU</td>\n",
       "      <td>1.334711</td>\n",
       "      <td>-0.340164</td>\n",
       "      <td>4.365080</td>\n",
       "      <td>73.037750</td>\n",
       "    </tr>\n",
       "    <tr>\n",
       "      <th>2</th>\n",
       "      <td>409Wp</td>\n",
       "      <td>1.022732</td>\n",
       "      <td>0.151990</td>\n",
       "      <td>1.419926</td>\n",
       "      <td>85.265647</td>\n",
       "    </tr>\n",
       "    <tr>\n",
       "      <th>3</th>\n",
       "      <td>iJLyR</td>\n",
       "      <td>-0.032172</td>\n",
       "      <td>0.139033</td>\n",
       "      <td>2.978566</td>\n",
       "      <td>168.620776</td>\n",
       "    </tr>\n",
       "    <tr>\n",
       "      <th>4</th>\n",
       "      <td>Xdl7t</td>\n",
       "      <td>1.988431</td>\n",
       "      <td>0.155413</td>\n",
       "      <td>4.751769</td>\n",
       "      <td>154.036647</td>\n",
       "    </tr>\n",
       "  </tbody>\n",
       "</table>\n",
       "</div>"
      ],
      "text/plain": [
       "      id        f0        f1        f2     product\n",
       "0  txEyH  0.705745 -0.497823  1.221170  105.280062\n",
       "1  2acmU  1.334711 -0.340164  4.365080   73.037750\n",
       "2  409Wp  1.022732  0.151990  1.419926   85.265647\n",
       "3  iJLyR -0.032172  0.139033  2.978566  168.620776\n",
       "4  Xdl7t  1.988431  0.155413  4.751769  154.036647"
      ]
     },
     "execution_count": 3,
     "metadata": {},
     "output_type": "execute_result"
    }
   ],
   "source": [
    "data_0.head()"
   ]
  },
  {
   "cell_type": "code",
   "execution_count": 4,
   "metadata": {},
   "outputs": [
    {
     "data": {
      "text/html": [
       "<div>\n",
       "<style scoped>\n",
       "    .dataframe tbody tr th:only-of-type {\n",
       "        vertical-align: middle;\n",
       "    }\n",
       "\n",
       "    .dataframe tbody tr th {\n",
       "        vertical-align: top;\n",
       "    }\n",
       "\n",
       "    .dataframe thead th {\n",
       "        text-align: right;\n",
       "    }\n",
       "</style>\n",
       "<table border=\"1\" class=\"dataframe\">\n",
       "  <thead>\n",
       "    <tr style=\"text-align: right;\">\n",
       "      <th></th>\n",
       "      <th>id</th>\n",
       "      <th>f0</th>\n",
       "      <th>f1</th>\n",
       "      <th>f2</th>\n",
       "      <th>product</th>\n",
       "    </tr>\n",
       "  </thead>\n",
       "  <tbody>\n",
       "    <tr>\n",
       "      <th>0</th>\n",
       "      <td>kBEdx</td>\n",
       "      <td>-15.001348</td>\n",
       "      <td>-8.276000</td>\n",
       "      <td>-0.005876</td>\n",
       "      <td>3.179103</td>\n",
       "    </tr>\n",
       "    <tr>\n",
       "      <th>1</th>\n",
       "      <td>62mP7</td>\n",
       "      <td>14.272088</td>\n",
       "      <td>-3.475083</td>\n",
       "      <td>0.999183</td>\n",
       "      <td>26.953261</td>\n",
       "    </tr>\n",
       "    <tr>\n",
       "      <th>2</th>\n",
       "      <td>vyE1P</td>\n",
       "      <td>6.263187</td>\n",
       "      <td>-5.948386</td>\n",
       "      <td>5.001160</td>\n",
       "      <td>134.766305</td>\n",
       "    </tr>\n",
       "    <tr>\n",
       "      <th>3</th>\n",
       "      <td>KcrkZ</td>\n",
       "      <td>-13.081196</td>\n",
       "      <td>-11.506057</td>\n",
       "      <td>4.999415</td>\n",
       "      <td>137.945408</td>\n",
       "    </tr>\n",
       "    <tr>\n",
       "      <th>4</th>\n",
       "      <td>AHL4O</td>\n",
       "      <td>12.702195</td>\n",
       "      <td>-8.147433</td>\n",
       "      <td>5.004363</td>\n",
       "      <td>134.766305</td>\n",
       "    </tr>\n",
       "  </tbody>\n",
       "</table>\n",
       "</div>"
      ],
      "text/plain": [
       "      id         f0         f1        f2     product\n",
       "0  kBEdx -15.001348  -8.276000 -0.005876    3.179103\n",
       "1  62mP7  14.272088  -3.475083  0.999183   26.953261\n",
       "2  vyE1P   6.263187  -5.948386  5.001160  134.766305\n",
       "3  KcrkZ -13.081196 -11.506057  4.999415  137.945408\n",
       "4  AHL4O  12.702195  -8.147433  5.004363  134.766305"
      ]
     },
     "execution_count": 4,
     "metadata": {},
     "output_type": "execute_result"
    }
   ],
   "source": [
    "data_1.head()"
   ]
  },
  {
   "cell_type": "code",
   "execution_count": 5,
   "metadata": {},
   "outputs": [
    {
     "data": {
      "text/html": [
       "<div>\n",
       "<style scoped>\n",
       "    .dataframe tbody tr th:only-of-type {\n",
       "        vertical-align: middle;\n",
       "    }\n",
       "\n",
       "    .dataframe tbody tr th {\n",
       "        vertical-align: top;\n",
       "    }\n",
       "\n",
       "    .dataframe thead th {\n",
       "        text-align: right;\n",
       "    }\n",
       "</style>\n",
       "<table border=\"1\" class=\"dataframe\">\n",
       "  <thead>\n",
       "    <tr style=\"text-align: right;\">\n",
       "      <th></th>\n",
       "      <th>id</th>\n",
       "      <th>f0</th>\n",
       "      <th>f1</th>\n",
       "      <th>f2</th>\n",
       "      <th>product</th>\n",
       "    </tr>\n",
       "  </thead>\n",
       "  <tbody>\n",
       "    <tr>\n",
       "      <th>0</th>\n",
       "      <td>fwXo0</td>\n",
       "      <td>-1.146987</td>\n",
       "      <td>0.963328</td>\n",
       "      <td>-0.828965</td>\n",
       "      <td>27.758673</td>\n",
       "    </tr>\n",
       "    <tr>\n",
       "      <th>1</th>\n",
       "      <td>WJtFt</td>\n",
       "      <td>0.262778</td>\n",
       "      <td>0.269839</td>\n",
       "      <td>-2.530187</td>\n",
       "      <td>56.069697</td>\n",
       "    </tr>\n",
       "    <tr>\n",
       "      <th>2</th>\n",
       "      <td>ovLUW</td>\n",
       "      <td>0.194587</td>\n",
       "      <td>0.289035</td>\n",
       "      <td>-5.586433</td>\n",
       "      <td>62.871910</td>\n",
       "    </tr>\n",
       "    <tr>\n",
       "      <th>3</th>\n",
       "      <td>q6cA6</td>\n",
       "      <td>2.236060</td>\n",
       "      <td>-0.553760</td>\n",
       "      <td>0.930038</td>\n",
       "      <td>114.572842</td>\n",
       "    </tr>\n",
       "    <tr>\n",
       "      <th>4</th>\n",
       "      <td>WPMUX</td>\n",
       "      <td>-0.515993</td>\n",
       "      <td>1.716266</td>\n",
       "      <td>5.899011</td>\n",
       "      <td>149.600746</td>\n",
       "    </tr>\n",
       "  </tbody>\n",
       "</table>\n",
       "</div>"
      ],
      "text/plain": [
       "      id        f0        f1        f2     product\n",
       "0  fwXo0 -1.146987  0.963328 -0.828965   27.758673\n",
       "1  WJtFt  0.262778  0.269839 -2.530187   56.069697\n",
       "2  ovLUW  0.194587  0.289035 -5.586433   62.871910\n",
       "3  q6cA6  2.236060 -0.553760  0.930038  114.572842\n",
       "4  WPMUX -0.515993  1.716266  5.899011  149.600746"
      ]
     },
     "execution_count": 5,
     "metadata": {},
     "output_type": "execute_result"
    }
   ],
   "source": [
    "data_2.head()"
   ]
  },
  {
   "cell_type": "markdown",
   "metadata": {},
   "source": [
    "Printed the datasets."
   ]
  },
  {
   "cell_type": "code",
   "execution_count": 6,
   "metadata": {},
   "outputs": [
    {
     "data": {
      "text/plain": [
       "id          object\n",
       "f0         float64\n",
       "f1         float64\n",
       "f2         float64\n",
       "product    float64\n",
       "dtype: object"
      ]
     },
     "execution_count": 6,
     "metadata": {},
     "output_type": "execute_result"
    }
   ],
   "source": [
    "data_0.dtypes"
   ]
  },
  {
   "cell_type": "markdown",
   "metadata": {},
   "source": [
    "Checked datatypes for the datasets."
   ]
  },
  {
   "cell_type": "code",
   "execution_count": 7,
   "metadata": {},
   "outputs": [
    {
     "data": {
      "text/plain": [
       "id         0\n",
       "f0         0\n",
       "f1         0\n",
       "f2         0\n",
       "product    0\n",
       "dtype: int64"
      ]
     },
     "execution_count": 7,
     "metadata": {},
     "output_type": "execute_result"
    }
   ],
   "source": [
    "data_0.isna().sum()"
   ]
  },
  {
   "cell_type": "code",
   "execution_count": 8,
   "metadata": {},
   "outputs": [
    {
     "data": {
      "text/plain": [
       "id         0\n",
       "f0         0\n",
       "f1         0\n",
       "f2         0\n",
       "product    0\n",
       "dtype: int64"
      ]
     },
     "execution_count": 8,
     "metadata": {},
     "output_type": "execute_result"
    }
   ],
   "source": [
    "data_1.isna().sum()"
   ]
  },
  {
   "cell_type": "code",
   "execution_count": 9,
   "metadata": {},
   "outputs": [
    {
     "data": {
      "text/plain": [
       "id         0\n",
       "f0         0\n",
       "f1         0\n",
       "f2         0\n",
       "product    0\n",
       "dtype: int64"
      ]
     },
     "execution_count": 9,
     "metadata": {},
     "output_type": "execute_result"
    }
   ],
   "source": [
    "data_2.isna().sum()"
   ]
  },
  {
   "cell_type": "markdown",
   "metadata": {},
   "source": [
    "Checked for null values."
   ]
  },
  {
   "cell_type": "code",
   "execution_count": 10,
   "metadata": {},
   "outputs": [],
   "source": [
    "features_0 = data_0.drop(['id', 'product'], axis=1)\n",
    "target_0 = data_0['product']\n",
    "   \n",
    "features_1 = data_1.drop(['id', 'product'], axis=1)\n",
    "target_1 = data_1['product']\n",
    "   \n",
    "features_2 = data_2.drop(['id', 'product'], axis=1)\n",
    "target_2 = data_2['product']\n",
    "   "
   ]
  },
  {
   "cell_type": "code",
   "execution_count": 11,
   "metadata": {},
   "outputs": [],
   "source": [
    "features_train_0, features_valid_0, target_train_0, target_valid_0 = train_test_split(features_0, target_0, test_size=0.25, random_state=42)\n",
    "\n",
    "\n",
    "features_train_1, features_valid_1, target_train_1, target_valid_1 = train_test_split(features_1, target_1, test_size=0.25, random_state=42)\n",
    "\n",
    "\n",
    "features_train_2, features_valid_2, target_train_2, target_valid_2 = train_test_split(features_2, target_2, test_size=0.25, random_state=42)"
   ]
  },
  {
   "cell_type": "code",
   "execution_count": 12,
   "metadata": {},
   "outputs": [],
   "source": [
    "scaler = StandardScaler()\n",
    "   \n",
    "\n",
    "features_train_0 = scaler.fit_transform(features_train_0)\n",
    "features_valid_0 = scaler.transform(features_valid_0)\n",
    "   \n",
    "features_train_1 = scaler.fit_transform(features_train_1)\n",
    "features_valid_1 = scaler.transform(features_valid_1)\n",
    "   \n",
    "features_train_2 = scaler.fit_transform(features_train_2)\n",
    "features_valid_2 = scaler.transform(features_valid_2)"
   ]
  },
  {
   "cell_type": "code",
   "execution_count": 13,
   "metadata": {},
   "outputs": [
    {
     "name": "stdout",
     "output_type": "stream",
     "text": [
      "(75000, 3) (75000,)\n",
      "(25000, 3) (25000,)\n"
     ]
    }
   ],
   "source": [
    "print(features_train_0.shape, target_train_0.shape)\n",
    "print(features_valid_0.shape, target_valid_0.shape)"
   ]
  },
  {
   "cell_type": "code",
   "execution_count": 14,
   "metadata": {},
   "outputs": [
    {
     "name": "stdout",
     "output_type": "stream",
     "text": [
      "(75000, 3) (75000,)\n",
      "(25000, 3) (25000,)\n"
     ]
    }
   ],
   "source": [
    "\n",
    "print(features_train_1.shape, target_train_1.shape)\n",
    "print(features_valid_1.shape, target_valid_1.shape)"
   ]
  },
  {
   "cell_type": "code",
   "execution_count": 15,
   "metadata": {},
   "outputs": [
    {
     "name": "stdout",
     "output_type": "stream",
     "text": [
      "(75000, 3) (75000,)\n",
      "(25000, 3) (25000,)\n"
     ]
    }
   ],
   "source": [
    "\n",
    "print(features_train_2.shape, target_train_2.shape)\n",
    "print(features_valid_2.shape, target_valid_2.shape)"
   ]
  },
  {
   "cell_type": "markdown",
   "metadata": {},
   "source": [
    "Split the datasets into testing training and validation sets. Looked at their overall shape for analysis."
   ]
  },
  {
   "cell_type": "code",
   "execution_count": 22,
   "metadata": {},
   "outputs": [],
   "source": [
    "def train_and_evaluate(features_train, target_train, features_valid, target_valid):\n",
    "\n",
    "    model = LinearRegression()\n",
    "    model.fit(features_train, target_train)\n",
    "    \n",
    "    predictions = model.predict(features_valid)\n",
    "\n",
    "    average_predicted_reserves = np.mean(predictions)\n",
    "\n",
    "    rmse = mean_squared_error(target_valid, predictions, squared=False)\n",
    "    \n",
    "    return average_predicted_reserves, rmse"
   ]
  },
  {
   "cell_type": "markdown",
   "metadata": {},
   "source": [
    "Trained the data models appropriately."
   ]
  },
  {
   "cell_type": "code",
   "execution_count": 23,
   "metadata": {},
   "outputs": [
    {
     "name": "stdout",
     "output_type": "stream",
     "text": [
      "Region 0 - Average Predicted Reserves: 92.40, RMSE: 37.76\n",
      "Region 1 - Average Predicted Reserves: 68.71, RMSE: 0.89\n",
      "Region 2 - Average Predicted Reserves: 94.77, RMSE: 40.15\n"
     ]
    }
   ],
   "source": [
    "\n",
    "avg_pred_0, rmse_0 = train_and_evaluate(features_train_0, target_train_0, features_valid_0, target_valid_0)\n",
    "print(f\"Region 0 - Average Predicted Reserves: {avg_pred_0:.2f}, RMSE: {rmse_0:.2f}\")\n",
    "\n",
    "\n",
    "avg_pred_1, rmse_1 = train_and_evaluate(features_train_1, target_train_1, features_valid_1, target_valid_1)\n",
    "print(f\"Region 1 - Average Predicted Reserves: {avg_pred_1:.2f}, RMSE: {rmse_1:.2f}\")\n",
    "\n",
    "\n",
    "avg_pred_2, rmse_2 = train_and_evaluate(features_train_2, target_train_2, features_valid_2, target_valid_2)\n",
    "print(f\"Region 2 - Average Predicted Reserves: {avg_pred_2:.2f}, RMSE: {rmse_2:.2f}\")\n"
   ]
  },
  {
   "cell_type": "markdown",
   "metadata": {},
   "source": [
    "Printed the predicted reserve amounts and the Root Mean Square Error for all three regions."
   ]
  },
  {
   "cell_type": "code",
   "execution_count": 24,
   "metadata": {},
   "outputs": [
    {
     "name": "stdout",
     "output_type": "stream",
     "text": [
      "Break-even volume per well (thousand barrels): 111.11\n",
      "Average volume of reserves in Region 0: 92.50\n",
      "Average volume of reserves in Region 1: 68.83\n",
      "Average volume of reserves in Region 2: 95.00\n",
      "Region 0 is not profitable based on the average volume of reserves.\n",
      "Region 1 is not profitable based on the average volume of reserves.\n",
      "Region 2 is not profitable based on the average volume of reserves.\n"
     ]
    }
   ],
   "source": [
    "total_budget = 100_000_000 \n",
    "number_of_wells = 200  \n",
    "revenue_per_barrel = 4.5 \n",
    "\n",
    "\n",
    "cost_per_well = total_budget / number_of_wells\n",
    "\n",
    "\n",
    "break_even_volume = (cost_per_well / revenue_per_barrel) / 1000\n",
    "\n",
    "\n",
    "average_volume_0 = data_0['product'].mean()\n",
    "average_volume_1 = data_1['product'].mean()\n",
    "average_volume_2 = data_2['product'].mean()\n",
    "\n",
    "\n",
    "print(f\"Break-even volume per well (thousand barrels): {break_even_volume:.2f}\")\n",
    "print(f\"Average volume of reserves in Region 0: {average_volume_0:.2f}\")\n",
    "print(f\"Average volume of reserves in Region 1: {average_volume_1:.2f}\")\n",
    "print(f\"Average volume of reserves in Region 2: {average_volume_2:.2f}\")\n",
    "\n",
    "if average_volume_0 >= break_even_volume:\n",
    "    print(\"Region 0 is profitable based on the average volume of reserves.\")\n",
    "else:\n",
    "    print(\"Region 0 is not profitable based on the average volume of reserves.\")\n",
    "    \n",
    "if average_volume_1 >= break_even_volume:\n",
    "    print(\"Region 1 is profitable based on the average volume of reserves.\")\n",
    "else:\n",
    "    print(\"Region 1 is not profitable based on the average volume of reserves.\")\n",
    "    \n",
    "if average_volume_2 >= break_even_volume:\n",
    "    print(\"Region 2 is profitable based on the average volume of reserves.\")\n",
    "else:\n",
    "    print(\"Region 2 is not profitable based on the average volume of reserves.\")\n"
   ]
  },
  {
   "cell_type": "markdown",
   "metadata": {},
   "source": [
    "Calculated the 'break-even' volume and the profitability of the three regions."
   ]
  },
  {
   "cell_type": "code",
   "execution_count": 25,
   "metadata": {},
   "outputs": [
    {
     "name": "stdout",
     "output_type": "stream",
     "text": [
      "Region 0 - Total Reserves: 29686.98 thousand barrels, Profit: 33.59 million USD\n",
      "Region 1 - Total Reserves: 27589.08 thousand barrels, Profit: 24.15 million USD\n",
      "Region 2 - Total Reserves: 27996.83 thousand barrels, Profit: 25.99 million USD\n"
     ]
    }
   ],
   "source": [
    "model_0 = LinearRegression()\n",
    "model_1 = LinearRegression()\n",
    "model_2 = LinearRegression()\n",
    "\n",
    "model_0.fit(features_train_0, target_train_0)\n",
    "model_1.fit(features_train_1, target_train_1)\n",
    "model_2.fit(features_train_2, target_train_2)\n",
    "\n",
    "\n",
    "def calculate_profit(predictions, targets, count):\n",
    "    predictions_df = pd.DataFrame({'prediction': predictions, 'target': targets})\n",
    "    sorted_predictions_df = predictions_df.sort_values(by='prediction', ascending=False)\n",
    "    selected = sorted_predictions_df.head(count)\n",
    "    total_reserves = selected['target'].sum()\n",
    "    \n",
    "    revenue_per_barrel = 4.5\n",
    "    total_revenue = total_reserves * revenue_per_barrel  / 1000\n",
    "    total_cost = 100  \n",
    "    profit = total_revenue - total_cost\n",
    "    \n",
    "    return total_reserves, profit\n",
    "\n",
    "\n",
    "number_of_wells = 200\n",
    "\n",
    "\n",
    "pred_0 = model_0.predict(features_valid_0)\n",
    "reserves_0, profit_0 = calculate_profit(pred_0, target_valid_0, number_of_wells)\n",
    "\n",
    "pred_1 = model_1.predict(features_valid_1)\n",
    "reserves_1, profit_1 = calculate_profit(pred_1, target_valid_1, number_of_wells)\n",
    "\n",
    "pred_2 = model_2.predict(features_valid_2)\n",
    "reserves_2, profit_2 = calculate_profit(pred_2, target_valid_2, number_of_wells)\n",
    "\n",
    "print(f\"Region 0 - Total Reserves: {reserves_0:.2f} thousand barrels, Profit: {profit_0:.2f} million USD\")\n",
    "print(f\"Region 1 - Total Reserves: {reserves_1:.2f} thousand barrels, Profit: {profit_1:.2f} million USD\")\n",
    "print(f\"Region 2 - Total Reserves: {reserves_2:.2f} thousand barrels, Profit: {profit_2:.2f} million USD\")"
   ]
  },
  {
   "cell_type": "markdown",
   "metadata": {},
   "source": [
    "Further clarification of the profitability."
   ]
  },
  {
   "cell_type": "code",
   "execution_count": 33,
   "metadata": {},
   "outputs": [],
   "source": [
    "def bootstrap_profit(model, features_valid, target_valid, n_samples=1000, count=200):\n",
    "    profits = []\n",
    "    for i in range(n_samples):\n",
    "        sample = np.random.choice(len(features_valid), size=500, replace=True)\n",
    "        sample_features = features_valid[sample]\n",
    "        sample_target = target_valid.iloc[sample]\n",
    "        \n",
    "        sample_predictions = model.predict(sample_features)\n",
    "        \n",
    "        _, profit = calculate_profit(sample_predictions, sample_target, count)\n",
    "        profits.append(profit)\n",
    "    \n",
    "    profits = np.array(profits)\n",
    "    mean_profit = np.mean(profits)\n",
    "    lower_bound = np.percentile(profits, 2.5)\n",
    "    upper_bound = np.percentile(profits, 97.5)\n",
    "    risk_of_loss = np.mean(profits < 0) * 100  \n",
    "    \n",
    "    return mean_profit, lower_bound, upper_bound, risk_of_loss\n",
    "\n",
    "\n"
   ]
  },
  {
   "cell_type": "code",
   "execution_count": 34,
   "metadata": {},
   "outputs": [
    {
     "name": "stdout",
     "output_type": "stream",
     "text": [
      "Region 0 - Average Profit: 3.95 million USD, 95% CI: (-1.21, 8.83), Risk of Loss: 6.20%\n",
      "Region 1 - Average Profit: 4.37 million USD, 95% CI: ( 0.41, 8.22), Risk of Loss: 1.10%\n",
      "Region 2 - Average Profit: 3.86 million USD, 95% CI: (-1.78, 8.96), Risk of Loss: 8.00%\n"
     ]
    }
   ],
   "source": [
    "\n",
    "results_0 = bootstrap_profit(model_0, features_valid_0, target_valid_0)\n",
    "results_1 = bootstrap_profit(model_1, features_valid_1, target_valid_1)\n",
    "results_2 = bootstrap_profit(model_2, features_valid_2, target_valid_2)\n",
    "\n",
    "print(f\"Region 0 - Average Profit: {results_0[0]:.2f} million USD, 95% CI: ({results_0[1]:.2f}, {results_0[2]:.2f}), Risk of Loss: {results_0[3]:.2f}%\")\n",
    "print(f\"Region 1 - Average Profit: {results_1[0]:.2f} million USD, 95% CI: ({results_1[1]: .2f}, {results_1[2]:.2f}), Risk of Loss: {results_1[3]:.2f}%\")\n",
    "print(f\"Region 2 - Average Profit: {results_2[0]:.2f} million USD, 95% CI: ({results_2[1]:.2f}, {results_2[2]:.2f}), Risk of Loss: {results_2[3]:.2f}%\")\n"
   ]
  },
  {
   "cell_type": "markdown",
   "metadata": {},
   "source": [
    "Applied bootstrapping successfully and predictions based on the average profit after bootstrapping. Also calculated the risk of loss and the confidence intervals for 95% of the data."
   ]
  },
  {
   "cell_type": "markdown",
   "metadata": {},
   "source": [
    "Region 1 is seen to be the most profitable."
   ]
  },
  {
   "cell_type": "markdown",
   "metadata": {},
   "source": [
    "In this project we have successfully:\n",
    "Collected the oil well parameters in the selected region: oil quality and volume of reserves;\n",
    "Built a model for predicting the volume of reserves in the new wells;\n",
    "Picked the oil wells with the highest estimated values;\n",
    "Picked the region with the highest total profit for the selected oil wells."
   ]
  }
 ],
 "metadata": {
  "ExecuteTimeLog": [
   {
    "duration": 5293,
    "start_time": "2024-06-24T13:49:59.098Z"
   },
   {
    "duration": 1149,
    "start_time": "2024-06-24T13:50:48.006Z"
   },
   {
    "duration": 125,
    "start_time": "2024-06-24T13:50:56.856Z"
   },
   {
    "duration": 6,
    "start_time": "2024-06-24T13:50:59.679Z"
   },
   {
    "duration": 119,
    "start_time": "2024-06-24T13:51:01.630Z"
   },
   {
    "duration": 128,
    "start_time": "2024-06-24T13:52:19.640Z"
   },
   {
    "duration": 131,
    "start_time": "2024-06-24T13:52:25.536Z"
   },
   {
    "duration": 126,
    "start_time": "2024-06-24T13:55:16.074Z"
   },
   {
    "duration": 3,
    "start_time": "2024-06-24T14:08:34.381Z"
   },
   {
    "duration": 125,
    "start_time": "2024-06-24T14:08:34.970Z"
   },
   {
    "duration": 126,
    "start_time": "2024-06-24T14:08:42.226Z"
   },
   {
    "duration": 127,
    "start_time": "2024-06-24T14:18:59.511Z"
   },
   {
    "duration": 4,
    "start_time": "2024-06-24T14:19:10.651Z"
   },
   {
    "duration": 126,
    "start_time": "2024-06-24T14:19:15.285Z"
   },
   {
    "duration": 130,
    "start_time": "2024-06-24T14:21:37.224Z"
   },
   {
    "duration": 3,
    "start_time": "2024-06-24T14:21:48.436Z"
   },
   {
    "duration": 124,
    "start_time": "2024-06-24T14:21:48.693Z"
   },
   {
    "duration": 3,
    "start_time": "2024-06-24T14:22:12.467Z"
   },
   {
    "duration": 28,
    "start_time": "2024-06-24T14:22:24.645Z"
   },
   {
    "duration": 5,
    "start_time": "2024-06-24T14:22:53.225Z"
   },
   {
    "duration": 4,
    "start_time": "2024-06-24T14:23:16.065Z"
   },
   {
    "duration": 128,
    "start_time": "2024-06-24T14:23:17.068Z"
   },
   {
    "duration": 133,
    "start_time": "2024-06-24T14:25:51.491Z"
   },
   {
    "duration": 3,
    "start_time": "2024-06-24T14:26:19.073Z"
   },
   {
    "duration": 123,
    "start_time": "2024-06-24T14:26:19.510Z"
   },
   {
    "duration": 47,
    "start_time": "2024-06-24T14:27:29.605Z"
   },
   {
    "duration": 3,
    "start_time": "2024-06-24T14:27:37.057Z"
   },
   {
    "duration": 33,
    "start_time": "2024-06-24T14:27:37.301Z"
   },
   {
    "duration": 36,
    "start_time": "2024-06-24T14:30:34.477Z"
   },
   {
    "duration": 25,
    "start_time": "2024-06-24T14:30:40.445Z"
   },
   {
    "duration": 375,
    "start_time": "2024-06-24T14:30:47.425Z"
   },
   {
    "duration": 459,
    "start_time": "2024-06-24T14:30:54.014Z"
   },
   {
    "duration": 22,
    "start_time": "2024-06-24T14:31:08.169Z"
   },
   {
    "duration": 12,
    "start_time": "2024-06-24T14:39:13.784Z"
   },
   {
    "duration": 13,
    "start_time": "2024-06-24T14:39:42.745Z"
   },
   {
    "duration": 13,
    "start_time": "2024-06-24T14:39:54.244Z"
   },
   {
    "duration": 7,
    "start_time": "2024-06-24T14:40:32.669Z"
   },
   {
    "duration": 15,
    "start_time": "2024-06-24T14:41:16.365Z"
   },
   {
    "duration": 12,
    "start_time": "2024-06-24T14:41:29.819Z"
   },
   {
    "duration": 13,
    "start_time": "2024-06-24T14:41:35.977Z"
   },
   {
    "duration": 8,
    "start_time": "2024-06-24T14:46:39.904Z"
   },
   {
    "duration": 9,
    "start_time": "2024-06-24T14:46:56.613Z"
   },
   {
    "duration": 4,
    "start_time": "2024-06-24T14:47:09.670Z"
   },
   {
    "duration": 398,
    "start_time": "2024-06-24T14:47:10.345Z"
   },
   {
    "duration": 13,
    "start_time": "2024-06-24T14:47:10.746Z"
   },
   {
    "duration": 12,
    "start_time": "2024-06-24T14:47:10.876Z"
   },
   {
    "duration": 13,
    "start_time": "2024-06-24T14:47:11.072Z"
   },
   {
    "duration": 7,
    "start_time": "2024-06-24T14:47:11.296Z"
   },
   {
    "duration": 13,
    "start_time": "2024-06-24T14:47:11.761Z"
   },
   {
    "duration": 13,
    "start_time": "2024-06-24T14:47:12.109Z"
   },
   {
    "duration": 14,
    "start_time": "2024-06-24T14:47:12.436Z"
   },
   {
    "duration": 12,
    "start_time": "2024-06-24T14:47:13.170Z"
   },
   {
    "duration": 38,
    "start_time": "2024-06-24T14:47:49.039Z"
   },
   {
    "duration": 4,
    "start_time": "2024-06-24T14:48:15.562Z"
   },
   {
    "duration": 354,
    "start_time": "2024-06-24T14:48:15.955Z"
   },
   {
    "duration": 13,
    "start_time": "2024-06-24T14:48:16.312Z"
   },
   {
    "duration": 13,
    "start_time": "2024-06-24T14:48:16.480Z"
   },
   {
    "duration": 15,
    "start_time": "2024-06-24T14:48:16.716Z"
   },
   {
    "duration": 7,
    "start_time": "2024-06-24T14:48:16.912Z"
   },
   {
    "duration": 14,
    "start_time": "2024-06-24T14:48:17.136Z"
   },
   {
    "duration": 12,
    "start_time": "2024-06-24T14:48:17.560Z"
   },
   {
    "duration": 15,
    "start_time": "2024-06-24T14:48:17.826Z"
   },
   {
    "duration": 10,
    "start_time": "2024-06-24T14:48:18.203Z"
   },
   {
    "duration": 33,
    "start_time": "2024-06-24T14:48:18.715Z"
   },
   {
    "duration": 33,
    "start_time": "2024-06-24T14:48:50.885Z"
   },
   {
    "duration": 34,
    "start_time": "2024-06-24T14:51:06.041Z"
   },
   {
    "duration": 32,
    "start_time": "2024-06-24T14:51:06.622Z"
   },
   {
    "duration": 5,
    "start_time": "2024-06-24T14:53:35.805Z"
   },
   {
    "duration": 4,
    "start_time": "2024-06-24T14:54:07.619Z"
   },
   {
    "duration": 4,
    "start_time": "2024-06-24T14:54:21.662Z"
   },
   {
    "duration": 45,
    "start_time": "2024-06-24T14:56:08.570Z"
   },
   {
    "duration": 5,
    "start_time": "2024-06-24T14:56:24.050Z"
   },
   {
    "duration": 42,
    "start_time": "2024-06-24T14:56:41.893Z"
   },
   {
    "duration": 5,
    "start_time": "2024-06-24T14:56:53.501Z"
   },
   {
    "duration": 39,
    "start_time": "2024-06-24T14:56:53.773Z"
   },
   {
    "duration": 3,
    "start_time": "2024-06-24T14:57:11.616Z"
   },
   {
    "duration": 375,
    "start_time": "2024-06-24T14:57:12.022Z"
   },
   {
    "duration": 18,
    "start_time": "2024-06-24T14:57:12.400Z"
   },
   {
    "duration": 12,
    "start_time": "2024-06-24T14:57:12.463Z"
   },
   {
    "duration": 13,
    "start_time": "2024-06-24T14:57:12.664Z"
   },
   {
    "duration": 7,
    "start_time": "2024-06-24T14:57:12.886Z"
   },
   {
    "duration": 13,
    "start_time": "2024-06-24T14:57:13.141Z"
   },
   {
    "duration": 14,
    "start_time": "2024-06-24T14:57:13.413Z"
   },
   {
    "duration": 13,
    "start_time": "2024-06-24T14:57:13.661Z"
   },
   {
    "duration": 11,
    "start_time": "2024-06-24T14:57:13.914Z"
   },
   {
    "duration": 39,
    "start_time": "2024-06-24T14:57:14.295Z"
   },
   {
    "duration": 28,
    "start_time": "2024-06-24T14:57:14.610Z"
   },
   {
    "duration": 4,
    "start_time": "2024-06-24T14:57:15.061Z"
   },
   {
    "duration": 4,
    "start_time": "2024-06-24T14:57:15.563Z"
   },
   {
    "duration": 4,
    "start_time": "2024-06-24T14:57:16.078Z"
   },
   {
    "duration": 5,
    "start_time": "2024-06-24T14:57:16.496Z"
   },
   {
    "duration": 94,
    "start_time": "2024-06-24T14:57:17.119Z"
   },
   {
    "duration": 10,
    "start_time": "2024-06-24T15:01:16.907Z"
   },
   {
    "duration": 38,
    "start_time": "2024-06-24T15:07:11.977Z"
   },
   {
    "duration": 32,
    "start_time": "2024-06-24T15:08:29.302Z"
   },
   {
    "duration": 43,
    "start_time": "2024-06-24T15:12:55.296Z"
   },
   {
    "duration": 28485,
    "start_time": "2024-06-24T15:15:59.443Z"
   },
   {
    "duration": 5,
    "start_time": "2024-06-24T15:16:29.542Z"
   },
   {
    "duration": 9,
    "start_time": "2024-06-24T15:17:02.882Z"
   },
   {
    "duration": 62125,
    "start_time": "2024-06-24T15:17:05.215Z"
   },
   {
    "duration": 0,
    "start_time": "2024-06-24T15:19:02.648Z"
   },
   {
    "duration": 0,
    "start_time": "2024-06-24T15:19:02.650Z"
   },
   {
    "duration": 0,
    "start_time": "2024-06-24T15:19:02.652Z"
   },
   {
    "duration": 0,
    "start_time": "2024-06-24T15:19:02.655Z"
   },
   {
    "duration": 0,
    "start_time": "2024-06-24T15:19:02.658Z"
   },
   {
    "duration": 0,
    "start_time": "2024-06-24T15:19:02.661Z"
   },
   {
    "duration": 0,
    "start_time": "2024-06-24T15:19:02.663Z"
   },
   {
    "duration": 0,
    "start_time": "2024-06-24T15:19:02.666Z"
   },
   {
    "duration": 0,
    "start_time": "2024-06-24T15:19:02.668Z"
   },
   {
    "duration": 0,
    "start_time": "2024-06-24T15:19:02.670Z"
   },
   {
    "duration": 0,
    "start_time": "2024-06-24T15:19:02.712Z"
   },
   {
    "duration": 0,
    "start_time": "2024-06-24T15:19:02.714Z"
   },
   {
    "duration": 0,
    "start_time": "2024-06-24T15:19:02.716Z"
   },
   {
    "duration": 0,
    "start_time": "2024-06-24T15:19:02.718Z"
   },
   {
    "duration": 0,
    "start_time": "2024-06-24T15:19:02.719Z"
   },
   {
    "duration": 0,
    "start_time": "2024-06-24T15:19:02.722Z"
   },
   {
    "duration": 0,
    "start_time": "2024-06-24T15:19:02.725Z"
   },
   {
    "duration": 0,
    "start_time": "2024-06-24T15:19:02.727Z"
   },
   {
    "duration": 0,
    "start_time": "2024-06-24T15:19:02.730Z"
   },
   {
    "duration": 0,
    "start_time": "2024-06-24T15:19:02.732Z"
   },
   {
    "duration": 0,
    "start_time": "2024-06-24T15:19:02.735Z"
   },
   {
    "duration": 0,
    "start_time": "2024-06-24T15:19:02.737Z"
   },
   {
    "duration": 0,
    "start_time": "2024-06-24T15:19:02.743Z"
   },
   {
    "duration": 4,
    "start_time": "2024-06-24T15:19:06.341Z"
   },
   {
    "duration": 369,
    "start_time": "2024-06-24T15:19:06.678Z"
   },
   {
    "duration": 12,
    "start_time": "2024-06-24T15:19:07.050Z"
   },
   {
    "duration": 13,
    "start_time": "2024-06-24T15:19:07.391Z"
   },
   {
    "duration": 12,
    "start_time": "2024-06-24T15:19:07.734Z"
   },
   {
    "duration": 8,
    "start_time": "2024-06-24T15:19:08.114Z"
   },
   {
    "duration": 14,
    "start_time": "2024-06-24T15:19:08.486Z"
   },
   {
    "duration": 12,
    "start_time": "2024-06-24T15:19:08.832Z"
   },
   {
    "duration": 13,
    "start_time": "2024-06-24T15:19:09.184Z"
   },
   {
    "duration": 10,
    "start_time": "2024-06-24T15:19:09.526Z"
   },
   {
    "duration": 37,
    "start_time": "2024-06-24T15:19:09.892Z"
   },
   {
    "duration": 30,
    "start_time": "2024-06-24T15:19:10.236Z"
   },
   {
    "duration": 5,
    "start_time": "2024-06-24T15:19:10.628Z"
   },
   {
    "duration": 4,
    "start_time": "2024-06-24T15:19:10.991Z"
   },
   {
    "duration": 5,
    "start_time": "2024-06-24T15:19:11.377Z"
   },
   {
    "duration": 5,
    "start_time": "2024-06-24T15:19:11.753Z"
   },
   {
    "duration": 24,
    "start_time": "2024-06-24T15:19:12.129Z"
   },
   {
    "duration": 11,
    "start_time": "2024-06-24T15:19:12.470Z"
   },
   {
    "duration": 58,
    "start_time": "2024-06-24T15:19:12.863Z"
   },
   {
    "duration": 6,
    "start_time": "2024-06-24T15:19:13.255Z"
   },
   {
    "duration": 8,
    "start_time": "2024-06-24T15:19:13.632Z"
   },
   {
    "duration": 90395,
    "start_time": "2024-06-24T15:19:14.032Z"
   },
   {
    "duration": 86,
    "start_time": "2024-06-24T15:20:44.430Z"
   },
   {
    "duration": 6,
    "start_time": "2024-06-24T15:23:42.904Z"
   },
   {
    "duration": 4,
    "start_time": "2024-06-24T15:24:09.411Z"
   },
   {
    "duration": 5,
    "start_time": "2024-06-24T15:24:27.732Z"
   },
   {
    "duration": 5,
    "start_time": "2024-06-24T15:37:45.534Z"
   },
   {
    "duration": 1292,
    "start_time": "2024-06-25T16:16:39.920Z"
   },
   {
    "duration": 498,
    "start_time": "2024-06-25T16:16:41.215Z"
   },
   {
    "duration": 22,
    "start_time": "2024-06-25T16:16:41.716Z"
   },
   {
    "duration": 13,
    "start_time": "2024-06-25T16:16:41.743Z"
   },
   {
    "duration": 16,
    "start_time": "2024-06-25T16:16:41.760Z"
   },
   {
    "duration": 8,
    "start_time": "2024-06-25T16:16:42.271Z"
   },
   {
    "duration": 15,
    "start_time": "2024-06-25T16:16:42.875Z"
   },
   {
    "duration": 13,
    "start_time": "2024-06-25T16:16:43.187Z"
   },
   {
    "duration": 12,
    "start_time": "2024-06-25T16:16:43.499Z"
   },
   {
    "duration": 11,
    "start_time": "2024-06-25T16:16:44.404Z"
   },
   {
    "duration": 40,
    "start_time": "2024-06-25T16:16:44.692Z"
   },
   {
    "duration": 32,
    "start_time": "2024-06-25T16:16:45.464Z"
   },
   {
    "duration": 5,
    "start_time": "2024-06-25T16:16:46.180Z"
   },
   {
    "duration": 5,
    "start_time": "2024-06-25T16:16:46.504Z"
   },
   {
    "duration": 4,
    "start_time": "2024-06-25T16:16:46.836Z"
   },
   {
    "duration": 5,
    "start_time": "2024-06-25T16:16:47.507Z"
   },
   {
    "duration": 29,
    "start_time": "2024-06-25T16:16:48.638Z"
   },
   {
    "duration": 11,
    "start_time": "2024-06-25T16:16:50.419Z"
   },
   {
    "duration": 93,
    "start_time": "2024-06-25T16:16:56.430Z"
   },
   {
    "duration": 5,
    "start_time": "2024-06-25T16:17:00.562Z"
   },
   {
    "duration": 7,
    "start_time": "2024-06-25T16:17:01.711Z"
   },
   {
    "duration": 3811,
    "start_time": "2024-06-25T16:17:06.316Z"
   },
   {
    "duration": 9,
    "start_time": "2024-06-25T16:17:10.131Z"
   },
   {
    "duration": 433,
    "start_time": "2024-06-25T16:18:27.731Z"
   },
   {
    "duration": 6,
    "start_time": "2024-06-25T16:18:35.597Z"
   },
   {
    "duration": 7,
    "start_time": "2024-06-25T16:19:08.352Z"
   },
   {
    "duration": 1284,
    "start_time": "2024-06-26T08:40:44.257Z"
   },
   {
    "duration": 509,
    "start_time": "2024-06-26T08:40:45.546Z"
   },
   {
    "duration": 20,
    "start_time": "2024-06-26T08:40:46.058Z"
   },
   {
    "duration": 23,
    "start_time": "2024-06-26T08:40:46.081Z"
   },
   {
    "duration": 13,
    "start_time": "2024-06-26T08:40:46.107Z"
   },
   {
    "duration": 7,
    "start_time": "2024-06-26T08:40:46.124Z"
   },
   {
    "duration": 58,
    "start_time": "2024-06-26T08:40:46.134Z"
   },
   {
    "duration": 15,
    "start_time": "2024-06-26T08:40:46.195Z"
   },
   {
    "duration": 12,
    "start_time": "2024-06-26T08:40:46.213Z"
   },
   {
    "duration": 12,
    "start_time": "2024-06-26T08:40:46.230Z"
   },
   {
    "duration": 42,
    "start_time": "2024-06-26T08:40:46.290Z"
   },
   {
    "duration": 57,
    "start_time": "2024-06-26T08:40:46.334Z"
   },
   {
    "duration": 5,
    "start_time": "2024-06-26T08:40:46.394Z"
   },
   {
    "duration": 8,
    "start_time": "2024-06-26T08:40:46.403Z"
   },
   {
    "duration": 5,
    "start_time": "2024-06-26T08:40:46.415Z"
   },
   {
    "duration": 5,
    "start_time": "2024-06-26T08:40:46.424Z"
   },
   {
    "duration": 76,
    "start_time": "2024-06-26T08:40:46.432Z"
   },
   {
    "duration": 83,
    "start_time": "2024-06-26T08:40:46.511Z"
   },
   {
    "duration": 120,
    "start_time": "2024-06-26T08:40:46.597Z"
   },
   {
    "duration": 9,
    "start_time": "2024-06-26T08:40:46.789Z"
   },
   {
    "duration": 4065,
    "start_time": "2024-06-26T08:40:46.803Z"
   },
   {
    "duration": 6,
    "start_time": "2024-06-26T08:40:50.871Z"
   },
   {
    "duration": 8,
    "start_time": "2024-06-26T08:41:59.875Z"
   },
   {
    "duration": 5,
    "start_time": "2024-06-26T08:42:26.312Z"
   },
   {
    "duration": 401,
    "start_time": "2024-06-26T08:42:32.860Z"
   },
   {
    "duration": 5,
    "start_time": "2024-06-26T08:42:38.216Z"
   },
   {
    "duration": 29,
    "start_time": "2024-06-26T08:42:45.348Z"
   },
   {
    "duration": 12,
    "start_time": "2024-06-26T08:42:48.070Z"
   },
   {
    "duration": 10,
    "start_time": "2024-06-26T08:42:50.683Z"
   },
   {
    "duration": 7,
    "start_time": "2024-06-26T08:42:57.925Z"
   },
   {
    "duration": 12,
    "start_time": "2024-06-26T08:43:03.731Z"
   },
   {
    "duration": 14,
    "start_time": "2024-06-26T08:43:57.355Z"
   },
   {
    "duration": 16,
    "start_time": "2024-06-26T08:44:12.948Z"
   },
   {
    "duration": 9,
    "start_time": "2024-06-26T08:44:21.450Z"
   },
   {
    "duration": 8,
    "start_time": "2024-06-26T08:44:34.007Z"
   },
   {
    "duration": 10,
    "start_time": "2024-06-26T08:44:37.018Z"
   },
   {
    "duration": 8,
    "start_time": "2024-06-26T08:44:40.032Z"
   },
   {
    "duration": 9,
    "start_time": "2024-06-26T08:44:41.110Z"
   },
   {
    "duration": 11,
    "start_time": "2024-06-26T08:44:45.116Z"
   },
   {
    "duration": 9,
    "start_time": "2024-06-26T08:44:45.951Z"
   },
   {
    "duration": 11,
    "start_time": "2024-06-26T08:44:47.051Z"
   },
   {
    "duration": 10,
    "start_time": "2024-06-26T08:44:47.577Z"
   },
   {
    "duration": 10,
    "start_time": "2024-06-26T08:44:48.513Z"
   },
   {
    "duration": 9,
    "start_time": "2024-06-26T08:44:48.923Z"
   },
   {
    "duration": 11,
    "start_time": "2024-06-26T08:44:50.203Z"
   },
   {
    "duration": 9,
    "start_time": "2024-06-26T08:44:50.656Z"
   },
   {
    "duration": 10,
    "start_time": "2024-06-26T08:44:51.576Z"
   },
   {
    "duration": 11,
    "start_time": "2024-06-26T08:44:51.737Z"
   },
   {
    "duration": 11,
    "start_time": "2024-06-26T08:44:53.081Z"
   },
   {
    "duration": 9,
    "start_time": "2024-06-26T08:44:53.241Z"
   },
   {
    "duration": 10,
    "start_time": "2024-06-26T08:44:54.206Z"
   },
   {
    "duration": 10,
    "start_time": "2024-06-26T08:44:54.364Z"
   },
   {
    "duration": 9,
    "start_time": "2024-06-26T08:44:55.347Z"
   },
   {
    "duration": 8,
    "start_time": "2024-06-26T08:44:55.466Z"
   },
   {
    "duration": 10,
    "start_time": "2024-06-26T08:44:56.502Z"
   },
   {
    "duration": 9,
    "start_time": "2024-06-26T08:44:56.637Z"
   },
   {
    "duration": 11,
    "start_time": "2024-06-26T08:44:57.622Z"
   },
   {
    "duration": 10,
    "start_time": "2024-06-26T08:44:57.717Z"
   },
   {
    "duration": 10,
    "start_time": "2024-06-26T08:44:58.663Z"
   },
   {
    "duration": 8,
    "start_time": "2024-06-26T08:44:58.796Z"
   },
   {
    "duration": 7,
    "start_time": "2024-06-26T08:45:15.094Z"
   },
   {
    "duration": 4055,
    "start_time": "2024-06-26T08:45:18.822Z"
   },
   {
    "duration": 7,
    "start_time": "2024-06-26T08:45:22.889Z"
   },
   {
    "duration": 8,
    "start_time": "2024-06-26T08:48:42.338Z"
   },
   {
    "duration": 4105,
    "start_time": "2024-06-26T08:48:42.996Z"
   },
   {
    "duration": 6,
    "start_time": "2024-06-26T08:48:47.104Z"
   },
   {
    "duration": 1191,
    "start_time": "2024-06-26T12:46:36.741Z"
   },
   {
    "duration": 534,
    "start_time": "2024-06-26T12:46:37.936Z"
   },
   {
    "duration": 30,
    "start_time": "2024-06-26T12:46:38.473Z"
   },
   {
    "duration": 12,
    "start_time": "2024-06-26T12:46:38.508Z"
   },
   {
    "duration": 13,
    "start_time": "2024-06-26T12:46:38.523Z"
   },
   {
    "duration": 8,
    "start_time": "2024-06-26T12:46:39.156Z"
   },
   {
    "duration": 13,
    "start_time": "2024-06-26T12:46:40.162Z"
   },
   {
    "duration": 12,
    "start_time": "2024-06-26T12:46:40.540Z"
   },
   {
    "duration": 13,
    "start_time": "2024-06-26T12:46:40.940Z"
   },
   {
    "duration": 11,
    "start_time": "2024-06-26T12:46:41.910Z"
   },
   {
    "duration": 48,
    "start_time": "2024-06-26T12:46:42.357Z"
   },
   {
    "duration": 33,
    "start_time": "2024-06-26T12:46:43.096Z"
   },
   {
    "duration": 5,
    "start_time": "2024-06-26T12:46:43.836Z"
   },
   {
    "duration": 5,
    "start_time": "2024-06-26T12:46:44.229Z"
   },
   {
    "duration": 6,
    "start_time": "2024-06-26T12:46:44.737Z"
   },
   {
    "duration": 5,
    "start_time": "2024-06-26T12:46:45.598Z"
   },
   {
    "duration": 32,
    "start_time": "2024-06-26T12:46:46.671Z"
   },
   {
    "duration": 10,
    "start_time": "2024-06-26T12:46:48.318Z"
   },
   {
    "duration": 47,
    "start_time": "2024-06-26T12:46:57.881Z"
   },
   {
    "duration": 9,
    "start_time": "2024-06-26T12:47:02.446Z"
   },
   {
    "duration": 396,
    "start_time": "2024-06-26T12:49:39.655Z"
   },
   {
    "duration": 4,
    "start_time": "2024-06-26T12:49:54.885Z"
   },
   {
    "duration": 64,
    "start_time": "2024-06-26T12:49:55.926Z"
   },
   {
    "duration": 12,
    "start_time": "2024-06-26T12:49:57.717Z"
   },
   {
    "duration": 89,
    "start_time": "2024-06-26T12:49:59.302Z"
   },
   {
    "duration": 7,
    "start_time": "2024-06-26T12:50:02.932Z"
   },
   {
    "duration": 3964,
    "start_time": "2024-06-26T12:50:04.819Z"
   },
   {
    "duration": 27,
    "start_time": "2024-06-26T12:50:08.786Z"
   },
   {
    "duration": 4,
    "start_time": "2024-06-26T12:50:22.982Z"
   },
   {
    "duration": 7,
    "start_time": "2024-06-26T12:52:59.485Z"
   },
   {
    "duration": 4221,
    "start_time": "2024-06-26T12:55:48.831Z"
   },
   {
    "duration": 6,
    "start_time": "2024-06-26T12:55:53.057Z"
   },
   {
    "duration": 8,
    "start_time": "2024-06-26T12:56:34.781Z"
   },
   {
    "duration": 3928,
    "start_time": "2024-06-26T12:56:37.532Z"
   }
  ],
  "kernelspec": {
   "display_name": "Python 3 (ipykernel)",
   "language": "python",
   "name": "python3"
  },
  "language_info": {
   "codemirror_mode": {
    "name": "ipython",
    "version": 3
   },
   "file_extension": ".py",
   "mimetype": "text/x-python",
   "name": "python",
   "nbconvert_exporter": "python",
   "pygments_lexer": "ipython3",
   "version": "3.9.19"
  },
  "toc": {
   "base_numbering": 1,
   "nav_menu": {},
   "number_sections": true,
   "sideBar": true,
   "skip_h1_title": true,
   "title_cell": "Table of Contents",
   "title_sidebar": "Contents",
   "toc_cell": false,
   "toc_position": {},
   "toc_section_display": true,
   "toc_window_display": false
  }
 },
 "nbformat": 4,
 "nbformat_minor": 2
}
