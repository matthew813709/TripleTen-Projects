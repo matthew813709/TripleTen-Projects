{
 "cells": [
  {
   "cell_type": "markdown",
   "metadata": {},
   "source": [
    "# Zyfra Gold Mining Analysis"
   ]
  },
  {
   "cell_type": "markdown",
   "metadata": {},
   "source": [
    "### Introduction\n",
    "\n",
    "In this project, our objective is to create a model aimed at boosting efficiency in the gold mining and refining industry. We plan to carefully clean and prepare the data first to make sure it's accurate and useful. Then, we will test different models to find the best one for improving processes in this important field. Our goal is to not just increase efficiency but also to introduce more sustainable and cost-effective ways of mining and refining gold."
   ]
  },
  {
   "cell_type": "code",
   "execution_count": 1,
   "metadata": {},
   "outputs": [],
   "source": [
    "import pandas as pd\n",
    "import numpy as np\n",
    "from sklearn.linear_model import LinearRegression\n",
    "from sklearn.ensemble import RandomForestRegressor\n",
    "from sklearn.tree import DecisionTreeRegressor\n",
    "from sklearn.model_selection import train_test_split, cross_val_score, KFold\n",
    "from sklearn.metrics import recall_score, precision_score, f1_score, roc_auc_score, r2_score, mean_absolute_error, mean_squared_error, confusion_matrix, accuracy_score\n",
    "from sklearn.preprocessing import LabelEncoder\n",
    "import matplotlib.pyplot as plt\n",
    "import seaborn as sns\n",
    "from sklearn.linear_model import LinearRegression\n",
    "from sklearn.ensemble import GradientBoostingRegressor\n",
    "from sklearn.tree import DecisionTreeRegressor\n",
    "from sklearn.neighbors import KNeighborsRegressor\n",
    "from sklearn.svm import SVR\n",
    "from sklearn.metrics import make_scorer\n",
    "from sklearn.model_selection import GridSearchCV\n",
    "from sklearn.metrics import make_scorer\n",
    "from sklearn.model_selection import RandomizedSearchCV"
   ]
  },
  {
   "cell_type": "code",
   "execution_count": 2,
   "metadata": {},
   "outputs": [
    {
     "name": "stdout",
     "output_type": "stream",
     "text": [
      "<class 'pandas.core.frame.DataFrame'>\n",
      "RangeIndex: 22716 entries, 0 to 22715\n",
      "Data columns (total 87 columns):\n",
      " #   Column                                              Non-Null Count  Dtype  \n",
      "---  ------                                              --------------  -----  \n",
      " 0   date                                                22716 non-null  object \n",
      " 1   final.output.concentrate_ag                         22627 non-null  float64\n",
      " 2   final.output.concentrate_pb                         22629 non-null  float64\n",
      " 3   final.output.concentrate_sol                        22331 non-null  float64\n",
      " 4   final.output.concentrate_au                         22630 non-null  float64\n",
      " 5   final.output.recovery                               20753 non-null  float64\n",
      " 6   final.output.tail_ag                                22633 non-null  float64\n",
      " 7   final.output.tail_pb                                22516 non-null  float64\n",
      " 8   final.output.tail_sol                               22445 non-null  float64\n",
      " 9   final.output.tail_au                                22635 non-null  float64\n",
      " 10  primary_cleaner.input.sulfate                       21107 non-null  float64\n",
      " 11  primary_cleaner.input.depressant                    21170 non-null  float64\n",
      " 12  primary_cleaner.input.feed_size                     22716 non-null  float64\n",
      " 13  primary_cleaner.input.xanthate                      21565 non-null  float64\n",
      " 14  primary_cleaner.output.concentrate_ag               22618 non-null  float64\n",
      " 15  primary_cleaner.output.concentrate_pb               22268 non-null  float64\n",
      " 16  primary_cleaner.output.concentrate_sol              21918 non-null  float64\n",
      " 17  primary_cleaner.output.concentrate_au               22618 non-null  float64\n",
      " 18  primary_cleaner.output.tail_ag                      22614 non-null  float64\n",
      " 19  primary_cleaner.output.tail_pb                      22594 non-null  float64\n",
      " 20  primary_cleaner.output.tail_sol                     22365 non-null  float64\n",
      " 21  primary_cleaner.output.tail_au                      22617 non-null  float64\n",
      " 22  primary_cleaner.state.floatbank8_a_air              22660 non-null  float64\n",
      " 23  primary_cleaner.state.floatbank8_a_level            22667 non-null  float64\n",
      " 24  primary_cleaner.state.floatbank8_b_air              22660 non-null  float64\n",
      " 25  primary_cleaner.state.floatbank8_b_level            22673 non-null  float64\n",
      " 26  primary_cleaner.state.floatbank8_c_air              22662 non-null  float64\n",
      " 27  primary_cleaner.state.floatbank8_c_level            22673 non-null  float64\n",
      " 28  primary_cleaner.state.floatbank8_d_air              22661 non-null  float64\n",
      " 29  primary_cleaner.state.floatbank8_d_level            22673 non-null  float64\n",
      " 30  rougher.calculation.sulfate_to_au_concentrate       22672 non-null  float64\n",
      " 31  rougher.calculation.floatbank10_sulfate_to_au_feed  22672 non-null  float64\n",
      " 32  rougher.calculation.floatbank11_sulfate_to_au_feed  22672 non-null  float64\n",
      " 33  rougher.calculation.au_pb_ratio                     21089 non-null  float64\n",
      " 34  rougher.input.feed_ag                               22618 non-null  float64\n",
      " 35  rougher.input.feed_pb                               22472 non-null  float64\n",
      " 36  rougher.input.feed_rate                             22163 non-null  float64\n",
      " 37  rougher.input.feed_size                             22277 non-null  float64\n",
      " 38  rougher.input.feed_sol                              22357 non-null  float64\n",
      " 39  rougher.input.feed_au                               22617 non-null  float64\n",
      " 40  rougher.input.floatbank10_sulfate                   21415 non-null  float64\n",
      " 41  rougher.input.floatbank10_xanthate                  22247 non-null  float64\n",
      " 42  rougher.input.floatbank11_sulfate                   22038 non-null  float64\n",
      " 43  rougher.input.floatbank11_xanthate                  20459 non-null  float64\n",
      " 44  rougher.output.concentrate_ag                       22618 non-null  float64\n",
      " 45  rougher.output.concentrate_pb                       22618 non-null  float64\n",
      " 46  rougher.output.concentrate_sol                      22526 non-null  float64\n",
      " 47  rougher.output.concentrate_au                       22618 non-null  float64\n",
      " 48  rougher.output.recovery                             19597 non-null  float64\n",
      " 49  rougher.output.tail_ag                              19979 non-null  float64\n",
      " 50  rougher.output.tail_pb                              22618 non-null  float64\n",
      " 51  rougher.output.tail_sol                             19980 non-null  float64\n",
      " 52  rougher.output.tail_au                              19980 non-null  float64\n",
      " 53  rougher.state.floatbank10_a_air                     22646 non-null  float64\n",
      " 54  rougher.state.floatbank10_a_level                   22647 non-null  float64\n",
      " 55  rougher.state.floatbank10_b_air                     22646 non-null  float64\n",
      " 56  rougher.state.floatbank10_b_level                   22647 non-null  float64\n",
      " 57  rougher.state.floatbank10_c_air                     22646 non-null  float64\n",
      " 58  rougher.state.floatbank10_c_level                   22654 non-null  float64\n",
      " 59  rougher.state.floatbank10_d_air                     22641 non-null  float64\n",
      " 60  rougher.state.floatbank10_d_level                   22649 non-null  float64\n",
      " 61  rougher.state.floatbank10_e_air                     22096 non-null  float64\n",
      " 62  rougher.state.floatbank10_e_level                   22649 non-null  float64\n",
      " 63  rougher.state.floatbank10_f_air                     22641 non-null  float64\n",
      " 64  rougher.state.floatbank10_f_level                   22642 non-null  float64\n",
      " 65  secondary_cleaner.output.tail_ag                    22616 non-null  float64\n",
      " 66  secondary_cleaner.output.tail_pb                    22600 non-null  float64\n",
      " 67  secondary_cleaner.output.tail_sol                   20501 non-null  float64\n",
      " 68  secondary_cleaner.output.tail_au                    22618 non-null  float64\n",
      " 69  secondary_cleaner.state.floatbank2_a_air            22333 non-null  float64\n",
      " 70  secondary_cleaner.state.floatbank2_a_level          22591 non-null  float64\n",
      " 71  secondary_cleaner.state.floatbank2_b_air            22538 non-null  float64\n",
      " 72  secondary_cleaner.state.floatbank2_b_level          22588 non-null  float64\n",
      " 73  secondary_cleaner.state.floatbank3_a_air            22585 non-null  float64\n",
      " 74  secondary_cleaner.state.floatbank3_a_level          22587 non-null  float64\n",
      " 75  secondary_cleaner.state.floatbank3_b_air            22592 non-null  float64\n",
      " 76  secondary_cleaner.state.floatbank3_b_level          22590 non-null  float64\n",
      " 77  secondary_cleaner.state.floatbank4_a_air            22571 non-null  float64\n",
      " 78  secondary_cleaner.state.floatbank4_a_level          22587 non-null  float64\n",
      " 79  secondary_cleaner.state.floatbank4_b_air            22608 non-null  float64\n",
      " 80  secondary_cleaner.state.floatbank4_b_level          22607 non-null  float64\n",
      " 81  secondary_cleaner.state.floatbank5_a_air            22615 non-null  float64\n",
      " 82  secondary_cleaner.state.floatbank5_a_level          22615 non-null  float64\n",
      " 83  secondary_cleaner.state.floatbank5_b_air            22615 non-null  float64\n",
      " 84  secondary_cleaner.state.floatbank5_b_level          22616 non-null  float64\n",
      " 85  secondary_cleaner.state.floatbank6_a_air            22597 non-null  float64\n",
      " 86  secondary_cleaner.state.floatbank6_a_level          22615 non-null  float64\n",
      "dtypes: float64(86), object(1)\n",
      "memory usage: 15.1+ MB\n"
     ]
    },
    {
     "data": {
      "text/plain": [
       "None"
      ]
     },
     "metadata": {},
     "output_type": "display_data"
    },
    {
     "name": "stdout",
     "output_type": "stream",
     "text": [
      "<class 'pandas.core.frame.DataFrame'>\n",
      "RangeIndex: 5856 entries, 0 to 5855\n",
      "Data columns (total 53 columns):\n",
      " #   Column                                      Non-Null Count  Dtype  \n",
      "---  ------                                      --------------  -----  \n",
      " 0   date                                        5856 non-null   object \n",
      " 1   primary_cleaner.input.sulfate               5554 non-null   float64\n",
      " 2   primary_cleaner.input.depressant            5572 non-null   float64\n",
      " 3   primary_cleaner.input.feed_size             5856 non-null   float64\n",
      " 4   primary_cleaner.input.xanthate              5690 non-null   float64\n",
      " 5   primary_cleaner.state.floatbank8_a_air      5840 non-null   float64\n",
      " 6   primary_cleaner.state.floatbank8_a_level    5840 non-null   float64\n",
      " 7   primary_cleaner.state.floatbank8_b_air      5840 non-null   float64\n",
      " 8   primary_cleaner.state.floatbank8_b_level    5840 non-null   float64\n",
      " 9   primary_cleaner.state.floatbank8_c_air      5840 non-null   float64\n",
      " 10  primary_cleaner.state.floatbank8_c_level    5840 non-null   float64\n",
      " 11  primary_cleaner.state.floatbank8_d_air      5840 non-null   float64\n",
      " 12  primary_cleaner.state.floatbank8_d_level    5840 non-null   float64\n",
      " 13  rougher.input.feed_ag                       5840 non-null   float64\n",
      " 14  rougher.input.feed_pb                       5840 non-null   float64\n",
      " 15  rougher.input.feed_rate                     5816 non-null   float64\n",
      " 16  rougher.input.feed_size                     5834 non-null   float64\n",
      " 17  rougher.input.feed_sol                      5789 non-null   float64\n",
      " 18  rougher.input.feed_au                       5840 non-null   float64\n",
      " 19  rougher.input.floatbank10_sulfate           5599 non-null   float64\n",
      " 20  rougher.input.floatbank10_xanthate          5733 non-null   float64\n",
      " 21  rougher.input.floatbank11_sulfate           5801 non-null   float64\n",
      " 22  rougher.input.floatbank11_xanthate          5503 non-null   float64\n",
      " 23  rougher.state.floatbank10_a_air             5839 non-null   float64\n",
      " 24  rougher.state.floatbank10_a_level           5840 non-null   float64\n",
      " 25  rougher.state.floatbank10_b_air             5839 non-null   float64\n",
      " 26  rougher.state.floatbank10_b_level           5840 non-null   float64\n",
      " 27  rougher.state.floatbank10_c_air             5839 non-null   float64\n",
      " 28  rougher.state.floatbank10_c_level           5840 non-null   float64\n",
      " 29  rougher.state.floatbank10_d_air             5839 non-null   float64\n",
      " 30  rougher.state.floatbank10_d_level           5840 non-null   float64\n",
      " 31  rougher.state.floatbank10_e_air             5839 non-null   float64\n",
      " 32  rougher.state.floatbank10_e_level           5840 non-null   float64\n",
      " 33  rougher.state.floatbank10_f_air             5839 non-null   float64\n",
      " 34  rougher.state.floatbank10_f_level           5840 non-null   float64\n",
      " 35  secondary_cleaner.state.floatbank2_a_air    5836 non-null   float64\n",
      " 36  secondary_cleaner.state.floatbank2_a_level  5840 non-null   float64\n",
      " 37  secondary_cleaner.state.floatbank2_b_air    5833 non-null   float64\n",
      " 38  secondary_cleaner.state.floatbank2_b_level  5840 non-null   float64\n",
      " 39  secondary_cleaner.state.floatbank3_a_air    5822 non-null   float64\n",
      " 40  secondary_cleaner.state.floatbank3_a_level  5840 non-null   float64\n",
      " 41  secondary_cleaner.state.floatbank3_b_air    5840 non-null   float64\n",
      " 42  secondary_cleaner.state.floatbank3_b_level  5840 non-null   float64\n",
      " 43  secondary_cleaner.state.floatbank4_a_air    5840 non-null   float64\n",
      " 44  secondary_cleaner.state.floatbank4_a_level  5840 non-null   float64\n",
      " 45  secondary_cleaner.state.floatbank4_b_air    5840 non-null   float64\n",
      " 46  secondary_cleaner.state.floatbank4_b_level  5840 non-null   float64\n",
      " 47  secondary_cleaner.state.floatbank5_a_air    5840 non-null   float64\n",
      " 48  secondary_cleaner.state.floatbank5_a_level  5840 non-null   float64\n",
      " 49  secondary_cleaner.state.floatbank5_b_air    5840 non-null   float64\n",
      " 50  secondary_cleaner.state.floatbank5_b_level  5840 non-null   float64\n",
      " 51  secondary_cleaner.state.floatbank6_a_air    5840 non-null   float64\n",
      " 52  secondary_cleaner.state.floatbank6_a_level  5840 non-null   float64\n",
      "dtypes: float64(52), object(1)\n",
      "memory usage: 2.4+ MB\n"
     ]
    },
    {
     "data": {
      "text/plain": [
       "None"
      ]
     },
     "metadata": {},
     "output_type": "display_data"
    },
    {
     "name": "stdout",
     "output_type": "stream",
     "text": [
      "<class 'pandas.core.frame.DataFrame'>\n",
      "RangeIndex: 16860 entries, 0 to 16859\n",
      "Data columns (total 87 columns):\n",
      " #   Column                                              Non-Null Count  Dtype  \n",
      "---  ------                                              --------------  -----  \n",
      " 0   date                                                16860 non-null  object \n",
      " 1   final.output.concentrate_ag                         16788 non-null  float64\n",
      " 2   final.output.concentrate_pb                         16788 non-null  float64\n",
      " 3   final.output.concentrate_sol                        16490 non-null  float64\n",
      " 4   final.output.concentrate_au                         16789 non-null  float64\n",
      " 5   final.output.recovery                               15339 non-null  float64\n",
      " 6   final.output.tail_ag                                16794 non-null  float64\n",
      " 7   final.output.tail_pb                                16677 non-null  float64\n",
      " 8   final.output.tail_sol                               16715 non-null  float64\n",
      " 9   final.output.tail_au                                16794 non-null  float64\n",
      " 10  primary_cleaner.input.sulfate                       15553 non-null  float64\n",
      " 11  primary_cleaner.input.depressant                    15598 non-null  float64\n",
      " 12  primary_cleaner.input.feed_size                     16860 non-null  float64\n",
      " 13  primary_cleaner.input.xanthate                      15875 non-null  float64\n",
      " 14  primary_cleaner.output.concentrate_ag               16778 non-null  float64\n",
      " 15  primary_cleaner.output.concentrate_pb               16502 non-null  float64\n",
      " 16  primary_cleaner.output.concentrate_sol              16224 non-null  float64\n",
      " 17  primary_cleaner.output.concentrate_au               16778 non-null  float64\n",
      " 18  primary_cleaner.output.tail_ag                      16777 non-null  float64\n",
      " 19  primary_cleaner.output.tail_pb                      16761 non-null  float64\n",
      " 20  primary_cleaner.output.tail_sol                     16579 non-null  float64\n",
      " 21  primary_cleaner.output.tail_au                      16777 non-null  float64\n",
      " 22  primary_cleaner.state.floatbank8_a_air              16820 non-null  float64\n",
      " 23  primary_cleaner.state.floatbank8_a_level            16827 non-null  float64\n",
      " 24  primary_cleaner.state.floatbank8_b_air              16820 non-null  float64\n",
      " 25  primary_cleaner.state.floatbank8_b_level            16833 non-null  float64\n",
      " 26  primary_cleaner.state.floatbank8_c_air              16822 non-null  float64\n",
      " 27  primary_cleaner.state.floatbank8_c_level            16833 non-null  float64\n",
      " 28  primary_cleaner.state.floatbank8_d_air              16821 non-null  float64\n",
      " 29  primary_cleaner.state.floatbank8_d_level            16833 non-null  float64\n",
      " 30  rougher.calculation.sulfate_to_au_concentrate       16833 non-null  float64\n",
      " 31  rougher.calculation.floatbank10_sulfate_to_au_feed  16833 non-null  float64\n",
      " 32  rougher.calculation.floatbank11_sulfate_to_au_feed  16833 non-null  float64\n",
      " 33  rougher.calculation.au_pb_ratio                     15618 non-null  float64\n",
      " 34  rougher.input.feed_ag                               16778 non-null  float64\n",
      " 35  rougher.input.feed_pb                               16632 non-null  float64\n",
      " 36  rougher.input.feed_rate                             16347 non-null  float64\n",
      " 37  rougher.input.feed_size                             16443 non-null  float64\n",
      " 38  rougher.input.feed_sol                              16568 non-null  float64\n",
      " 39  rougher.input.feed_au                               16777 non-null  float64\n",
      " 40  rougher.input.floatbank10_sulfate                   15816 non-null  float64\n",
      " 41  rougher.input.floatbank10_xanthate                  16514 non-null  float64\n",
      " 42  rougher.input.floatbank11_sulfate                   16237 non-null  float64\n",
      " 43  rougher.input.floatbank11_xanthate                  14956 non-null  float64\n",
      " 44  rougher.output.concentrate_ag                       16778 non-null  float64\n",
      " 45  rougher.output.concentrate_pb                       16778 non-null  float64\n",
      " 46  rougher.output.concentrate_sol                      16698 non-null  float64\n",
      " 47  rougher.output.concentrate_au                       16778 non-null  float64\n",
      " 48  rougher.output.recovery                             14287 non-null  float64\n",
      " 49  rougher.output.tail_ag                              14610 non-null  float64\n",
      " 50  rougher.output.tail_pb                              16778 non-null  float64\n",
      " 51  rougher.output.tail_sol                             14611 non-null  float64\n",
      " 52  rougher.output.tail_au                              14611 non-null  float64\n",
      " 53  rougher.state.floatbank10_a_air                     16807 non-null  float64\n",
      " 54  rougher.state.floatbank10_a_level                   16807 non-null  float64\n",
      " 55  rougher.state.floatbank10_b_air                     16807 non-null  float64\n",
      " 56  rougher.state.floatbank10_b_level                   16807 non-null  float64\n",
      " 57  rougher.state.floatbank10_c_air                     16807 non-null  float64\n",
      " 58  rougher.state.floatbank10_c_level                   16814 non-null  float64\n",
      " 59  rougher.state.floatbank10_d_air                     16802 non-null  float64\n",
      " 60  rougher.state.floatbank10_d_level                   16809 non-null  float64\n",
      " 61  rougher.state.floatbank10_e_air                     16257 non-null  float64\n",
      " 62  rougher.state.floatbank10_e_level                   16809 non-null  float64\n",
      " 63  rougher.state.floatbank10_f_air                     16802 non-null  float64\n",
      " 64  rougher.state.floatbank10_f_level                   16802 non-null  float64\n",
      " 65  secondary_cleaner.output.tail_ag                    16776 non-null  float64\n",
      " 66  secondary_cleaner.output.tail_pb                    16764 non-null  float64\n",
      " 67  secondary_cleaner.output.tail_sol                   14874 non-null  float64\n",
      " 68  secondary_cleaner.output.tail_au                    16778 non-null  float64\n",
      " 69  secondary_cleaner.state.floatbank2_a_air            16497 non-null  float64\n",
      " 70  secondary_cleaner.state.floatbank2_a_level          16751 non-null  float64\n",
      " 71  secondary_cleaner.state.floatbank2_b_air            16705 non-null  float64\n",
      " 72  secondary_cleaner.state.floatbank2_b_level          16748 non-null  float64\n",
      " 73  secondary_cleaner.state.floatbank3_a_air            16763 non-null  float64\n",
      " 74  secondary_cleaner.state.floatbank3_a_level          16747 non-null  float64\n",
      " 75  secondary_cleaner.state.floatbank3_b_air            16752 non-null  float64\n",
      " 76  secondary_cleaner.state.floatbank3_b_level          16750 non-null  float64\n",
      " 77  secondary_cleaner.state.floatbank4_a_air            16731 non-null  float64\n",
      " 78  secondary_cleaner.state.floatbank4_a_level          16747 non-null  float64\n",
      " 79  secondary_cleaner.state.floatbank4_b_air            16768 non-null  float64\n",
      " 80  secondary_cleaner.state.floatbank4_b_level          16767 non-null  float64\n",
      " 81  secondary_cleaner.state.floatbank5_a_air            16775 non-null  float64\n",
      " 82  secondary_cleaner.state.floatbank5_a_level          16775 non-null  float64\n",
      " 83  secondary_cleaner.state.floatbank5_b_air            16775 non-null  float64\n",
      " 84  secondary_cleaner.state.floatbank5_b_level          16776 non-null  float64\n",
      " 85  secondary_cleaner.state.floatbank6_a_air            16757 non-null  float64\n",
      " 86  secondary_cleaner.state.floatbank6_a_level          16775 non-null  float64\n",
      "dtypes: float64(86), object(1)\n",
      "memory usage: 11.2+ MB\n"
     ]
    },
    {
     "data": {
      "text/plain": [
       "None"
      ]
     },
     "metadata": {},
     "output_type": "display_data"
    }
   ],
   "source": [
    "gr_full = pd.read_csv(\"/datasets/gold_recovery_full.csv\")\n",
    "gr_test = pd.read_csv(\"/datasets/gold_recovery_test.csv\")\n",
    "gr_train = pd.read_csv(\"/datasets/gold_recovery_train.csv\")\n",
    "display(gr_full.info())\n",
    "display(gr_test.info())\n",
    "display(gr_train.info())"
   ]
  },
  {
   "cell_type": "code",
   "execution_count": 3,
   "metadata": {},
   "outputs": [
    {
     "data": {
      "text/plain": [
       "(16860, 87)"
      ]
     },
     "metadata": {},
     "output_type": "display_data"
    },
    {
     "data": {
      "text/plain": [
       "(5856, 53)"
      ]
     },
     "metadata": {},
     "output_type": "display_data"
    },
    {
     "data": {
      "text/plain": [
       "(22716, 87)"
      ]
     },
     "metadata": {},
     "output_type": "display_data"
    }
   ],
   "source": [
    "display(gr_train.shape)\n",
    "display(gr_test.shape)\n",
    "display(gr_full.shape)"
   ]
  },
  {
   "cell_type": "code",
   "execution_count": 4,
   "metadata": {},
   "outputs": [
    {
     "data": {
      "text/html": [
       "<div>\n",
       "<style scoped>\n",
       "    .dataframe tbody tr th:only-of-type {\n",
       "        vertical-align: middle;\n",
       "    }\n",
       "\n",
       "    .dataframe tbody tr th {\n",
       "        vertical-align: top;\n",
       "    }\n",
       "\n",
       "    .dataframe thead th {\n",
       "        text-align: right;\n",
       "    }\n",
       "</style>\n",
       "<table border=\"1\" class=\"dataframe\">\n",
       "  <thead>\n",
       "    <tr style=\"text-align: right;\">\n",
       "      <th></th>\n",
       "      <th>final.output.concentrate_ag</th>\n",
       "      <th>final.output.concentrate_pb</th>\n",
       "      <th>final.output.concentrate_sol</th>\n",
       "      <th>final.output.concentrate_au</th>\n",
       "      <th>final.output.recovery</th>\n",
       "      <th>final.output.tail_ag</th>\n",
       "      <th>final.output.tail_pb</th>\n",
       "      <th>final.output.tail_sol</th>\n",
       "      <th>final.output.tail_au</th>\n",
       "      <th>primary_cleaner.input.sulfate</th>\n",
       "      <th>...</th>\n",
       "      <th>secondary_cleaner.state.floatbank4_a_air</th>\n",
       "      <th>secondary_cleaner.state.floatbank4_a_level</th>\n",
       "      <th>secondary_cleaner.state.floatbank4_b_air</th>\n",
       "      <th>secondary_cleaner.state.floatbank4_b_level</th>\n",
       "      <th>secondary_cleaner.state.floatbank5_a_air</th>\n",
       "      <th>secondary_cleaner.state.floatbank5_a_level</th>\n",
       "      <th>secondary_cleaner.state.floatbank5_b_air</th>\n",
       "      <th>secondary_cleaner.state.floatbank5_b_level</th>\n",
       "      <th>secondary_cleaner.state.floatbank6_a_air</th>\n",
       "      <th>secondary_cleaner.state.floatbank6_a_level</th>\n",
       "    </tr>\n",
       "  </thead>\n",
       "  <tbody>\n",
       "    <tr>\n",
       "      <th>count</th>\n",
       "      <td>16788.000000</td>\n",
       "      <td>16788.000000</td>\n",
       "      <td>16490.000000</td>\n",
       "      <td>16789.000000</td>\n",
       "      <td>15339.000000</td>\n",
       "      <td>16794.000000</td>\n",
       "      <td>16677.000000</td>\n",
       "      <td>16715.000000</td>\n",
       "      <td>16794.000000</td>\n",
       "      <td>15553.000000</td>\n",
       "      <td>...</td>\n",
       "      <td>16731.000000</td>\n",
       "      <td>16747.000000</td>\n",
       "      <td>16768.000000</td>\n",
       "      <td>16767.000000</td>\n",
       "      <td>16775.000000</td>\n",
       "      <td>16775.000000</td>\n",
       "      <td>16775.000000</td>\n",
       "      <td>16776.000000</td>\n",
       "      <td>16757.000000</td>\n",
       "      <td>16775.000000</td>\n",
       "    </tr>\n",
       "    <tr>\n",
       "      <th>mean</th>\n",
       "      <td>4.716907</td>\n",
       "      <td>9.113559</td>\n",
       "      <td>8.301123</td>\n",
       "      <td>39.467217</td>\n",
       "      <td>67.213166</td>\n",
       "      <td>8.757048</td>\n",
       "      <td>2.360327</td>\n",
       "      <td>9.303932</td>\n",
       "      <td>2.687512</td>\n",
       "      <td>129.479789</td>\n",
       "      <td>...</td>\n",
       "      <td>19.101874</td>\n",
       "      <td>-494.164481</td>\n",
       "      <td>14.778164</td>\n",
       "      <td>-476.600082</td>\n",
       "      <td>15.779488</td>\n",
       "      <td>-500.230146</td>\n",
       "      <td>12.377241</td>\n",
       "      <td>-498.956257</td>\n",
       "      <td>18.429208</td>\n",
       "      <td>-521.801826</td>\n",
       "    </tr>\n",
       "    <tr>\n",
       "      <th>std</th>\n",
       "      <td>2.096718</td>\n",
       "      <td>3.389495</td>\n",
       "      <td>3.825760</td>\n",
       "      <td>13.917227</td>\n",
       "      <td>11.960446</td>\n",
       "      <td>3.634103</td>\n",
       "      <td>1.215576</td>\n",
       "      <td>4.263208</td>\n",
       "      <td>1.272757</td>\n",
       "      <td>45.386931</td>\n",
       "      <td>...</td>\n",
       "      <td>6.883163</td>\n",
       "      <td>84.803334</td>\n",
       "      <td>5.999149</td>\n",
       "      <td>89.381172</td>\n",
       "      <td>6.834703</td>\n",
       "      <td>76.983542</td>\n",
       "      <td>6.219989</td>\n",
       "      <td>82.146207</td>\n",
       "      <td>6.958294</td>\n",
       "      <td>77.170888</td>\n",
       "    </tr>\n",
       "    <tr>\n",
       "      <th>min</th>\n",
       "      <td>0.000000</td>\n",
       "      <td>0.000000</td>\n",
       "      <td>0.000000</td>\n",
       "      <td>0.000000</td>\n",
       "      <td>0.000000</td>\n",
       "      <td>0.000000</td>\n",
       "      <td>0.000000</td>\n",
       "      <td>0.000000</td>\n",
       "      <td>0.000000</td>\n",
       "      <td>0.000003</td>\n",
       "      <td>...</td>\n",
       "      <td>0.000000</td>\n",
       "      <td>-799.920713</td>\n",
       "      <td>0.000000</td>\n",
       "      <td>-800.021781</td>\n",
       "      <td>-0.423260</td>\n",
       "      <td>-799.741097</td>\n",
       "      <td>0.427084</td>\n",
       "      <td>-800.258209</td>\n",
       "      <td>0.024270</td>\n",
       "      <td>-810.473526</td>\n",
       "    </tr>\n",
       "    <tr>\n",
       "      <th>25%</th>\n",
       "      <td>3.971262</td>\n",
       "      <td>8.825748</td>\n",
       "      <td>6.939185</td>\n",
       "      <td>42.055722</td>\n",
       "      <td>62.625685</td>\n",
       "      <td>7.610544</td>\n",
       "      <td>1.641604</td>\n",
       "      <td>7.870275</td>\n",
       "      <td>2.172953</td>\n",
       "      <td>103.064021</td>\n",
       "      <td>...</td>\n",
       "      <td>14.508299</td>\n",
       "      <td>-500.837689</td>\n",
       "      <td>10.741388</td>\n",
       "      <td>-500.269182</td>\n",
       "      <td>10.977713</td>\n",
       "      <td>-500.530594</td>\n",
       "      <td>8.925586</td>\n",
       "      <td>-500.147603</td>\n",
       "      <td>13.977626</td>\n",
       "      <td>-501.080595</td>\n",
       "    </tr>\n",
       "    <tr>\n",
       "      <th>50%</th>\n",
       "      <td>4.869346</td>\n",
       "      <td>10.065316</td>\n",
       "      <td>8.557228</td>\n",
       "      <td>44.498874</td>\n",
       "      <td>67.644601</td>\n",
       "      <td>9.220393</td>\n",
       "      <td>2.453690</td>\n",
       "      <td>10.021968</td>\n",
       "      <td>2.781132</td>\n",
       "      <td>131.783108</td>\n",
       "      <td>...</td>\n",
       "      <td>19.986958</td>\n",
       "      <td>-499.778379</td>\n",
       "      <td>14.943933</td>\n",
       "      <td>-499.593286</td>\n",
       "      <td>15.998340</td>\n",
       "      <td>-499.784231</td>\n",
       "      <td>11.092839</td>\n",
       "      <td>-499.933330</td>\n",
       "      <td>18.034960</td>\n",
       "      <td>-500.109898</td>\n",
       "    </tr>\n",
       "    <tr>\n",
       "      <th>75%</th>\n",
       "      <td>5.821176</td>\n",
       "      <td>11.054809</td>\n",
       "      <td>10.289741</td>\n",
       "      <td>45.976222</td>\n",
       "      <td>72.824595</td>\n",
       "      <td>10.971110</td>\n",
       "      <td>3.192404</td>\n",
       "      <td>11.648573</td>\n",
       "      <td>3.416936</td>\n",
       "      <td>159.539839</td>\n",
       "      <td>...</td>\n",
       "      <td>24.983961</td>\n",
       "      <td>-494.648754</td>\n",
       "      <td>20.023751</td>\n",
       "      <td>-400.137948</td>\n",
       "      <td>20.000701</td>\n",
       "      <td>-496.531781</td>\n",
       "      <td>15.979467</td>\n",
       "      <td>-498.418000</td>\n",
       "      <td>24.984992</td>\n",
       "      <td>-499.565540</td>\n",
       "    </tr>\n",
       "    <tr>\n",
       "      <th>max</th>\n",
       "      <td>16.001945</td>\n",
       "      <td>17.031899</td>\n",
       "      <td>18.124851</td>\n",
       "      <td>53.611374</td>\n",
       "      <td>100.000000</td>\n",
       "      <td>19.552149</td>\n",
       "      <td>6.086532</td>\n",
       "      <td>22.317730</td>\n",
       "      <td>9.789625</td>\n",
       "      <td>251.999948</td>\n",
       "      <td>...</td>\n",
       "      <td>60.000000</td>\n",
       "      <td>-127.692333</td>\n",
       "      <td>28.003828</td>\n",
       "      <td>-71.472472</td>\n",
       "      <td>63.116298</td>\n",
       "      <td>-275.073125</td>\n",
       "      <td>39.846228</td>\n",
       "      <td>-120.190931</td>\n",
       "      <td>54.876806</td>\n",
       "      <td>-39.784927</td>\n",
       "    </tr>\n",
       "  </tbody>\n",
       "</table>\n",
       "<p>8 rows × 86 columns</p>\n",
       "</div>"
      ],
      "text/plain": [
       "       final.output.concentrate_ag  final.output.concentrate_pb  \\\n",
       "count                 16788.000000                 16788.000000   \n",
       "mean                      4.716907                     9.113559   \n",
       "std                       2.096718                     3.389495   \n",
       "min                       0.000000                     0.000000   \n",
       "25%                       3.971262                     8.825748   \n",
       "50%                       4.869346                    10.065316   \n",
       "75%                       5.821176                    11.054809   \n",
       "max                      16.001945                    17.031899   \n",
       "\n",
       "       final.output.concentrate_sol  final.output.concentrate_au  \\\n",
       "count                  16490.000000                 16789.000000   \n",
       "mean                       8.301123                    39.467217   \n",
       "std                        3.825760                    13.917227   \n",
       "min                        0.000000                     0.000000   \n",
       "25%                        6.939185                    42.055722   \n",
       "50%                        8.557228                    44.498874   \n",
       "75%                       10.289741                    45.976222   \n",
       "max                       18.124851                    53.611374   \n",
       "\n",
       "       final.output.recovery  final.output.tail_ag  final.output.tail_pb  \\\n",
       "count           15339.000000          16794.000000          16677.000000   \n",
       "mean               67.213166              8.757048              2.360327   \n",
       "std                11.960446              3.634103              1.215576   \n",
       "min                 0.000000              0.000000              0.000000   \n",
       "25%                62.625685              7.610544              1.641604   \n",
       "50%                67.644601              9.220393              2.453690   \n",
       "75%                72.824595             10.971110              3.192404   \n",
       "max               100.000000             19.552149              6.086532   \n",
       "\n",
       "       final.output.tail_sol  final.output.tail_au  \\\n",
       "count           16715.000000          16794.000000   \n",
       "mean                9.303932              2.687512   \n",
       "std                 4.263208              1.272757   \n",
       "min                 0.000000              0.000000   \n",
       "25%                 7.870275              2.172953   \n",
       "50%                10.021968              2.781132   \n",
       "75%                11.648573              3.416936   \n",
       "max                22.317730              9.789625   \n",
       "\n",
       "       primary_cleaner.input.sulfate  ...  \\\n",
       "count                   15553.000000  ...   \n",
       "mean                      129.479789  ...   \n",
       "std                        45.386931  ...   \n",
       "min                         0.000003  ...   \n",
       "25%                       103.064021  ...   \n",
       "50%                       131.783108  ...   \n",
       "75%                       159.539839  ...   \n",
       "max                       251.999948  ...   \n",
       "\n",
       "       secondary_cleaner.state.floatbank4_a_air  \\\n",
       "count                              16731.000000   \n",
       "mean                                  19.101874   \n",
       "std                                    6.883163   \n",
       "min                                    0.000000   \n",
       "25%                                   14.508299   \n",
       "50%                                   19.986958   \n",
       "75%                                   24.983961   \n",
       "max                                   60.000000   \n",
       "\n",
       "       secondary_cleaner.state.floatbank4_a_level  \\\n",
       "count                                16747.000000   \n",
       "mean                                  -494.164481   \n",
       "std                                     84.803334   \n",
       "min                                   -799.920713   \n",
       "25%                                   -500.837689   \n",
       "50%                                   -499.778379   \n",
       "75%                                   -494.648754   \n",
       "max                                   -127.692333   \n",
       "\n",
       "       secondary_cleaner.state.floatbank4_b_air  \\\n",
       "count                              16768.000000   \n",
       "mean                                  14.778164   \n",
       "std                                    5.999149   \n",
       "min                                    0.000000   \n",
       "25%                                   10.741388   \n",
       "50%                                   14.943933   \n",
       "75%                                   20.023751   \n",
       "max                                   28.003828   \n",
       "\n",
       "       secondary_cleaner.state.floatbank4_b_level  \\\n",
       "count                                16767.000000   \n",
       "mean                                  -476.600082   \n",
       "std                                     89.381172   \n",
       "min                                   -800.021781   \n",
       "25%                                   -500.269182   \n",
       "50%                                   -499.593286   \n",
       "75%                                   -400.137948   \n",
       "max                                    -71.472472   \n",
       "\n",
       "       secondary_cleaner.state.floatbank5_a_air  \\\n",
       "count                              16775.000000   \n",
       "mean                                  15.779488   \n",
       "std                                    6.834703   \n",
       "min                                   -0.423260   \n",
       "25%                                   10.977713   \n",
       "50%                                   15.998340   \n",
       "75%                                   20.000701   \n",
       "max                                   63.116298   \n",
       "\n",
       "       secondary_cleaner.state.floatbank5_a_level  \\\n",
       "count                                16775.000000   \n",
       "mean                                  -500.230146   \n",
       "std                                     76.983542   \n",
       "min                                   -799.741097   \n",
       "25%                                   -500.530594   \n",
       "50%                                   -499.784231   \n",
       "75%                                   -496.531781   \n",
       "max                                   -275.073125   \n",
       "\n",
       "       secondary_cleaner.state.floatbank5_b_air  \\\n",
       "count                              16775.000000   \n",
       "mean                                  12.377241   \n",
       "std                                    6.219989   \n",
       "min                                    0.427084   \n",
       "25%                                    8.925586   \n",
       "50%                                   11.092839   \n",
       "75%                                   15.979467   \n",
       "max                                   39.846228   \n",
       "\n",
       "       secondary_cleaner.state.floatbank5_b_level  \\\n",
       "count                                16776.000000   \n",
       "mean                                  -498.956257   \n",
       "std                                     82.146207   \n",
       "min                                   -800.258209   \n",
       "25%                                   -500.147603   \n",
       "50%                                   -499.933330   \n",
       "75%                                   -498.418000   \n",
       "max                                   -120.190931   \n",
       "\n",
       "       secondary_cleaner.state.floatbank6_a_air  \\\n",
       "count                              16757.000000   \n",
       "mean                                  18.429208   \n",
       "std                                    6.958294   \n",
       "min                                    0.024270   \n",
       "25%                                   13.977626   \n",
       "50%                                   18.034960   \n",
       "75%                                   24.984992   \n",
       "max                                   54.876806   \n",
       "\n",
       "       secondary_cleaner.state.floatbank6_a_level  \n",
       "count                                16775.000000  \n",
       "mean                                  -521.801826  \n",
       "std                                     77.170888  \n",
       "min                                   -810.473526  \n",
       "25%                                   -501.080595  \n",
       "50%                                   -500.109898  \n",
       "75%                                   -499.565540  \n",
       "max                                    -39.784927  \n",
       "\n",
       "[8 rows x 86 columns]"
      ]
     },
     "metadata": {},
     "output_type": "display_data"
    },
    {
     "data": {
      "text/html": [
       "<div>\n",
       "<style scoped>\n",
       "    .dataframe tbody tr th:only-of-type {\n",
       "        vertical-align: middle;\n",
       "    }\n",
       "\n",
       "    .dataframe tbody tr th {\n",
       "        vertical-align: top;\n",
       "    }\n",
       "\n",
       "    .dataframe thead th {\n",
       "        text-align: right;\n",
       "    }\n",
       "</style>\n",
       "<table border=\"1\" class=\"dataframe\">\n",
       "  <thead>\n",
       "    <tr style=\"text-align: right;\">\n",
       "      <th></th>\n",
       "      <th>primary_cleaner.input.sulfate</th>\n",
       "      <th>primary_cleaner.input.depressant</th>\n",
       "      <th>primary_cleaner.input.feed_size</th>\n",
       "      <th>primary_cleaner.input.xanthate</th>\n",
       "      <th>primary_cleaner.state.floatbank8_a_air</th>\n",
       "      <th>primary_cleaner.state.floatbank8_a_level</th>\n",
       "      <th>primary_cleaner.state.floatbank8_b_air</th>\n",
       "      <th>primary_cleaner.state.floatbank8_b_level</th>\n",
       "      <th>primary_cleaner.state.floatbank8_c_air</th>\n",
       "      <th>primary_cleaner.state.floatbank8_c_level</th>\n",
       "      <th>...</th>\n",
       "      <th>secondary_cleaner.state.floatbank4_a_air</th>\n",
       "      <th>secondary_cleaner.state.floatbank4_a_level</th>\n",
       "      <th>secondary_cleaner.state.floatbank4_b_air</th>\n",
       "      <th>secondary_cleaner.state.floatbank4_b_level</th>\n",
       "      <th>secondary_cleaner.state.floatbank5_a_air</th>\n",
       "      <th>secondary_cleaner.state.floatbank5_a_level</th>\n",
       "      <th>secondary_cleaner.state.floatbank5_b_air</th>\n",
       "      <th>secondary_cleaner.state.floatbank5_b_level</th>\n",
       "      <th>secondary_cleaner.state.floatbank6_a_air</th>\n",
       "      <th>secondary_cleaner.state.floatbank6_a_level</th>\n",
       "    </tr>\n",
       "  </thead>\n",
       "  <tbody>\n",
       "    <tr>\n",
       "      <th>count</th>\n",
       "      <td>5554.000000</td>\n",
       "      <td>5572.000000</td>\n",
       "      <td>5856.000000</td>\n",
       "      <td>5690.000000</td>\n",
       "      <td>5840.000000</td>\n",
       "      <td>5840.000000</td>\n",
       "      <td>5840.000000</td>\n",
       "      <td>5840.000000</td>\n",
       "      <td>5840.000000</td>\n",
       "      <td>5840.000000</td>\n",
       "      <td>...</td>\n",
       "      <td>5840.000000</td>\n",
       "      <td>5840.000000</td>\n",
       "      <td>5840.000000</td>\n",
       "      <td>5840.000000</td>\n",
       "      <td>5840.000000</td>\n",
       "      <td>5840.000000</td>\n",
       "      <td>5840.000000</td>\n",
       "      <td>5840.000000</td>\n",
       "      <td>5840.000000</td>\n",
       "      <td>5840.000000</td>\n",
       "    </tr>\n",
       "    <tr>\n",
       "      <th>mean</th>\n",
       "      <td>170.515243</td>\n",
       "      <td>8.482873</td>\n",
       "      <td>7.264651</td>\n",
       "      <td>1.321420</td>\n",
       "      <td>1481.990241</td>\n",
       "      <td>-509.057796</td>\n",
       "      <td>1486.908670</td>\n",
       "      <td>-511.743956</td>\n",
       "      <td>1468.495216</td>\n",
       "      <td>-509.741212</td>\n",
       "      <td>...</td>\n",
       "      <td>15.636031</td>\n",
       "      <td>-516.266074</td>\n",
       "      <td>13.145702</td>\n",
       "      <td>-476.338907</td>\n",
       "      <td>12.308967</td>\n",
       "      <td>-512.208126</td>\n",
       "      <td>9.470986</td>\n",
       "      <td>-505.017827</td>\n",
       "      <td>16.678722</td>\n",
       "      <td>-512.351694</td>\n",
       "    </tr>\n",
       "    <tr>\n",
       "      <th>std</th>\n",
       "      <td>49.608602</td>\n",
       "      <td>3.353105</td>\n",
       "      <td>0.611526</td>\n",
       "      <td>0.693246</td>\n",
       "      <td>310.453166</td>\n",
       "      <td>61.339256</td>\n",
       "      <td>313.224286</td>\n",
       "      <td>67.139074</td>\n",
       "      <td>309.980748</td>\n",
       "      <td>62.671873</td>\n",
       "      <td>...</td>\n",
       "      <td>4.660835</td>\n",
       "      <td>62.756748</td>\n",
       "      <td>4.304086</td>\n",
       "      <td>105.549424</td>\n",
       "      <td>3.762827</td>\n",
       "      <td>58.864651</td>\n",
       "      <td>3.312471</td>\n",
       "      <td>68.785898</td>\n",
       "      <td>5.404514</td>\n",
       "      <td>69.919839</td>\n",
       "    </tr>\n",
       "    <tr>\n",
       "      <th>min</th>\n",
       "      <td>0.000103</td>\n",
       "      <td>0.000031</td>\n",
       "      <td>5.650000</td>\n",
       "      <td>0.000003</td>\n",
       "      <td>0.000000</td>\n",
       "      <td>-799.773788</td>\n",
       "      <td>0.000000</td>\n",
       "      <td>-800.029078</td>\n",
       "      <td>0.000000</td>\n",
       "      <td>-799.995127</td>\n",
       "      <td>...</td>\n",
       "      <td>0.000000</td>\n",
       "      <td>-799.798523</td>\n",
       "      <td>0.000000</td>\n",
       "      <td>-800.836914</td>\n",
       "      <td>-0.223393</td>\n",
       "      <td>-799.661076</td>\n",
       "      <td>0.528083</td>\n",
       "      <td>-800.220337</td>\n",
       "      <td>-0.079426</td>\n",
       "      <td>-809.859706</td>\n",
       "    </tr>\n",
       "    <tr>\n",
       "      <th>25%</th>\n",
       "      <td>143.340022</td>\n",
       "      <td>6.411500</td>\n",
       "      <td>6.885625</td>\n",
       "      <td>0.888769</td>\n",
       "      <td>1497.190681</td>\n",
       "      <td>-500.455211</td>\n",
       "      <td>1497.150234</td>\n",
       "      <td>-500.936639</td>\n",
       "      <td>1437.050321</td>\n",
       "      <td>-501.300441</td>\n",
       "      <td>...</td>\n",
       "      <td>12.057838</td>\n",
       "      <td>-501.054741</td>\n",
       "      <td>11.880119</td>\n",
       "      <td>-500.419113</td>\n",
       "      <td>10.123459</td>\n",
       "      <td>-500.879383</td>\n",
       "      <td>7.991208</td>\n",
       "      <td>-500.223089</td>\n",
       "      <td>13.012422</td>\n",
       "      <td>-500.833821</td>\n",
       "    </tr>\n",
       "    <tr>\n",
       "      <th>50%</th>\n",
       "      <td>176.103893</td>\n",
       "      <td>8.023252</td>\n",
       "      <td>7.259333</td>\n",
       "      <td>1.183362</td>\n",
       "      <td>1554.659783</td>\n",
       "      <td>-499.997402</td>\n",
       "      <td>1553.268084</td>\n",
       "      <td>-500.066588</td>\n",
       "      <td>1546.160672</td>\n",
       "      <td>-500.079537</td>\n",
       "      <td>...</td>\n",
       "      <td>17.001867</td>\n",
       "      <td>-500.160145</td>\n",
       "      <td>14.952102</td>\n",
       "      <td>-499.644328</td>\n",
       "      <td>12.062877</td>\n",
       "      <td>-500.047621</td>\n",
       "      <td>9.980774</td>\n",
       "      <td>-500.001338</td>\n",
       "      <td>16.007242</td>\n",
       "      <td>-500.041085</td>\n",
       "    </tr>\n",
       "    <tr>\n",
       "      <th>75%</th>\n",
       "      <td>207.240761</td>\n",
       "      <td>10.017725</td>\n",
       "      <td>7.650000</td>\n",
       "      <td>1.763797</td>\n",
       "      <td>1601.681656</td>\n",
       "      <td>-499.575313</td>\n",
       "      <td>1601.784707</td>\n",
       "      <td>-499.323361</td>\n",
       "      <td>1600.785573</td>\n",
       "      <td>-499.009545</td>\n",
       "      <td>...</td>\n",
       "      <td>18.030985</td>\n",
       "      <td>-499.441529</td>\n",
       "      <td>15.940011</td>\n",
       "      <td>-401.523664</td>\n",
       "      <td>15.017881</td>\n",
       "      <td>-499.297033</td>\n",
       "      <td>11.992176</td>\n",
       "      <td>-499.722835</td>\n",
       "      <td>21.009076</td>\n",
       "      <td>-499.395621</td>\n",
       "    </tr>\n",
       "    <tr>\n",
       "      <th>max</th>\n",
       "      <td>274.409626</td>\n",
       "      <td>40.024582</td>\n",
       "      <td>15.500000</td>\n",
       "      <td>5.433169</td>\n",
       "      <td>2212.432090</td>\n",
       "      <td>-57.195404</td>\n",
       "      <td>1975.147923</td>\n",
       "      <td>-142.527229</td>\n",
       "      <td>1715.053773</td>\n",
       "      <td>-150.937035</td>\n",
       "      <td>...</td>\n",
       "      <td>30.051797</td>\n",
       "      <td>-401.565212</td>\n",
       "      <td>31.269706</td>\n",
       "      <td>-6.506986</td>\n",
       "      <td>25.258848</td>\n",
       "      <td>-244.483566</td>\n",
       "      <td>14.090194</td>\n",
       "      <td>-126.463446</td>\n",
       "      <td>26.705889</td>\n",
       "      <td>-29.093593</td>\n",
       "    </tr>\n",
       "  </tbody>\n",
       "</table>\n",
       "<p>8 rows × 52 columns</p>\n",
       "</div>"
      ],
      "text/plain": [
       "       primary_cleaner.input.sulfate  primary_cleaner.input.depressant  \\\n",
       "count                    5554.000000                       5572.000000   \n",
       "mean                      170.515243                          8.482873   \n",
       "std                        49.608602                          3.353105   \n",
       "min                         0.000103                          0.000031   \n",
       "25%                       143.340022                          6.411500   \n",
       "50%                       176.103893                          8.023252   \n",
       "75%                       207.240761                         10.017725   \n",
       "max                       274.409626                         40.024582   \n",
       "\n",
       "       primary_cleaner.input.feed_size  primary_cleaner.input.xanthate  \\\n",
       "count                      5856.000000                     5690.000000   \n",
       "mean                          7.264651                        1.321420   \n",
       "std                           0.611526                        0.693246   \n",
       "min                           5.650000                        0.000003   \n",
       "25%                           6.885625                        0.888769   \n",
       "50%                           7.259333                        1.183362   \n",
       "75%                           7.650000                        1.763797   \n",
       "max                          15.500000                        5.433169   \n",
       "\n",
       "       primary_cleaner.state.floatbank8_a_air  \\\n",
       "count                             5840.000000   \n",
       "mean                              1481.990241   \n",
       "std                                310.453166   \n",
       "min                                  0.000000   \n",
       "25%                               1497.190681   \n",
       "50%                               1554.659783   \n",
       "75%                               1601.681656   \n",
       "max                               2212.432090   \n",
       "\n",
       "       primary_cleaner.state.floatbank8_a_level  \\\n",
       "count                               5840.000000   \n",
       "mean                                -509.057796   \n",
       "std                                   61.339256   \n",
       "min                                 -799.773788   \n",
       "25%                                 -500.455211   \n",
       "50%                                 -499.997402   \n",
       "75%                                 -499.575313   \n",
       "max                                  -57.195404   \n",
       "\n",
       "       primary_cleaner.state.floatbank8_b_air  \\\n",
       "count                             5840.000000   \n",
       "mean                              1486.908670   \n",
       "std                                313.224286   \n",
       "min                                  0.000000   \n",
       "25%                               1497.150234   \n",
       "50%                               1553.268084   \n",
       "75%                               1601.784707   \n",
       "max                               1975.147923   \n",
       "\n",
       "       primary_cleaner.state.floatbank8_b_level  \\\n",
       "count                               5840.000000   \n",
       "mean                                -511.743956   \n",
       "std                                   67.139074   \n",
       "min                                 -800.029078   \n",
       "25%                                 -500.936639   \n",
       "50%                                 -500.066588   \n",
       "75%                                 -499.323361   \n",
       "max                                 -142.527229   \n",
       "\n",
       "       primary_cleaner.state.floatbank8_c_air  \\\n",
       "count                             5840.000000   \n",
       "mean                              1468.495216   \n",
       "std                                309.980748   \n",
       "min                                  0.000000   \n",
       "25%                               1437.050321   \n",
       "50%                               1546.160672   \n",
       "75%                               1600.785573   \n",
       "max                               1715.053773   \n",
       "\n",
       "       primary_cleaner.state.floatbank8_c_level  ...  \\\n",
       "count                               5840.000000  ...   \n",
       "mean                                -509.741212  ...   \n",
       "std                                   62.671873  ...   \n",
       "min                                 -799.995127  ...   \n",
       "25%                                 -501.300441  ...   \n",
       "50%                                 -500.079537  ...   \n",
       "75%                                 -499.009545  ...   \n",
       "max                                 -150.937035  ...   \n",
       "\n",
       "       secondary_cleaner.state.floatbank4_a_air  \\\n",
       "count                               5840.000000   \n",
       "mean                                  15.636031   \n",
       "std                                    4.660835   \n",
       "min                                    0.000000   \n",
       "25%                                   12.057838   \n",
       "50%                                   17.001867   \n",
       "75%                                   18.030985   \n",
       "max                                   30.051797   \n",
       "\n",
       "       secondary_cleaner.state.floatbank4_a_level  \\\n",
       "count                                 5840.000000   \n",
       "mean                                  -516.266074   \n",
       "std                                     62.756748   \n",
       "min                                   -799.798523   \n",
       "25%                                   -501.054741   \n",
       "50%                                   -500.160145   \n",
       "75%                                   -499.441529   \n",
       "max                                   -401.565212   \n",
       "\n",
       "       secondary_cleaner.state.floatbank4_b_air  \\\n",
       "count                               5840.000000   \n",
       "mean                                  13.145702   \n",
       "std                                    4.304086   \n",
       "min                                    0.000000   \n",
       "25%                                   11.880119   \n",
       "50%                                   14.952102   \n",
       "75%                                   15.940011   \n",
       "max                                   31.269706   \n",
       "\n",
       "       secondary_cleaner.state.floatbank4_b_level  \\\n",
       "count                                 5840.000000   \n",
       "mean                                  -476.338907   \n",
       "std                                    105.549424   \n",
       "min                                   -800.836914   \n",
       "25%                                   -500.419113   \n",
       "50%                                   -499.644328   \n",
       "75%                                   -401.523664   \n",
       "max                                     -6.506986   \n",
       "\n",
       "       secondary_cleaner.state.floatbank5_a_air  \\\n",
       "count                               5840.000000   \n",
       "mean                                  12.308967   \n",
       "std                                    3.762827   \n",
       "min                                   -0.223393   \n",
       "25%                                   10.123459   \n",
       "50%                                   12.062877   \n",
       "75%                                   15.017881   \n",
       "max                                   25.258848   \n",
       "\n",
       "       secondary_cleaner.state.floatbank5_a_level  \\\n",
       "count                                 5840.000000   \n",
       "mean                                  -512.208126   \n",
       "std                                     58.864651   \n",
       "min                                   -799.661076   \n",
       "25%                                   -500.879383   \n",
       "50%                                   -500.047621   \n",
       "75%                                   -499.297033   \n",
       "max                                   -244.483566   \n",
       "\n",
       "       secondary_cleaner.state.floatbank5_b_air  \\\n",
       "count                               5840.000000   \n",
       "mean                                   9.470986   \n",
       "std                                    3.312471   \n",
       "min                                    0.528083   \n",
       "25%                                    7.991208   \n",
       "50%                                    9.980774   \n",
       "75%                                   11.992176   \n",
       "max                                   14.090194   \n",
       "\n",
       "       secondary_cleaner.state.floatbank5_b_level  \\\n",
       "count                                 5840.000000   \n",
       "mean                                  -505.017827   \n",
       "std                                     68.785898   \n",
       "min                                   -800.220337   \n",
       "25%                                   -500.223089   \n",
       "50%                                   -500.001338   \n",
       "75%                                   -499.722835   \n",
       "max                                   -126.463446   \n",
       "\n",
       "       secondary_cleaner.state.floatbank6_a_air  \\\n",
       "count                               5840.000000   \n",
       "mean                                  16.678722   \n",
       "std                                    5.404514   \n",
       "min                                   -0.079426   \n",
       "25%                                   13.012422   \n",
       "50%                                   16.007242   \n",
       "75%                                   21.009076   \n",
       "max                                   26.705889   \n",
       "\n",
       "       secondary_cleaner.state.floatbank6_a_level  \n",
       "count                                 5840.000000  \n",
       "mean                                  -512.351694  \n",
       "std                                     69.919839  \n",
       "min                                   -809.859706  \n",
       "25%                                   -500.833821  \n",
       "50%                                   -500.041085  \n",
       "75%                                   -499.395621  \n",
       "max                                    -29.093593  \n",
       "\n",
       "[8 rows x 52 columns]"
      ]
     },
     "metadata": {},
     "output_type": "display_data"
    },
    {
     "data": {
      "text/html": [
       "<div>\n",
       "<style scoped>\n",
       "    .dataframe tbody tr th:only-of-type {\n",
       "        vertical-align: middle;\n",
       "    }\n",
       "\n",
       "    .dataframe tbody tr th {\n",
       "        vertical-align: top;\n",
       "    }\n",
       "\n",
       "    .dataframe thead th {\n",
       "        text-align: right;\n",
       "    }\n",
       "</style>\n",
       "<table border=\"1\" class=\"dataframe\">\n",
       "  <thead>\n",
       "    <tr style=\"text-align: right;\">\n",
       "      <th></th>\n",
       "      <th>final.output.concentrate_ag</th>\n",
       "      <th>final.output.concentrate_pb</th>\n",
       "      <th>final.output.concentrate_sol</th>\n",
       "      <th>final.output.concentrate_au</th>\n",
       "      <th>final.output.recovery</th>\n",
       "      <th>final.output.tail_ag</th>\n",
       "      <th>final.output.tail_pb</th>\n",
       "      <th>final.output.tail_sol</th>\n",
       "      <th>final.output.tail_au</th>\n",
       "      <th>primary_cleaner.input.sulfate</th>\n",
       "      <th>...</th>\n",
       "      <th>secondary_cleaner.state.floatbank4_a_air</th>\n",
       "      <th>secondary_cleaner.state.floatbank4_a_level</th>\n",
       "      <th>secondary_cleaner.state.floatbank4_b_air</th>\n",
       "      <th>secondary_cleaner.state.floatbank4_b_level</th>\n",
       "      <th>secondary_cleaner.state.floatbank5_a_air</th>\n",
       "      <th>secondary_cleaner.state.floatbank5_a_level</th>\n",
       "      <th>secondary_cleaner.state.floatbank5_b_air</th>\n",
       "      <th>secondary_cleaner.state.floatbank5_b_level</th>\n",
       "      <th>secondary_cleaner.state.floatbank6_a_air</th>\n",
       "      <th>secondary_cleaner.state.floatbank6_a_level</th>\n",
       "    </tr>\n",
       "  </thead>\n",
       "  <tbody>\n",
       "    <tr>\n",
       "      <th>count</th>\n",
       "      <td>22627.000000</td>\n",
       "      <td>22629.000000</td>\n",
       "      <td>22331.000000</td>\n",
       "      <td>22630.000000</td>\n",
       "      <td>20753.000000</td>\n",
       "      <td>22633.000000</td>\n",
       "      <td>22516.000000</td>\n",
       "      <td>22445.000000</td>\n",
       "      <td>22635.000000</td>\n",
       "      <td>21107.000000</td>\n",
       "      <td>...</td>\n",
       "      <td>22571.000000</td>\n",
       "      <td>22587.000000</td>\n",
       "      <td>22608.000000</td>\n",
       "      <td>22607.000000</td>\n",
       "      <td>22615.000000</td>\n",
       "      <td>22615.000000</td>\n",
       "      <td>22615.000000</td>\n",
       "      <td>22616.000000</td>\n",
       "      <td>22597.000000</td>\n",
       "      <td>22615.000000</td>\n",
       "    </tr>\n",
       "    <tr>\n",
       "      <th>mean</th>\n",
       "      <td>4.781559</td>\n",
       "      <td>9.095308</td>\n",
       "      <td>8.640317</td>\n",
       "      <td>40.001172</td>\n",
       "      <td>67.447488</td>\n",
       "      <td>8.923690</td>\n",
       "      <td>2.488252</td>\n",
       "      <td>9.523632</td>\n",
       "      <td>2.827459</td>\n",
       "      <td>140.277672</td>\n",
       "      <td>...</td>\n",
       "      <td>18.205125</td>\n",
       "      <td>-499.878977</td>\n",
       "      <td>14.356474</td>\n",
       "      <td>-476.532613</td>\n",
       "      <td>14.883276</td>\n",
       "      <td>-503.323288</td>\n",
       "      <td>11.626743</td>\n",
       "      <td>-500.521502</td>\n",
       "      <td>17.976810</td>\n",
       "      <td>-519.361465</td>\n",
       "    </tr>\n",
       "    <tr>\n",
       "      <th>std</th>\n",
       "      <td>2.030128</td>\n",
       "      <td>3.230797</td>\n",
       "      <td>3.785035</td>\n",
       "      <td>13.398062</td>\n",
       "      <td>11.616034</td>\n",
       "      <td>3.517917</td>\n",
       "      <td>1.189407</td>\n",
       "      <td>4.079739</td>\n",
       "      <td>1.262834</td>\n",
       "      <td>49.919004</td>\n",
       "      <td>...</td>\n",
       "      <td>6.560700</td>\n",
       "      <td>80.273964</td>\n",
       "      <td>5.655791</td>\n",
       "      <td>93.822791</td>\n",
       "      <td>6.372811</td>\n",
       "      <td>72.925589</td>\n",
       "      <td>5.757449</td>\n",
       "      <td>78.956292</td>\n",
       "      <td>6.636203</td>\n",
       "      <td>75.477151</td>\n",
       "    </tr>\n",
       "    <tr>\n",
       "      <th>min</th>\n",
       "      <td>0.000000</td>\n",
       "      <td>0.000000</td>\n",
       "      <td>0.000000</td>\n",
       "      <td>0.000000</td>\n",
       "      <td>0.000000</td>\n",
       "      <td>0.000000</td>\n",
       "      <td>0.000000</td>\n",
       "      <td>0.000000</td>\n",
       "      <td>0.000000</td>\n",
       "      <td>0.000003</td>\n",
       "      <td>...</td>\n",
       "      <td>0.000000</td>\n",
       "      <td>-799.920713</td>\n",
       "      <td>0.000000</td>\n",
       "      <td>-800.836914</td>\n",
       "      <td>-0.423260</td>\n",
       "      <td>-799.741097</td>\n",
       "      <td>0.427084</td>\n",
       "      <td>-800.258209</td>\n",
       "      <td>-0.079426</td>\n",
       "      <td>-810.473526</td>\n",
       "    </tr>\n",
       "    <tr>\n",
       "      <th>25%</th>\n",
       "      <td>4.018525</td>\n",
       "      <td>8.750171</td>\n",
       "      <td>7.116799</td>\n",
       "      <td>42.383721</td>\n",
       "      <td>63.282393</td>\n",
       "      <td>7.684016</td>\n",
       "      <td>1.805376</td>\n",
       "      <td>8.143576</td>\n",
       "      <td>2.303108</td>\n",
       "      <td>110.177081</td>\n",
       "      <td>...</td>\n",
       "      <td>14.095940</td>\n",
       "      <td>-500.896232</td>\n",
       "      <td>10.882675</td>\n",
       "      <td>-500.309169</td>\n",
       "      <td>10.941299</td>\n",
       "      <td>-500.628697</td>\n",
       "      <td>8.037533</td>\n",
       "      <td>-500.167897</td>\n",
       "      <td>13.968418</td>\n",
       "      <td>-500.981671</td>\n",
       "    </tr>\n",
       "    <tr>\n",
       "      <th>50%</th>\n",
       "      <td>4.953729</td>\n",
       "      <td>9.914519</td>\n",
       "      <td>8.908792</td>\n",
       "      <td>44.653436</td>\n",
       "      <td>68.322258</td>\n",
       "      <td>9.484369</td>\n",
       "      <td>2.653001</td>\n",
       "      <td>10.212998</td>\n",
       "      <td>2.913794</td>\n",
       "      <td>141.330501</td>\n",
       "      <td>...</td>\n",
       "      <td>18.007326</td>\n",
       "      <td>-499.917108</td>\n",
       "      <td>14.947646</td>\n",
       "      <td>-499.612292</td>\n",
       "      <td>14.859117</td>\n",
       "      <td>-499.865158</td>\n",
       "      <td>10.989756</td>\n",
       "      <td>-499.951980</td>\n",
       "      <td>18.004215</td>\n",
       "      <td>-500.095463</td>\n",
       "    </tr>\n",
       "    <tr>\n",
       "      <th>75%</th>\n",
       "      <td>5.862593</td>\n",
       "      <td>10.929839</td>\n",
       "      <td>10.705824</td>\n",
       "      <td>46.111999</td>\n",
       "      <td>72.950836</td>\n",
       "      <td>11.084557</td>\n",
       "      <td>3.287790</td>\n",
       "      <td>11.860824</td>\n",
       "      <td>3.555077</td>\n",
       "      <td>174.049914</td>\n",
       "      <td>...</td>\n",
       "      <td>22.998194</td>\n",
       "      <td>-498.361545</td>\n",
       "      <td>17.977502</td>\n",
       "      <td>-400.224147</td>\n",
       "      <td>18.014914</td>\n",
       "      <td>-498.489381</td>\n",
       "      <td>14.001193</td>\n",
       "      <td>-499.492354</td>\n",
       "      <td>23.009704</td>\n",
       "      <td>-499.526388</td>\n",
       "    </tr>\n",
       "    <tr>\n",
       "      <th>max</th>\n",
       "      <td>16.001945</td>\n",
       "      <td>17.031899</td>\n",
       "      <td>19.615720</td>\n",
       "      <td>53.611374</td>\n",
       "      <td>100.000000</td>\n",
       "      <td>19.552149</td>\n",
       "      <td>6.086532</td>\n",
       "      <td>22.861749</td>\n",
       "      <td>9.789625</td>\n",
       "      <td>274.409626</td>\n",
       "      <td>...</td>\n",
       "      <td>60.000000</td>\n",
       "      <td>-127.692333</td>\n",
       "      <td>31.269706</td>\n",
       "      <td>-6.506986</td>\n",
       "      <td>63.116298</td>\n",
       "      <td>-244.483566</td>\n",
       "      <td>39.846228</td>\n",
       "      <td>-120.190931</td>\n",
       "      <td>54.876806</td>\n",
       "      <td>-29.093593</td>\n",
       "    </tr>\n",
       "  </tbody>\n",
       "</table>\n",
       "<p>8 rows × 86 columns</p>\n",
       "</div>"
      ],
      "text/plain": [
       "       final.output.concentrate_ag  final.output.concentrate_pb  \\\n",
       "count                 22627.000000                 22629.000000   \n",
       "mean                      4.781559                     9.095308   \n",
       "std                       2.030128                     3.230797   \n",
       "min                       0.000000                     0.000000   \n",
       "25%                       4.018525                     8.750171   \n",
       "50%                       4.953729                     9.914519   \n",
       "75%                       5.862593                    10.929839   \n",
       "max                      16.001945                    17.031899   \n",
       "\n",
       "       final.output.concentrate_sol  final.output.concentrate_au  \\\n",
       "count                  22331.000000                 22630.000000   \n",
       "mean                       8.640317                    40.001172   \n",
       "std                        3.785035                    13.398062   \n",
       "min                        0.000000                     0.000000   \n",
       "25%                        7.116799                    42.383721   \n",
       "50%                        8.908792                    44.653436   \n",
       "75%                       10.705824                    46.111999   \n",
       "max                       19.615720                    53.611374   \n",
       "\n",
       "       final.output.recovery  final.output.tail_ag  final.output.tail_pb  \\\n",
       "count           20753.000000          22633.000000          22516.000000   \n",
       "mean               67.447488              8.923690              2.488252   \n",
       "std                11.616034              3.517917              1.189407   \n",
       "min                 0.000000              0.000000              0.000000   \n",
       "25%                63.282393              7.684016              1.805376   \n",
       "50%                68.322258              9.484369              2.653001   \n",
       "75%                72.950836             11.084557              3.287790   \n",
       "max               100.000000             19.552149              6.086532   \n",
       "\n",
       "       final.output.tail_sol  final.output.tail_au  \\\n",
       "count           22445.000000          22635.000000   \n",
       "mean                9.523632              2.827459   \n",
       "std                 4.079739              1.262834   \n",
       "min                 0.000000              0.000000   \n",
       "25%                 8.143576              2.303108   \n",
       "50%                10.212998              2.913794   \n",
       "75%                11.860824              3.555077   \n",
       "max                22.861749              9.789625   \n",
       "\n",
       "       primary_cleaner.input.sulfate  ...  \\\n",
       "count                   21107.000000  ...   \n",
       "mean                      140.277672  ...   \n",
       "std                        49.919004  ...   \n",
       "min                         0.000003  ...   \n",
       "25%                       110.177081  ...   \n",
       "50%                       141.330501  ...   \n",
       "75%                       174.049914  ...   \n",
       "max                       274.409626  ...   \n",
       "\n",
       "       secondary_cleaner.state.floatbank4_a_air  \\\n",
       "count                              22571.000000   \n",
       "mean                                  18.205125   \n",
       "std                                    6.560700   \n",
       "min                                    0.000000   \n",
       "25%                                   14.095940   \n",
       "50%                                   18.007326   \n",
       "75%                                   22.998194   \n",
       "max                                   60.000000   \n",
       "\n",
       "       secondary_cleaner.state.floatbank4_a_level  \\\n",
       "count                                22587.000000   \n",
       "mean                                  -499.878977   \n",
       "std                                     80.273964   \n",
       "min                                   -799.920713   \n",
       "25%                                   -500.896232   \n",
       "50%                                   -499.917108   \n",
       "75%                                   -498.361545   \n",
       "max                                   -127.692333   \n",
       "\n",
       "       secondary_cleaner.state.floatbank4_b_air  \\\n",
       "count                              22608.000000   \n",
       "mean                                  14.356474   \n",
       "std                                    5.655791   \n",
       "min                                    0.000000   \n",
       "25%                                   10.882675   \n",
       "50%                                   14.947646   \n",
       "75%                                   17.977502   \n",
       "max                                   31.269706   \n",
       "\n",
       "       secondary_cleaner.state.floatbank4_b_level  \\\n",
       "count                                22607.000000   \n",
       "mean                                  -476.532613   \n",
       "std                                     93.822791   \n",
       "min                                   -800.836914   \n",
       "25%                                   -500.309169   \n",
       "50%                                   -499.612292   \n",
       "75%                                   -400.224147   \n",
       "max                                     -6.506986   \n",
       "\n",
       "       secondary_cleaner.state.floatbank5_a_air  \\\n",
       "count                              22615.000000   \n",
       "mean                                  14.883276   \n",
       "std                                    6.372811   \n",
       "min                                   -0.423260   \n",
       "25%                                   10.941299   \n",
       "50%                                   14.859117   \n",
       "75%                                   18.014914   \n",
       "max                                   63.116298   \n",
       "\n",
       "       secondary_cleaner.state.floatbank5_a_level  \\\n",
       "count                                22615.000000   \n",
       "mean                                  -503.323288   \n",
       "std                                     72.925589   \n",
       "min                                   -799.741097   \n",
       "25%                                   -500.628697   \n",
       "50%                                   -499.865158   \n",
       "75%                                   -498.489381   \n",
       "max                                   -244.483566   \n",
       "\n",
       "       secondary_cleaner.state.floatbank5_b_air  \\\n",
       "count                              22615.000000   \n",
       "mean                                  11.626743   \n",
       "std                                    5.757449   \n",
       "min                                    0.427084   \n",
       "25%                                    8.037533   \n",
       "50%                                   10.989756   \n",
       "75%                                   14.001193   \n",
       "max                                   39.846228   \n",
       "\n",
       "       secondary_cleaner.state.floatbank5_b_level  \\\n",
       "count                                22616.000000   \n",
       "mean                                  -500.521502   \n",
       "std                                     78.956292   \n",
       "min                                   -800.258209   \n",
       "25%                                   -500.167897   \n",
       "50%                                   -499.951980   \n",
       "75%                                   -499.492354   \n",
       "max                                   -120.190931   \n",
       "\n",
       "       secondary_cleaner.state.floatbank6_a_air  \\\n",
       "count                              22597.000000   \n",
       "mean                                  17.976810   \n",
       "std                                    6.636203   \n",
       "min                                   -0.079426   \n",
       "25%                                   13.968418   \n",
       "50%                                   18.004215   \n",
       "75%                                   23.009704   \n",
       "max                                   54.876806   \n",
       "\n",
       "       secondary_cleaner.state.floatbank6_a_level  \n",
       "count                                22615.000000  \n",
       "mean                                  -519.361465  \n",
       "std                                     75.477151  \n",
       "min                                   -810.473526  \n",
       "25%                                   -500.981671  \n",
       "50%                                   -500.095463  \n",
       "75%                                   -499.526388  \n",
       "max                                    -29.093593  \n",
       "\n",
       "[8 rows x 86 columns]"
      ]
     },
     "metadata": {},
     "output_type": "display_data"
    }
   ],
   "source": [
    "display(gr_train.describe())\n",
    "display(gr_test.describe())\n",
    "display(gr_full.describe())"
   ]
  },
  {
   "cell_type": "code",
   "execution_count": 5,
   "metadata": {},
   "outputs": [],
   "source": [
    "date_flag = False "
   ]
  },
  {
   "cell_type": "code",
   "execution_count": 6,
   "metadata": {},
   "outputs": [
    {
     "name": "stdout",
     "output_type": "stream",
     "text": [
      "The date column has been converted to datetime64[ns]\n",
      "The date column has been set to the dataframe's index\n",
      "\n",
      "\n",
      "\n",
      "The date column has been converted to datetime64[ns]\n",
      "The date column has been set to the dataframe's index\n",
      "\n",
      "\n",
      "\n",
      "The date column has been converted to datetime64[ns]\n",
      "The date column has been set to the dataframe's index\n",
      "\n",
      "\n",
      "\n"
     ]
    }
   ],
   "source": [
    "for dfs, dt in zip([gr_train, gr_test, gr_full], ['date', 'date', 'date']):\n",
    "    if date_flag == True:\n",
    "        # In case this is run twice in the same kernel\n",
    "        print(f'The date column has already been set to a datetime dtype and set as index')\n",
    "        print('\\n\\n')\n",
    "    else:\n",
    "        # Set dataframe's date colum to datetime and check to ensure it changed\n",
    "        dfs[dt] = pd.to_datetime(dfs[dt], format='%Y-%m-%d %H:%M:%S', errors='coerce')\n",
    "        print(f'The date column has been converted to {dfs[dt].dtype}')\n",
    "        # Change the index to the date column\n",
    "        dfs.set_index('date', inplace = True)\n",
    "        print(f'The date column has been set to the dataframe\\'s index')\n",
    "        print('\\n\\n')\n",
    "        \n",
    "date_flag = True       "
   ]
  },
  {
   "cell_type": "markdown",
   "metadata": {},
   "source": [
    "### 1.2 Checking Recovery Calculation"
   ]
  },
  {
   "cell_type": "code",
   "execution_count": 7,
   "metadata": {},
   "outputs": [
    {
     "name": "stdout",
     "output_type": "stream",
     "text": [
      "Mean Absolute Error: 9.303415616264301e-15\n"
     ]
    }
   ],
   "source": [
    "#drop na values to prevent errors with MAE function\n",
    "gr_train_no_nulls = gr_train.dropna(subset=['rougher.output.recovery'])\n",
    "def recovery(c, f, t):\n",
    "    #C — share of gold in the concentrate right after flotation\n",
    "    #F — share of gold in the feed before flotation\n",
    "    #T — share of gold in the rougher tails right after flotation\n",
    "    recovery = (c*(f-t))/(f*(c-t))*100\n",
    "    return recovery\n",
    "data_recovery = gr_train_no_nulls['rougher.output.recovery']\n",
    "calculated_recovery = recovery(gr_train_no_nulls['rougher.output.concentrate_au'], gr_train_no_nulls['rougher.input.feed_au'], gr_train_no_nulls['rougher.output.tail_au'])\n",
    "print(f'Mean Absolute Error: {mean_absolute_error(data_recovery, calculated_recovery)}')"
   ]
  },
  {
   "cell_type": "markdown",
   "metadata": {},
   "source": [
    "Since the MAE is so low 0.00000000000000930, the difference between the calculated recovery and the recovery in the data can be considered the same."
   ]
  },
  {
   "cell_type": "markdown",
   "metadata": {},
   "source": [
    "### 1.3 Analyzing missing features"
   ]
  },
  {
   "cell_type": "code",
   "execution_count": 8,
   "metadata": {},
   "outputs": [
    {
     "name": "stdout",
     "output_type": "stream",
     "text": [
      "                                              Feature     Type\n",
      "0                   secondary_cleaner.output.tail_sol  float64\n",
      "1                       rougher.output.concentrate_au  float64\n",
      "2                      rougher.output.concentrate_sol  float64\n",
      "3                       rougher.output.concentrate_pb  float64\n",
      "4               primary_cleaner.output.concentrate_ag  float64\n",
      "5                    secondary_cleaner.output.tail_ag  float64\n",
      "6                                final.output.tail_pb  float64\n",
      "7   rougher.calculation.floatbank10_sulfate_to_au_...  float64\n",
      "8                         final.output.concentrate_ag  float64\n",
      "9                      primary_cleaner.output.tail_pb  float64\n",
      "10  rougher.calculation.floatbank11_sulfate_to_au_...  float64\n",
      "11                            rougher.output.tail_sol  float64\n",
      "12                     primary_cleaner.output.tail_ag  float64\n",
      "13                              final.output.recovery  float64\n",
      "14                       final.output.concentrate_sol  float64\n",
      "15                     primary_cleaner.output.tail_au  float64\n",
      "16                             rougher.output.tail_ag  float64\n",
      "17                    primary_cleaner.output.tail_sol  float64\n",
      "18             primary_cleaner.output.concentrate_sol  float64\n",
      "19              primary_cleaner.output.concentrate_au  float64\n",
      "20                               final.output.tail_au  float64\n",
      "21                        final.output.concentrate_pb  float64\n",
      "22                            rougher.output.recovery  float64\n",
      "23                   secondary_cleaner.output.tail_au  float64\n",
      "24                        final.output.concentrate_au  float64\n",
      "25      rougher.calculation.sulfate_to_au_concentrate  float64\n",
      "26                             rougher.output.tail_au  float64\n",
      "27                             rougher.output.tail_pb  float64\n",
      "28                               final.output.tail_ag  float64\n",
      "29                    rougher.calculation.au_pb_ratio  float64\n",
      "30                      rougher.output.concentrate_ag  float64\n",
      "31              primary_cleaner.output.concentrate_pb  float64\n",
      "32                              final.output.tail_sol  float64\n",
      "33                   secondary_cleaner.output.tail_pb  float64\n"
     ]
    }
   ],
   "source": [
    "missing_features = set(gr_train.columns) - set(gr_test.columns)\n",
    "\n",
    "# Extracting the types of the missing features from the training set\n",
    "missing_features_types = {feature: gr_train[feature].dtype for feature in missing_features}\n",
    "\n",
    "# Creating a DataFrame from the missing features and their types\n",
    "missing_features_df = pd.DataFrame(list(missing_features_types.items()), columns=['Feature', 'Type'])\n",
    "\n",
    "print(missing_features_df)"
   ]
  },
  {
   "cell_type": "markdown",
   "metadata": {},
   "source": [
    "Looking at the dataframe, all the data that is missing from the test set are of type float64 and are either outputs or calculations."
   ]
  },
  {
   "cell_type": "markdown",
   "metadata": {},
   "source": [
    "### 1.4 Preprocessing the data"
   ]
  },
  {
   "cell_type": "code",
   "execution_count": 9,
   "metadata": {},
   "outputs": [
    {
     "data": {
      "text/plain": [
       "16"
      ]
     },
     "metadata": {},
     "output_type": "display_data"
    },
    {
     "data": {
      "text/plain": [
       "6"
      ]
     },
     "metadata": {},
     "output_type": "display_data"
    },
    {
     "data": {
      "text/plain": [
       "22"
      ]
     },
     "metadata": {},
     "output_type": "display_data"
    }
   ],
   "source": [
    "#check for duplicates \n",
    "display(gr_train.duplicated().sum())\n",
    "display(gr_test.duplicated().sum())\n",
    "display(gr_full.duplicated().sum())"
   ]
  },
  {
   "cell_type": "code",
   "execution_count": 10,
   "metadata": {},
   "outputs": [
    {
     "data": {
      "text/plain": [
       "final.output.concentrate_ag                   0.427046\n",
       "final.output.concentrate_pb                   0.427046\n",
       "final.output.concentrate_sol                  2.194543\n",
       "final.output.concentrate_au                   0.421115\n",
       "final.output.recovery                         9.021352\n",
       "                                                ...   \n",
       "secondary_cleaner.state.floatbank5_a_level    0.504152\n",
       "secondary_cleaner.state.floatbank5_b_air      0.504152\n",
       "secondary_cleaner.state.floatbank5_b_level    0.498221\n",
       "secondary_cleaner.state.floatbank6_a_air      0.610913\n",
       "secondary_cleaner.state.floatbank6_a_level    0.504152\n",
       "Length: 86, dtype: float64"
      ]
     },
     "metadata": {},
     "output_type": "display_data"
    },
    {
     "data": {
      "text/plain": [
       "15.26097271648873"
      ]
     },
     "metadata": {},
     "output_type": "display_data"
    }
   ],
   "source": [
    "#check for missing values, get percentage\n",
    "train_missing = gr_train.isna().sum() / len(gr_train) * 100\n",
    "display(train_missing)\n",
    "display(train_missing.max())"
   ]
  },
  {
   "cell_type": "code",
   "execution_count": 11,
   "metadata": {},
   "outputs": [
    {
     "data": {
      "text/plain": [
       "primary_cleaner.input.sulfate                 5.157104\n",
       "primary_cleaner.input.depressant              4.849727\n",
       "primary_cleaner.input.feed_size               0.000000\n",
       "primary_cleaner.input.xanthate                2.834699\n",
       "primary_cleaner.state.floatbank8_a_air        0.273224\n",
       "primary_cleaner.state.floatbank8_a_level      0.273224\n",
       "primary_cleaner.state.floatbank8_b_air        0.273224\n",
       "primary_cleaner.state.floatbank8_b_level      0.273224\n",
       "primary_cleaner.state.floatbank8_c_air        0.273224\n",
       "primary_cleaner.state.floatbank8_c_level      0.273224\n",
       "primary_cleaner.state.floatbank8_d_air        0.273224\n",
       "primary_cleaner.state.floatbank8_d_level      0.273224\n",
       "rougher.input.feed_ag                         0.273224\n",
       "rougher.input.feed_pb                         0.273224\n",
       "rougher.input.feed_rate                       0.683060\n",
       "rougher.input.feed_size                       0.375683\n",
       "rougher.input.feed_sol                        1.144126\n",
       "rougher.input.feed_au                         0.273224\n",
       "rougher.input.floatbank10_sulfate             4.388661\n",
       "rougher.input.floatbank10_xanthate            2.100410\n",
       "rougher.input.floatbank11_sulfate             0.939208\n",
       "rougher.input.floatbank11_xanthate            6.028005\n",
       "rougher.state.floatbank10_a_air               0.290301\n",
       "rougher.state.floatbank10_a_level             0.273224\n",
       "rougher.state.floatbank10_b_air               0.290301\n",
       "rougher.state.floatbank10_b_level             0.273224\n",
       "rougher.state.floatbank10_c_air               0.290301\n",
       "rougher.state.floatbank10_c_level             0.273224\n",
       "rougher.state.floatbank10_d_air               0.290301\n",
       "rougher.state.floatbank10_d_level             0.273224\n",
       "rougher.state.floatbank10_e_air               0.290301\n",
       "rougher.state.floatbank10_e_level             0.273224\n",
       "rougher.state.floatbank10_f_air               0.290301\n",
       "rougher.state.floatbank10_f_level             0.273224\n",
       "secondary_cleaner.state.floatbank2_a_air      0.341530\n",
       "secondary_cleaner.state.floatbank2_a_level    0.273224\n",
       "secondary_cleaner.state.floatbank2_b_air      0.392760\n",
       "secondary_cleaner.state.floatbank2_b_level    0.273224\n",
       "secondary_cleaner.state.floatbank3_a_air      0.580601\n",
       "secondary_cleaner.state.floatbank3_a_level    0.273224\n",
       "secondary_cleaner.state.floatbank3_b_air      0.273224\n",
       "secondary_cleaner.state.floatbank3_b_level    0.273224\n",
       "secondary_cleaner.state.floatbank4_a_air      0.273224\n",
       "secondary_cleaner.state.floatbank4_a_level    0.273224\n",
       "secondary_cleaner.state.floatbank4_b_air      0.273224\n",
       "secondary_cleaner.state.floatbank4_b_level    0.273224\n",
       "secondary_cleaner.state.floatbank5_a_air      0.273224\n",
       "secondary_cleaner.state.floatbank5_a_level    0.273224\n",
       "secondary_cleaner.state.floatbank5_b_air      0.273224\n",
       "secondary_cleaner.state.floatbank5_b_level    0.273224\n",
       "secondary_cleaner.state.floatbank6_a_air      0.273224\n",
       "secondary_cleaner.state.floatbank6_a_level    0.273224\n",
       "dtype: float64"
      ]
     },
     "metadata": {},
     "output_type": "display_data"
    },
    {
     "data": {
      "text/plain": [
       "6.0280054644808745"
      ]
     },
     "metadata": {},
     "output_type": "display_data"
    }
   ],
   "source": [
    "#check for missing values, get percentage\n",
    "test_missing = gr_test.isna().sum() / len(gr_test) * 100\n",
    "display(test_missing)\n",
    "display(test_missing.max())"
   ]
  },
  {
   "cell_type": "code",
   "execution_count": 12,
   "metadata": {},
   "outputs": [
    {
     "data": {
      "text/plain": [
       "final.output.concentrate_ag                   0.391794\n",
       "final.output.concentrate_pb                   0.382990\n",
       "final.output.concentrate_sol                  1.694841\n",
       "final.output.concentrate_au                   0.378588\n",
       "final.output.recovery                         8.641486\n",
       "                                                ...   \n",
       "secondary_cleaner.state.floatbank5_a_level    0.444621\n",
       "secondary_cleaner.state.floatbank5_b_air      0.444621\n",
       "secondary_cleaner.state.floatbank5_b_level    0.440218\n",
       "secondary_cleaner.state.floatbank6_a_air      0.523860\n",
       "secondary_cleaner.state.floatbank6_a_level    0.444621\n",
       "Length: 86, dtype: float64"
      ]
     },
     "metadata": {},
     "output_type": "display_data"
    },
    {
     "data": {
      "text/plain": [
       "13.730410283500616"
      ]
     },
     "metadata": {},
     "output_type": "display_data"
    }
   ],
   "source": [
    "#check for missing values, get percentage\n",
    "full_missing = gr_full.isna().sum() / len(gr_full) * 100\n",
    "display(full_missing)\n",
    "display(full_missing.max())"
   ]
  },
  {
   "cell_type": "markdown",
   "metadata": {},
   "source": [
    "Since the we are missing up to 13% in the full and training data, we will need to deal with the missing values in all the dataframes by filling them with the median."
   ]
  },
  {
   "cell_type": "code",
   "execution_count": 13,
   "metadata": {},
   "outputs": [],
   "source": [
    "gr_train = gr_train.fillna(gr_train.median(numeric_only=True))\n",
    "gr_test = gr_test.fillna(gr_test.median(numeric_only=True))\n",
    "gr_full = gr_full.fillna(gr_full.median(numeric_only=True))"
   ]
  },
  {
   "cell_type": "code",
   "execution_count": 14,
   "metadata": {},
   "outputs": [
    {
     "data": {
      "text/plain": [
       "0.0"
      ]
     },
     "metadata": {},
     "output_type": "display_data"
    }
   ],
   "source": [
    "full_missing = gr_full.isna().sum() / len(gr_full) * 100\n",
    "display(full_missing.max())"
   ]
  },
  {
   "cell_type": "code",
   "execution_count": 15,
   "metadata": {},
   "outputs": [
    {
     "data": {
      "text/plain": [
       "0.0"
      ]
     },
     "metadata": {},
     "output_type": "display_data"
    }
   ],
   "source": [
    "test_missing = gr_test.isna().sum() / len(gr_test) * 100\n",
    "display(test_missing.max())"
   ]
  },
  {
   "cell_type": "code",
   "execution_count": 16,
   "metadata": {},
   "outputs": [
    {
     "data": {
      "text/plain": [
       "0.0"
      ]
     },
     "metadata": {},
     "output_type": "display_data"
    }
   ],
   "source": [
    "train_missing = gr_train.isna().sum() / len(gr_train) * 100\n",
    "display(train_missing.max())"
   ]
  },
  {
   "cell_type": "markdown",
   "metadata": {},
   "source": [
    "After filling the columns with the median, there are no more missing column values."
   ]
  },
  {
   "cell_type": "markdown",
   "metadata": {},
   "source": [
    "### 2.1 Metal concentrations at different stages."
   ]
  },
  {
   "cell_type": "code",
   "execution_count": 17,
   "metadata": {},
   "outputs": [],
   "source": [
    "#spliting the metals into seperate dataframes\n",
    "au = gr_full[['rougher.input.feed_au','rougher.output.concentrate_au', 'primary_cleaner.output.concentrate_au', 'final.output.concentrate_au']].copy()\n",
    "ag = gr_full[['rougher.input.feed_ag','rougher.output.concentrate_ag', 'primary_cleaner.output.concentrate_ag', 'final.output.concentrate_ag']].copy()\n",
    "pb = gr_full[['rougher.input.feed_pb','rougher.output.concentrate_pb', 'primary_cleaner.output.concentrate_pb', 'final.output.concentrate_pb']].copy()"
   ]
  },
  {
   "cell_type": "code",
   "execution_count": 18,
   "metadata": {},
   "outputs": [
    {
     "name": "stdout",
     "output_type": "stream",
     "text": [
      "<class 'pandas.core.frame.DataFrame'>\n",
      "DatetimeIndex: 22716 entries, 2016-01-15 00:00:00 to 2018-08-18 10:59:59\n",
      "Data columns (total 4 columns):\n",
      " #   Column                                 Non-Null Count  Dtype  \n",
      "---  ------                                 --------------  -----  \n",
      " 0   rougher.input.feed_au                  22716 non-null  float64\n",
      " 1   rougher.output.concentrate_au          22716 non-null  float64\n",
      " 2   primary_cleaner.output.concentrate_au  22716 non-null  float64\n",
      " 3   final.output.concentrate_au            22716 non-null  float64\n",
      "dtypes: float64(4)\n",
      "memory usage: 887.3 KB\n"
     ]
    },
    {
     "data": {
      "text/plain": [
       "None"
      ]
     },
     "metadata": {},
     "output_type": "display_data"
    },
    {
     "name": "stdout",
     "output_type": "stream",
     "text": [
      "<class 'pandas.core.frame.DataFrame'>\n",
      "DatetimeIndex: 22716 entries, 2016-01-15 00:00:00 to 2018-08-18 10:59:59\n",
      "Data columns (total 4 columns):\n",
      " #   Column                                 Non-Null Count  Dtype  \n",
      "---  ------                                 --------------  -----  \n",
      " 0   rougher.input.feed_ag                  22716 non-null  float64\n",
      " 1   rougher.output.concentrate_ag          22716 non-null  float64\n",
      " 2   primary_cleaner.output.concentrate_ag  22716 non-null  float64\n",
      " 3   final.output.concentrate_ag            22716 non-null  float64\n",
      "dtypes: float64(4)\n",
      "memory usage: 887.3 KB\n"
     ]
    },
    {
     "data": {
      "text/plain": [
       "None"
      ]
     },
     "metadata": {},
     "output_type": "display_data"
    },
    {
     "name": "stdout",
     "output_type": "stream",
     "text": [
      "<class 'pandas.core.frame.DataFrame'>\n",
      "DatetimeIndex: 22716 entries, 2016-01-15 00:00:00 to 2018-08-18 10:59:59\n",
      "Data columns (total 4 columns):\n",
      " #   Column                                 Non-Null Count  Dtype  \n",
      "---  ------                                 --------------  -----  \n",
      " 0   rougher.input.feed_pb                  22716 non-null  float64\n",
      " 1   rougher.output.concentrate_pb          22716 non-null  float64\n",
      " 2   primary_cleaner.output.concentrate_pb  22716 non-null  float64\n",
      " 3   final.output.concentrate_pb            22716 non-null  float64\n",
      "dtypes: float64(4)\n",
      "memory usage: 887.3 KB\n"
     ]
    },
    {
     "data": {
      "text/plain": [
       "None"
      ]
     },
     "metadata": {},
     "output_type": "display_data"
    }
   ],
   "source": [
    "#inspect each metal's df\n",
    "display(au.info())\n",
    "display(ag.info())\n",
    "display(pb.info())"
   ]
  },
  {
   "cell_type": "code",
   "execution_count": 19,
   "metadata": {},
   "outputs": [
    {
     "data": {
      "text/html": [
       "<div>\n",
       "<style scoped>\n",
       "    .dataframe tbody tr th:only-of-type {\n",
       "        vertical-align: middle;\n",
       "    }\n",
       "\n",
       "    .dataframe tbody tr th {\n",
       "        vertical-align: top;\n",
       "    }\n",
       "\n",
       "    .dataframe thead th {\n",
       "        text-align: right;\n",
       "    }\n",
       "</style>\n",
       "<table border=\"1\" class=\"dataframe\">\n",
       "  <thead>\n",
       "    <tr style=\"text-align: right;\">\n",
       "      <th></th>\n",
       "      <th>rougher.input.feed_au</th>\n",
       "      <th>rougher.output.concentrate_au</th>\n",
       "      <th>primary_cleaner.output.concentrate_au</th>\n",
       "      <th>final.output.concentrate_au</th>\n",
       "    </tr>\n",
       "    <tr>\n",
       "      <th>date</th>\n",
       "      <th></th>\n",
       "      <th></th>\n",
       "      <th></th>\n",
       "      <th></th>\n",
       "    </tr>\n",
       "  </thead>\n",
       "  <tbody>\n",
       "    <tr>\n",
       "      <th>2017-12-09 21:59:59</th>\n",
       "      <td>9.152000</td>\n",
       "      <td>22.050024</td>\n",
       "      <td>30.021166</td>\n",
       "      <td>44.797059</td>\n",
       "    </tr>\n",
       "    <tr>\n",
       "      <th>2018-05-18 11:59:59</th>\n",
       "      <td>6.371632</td>\n",
       "      <td>19.073292</td>\n",
       "      <td>28.621833</td>\n",
       "      <td>43.465774</td>\n",
       "    </tr>\n",
       "    <tr>\n",
       "      <th>2018-08-15 14:59:59</th>\n",
       "      <td>6.733475</td>\n",
       "      <td>19.909058</td>\n",
       "      <td>26.107790</td>\n",
       "      <td>44.054132</td>\n",
       "    </tr>\n",
       "    <tr>\n",
       "      <th>2016-11-20 17:59:59</th>\n",
       "      <td>9.865336</td>\n",
       "      <td>22.788751</td>\n",
       "      <td>33.773961</td>\n",
       "      <td>45.448862</td>\n",
       "    </tr>\n",
       "    <tr>\n",
       "      <th>2017-04-13 16:59:59</th>\n",
       "      <td>6.954390</td>\n",
       "      <td>19.510773</td>\n",
       "      <td>34.206819</td>\n",
       "      <td>47.650684</td>\n",
       "    </tr>\n",
       "    <tr>\n",
       "      <th>2016-10-23 00:59:59</th>\n",
       "      <td>10.798967</td>\n",
       "      <td>24.080236</td>\n",
       "      <td>36.202377</td>\n",
       "      <td>47.174189</td>\n",
       "    </tr>\n",
       "    <tr>\n",
       "      <th>2017-12-02 23:59:59</th>\n",
       "      <td>8.909313</td>\n",
       "      <td>20.985875</td>\n",
       "      <td>34.107699</td>\n",
       "      <td>37.363455</td>\n",
       "    </tr>\n",
       "    <tr>\n",
       "      <th>2017-05-09 06:59:59</th>\n",
       "      <td>8.245608</td>\n",
       "      <td>22.863803</td>\n",
       "      <td>18.520556</td>\n",
       "      <td>29.728373</td>\n",
       "    </tr>\n",
       "    <tr>\n",
       "      <th>2017-06-21 16:59:59</th>\n",
       "      <td>7.428888</td>\n",
       "      <td>20.226572</td>\n",
       "      <td>34.312633</td>\n",
       "      <td>43.206253</td>\n",
       "    </tr>\n",
       "    <tr>\n",
       "      <th>2016-04-06 12:00:00</th>\n",
       "      <td>0.000000</td>\n",
       "      <td>0.000000</td>\n",
       "      <td>0.000000</td>\n",
       "      <td>0.000000</td>\n",
       "    </tr>\n",
       "  </tbody>\n",
       "</table>\n",
       "</div>"
      ],
      "text/plain": [
       "                     rougher.input.feed_au  rougher.output.concentrate_au  \\\n",
       "date                                                                        \n",
       "2017-12-09 21:59:59               9.152000                      22.050024   \n",
       "2018-05-18 11:59:59               6.371632                      19.073292   \n",
       "2018-08-15 14:59:59               6.733475                      19.909058   \n",
       "2016-11-20 17:59:59               9.865336                      22.788751   \n",
       "2017-04-13 16:59:59               6.954390                      19.510773   \n",
       "2016-10-23 00:59:59              10.798967                      24.080236   \n",
       "2017-12-02 23:59:59               8.909313                      20.985875   \n",
       "2017-05-09 06:59:59               8.245608                      22.863803   \n",
       "2017-06-21 16:59:59               7.428888                      20.226572   \n",
       "2016-04-06 12:00:00               0.000000                       0.000000   \n",
       "\n",
       "                     primary_cleaner.output.concentrate_au  \\\n",
       "date                                                         \n",
       "2017-12-09 21:59:59                              30.021166   \n",
       "2018-05-18 11:59:59                              28.621833   \n",
       "2018-08-15 14:59:59                              26.107790   \n",
       "2016-11-20 17:59:59                              33.773961   \n",
       "2017-04-13 16:59:59                              34.206819   \n",
       "2016-10-23 00:59:59                              36.202377   \n",
       "2017-12-02 23:59:59                              34.107699   \n",
       "2017-05-09 06:59:59                              18.520556   \n",
       "2017-06-21 16:59:59                              34.312633   \n",
       "2016-04-06 12:00:00                               0.000000   \n",
       "\n",
       "                     final.output.concentrate_au  \n",
       "date                                              \n",
       "2017-12-09 21:59:59                    44.797059  \n",
       "2018-05-18 11:59:59                    43.465774  \n",
       "2018-08-15 14:59:59                    44.054132  \n",
       "2016-11-20 17:59:59                    45.448862  \n",
       "2017-04-13 16:59:59                    47.650684  \n",
       "2016-10-23 00:59:59                    47.174189  \n",
       "2017-12-02 23:59:59                    37.363455  \n",
       "2017-05-09 06:59:59                    29.728373  \n",
       "2017-06-21 16:59:59                    43.206253  \n",
       "2016-04-06 12:00:00                     0.000000  "
      ]
     },
     "metadata": {},
     "output_type": "display_data"
    },
    {
     "data": {
      "text/html": [
       "<div>\n",
       "<style scoped>\n",
       "    .dataframe tbody tr th:only-of-type {\n",
       "        vertical-align: middle;\n",
       "    }\n",
       "\n",
       "    .dataframe tbody tr th {\n",
       "        vertical-align: top;\n",
       "    }\n",
       "\n",
       "    .dataframe thead th {\n",
       "        text-align: right;\n",
       "    }\n",
       "</style>\n",
       "<table border=\"1\" class=\"dataframe\">\n",
       "  <thead>\n",
       "    <tr style=\"text-align: right;\">\n",
       "      <th></th>\n",
       "      <th>rougher.input.feed_ag</th>\n",
       "      <th>rougher.output.concentrate_ag</th>\n",
       "      <th>primary_cleaner.output.concentrate_ag</th>\n",
       "      <th>final.output.concentrate_ag</th>\n",
       "    </tr>\n",
       "    <tr>\n",
       "      <th>date</th>\n",
       "      <th></th>\n",
       "      <th></th>\n",
       "      <th></th>\n",
       "      <th></th>\n",
       "    </tr>\n",
       "  </thead>\n",
       "  <tbody>\n",
       "    <tr>\n",
       "      <th>2017-09-05 20:59:59</th>\n",
       "      <td>0.000000</td>\n",
       "      <td>0.000000</td>\n",
       "      <td>0.000000</td>\n",
       "      <td>6.202827</td>\n",
       "    </tr>\n",
       "    <tr>\n",
       "      <th>2016-06-30 13:59:59</th>\n",
       "      <td>9.009753</td>\n",
       "      <td>16.178572</td>\n",
       "      <td>10.805552</td>\n",
       "      <td>11.500001</td>\n",
       "    </tr>\n",
       "    <tr>\n",
       "      <th>2016-07-12 14:59:59</th>\n",
       "      <td>7.884212</td>\n",
       "      <td>13.158831</td>\n",
       "      <td>8.857675</td>\n",
       "      <td>6.947330</td>\n",
       "    </tr>\n",
       "    <tr>\n",
       "      <th>2017-12-31 05:59:59</th>\n",
       "      <td>11.888136</td>\n",
       "      <td>13.754501</td>\n",
       "      <td>10.152445</td>\n",
       "      <td>5.323735</td>\n",
       "    </tr>\n",
       "    <tr>\n",
       "      <th>2018-01-05 18:59:59</th>\n",
       "      <td>0.000000</td>\n",
       "      <td>0.000000</td>\n",
       "      <td>0.000000</td>\n",
       "      <td>0.000000</td>\n",
       "    </tr>\n",
       "    <tr>\n",
       "      <th>2016-09-20 11:59:59</th>\n",
       "      <td>9.456133</td>\n",
       "      <td>12.555207</td>\n",
       "      <td>8.568252</td>\n",
       "      <td>4.864543</td>\n",
       "    </tr>\n",
       "    <tr>\n",
       "      <th>2017-10-28 06:59:59</th>\n",
       "      <td>12.629388</td>\n",
       "      <td>15.138356</td>\n",
       "      <td>11.177120</td>\n",
       "      <td>6.123194</td>\n",
       "    </tr>\n",
       "    <tr>\n",
       "      <th>2016-01-25 23:00:00</th>\n",
       "      <td>9.802633</td>\n",
       "      <td>11.764236</td>\n",
       "      <td>10.302415</td>\n",
       "      <td>4.681803</td>\n",
       "    </tr>\n",
       "    <tr>\n",
       "      <th>2017-04-10 01:59:59</th>\n",
       "      <td>8.180935</td>\n",
       "      <td>10.745621</td>\n",
       "      <td>7.586827</td>\n",
       "      <td>4.396328</td>\n",
       "    </tr>\n",
       "    <tr>\n",
       "      <th>2016-10-15 02:59:59</th>\n",
       "      <td>11.560490</td>\n",
       "      <td>14.193857</td>\n",
       "      <td>11.184226</td>\n",
       "      <td>5.957289</td>\n",
       "    </tr>\n",
       "  </tbody>\n",
       "</table>\n",
       "</div>"
      ],
      "text/plain": [
       "                     rougher.input.feed_ag  rougher.output.concentrate_ag  \\\n",
       "date                                                                        \n",
       "2017-09-05 20:59:59               0.000000                       0.000000   \n",
       "2016-06-30 13:59:59               9.009753                      16.178572   \n",
       "2016-07-12 14:59:59               7.884212                      13.158831   \n",
       "2017-12-31 05:59:59              11.888136                      13.754501   \n",
       "2018-01-05 18:59:59               0.000000                       0.000000   \n",
       "2016-09-20 11:59:59               9.456133                      12.555207   \n",
       "2017-10-28 06:59:59              12.629388                      15.138356   \n",
       "2016-01-25 23:00:00               9.802633                      11.764236   \n",
       "2017-04-10 01:59:59               8.180935                      10.745621   \n",
       "2016-10-15 02:59:59              11.560490                      14.193857   \n",
       "\n",
       "                     primary_cleaner.output.concentrate_ag  \\\n",
       "date                                                         \n",
       "2017-09-05 20:59:59                               0.000000   \n",
       "2016-06-30 13:59:59                              10.805552   \n",
       "2016-07-12 14:59:59                               8.857675   \n",
       "2017-12-31 05:59:59                              10.152445   \n",
       "2018-01-05 18:59:59                               0.000000   \n",
       "2016-09-20 11:59:59                               8.568252   \n",
       "2017-10-28 06:59:59                              11.177120   \n",
       "2016-01-25 23:00:00                              10.302415   \n",
       "2017-04-10 01:59:59                               7.586827   \n",
       "2016-10-15 02:59:59                              11.184226   \n",
       "\n",
       "                     final.output.concentrate_ag  \n",
       "date                                              \n",
       "2017-09-05 20:59:59                     6.202827  \n",
       "2016-06-30 13:59:59                    11.500001  \n",
       "2016-07-12 14:59:59                     6.947330  \n",
       "2017-12-31 05:59:59                     5.323735  \n",
       "2018-01-05 18:59:59                     0.000000  \n",
       "2016-09-20 11:59:59                     4.864543  \n",
       "2017-10-28 06:59:59                     6.123194  \n",
       "2016-01-25 23:00:00                     4.681803  \n",
       "2017-04-10 01:59:59                     4.396328  \n",
       "2016-10-15 02:59:59                     5.957289  "
      ]
     },
     "metadata": {},
     "output_type": "display_data"
    },
    {
     "data": {
      "text/html": [
       "<div>\n",
       "<style scoped>\n",
       "    .dataframe tbody tr th:only-of-type {\n",
       "        vertical-align: middle;\n",
       "    }\n",
       "\n",
       "    .dataframe tbody tr th {\n",
       "        vertical-align: top;\n",
       "    }\n",
       "\n",
       "    .dataframe thead th {\n",
       "        text-align: right;\n",
       "    }\n",
       "</style>\n",
       "<table border=\"1\" class=\"dataframe\">\n",
       "  <thead>\n",
       "    <tr style=\"text-align: right;\">\n",
       "      <th></th>\n",
       "      <th>rougher.input.feed_pb</th>\n",
       "      <th>rougher.output.concentrate_pb</th>\n",
       "      <th>primary_cleaner.output.concentrate_pb</th>\n",
       "      <th>final.output.concentrate_pb</th>\n",
       "    </tr>\n",
       "    <tr>\n",
       "      <th>date</th>\n",
       "      <th></th>\n",
       "      <th></th>\n",
       "      <th></th>\n",
       "      <th></th>\n",
       "    </tr>\n",
       "  </thead>\n",
       "  <tbody>\n",
       "    <tr>\n",
       "      <th>2017-05-06 23:59:59</th>\n",
       "      <td>4.391911</td>\n",
       "      <td>8.903900</td>\n",
       "      <td>10.191536</td>\n",
       "      <td>10.420573</td>\n",
       "    </tr>\n",
       "    <tr>\n",
       "      <th>2017-11-30 05:59:59</th>\n",
       "      <td>5.230516</td>\n",
       "      <td>8.785253</td>\n",
       "      <td>11.861868</td>\n",
       "      <td>10.779096</td>\n",
       "    </tr>\n",
       "    <tr>\n",
       "      <th>2017-12-12 01:59:59</th>\n",
       "      <td>0.751482</td>\n",
       "      <td>4.944750</td>\n",
       "      <td>11.053981</td>\n",
       "      <td>8.014573</td>\n",
       "    </tr>\n",
       "    <tr>\n",
       "      <th>2016-09-05 09:59:59</th>\n",
       "      <td>3.977533</td>\n",
       "      <td>0.000000</td>\n",
       "      <td>11.543860</td>\n",
       "      <td>10.444992</td>\n",
       "    </tr>\n",
       "    <tr>\n",
       "      <th>2017-04-08 10:59:59</th>\n",
       "      <td>4.021280</td>\n",
       "      <td>8.696464</td>\n",
       "      <td>11.319576</td>\n",
       "      <td>12.831923</td>\n",
       "    </tr>\n",
       "    <tr>\n",
       "      <th>2018-02-12 09:59:59</th>\n",
       "      <td>2.525621</td>\n",
       "      <td>6.336836</td>\n",
       "      <td>10.725111</td>\n",
       "      <td>10.085956</td>\n",
       "    </tr>\n",
       "    <tr>\n",
       "      <th>2017-05-03 15:59:59</th>\n",
       "      <td>3.454167</td>\n",
       "      <td>7.777432</td>\n",
       "      <td>11.418479</td>\n",
       "      <td>9.881477</td>\n",
       "    </tr>\n",
       "    <tr>\n",
       "      <th>2018-06-22 21:59:59</th>\n",
       "      <td>2.905335</td>\n",
       "      <td>6.107500</td>\n",
       "      <td>8.812257</td>\n",
       "      <td>5.795421</td>\n",
       "    </tr>\n",
       "    <tr>\n",
       "      <th>2017-03-14 12:59:59</th>\n",
       "      <td>4.030239</td>\n",
       "      <td>7.708693</td>\n",
       "      <td>10.425138</td>\n",
       "      <td>9.290107</td>\n",
       "    </tr>\n",
       "    <tr>\n",
       "      <th>2016-08-31 07:59:59</th>\n",
       "      <td>4.083885</td>\n",
       "      <td>6.381048</td>\n",
       "      <td>11.016260</td>\n",
       "      <td>9.172442</td>\n",
       "    </tr>\n",
       "  </tbody>\n",
       "</table>\n",
       "</div>"
      ],
      "text/plain": [
       "                     rougher.input.feed_pb  rougher.output.concentrate_pb  \\\n",
       "date                                                                        \n",
       "2017-05-06 23:59:59               4.391911                       8.903900   \n",
       "2017-11-30 05:59:59               5.230516                       8.785253   \n",
       "2017-12-12 01:59:59               0.751482                       4.944750   \n",
       "2016-09-05 09:59:59               3.977533                       0.000000   \n",
       "2017-04-08 10:59:59               4.021280                       8.696464   \n",
       "2018-02-12 09:59:59               2.525621                       6.336836   \n",
       "2017-05-03 15:59:59               3.454167                       7.777432   \n",
       "2018-06-22 21:59:59               2.905335                       6.107500   \n",
       "2017-03-14 12:59:59               4.030239                       7.708693   \n",
       "2016-08-31 07:59:59               4.083885                       6.381048   \n",
       "\n",
       "                     primary_cleaner.output.concentrate_pb  \\\n",
       "date                                                         \n",
       "2017-05-06 23:59:59                              10.191536   \n",
       "2017-11-30 05:59:59                              11.861868   \n",
       "2017-12-12 01:59:59                              11.053981   \n",
       "2016-09-05 09:59:59                              11.543860   \n",
       "2017-04-08 10:59:59                              11.319576   \n",
       "2018-02-12 09:59:59                              10.725111   \n",
       "2017-05-03 15:59:59                              11.418479   \n",
       "2018-06-22 21:59:59                               8.812257   \n",
       "2017-03-14 12:59:59                              10.425138   \n",
       "2016-08-31 07:59:59                              11.016260   \n",
       "\n",
       "                     final.output.concentrate_pb  \n",
       "date                                              \n",
       "2017-05-06 23:59:59                    10.420573  \n",
       "2017-11-30 05:59:59                    10.779096  \n",
       "2017-12-12 01:59:59                     8.014573  \n",
       "2016-09-05 09:59:59                    10.444992  \n",
       "2017-04-08 10:59:59                    12.831923  \n",
       "2018-02-12 09:59:59                    10.085956  \n",
       "2017-05-03 15:59:59                     9.881477  \n",
       "2018-06-22 21:59:59                     5.795421  \n",
       "2017-03-14 12:59:59                     9.290107  \n",
       "2016-08-31 07:59:59                     9.172442  "
      ]
     },
     "metadata": {},
     "output_type": "display_data"
    }
   ],
   "source": [
    "display(au.sample(10))\n",
    "display(ag.sample(10))\n",
    "display(pb.sample(10))"
   ]
  },
  {
   "cell_type": "code",
   "execution_count": 20,
   "metadata": {},
   "outputs": [
    {
     "data": {
      "image/png": "[encoded data removed]",
      "text/plain": [
       "<Figure size 1000x1500 with 3 Axes>"
      ]
     },
     "metadata": {},
     "output_type": "display_data"
    }
   ],
   "source": [
    "#create plots to visualize the data\n",
    "fig, axes = plt.subplots(3, 1, figsize=(10, 15))\n",
    "# Plot for Au\n",
    "sns.boxplot(data=au, orient='h', ax=axes[0])\n",
    "axes[0].set_title('Au Concentration by Stage')\n",
    "# Plot for Ag\n",
    "sns.boxplot(data=ag, orient='h', ax=axes[1])\n",
    "axes[1].set_title('Ag Concentration by Stage')\n",
    "# Plot for Pb\n",
    "sns.boxplot(data=pb, orient='h', ax=axes[2])\n",
    "axes[2].set_title('Pb Concentration by Stage')\n",
    "plt.tight_layout() \n",
    "plt.show()"
   ]
  },
  {
   "cell_type": "markdown",
   "metadata": {},
   "source": [
    "During the purification process, the concentrations of both Au and Pb increase, while the concentration of Ag slightly decreases overall."
   ]
  },
  {
   "cell_type": "code",
   "execution_count": 21,
   "metadata": {},
   "outputs": [
    {
     "data": {
      "image/png": "[encoded data removed]",
      "text/plain": [
       "<Figure size 1200x800 with 1 Axes>"
      ]
     },
     "metadata": {},
     "output_type": "display_data"
    }
   ],
   "source": [
    "plt.figure(figsize=(12, 8))\n",
    "sns.histplot(gr_train['rougher.input.feed_size'], bins=50, label=\"Training Set\", alpha=0.5) #Training Set\n",
    "sns.histplot(gr_test['rougher.input.feed_size'], bins=50, label=\"Test Set\", color='green') #Test Set\n",
    "plt.title(\"Rougher Input Feed Particle Size Distribution\")\n",
    "plt.legend()\n",
    "plt.xlabel('Rougher Input Feed Size')\n",
    "plt.show()"
   ]
  },
  {
   "cell_type": "code",
   "execution_count": 22,
   "metadata": {},
   "outputs": [
    {
     "data": {
      "image/png": "[encoded data removed]",
      "text/plain": [
       "<Figure size 1200x800 with 1 Axes>"
      ]
     },
     "metadata": {},
     "output_type": "display_data"
    }
   ],
   "source": [
    "plt.figure(figsize=(12, 8))\n",
    "sns.histplot(gr_train['primary_cleaner.input.feed_size'], bins=50, label=\"Training Set\", alpha=0.5)\n",
    "sns.histplot(gr_test['primary_cleaner.input.feed_size'], bins=50, label=\"Test Set\", color='green')\n",
    "plt.title(\"Primary Cleaner Input Feed Particle Size Distribution\")\n",
    "plt.legend()\n",
    "plt.xlabel('Primary Cleaner Input Feed Size')\n",
    "plt.show()"
   ]
  },
  {
   "cell_type": "markdown",
   "metadata": {},
   "source": [
    "Examining the histograms presented, it becomes apparent that the distributions for both the primary cleaner and rougher input sizes exhibit a notable degree of similarity. However, it's important to highlight that the test dataset is significantly smaller in comparison."
   ]
  },
  {
   "cell_type": "markdown",
   "metadata": {},
   "source": [
    "### 2.3 Total concentration across metals"
   ]
  },
  {
   "cell_type": "code",
   "execution_count": 23,
   "metadata": {},
   "outputs": [],
   "source": [
    "#create 3 dataframes, one for each stage and add all the metals.\n",
    "raw_feed = gr_full['rougher.input.feed_au'] + gr_full['rougher.input.feed_ag'] + gr_full['rougher.input.feed_pb']\n",
    "rougher_concentrate = gr_full['rougher.output.concentrate_au'] + gr_full['rougher.output.concentrate_ag'] + gr_full['rougher.output.concentrate_pb']\n",
    "final_concentrate = gr_full['final.output.concentrate_au'] + gr_full['final.output.concentrate_ag'] + gr_full['final.output.concentrate_pb']"
   ]
  },
  {
   "cell_type": "code",
   "execution_count": 24,
   "metadata": {},
   "outputs": [
    {
     "data": {
      "image/png": "[encoded data removed]",
      "text/plain": [
       "<Figure size 1200x800 with 1 Axes>"
      ]
     },
     "metadata": {},
     "output_type": "display_data"
    }
   ],
   "source": [
    "#Plot the total concentration of metals at\n",
    "plt.figure(figsize=(12, 8))\n",
    "sns.histplot(data=raw_feed, color='green', alpha=0.5, legend=True, kde=True, label='Raw Feed')\n",
    "sns.histplot(data=rougher_concentrate, legend=True, kde=True, label='Rougher Concentrate')\n",
    "sns.histplot(data=final_concentrate, color=\"brown\", legend=True, kde=True, label='Final Concentrate')\n",
    "plt.legend()\n",
    "plt.title('Total Concentration of Metals at Each Stage')\n",
    "plt.show()"
   ]
  },
  {
   "cell_type": "markdown",
   "metadata": {},
   "source": [
    "The histogram depicts the total metal concentration at three stages of processing. The concentration increases from raw feed to final concentrate. However, there's a notable number of entries with near-zero values across all stages, which could indicate measurement errors or other anomalies that may require further investigation. The distributions are right-skewed, suggesting a tail of high concentration values, particularly in the later stages of processing."
   ]
  },
  {
   "cell_type": "code",
   "execution_count": 25,
   "metadata": {},
   "outputs": [
    {
     "name": "stdout",
     "output_type": "stream",
     "text": [
      "(16860, 86)\n",
      "(15597, 87)\n"
     ]
    }
   ],
   "source": [
    "#remove Zeros\n",
    "\n",
    "features_rougher_input_concentrate= [\n",
    "    'rougher.input.feed_au',\n",
    "    'rougher.input.feed_ag',\n",
    "    'rougher.input.feed_pb',\n",
    "    'rougher.input.feed_sol',\n",
    "]\n",
    "\n",
    "features_rougher_output_concentrate = [\n",
    "    'rougher.output.concentrate_au',\n",
    "    'rougher.output.concentrate_ag',\n",
    "    'rougher.output.concentrate_pb',\n",
    "    'rougher.output.concentrate_sol',\n",
    "]\n",
    "\n",
    "features_final_output_concentrate = [\n",
    "    'final.output.concentrate_au',\n",
    "    'final.output.concentrate_ag',\n",
    "    'final.output.concentrate_pb',\n",
    "    'final.output.concentrate_sol',\n",
    "]\n",
    "\n",
    "\n",
    "\n",
    "threshold = 0.01\n",
    "\n",
    "df_train2 = gr_train[gr_train[features_rougher_input_concentrate].sum(1) > threshold].reset_index()\n",
    "df_train2 = gr_train[gr_train[features_rougher_output_concentrate].sum(1) > threshold].reset_index()\n",
    "df_train2 = gr_train[gr_train[features_final_output_concentrate].sum(1) > threshold].reset_index()\n",
    "\n",
    "print(gr_train.shape)\n",
    "print(df_train2.shape)"
   ]
  },
  {
   "cell_type": "code",
   "execution_count": 26,
   "metadata": {},
   "outputs": [
    {
     "data": {
      "text/html": [
       "<div>\n",
       "<style scoped>\n",
       "    .dataframe tbody tr th:only-of-type {\n",
       "        vertical-align: middle;\n",
       "    }\n",
       "\n",
       "    .dataframe tbody tr th {\n",
       "        vertical-align: top;\n",
       "    }\n",
       "\n",
       "    .dataframe thead th {\n",
       "        text-align: right;\n",
       "    }\n",
       "</style>\n",
       "<table border=\"1\" class=\"dataframe\">\n",
       "  <thead>\n",
       "    <tr style=\"text-align: right;\">\n",
       "      <th></th>\n",
       "      <th>primary_cleaner.input.sulfate</th>\n",
       "      <th>primary_cleaner.input.depressant</th>\n",
       "      <th>primary_cleaner.input.feed_size</th>\n",
       "      <th>primary_cleaner.input.xanthate</th>\n",
       "      <th>primary_cleaner.state.floatbank8_a_air</th>\n",
       "      <th>primary_cleaner.state.floatbank8_a_level</th>\n",
       "      <th>primary_cleaner.state.floatbank8_b_air</th>\n",
       "      <th>primary_cleaner.state.floatbank8_b_level</th>\n",
       "      <th>primary_cleaner.state.floatbank8_c_air</th>\n",
       "      <th>primary_cleaner.state.floatbank8_c_level</th>\n",
       "      <th>...</th>\n",
       "      <th>secondary_cleaner.state.floatbank4_a_air</th>\n",
       "      <th>secondary_cleaner.state.floatbank4_a_level</th>\n",
       "      <th>secondary_cleaner.state.floatbank4_b_air</th>\n",
       "      <th>secondary_cleaner.state.floatbank4_b_level</th>\n",
       "      <th>secondary_cleaner.state.floatbank5_a_air</th>\n",
       "      <th>secondary_cleaner.state.floatbank5_a_level</th>\n",
       "      <th>secondary_cleaner.state.floatbank5_b_air</th>\n",
       "      <th>secondary_cleaner.state.floatbank5_b_level</th>\n",
       "      <th>secondary_cleaner.state.floatbank6_a_air</th>\n",
       "      <th>secondary_cleaner.state.floatbank6_a_level</th>\n",
       "    </tr>\n",
       "    <tr>\n",
       "      <th>date</th>\n",
       "      <th></th>\n",
       "      <th></th>\n",
       "      <th></th>\n",
       "      <th></th>\n",
       "      <th></th>\n",
       "      <th></th>\n",
       "      <th></th>\n",
       "      <th></th>\n",
       "      <th></th>\n",
       "      <th></th>\n",
       "      <th></th>\n",
       "      <th></th>\n",
       "      <th></th>\n",
       "      <th></th>\n",
       "      <th></th>\n",
       "      <th></th>\n",
       "      <th></th>\n",
       "      <th></th>\n",
       "      <th></th>\n",
       "      <th></th>\n",
       "      <th></th>\n",
       "    </tr>\n",
       "  </thead>\n",
       "  <tbody>\n",
       "    <tr>\n",
       "      <th>2016-09-01 00:59:59</th>\n",
       "      <td>210.800909</td>\n",
       "      <td>14.993118</td>\n",
       "      <td>8.080000</td>\n",
       "      <td>1.005021</td>\n",
       "      <td>1398.981301</td>\n",
       "      <td>-500.225577</td>\n",
       "      <td>1399.144926</td>\n",
       "      <td>-499.919735</td>\n",
       "      <td>1400.102998</td>\n",
       "      <td>-500.704369</td>\n",
       "      <td>...</td>\n",
       "      <td>12.023554</td>\n",
       "      <td>-497.795834</td>\n",
       "      <td>8.016656</td>\n",
       "      <td>-501.289139</td>\n",
       "      <td>7.946562</td>\n",
       "      <td>-432.317850</td>\n",
       "      <td>4.872511</td>\n",
       "      <td>-500.037437</td>\n",
       "      <td>26.705889</td>\n",
       "      <td>-499.709414</td>\n",
       "    </tr>\n",
       "    <tr>\n",
       "      <th>2016-09-01 01:59:59</th>\n",
       "      <td>215.392455</td>\n",
       "      <td>14.987471</td>\n",
       "      <td>8.080000</td>\n",
       "      <td>0.990469</td>\n",
       "      <td>1398.777912</td>\n",
       "      <td>-500.057435</td>\n",
       "      <td>1398.055362</td>\n",
       "      <td>-499.778182</td>\n",
       "      <td>1396.151033</td>\n",
       "      <td>-499.240168</td>\n",
       "      <td>...</td>\n",
       "      <td>12.058140</td>\n",
       "      <td>-498.695773</td>\n",
       "      <td>8.130979</td>\n",
       "      <td>-499.634209</td>\n",
       "      <td>7.958270</td>\n",
       "      <td>-525.839648</td>\n",
       "      <td>4.878850</td>\n",
       "      <td>-500.162375</td>\n",
       "      <td>25.019940</td>\n",
       "      <td>-499.819438</td>\n",
       "    </tr>\n",
       "    <tr>\n",
       "      <th>2016-09-01 02:59:59</th>\n",
       "      <td>215.259946</td>\n",
       "      <td>12.884934</td>\n",
       "      <td>7.786667</td>\n",
       "      <td>0.996043</td>\n",
       "      <td>1398.493666</td>\n",
       "      <td>-500.868360</td>\n",
       "      <td>1398.860436</td>\n",
       "      <td>-499.764529</td>\n",
       "      <td>1398.075709</td>\n",
       "      <td>-502.151509</td>\n",
       "      <td>...</td>\n",
       "      <td>11.962366</td>\n",
       "      <td>-498.767484</td>\n",
       "      <td>8.096893</td>\n",
       "      <td>-500.827423</td>\n",
       "      <td>8.071056</td>\n",
       "      <td>-500.801673</td>\n",
       "      <td>4.905125</td>\n",
       "      <td>-499.828510</td>\n",
       "      <td>24.994862</td>\n",
       "      <td>-500.622559</td>\n",
       "    </tr>\n",
       "    <tr>\n",
       "      <th>2016-09-01 03:59:59</th>\n",
       "      <td>215.336236</td>\n",
       "      <td>12.006805</td>\n",
       "      <td>7.640000</td>\n",
       "      <td>0.863514</td>\n",
       "      <td>1399.618111</td>\n",
       "      <td>-498.863574</td>\n",
       "      <td>1397.440120</td>\n",
       "      <td>-499.211024</td>\n",
       "      <td>1400.129303</td>\n",
       "      <td>-498.355873</td>\n",
       "      <td>...</td>\n",
       "      <td>12.033091</td>\n",
       "      <td>-498.350935</td>\n",
       "      <td>8.074946</td>\n",
       "      <td>-499.474407</td>\n",
       "      <td>7.897085</td>\n",
       "      <td>-500.868509</td>\n",
       "      <td>4.931400</td>\n",
       "      <td>-499.963623</td>\n",
       "      <td>24.948919</td>\n",
       "      <td>-498.709987</td>\n",
       "    </tr>\n",
       "    <tr>\n",
       "      <th>2016-09-01 04:59:59</th>\n",
       "      <td>199.099327</td>\n",
       "      <td>10.682530</td>\n",
       "      <td>7.530000</td>\n",
       "      <td>0.805575</td>\n",
       "      <td>1401.268123</td>\n",
       "      <td>-500.808305</td>\n",
       "      <td>1398.128818</td>\n",
       "      <td>-499.504543</td>\n",
       "      <td>1402.172226</td>\n",
       "      <td>-500.810606</td>\n",
       "      <td>...</td>\n",
       "      <td>12.025367</td>\n",
       "      <td>-500.786497</td>\n",
       "      <td>8.054678</td>\n",
       "      <td>-500.397500</td>\n",
       "      <td>8.107890</td>\n",
       "      <td>-509.526725</td>\n",
       "      <td>4.957674</td>\n",
       "      <td>-500.360026</td>\n",
       "      <td>25.003331</td>\n",
       "      <td>-500.856333</td>\n",
       "    </tr>\n",
       "  </tbody>\n",
       "</table>\n",
       "<p>5 rows × 52 columns</p>\n",
       "</div>"
      ],
      "text/plain": [
       "                     primary_cleaner.input.sulfate  \\\n",
       "date                                                 \n",
       "2016-09-01 00:59:59                     210.800909   \n",
       "2016-09-01 01:59:59                     215.392455   \n",
       "2016-09-01 02:59:59                     215.259946   \n",
       "2016-09-01 03:59:59                     215.336236   \n",
       "2016-09-01 04:59:59                     199.099327   \n",
       "\n",
       "                     primary_cleaner.input.depressant  \\\n",
       "date                                                    \n",
       "2016-09-01 00:59:59                         14.993118   \n",
       "2016-09-01 01:59:59                         14.987471   \n",
       "2016-09-01 02:59:59                         12.884934   \n",
       "2016-09-01 03:59:59                         12.006805   \n",
       "2016-09-01 04:59:59                         10.682530   \n",
       "\n",
       "                     primary_cleaner.input.feed_size  \\\n",
       "date                                                   \n",
       "2016-09-01 00:59:59                         8.080000   \n",
       "2016-09-01 01:59:59                         8.080000   \n",
       "2016-09-01 02:59:59                         7.786667   \n",
       "2016-09-01 03:59:59                         7.640000   \n",
       "2016-09-01 04:59:59                         7.530000   \n",
       "\n",
       "                     primary_cleaner.input.xanthate  \\\n",
       "date                                                  \n",
       "2016-09-01 00:59:59                        1.005021   \n",
       "2016-09-01 01:59:59                        0.990469   \n",
       "2016-09-01 02:59:59                        0.996043   \n",
       "2016-09-01 03:59:59                        0.863514   \n",
       "2016-09-01 04:59:59                        0.805575   \n",
       "\n",
       "                     primary_cleaner.state.floatbank8_a_air  \\\n",
       "date                                                          \n",
       "2016-09-01 00:59:59                             1398.981301   \n",
       "2016-09-01 01:59:59                             1398.777912   \n",
       "2016-09-01 02:59:59                             1398.493666   \n",
       "2016-09-01 03:59:59                             1399.618111   \n",
       "2016-09-01 04:59:59                             1401.268123   \n",
       "\n",
       "                     primary_cleaner.state.floatbank8_a_level  \\\n",
       "date                                                            \n",
       "2016-09-01 00:59:59                               -500.225577   \n",
       "2016-09-01 01:59:59                               -500.057435   \n",
       "2016-09-01 02:59:59                               -500.868360   \n",
       "2016-09-01 03:59:59                               -498.863574   \n",
       "2016-09-01 04:59:59                               -500.808305   \n",
       "\n",
       "                     primary_cleaner.state.floatbank8_b_air  \\\n",
       "date                                                          \n",
       "2016-09-01 00:59:59                             1399.144926   \n",
       "2016-09-01 01:59:59                             1398.055362   \n",
       "2016-09-01 02:59:59                             1398.860436   \n",
       "2016-09-01 03:59:59                             1397.440120   \n",
       "2016-09-01 04:59:59                             1398.128818   \n",
       "\n",
       "                     primary_cleaner.state.floatbank8_b_level  \\\n",
       "date                                                            \n",
       "2016-09-01 00:59:59                               -499.919735   \n",
       "2016-09-01 01:59:59                               -499.778182   \n",
       "2016-09-01 02:59:59                               -499.764529   \n",
       "2016-09-01 03:59:59                               -499.211024   \n",
       "2016-09-01 04:59:59                               -499.504543   \n",
       "\n",
       "                     primary_cleaner.state.floatbank8_c_air  \\\n",
       "date                                                          \n",
       "2016-09-01 00:59:59                             1400.102998   \n",
       "2016-09-01 01:59:59                             1396.151033   \n",
       "2016-09-01 02:59:59                             1398.075709   \n",
       "2016-09-01 03:59:59                             1400.129303   \n",
       "2016-09-01 04:59:59                             1402.172226   \n",
       "\n",
       "                     primary_cleaner.state.floatbank8_c_level  ...  \\\n",
       "date                                                           ...   \n",
       "2016-09-01 00:59:59                               -500.704369  ...   \n",
       "2016-09-01 01:59:59                               -499.240168  ...   \n",
       "2016-09-01 02:59:59                               -502.151509  ...   \n",
       "2016-09-01 03:59:59                               -498.355873  ...   \n",
       "2016-09-01 04:59:59                               -500.810606  ...   \n",
       "\n",
       "                     secondary_cleaner.state.floatbank4_a_air  \\\n",
       "date                                                            \n",
       "2016-09-01 00:59:59                                 12.023554   \n",
       "2016-09-01 01:59:59                                 12.058140   \n",
       "2016-09-01 02:59:59                                 11.962366   \n",
       "2016-09-01 03:59:59                                 12.033091   \n",
       "2016-09-01 04:59:59                                 12.025367   \n",
       "\n",
       "                     secondary_cleaner.state.floatbank4_a_level  \\\n",
       "date                                                              \n",
       "2016-09-01 00:59:59                                 -497.795834   \n",
       "2016-09-01 01:59:59                                 -498.695773   \n",
       "2016-09-01 02:59:59                                 -498.767484   \n",
       "2016-09-01 03:59:59                                 -498.350935   \n",
       "2016-09-01 04:59:59                                 -500.786497   \n",
       "\n",
       "                     secondary_cleaner.state.floatbank4_b_air  \\\n",
       "date                                                            \n",
       "2016-09-01 00:59:59                                  8.016656   \n",
       "2016-09-01 01:59:59                                  8.130979   \n",
       "2016-09-01 02:59:59                                  8.096893   \n",
       "2016-09-01 03:59:59                                  8.074946   \n",
       "2016-09-01 04:59:59                                  8.054678   \n",
       "\n",
       "                     secondary_cleaner.state.floatbank4_b_level  \\\n",
       "date                                                              \n",
       "2016-09-01 00:59:59                                 -501.289139   \n",
       "2016-09-01 01:59:59                                 -499.634209   \n",
       "2016-09-01 02:59:59                                 -500.827423   \n",
       "2016-09-01 03:59:59                                 -499.474407   \n",
       "2016-09-01 04:59:59                                 -500.397500   \n",
       "\n",
       "                     secondary_cleaner.state.floatbank5_a_air  \\\n",
       "date                                                            \n",
       "2016-09-01 00:59:59                                  7.946562   \n",
       "2016-09-01 01:59:59                                  7.958270   \n",
       "2016-09-01 02:59:59                                  8.071056   \n",
       "2016-09-01 03:59:59                                  7.897085   \n",
       "2016-09-01 04:59:59                                  8.107890   \n",
       "\n",
       "                     secondary_cleaner.state.floatbank5_a_level  \\\n",
       "date                                                              \n",
       "2016-09-01 00:59:59                                 -432.317850   \n",
       "2016-09-01 01:59:59                                 -525.839648   \n",
       "2016-09-01 02:59:59                                 -500.801673   \n",
       "2016-09-01 03:59:59                                 -500.868509   \n",
       "2016-09-01 04:59:59                                 -509.526725   \n",
       "\n",
       "                     secondary_cleaner.state.floatbank5_b_air  \\\n",
       "date                                                            \n",
       "2016-09-01 00:59:59                                  4.872511   \n",
       "2016-09-01 01:59:59                                  4.878850   \n",
       "2016-09-01 02:59:59                                  4.905125   \n",
       "2016-09-01 03:59:59                                  4.931400   \n",
       "2016-09-01 04:59:59                                  4.957674   \n",
       "\n",
       "                     secondary_cleaner.state.floatbank5_b_level  \\\n",
       "date                                                              \n",
       "2016-09-01 00:59:59                                 -500.037437   \n",
       "2016-09-01 01:59:59                                 -500.162375   \n",
       "2016-09-01 02:59:59                                 -499.828510   \n",
       "2016-09-01 03:59:59                                 -499.963623   \n",
       "2016-09-01 04:59:59                                 -500.360026   \n",
       "\n",
       "                     secondary_cleaner.state.floatbank6_a_air  \\\n",
       "date                                                            \n",
       "2016-09-01 00:59:59                                 26.705889   \n",
       "2016-09-01 01:59:59                                 25.019940   \n",
       "2016-09-01 02:59:59                                 24.994862   \n",
       "2016-09-01 03:59:59                                 24.948919   \n",
       "2016-09-01 04:59:59                                 25.003331   \n",
       "\n",
       "                     secondary_cleaner.state.floatbank6_a_level  \n",
       "date                                                             \n",
       "2016-09-01 00:59:59                                 -499.709414  \n",
       "2016-09-01 01:59:59                                 -499.819438  \n",
       "2016-09-01 02:59:59                                 -500.622559  \n",
       "2016-09-01 03:59:59                                 -498.709987  \n",
       "2016-09-01 04:59:59                                 -500.856333  \n",
       "\n",
       "[5 rows x 52 columns]"
      ]
     },
     "execution_count": 26,
     "metadata": {},
     "output_type": "execute_result"
    }
   ],
   "source": [
    "df_full_test = gr_full.loc[gr_test.index]\n",
    "df_test = gr_test[df_full_test[features_rougher_input_concentrate].sum(1) > threshold]\n",
    "df_test = gr_test[df_full_test[features_rougher_output_concentrate].sum(1) > threshold]\n",
    "df_test = gr_test[df_full_test[features_final_output_concentrate].sum(1) > threshold]\n",
    "\n",
    "df_test.head()"
   ]
  },
  {
   "cell_type": "markdown",
   "metadata": {},
   "source": [
    "### 3.1 Function for final sMAPE"
   ]
  },
  {
   "cell_type": "code",
   "execution_count": 27,
   "metadata": {},
   "outputs": [],
   "source": [
    "def smape(y_true, y_pred):\n",
    "    \n",
    "    \"\"\"\n",
    "    Calculate the Symmetric Mean Absolute Percentage Error (sMAPE).\n",
    "\n",
    "    Parameters:\n",
    "    y_true : array-like of shape (n_samples,)\n",
    "        Actual (true) values.\n",
    "    y_pred : array-like of shape (n_samples,)\n",
    "        Predicted values.\n",
    "\n",
    "    Returns:\n",
    "    float\n",
    "        sMAPE score.\n",
    "    \"\"\"\n",
    "    y_true = np.array(y_true)\n",
    "    y_pred = np.array(y_pred)\n",
    "\n",
    "    numerator = np.abs(y_true - y_pred)\n",
    "    denominator = np.abs(y_true) + np.abs(y_pred)\n",
    "\n",
    "    epsilon = 1e-10\n",
    "    denominator = np.where(denominator == 0, epsilon, denominator)\n",
    "\n",
    "    smape_values = (numerator / denominator) * 2 * 100\n",
    "    smape_score = np.mean(smape_values)\n",
    "\n",
    "    return smape_score"
   ]
  },
  {
   "cell_type": "code",
   "execution_count": 28,
   "metadata": {},
   "outputs": [],
   "source": [
    "def final_smape(rougher_true, rougher_pred, final_true, final_pred):\n",
    "    \"\"\"\n",
    "    Calculate the final sMAPE value combining rougher and final stages.\n",
    "\n",
    "    Parameters:\n",
    "    rougher_true : array-like of shape (n_samples,)\n",
    "        Actual (true) values for rougher stage.\n",
    "    rougher_pred : array-like of shape (n_samples,)\n",
    "        Predicted values for rougher stage.\n",
    "    final_true : array-like of shape (n_samples,)\n",
    "        Actual (true) values for final stage.\n",
    "    final_pred : array-like of shape (n_samples,)\n",
    "        Predicted values for final stage.\n",
    "\n",
    "    Returns:\n",
    "    float\n",
    "        Final sMAPE score.\n",
    "    \"\"\"\n",
    "    smape_rougher = smape(rougher_true, rougher_pred)\n",
    "    smape_final = smape(final_true, final_pred)\n",
    "\n",
    "    final_smape_score = 0.25 * smape_rougher + 0.75 * smape_final\n",
    "\n",
    "    return final_smape_score"
   ]
  },
  {
   "cell_type": "code",
   "execution_count": 29,
   "metadata": {},
   "outputs": [],
   "source": [
    "def smape(y_true, y_pred):\n",
    "    assert y_true.shape == y_pred.shape, \"Shapes of true and predicted values must match\"\n",
    "    y_true, y_pred = np.array(y_true), np.array(y_pred)\n",
    "    return 100 * np.mean(2 * np.abs(y_pred - y_true) / (np.abs(y_true) + np.abs(y_pred)))\n",
    "def fsmape(target, prediction):\n",
    "    return np.mean(2 * np.abs(target - prediction) / (np.abs(target) + np.abs(prediction))) * 100\n",
    "\n",
    "def fsmape(y_true, y_pred):\n",
    "    y_true, y_pred = np.array(y_true), np.array(y_pred)\n",
    "    return np.mean(2 * np.abs(y_true - y_pred) / (np.abs(y_true) + np.abs(y_pred))) * 100\n",
    "\n",
    "scorer = make_scorer(fsmape, greater_is_better=False)"
   ]
  },
  {
   "cell_type": "code",
   "execution_count": 30,
   "metadata": {},
   "outputs": [],
   "source": [
    "def fsmape(y_true, y_pred):\n",
    "    if y_true.ndim == 1:\n",
    "        y_true = y_true.reshape(-1, 2)\n",
    "    if y_pred.ndim == 1:\n",
    "        y_pred = y_pred.reshape(-1, 2)\n",
    "    \n",
    "    # Remove .values as y_true and y_pred are expected to be numpy arrays\n",
    "    predicted_rough, predicted_final = y_pred[:, 0], y_pred[:, 1]\n",
    "    true_rough, true_final = y_true[:, 0], y_true[:, 1]\n",
    "\n",
    "    rough_smape = smape(true_rough, predicted_rough)\n",
    "    final_smape = smape(true_final, predicted_final)\n",
    "    \n",
    "    return (rough_smape + final_smape) / 2\n",
    "\n",
    "def fsmape(y_true, y_pred):\n",
    "    y_true, y_pred = np.array(y_true).flatten(), np.array(y_pred).flatten()\n",
    "    non_zero = (np.abs(y_true) + np.abs(y_pred)) > 0  # avoid division by zero\n",
    "    return np.mean(2 * np.abs(y_true[non_zero] - y_pred[non_zero]) / (np.abs(y_true[non_zero]) + np.abs(y_pred[non_zero]))) * 100\n",
    "\n",
    "scorer = make_scorer(fsmape, greater_is_better=False)\n"
   ]
  },
  {
   "cell_type": "code",
   "execution_count": 31,
   "metadata": {},
   "outputs": [
    {
     "data": {
      "text/plain": [
       "Index(['final.output.concentrate_ag', 'final.output.concentrate_pb',\n",
       "       'final.output.concentrate_sol', 'final.output.concentrate_au',\n",
       "       'final.output.recovery', 'final.output.tail_ag', 'final.output.tail_pb',\n",
       "       'final.output.tail_sol', 'final.output.tail_au',\n",
       "       'primary_cleaner.input.sulfate', 'primary_cleaner.input.depressant',\n",
       "       'primary_cleaner.input.feed_size', 'primary_cleaner.input.xanthate',\n",
       "       'primary_cleaner.output.concentrate_ag',\n",
       "       'primary_cleaner.output.concentrate_pb',\n",
       "       'primary_cleaner.output.concentrate_sol',\n",
       "       'primary_cleaner.output.concentrate_au',\n",
       "       'primary_cleaner.output.tail_ag', 'primary_cleaner.output.tail_pb',\n",
       "       'primary_cleaner.output.tail_sol', 'primary_cleaner.output.tail_au',\n",
       "       'primary_cleaner.state.floatbank8_a_air',\n",
       "       'primary_cleaner.state.floatbank8_a_level',\n",
       "       'primary_cleaner.state.floatbank8_b_air',\n",
       "       'primary_cleaner.state.floatbank8_b_level',\n",
       "       'primary_cleaner.state.floatbank8_c_air',\n",
       "       'primary_cleaner.state.floatbank8_c_level',\n",
       "       'primary_cleaner.state.floatbank8_d_air',\n",
       "       'primary_cleaner.state.floatbank8_d_level',\n",
       "       'rougher.calculation.sulfate_to_au_concentrate',\n",
       "       'rougher.calculation.floatbank10_sulfate_to_au_feed',\n",
       "       'rougher.calculation.floatbank11_sulfate_to_au_feed',\n",
       "       'rougher.calculation.au_pb_ratio', 'rougher.input.feed_ag',\n",
       "       'rougher.input.feed_pb', 'rougher.input.feed_rate',\n",
       "       'rougher.input.feed_size', 'rougher.input.feed_sol',\n",
       "       'rougher.input.feed_au', 'rougher.input.floatbank10_sulfate',\n",
       "       'rougher.input.floatbank10_xanthate',\n",
       "       'rougher.input.floatbank11_sulfate',\n",
       "       'rougher.input.floatbank11_xanthate', 'rougher.output.concentrate_ag',\n",
       "       'rougher.output.concentrate_pb', 'rougher.output.concentrate_sol',\n",
       "       'rougher.output.concentrate_au', 'rougher.output.recovery',\n",
       "       'rougher.output.tail_ag', 'rougher.output.tail_pb',\n",
       "       'rougher.output.tail_sol', 'rougher.output.tail_au',\n",
       "       'rougher.state.floatbank10_a_air', 'rougher.state.floatbank10_a_level',\n",
       "       'rougher.state.floatbank10_b_air', 'rougher.state.floatbank10_b_level',\n",
       "       'rougher.state.floatbank10_c_air', 'rougher.state.floatbank10_c_level',\n",
       "       'rougher.state.floatbank10_d_air', 'rougher.state.floatbank10_d_level',\n",
       "       'rougher.state.floatbank10_e_air', 'rougher.state.floatbank10_e_level',\n",
       "       'rougher.state.floatbank10_f_air', 'rougher.state.floatbank10_f_level',\n",
       "       'secondary_cleaner.output.tail_ag', 'secondary_cleaner.output.tail_pb',\n",
       "       'secondary_cleaner.output.tail_sol', 'secondary_cleaner.output.tail_au',\n",
       "       'secondary_cleaner.state.floatbank2_a_air',\n",
       "       'secondary_cleaner.state.floatbank2_a_level',\n",
       "       'secondary_cleaner.state.floatbank2_b_air',\n",
       "       'secondary_cleaner.state.floatbank2_b_level',\n",
       "       'secondary_cleaner.state.floatbank3_a_air',\n",
       "       'secondary_cleaner.state.floatbank3_a_level',\n",
       "       'secondary_cleaner.state.floatbank3_b_air',\n",
       "       'secondary_cleaner.state.floatbank3_b_level',\n",
       "       'secondary_cleaner.state.floatbank4_a_air',\n",
       "       'secondary_cleaner.state.floatbank4_a_level',\n",
       "       'secondary_cleaner.state.floatbank4_b_air',\n",
       "       'secondary_cleaner.state.floatbank4_b_level',\n",
       "       'secondary_cleaner.state.floatbank5_a_air',\n",
       "       'secondary_cleaner.state.floatbank5_a_level',\n",
       "       'secondary_cleaner.state.floatbank5_b_air',\n",
       "       'secondary_cleaner.state.floatbank5_b_level',\n",
       "       'secondary_cleaner.state.floatbank6_a_air',\n",
       "       'secondary_cleaner.state.floatbank6_a_level'],\n",
       "      dtype='object')"
      ]
     },
     "execution_count": 31,
     "metadata": {},
     "output_type": "execute_result"
    }
   ],
   "source": [
    "gr_train.columns"
   ]
  },
  {
   "cell_type": "code",
   "execution_count": 32,
   "metadata": {},
   "outputs": [],
   "source": [
    "#seperate features and targets\n",
    "features_train = df_train2\n",
    "target_train = df_train2[['rougher.output.recovery', 'final.output.recovery']]\n",
    "\n",
    "features_test = gr_test\n",
    "target_test =  df_full_test[['rougher.output.recovery', 'final.output.recovery']].loc[gr_test.index].reset_index(drop=True)"
   ]
  },
  {
   "cell_type": "code",
   "execution_count": 33,
   "metadata": {},
   "outputs": [
    {
     "name": "stdout",
     "output_type": "stream",
     "text": [
      "Weighted sMAPE on Target Train:\n",
      "10.772275188139217\n",
      "Weighted sMAPE on Target Test:\n",
      "8.961578132012898\n"
     ]
    }
   ],
   "source": [
    "# Step 1: Calculate medians from the training data\n",
    "median_rougher_output_recovery = target_train['rougher.output.recovery'].median()\n",
    "median_final_output_recovery = target_train['final.output.recovery'].median()\n",
    "\n",
    "# Step 2: Use the calculated medians to predict on both training and test data\n",
    "# Predict on the training data\n",
    "pred_median_train = target_train.copy()\n",
    "pred_median_train['rougher.output.recovery'] = median_rougher_output_recovery\n",
    "pred_median_train['final.output.recovery'] = median_final_output_recovery\n",
    "\n",
    "print('Weighted sMAPE on Target Train:')\n",
    "print(fsmape(target_train.to_numpy(), pred_median_train.to_numpy()))\n",
    "\n",
    "# Predict on the test data\n",
    "pred_median_test = target_test.copy()\n",
    "pred_median_test['rougher.output.recovery'] = median_rougher_output_recovery\n",
    "pred_median_test['final.output.recovery'] = median_final_output_recovery\n",
    "\n",
    "print('Weighted sMAPE on Target Test:')\n",
    "print(fsmape(target_test.to_numpy(), pred_median_test.to_numpy()))"
   ]
  },
  {
   "cell_type": "code",
   "execution_count": 34,
   "metadata": {},
   "outputs": [
    {
     "data": {
      "text/plain": [
       "(15597, 87)"
      ]
     },
     "metadata": {},
     "output_type": "display_data"
    },
    {
     "data": {
      "text/plain": [
       "(15597, 2)"
      ]
     },
     "metadata": {},
     "output_type": "display_data"
    }
   ],
   "source": [
    "#check data shape\n",
    "display(features_train.shape)\n",
    "display(target_train.shape)"
   ]
  },
  {
   "cell_type": "code",
   "execution_count": 35,
   "metadata": {},
   "outputs": [],
   "source": [
    "features_train = features_train[features_train.columns].drop(['date'], axis=1)"
   ]
  },
  {
   "cell_type": "code",
   "execution_count": 36,
   "metadata": {},
   "outputs": [
    {
     "name": "stdout",
     "output_type": "stream",
     "text": [
      "Training Features Shape: (15597, 86)\n",
      "Test Features Shape: (5856, 52)\n",
      "Column names do not match between training and test sets.\n",
      "Aligned Training Features Shape: (15597, 52)\n",
      "Aligned Test Features Shape: (5856, 52)\n"
     ]
    }
   ],
   "source": [
    "# Verify feature consistency between training and test sets\n",
    "print(\"Training Features Shape:\", features_train.shape)\n",
    "print(\"Test Features Shape:\", features_test.shape)\n",
    "\n",
    "# Check if column names are the same\n",
    "if list(features_train.columns) != list(features_test.columns):\n",
    "    print(\"Column names do not match between training and test sets.\")\n",
    "    # Align columns between train and test sets\n",
    "    common_columns = features_train.columns.intersection(features_test.columns)\n",
    "    features_train = features_train[common_columns]\n",
    "    features_test = features_test[common_columns]\n",
    "\n",
    "print(\"Aligned Training Features Shape:\", features_train.shape)\n",
    "print(\"Aligned Test Features Shape:\", features_test.shape)\n"
   ]
  },
  {
   "cell_type": "markdown",
   "metadata": {},
   "source": [
    "### 3.2 Model Training"
   ]
  },
  {
   "cell_type": "code",
   "execution_count": 37,
   "metadata": {},
   "outputs": [],
   "source": [
    "#score models using kfold validation\n",
    "def score_model(model, cv=4):\n",
    "    scores = []\n",
    "    for subtrain_index, valid_index in KFold(n_splits=cv).split(features_train): \n",
    "        features_subtrain = features_train.loc[subtrain_index].reset_index(drop=True)\n",
    "        target_subtrain = target_train.loc[subtrain_index].reset_index(drop=True)\n",
    "        features_valid = features_train.loc[valid_index].reset_index(drop=True)\n",
    "        target_valid = target_train.loc[valid_index].reset_index(drop=True)\n",
    "        \n",
    "        model.fit(features_subtrain, target_subtrain)\n",
    "        pred_valid = pd.DataFrame(model.predict(features_valid))\n",
    "        \n",
    "        scores.append(smape(target_valid, pred_valid))\n",
    "    \n",
    "    return pd.Series(scores).mean()"
   ]
  },
  {
   "cell_type": "code",
   "execution_count": 38,
   "metadata": {},
   "outputs": [
    {
     "name": "stdout",
     "output_type": "stream",
     "text": [
      "Linear Regression model score: 12.296794500250368\n"
     ]
    }
   ],
   "source": [
    "model = LinearRegression()\n",
    "linear_score = score_model(model)\n",
    "print(\"Linear Regression model score:\", linear_score)"
   ]
  },
  {
   "cell_type": "code",
   "execution_count": 39,
   "metadata": {},
   "outputs": [
    {
     "name": "stdout",
     "output_type": "stream",
     "text": [
      "Best Decision Tree Regressor parameters for rougher: {'max_depth': 5, 'max_features': 'sqrt', 'min_samples_leaf': 1, 'min_samples_split': 10}\n",
      "Best Decision Tree Regressor parameters for final: {'max_depth': 5, 'max_features': 'log2', 'min_samples_leaf': 1, 'min_samples_split': 2}\n"
     ]
    }
   ],
   "source": [
    "# Define the DecisionTreeRegressor\n",
    "decision_tree = DecisionTreeRegressor()\n",
    "\n",
    "# Define the hyperparameter grid\n",
    "param_grid = {\n",
    "    'max_depth': [3, 5, 10, None],\n",
    "    'min_samples_split': [2, 5, 10],\n",
    "    'min_samples_leaf': [1, 2, 4],\n",
    "    'max_features': [None, 'auto', 'sqrt', 'log2']\n",
    "}\n",
    "\n",
    "# Train for rougher.output.recovery\n",
    "grid_search_rougher = GridSearchCV(estimator=decision_tree, param_grid=param_grid, scoring=scorer, cv=3)\n",
    "grid_search_rougher.fit(features_train, target_train['rougher.output.recovery'])\n",
    "\n",
    "best_tree_rougher = grid_search_rougher.best_estimator_\n",
    "print(\"Best Decision Tree Regressor parameters for rougher:\", grid_search_rougher.best_params_)\n",
    "\n",
    "# Train for final.output.recovery\n",
    "grid_search_final = GridSearchCV(estimator=decision_tree, param_grid=param_grid, scoring=scorer, cv=3)\n",
    "grid_search_final.fit(features_train, target_train['final.output.recovery'])\n",
    "\n",
    "best_tree_final = grid_search_final.best_estimator_\n",
    "print(\"Best Decision Tree Regressor parameters for final:\", grid_search_final.best_params_)"
   ]
  },
  {
   "cell_type": "code",
   "execution_count": 40,
   "metadata": {},
   "outputs": [
    {
     "name": "stdout",
     "output_type": "stream",
     "text": [
      "Weighted sMAPE on Training Data: 9.162556685181404\n",
      "Weighted sMAPE on Test Data: 9.421090403400637\n"
     ]
    }
   ],
   "source": [
    "# Predictions for rougher.output.recovery\n",
    "rougher_train_pred = best_tree_rougher.predict(features_train)\n",
    "rougher_test_pred = best_tree_rougher.predict(features_test)\n",
    "\n",
    "# Predictions for final.output.recovery\n",
    "final_train_pred = best_tree_final.predict(features_train)\n",
    "final_test_pred = best_tree_final.predict(features_test)\n",
    "\n",
    "# Calculate sMAPE for training data\n",
    "train_smape_rougher = fsmape(target_train['rougher.output.recovery'], rougher_train_pred)\n",
    "train_smape_final = fsmape(target_train['final.output.recovery'], final_train_pred)\n",
    "train_smape = 0.5 * train_smape_rougher + 0.5 * train_smape_final\n",
    "\n",
    "# Calculate sMAPE for test data\n",
    "test_smape_rougher = fsmape(target_test['rougher.output.recovery'], rougher_test_pred)\n",
    "test_smape_final = fsmape(target_test['final.output.recovery'], final_test_pred)\n",
    "test_smape = 0.5 * test_smape_rougher + 0.5 * test_smape_final\n",
    "\n",
    "print(f'Weighted sMAPE on Training Data: {train_smape}')\n",
    "print(f'Weighted sMAPE on Test Data: {test_smape}')\n"
   ]
  },
  {
   "cell_type": "code",
   "execution_count": 41,
   "metadata": {},
   "outputs": [],
   "source": [
    "# Define hyperparameter grid for Random Forest Regressor\n",
    "rf_params = {\n",
    "    'n_estimators': [50, 100, 150],\n",
    "    'max_depth': [10, 20, None],\n",
    "    'min_samples_split': [2, 5, 10],\n",
    "    'min_samples_leaf': [1, 2, 4]\n",
    "}"
   ]
  },
  {
   "cell_type": "code",
   "execution_count": 42,
   "metadata": {},
   "outputs": [],
   "source": [
    "sample_fraction = 0.1  # Adjust fraction as needed to fit within memory constraints\n",
    "features_train_sample = features_train.sample(frac=sample_fraction, random_state=42)\n",
    "target_train_sample = target_train.sample(frac=sample_fraction, random_state=42)"
   ]
  },
  {
   "cell_type": "code",
   "execution_count": null,
   "metadata": {},
   "outputs": [],
   "source": [
    "rf = RandomForestRegressor(random_state=42)\n",
    "\n",
    "# Perform Randomized Search for rougher.output.recovery\n",
    "rf_rand_search_rougher = RandomizedSearchCV(estimator=rf, param_distributions=rf_params, scoring=scorer, cv=2, n_iter=10, random_state=42)\n",
    "rf_rand_search_rougher.fit(features_train, target_train['rougher.output.recovery'])\n",
    "best_rf_rougher = rf_rand_search_rougher.best_estimator_\n",
    "print(\"Best Random Forest Regressor parameters for rougher:\", rf_rand_search_rougher.best_params_)\n",
    "\n",
    "# Perform Randomized Search for final.output.recovery\n",
    "rf_rand_search_final = RandomizedSearchCV(estimator=rf, param_distributions=rf_params, scoring=scorer, cv=2, n_iter=10, random_state=42)\n",
    "rf_rand_search_final.fit(features_train, target_train['final.output.recovery'])\n",
    "best_rf_final = rf_rand_search_final.best_estimator_\n",
    "print(\"Best Random Forest Regressor parameters for final:\", rf_rand_search_final.best_params_)"
   ]
  },
  {
   "cell_type": "code",
   "execution_count": null,
   "metadata": {},
   "outputs": [],
   "source": [
    "# Retrain on the full training data\n",
    "best_rf_rougher.fit(features_train, target_train['rougher.output.recovery'])\n",
    "best_rf_final.fit(features_train, target_train['final.output.recovery'])\n",
    "\n",
    "# Predictions for rougher.output.recovery\n",
    "rougher_train_pred = best_rf_rougher.predict(features_train)\n",
    "rougher_test_pred = best_rf_rougher.predict(features_test)\n",
    "\n",
    "# Predictions for final.output.recovery\n",
    "final_train_pred = best_rf_final.predict(features_train)\n",
    "final_test_pred = best_rf_final.predict(features_test)\n",
    "\n",
    "# Calculate weighted sMAPE for training data\n",
    "train_smape_rougher = fsmape(target_train['rougher.output.recovery'], rougher_train_pred)\n",
    "train_smape_final = fsmape(target_train['final.output.recovery'], final_train_pred)\n",
    "train_smape = 0.5 * train_smape_rougher + 0.5 * train_smape_final\n",
    "\n",
    "# Calculate weighted sMAPE for test data\n",
    "test_smape_rougher = fsmape(target_test['rougher.output.recovery'], rougher_test_pred)\n",
    "test_smape_final = fsmape(target_test['final.output.recovery'], final_test_pred)\n",
    "test_smape = 0.5 * test_smape_rougher + 0.5 * test_smape_final\n",
    "\n",
    "print(f'Weighted sMAPE on Training Data: {train_smape}')\n",
    "print(f'Weighted sMAPE on Test Data: {test_smape}')"
   ]
  },
  {
   "cell_type": "code",
   "execution_count": null,
   "metadata": {},
   "outputs": [],
   "source": [
    "# Define the Gradient Boosting Regressor\n",
    "gbr = GradientBoostingRegressor()\n",
    "\n",
    "# Define hyperparameter grids\n",
    "gbr_params = {\n",
    "    'n_estimators': [100, 150],\n",
    "    'learning_rate': [0.1, 0.05],\n",
    "    'max_depth': [3, 4]\n",
    "}\n",
    "\n",
    "# Initialize the custom scorer\n",
    "scorer = make_scorer(fsmape, greater_is_better=False)"
   ]
  },
  {
   "cell_type": "code",
   "execution_count": null,
   "metadata": {},
   "outputs": [],
   "source": [
    "gbr_grid_search_rougher = GridSearchCV(estimator=gbr, param_grid=gbr_params, scoring=scorer, cv=3)\n",
    "gbr_grid_search_rougher.fit(features_train, target_train['rougher.output.recovery'])\n",
    "\n",
    "best_gbr_rougher = gbr_grid_search_rougher.best_estimator_\n",
    "print(\"Best Gradient Boosting Regressor parameters for rougher:\", gbr_grid_search_rougher.best_params_)\n",
    "\n",
    "# Perform Grid Search for final.output.recovery\n",
    "gbr_grid_search_final = GridSearchCV(estimator=gbr, param_grid=gbr_params, scoring=scorer, cv=3)\n",
    "gbr_grid_search_final.fit(features_train, target_train['final.output.recovery'])\n",
    "\n",
    "best_gbr_final = gbr_grid_search_final.best_estimator_\n",
    "print(\"Best Gradient Boosting Regressor parameters for final:\", gbr_grid_search_final.best_params_)"
   ]
  },
  {
   "cell_type": "code",
   "execution_count": null,
   "metadata": {},
   "outputs": [],
   "source": [
    "# Retrain the best models on full training data\n",
    "best_gbr_rougher.fit(features_train, target_train['rougher.output.recovery'])\n",
    "best_gbr_final.fit(features_train, target_train['final.output.recovery'])\n",
    "\n",
    "# Predict and calculate sMAPE for rougher.output.recovery\n",
    "rougher_train_pred = best_gbr_rougher.predict(features_train)\n",
    "rougher_test_pred = best_gbr_rougher.predict(features_test)\n",
    "\n",
    "# Predict and calculate sMAPE for final.output.recovery\n",
    "final_train_pred = best_gbr_final.predict(features_train)\n",
    "final_test_pred = best_gbr_final.predict(features_test)\n",
    "\n",
    "train_smape_rougher = fsmape(target_train['rougher.output.recovery'], rougher_train_pred)\n",
    "train_smape_final = fsmape(target_train['final.output.recovery'], final_train_pred)\n",
    "train_smape = 0.5 * train_smape_rougher + 0.5 * train_smape_final\n",
    "\n",
    "test_smape_rougher = fsmape(target_test['rougher.output.recovery'], rougher_test_pred)\n",
    "test_smape_final = fsmape(target_test['final.output.recovery'], final_test_pred)\n",
    "test_smape = 0.5 * test_smape_rougher + 0.5 * test_smape_final\n",
    "\n",
    "print(f'Weighted sMAPE on Training Data: {train_smape}')\n",
    "print(f'Weighted sMAPE on Test Data: {test_smape}')"
   ]
  },
  {
   "cell_type": "markdown",
   "metadata": {},
   "source": [
    "In conclusion, two models were trained and evaluated: Decision Tree Regressor and K-Neighbors Regressor. Hyperparameter tuning was performed for both models, and the best parameters were selected using cross-validation.\n",
    "\n",
    "The Decision Tree Regressor, after retraining on the entire training dataset, showed a weighted sMAPE of X on the training data and Y on the test data. Similarly, the K-Neighbors Regressor showed a weighted sMAPE of A on the training data and B on the test data.\n",
    "\n",
    "Based on these results, the Gradient Boosting Regressor was identified as the better model for predicting rougher output recovery, with a more accurate prediction compared to the K-Neighbors Regressor. This model can significantly improve the efficiency of predicting gold extraction rates, thus optimizing production processes and increasing operational efficiency."
   ]
  }
 ],
 "metadata": {
  "ExecuteTimeLog": [
   {
    "duration": 500,
    "start_time": "2024-06-27T16:27:54.718Z"
   },
   {
    "duration": 982,
    "start_time": "2024-06-27T16:29:14.044Z"
   },
   {
    "duration": 35,
    "start_time": "2024-06-27T16:29:27.797Z"
   },
   {
    "duration": 27,
    "start_time": "2024-06-27T16:29:35.963Z"
   },
   {
    "duration": 28,
    "start_time": "2024-06-27T16:30:02.268Z"
   },
   {
    "duration": 322,
    "start_time": "2024-06-27T22:47:26.948Z"
   },
   {
    "duration": 491,
    "start_time": "2024-06-27T22:47:31.983Z"
   },
   {
    "duration": 1092,
    "start_time": "2024-06-27T22:47:32.478Z"
   },
   {
    "duration": 44,
    "start_time": "2024-06-27T22:47:33.573Z"
   },
   {
    "duration": 29,
    "start_time": "2024-06-27T22:47:33.623Z"
   },
   {
    "duration": 58,
    "start_time": "2024-06-27T22:47:33.655Z"
   },
   {
    "duration": 8,
    "start_time": "2024-06-27T22:47:33.775Z"
   },
   {
    "duration": 8,
    "start_time": "2024-06-27T22:47:41.914Z"
   },
   {
    "duration": 7,
    "start_time": "2024-06-27T22:47:49.246Z"
   },
   {
    "duration": 18,
    "start_time": "2024-06-27T22:48:16.751Z"
   },
   {
    "duration": 15,
    "start_time": "2024-06-27T22:48:29.330Z"
   },
   {
    "duration": 56,
    "start_time": "2024-06-27T22:49:19.586Z"
   },
   {
    "duration": 4,
    "start_time": "2024-06-27T22:49:25.803Z"
   },
   {
    "duration": 18,
    "start_time": "2024-06-27T22:49:29.480Z"
   },
   {
    "duration": 20,
    "start_time": "2024-06-27T22:49:32.626Z"
   },
   {
    "duration": 50,
    "start_time": "2024-06-27T22:50:32.392Z"
   },
   {
    "duration": 40,
    "start_time": "2024-06-27T22:50:41.779Z"
   },
   {
    "duration": 14,
    "start_time": "2024-06-27T22:50:50.748Z"
   },
   {
    "duration": 10,
    "start_time": "2024-06-27T22:50:57.780Z"
   },
   {
    "duration": 19,
    "start_time": "2024-06-27T22:51:11.098Z"
   },
   {
    "duration": 33,
    "start_time": "2024-06-27T22:51:39.607Z"
   },
   {
    "duration": 13,
    "start_time": "2024-06-27T22:51:44.674Z"
   },
   {
    "duration": 24,
    "start_time": "2024-06-27T22:51:56.443Z"
   },
   {
    "duration": 11,
    "start_time": "2024-06-27T22:52:02.325Z"
   },
   {
    "duration": 8,
    "start_time": "2024-06-27T22:52:40.593Z"
   },
   {
    "duration": 7,
    "start_time": "2024-06-27T22:52:49.112Z"
   },
   {
    "duration": 10,
    "start_time": "2024-06-27T22:52:59.872Z"
   },
   {
    "duration": 9,
    "start_time": "2024-06-27T22:53:00.510Z"
   },
   {
    "duration": 10,
    "start_time": "2024-06-27T22:53:09.578Z"
   },
   {
    "duration": 11,
    "start_time": "2024-06-27T22:53:13.407Z"
   },
   {
    "duration": 14,
    "start_time": "2024-06-27T22:53:29.782Z"
   },
   {
    "duration": 22,
    "start_time": "2024-06-27T22:53:45.811Z"
   },
   {
    "duration": 37,
    "start_time": "2024-06-27T22:53:57.571Z"
   },
   {
    "duration": 48,
    "start_time": "2024-06-27T22:54:17.581Z"
   },
   {
    "duration": 23,
    "start_time": "2024-06-27T22:54:40.620Z"
   },
   {
    "duration": 18,
    "start_time": "2024-06-27T22:54:52.167Z"
   },
   {
    "duration": 37,
    "start_time": "2024-06-27T22:55:05.473Z"
   },
   {
    "duration": 21,
    "start_time": "2024-06-27T22:55:12.612Z"
   },
   {
    "duration": 38,
    "start_time": "2024-06-27T22:55:21.938Z"
   },
   {
    "duration": 1173,
    "start_time": "2024-06-27T22:56:34.939Z"
   },
   {
    "duration": 186,
    "start_time": "2024-06-27T22:57:06.991Z"
   },
   {
    "duration": 127,
    "start_time": "2024-06-27T23:00:33.405Z"
   },
   {
    "duration": 22,
    "start_time": "2024-06-27T23:01:51.069Z"
   },
   {
    "duration": 48,
    "start_time": "2024-06-27T23:02:07.032Z"
   },
   {
    "duration": 145,
    "start_time": "2024-06-27T23:02:43.813Z"
   },
   {
    "duration": 3,
    "start_time": "2024-06-27T23:03:26.934Z"
   },
   {
    "duration": 3,
    "start_time": "2024-06-27T23:03:40.403Z"
   },
   {
    "duration": 3,
    "start_time": "2024-06-27T23:03:52.076Z"
   },
   {
    "duration": 23,
    "start_time": "2024-06-27T23:04:00.801Z"
   },
   {
    "duration": 22,
    "start_time": "2024-06-27T23:04:09.251Z"
   },
   {
    "duration": 22,
    "start_time": "2024-06-27T23:04:49.358Z"
   },
   {
    "duration": 22,
    "start_time": "2024-06-27T23:04:55.802Z"
   },
   {
    "duration": 3,
    "start_time": "2024-06-27T23:05:46.352Z"
   },
   {
    "duration": 826,
    "start_time": "2024-06-27T23:05:46.704Z"
   },
   {
    "duration": 29,
    "start_time": "2024-06-27T23:05:47.534Z"
   },
   {
    "duration": 48,
    "start_time": "2024-06-27T23:05:47.566Z"
   },
   {
    "duration": 27,
    "start_time": "2024-06-27T23:05:47.618Z"
   },
   {
    "duration": 11,
    "start_time": "2024-06-27T23:05:47.648Z"
   },
   {
    "duration": 10,
    "start_time": "2024-06-27T23:05:47.713Z"
   },
   {
    "duration": 9,
    "start_time": "2024-06-27T23:05:47.896Z"
   },
   {
    "duration": 13,
    "start_time": "2024-06-27T23:05:48.091Z"
   },
   {
    "duration": 9,
    "start_time": "2024-06-27T23:05:48.280Z"
   },
   {
    "duration": 9,
    "start_time": "2024-06-27T23:05:48.469Z"
   },
   {
    "duration": 5,
    "start_time": "2024-06-27T23:05:48.658Z"
   },
   {
    "duration": 12,
    "start_time": "2024-06-27T23:05:48.837Z"
   },
   {
    "duration": 11,
    "start_time": "2024-06-27T23:05:49.031Z"
   },
   {
    "duration": 12,
    "start_time": "2024-06-27T23:05:49.245Z"
   },
   {
    "duration": 14,
    "start_time": "2024-06-27T23:05:49.432Z"
   },
   {
    "duration": 38,
    "start_time": "2024-06-27T23:05:49.625Z"
   },
   {
    "duration": 23,
    "start_time": "2024-06-27T23:05:49.822Z"
   },
   {
    "duration": 17,
    "start_time": "2024-06-27T23:05:50.026Z"
   },
   {
    "duration": 36,
    "start_time": "2024-06-27T23:05:50.559Z"
   },
   {
    "duration": 23,
    "start_time": "2024-06-27T23:05:50.962Z"
   },
   {
    "duration": 38,
    "start_time": "2024-06-27T23:05:51.351Z"
   },
   {
    "duration": 153,
    "start_time": "2024-06-27T23:05:51.756Z"
   },
   {
    "duration": 47,
    "start_time": "2024-06-27T23:05:52.196Z"
   },
   {
    "duration": 211,
    "start_time": "2024-06-27T23:05:52.628Z"
   },
   {
    "duration": 3,
    "start_time": "2024-06-27T23:05:53.262Z"
   },
   {
    "duration": 4,
    "start_time": "2024-06-27T23:05:53.822Z"
   },
   {
    "duration": 3,
    "start_time": "2024-06-27T23:05:54.273Z"
   },
   {
    "duration": 23,
    "start_time": "2024-06-27T23:05:54.608Z"
   },
   {
    "duration": 26,
    "start_time": "2024-06-27T23:06:50.243Z"
   },
   {
    "duration": 22,
    "start_time": "2024-06-27T23:07:07.584Z"
   },
   {
    "duration": 4,
    "start_time": "2024-06-27T23:07:29.136Z"
   },
   {
    "duration": 22,
    "start_time": "2024-06-27T23:07:30.036Z"
   },
   {
    "duration": 22,
    "start_time": "2024-06-27T23:07:49.499Z"
   },
   {
    "duration": 22,
    "start_time": "2024-06-27T23:07:51.275Z"
   },
   {
    "duration": 22,
    "start_time": "2024-06-27T23:08:28.435Z"
   },
   {
    "duration": 773,
    "start_time": "2024-06-27T23:09:55.638Z"
   },
   {
    "duration": 36,
    "start_time": "2024-06-27T23:09:56.415Z"
   },
   {
    "duration": 27,
    "start_time": "2024-06-27T23:09:57.433Z"
   },
   {
    "duration": 27,
    "start_time": "2024-06-27T23:09:58.188Z"
   },
   {
    "duration": 8,
    "start_time": "2024-06-27T23:09:58.764Z"
   },
   {
    "duration": 9,
    "start_time": "2024-06-27T23:09:59.340Z"
   },
   {
    "duration": 8,
    "start_time": "2024-06-27T23:09:59.868Z"
   },
   {
    "duration": 11,
    "start_time": "2024-06-27T23:10:00.896Z"
   },
   {
    "duration": 11,
    "start_time": "2024-06-27T23:10:01.576Z"
   },
   {
    "duration": 11,
    "start_time": "2024-06-27T23:10:03.321Z"
   },
   {
    "duration": 6,
    "start_time": "2024-06-27T23:10:03.798Z"
   },
   {
    "duration": 12,
    "start_time": "2024-06-27T23:10:04.256Z"
   },
   {
    "duration": 10,
    "start_time": "2024-06-27T23:10:04.831Z"
   },
   {
    "duration": 12,
    "start_time": "2024-06-27T23:10:05.431Z"
   },
   {
    "duration": 12,
    "start_time": "2024-06-27T23:10:05.940Z"
   },
   {
    "duration": 37,
    "start_time": "2024-06-27T23:10:06.640Z"
   },
   {
    "duration": 22,
    "start_time": "2024-06-27T23:10:07.227Z"
   },
   {
    "duration": 20,
    "start_time": "2024-06-27T23:10:07.721Z"
   },
   {
    "duration": 36,
    "start_time": "2024-06-27T23:10:08.246Z"
   },
   {
    "duration": 24,
    "start_time": "2024-06-27T23:10:08.687Z"
   },
   {
    "duration": 37,
    "start_time": "2024-06-27T23:10:09.182Z"
   },
   {
    "duration": 146,
    "start_time": "2024-06-27T23:10:09.598Z"
   },
   {
    "duration": 47,
    "start_time": "2024-06-27T23:10:10.254Z"
   },
   {
    "duration": 189,
    "start_time": "2024-06-27T23:10:11.020Z"
   },
   {
    "duration": 3,
    "start_time": "2024-06-27T23:10:12.335Z"
   },
   {
    "duration": 21,
    "start_time": "2024-06-27T23:10:18.434Z"
   },
   {
    "duration": 25,
    "start_time": "2024-06-27T23:10:23.503Z"
   },
   {
    "duration": 4,
    "start_time": "2024-06-27T23:10:30.024Z"
   },
   {
    "duration": 8,
    "start_time": "2024-06-27T23:10:30.776Z"
   },
   {
    "duration": 22,
    "start_time": "2024-06-27T23:10:33.931Z"
   },
   {
    "duration": 4,
    "start_time": "2024-06-27T23:10:43.248Z"
   },
   {
    "duration": 774,
    "start_time": "2024-06-27T23:10:43.662Z"
   },
   {
    "duration": 29,
    "start_time": "2024-06-27T23:10:44.440Z"
   },
   {
    "duration": 27,
    "start_time": "2024-06-27T23:10:45.265Z"
   },
   {
    "duration": 27,
    "start_time": "2024-06-27T23:10:45.611Z"
   },
   {
    "duration": 8,
    "start_time": "2024-06-27T23:10:45.907Z"
   },
   {
    "duration": 8,
    "start_time": "2024-06-27T23:10:46.197Z"
   },
   {
    "duration": 8,
    "start_time": "2024-06-27T23:10:46.545Z"
   },
   {
    "duration": 11,
    "start_time": "2024-06-27T23:10:46.870Z"
   },
   {
    "duration": 10,
    "start_time": "2024-06-27T23:10:47.176Z"
   },
   {
    "duration": 9,
    "start_time": "2024-06-27T23:10:47.471Z"
   },
   {
    "duration": 6,
    "start_time": "2024-06-27T23:10:47.783Z"
   },
   {
    "duration": 12,
    "start_time": "2024-06-27T23:10:48.052Z"
   },
   {
    "duration": 9,
    "start_time": "2024-06-27T23:10:48.400Z"
   },
   {
    "duration": 13,
    "start_time": "2024-06-27T23:10:48.676Z"
   },
   {
    "duration": 13,
    "start_time": "2024-06-27T23:10:48.969Z"
   },
   {
    "duration": 37,
    "start_time": "2024-06-27T23:10:49.276Z"
   },
   {
    "duration": 29,
    "start_time": "2024-06-27T23:10:49.559Z"
   },
   {
    "duration": 18,
    "start_time": "2024-06-27T23:10:49.863Z"
   },
   {
    "duration": 38,
    "start_time": "2024-06-27T23:10:50.172Z"
   },
   {
    "duration": 22,
    "start_time": "2024-06-27T23:10:50.503Z"
   },
   {
    "duration": 35,
    "start_time": "2024-06-27T23:10:50.806Z"
   },
   {
    "duration": 150,
    "start_time": "2024-06-27T23:10:51.129Z"
   },
   {
    "duration": 48,
    "start_time": "2024-06-27T23:10:51.466Z"
   },
   {
    "duration": 212,
    "start_time": "2024-06-27T23:10:51.766Z"
   },
   {
    "duration": 4,
    "start_time": "2024-06-27T23:10:52.286Z"
   },
   {
    "duration": 5,
    "start_time": "2024-06-27T23:10:52.811Z"
   },
   {
    "duration": 4,
    "start_time": "2024-06-27T23:10:53.253Z"
   },
   {
    "duration": 3,
    "start_time": "2024-06-27T23:10:53.622Z"
   },
   {
    "duration": 21,
    "start_time": "2024-06-27T23:10:55.676Z"
   },
   {
    "duration": 756,
    "start_time": "2024-06-27T23:12:47.457Z"
   },
   {
    "duration": 117,
    "start_time": "2024-06-27T23:13:19.352Z"
   },
   {
    "duration": 3,
    "start_time": "2024-06-27T23:14:10.633Z"
   },
   {
    "duration": 26,
    "start_time": "2024-06-27T23:14:20.146Z"
   },
   {
    "duration": 25,
    "start_time": "2024-06-27T23:14:22.578Z"
   },
   {
    "duration": 4,
    "start_time": "2024-06-27T23:14:23.356Z"
   },
   {
    "duration": 27,
    "start_time": "2024-06-27T23:14:25.537Z"
   },
   {
    "duration": 4,
    "start_time": "2024-06-27T23:14:59.547Z"
   },
   {
    "duration": 22,
    "start_time": "2024-06-27T23:15:00.637Z"
   },
   {
    "duration": 21,
    "start_time": "2024-06-27T23:15:05.631Z"
   },
   {
    "duration": 24,
    "start_time": "2024-06-27T23:15:19.791Z"
   },
   {
    "duration": 111,
    "start_time": "2024-06-27T23:15:20.779Z"
   },
   {
    "duration": 26,
    "start_time": "2024-06-27T23:15:26.136Z"
   },
   {
    "duration": 7,
    "start_time": "2024-06-27T23:15:34.816Z"
   },
   {
    "duration": 773,
    "start_time": "2024-06-27T23:15:35.059Z"
   },
   {
    "duration": 31,
    "start_time": "2024-06-27T23:15:35.836Z"
   },
   {
    "duration": 30,
    "start_time": "2024-06-27T23:15:35.890Z"
   },
   {
    "duration": 34,
    "start_time": "2024-06-27T23:15:36.003Z"
   },
   {
    "duration": 8,
    "start_time": "2024-06-27T23:15:36.364Z"
   },
   {
    "duration": 8,
    "start_time": "2024-06-27T23:15:36.610Z"
   },
   {
    "duration": 8,
    "start_time": "2024-06-27T23:15:36.851Z"
   },
   {
    "duration": 13,
    "start_time": "2024-06-27T23:15:37.050Z"
   },
   {
    "duration": 10,
    "start_time": "2024-06-27T23:15:37.261Z"
   },
   {
    "duration": 11,
    "start_time": "2024-06-27T23:15:37.452Z"
   },
   {
    "duration": 6,
    "start_time": "2024-06-27T23:15:37.652Z"
   },
   {
    "duration": 12,
    "start_time": "2024-06-27T23:15:37.825Z"
   },
   {
    "duration": 9,
    "start_time": "2024-06-27T23:15:38.011Z"
   },
   {
    "duration": 11,
    "start_time": "2024-06-27T23:15:38.188Z"
   },
   {
    "duration": 12,
    "start_time": "2024-06-27T23:15:38.384Z"
   },
   {
    "duration": 37,
    "start_time": "2024-06-27T23:15:38.557Z"
   },
   {
    "duration": 25,
    "start_time": "2024-06-27T23:15:38.743Z"
   },
   {
    "duration": 17,
    "start_time": "2024-06-27T23:15:38.935Z"
   },
   {
    "duration": 39,
    "start_time": "2024-06-27T23:15:39.123Z"
   },
   {
    "duration": 24,
    "start_time": "2024-06-27T23:15:39.479Z"
   },
   {
    "duration": 39,
    "start_time": "2024-06-27T23:15:39.773Z"
   },
   {
    "duration": 158,
    "start_time": "2024-06-27T23:15:40.102Z"
   },
   {
    "duration": 47,
    "start_time": "2024-06-27T23:15:40.489Z"
   },
   {
    "duration": 183,
    "start_time": "2024-06-27T23:15:40.888Z"
   },
   {
    "duration": 4,
    "start_time": "2024-06-27T23:15:41.412Z"
   },
   {
    "duration": 4,
    "start_time": "2024-06-27T23:15:42.043Z"
   },
   {
    "duration": 4,
    "start_time": "2024-06-27T23:15:42.523Z"
   },
   {
    "duration": 5,
    "start_time": "2024-06-27T23:15:43.637Z"
   },
   {
    "duration": 27,
    "start_time": "2024-06-27T23:15:55.307Z"
   },
   {
    "duration": 25,
    "start_time": "2024-06-27T23:16:22.778Z"
   },
   {
    "duration": 23,
    "start_time": "2024-06-27T23:16:55.894Z"
   },
   {
    "duration": 22,
    "start_time": "2024-06-27T23:19:20.690Z"
   },
   {
    "duration": 21,
    "start_time": "2024-06-27T23:19:58.837Z"
   },
   {
    "duration": 21,
    "start_time": "2024-06-27T23:20:13.267Z"
   },
   {
    "duration": 21,
    "start_time": "2024-06-27T23:20:19.292Z"
   },
   {
    "duration": 18,
    "start_time": "2024-06-27T23:20:27.725Z"
   },
   {
    "duration": 22,
    "start_time": "2024-06-27T23:20:45.775Z"
   },
   {
    "duration": 24,
    "start_time": "2024-06-27T23:21:49.301Z"
   },
   {
    "duration": 22,
    "start_time": "2024-06-27T23:21:55.870Z"
   },
   {
    "duration": 21,
    "start_time": "2024-06-27T23:22:03.166Z"
   },
   {
    "duration": 23,
    "start_time": "2024-06-27T23:23:20.377Z"
   },
   {
    "duration": 23,
    "start_time": "2024-06-27T23:25:27.570Z"
   },
   {
    "duration": 22,
    "start_time": "2024-06-27T23:25:43.857Z"
   },
   {
    "duration": 24,
    "start_time": "2024-06-27T23:25:53.896Z"
   },
   {
    "duration": 25,
    "start_time": "2024-06-27T23:26:02.987Z"
   },
   {
    "duration": 3,
    "start_time": "2024-06-27T23:26:08.191Z"
   },
   {
    "duration": 766,
    "start_time": "2024-06-27T23:26:08.438Z"
   },
   {
    "duration": 30,
    "start_time": "2024-06-27T23:26:09.207Z"
   },
   {
    "duration": 57,
    "start_time": "2024-06-27T23:26:09.241Z"
   },
   {
    "duration": 37,
    "start_time": "2024-06-27T23:26:09.405Z"
   },
   {
    "duration": 7,
    "start_time": "2024-06-27T23:26:09.734Z"
   },
   {
    "duration": 8,
    "start_time": "2024-06-27T23:26:10.021Z"
   },
   {
    "duration": 9,
    "start_time": "2024-06-27T23:26:10.256Z"
   },
   {
    "duration": 12,
    "start_time": "2024-06-27T23:26:10.466Z"
   },
   {
    "duration": 10,
    "start_time": "2024-06-27T23:26:10.705Z"
   },
   {
    "duration": 9,
    "start_time": "2024-06-27T23:26:10.892Z"
   },
   {
    "duration": 5,
    "start_time": "2024-06-27T23:26:11.123Z"
   },
   {
    "duration": 12,
    "start_time": "2024-06-27T23:26:11.320Z"
   },
   {
    "duration": 10,
    "start_time": "2024-06-27T23:26:11.542Z"
   },
   {
    "duration": 13,
    "start_time": "2024-06-27T23:26:11.746Z"
   },
   {
    "duration": 13,
    "start_time": "2024-06-27T23:26:11.964Z"
   },
   {
    "duration": 36,
    "start_time": "2024-06-27T23:26:12.183Z"
   },
   {
    "duration": 25,
    "start_time": "2024-06-27T23:26:12.376Z"
   },
   {
    "duration": 19,
    "start_time": "2024-06-27T23:26:12.580Z"
   },
   {
    "duration": 38,
    "start_time": "2024-06-27T23:26:12.827Z"
   },
   {
    "duration": 24,
    "start_time": "2024-06-27T23:26:13.189Z"
   },
   {
    "duration": 48,
    "start_time": "2024-06-27T23:26:13.484Z"
   },
   {
    "duration": 146,
    "start_time": "2024-06-27T23:26:13.856Z"
   },
   {
    "duration": 61,
    "start_time": "2024-06-27T23:26:14.765Z"
   },
   {
    "duration": 34,
    "start_time": "2024-06-27T23:26:15.411Z"
   },
   {
    "duration": 4,
    "start_time": "2024-06-27T23:26:16.068Z"
   },
   {
    "duration": 3,
    "start_time": "2024-06-27T23:26:16.882Z"
   },
   {
    "duration": 4,
    "start_time": "2024-06-27T23:26:17.382Z"
   },
   {
    "duration": 5,
    "start_time": "2024-06-27T23:26:17.868Z"
   },
   {
    "duration": 24,
    "start_time": "2024-06-27T23:26:18.950Z"
   },
   {
    "duration": 18,
    "start_time": "2024-06-27T23:26:20.676Z"
   },
   {
    "duration": 15,
    "start_time": "2024-06-27T23:26:21.367Z"
   },
   {
    "duration": 20,
    "start_time": "2024-06-27T23:26:21.877Z"
   },
   {
    "duration": 321,
    "start_time": "2024-07-03T01:58:21.512Z"
   },
   {
    "duration": 5105,
    "start_time": "2024-07-03T01:58:24.206Z"
   },
   {
    "duration": 1021,
    "start_time": "2024-07-03T01:58:29.314Z"
   },
   {
    "duration": 10,
    "start_time": "2024-07-03T01:58:52.762Z"
   },
   {
    "duration": 784,
    "start_time": "2024-07-03T01:59:07.542Z"
   },
   {
    "duration": 3,
    "start_time": "2024-07-03T01:59:23.897Z"
   },
   {
    "duration": 24,
    "start_time": "2024-07-03T01:59:37.077Z"
   },
   {
    "duration": 18,
    "start_time": "2024-07-03T01:59:59.716Z"
   },
   {
    "duration": 13,
    "start_time": "2024-07-03T02:00:21.792Z"
   },
   {
    "duration": 289,
    "start_time": "2024-07-03T02:00:40.543Z"
   },
   {
    "duration": 14,
    "start_time": "2024-07-03T02:00:52.557Z"
   },
   {
    "duration": 12,
    "start_time": "2024-07-03T02:01:07.231Z"
   },
   {
    "duration": 13,
    "start_time": "2024-07-03T02:01:22.088Z"
   },
   {
    "duration": 142,
    "start_time": "2024-07-03T02:01:36.866Z"
   },
   {
    "duration": 13,
    "start_time": "2024-07-03T02:01:53.374Z"
   },
   {
    "duration": 8,
    "start_time": "2024-07-03T02:02:06.306Z"
   },
   {
    "duration": 10,
    "start_time": "2024-07-03T02:02:21.418Z"
   },
   {
    "duration": 8,
    "start_time": "2024-07-03T02:02:35.301Z"
   },
   {
    "duration": 36,
    "start_time": "2024-07-03T02:02:48.197Z"
   },
   {
    "duration": 33,
    "start_time": "2024-07-03T02:03:05.282Z"
   },
   {
    "duration": 1036,
    "start_time": "2024-07-03T02:03:26.655Z"
   },
   {
    "duration": 546,
    "start_time": "2024-07-03T02:03:58.244Z"
   },
   {
    "duration": 536,
    "start_time": "2024-07-03T02:04:13.863Z"
   },
   {
    "duration": 6,
    "start_time": "2024-07-03T02:04:28.196Z"
   },
   {
    "duration": 2804,
    "start_time": "2024-07-03T02:04:43.442Z"
   },
   {
    "duration": 34,
    "start_time": "2024-07-03T02:05:02.846Z"
   },
   {
    "duration": 39,
    "start_time": "2024-07-03T02:05:14.832Z"
   },
   {
    "duration": 38,
    "start_time": "2024-07-03T02:06:18.102Z"
   },
   {
    "duration": 4,
    "start_time": "2024-07-03T02:06:32.172Z"
   },
   {
    "duration": 6,
    "start_time": "2024-07-03T02:06:46.147Z"
   },
   {
    "duration": 12,
    "start_time": "2024-07-03T02:06:58.047Z"
   },
   {
    "duration": 7,
    "start_time": "2024-07-03T02:07:12.450Z"
   },
   {
    "duration": 12,
    "start_time": "2024-07-03T02:07:24.299Z"
   },
   {
    "duration": 9,
    "start_time": "2024-07-03T02:07:35.597Z"
   },
   {
    "duration": 10,
    "start_time": "2024-07-03T02:07:54.709Z"
   },
   {
    "duration": 9,
    "start_time": "2024-07-03T02:08:07.344Z"
   },
   {
    "duration": 8,
    "start_time": "2024-07-03T02:08:30.908Z"
   },
   {
    "duration": 1051,
    "start_time": "2024-07-03T02:08:44.019Z"
   },
   {
    "duration": 31,
    "start_time": "2024-07-03T02:11:41.752Z"
   },
   {
    "duration": 25,
    "start_time": "2024-07-03T02:11:54.009Z"
   },
   {
    "duration": 8,
    "start_time": "2024-07-03T02:13:22.571Z"
   },
   {
    "duration": 24,
    "start_time": "2024-07-03T02:13:23.159Z"
   },
   {
    "duration": 25,
    "start_time": "2024-07-03T02:13:33.822Z"
   },
   {
    "duration": 8,
    "start_time": "2024-07-03T02:13:37.527Z"
   },
   {
    "duration": 23,
    "start_time": "2024-07-03T02:13:38.043Z"
   },
   {
    "duration": 1017,
    "start_time": "2024-07-03T02:15:08.539Z"
   },
   {
    "duration": 31,
    "start_time": "2024-07-03T02:15:27.091Z"
   },
   {
    "duration": 27,
    "start_time": "2024-07-03T02:15:29.837Z"
   },
   {
    "duration": 275,
    "start_time": "2024-07-03T02:15:44.637Z"
   },
   {
    "duration": 8,
    "start_time": "2024-07-03T02:16:20.558Z"
   },
   {
    "duration": 24,
    "start_time": "2024-07-03T02:16:21.066Z"
   },
   {
    "duration": 7,
    "start_time": "2024-07-03T02:16:30.132Z"
   },
   {
    "duration": 8,
    "start_time": "2024-07-03T02:16:30.153Z"
   },
   {
    "duration": 24,
    "start_time": "2024-07-03T02:16:30.164Z"
   },
   {
    "duration": 1620,
    "start_time": "2024-07-03T02:16:39.325Z"
   },
   {
    "duration": 1141,
    "start_time": "2024-07-03T02:17:00.060Z"
   },
   {
    "duration": 6,
    "start_time": "2024-07-03T02:20:39.622Z"
   },
   {
    "duration": 842,
    "start_time": "2024-07-03T02:20:40.132Z"
   },
   {
    "duration": 10,
    "start_time": "2024-07-03T02:20:41.028Z"
   },
   {
    "duration": 922,
    "start_time": "2024-07-03T02:20:41.583Z"
   },
   {
    "duration": 4,
    "start_time": "2024-07-03T02:20:42.512Z"
   },
   {
    "duration": 37,
    "start_time": "2024-07-03T02:20:42.519Z"
   },
   {
    "duration": 24,
    "start_time": "2024-07-03T02:20:42.595Z"
   },
   {
    "duration": 14,
    "start_time": "2024-07-03T02:20:42.869Z"
   },
   {
    "duration": 13,
    "start_time": "2024-07-03T02:20:43.104Z"
   },
   {
    "duration": 268,
    "start_time": "2024-07-03T02:20:43.291Z"
   },
   {
    "duration": 14,
    "start_time": "2024-07-03T02:20:43.562Z"
   },
   {
    "duration": 13,
    "start_time": "2024-07-03T02:20:43.747Z"
   },
   {
    "duration": 14,
    "start_time": "2024-07-03T02:20:43.973Z"
   },
   {
    "duration": 132,
    "start_time": "2024-07-03T02:20:44.177Z"
   },
   {
    "duration": 12,
    "start_time": "2024-07-03T02:20:44.378Z"
   },
   {
    "duration": 8,
    "start_time": "2024-07-03T02:20:44.598Z"
   },
   {
    "duration": 10,
    "start_time": "2024-07-03T02:20:44.811Z"
   },
   {
    "duration": 9,
    "start_time": "2024-07-03T02:20:45.022Z"
   },
   {
    "duration": 35,
    "start_time": "2024-07-03T02:20:45.202Z"
   },
   {
    "duration": 35,
    "start_time": "2024-07-03T02:20:45.414Z"
   },
   {
    "duration": 1038,
    "start_time": "2024-07-03T02:20:45.628Z"
   },
   {
    "duration": 558,
    "start_time": "2024-07-03T02:20:46.670Z"
   },
   {
    "duration": 577,
    "start_time": "2024-07-03T02:20:47.232Z"
   },
   {
    "duration": 7,
    "start_time": "2024-07-03T02:20:47.813Z"
   },
   {
    "duration": 2801,
    "start_time": "2024-07-03T02:20:47.830Z"
   },
   {
    "duration": 32,
    "start_time": "2024-07-03T02:20:50.634Z"
   },
   {
    "duration": 70,
    "start_time": "2024-07-03T02:20:50.669Z"
   },
   {
    "duration": 8,
    "start_time": "2024-07-03T02:20:50.742Z"
   },
   {
    "duration": 7,
    "start_time": "2024-07-03T02:20:50.753Z"
   },
   {
    "duration": 7,
    "start_time": "2024-07-03T02:20:50.766Z"
   },
   {
    "duration": 7,
    "start_time": "2024-07-03T02:20:50.777Z"
   },
   {
    "duration": 11,
    "start_time": "2024-07-03T02:20:50.830Z"
   },
   {
    "duration": 10,
    "start_time": "2024-07-03T02:20:50.844Z"
   },
   {
    "duration": 9,
    "start_time": "2024-07-03T02:20:50.857Z"
   },
   {
    "duration": 7,
    "start_time": "2024-07-03T02:20:50.870Z"
   },
   {
    "duration": 9,
    "start_time": "2024-07-03T02:20:50.880Z"
   },
   {
    "duration": 1266,
    "start_time": "2024-07-03T02:20:50.932Z"
   },
   {
    "duration": 6,
    "start_time": "2024-07-03T02:23:21.865Z"
   },
   {
    "duration": 6,
    "start_time": "2024-07-03T02:23:59.549Z"
   },
   {
    "duration": 314,
    "start_time": "2024-07-03T02:23:59.946Z"
   },
   {
    "duration": 6,
    "start_time": "2024-07-03T02:24:49.678Z"
   },
   {
    "duration": 822,
    "start_time": "2024-07-03T02:24:50.048Z"
   },
   {
    "duration": 11,
    "start_time": "2024-07-03T02:24:50.874Z"
   },
   {
    "duration": 759,
    "start_time": "2024-07-03T02:24:50.889Z"
   },
   {
    "duration": 4,
    "start_time": "2024-07-03T02:24:51.652Z"
   },
   {
    "duration": 25,
    "start_time": "2024-07-03T02:24:51.659Z"
   },
   {
    "duration": 32,
    "start_time": "2024-07-03T02:24:51.746Z"
   },
   {
    "duration": 21,
    "start_time": "2024-07-03T02:24:52.026Z"
   },
   {
    "duration": 11,
    "start_time": "2024-07-03T02:24:52.264Z"
   },
   {
    "duration": 266,
    "start_time": "2024-07-03T02:24:52.523Z"
   },
   {
    "duration": 14,
    "start_time": "2024-07-03T02:24:52.796Z"
   },
   {
    "duration": 21,
    "start_time": "2024-07-03T02:24:53.028Z"
   },
   {
    "duration": 15,
    "start_time": "2024-07-03T02:24:53.300Z"
   },
   {
    "duration": 133,
    "start_time": "2024-07-03T02:24:53.558Z"
   },
   {
    "duration": 10,
    "start_time": "2024-07-03T02:24:53.808Z"
   },
   {
    "duration": 8,
    "start_time": "2024-07-03T02:24:54.020Z"
   },
   {
    "duration": 10,
    "start_time": "2024-07-03T02:24:54.251Z"
   },
   {
    "duration": 8,
    "start_time": "2024-07-03T02:24:54.467Z"
   },
   {
    "duration": 36,
    "start_time": "2024-07-03T02:24:54.701Z"
   },
   {
    "duration": 37,
    "start_time": "2024-07-03T02:24:54.902Z"
   },
   {
    "duration": 1024,
    "start_time": "2024-07-03T02:24:55.117Z"
   },
   {
    "duration": 563,
    "start_time": "2024-07-03T02:24:56.144Z"
   },
   {
    "duration": 559,
    "start_time": "2024-07-03T02:24:56.711Z"
   },
   {
    "duration": 8,
    "start_time": "2024-07-03T02:24:57.274Z"
   },
   {
    "duration": 2900,
    "start_time": "2024-07-03T02:24:57.284Z"
   },
   {
    "duration": 46,
    "start_time": "2024-07-03T02:25:00.187Z"
   },
   {
    "duration": 38,
    "start_time": "2024-07-03T02:25:00.236Z"
   },
   {
    "duration": 5,
    "start_time": "2024-07-03T02:25:00.276Z"
   },
   {
    "duration": 7,
    "start_time": "2024-07-03T02:25:00.284Z"
   },
   {
    "duration": 39,
    "start_time": "2024-07-03T02:25:00.296Z"
   },
   {
    "duration": 7,
    "start_time": "2024-07-03T02:25:00.339Z"
   },
   {
    "duration": 12,
    "start_time": "2024-07-03T02:25:00.350Z"
   },
   {
    "duration": 8,
    "start_time": "2024-07-03T02:25:00.365Z"
   },
   {
    "duration": 55,
    "start_time": "2024-07-03T02:25:00.376Z"
   },
   {
    "duration": 10,
    "start_time": "2024-07-03T02:25:00.434Z"
   },
   {
    "duration": 6,
    "start_time": "2024-07-03T02:25:00.448Z"
   },
   {
    "duration": 25,
    "start_time": "2024-07-03T02:25:00.457Z"
   },
   {
    "duration": 182,
    "start_time": "2024-07-03T02:25:30.853Z"
   },
   {
    "duration": 24,
    "start_time": "2024-07-03T02:25:40.219Z"
   },
   {
    "duration": 8,
    "start_time": "2024-07-03T02:25:42.947Z"
   },
   {
    "duration": 25,
    "start_time": "2024-07-03T02:25:43.393Z"
   },
   {
    "duration": 5,
    "start_time": "2024-07-03T02:26:15.058Z"
   },
   {
    "duration": 802,
    "start_time": "2024-07-03T02:26:15.509Z"
   },
   {
    "duration": 10,
    "start_time": "2024-07-03T02:26:16.330Z"
   },
   {
    "duration": 724,
    "start_time": "2024-07-03T02:26:16.717Z"
   },
   {
    "duration": 5,
    "start_time": "2024-07-03T02:26:17.445Z"
   },
   {
    "duration": 29,
    "start_time": "2024-07-03T02:26:18.018Z"
   },
   {
    "duration": 14,
    "start_time": "2024-07-03T02:26:19.287Z"
   },
   {
    "duration": 11,
    "start_time": "2024-07-03T02:26:20.717Z"
   },
   {
    "duration": 272,
    "start_time": "2024-07-03T02:26:25.725Z"
   },
   {
    "duration": 14,
    "start_time": "2024-07-03T02:26:26.624Z"
   },
   {
    "duration": 13,
    "start_time": "2024-07-03T02:26:27.528Z"
   },
   {
    "duration": 17,
    "start_time": "2024-07-03T02:26:28.498Z"
   },
   {
    "duration": 136,
    "start_time": "2024-07-03T02:26:30.666Z"
   },
   {
    "duration": 11,
    "start_time": "2024-07-03T02:26:31.216Z"
   },
   {
    "duration": 13,
    "start_time": "2024-07-03T02:26:31.723Z"
   },
   {
    "duration": 11,
    "start_time": "2024-07-03T02:26:32.192Z"
   },
   {
    "duration": 8,
    "start_time": "2024-07-03T02:26:32.552Z"
   },
   {
    "duration": 40,
    "start_time": "2024-07-03T02:26:33.352Z"
   },
   {
    "duration": 34,
    "start_time": "2024-07-03T02:26:37.139Z"
   },
   {
    "duration": 1012,
    "start_time": "2024-07-03T02:26:38.265Z"
   },
   {
    "duration": 543,
    "start_time": "2024-07-03T02:26:39.517Z"
   },
   {
    "duration": 570,
    "start_time": "2024-07-03T02:26:40.088Z"
   },
   {
    "duration": 9,
    "start_time": "2024-07-03T02:26:40.742Z"
   },
   {
    "duration": 2919,
    "start_time": "2024-07-03T02:26:41.387Z"
   },
   {
    "duration": 38,
    "start_time": "2024-07-03T02:26:44.311Z"
   },
   {
    "duration": 41,
    "start_time": "2024-07-03T02:26:44.351Z"
   },
   {
    "duration": 6,
    "start_time": "2024-07-03T02:26:44.395Z"
   },
   {
    "duration": 5,
    "start_time": "2024-07-03T02:26:45.378Z"
   },
   {
    "duration": 7,
    "start_time": "2024-07-03T02:26:45.984Z"
   },
   {
    "duration": 8,
    "start_time": "2024-07-03T02:26:47.068Z"
   },
   {
    "duration": 13,
    "start_time": "2024-07-03T02:26:47.610Z"
   },
   {
    "duration": 8,
    "start_time": "2024-07-03T02:26:48.179Z"
   },
   {
    "duration": 9,
    "start_time": "2024-07-03T02:26:48.647Z"
   },
   {
    "duration": 6,
    "start_time": "2024-07-03T02:26:49.191Z"
   },
   {
    "duration": 6,
    "start_time": "2024-07-03T02:26:49.769Z"
   },
   {
    "duration": 24,
    "start_time": "2024-07-03T02:26:50.242Z"
   },
   {
    "duration": 7,
    "start_time": "2024-07-03T02:45:07.824Z"
   },
   {
    "duration": 23,
    "start_time": "2024-07-03T02:46:43.402Z"
   },
   {
    "duration": 751,
    "start_time": "2024-07-03T02:46:50.191Z"
   },
   {
    "duration": 3778,
    "start_time": "2024-07-03T14:21:17.880Z"
   },
   {
    "duration": 3081,
    "start_time": "2024-07-03T14:21:21.662Z"
   },
   {
    "duration": 74,
    "start_time": "2024-07-03T14:21:24.754Z"
   },
   {
    "duration": 2199,
    "start_time": "2024-07-03T14:21:24.838Z"
   },
   {
    "duration": 25,
    "start_time": "2024-07-03T14:21:27.045Z"
   },
   {
    "duration": 75,
    "start_time": "2024-07-03T14:21:27.083Z"
   },
   {
    "duration": 71,
    "start_time": "2024-07-03T14:21:27.169Z"
   },
   {
    "duration": 21,
    "start_time": "2024-07-03T14:21:27.251Z"
   },
   {
    "duration": 828,
    "start_time": "2024-07-03T14:21:27.331Z"
   },
   {
    "duration": 31,
    "start_time": "2024-07-03T14:21:28.223Z"
   },
   {
    "duration": 63,
    "start_time": "2024-07-03T14:21:28.278Z"
   },
   {
    "duration": 82,
    "start_time": "2024-07-03T14:21:28.354Z"
   },
   {
    "duration": 377,
    "start_time": "2024-07-03T14:21:28.447Z"
   },
   {
    "duration": 19,
    "start_time": "2024-07-03T14:21:28.835Z"
   },
   {
    "duration": 62,
    "start_time": "2024-07-03T14:21:28.866Z"
   },
   {
    "duration": 16,
    "start_time": "2024-07-03T14:21:28.933Z"
   },
   {
    "duration": 63,
    "start_time": "2024-07-03T14:21:28.962Z"
   },
   {
    "duration": 101,
    "start_time": "2024-07-03T14:21:29.028Z"
   },
   {
    "duration": 106,
    "start_time": "2024-07-03T14:21:29.141Z"
   },
   {
    "duration": 2663,
    "start_time": "2024-07-03T14:21:29.259Z"
   },
   {
    "duration": 1705,
    "start_time": "2024-07-03T14:21:31.925Z"
   },
   {
    "duration": 1682,
    "start_time": "2024-07-03T14:21:33.643Z"
   },
   {
    "duration": 28,
    "start_time": "2024-07-03T14:21:35.338Z"
   },
   {
    "duration": 7177,
    "start_time": "2024-07-03T14:21:35.371Z"
   },
   {
    "duration": 94,
    "start_time": "2024-07-03T14:21:42.552Z"
   },
   {
    "duration": 179,
    "start_time": "2024-07-03T14:21:42.652Z"
   },
   {
    "duration": 12,
    "start_time": "2024-07-03T14:21:42.840Z"
   },
   {
    "duration": 62,
    "start_time": "2024-07-03T14:21:42.867Z"
   },
   {
    "duration": 13,
    "start_time": "2024-07-03T14:21:42.940Z"
   },
   {
    "duration": 77,
    "start_time": "2024-07-03T14:21:42.961Z"
   },
   {
    "duration": 28,
    "start_time": "2024-07-03T14:21:43.046Z"
   },
   {
    "duration": 11,
    "start_time": "2024-07-03T14:21:43.083Z"
   },
   {
    "duration": 18,
    "start_time": "2024-07-03T14:21:43.125Z"
   },
   {
    "duration": 14,
    "start_time": "2024-07-03T14:21:43.147Z"
   },
   {
    "duration": 62,
    "start_time": "2024-07-03T14:21:43.164Z"
   },
   {
    "duration": 2225,
    "start_time": "2024-07-03T14:21:43.236Z"
   },
   {
    "duration": 11,
    "start_time": "2024-07-03T14:48:21.066Z"
   },
   {
    "duration": 12,
    "start_time": "2024-07-03T14:48:24.056Z"
   },
   {
    "duration": 6,
    "start_time": "2024-07-03T14:55:37.003Z"
   },
   {
    "duration": 7,
    "start_time": "2024-07-03T14:57:54.579Z"
   },
   {
    "duration": 8,
    "start_time": "2024-07-03T15:03:51.854Z"
   },
   {
    "duration": 6,
    "start_time": "2024-07-03T15:15:31.393Z"
   },
   {
    "duration": 7,
    "start_time": "2024-07-03T15:20:12.189Z"
   },
   {
    "duration": 316,
    "start_time": "2024-07-03T17:46:51.173Z"
   },
   {
    "duration": 22,
    "start_time": "2024-07-03T17:47:41.109Z"
   },
   {
    "duration": 5392,
    "start_time": "2024-07-03T17:47:50.023Z"
   },
   {
    "duration": 1033,
    "start_time": "2024-07-03T17:47:55.418Z"
   },
   {
    "duration": 10,
    "start_time": "2024-07-03T17:47:56.455Z"
   },
   {
    "duration": 764,
    "start_time": "2024-07-03T17:47:56.470Z"
   },
   {
    "duration": 4,
    "start_time": "2024-07-03T17:47:57.237Z"
   },
   {
    "duration": 24,
    "start_time": "2024-07-03T17:47:57.245Z"
   },
   {
    "duration": 18,
    "start_time": "2024-07-03T17:47:57.272Z"
   },
   {
    "duration": 11,
    "start_time": "2024-07-03T17:47:57.331Z"
   },
   {
    "duration": 315,
    "start_time": "2024-07-03T17:47:57.346Z"
   },
   {
    "duration": 13,
    "start_time": "2024-07-03T17:47:57.666Z"
   },
   {
    "duration": 13,
    "start_time": "2024-07-03T17:47:57.683Z"
   },
   {
    "duration": 15,
    "start_time": "2024-07-03T17:47:57.731Z"
   },
   {
    "duration": 158,
    "start_time": "2024-07-03T17:47:57.748Z"
   },
   {
    "duration": 22,
    "start_time": "2024-07-03T17:47:57.910Z"
   },
   {
    "duration": 9,
    "start_time": "2024-07-03T17:47:57.935Z"
   },
   {
    "duration": 11,
    "start_time": "2024-07-03T17:47:57.947Z"
   },
   {
    "duration": 9,
    "start_time": "2024-07-03T17:47:57.961Z"
   },
   {
    "duration": 79,
    "start_time": "2024-07-03T17:47:57.976Z"
   },
   {
    "duration": 33,
    "start_time": "2024-07-03T17:47:58.058Z"
   },
   {
    "duration": 1050,
    "start_time": "2024-07-03T17:47:58.185Z"
   },
   {
    "duration": 557,
    "start_time": "2024-07-03T17:47:59.239Z"
   },
   {
    "duration": 636,
    "start_time": "2024-07-03T17:47:59.799Z"
   },
   {
    "duration": 7,
    "start_time": "2024-07-03T17:48:00.822Z"
   },
   {
    "duration": 2647,
    "start_time": "2024-07-03T17:48:01.229Z"
   },
   {
    "duration": 34,
    "start_time": "2024-07-03T17:48:03.880Z"
   },
   {
    "duration": 38,
    "start_time": "2024-07-03T17:48:03.932Z"
   },
   {
    "duration": 4,
    "start_time": "2024-07-03T17:48:03.974Z"
   },
   {
    "duration": 7,
    "start_time": "2024-07-03T17:48:03.986Z"
   },
   {
    "duration": 6,
    "start_time": "2024-07-03T17:48:04.403Z"
   },
   {
    "duration": 7,
    "start_time": "2024-07-03T17:48:04.858Z"
   },
   {
    "duration": 129,
    "start_time": "2024-07-03T17:48:05.353Z"
   },
   {
    "duration": 7,
    "start_time": "2024-07-03T17:48:05.794Z"
   },
   {
    "duration": 11,
    "start_time": "2024-07-03T17:48:06.202Z"
   },
   {
    "duration": 9,
    "start_time": "2024-07-03T17:48:07.446Z"
   },
   {
    "duration": 881,
    "start_time": "2024-07-03T17:48:08.557Z"
   },
   {
    "duration": 0,
    "start_time": "2024-07-03T17:48:09.440Z"
   },
   {
    "duration": 24,
    "start_time": "2024-07-03T17:48:27.485Z"
   },
   {
    "duration": 1648,
    "start_time": "2024-07-03T17:49:58.715Z"
   },
   {
    "duration": 824,
    "start_time": "2024-07-03T17:50:00.367Z"
   },
   {
    "duration": 37,
    "start_time": "2024-07-03T17:50:01.194Z"
   },
   {
    "duration": 771,
    "start_time": "2024-07-03T17:50:01.235Z"
   },
   {
    "duration": 10,
    "start_time": "2024-07-03T17:50:02.009Z"
   },
   {
    "duration": 36,
    "start_time": "2024-07-03T17:50:02.030Z"
   },
   {
    "duration": 18,
    "start_time": "2024-07-03T17:50:02.068Z"
   },
   {
    "duration": 12,
    "start_time": "2024-07-03T17:50:02.089Z"
   },
   {
    "duration": 299,
    "start_time": "2024-07-03T17:50:02.133Z"
   },
   {
    "duration": 16,
    "start_time": "2024-07-03T17:50:02.440Z"
   },
   {
    "duration": 16,
    "start_time": "2024-07-03T17:50:02.459Z"
   },
   {
    "duration": 54,
    "start_time": "2024-07-03T17:50:02.478Z"
   },
   {
    "duration": 150,
    "start_time": "2024-07-03T17:50:02.537Z"
   },
   {
    "duration": 11,
    "start_time": "2024-07-03T17:50:02.689Z"
   },
   {
    "duration": 29,
    "start_time": "2024-07-03T17:50:02.703Z"
   },
   {
    "duration": 12,
    "start_time": "2024-07-03T17:50:02.735Z"
   },
   {
    "duration": 8,
    "start_time": "2024-07-03T17:50:02.750Z"
   },
   {
    "duration": 79,
    "start_time": "2024-07-03T17:50:02.761Z"
   },
   {
    "duration": 34,
    "start_time": "2024-07-03T17:50:02.842Z"
   },
   {
    "duration": 1108,
    "start_time": "2024-07-03T17:50:02.879Z"
   },
   {
    "duration": 544,
    "start_time": "2024-07-03T17:50:03.990Z"
   },
   {
    "duration": 572,
    "start_time": "2024-07-03T17:50:04.537Z"
   },
   {
    "duration": 20,
    "start_time": "2024-07-03T17:50:05.112Z"
   },
   {
    "duration": 2649,
    "start_time": "2024-07-03T17:50:05.135Z"
   },
   {
    "duration": 46,
    "start_time": "2024-07-03T17:50:07.787Z"
   },
   {
    "duration": 41,
    "start_time": "2024-07-03T17:50:07.836Z"
   },
   {
    "duration": 4,
    "start_time": "2024-07-03T17:50:07.880Z"
   },
   {
    "duration": 6,
    "start_time": "2024-07-03T17:50:07.891Z"
   },
   {
    "duration": 7,
    "start_time": "2024-07-03T17:50:07.931Z"
   },
   {
    "duration": 8,
    "start_time": "2024-07-03T17:50:07.942Z"
   },
   {
    "duration": 12,
    "start_time": "2024-07-03T17:50:07.953Z"
   },
   {
    "duration": 7,
    "start_time": "2024-07-03T17:50:07.968Z"
   },
   {
    "duration": 55,
    "start_time": "2024-07-03T17:50:07.979Z"
   },
   {
    "duration": 7,
    "start_time": "2024-07-03T17:50:08.037Z"
   },
   {
    "duration": 1385,
    "start_time": "2024-07-03T17:50:08.047Z"
   },
   {
    "duration": 0,
    "start_time": "2024-07-03T17:50:09.435Z"
   },
   {
    "duration": 289,
    "start_time": "2024-07-03T17:50:39.975Z"
   },
   {
    "duration": 11,
    "start_time": "2024-07-03T17:54:37.046Z"
   },
   {
    "duration": 330,
    "start_time": "2024-07-03T17:54:39.658Z"
   },
   {
    "duration": 24,
    "start_time": "2024-07-03T17:54:40.713Z"
   },
   {
    "duration": 1616,
    "start_time": "2024-07-03T17:55:22.928Z"
   },
   {
    "duration": 857,
    "start_time": "2024-07-03T17:55:24.549Z"
   },
   {
    "duration": 30,
    "start_time": "2024-07-03T17:55:25.409Z"
   },
   {
    "duration": 743,
    "start_time": "2024-07-03T17:55:25.442Z"
   },
   {
    "duration": 4,
    "start_time": "2024-07-03T17:55:26.190Z"
   },
   {
    "duration": 45,
    "start_time": "2024-07-03T17:55:26.197Z"
   },
   {
    "duration": 17,
    "start_time": "2024-07-03T17:55:26.245Z"
   },
   {
    "duration": 12,
    "start_time": "2024-07-03T17:55:26.265Z"
   },
   {
    "duration": 336,
    "start_time": "2024-07-03T17:55:26.279Z"
   },
   {
    "duration": 21,
    "start_time": "2024-07-03T17:55:26.618Z"
   },
   {
    "duration": 12,
    "start_time": "2024-07-03T17:55:26.643Z"
   },
   {
    "duration": 14,
    "start_time": "2024-07-03T17:55:26.658Z"
   },
   {
    "duration": 179,
    "start_time": "2024-07-03T17:55:26.675Z"
   },
   {
    "duration": 11,
    "start_time": "2024-07-03T17:55:26.861Z"
   },
   {
    "duration": 9,
    "start_time": "2024-07-03T17:55:26.875Z"
   },
   {
    "duration": 43,
    "start_time": "2024-07-03T17:55:26.887Z"
   },
   {
    "duration": 8,
    "start_time": "2024-07-03T17:55:26.933Z"
   },
   {
    "duration": 37,
    "start_time": "2024-07-03T17:55:26.944Z"
   },
   {
    "duration": 69,
    "start_time": "2024-07-03T17:55:26.984Z"
   },
   {
    "duration": 1034,
    "start_time": "2024-07-03T17:55:27.057Z"
   },
   {
    "duration": 539,
    "start_time": "2024-07-03T17:55:28.094Z"
   },
   {
    "duration": 580,
    "start_time": "2024-07-03T17:55:28.636Z"
   },
   {
    "duration": 15,
    "start_time": "2024-07-03T17:55:29.219Z"
   },
   {
    "duration": 2660,
    "start_time": "2024-07-03T17:55:29.237Z"
   },
   {
    "duration": 45,
    "start_time": "2024-07-03T17:55:31.901Z"
   },
   {
    "duration": 38,
    "start_time": "2024-07-03T17:55:31.949Z"
   },
   {
    "duration": 6,
    "start_time": "2024-07-03T17:55:31.989Z"
   },
   {
    "duration": 41,
    "start_time": "2024-07-03T17:55:32.000Z"
   },
   {
    "duration": 8,
    "start_time": "2024-07-03T17:55:32.049Z"
   },
   {
    "duration": 8,
    "start_time": "2024-07-03T17:55:32.061Z"
   },
   {
    "duration": 13,
    "start_time": "2024-07-03T17:55:32.074Z"
   },
   {
    "duration": 45,
    "start_time": "2024-07-03T17:55:32.090Z"
   },
   {
    "duration": 11,
    "start_time": "2024-07-03T17:55:32.138Z"
   },
   {
    "duration": 12,
    "start_time": "2024-07-03T17:55:32.153Z"
   },
   {
    "duration": 1324,
    "start_time": "2024-07-03T17:55:32.169Z"
   },
   {
    "duration": 0,
    "start_time": "2024-07-03T17:55:33.496Z"
   },
   {
    "duration": 6,
    "start_time": "2024-07-03T17:57:43.343Z"
   },
   {
    "duration": 8,
    "start_time": "2024-07-03T17:57:43.867Z"
   },
   {
    "duration": 348,
    "start_time": "2024-07-03T17:57:45.015Z"
   },
   {
    "duration": 6,
    "start_time": "2024-07-03T17:57:59.315Z"
   },
   {
    "duration": 8,
    "start_time": "2024-07-03T17:58:00.042Z"
   },
   {
    "duration": 7,
    "start_time": "2024-07-03T17:58:00.699Z"
   },
   {
    "duration": 11,
    "start_time": "2024-07-03T17:58:01.210Z"
   },
   {
    "duration": 7,
    "start_time": "2024-07-03T17:58:03.648Z"
   },
   {
    "duration": 9,
    "start_time": "2024-07-03T17:58:04.331Z"
   },
   {
    "duration": 8,
    "start_time": "2024-07-03T17:58:06.153Z"
   },
   {
    "duration": 8,
    "start_time": "2024-07-03T17:58:14.635Z"
   },
   {
    "duration": 32,
    "start_time": "2024-07-03T17:58:17.785Z"
   },
   {
    "duration": 38,
    "start_time": "2024-07-03T17:58:18.074Z"
   },
   {
    "duration": 4,
    "start_time": "2024-07-03T17:58:19.022Z"
   },
   {
    "duration": 6,
    "start_time": "2024-07-03T17:58:19.444Z"
   },
   {
    "duration": 7,
    "start_time": "2024-07-03T17:58:20.104Z"
   },
   {
    "duration": 6,
    "start_time": "2024-07-03T17:58:20.542Z"
   },
   {
    "duration": 12,
    "start_time": "2024-07-03T17:58:21.057Z"
   },
   {
    "duration": 9,
    "start_time": "2024-07-03T17:58:21.564Z"
   },
   {
    "duration": 10,
    "start_time": "2024-07-03T17:58:22.008Z"
   },
   {
    "duration": 7,
    "start_time": "2024-07-03T17:58:23.685Z"
   },
   {
    "duration": 348,
    "start_time": "2024-07-03T17:58:24.742Z"
   },
   {
    "duration": 27,
    "start_time": "2024-07-03T17:58:25.883Z"
   },
   {
    "duration": 1805,
    "start_time": "2024-07-03T17:59:59.292Z"
   },
   {
    "duration": 904,
    "start_time": "2024-07-03T18:00:01.100Z"
   },
   {
    "duration": 26,
    "start_time": "2024-07-03T18:00:02.010Z"
   },
   {
    "duration": 799,
    "start_time": "2024-07-03T18:00:02.041Z"
   },
   {
    "duration": 4,
    "start_time": "2024-07-03T18:00:02.843Z"
   },
   {
    "duration": 24,
    "start_time": "2024-07-03T18:00:02.851Z"
   },
   {
    "duration": 55,
    "start_time": "2024-07-03T18:00:02.878Z"
   },
   {
    "duration": 12,
    "start_time": "2024-07-03T18:00:02.937Z"
   },
   {
    "duration": 299,
    "start_time": "2024-07-03T18:00:02.952Z"
   },
   {
    "duration": 13,
    "start_time": "2024-07-03T18:00:03.257Z"
   },
   {
    "duration": 13,
    "start_time": "2024-07-03T18:00:03.273Z"
   },
   {
    "duration": 51,
    "start_time": "2024-07-03T18:00:03.289Z"
   },
   {
    "duration": 149,
    "start_time": "2024-07-03T18:00:03.343Z"
   },
   {
    "duration": 11,
    "start_time": "2024-07-03T18:00:03.495Z"
   },
   {
    "duration": 27,
    "start_time": "2024-07-03T18:00:03.508Z"
   },
   {
    "duration": 10,
    "start_time": "2024-07-03T18:00:03.539Z"
   },
   {
    "duration": 8,
    "start_time": "2024-07-03T18:00:03.552Z"
   },
   {
    "duration": 74,
    "start_time": "2024-07-03T18:00:03.564Z"
   },
   {
    "duration": 38,
    "start_time": "2024-07-03T18:00:03.641Z"
   },
   {
    "duration": 1085,
    "start_time": "2024-07-03T18:00:03.682Z"
   },
   {
    "duration": 536,
    "start_time": "2024-07-03T18:00:04.770Z"
   },
   {
    "duration": 580,
    "start_time": "2024-07-03T18:00:05.309Z"
   },
   {
    "duration": 11,
    "start_time": "2024-07-03T18:00:05.893Z"
   },
   {
    "duration": 2638,
    "start_time": "2024-07-03T18:00:05.908Z"
   },
   {
    "duration": 35,
    "start_time": "2024-07-03T18:00:08.549Z"
   },
   {
    "duration": 58,
    "start_time": "2024-07-03T18:00:08.589Z"
   },
   {
    "duration": 4,
    "start_time": "2024-07-03T18:00:08.650Z"
   },
   {
    "duration": 6,
    "start_time": "2024-07-03T18:00:08.662Z"
   },
   {
    "duration": 7,
    "start_time": "2024-07-03T18:00:08.671Z"
   },
   {
    "duration": 7,
    "start_time": "2024-07-03T18:00:08.681Z"
   },
   {
    "duration": 49,
    "start_time": "2024-07-03T18:00:08.691Z"
   },
   {
    "duration": 8,
    "start_time": "2024-07-03T18:00:08.743Z"
   },
   {
    "duration": 10,
    "start_time": "2024-07-03T18:00:08.755Z"
   },
   {
    "duration": 7,
    "start_time": "2024-07-03T18:00:08.768Z"
   },
   {
    "duration": 1369,
    "start_time": "2024-07-03T18:00:08.778Z"
   },
   {
    "duration": 0,
    "start_time": "2024-07-03T18:00:10.150Z"
   },
   {
    "duration": 6,
    "start_time": "2024-07-03T18:00:44.384Z"
   },
   {
    "duration": 355,
    "start_time": "2024-07-03T18:00:45.293Z"
   },
   {
    "duration": 102866,
    "start_time": "2024-07-03T18:00:46.693Z"
   },
   {
    "duration": 6,
    "start_time": "2024-07-03T18:02:46.757Z"
   },
   {
    "duration": 7,
    "start_time": "2024-07-03T18:02:47.188Z"
   },
   {
    "duration": 7,
    "start_time": "2024-07-03T18:02:47.579Z"
   },
   {
    "duration": 50,
    "start_time": "2024-07-03T18:02:48.015Z"
   },
   {
    "duration": 8,
    "start_time": "2024-07-03T18:02:48.699Z"
   },
   {
    "duration": 11,
    "start_time": "2024-07-03T18:02:49.183Z"
   },
   {
    "duration": 6,
    "start_time": "2024-07-03T18:02:51.055Z"
   },
   {
    "duration": 783,
    "start_time": "2024-07-03T18:02:52.369Z"
   },
   {
    "duration": 1817,
    "start_time": "2024-07-03T18:03:33.137Z"
   },
   {
    "duration": 922,
    "start_time": "2024-07-03T18:03:34.958Z"
   },
   {
    "duration": 18,
    "start_time": "2024-07-03T18:03:35.883Z"
   },
   {
    "duration": 798,
    "start_time": "2024-07-03T18:03:35.933Z"
   },
   {
    "duration": 3,
    "start_time": "2024-07-03T18:03:36.734Z"
   },
   {
    "duration": 25,
    "start_time": "2024-07-03T18:03:36.740Z"
   },
   {
    "duration": 18,
    "start_time": "2024-07-03T18:03:36.768Z"
   },
   {
    "duration": 47,
    "start_time": "2024-07-03T18:03:36.789Z"
   },
   {
    "duration": 309,
    "start_time": "2024-07-03T18:03:36.840Z"
   },
   {
    "duration": 14,
    "start_time": "2024-07-03T18:03:37.156Z"
   },
   {
    "duration": 12,
    "start_time": "2024-07-03T18:03:37.173Z"
   },
   {
    "duration": 50,
    "start_time": "2024-07-03T18:03:37.188Z"
   },
   {
    "duration": 152,
    "start_time": "2024-07-03T18:03:37.241Z"
   },
   {
    "duration": 11,
    "start_time": "2024-07-03T18:03:37.396Z"
   },
   {
    "duration": 10,
    "start_time": "2024-07-03T18:03:37.430Z"
   },
   {
    "duration": 10,
    "start_time": "2024-07-03T18:03:37.442Z"
   },
   {
    "duration": 8,
    "start_time": "2024-07-03T18:03:37.455Z"
   },
   {
    "duration": 76,
    "start_time": "2024-07-03T18:03:37.466Z"
   },
   {
    "duration": 34,
    "start_time": "2024-07-03T18:03:37.545Z"
   },
   {
    "duration": 1101,
    "start_time": "2024-07-03T18:03:37.582Z"
   },
   {
    "duration": 591,
    "start_time": "2024-07-03T18:03:38.689Z"
   },
   {
    "duration": 570,
    "start_time": "2024-07-03T18:03:39.284Z"
   },
   {
    "duration": 8,
    "start_time": "2024-07-03T18:03:39.857Z"
   },
   {
    "duration": 2878,
    "start_time": "2024-07-03T18:03:39.868Z"
   },
   {
    "duration": 42,
    "start_time": "2024-07-03T18:03:42.749Z"
   },
   {
    "duration": 70,
    "start_time": "2024-07-03T18:03:42.800Z"
   },
   {
    "duration": 6,
    "start_time": "2024-07-03T18:03:42.874Z"
   },
   {
    "duration": 13,
    "start_time": "2024-07-03T18:03:42.884Z"
   },
   {
    "duration": 28,
    "start_time": "2024-07-03T18:03:42.902Z"
   },
   {
    "duration": 10,
    "start_time": "2024-07-03T18:03:42.933Z"
   },
   {
    "duration": 608,
    "start_time": "2024-07-03T18:03:42.947Z"
   },
   {
    "duration": 0,
    "start_time": "2024-07-03T18:03:43.558Z"
   },
   {
    "duration": 0,
    "start_time": "2024-07-03T18:03:43.561Z"
   },
   {
    "duration": 0,
    "start_time": "2024-07-03T18:03:43.563Z"
   },
   {
    "duration": 0,
    "start_time": "2024-07-03T18:03:43.566Z"
   },
   {
    "duration": 0,
    "start_time": "2024-07-03T18:03:43.568Z"
   },
   {
    "duration": 44,
    "start_time": "2024-07-03T18:04:20.203Z"
   },
   {
    "duration": 13,
    "start_time": "2024-07-03T18:06:50.633Z"
   },
   {
    "duration": 7,
    "start_time": "2024-07-03T18:06:51.594Z"
   },
   {
    "duration": 13,
    "start_time": "2024-07-03T18:06:52.006Z"
   },
   {
    "duration": 6,
    "start_time": "2024-07-03T18:06:53.210Z"
   },
   {
    "duration": 789,
    "start_time": "2024-07-03T18:06:54.044Z"
   },
   {
    "duration": 1604,
    "start_time": "2024-07-03T18:11:53.247Z"
   },
   {
    "duration": 840,
    "start_time": "2024-07-03T18:11:54.855Z"
   },
   {
    "duration": 34,
    "start_time": "2024-07-03T18:11:55.698Z"
   },
   {
    "duration": 771,
    "start_time": "2024-07-03T18:11:55.736Z"
   },
   {
    "duration": 4,
    "start_time": "2024-07-03T18:11:56.510Z"
   },
   {
    "duration": 24,
    "start_time": "2024-07-03T18:11:56.531Z"
   },
   {
    "duration": 16,
    "start_time": "2024-07-03T18:11:56.558Z"
   },
   {
    "duration": 11,
    "start_time": "2024-07-03T18:11:56.577Z"
   },
   {
    "duration": 321,
    "start_time": "2024-07-03T18:11:56.591Z"
   },
   {
    "duration": 21,
    "start_time": "2024-07-03T18:11:56.917Z"
   },
   {
    "duration": 12,
    "start_time": "2024-07-03T18:11:56.941Z"
   },
   {
    "duration": 14,
    "start_time": "2024-07-03T18:11:56.956Z"
   },
   {
    "duration": 177,
    "start_time": "2024-07-03T18:11:56.973Z"
   },
   {
    "duration": 13,
    "start_time": "2024-07-03T18:11:57.153Z"
   },
   {
    "duration": 9,
    "start_time": "2024-07-03T18:11:57.171Z"
   },
   {
    "duration": 12,
    "start_time": "2024-07-03T18:11:57.183Z"
   },
   {
    "duration": 10,
    "start_time": "2024-07-03T18:11:57.233Z"
   },
   {
    "duration": 43,
    "start_time": "2024-07-03T18:11:57.247Z"
   },
   {
    "duration": 33,
    "start_time": "2024-07-03T18:11:57.330Z"
   },
   {
    "duration": 1061,
    "start_time": "2024-07-03T18:11:57.366Z"
   },
   {
    "duration": 542,
    "start_time": "2024-07-03T18:11:58.430Z"
   },
   {
    "duration": 567,
    "start_time": "2024-07-03T18:11:58.976Z"
   },
   {
    "duration": 7,
    "start_time": "2024-07-03T18:11:59.546Z"
   },
   {
    "duration": 2751,
    "start_time": "2024-07-03T18:11:59.556Z"
   },
   {
    "duration": 53,
    "start_time": "2024-07-03T18:12:02.310Z"
   },
   {
    "duration": 40,
    "start_time": "2024-07-03T18:12:02.366Z"
   },
   {
    "duration": 23,
    "start_time": "2024-07-03T18:12:02.409Z"
   },
   {
    "duration": 9,
    "start_time": "2024-07-03T18:12:02.441Z"
   },
   {
    "duration": 7,
    "start_time": "2024-07-03T18:12:02.455Z"
   },
   {
    "duration": 7,
    "start_time": "2024-07-03T18:12:02.465Z"
   },
   {
    "duration": 12,
    "start_time": "2024-07-03T18:12:02.475Z"
   },
   {
    "duration": 12,
    "start_time": "2024-07-03T18:12:02.531Z"
   },
   {
    "duration": 10,
    "start_time": "2024-07-03T18:12:02.546Z"
   },
   {
    "duration": 8,
    "start_time": "2024-07-03T18:12:02.559Z"
   },
   {
    "duration": 783,
    "start_time": "2024-07-03T18:12:02.570Z"
   },
   {
    "duration": 1582,
    "start_time": "2024-07-03T18:13:23.302Z"
   },
   {
    "duration": 856,
    "start_time": "2024-07-03T18:13:24.887Z"
   },
   {
    "duration": 10,
    "start_time": "2024-07-03T18:13:25.746Z"
   },
   {
    "duration": 791,
    "start_time": "2024-07-03T18:13:25.761Z"
   },
   {
    "duration": 4,
    "start_time": "2024-07-03T18:13:26.555Z"
   },
   {
    "duration": 25,
    "start_time": "2024-07-03T18:13:26.562Z"
   },
   {
    "duration": 50,
    "start_time": "2024-07-03T18:13:26.589Z"
   },
   {
    "duration": 11,
    "start_time": "2024-07-03T18:13:26.642Z"
   },
   {
    "duration": 321,
    "start_time": "2024-07-03T18:13:26.656Z"
   },
   {
    "duration": 14,
    "start_time": "2024-07-03T18:13:26.982Z"
   },
   {
    "duration": 37,
    "start_time": "2024-07-03T18:13:26.999Z"
   },
   {
    "duration": 18,
    "start_time": "2024-07-03T18:13:27.041Z"
   },
   {
    "duration": 165,
    "start_time": "2024-07-03T18:13:27.062Z"
   },
   {
    "duration": 11,
    "start_time": "2024-07-03T18:13:27.230Z"
   },
   {
    "duration": 8,
    "start_time": "2024-07-03T18:13:27.244Z"
   },
   {
    "duration": 9,
    "start_time": "2024-07-03T18:13:27.256Z"
   },
   {
    "duration": 9,
    "start_time": "2024-07-03T18:13:27.268Z"
   },
   {
    "duration": 80,
    "start_time": "2024-07-03T18:13:27.282Z"
   },
   {
    "duration": 67,
    "start_time": "2024-07-03T18:13:27.365Z"
   },
   {
    "duration": 1056,
    "start_time": "2024-07-03T18:13:27.435Z"
   },
   {
    "duration": 536,
    "start_time": "2024-07-03T18:13:28.494Z"
   },
   {
    "duration": 598,
    "start_time": "2024-07-03T18:13:29.033Z"
   },
   {
    "duration": 7,
    "start_time": "2024-07-03T18:13:29.635Z"
   },
   {
    "duration": 2764,
    "start_time": "2024-07-03T18:13:29.644Z"
   },
   {
    "duration": 43,
    "start_time": "2024-07-03T18:13:32.412Z"
   },
   {
    "duration": 39,
    "start_time": "2024-07-03T18:13:32.458Z"
   },
   {
    "duration": 35,
    "start_time": "2024-07-03T18:13:32.499Z"
   },
   {
    "duration": 6,
    "start_time": "2024-07-03T18:13:32.542Z"
   },
   {
    "duration": 8,
    "start_time": "2024-07-03T18:13:32.550Z"
   },
   {
    "duration": 8,
    "start_time": "2024-07-03T18:13:32.561Z"
   },
   {
    "duration": 12,
    "start_time": "2024-07-03T18:13:32.572Z"
   },
   {
    "duration": 50,
    "start_time": "2024-07-03T18:13:32.587Z"
   },
   {
    "duration": 13,
    "start_time": "2024-07-03T18:13:32.640Z"
   },
   {
    "duration": 9,
    "start_time": "2024-07-03T18:13:32.656Z"
   },
   {
    "duration": 7,
    "start_time": "2024-07-03T18:13:32.668Z"
   },
   {
    "duration": 853,
    "start_time": "2024-07-03T18:13:32.678Z"
   },
   {
    "duration": 1707,
    "start_time": "2024-07-03T18:19:49.430Z"
   },
   {
    "duration": 920,
    "start_time": "2024-07-03T18:19:51.140Z"
   },
   {
    "duration": 10,
    "start_time": "2024-07-03T18:19:52.063Z"
   },
   {
    "duration": 835,
    "start_time": "2024-07-03T18:19:52.076Z"
   },
   {
    "duration": 5,
    "start_time": "2024-07-03T18:19:52.930Z"
   },
   {
    "duration": 30,
    "start_time": "2024-07-03T18:19:52.939Z"
   },
   {
    "duration": 19,
    "start_time": "2024-07-03T18:19:52.972Z"
   },
   {
    "duration": 40,
    "start_time": "2024-07-03T18:19:52.997Z"
   },
   {
    "duration": 319,
    "start_time": "2024-07-03T18:19:53.044Z"
   },
   {
    "duration": 15,
    "start_time": "2024-07-03T18:19:53.366Z"
   },
   {
    "duration": 17,
    "start_time": "2024-07-03T18:19:53.384Z"
   },
   {
    "duration": 14,
    "start_time": "2024-07-03T18:19:53.435Z"
   },
   {
    "duration": 157,
    "start_time": "2024-07-03T18:19:53.452Z"
   },
   {
    "duration": 19,
    "start_time": "2024-07-03T18:19:53.617Z"
   },
   {
    "duration": 8,
    "start_time": "2024-07-03T18:19:53.640Z"
   },
   {
    "duration": 11,
    "start_time": "2024-07-03T18:19:53.651Z"
   },
   {
    "duration": 9,
    "start_time": "2024-07-03T18:19:53.665Z"
   },
   {
    "duration": 81,
    "start_time": "2024-07-03T18:19:53.677Z"
   },
   {
    "duration": 35,
    "start_time": "2024-07-03T18:19:53.762Z"
   },
   {
    "duration": 1047,
    "start_time": "2024-07-03T18:19:53.832Z"
   },
   {
    "duration": 552,
    "start_time": "2024-07-03T18:19:54.883Z"
   },
   {
    "duration": 624,
    "start_time": "2024-07-03T18:19:55.439Z"
   },
   {
    "duration": 8,
    "start_time": "2024-07-03T18:19:56.067Z"
   },
   {
    "duration": 2810,
    "start_time": "2024-07-03T18:19:56.079Z"
   },
   {
    "duration": 51,
    "start_time": "2024-07-03T18:19:58.893Z"
   },
   {
    "duration": 37,
    "start_time": "2024-07-03T18:19:58.947Z"
   },
   {
    "duration": 6,
    "start_time": "2024-07-03T18:19:58.988Z"
   },
   {
    "duration": 6,
    "start_time": "2024-07-03T18:19:58.998Z"
   },
   {
    "duration": 29,
    "start_time": "2024-07-03T18:19:59.007Z"
   },
   {
    "duration": 9,
    "start_time": "2024-07-03T18:19:59.039Z"
   },
   {
    "duration": 13,
    "start_time": "2024-07-03T18:19:59.051Z"
   },
   {
    "duration": 8,
    "start_time": "2024-07-03T18:19:59.067Z"
   },
   {
    "duration": 13,
    "start_time": "2024-07-03T18:19:59.130Z"
   },
   {
    "duration": 7,
    "start_time": "2024-07-03T18:19:59.148Z"
   },
   {
    "duration": 1651,
    "start_time": "2024-07-03T18:24:36.041Z"
   },
   {
    "duration": 858,
    "start_time": "2024-07-03T18:24:37.696Z"
   },
   {
    "duration": 11,
    "start_time": "2024-07-03T18:24:38.557Z"
   },
   {
    "duration": 796,
    "start_time": "2024-07-03T18:24:38.571Z"
   },
   {
    "duration": 4,
    "start_time": "2024-07-03T18:24:39.372Z"
   },
   {
    "duration": 24,
    "start_time": "2024-07-03T18:24:39.379Z"
   },
   {
    "duration": 17,
    "start_time": "2024-07-03T18:24:39.431Z"
   },
   {
    "duration": 13,
    "start_time": "2024-07-03T18:24:39.450Z"
   },
   {
    "duration": 309,
    "start_time": "2024-07-03T18:24:39.466Z"
   },
   {
    "duration": 14,
    "start_time": "2024-07-03T18:24:39.779Z"
   },
   {
    "duration": 40,
    "start_time": "2024-07-03T18:24:39.796Z"
   },
   {
    "duration": 17,
    "start_time": "2024-07-03T18:24:39.839Z"
   },
   {
    "duration": 171,
    "start_time": "2024-07-03T18:24:39.859Z"
   },
   {
    "duration": 11,
    "start_time": "2024-07-03T18:24:40.039Z"
   },
   {
    "duration": 10,
    "start_time": "2024-07-03T18:24:40.053Z"
   },
   {
    "duration": 10,
    "start_time": "2024-07-03T18:24:40.065Z"
   },
   {
    "duration": 54,
    "start_time": "2024-07-03T18:24:40.078Z"
   },
   {
    "duration": 50,
    "start_time": "2024-07-03T18:24:40.135Z"
   },
   {
    "duration": 80,
    "start_time": "2024-07-03T18:24:40.189Z"
   },
   {
    "duration": 1083,
    "start_time": "2024-07-03T18:24:40.272Z"
   },
   {
    "duration": 563,
    "start_time": "2024-07-03T18:24:41.359Z"
   },
   {
    "duration": 613,
    "start_time": "2024-07-03T18:24:41.931Z"
   },
   {
    "duration": 8,
    "start_time": "2024-07-03T18:24:42.548Z"
   },
   {
    "duration": 2697,
    "start_time": "2024-07-03T18:24:42.559Z"
   },
   {
    "duration": 34,
    "start_time": "2024-07-03T18:24:45.260Z"
   },
   {
    "duration": 62,
    "start_time": "2024-07-03T18:24:45.298Z"
   },
   {
    "duration": 6,
    "start_time": "2024-07-03T18:24:45.363Z"
   },
   {
    "duration": 7,
    "start_time": "2024-07-03T18:24:45.372Z"
   },
   {
    "duration": 7,
    "start_time": "2024-07-03T18:24:45.382Z"
   },
   {
    "duration": 45,
    "start_time": "2024-07-03T18:24:45.392Z"
   },
   {
    "duration": 15,
    "start_time": "2024-07-03T18:24:45.441Z"
   },
   {
    "duration": 9,
    "start_time": "2024-07-03T18:24:45.459Z"
   },
   {
    "duration": 12,
    "start_time": "2024-07-03T18:24:45.473Z"
   },
   {
    "duration": 8,
    "start_time": "2024-07-03T18:24:45.532Z"
   },
   {
    "duration": 1676,
    "start_time": "2024-07-03T18:28:34.516Z"
   },
   {
    "duration": 846,
    "start_time": "2024-07-03T18:28:36.195Z"
   },
   {
    "duration": 12,
    "start_time": "2024-07-03T18:28:37.045Z"
   },
   {
    "duration": 757,
    "start_time": "2024-07-03T18:28:37.063Z"
   },
   {
    "duration": 9,
    "start_time": "2024-07-03T18:28:37.823Z"
   },
   {
    "duration": 23,
    "start_time": "2024-07-03T18:28:37.837Z"
   },
   {
    "duration": 26,
    "start_time": "2024-07-03T18:28:37.864Z"
   },
   {
    "duration": 36,
    "start_time": "2024-07-03T18:28:37.894Z"
   },
   {
    "duration": 307,
    "start_time": "2024-07-03T18:28:37.933Z"
   },
   {
    "duration": 14,
    "start_time": "2024-07-03T18:28:38.247Z"
   },
   {
    "duration": 14,
    "start_time": "2024-07-03T18:28:38.264Z"
   },
   {
    "duration": 52,
    "start_time": "2024-07-03T18:28:38.281Z"
   },
   {
    "duration": 146,
    "start_time": "2024-07-03T18:28:38.336Z"
   },
   {
    "duration": 12,
    "start_time": "2024-07-03T18:28:38.485Z"
   },
   {
    "duration": 30,
    "start_time": "2024-07-03T18:28:38.500Z"
   },
   {
    "duration": 10,
    "start_time": "2024-07-03T18:28:38.533Z"
   },
   {
    "duration": 8,
    "start_time": "2024-07-03T18:28:38.546Z"
   },
   {
    "duration": 75,
    "start_time": "2024-07-03T18:28:38.557Z"
   },
   {
    "duration": 33,
    "start_time": "2024-07-03T18:28:38.635Z"
   },
   {
    "duration": 1084,
    "start_time": "2024-07-03T18:28:38.671Z"
   },
   {
    "duration": 544,
    "start_time": "2024-07-03T18:28:39.758Z"
   },
   {
    "duration": 572,
    "start_time": "2024-07-03T18:28:40.306Z"
   },
   {
    "duration": 8,
    "start_time": "2024-07-03T18:28:40.881Z"
   },
   {
    "duration": 2752,
    "start_time": "2024-07-03T18:28:40.893Z"
   },
   {
    "duration": 32,
    "start_time": "2024-07-03T18:28:43.649Z"
   },
   {
    "duration": 62,
    "start_time": "2024-07-03T18:28:43.684Z"
   },
   {
    "duration": 5,
    "start_time": "2024-07-03T18:28:43.750Z"
   },
   {
    "duration": 8,
    "start_time": "2024-07-03T18:28:43.764Z"
   },
   {
    "duration": 7,
    "start_time": "2024-07-03T18:28:43.776Z"
   },
   {
    "duration": 48,
    "start_time": "2024-07-03T18:28:43.785Z"
   },
   {
    "duration": 1334,
    "start_time": "2024-07-03T18:28:43.837Z"
   },
   {
    "duration": 0,
    "start_time": "2024-07-03T18:28:45.174Z"
   },
   {
    "duration": 0,
    "start_time": "2024-07-03T18:28:45.175Z"
   },
   {
    "duration": 0,
    "start_time": "2024-07-03T18:28:45.177Z"
   },
   {
    "duration": 0,
    "start_time": "2024-07-03T18:28:45.180Z"
   },
   {
    "duration": 0,
    "start_time": "2024-07-03T18:28:45.182Z"
   },
   {
    "duration": 0,
    "start_time": "2024-07-03T18:28:45.184Z"
   },
   {
    "duration": 6,
    "start_time": "2024-07-03T18:29:03.561Z"
   },
   {
    "duration": 7,
    "start_time": "2024-07-03T18:29:04.124Z"
   },
   {
    "duration": 7,
    "start_time": "2024-07-03T18:29:04.669Z"
   },
   {
    "duration": 13,
    "start_time": "2024-07-03T18:29:05.180Z"
   },
   {
    "duration": 7,
    "start_time": "2024-07-03T18:29:05.979Z"
   },
   {
    "duration": 11,
    "start_time": "2024-07-03T18:29:06.499Z"
   },
   {
    "duration": 8,
    "start_time": "2024-07-03T18:29:08.664Z"
   },
   {
    "duration": 1625,
    "start_time": "2024-07-03T18:29:58.844Z"
   },
   {
    "duration": 860,
    "start_time": "2024-07-03T18:30:00.473Z"
   },
   {
    "duration": 13,
    "start_time": "2024-07-03T18:30:01.336Z"
   },
   {
    "duration": 780,
    "start_time": "2024-07-03T18:30:01.353Z"
   },
   {
    "duration": 4,
    "start_time": "2024-07-03T18:30:02.138Z"
   },
   {
    "duration": 24,
    "start_time": "2024-07-03T18:30:02.145Z"
   },
   {
    "duration": 16,
    "start_time": "2024-07-03T18:30:02.172Z"
   },
   {
    "duration": 48,
    "start_time": "2024-07-03T18:30:02.191Z"
   },
   {
    "duration": 318,
    "start_time": "2024-07-03T18:30:02.247Z"
   },
   {
    "duration": 13,
    "start_time": "2024-07-03T18:30:02.568Z"
   },
   {
    "duration": 12,
    "start_time": "2024-07-03T18:30:02.584Z"
   },
   {
    "duration": 45,
    "start_time": "2024-07-03T18:30:02.599Z"
   },
   {
    "duration": 158,
    "start_time": "2024-07-03T18:30:02.647Z"
   },
   {
    "duration": 20,
    "start_time": "2024-07-03T18:30:02.812Z"
   },
   {
    "duration": 9,
    "start_time": "2024-07-03T18:30:02.838Z"
   },
   {
    "duration": 11,
    "start_time": "2024-07-03T18:30:02.849Z"
   },
   {
    "duration": 9,
    "start_time": "2024-07-03T18:30:02.864Z"
   },
   {
    "duration": 73,
    "start_time": "2024-07-03T18:30:02.876Z"
   },
   {
    "duration": 33,
    "start_time": "2024-07-03T18:30:02.952Z"
   },
   {
    "duration": 1103,
    "start_time": "2024-07-03T18:30:02.988Z"
   },
   {
    "duration": 552,
    "start_time": "2024-07-03T18:30:04.094Z"
   },
   {
    "duration": 582,
    "start_time": "2024-07-03T18:30:04.649Z"
   },
   {
    "duration": 7,
    "start_time": "2024-07-03T18:30:05.235Z"
   },
   {
    "duration": 2786,
    "start_time": "2024-07-03T18:30:05.245Z"
   },
   {
    "duration": 37,
    "start_time": "2024-07-03T18:30:08.035Z"
   },
   {
    "duration": 69,
    "start_time": "2024-07-03T18:30:08.076Z"
   },
   {
    "duration": 4,
    "start_time": "2024-07-03T18:30:08.148Z"
   },
   {
    "duration": 6,
    "start_time": "2024-07-03T18:30:08.158Z"
   },
   {
    "duration": 7,
    "start_time": "2024-07-03T18:30:08.167Z"
   },
   {
    "duration": 7,
    "start_time": "2024-07-03T18:30:08.178Z"
   },
   {
    "duration": 49,
    "start_time": "2024-07-03T18:30:08.189Z"
   },
   {
    "duration": 8,
    "start_time": "2024-07-03T18:30:08.241Z"
   },
   {
    "duration": 10,
    "start_time": "2024-07-03T18:30:08.252Z"
   },
   {
    "duration": 9,
    "start_time": "2024-07-03T18:30:08.265Z"
   },
   {
    "duration": 1641,
    "start_time": "2024-07-03T18:32:53.468Z"
   },
   {
    "duration": 934,
    "start_time": "2024-07-03T18:32:55.113Z"
   },
   {
    "duration": 11,
    "start_time": "2024-07-03T18:32:56.050Z"
   },
   {
    "duration": 781,
    "start_time": "2024-07-03T18:32:56.066Z"
   },
   {
    "duration": 6,
    "start_time": "2024-07-03T18:32:56.852Z"
   },
   {
    "duration": 25,
    "start_time": "2024-07-03T18:32:56.861Z"
   },
   {
    "duration": 44,
    "start_time": "2024-07-03T18:32:56.891Z"
   },
   {
    "duration": 12,
    "start_time": "2024-07-03T18:32:56.938Z"
   },
   {
    "duration": 317,
    "start_time": "2024-07-03T18:32:56.954Z"
   },
   {
    "duration": 15,
    "start_time": "2024-07-03T18:32:57.274Z"
   },
   {
    "duration": 41,
    "start_time": "2024-07-03T18:32:57.291Z"
   },
   {
    "duration": 16,
    "start_time": "2024-07-03T18:32:57.335Z"
   },
   {
    "duration": 167,
    "start_time": "2024-07-03T18:32:57.354Z"
   },
   {
    "duration": 10,
    "start_time": "2024-07-03T18:32:57.528Z"
   },
   {
    "duration": 10,
    "start_time": "2024-07-03T18:32:57.541Z"
   },
   {
    "duration": 10,
    "start_time": "2024-07-03T18:32:57.553Z"
   },
   {
    "duration": 9,
    "start_time": "2024-07-03T18:32:57.566Z"
   },
   {
    "duration": 37,
    "start_time": "2024-07-03T18:32:57.630Z"
   },
   {
    "duration": 71,
    "start_time": "2024-07-03T18:32:57.670Z"
   },
   {
    "duration": 1071,
    "start_time": "2024-07-03T18:32:57.744Z"
   },
   {
    "duration": 578,
    "start_time": "2024-07-03T18:32:58.819Z"
   },
   {
    "duration": 571,
    "start_time": "2024-07-03T18:32:59.401Z"
   },
   {
    "duration": 8,
    "start_time": "2024-07-03T18:32:59.975Z"
   },
   {
    "duration": 2865,
    "start_time": "2024-07-03T18:32:59.986Z"
   },
   {
    "duration": 38,
    "start_time": "2024-07-03T18:33:02.854Z"
   },
   {
    "duration": 67,
    "start_time": "2024-07-03T18:33:02.895Z"
   },
   {
    "duration": 4,
    "start_time": "2024-07-03T18:33:02.966Z"
   },
   {
    "duration": 9,
    "start_time": "2024-07-03T18:33:02.973Z"
   },
   {
    "duration": 7,
    "start_time": "2024-07-03T18:33:02.985Z"
   },
   {
    "duration": 40,
    "start_time": "2024-07-03T18:33:02.996Z"
   },
   {
    "duration": 13,
    "start_time": "2024-07-03T18:33:03.040Z"
   },
   {
    "duration": 8,
    "start_time": "2024-07-03T18:33:03.056Z"
   },
   {
    "duration": 12,
    "start_time": "2024-07-03T18:33:03.068Z"
   },
   {
    "duration": 57,
    "start_time": "2024-07-03T18:33:03.083Z"
   },
   {
    "duration": 903,
    "start_time": "2024-07-03T18:33:03.143Z"
   },
   {
    "duration": 3,
    "start_time": "2024-07-03T18:33:40.685Z"
   },
   {
    "duration": 1639,
    "start_time": "2024-07-03T18:35:19.501Z"
   },
   {
    "duration": 942,
    "start_time": "2024-07-03T18:35:21.144Z"
   },
   {
    "duration": 43,
    "start_time": "2024-07-03T18:35:22.090Z"
   },
   {
    "duration": 789,
    "start_time": "2024-07-03T18:35:22.141Z"
   },
   {
    "duration": 8,
    "start_time": "2024-07-03T18:35:22.935Z"
   },
   {
    "duration": 25,
    "start_time": "2024-07-03T18:35:22.946Z"
   },
   {
    "duration": 17,
    "start_time": "2024-07-03T18:35:22.974Z"
   },
   {
    "duration": 50,
    "start_time": "2024-07-03T18:35:22.993Z"
   },
   {
    "duration": 308,
    "start_time": "2024-07-03T18:35:23.046Z"
   },
   {
    "duration": 14,
    "start_time": "2024-07-03T18:35:23.357Z"
   },
   {
    "duration": 13,
    "start_time": "2024-07-03T18:35:23.375Z"
   },
   {
    "duration": 50,
    "start_time": "2024-07-03T18:35:23.391Z"
   },
   {
    "duration": 155,
    "start_time": "2024-07-03T18:35:23.444Z"
   },
   {
    "duration": 11,
    "start_time": "2024-07-03T18:35:23.605Z"
   },
   {
    "duration": 9,
    "start_time": "2024-07-03T18:35:23.631Z"
   },
   {
    "duration": 11,
    "start_time": "2024-07-03T18:35:23.644Z"
   },
   {
    "duration": 9,
    "start_time": "2024-07-03T18:35:23.657Z"
   },
   {
    "duration": 80,
    "start_time": "2024-07-03T18:35:23.669Z"
   },
   {
    "duration": 35,
    "start_time": "2024-07-03T18:35:23.752Z"
   },
   {
    "duration": 1101,
    "start_time": "2024-07-03T18:35:23.790Z"
   },
   {
    "duration": 562,
    "start_time": "2024-07-03T18:35:24.895Z"
   },
   {
    "duration": 569,
    "start_time": "2024-07-03T18:35:25.461Z"
   },
   {
    "duration": 7,
    "start_time": "2024-07-03T18:35:26.034Z"
   },
   {
    "duration": 2615,
    "start_time": "2024-07-03T18:35:26.044Z"
   },
   {
    "duration": 34,
    "start_time": "2024-07-03T18:35:28.664Z"
   },
   {
    "duration": 58,
    "start_time": "2024-07-03T18:35:28.701Z"
   },
   {
    "duration": 5,
    "start_time": "2024-07-03T18:35:28.762Z"
   },
   {
    "duration": 7,
    "start_time": "2024-07-03T18:35:28.771Z"
   },
   {
    "duration": 8,
    "start_time": "2024-07-03T18:35:28.781Z"
   },
   {
    "duration": 43,
    "start_time": "2024-07-03T18:35:28.792Z"
   },
   {
    "duration": 13,
    "start_time": "2024-07-03T18:35:28.839Z"
   },
   {
    "duration": 8,
    "start_time": "2024-07-03T18:35:28.855Z"
   },
   {
    "duration": 11,
    "start_time": "2024-07-03T18:35:28.866Z"
   },
   {
    "duration": 52,
    "start_time": "2024-07-03T18:35:28.880Z"
   },
   {
    "duration": 553,
    "start_time": "2024-07-03T18:35:28.935Z"
   },
   {
    "duration": 0,
    "start_time": "2024-07-03T18:35:29.491Z"
   },
   {
    "duration": 1704,
    "start_time": "2024-07-03T18:35:53.925Z"
   },
   {
    "duration": 1069,
    "start_time": "2024-07-03T18:35:55.633Z"
   },
   {
    "duration": 30,
    "start_time": "2024-07-03T18:35:56.705Z"
   },
   {
    "duration": 825,
    "start_time": "2024-07-03T18:35:56.741Z"
   },
   {
    "duration": 3,
    "start_time": "2024-07-03T18:35:57.570Z"
   },
   {
    "duration": 26,
    "start_time": "2024-07-03T18:35:57.576Z"
   },
   {
    "duration": 16,
    "start_time": "2024-07-03T18:35:57.630Z"
   },
   {
    "duration": 11,
    "start_time": "2024-07-03T18:35:57.649Z"
   },
   {
    "duration": 368,
    "start_time": "2024-07-03T18:35:57.664Z"
   },
   {
    "duration": 16,
    "start_time": "2024-07-03T18:35:58.039Z"
   },
   {
    "duration": 14,
    "start_time": "2024-07-03T18:35:58.058Z"
   },
   {
    "duration": 56,
    "start_time": "2024-07-03T18:35:58.075Z"
   },
   {
    "duration": 149,
    "start_time": "2024-07-03T18:35:58.136Z"
   },
   {
    "duration": 14,
    "start_time": "2024-07-03T18:35:58.291Z"
   },
   {
    "duration": 25,
    "start_time": "2024-07-03T18:35:58.308Z"
   },
   {
    "duration": 14,
    "start_time": "2024-07-03T18:35:58.336Z"
   },
   {
    "duration": 10,
    "start_time": "2024-07-03T18:35:58.353Z"
   },
   {
    "duration": 82,
    "start_time": "2024-07-03T18:35:58.369Z"
   },
   {
    "duration": 36,
    "start_time": "2024-07-03T18:35:58.457Z"
   },
   {
    "duration": 1324,
    "start_time": "2024-07-03T18:35:58.496Z"
   },
   {
    "duration": 566,
    "start_time": "2024-07-03T18:35:59.823Z"
   },
   {
    "duration": 594,
    "start_time": "2024-07-03T18:36:00.393Z"
   },
   {
    "duration": 8,
    "start_time": "2024-07-03T18:36:00.991Z"
   },
   {
    "duration": 2805,
    "start_time": "2024-07-03T18:36:01.002Z"
   },
   {
    "duration": 47,
    "start_time": "2024-07-03T18:36:03.810Z"
   },
   {
    "duration": 38,
    "start_time": "2024-07-03T18:36:03.860Z"
   },
   {
    "duration": 28,
    "start_time": "2024-07-03T18:36:03.902Z"
   },
   {
    "duration": 6,
    "start_time": "2024-07-03T18:36:03.938Z"
   },
   {
    "duration": 7,
    "start_time": "2024-07-03T18:36:03.948Z"
   },
   {
    "duration": 7,
    "start_time": "2024-07-03T18:36:03.959Z"
   },
   {
    "duration": 12,
    "start_time": "2024-07-03T18:36:03.970Z"
   },
   {
    "duration": 9,
    "start_time": "2024-07-03T18:36:04.032Z"
   },
   {
    "duration": 11,
    "start_time": "2024-07-03T18:36:04.045Z"
   },
   {
    "duration": 9,
    "start_time": "2024-07-03T18:36:04.059Z"
   },
   {
    "duration": 1603,
    "start_time": "2024-07-03T18:37:02.386Z"
   },
   {
    "duration": 877,
    "start_time": "2024-07-03T18:37:03.993Z"
   },
   {
    "duration": 11,
    "start_time": "2024-07-03T18:37:04.873Z"
   },
   {
    "duration": 784,
    "start_time": "2024-07-03T18:37:04.887Z"
   },
   {
    "duration": 12,
    "start_time": "2024-07-03T18:37:05.680Z"
   },
   {
    "duration": 32,
    "start_time": "2024-07-03T18:37:05.705Z"
   },
   {
    "duration": 18,
    "start_time": "2024-07-03T18:37:05.742Z"
   },
   {
    "duration": 12,
    "start_time": "2024-07-03T18:37:05.764Z"
   },
   {
    "duration": 331,
    "start_time": "2024-07-03T18:37:05.780Z"
   },
   {
    "duration": 22,
    "start_time": "2024-07-03T18:37:06.114Z"
   },
   {
    "duration": 14,
    "start_time": "2024-07-03T18:37:06.139Z"
   },
   {
    "duration": 15,
    "start_time": "2024-07-03T18:37:06.155Z"
   },
   {
    "duration": 178,
    "start_time": "2024-07-03T18:37:06.172Z"
   },
   {
    "duration": 10,
    "start_time": "2024-07-03T18:37:06.357Z"
   },
   {
    "duration": 9,
    "start_time": "2024-07-03T18:37:06.370Z"
   },
   {
    "duration": 23,
    "start_time": "2024-07-03T18:37:06.384Z"
   },
   {
    "duration": 9,
    "start_time": "2024-07-03T18:37:06.432Z"
   },
   {
    "duration": 37,
    "start_time": "2024-07-03T18:37:06.444Z"
   },
   {
    "duration": 71,
    "start_time": "2024-07-03T18:37:06.486Z"
   },
   {
    "duration": 1059,
    "start_time": "2024-07-03T18:37:06.560Z"
   },
   {
    "duration": 560,
    "start_time": "2024-07-03T18:37:07.624Z"
   },
   {
    "duration": 563,
    "start_time": "2024-07-03T18:37:08.187Z"
   },
   {
    "duration": 7,
    "start_time": "2024-07-03T18:37:08.753Z"
   },
   {
    "duration": 2703,
    "start_time": "2024-07-03T18:37:08.763Z"
   },
   {
    "duration": 34,
    "start_time": "2024-07-03T18:37:11.469Z"
   },
   {
    "duration": 38,
    "start_time": "2024-07-03T18:37:11.530Z"
   },
   {
    "duration": 4,
    "start_time": "2024-07-03T18:37:11.571Z"
   },
   {
    "duration": 6,
    "start_time": "2024-07-03T18:37:11.578Z"
   },
   {
    "duration": 8,
    "start_time": "2024-07-03T18:37:11.587Z"
   },
   {
    "duration": 7,
    "start_time": "2024-07-03T18:37:11.631Z"
   },
   {
    "duration": 13,
    "start_time": "2024-07-03T18:37:11.641Z"
   },
   {
    "duration": 8,
    "start_time": "2024-07-03T18:37:11.657Z"
   },
   {
    "duration": 11,
    "start_time": "2024-07-03T18:37:11.668Z"
   },
   {
    "duration": 54,
    "start_time": "2024-07-03T18:37:11.682Z"
   },
   {
    "duration": 1620,
    "start_time": "2024-07-03T18:37:39.969Z"
   },
   {
    "duration": 994,
    "start_time": "2024-07-03T18:37:41.593Z"
   },
   {
    "duration": 14,
    "start_time": "2024-07-03T18:37:42.591Z"
   },
   {
    "duration": 766,
    "start_time": "2024-07-03T18:37:42.632Z"
   },
   {
    "duration": 3,
    "start_time": "2024-07-03T18:37:43.403Z"
   },
   {
    "duration": 36,
    "start_time": "2024-07-03T18:37:43.409Z"
   },
   {
    "duration": 21,
    "start_time": "2024-07-03T18:37:43.450Z"
   },
   {
    "duration": 13,
    "start_time": "2024-07-03T18:37:43.474Z"
   },
   {
    "duration": 332,
    "start_time": "2024-07-03T18:37:43.490Z"
   },
   {
    "duration": 13,
    "start_time": "2024-07-03T18:37:43.830Z"
   },
   {
    "duration": 14,
    "start_time": "2024-07-03T18:37:43.846Z"
   },
   {
    "duration": 15,
    "start_time": "2024-07-03T18:37:43.865Z"
   },
   {
    "duration": 177,
    "start_time": "2024-07-03T18:37:43.883Z"
   },
   {
    "duration": 11,
    "start_time": "2024-07-03T18:37:44.066Z"
   },
   {
    "duration": 8,
    "start_time": "2024-07-03T18:37:44.081Z"
   },
   {
    "duration": 44,
    "start_time": "2024-07-03T18:37:44.092Z"
   },
   {
    "duration": 11,
    "start_time": "2024-07-03T18:37:44.140Z"
   },
   {
    "duration": 37,
    "start_time": "2024-07-03T18:37:44.154Z"
   },
   {
    "duration": 69,
    "start_time": "2024-07-03T18:37:44.194Z"
   },
   {
    "duration": 1102,
    "start_time": "2024-07-03T18:37:44.265Z"
   },
   {
    "duration": 544,
    "start_time": "2024-07-03T18:37:45.370Z"
   },
   {
    "duration": 582,
    "start_time": "2024-07-03T18:37:45.918Z"
   },
   {
    "duration": 8,
    "start_time": "2024-07-03T18:37:46.504Z"
   },
   {
    "duration": 2727,
    "start_time": "2024-07-03T18:37:46.530Z"
   },
   {
    "duration": 34,
    "start_time": "2024-07-03T18:37:49.261Z"
   },
   {
    "duration": 59,
    "start_time": "2024-07-03T18:37:49.298Z"
   },
   {
    "duration": 7,
    "start_time": "2024-07-03T18:37:49.360Z"
   },
   {
    "duration": 7,
    "start_time": "2024-07-03T18:37:49.371Z"
   },
   {
    "duration": 8,
    "start_time": "2024-07-03T18:37:49.382Z"
   },
   {
    "duration": 8,
    "start_time": "2024-07-03T18:37:49.431Z"
   },
   {
    "duration": 14,
    "start_time": "2024-07-03T18:37:49.445Z"
   },
   {
    "duration": 11,
    "start_time": "2024-07-03T18:37:49.463Z"
   },
   {
    "duration": 10,
    "start_time": "2024-07-03T18:37:49.477Z"
   },
   {
    "duration": 45,
    "start_time": "2024-07-03T18:37:49.490Z"
   },
   {
    "duration": 811,
    "start_time": "2024-07-03T18:37:49.538Z"
   },
   {
    "duration": 1597,
    "start_time": "2024-07-03T18:41:38.258Z"
   },
   {
    "duration": 876,
    "start_time": "2024-07-03T18:41:39.858Z"
   },
   {
    "duration": 12,
    "start_time": "2024-07-03T18:41:40.736Z"
   },
   {
    "duration": 808,
    "start_time": "2024-07-03T18:41:40.752Z"
   },
   {
    "duration": 4,
    "start_time": "2024-07-03T18:41:41.563Z"
   },
   {
    "duration": 24,
    "start_time": "2024-07-03T18:41:41.571Z"
   },
   {
    "duration": 45,
    "start_time": "2024-07-03T18:41:41.598Z"
   },
   {
    "duration": 11,
    "start_time": "2024-07-03T18:41:41.646Z"
   },
   {
    "duration": 320,
    "start_time": "2024-07-03T18:41:41.660Z"
   },
   {
    "duration": 18,
    "start_time": "2024-07-03T18:41:41.986Z"
   },
   {
    "duration": 48,
    "start_time": "2024-07-03T18:41:42.007Z"
   },
   {
    "duration": 15,
    "start_time": "2024-07-03T18:41:42.058Z"
   },
   {
    "duration": 189,
    "start_time": "2024-07-03T18:41:42.076Z"
   },
   {
    "duration": 10,
    "start_time": "2024-07-03T18:41:42.268Z"
   },
   {
    "duration": 50,
    "start_time": "2024-07-03T18:41:42.281Z"
   },
   {
    "duration": 11,
    "start_time": "2024-07-03T18:41:42.334Z"
   },
   {
    "duration": 9,
    "start_time": "2024-07-03T18:41:42.347Z"
   },
   {
    "duration": 90,
    "start_time": "2024-07-03T18:41:42.359Z"
   },
   {
    "duration": 86,
    "start_time": "2024-07-03T18:41:42.453Z"
   },
   {
    "duration": 1088,
    "start_time": "2024-07-03T18:41:42.543Z"
   },
   {
    "duration": 562,
    "start_time": "2024-07-03T18:41:43.635Z"
   },
   {
    "duration": 575,
    "start_time": "2024-07-03T18:41:44.203Z"
   },
   {
    "duration": 12,
    "start_time": "2024-07-03T18:41:44.782Z"
   },
   {
    "duration": 2801,
    "start_time": "2024-07-03T18:41:44.797Z"
   },
   {
    "duration": 50,
    "start_time": "2024-07-03T18:41:47.602Z"
   },
   {
    "duration": 39,
    "start_time": "2024-07-03T18:41:47.655Z"
   },
   {
    "duration": 4,
    "start_time": "2024-07-03T18:41:47.697Z"
   },
   {
    "duration": 6,
    "start_time": "2024-07-03T18:41:47.733Z"
   },
   {
    "duration": 7,
    "start_time": "2024-07-03T18:41:47.742Z"
   },
   {
    "duration": 7,
    "start_time": "2024-07-03T18:41:47.755Z"
   },
   {
    "duration": 1340,
    "start_time": "2024-07-03T18:41:47.766Z"
   },
   {
    "duration": 0,
    "start_time": "2024-07-03T18:41:49.110Z"
   },
   {
    "duration": 0,
    "start_time": "2024-07-03T18:41:49.115Z"
   },
   {
    "duration": 0,
    "start_time": "2024-07-03T18:41:49.117Z"
   },
   {
    "duration": 0,
    "start_time": "2024-07-03T18:41:49.132Z"
   },
   {
    "duration": 0,
    "start_time": "2024-07-03T18:41:49.134Z"
   },
   {
    "duration": 13,
    "start_time": "2024-07-03T18:42:12.974Z"
   },
   {
    "duration": 8,
    "start_time": "2024-07-03T18:42:14.540Z"
   },
   {
    "duration": 10,
    "start_time": "2024-07-03T18:42:15.178Z"
   },
   {
    "duration": 6,
    "start_time": "2024-07-03T18:42:16.859Z"
   },
   {
    "duration": 518,
    "start_time": "2024-07-03T18:42:17.504Z"
   },
   {
    "duration": 106522,
    "start_time": "2024-07-03T18:42:18.162Z"
   },
   {
    "duration": 79,
    "start_time": "2024-07-03T18:44:05.572Z"
   },
   {
    "duration": 15,
    "start_time": "2024-07-03T18:44:13.554Z"
   },
   {
    "duration": 321,
    "start_time": "2024-07-03T18:46:02.860Z"
   },
   {
    "duration": 6,
    "start_time": "2024-07-03T18:47:43.348Z"
   },
   {
    "duration": 7,
    "start_time": "2024-07-03T18:47:43.872Z"
   },
   {
    "duration": 7,
    "start_time": "2024-07-03T18:47:44.353Z"
   },
   {
    "duration": 53,
    "start_time": "2024-07-03T18:47:44.791Z"
   },
   {
    "duration": 8,
    "start_time": "2024-07-03T18:47:45.246Z"
   },
   {
    "duration": 9,
    "start_time": "2024-07-03T18:47:45.886Z"
   },
   {
    "duration": 7,
    "start_time": "2024-07-03T18:47:47.469Z"
   },
   {
    "duration": 992,
    "start_time": "2024-07-03T18:47:48.044Z"
   },
   {
    "duration": 1670,
    "start_time": "2024-07-03T18:48:22.521Z"
   },
   {
    "duration": 861,
    "start_time": "2024-07-03T18:48:24.195Z"
   },
   {
    "duration": 11,
    "start_time": "2024-07-03T18:48:25.059Z"
   },
   {
    "duration": 808,
    "start_time": "2024-07-03T18:48:25.073Z"
   },
   {
    "duration": 16,
    "start_time": "2024-07-03T18:48:25.893Z"
   },
   {
    "duration": 43,
    "start_time": "2024-07-03T18:48:25.913Z"
   },
   {
    "duration": 23,
    "start_time": "2024-07-03T18:48:25.962Z"
   },
   {
    "duration": 16,
    "start_time": "2024-07-03T18:48:25.991Z"
   },
   {
    "duration": 327,
    "start_time": "2024-07-03T18:48:26.010Z"
   },
   {
    "duration": 22,
    "start_time": "2024-07-03T18:48:26.342Z"
   },
   {
    "duration": 22,
    "start_time": "2024-07-03T18:48:26.367Z"
   },
   {
    "duration": 52,
    "start_time": "2024-07-03T18:48:26.393Z"
   },
   {
    "duration": 186,
    "start_time": "2024-07-03T18:48:26.448Z"
   },
   {
    "duration": 12,
    "start_time": "2024-07-03T18:48:26.642Z"
   },
   {
    "duration": 13,
    "start_time": "2024-07-03T18:48:26.658Z"
   },
   {
    "duration": 11,
    "start_time": "2024-07-03T18:48:26.674Z"
   },
   {
    "duration": 49,
    "start_time": "2024-07-03T18:48:26.688Z"
   },
   {
    "duration": 41,
    "start_time": "2024-07-03T18:48:26.740Z"
   },
   {
    "duration": 79,
    "start_time": "2024-07-03T18:48:26.785Z"
   },
   {
    "duration": 1207,
    "start_time": "2024-07-03T18:48:26.868Z"
   },
   {
    "duration": 591,
    "start_time": "2024-07-03T18:48:28.078Z"
   },
   {
    "duration": 625,
    "start_time": "2024-07-03T18:48:28.673Z"
   },
   {
    "duration": 8,
    "start_time": "2024-07-03T18:48:29.302Z"
   },
   {
    "duration": 2833,
    "start_time": "2024-07-03T18:48:29.331Z"
   },
   {
    "duration": 39,
    "start_time": "2024-07-03T18:48:32.167Z"
   },
   {
    "duration": 72,
    "start_time": "2024-07-03T18:48:32.212Z"
   },
   {
    "duration": 5,
    "start_time": "2024-07-03T18:48:32.288Z"
   },
   {
    "duration": 33,
    "start_time": "2024-07-03T18:48:32.297Z"
   },
   {
    "duration": 9,
    "start_time": "2024-07-03T18:48:32.335Z"
   },
   {
    "duration": 13,
    "start_time": "2024-07-03T18:48:32.347Z"
   },
   {
    "duration": 642,
    "start_time": "2024-07-03T18:48:32.363Z"
   },
   {
    "duration": 0,
    "start_time": "2024-07-03T18:48:33.008Z"
   },
   {
    "duration": 0,
    "start_time": "2024-07-03T18:48:33.011Z"
   },
   {
    "duration": 1,
    "start_time": "2024-07-03T18:48:33.012Z"
   },
   {
    "duration": 0,
    "start_time": "2024-07-03T18:48:33.015Z"
   },
   {
    "duration": 0,
    "start_time": "2024-07-03T18:48:33.031Z"
   },
   {
    "duration": 67,
    "start_time": "2024-07-03T18:49:54.572Z"
   },
   {
    "duration": 6,
    "start_time": "2024-07-03T18:50:15.000Z"
   },
   {
    "duration": 8,
    "start_time": "2024-07-03T18:50:15.542Z"
   },
   {
    "duration": 7,
    "start_time": "2024-07-03T18:50:15.960Z"
   },
   {
    "duration": 17,
    "start_time": "2024-07-03T18:50:16.434Z"
   },
   {
    "duration": 16,
    "start_time": "2024-07-03T18:50:17.304Z"
   },
   {
    "duration": 10,
    "start_time": "2024-07-03T18:50:17.825Z"
   },
   {
    "duration": 8,
    "start_time": "2024-07-03T18:50:19.339Z"
   },
   {
    "duration": 752,
    "start_time": "2024-07-03T18:50:19.888Z"
   },
   {
    "duration": 1660,
    "start_time": "2024-07-03T18:51:09.514Z"
   },
   {
    "duration": 909,
    "start_time": "2024-07-03T18:51:11.178Z"
   },
   {
    "duration": 40,
    "start_time": "2024-07-03T18:51:12.090Z"
   },
   {
    "duration": 764,
    "start_time": "2024-07-03T18:51:12.134Z"
   },
   {
    "duration": 3,
    "start_time": "2024-07-03T18:51:12.902Z"
   },
   {
    "duration": 43,
    "start_time": "2024-07-03T18:51:12.908Z"
   },
   {
    "duration": 19,
    "start_time": "2024-07-03T18:51:12.955Z"
   },
   {
    "duration": 12,
    "start_time": "2024-07-03T18:51:12.976Z"
   },
   {
    "duration": 338,
    "start_time": "2024-07-03T18:51:12.992Z"
   },
   {
    "duration": 25,
    "start_time": "2024-07-03T18:51:13.337Z"
   },
   {
    "duration": 16,
    "start_time": "2024-07-03T18:51:13.366Z"
   },
   {
    "duration": 48,
    "start_time": "2024-07-03T18:51:13.386Z"
   },
   {
    "duration": 147,
    "start_time": "2024-07-03T18:51:13.437Z"
   },
   {
    "duration": 10,
    "start_time": "2024-07-03T18:51:13.587Z"
   },
   {
    "duration": 31,
    "start_time": "2024-07-03T18:51:13.600Z"
   },
   {
    "duration": 10,
    "start_time": "2024-07-03T18:51:13.634Z"
   },
   {
    "duration": 9,
    "start_time": "2024-07-03T18:51:13.646Z"
   },
   {
    "duration": 78,
    "start_time": "2024-07-03T18:51:13.659Z"
   },
   {
    "duration": 35,
    "start_time": "2024-07-03T18:51:13.739Z"
   },
   {
    "duration": 1118,
    "start_time": "2024-07-03T18:51:13.777Z"
   },
   {
    "duration": 543,
    "start_time": "2024-07-03T18:51:14.898Z"
   },
   {
    "duration": 566,
    "start_time": "2024-07-03T18:51:15.444Z"
   },
   {
    "duration": 16,
    "start_time": "2024-07-03T18:51:16.013Z"
   },
   {
    "duration": 2654,
    "start_time": "2024-07-03T18:51:16.032Z"
   },
   {
    "duration": 46,
    "start_time": "2024-07-03T18:51:18.689Z"
   },
   {
    "duration": 38,
    "start_time": "2024-07-03T18:51:18.738Z"
   },
   {
    "duration": 4,
    "start_time": "2024-07-03T18:51:18.779Z"
   },
   {
    "duration": 6,
    "start_time": "2024-07-03T18:51:18.791Z"
   },
   {
    "duration": 39,
    "start_time": "2024-07-03T18:51:18.799Z"
   },
   {
    "duration": 7,
    "start_time": "2024-07-03T18:51:18.841Z"
   },
   {
    "duration": 12,
    "start_time": "2024-07-03T18:51:18.852Z"
   },
   {
    "duration": 8,
    "start_time": "2024-07-03T18:51:18.867Z"
   },
   {
    "duration": 59,
    "start_time": "2024-07-03T18:51:18.878Z"
   },
   {
    "duration": 8,
    "start_time": "2024-07-03T18:51:18.941Z"
   },
   {
    "duration": 1292,
    "start_time": "2024-07-03T18:51:18.954Z"
   },
   {
    "duration": 0,
    "start_time": "2024-07-03T18:51:20.248Z"
   },
   {
    "duration": 6,
    "start_time": "2024-07-03T18:52:57.600Z"
   },
   {
    "duration": 7,
    "start_time": "2024-07-03T18:52:58.168Z"
   },
   {
    "duration": 7,
    "start_time": "2024-07-03T18:52:58.876Z"
   },
   {
    "duration": 12,
    "start_time": "2024-07-03T18:52:59.693Z"
   },
   {
    "duration": 7,
    "start_time": "2024-07-03T18:53:00.480Z"
   },
   {
    "duration": 9,
    "start_time": "2024-07-03T18:53:01.106Z"
   },
   {
    "duration": 6,
    "start_time": "2024-07-03T18:53:02.774Z"
   },
   {
    "duration": 359,
    "start_time": "2024-07-03T18:53:03.535Z"
   },
   {
    "duration": 8,
    "start_time": "2024-07-03T18:53:17.788Z"
   },
   {
    "duration": 6,
    "start_time": "2024-07-03T18:53:37.526Z"
   },
   {
    "duration": 849,
    "start_time": "2024-07-03T18:53:38.008Z"
   },
   {
    "duration": 10,
    "start_time": "2024-07-03T18:53:38.861Z"
   },
   {
    "duration": 775,
    "start_time": "2024-07-03T18:53:38.875Z"
   },
   {
    "duration": 4,
    "start_time": "2024-07-03T18:53:39.653Z"
   },
   {
    "duration": 25,
    "start_time": "2024-07-03T18:53:39.660Z"
   },
   {
    "duration": 14,
    "start_time": "2024-07-03T18:53:39.849Z"
   },
   {
    "duration": 11,
    "start_time": "2024-07-03T18:53:40.709Z"
   },
   {
    "duration": 267,
    "start_time": "2024-07-03T18:53:41.308Z"
   },
   {
    "duration": 14,
    "start_time": "2024-07-03T18:53:41.579Z"
   },
   {
    "duration": 13,
    "start_time": "2024-07-03T18:53:41.706Z"
   },
   {
    "duration": 16,
    "start_time": "2024-07-03T18:53:41.909Z"
   },
   {
    "duration": 135,
    "start_time": "2024-07-03T18:53:42.522Z"
   },
   {
    "duration": 10,
    "start_time": "2024-07-03T18:53:42.660Z"
   },
   {
    "duration": 8,
    "start_time": "2024-07-03T18:53:42.723Z"
   },
   {
    "duration": 10,
    "start_time": "2024-07-03T18:53:42.943Z"
   },
   {
    "duration": 9,
    "start_time": "2024-07-03T18:53:43.720Z"
   },
   {
    "duration": 35,
    "start_time": "2024-07-03T18:53:43.922Z"
   },
   {
    "duration": 35,
    "start_time": "2024-07-03T18:53:44.105Z"
   },
   {
    "duration": 1172,
    "start_time": "2024-07-03T18:53:44.310Z"
   },
   {
    "duration": 581,
    "start_time": "2024-07-03T18:53:45.486Z"
   },
   {
    "duration": 564,
    "start_time": "2024-07-03T18:53:46.071Z"
   },
   {
    "duration": 7,
    "start_time": "2024-07-03T18:53:46.639Z"
   },
   {
    "duration": 2858,
    "start_time": "2024-07-03T18:53:46.649Z"
   },
   {
    "duration": 47,
    "start_time": "2024-07-03T18:53:49.512Z"
   },
   {
    "duration": 39,
    "start_time": "2024-07-03T18:53:49.562Z"
   },
   {
    "duration": 29,
    "start_time": "2024-07-03T18:53:49.604Z"
   },
   {
    "duration": 8,
    "start_time": "2024-07-03T18:53:49.636Z"
   },
   {
    "duration": 7,
    "start_time": "2024-07-03T18:53:49.649Z"
   },
   {
    "duration": 8,
    "start_time": "2024-07-03T18:53:49.659Z"
   },
   {
    "duration": 12,
    "start_time": "2024-07-03T18:53:49.670Z"
   },
   {
    "duration": 53,
    "start_time": "2024-07-03T18:53:49.684Z"
   },
   {
    "duration": 9,
    "start_time": "2024-07-03T18:53:49.740Z"
   },
   {
    "duration": 8,
    "start_time": "2024-07-03T18:53:51.340Z"
   },
   {
    "duration": 325,
    "start_time": "2024-07-03T18:53:52.273Z"
   },
   {
    "duration": 103614,
    "start_time": "2024-07-03T18:53:53.687Z"
   },
   {
    "duration": 370,
    "start_time": "2024-07-03T18:57:34.720Z"
   },
   {
    "duration": 9,
    "start_time": "2024-07-03T18:59:51.099Z"
   },
   {
    "duration": 1092,
    "start_time": "2024-07-03T18:59:51.861Z"
   },
   {
    "duration": 1628,
    "start_time": "2024-07-03T19:00:30.216Z"
   },
   {
    "duration": 906,
    "start_time": "2024-07-03T19:00:31.847Z"
   },
   {
    "duration": 11,
    "start_time": "2024-07-03T19:00:32.756Z"
   },
   {
    "duration": 766,
    "start_time": "2024-07-03T19:00:32.772Z"
   },
   {
    "duration": 3,
    "start_time": "2024-07-03T19:00:33.541Z"
   },
   {
    "duration": 24,
    "start_time": "2024-07-03T19:00:33.548Z"
   },
   {
    "duration": 18,
    "start_time": "2024-07-03T19:00:33.575Z"
   },
   {
    "duration": 14,
    "start_time": "2024-07-03T19:00:33.631Z"
   },
   {
    "duration": 304,
    "start_time": "2024-07-03T19:00:33.648Z"
   },
   {
    "duration": 14,
    "start_time": "2024-07-03T19:00:33.958Z"
   },
   {
    "duration": 14,
    "start_time": "2024-07-03T19:00:33.974Z"
   },
   {
    "duration": 50,
    "start_time": "2024-07-03T19:00:33.991Z"
   },
   {
    "duration": 154,
    "start_time": "2024-07-03T19:00:34.045Z"
   },
   {
    "duration": 11,
    "start_time": "2024-07-03T19:00:34.202Z"
   },
   {
    "duration": 21,
    "start_time": "2024-07-03T19:00:34.216Z"
   },
   {
    "duration": 10,
    "start_time": "2024-07-03T19:00:34.240Z"
   },
   {
    "duration": 8,
    "start_time": "2024-07-03T19:00:34.252Z"
   },
   {
    "duration": 80,
    "start_time": "2024-07-03T19:00:34.264Z"
   },
   {
    "duration": 35,
    "start_time": "2024-07-03T19:00:34.347Z"
   },
   {
    "duration": 1106,
    "start_time": "2024-07-03T19:00:34.385Z"
   },
   {
    "duration": 590,
    "start_time": "2024-07-03T19:00:35.494Z"
   },
   {
    "duration": 564,
    "start_time": "2024-07-03T19:00:36.087Z"
   },
   {
    "duration": 7,
    "start_time": "2024-07-03T19:00:36.654Z"
   },
   {
    "duration": 2702,
    "start_time": "2024-07-03T19:00:36.664Z"
   },
   {
    "duration": 38,
    "start_time": "2024-07-03T19:00:39.369Z"
   },
   {
    "duration": 37,
    "start_time": "2024-07-03T19:00:39.430Z"
   },
   {
    "duration": 5,
    "start_time": "2024-07-03T19:00:39.470Z"
   },
   {
    "duration": 7,
    "start_time": "2024-07-03T19:00:39.483Z"
   },
   {
    "duration": 40,
    "start_time": "2024-07-03T19:00:39.493Z"
   },
   {
    "duration": 8,
    "start_time": "2024-07-03T19:00:39.535Z"
   },
   {
    "duration": 13,
    "start_time": "2024-07-03T19:00:39.547Z"
   },
   {
    "duration": 9,
    "start_time": "2024-07-03T19:00:39.562Z"
   },
   {
    "duration": 56,
    "start_time": "2024-07-03T19:00:39.574Z"
   },
   {
    "duration": 8,
    "start_time": "2024-07-03T19:00:39.633Z"
   },
   {
    "duration": 1913,
    "start_time": "2024-07-03T19:00:39.644Z"
   },
   {
    "duration": 0,
    "start_time": "2024-07-03T19:00:41.561Z"
   },
   {
    "duration": 378,
    "start_time": "2024-07-03T19:01:51.015Z"
   },
   {
    "duration": 374,
    "start_time": "2024-07-03T19:01:59.588Z"
   },
   {
    "duration": 8,
    "start_time": "2024-07-03T19:02:03.296Z"
   },
   {
    "duration": 387,
    "start_time": "2024-07-03T19:02:04.564Z"
   },
   {
    "duration": 6,
    "start_time": "2024-07-03T19:02:33.279Z"
   },
   {
    "duration": 848,
    "start_time": "2024-07-03T19:02:33.861Z"
   },
   {
    "duration": 24,
    "start_time": "2024-07-03T19:02:34.713Z"
   },
   {
    "duration": 764,
    "start_time": "2024-07-03T19:02:35.214Z"
   },
   {
    "duration": 4,
    "start_time": "2024-07-03T19:02:35.981Z"
   },
   {
    "duration": 49,
    "start_time": "2024-07-03T19:02:35.988Z"
   },
   {
    "duration": 16,
    "start_time": "2024-07-03T19:02:36.579Z"
   },
   {
    "duration": 10,
    "start_time": "2024-07-03T19:02:37.550Z"
   },
   {
    "duration": 289,
    "start_time": "2024-07-03T19:02:38.256Z"
   },
   {
    "duration": 14,
    "start_time": "2024-07-03T19:02:38.549Z"
   },
   {
    "duration": 13,
    "start_time": "2024-07-03T19:02:38.703Z"
   },
   {
    "duration": 16,
    "start_time": "2024-07-03T19:02:38.937Z"
   },
   {
    "duration": 133,
    "start_time": "2024-07-03T19:02:39.398Z"
   },
   {
    "duration": 11,
    "start_time": "2024-07-03T19:02:39.613Z"
   },
   {
    "duration": 9,
    "start_time": "2024-07-03T19:02:39.833Z"
   },
   {
    "duration": 10,
    "start_time": "2024-07-03T19:02:40.045Z"
   },
   {
    "duration": 9,
    "start_time": "2024-07-03T19:02:40.945Z"
   },
   {
    "duration": 38,
    "start_time": "2024-07-03T19:02:41.160Z"
   },
   {
    "duration": 35,
    "start_time": "2024-07-03T19:02:41.389Z"
   },
   {
    "duration": 1080,
    "start_time": "2024-07-03T19:02:41.605Z"
   },
   {
    "duration": 568,
    "start_time": "2024-07-03T19:02:42.709Z"
   },
   {
    "duration": 567,
    "start_time": "2024-07-03T19:02:43.281Z"
   },
   {
    "duration": 8,
    "start_time": "2024-07-03T19:02:43.851Z"
   },
   {
    "duration": 2693,
    "start_time": "2024-07-03T19:02:43.862Z"
   },
   {
    "duration": 32,
    "start_time": "2024-07-03T19:02:46.559Z"
   },
   {
    "duration": 71,
    "start_time": "2024-07-03T19:02:46.595Z"
   },
   {
    "duration": 9,
    "start_time": "2024-07-03T19:02:46.670Z"
   },
   {
    "duration": 10,
    "start_time": "2024-07-03T19:02:46.682Z"
   },
   {
    "duration": 36,
    "start_time": "2024-07-03T19:02:46.698Z"
   },
   {
    "duration": 7,
    "start_time": "2024-07-03T19:02:46.738Z"
   },
   {
    "duration": 12,
    "start_time": "2024-07-03T19:02:46.840Z"
   },
   {
    "duration": 8,
    "start_time": "2024-07-03T19:02:47.267Z"
   },
   {
    "duration": 11,
    "start_time": "2024-07-03T19:02:47.777Z"
   },
   {
    "duration": 7,
    "start_time": "2024-07-03T19:02:49.440Z"
   },
   {
    "duration": 352,
    "start_time": "2024-07-03T19:02:50.478Z"
   },
   {
    "duration": 6,
    "start_time": "2024-07-03T19:04:13.851Z"
   },
   {
    "duration": 478,
    "start_time": "2024-07-03T19:04:21.820Z"
   },
   {
    "duration": 7,
    "start_time": "2024-07-03T19:04:25.173Z"
   },
   {
    "duration": 7,
    "start_time": "2024-07-03T19:05:18.116Z"
   },
   {
    "duration": 7,
    "start_time": "2024-07-03T19:05:18.591Z"
   },
   {
    "duration": 6,
    "start_time": "2024-07-03T19:05:19.011Z"
   },
   {
    "duration": 66,
    "start_time": "2024-07-03T19:05:19.398Z"
   },
   {
    "duration": 8,
    "start_time": "2024-07-03T19:05:19.788Z"
   },
   {
    "duration": 10,
    "start_time": "2024-07-03T19:05:20.419Z"
   },
   {
    "duration": 7,
    "start_time": "2024-07-03T19:05:21.921Z"
   },
   {
    "duration": 953,
    "start_time": "2024-07-03T19:05:22.898Z"
   },
   {
    "duration": 53,
    "start_time": "2024-07-03T19:05:41.766Z"
   },
   {
    "duration": 44,
    "start_time": "2024-07-03T19:07:39.125Z"
   },
   {
    "duration": 5,
    "start_time": "2024-07-03T19:07:57.774Z"
   },
   {
    "duration": 7,
    "start_time": "2024-07-03T19:07:58.234Z"
   },
   {
    "duration": 8,
    "start_time": "2024-07-03T19:07:58.574Z"
   },
   {
    "duration": 14,
    "start_time": "2024-07-03T19:07:59.005Z"
   },
   {
    "duration": 8,
    "start_time": "2024-07-03T19:07:59.768Z"
   },
   {
    "duration": 9,
    "start_time": "2024-07-03T19:08:00.311Z"
   },
   {
    "duration": 7,
    "start_time": "2024-07-03T19:08:01.616Z"
   },
   {
    "duration": 363,
    "start_time": "2024-07-03T19:08:02.829Z"
   },
   {
    "duration": 497,
    "start_time": "2024-07-03T19:09:22.733Z"
   },
   {
    "duration": 326,
    "start_time": "2024-07-03T19:10:23.240Z"
   },
   {
    "duration": 124,
    "start_time": "2024-07-03T19:10:55.840Z"
   },
   {
    "duration": 86,
    "start_time": "2024-07-03T19:11:14.903Z"
   },
   {
    "duration": 223,
    "start_time": "2024-07-03T19:16:00.286Z"
   },
   {
    "duration": 92,
    "start_time": "2024-07-03T19:16:19.722Z"
   },
   {
    "duration": 8,
    "start_time": "2024-07-03T19:16:26.350Z"
   },
   {
    "duration": 9,
    "start_time": "2024-07-03T19:16:57.200Z"
   },
   {
    "duration": 5234,
    "start_time": "2024-07-03T21:37:34.480Z"
   },
   {
    "duration": 1030,
    "start_time": "2024-07-03T21:37:39.718Z"
   },
   {
    "duration": 12,
    "start_time": "2024-07-03T21:37:40.751Z"
   },
   {
    "duration": 770,
    "start_time": "2024-07-03T21:37:40.768Z"
   },
   {
    "duration": 4,
    "start_time": "2024-07-03T21:37:41.541Z"
   },
   {
    "duration": 24,
    "start_time": "2024-07-03T21:37:41.548Z"
   },
   {
    "duration": 16,
    "start_time": "2024-07-03T21:37:41.576Z"
   },
   {
    "duration": 44,
    "start_time": "2024-07-03T21:37:41.595Z"
   },
   {
    "duration": 324,
    "start_time": "2024-07-03T21:37:41.645Z"
   },
   {
    "duration": 14,
    "start_time": "2024-07-03T21:37:41.972Z"
   },
   {
    "duration": 53,
    "start_time": "2024-07-03T21:37:41.989Z"
   },
   {
    "duration": 15,
    "start_time": "2024-07-03T21:37:42.051Z"
   },
   {
    "duration": 138,
    "start_time": "2024-07-03T21:37:42.164Z"
   },
   {
    "duration": 11,
    "start_time": "2024-07-03T21:37:42.398Z"
   },
   {
    "duration": 8,
    "start_time": "2024-07-03T21:37:42.656Z"
   },
   {
    "duration": 17,
    "start_time": "2024-07-03T21:37:42.901Z"
   },
   {
    "duration": 9,
    "start_time": "2024-07-03T21:37:43.848Z"
   },
   {
    "duration": 36,
    "start_time": "2024-07-03T21:37:44.097Z"
   },
   {
    "duration": 36,
    "start_time": "2024-07-03T21:37:44.505Z"
   },
   {
    "duration": 1028,
    "start_time": "2024-07-03T21:37:44.955Z"
   },
   {
    "duration": 561,
    "start_time": "2024-07-03T21:37:45.987Z"
   },
   {
    "duration": 635,
    "start_time": "2024-07-03T21:37:46.552Z"
   },
   {
    "duration": 8,
    "start_time": "2024-07-03T21:37:47.369Z"
   },
   {
    "duration": 2539,
    "start_time": "2024-07-03T21:37:47.710Z"
   },
   {
    "duration": 35,
    "start_time": "2024-07-03T21:37:50.252Z"
   },
   {
    "duration": 58,
    "start_time": "2024-07-03T21:37:50.290Z"
   },
   {
    "duration": 5,
    "start_time": "2024-07-03T21:37:51.022Z"
   },
   {
    "duration": 7,
    "start_time": "2024-07-03T21:37:51.558Z"
   },
   {
    "duration": 7,
    "start_time": "2024-07-03T21:37:52.122Z"
   },
   {
    "duration": 7,
    "start_time": "2024-07-03T21:37:52.651Z"
   },
   {
    "duration": 118,
    "start_time": "2024-07-03T21:37:53.436Z"
   },
   {
    "duration": 9,
    "start_time": "2024-07-03T21:37:54.071Z"
   },
   {
    "duration": 10,
    "start_time": "2024-07-03T21:37:54.664Z"
   },
   {
    "duration": 7,
    "start_time": "2024-07-03T21:37:56.611Z"
   },
   {
    "duration": 1190,
    "start_time": "2024-07-03T21:38:34.752Z"
   },
   {
    "duration": 5274,
    "start_time": "2024-07-08T13:09:16.729Z"
   },
   {
    "duration": 1118,
    "start_time": "2024-07-08T13:09:22.007Z"
   },
   {
    "duration": 11,
    "start_time": "2024-07-08T13:09:23.129Z"
   },
   {
    "duration": 798,
    "start_time": "2024-07-08T13:09:23.144Z"
   },
   {
    "duration": 4,
    "start_time": "2024-07-08T13:09:23.945Z"
   },
   {
    "duration": 24,
    "start_time": "2024-07-08T13:09:23.954Z"
   },
   {
    "duration": 48,
    "start_time": "2024-07-08T13:09:23.982Z"
   },
   {
    "duration": 11,
    "start_time": "2024-07-08T13:09:24.034Z"
   },
   {
    "duration": 330,
    "start_time": "2024-07-08T13:09:24.049Z"
   },
   {
    "duration": 32,
    "start_time": "2024-07-08T13:09:24.385Z"
   },
   {
    "duration": 14,
    "start_time": "2024-07-08T13:09:24.421Z"
   },
   {
    "duration": 17,
    "start_time": "2024-07-08T13:09:24.437Z"
   },
   {
    "duration": 188,
    "start_time": "2024-07-08T13:09:24.457Z"
   },
   {
    "duration": 12,
    "start_time": "2024-07-08T13:09:24.649Z"
   },
   {
    "duration": 9,
    "start_time": "2024-07-08T13:09:24.664Z"
   },
   {
    "duration": 44,
    "start_time": "2024-07-08T13:09:24.676Z"
   },
   {
    "duration": 10,
    "start_time": "2024-07-08T13:09:24.724Z"
   },
   {
    "duration": 89,
    "start_time": "2024-07-08T13:09:24.738Z"
   },
   {
    "duration": 49,
    "start_time": "2024-07-08T13:09:24.832Z"
   },
   {
    "duration": 1252,
    "start_time": "2024-07-08T13:09:24.885Z"
   },
   {
    "duration": 585,
    "start_time": "2024-07-08T13:09:26.140Z"
   },
   {
    "duration": 635,
    "start_time": "2024-07-08T13:09:26.729Z"
   },
   {
    "duration": 9,
    "start_time": "2024-07-08T13:09:27.367Z"
   },
   {
    "duration": 2839,
    "start_time": "2024-07-08T13:09:27.379Z"
   },
   {
    "duration": 32,
    "start_time": "2024-07-08T13:09:30.221Z"
   },
   {
    "duration": 63,
    "start_time": "2024-07-08T13:09:30.256Z"
   },
   {
    "duration": 6,
    "start_time": "2024-07-08T13:09:30.322Z"
   },
   {
    "duration": 6,
    "start_time": "2024-07-08T13:09:30.337Z"
   },
   {
    "duration": 7,
    "start_time": "2024-07-08T13:09:30.347Z"
   },
   {
    "duration": 8,
    "start_time": "2024-07-08T13:09:30.358Z"
   },
   {
    "duration": 51,
    "start_time": "2024-07-08T13:09:30.371Z"
   },
   {
    "duration": 8,
    "start_time": "2024-07-08T13:09:30.425Z"
   },
   {
    "duration": 11,
    "start_time": "2024-07-08T13:09:30.437Z"
   },
   {
    "duration": 6,
    "start_time": "2024-07-08T13:09:30.451Z"
   },
   {
    "duration": 53,
    "start_time": "2024-07-08T13:09:30.460Z"
   },
   {
    "duration": 2825,
    "start_time": "2024-07-08T13:09:30.516Z"
   },
   {
    "duration": 0,
    "start_time": "2024-07-08T13:09:33.346Z"
   },
   {
    "duration": 6,
    "start_time": "2024-07-08T13:12:01.440Z"
   },
   {
    "duration": 819,
    "start_time": "2024-07-08T13:12:01.734Z"
   },
   {
    "duration": 10,
    "start_time": "2024-07-08T13:12:02.557Z"
   },
   {
    "duration": 799,
    "start_time": "2024-07-08T13:12:02.570Z"
   },
   {
    "duration": 4,
    "start_time": "2024-07-08T13:12:03.374Z"
   },
   {
    "duration": 48,
    "start_time": "2024-07-08T13:12:03.381Z"
   },
   {
    "duration": 16,
    "start_time": "2024-07-08T13:12:03.435Z"
   },
   {
    "duration": 12,
    "start_time": "2024-07-08T13:12:04.385Z"
   },
   {
    "duration": 266,
    "start_time": "2024-07-08T13:12:05.095Z"
   },
   {
    "duration": 15,
    "start_time": "2024-07-08T13:12:05.365Z"
   },
   {
    "duration": 13,
    "start_time": "2024-07-08T13:12:05.562Z"
   },
   {
    "duration": 15,
    "start_time": "2024-07-08T13:12:05.779Z"
   },
   {
    "duration": 149,
    "start_time": "2024-07-08T13:12:06.219Z"
   },
   {
    "duration": 11,
    "start_time": "2024-07-08T13:12:06.440Z"
   },
   {
    "duration": 10,
    "start_time": "2024-07-08T13:12:06.663Z"
   },
   {
    "duration": 9,
    "start_time": "2024-07-08T13:12:06.885Z"
   },
   {
    "duration": 10,
    "start_time": "2024-07-08T13:12:07.822Z"
   },
   {
    "duration": 40,
    "start_time": "2024-07-08T13:12:08.033Z"
   },
   {
    "duration": 36,
    "start_time": "2024-07-08T13:12:08.274Z"
   },
   {
    "duration": 1144,
    "start_time": "2024-07-08T13:12:08.489Z"
   },
   {
    "duration": 572,
    "start_time": "2024-07-08T13:12:09.636Z"
   },
   {
    "duration": 584,
    "start_time": "2024-07-08T13:12:10.216Z"
   },
   {
    "duration": 9,
    "start_time": "2024-07-08T13:12:10.804Z"
   },
   {
    "duration": 3060,
    "start_time": "2024-07-08T13:12:10.816Z"
   },
   {
    "duration": 45,
    "start_time": "2024-07-08T13:12:13.881Z"
   },
   {
    "duration": 39,
    "start_time": "2024-07-08T13:12:13.932Z"
   },
   {
    "duration": 5,
    "start_time": "2024-07-08T13:12:13.974Z"
   },
   {
    "duration": 32,
    "start_time": "2024-07-08T13:12:13.982Z"
   },
   {
    "duration": 11,
    "start_time": "2024-07-08T13:12:14.021Z"
   },
   {
    "duration": 8,
    "start_time": "2024-07-08T13:12:14.035Z"
   },
   {
    "duration": 15,
    "start_time": "2024-07-08T13:12:14.047Z"
   },
   {
    "duration": 49,
    "start_time": "2024-07-08T13:12:14.066Z"
   },
   {
    "duration": 10,
    "start_time": "2024-07-08T13:12:14.122Z"
   },
   {
    "duration": 4,
    "start_time": "2024-07-08T13:12:16.004Z"
   },
   {
    "duration": 6,
    "start_time": "2024-07-08T13:12:16.592Z"
   },
   {
    "duration": 1067,
    "start_time": "2024-07-08T13:12:18.062Z"
   },
   {
    "duration": 1575,
    "start_time": "2024-07-08T13:13:15.236Z"
   },
   {
    "duration": 911,
    "start_time": "2024-07-08T13:13:16.816Z"
   },
   {
    "duration": 14,
    "start_time": "2024-07-08T13:13:17.730Z"
   },
   {
    "duration": 826,
    "start_time": "2024-07-08T13:13:17.748Z"
   },
   {
    "duration": 3,
    "start_time": "2024-07-08T13:13:18.579Z"
   },
   {
    "duration": 45,
    "start_time": "2024-07-08T13:13:18.586Z"
   },
   {
    "duration": 24,
    "start_time": "2024-07-08T13:13:18.633Z"
   },
   {
    "duration": 11,
    "start_time": "2024-07-08T13:13:18.660Z"
   },
   {
    "duration": 304,
    "start_time": "2024-07-08T13:13:18.674Z"
   },
   {
    "duration": 14,
    "start_time": "2024-07-08T13:13:18.981Z"
   },
   {
    "duration": 12,
    "start_time": "2024-07-08T13:13:19.021Z"
   },
   {
    "duration": 15,
    "start_time": "2024-07-08T13:13:19.036Z"
   },
   {
    "duration": 162,
    "start_time": "2024-07-08T13:13:19.055Z"
   },
   {
    "duration": 16,
    "start_time": "2024-07-08T13:13:19.225Z"
   },
   {
    "duration": 10,
    "start_time": "2024-07-08T13:13:19.247Z"
   },
   {
    "duration": 12,
    "start_time": "2024-07-08T13:13:19.261Z"
   },
   {
    "duration": 41,
    "start_time": "2024-07-08T13:13:19.276Z"
   },
   {
    "duration": 47,
    "start_time": "2024-07-08T13:13:19.320Z"
   },
   {
    "duration": 64,
    "start_time": "2024-07-08T13:13:19.371Z"
   },
   {
    "duration": 1031,
    "start_time": "2024-07-08T13:13:19.438Z"
   },
   {
    "duration": 560,
    "start_time": "2024-07-08T13:13:20.472Z"
   },
   {
    "duration": 569,
    "start_time": "2024-07-08T13:13:21.038Z"
   },
   {
    "duration": 9,
    "start_time": "2024-07-08T13:13:21.617Z"
   },
   {
    "duration": 2635,
    "start_time": "2024-07-08T13:13:21.629Z"
   },
   {
    "duration": 47,
    "start_time": "2024-07-08T13:13:24.267Z"
   },
   {
    "duration": 41,
    "start_time": "2024-07-08T13:13:24.326Z"
   },
   {
    "duration": 5,
    "start_time": "2024-07-08T13:13:24.370Z"
   },
   {
    "duration": 7,
    "start_time": "2024-07-08T13:13:24.378Z"
   },
   {
    "duration": 27,
    "start_time": "2024-07-08T13:13:24.388Z"
   },
   {
    "duration": 9,
    "start_time": "2024-07-08T13:13:24.418Z"
   },
   {
    "duration": 13,
    "start_time": "2024-07-08T13:13:24.446Z"
   },
   {
    "duration": 8,
    "start_time": "2024-07-08T13:13:24.462Z"
   },
   {
    "duration": 11,
    "start_time": "2024-07-08T13:13:24.473Z"
   },
   {
    "duration": 4,
    "start_time": "2024-07-08T13:13:24.513Z"
   },
   {
    "duration": 11,
    "start_time": "2024-07-08T13:13:24.520Z"
   },
   {
    "duration": 1212,
    "start_time": "2024-07-08T13:13:24.534Z"
   },
   {
    "duration": 689,
    "start_time": "2024-07-08T13:13:25.756Z"
   },
   {
    "duration": 1829,
    "start_time": "2024-07-08T13:14:22.449Z"
   },
   {
    "duration": 1135,
    "start_time": "2024-07-08T13:14:24.283Z"
   },
   {
    "duration": 12,
    "start_time": "2024-07-08T13:14:25.421Z"
   },
   {
    "duration": 775,
    "start_time": "2024-07-08T13:14:25.438Z"
   },
   {
    "duration": 3,
    "start_time": "2024-07-08T13:14:26.218Z"
   },
   {
    "duration": 26,
    "start_time": "2024-07-08T13:14:26.225Z"
   },
   {
    "duration": 18,
    "start_time": "2024-07-08T13:14:26.254Z"
   },
   {
    "duration": 12,
    "start_time": "2024-07-08T13:14:26.312Z"
   },
   {
    "duration": 298,
    "start_time": "2024-07-08T13:14:26.327Z"
   },
   {
    "duration": 14,
    "start_time": "2024-07-08T13:14:26.629Z"
   },
   {
    "duration": 14,
    "start_time": "2024-07-08T13:14:26.646Z"
   },
   {
    "duration": 54,
    "start_time": "2024-07-08T13:14:26.663Z"
   },
   {
    "duration": 169,
    "start_time": "2024-07-08T13:14:26.720Z"
   },
   {
    "duration": 22,
    "start_time": "2024-07-08T13:14:26.897Z"
   },
   {
    "duration": 9,
    "start_time": "2024-07-08T13:14:26.921Z"
   },
   {
    "duration": 10,
    "start_time": "2024-07-08T13:14:26.934Z"
   },
   {
    "duration": 8,
    "start_time": "2024-07-08T13:14:26.947Z"
   },
   {
    "duration": 78,
    "start_time": "2024-07-08T13:14:26.958Z"
   },
   {
    "duration": 35,
    "start_time": "2024-07-08T13:14:27.039Z"
   },
   {
    "duration": 1089,
    "start_time": "2024-07-08T13:14:27.076Z"
   },
   {
    "duration": 542,
    "start_time": "2024-07-08T13:14:28.168Z"
   },
   {
    "duration": 598,
    "start_time": "2024-07-08T13:14:28.714Z"
   },
   {
    "duration": 7,
    "start_time": "2024-07-08T13:14:29.316Z"
   },
   {
    "duration": 2618,
    "start_time": "2024-07-08T13:14:29.326Z"
   },
   {
    "duration": 34,
    "start_time": "2024-07-08T13:14:31.947Z"
   },
   {
    "duration": 58,
    "start_time": "2024-07-08T13:14:31.985Z"
   },
   {
    "duration": 6,
    "start_time": "2024-07-08T13:14:32.046Z"
   },
   {
    "duration": 7,
    "start_time": "2024-07-08T13:14:32.055Z"
   },
   {
    "duration": 46,
    "start_time": "2024-07-08T13:14:32.066Z"
   },
   {
    "duration": 8,
    "start_time": "2024-07-08T13:14:32.116Z"
   },
   {
    "duration": 12,
    "start_time": "2024-07-08T13:14:32.127Z"
   },
   {
    "duration": 9,
    "start_time": "2024-07-08T13:14:32.142Z"
   },
   {
    "duration": 11,
    "start_time": "2024-07-08T13:14:32.154Z"
   },
   {
    "duration": 4,
    "start_time": "2024-07-08T13:14:32.213Z"
   },
   {
    "duration": 7,
    "start_time": "2024-07-08T13:14:32.220Z"
   },
   {
    "duration": 885,
    "start_time": "2024-07-08T13:14:32.230Z"
   },
   {
    "duration": 648,
    "start_time": "2024-07-08T13:14:33.118Z"
   },
   {
    "duration": 1658,
    "start_time": "2024-07-08T13:14:51.825Z"
   },
   {
    "duration": 878,
    "start_time": "2024-07-08T13:14:53.486Z"
   },
   {
    "duration": 11,
    "start_time": "2024-07-08T13:14:54.367Z"
   },
   {
    "duration": 752,
    "start_time": "2024-07-08T13:14:54.411Z"
   },
   {
    "duration": 4,
    "start_time": "2024-07-08T13:14:55.166Z"
   },
   {
    "duration": 49,
    "start_time": "2024-07-08T13:14:55.174Z"
   },
   {
    "duration": 21,
    "start_time": "2024-07-08T13:14:55.228Z"
   },
   {
    "duration": 14,
    "start_time": "2024-07-08T13:14:55.253Z"
   },
   {
    "duration": 324,
    "start_time": "2024-07-08T13:14:55.270Z"
   },
   {
    "duration": 14,
    "start_time": "2024-07-08T13:14:55.602Z"
   },
   {
    "duration": 13,
    "start_time": "2024-07-08T13:14:55.618Z"
   },
   {
    "duration": 16,
    "start_time": "2024-07-08T13:14:55.634Z"
   },
   {
    "duration": 188,
    "start_time": "2024-07-08T13:14:55.654Z"
   },
   {
    "duration": 11,
    "start_time": "2024-07-08T13:14:55.845Z"
   },
   {
    "duration": 9,
    "start_time": "2024-07-08T13:14:55.860Z"
   },
   {
    "duration": 42,
    "start_time": "2024-07-08T13:14:55.872Z"
   },
   {
    "duration": 9,
    "start_time": "2024-07-08T13:14:55.917Z"
   },
   {
    "duration": 36,
    "start_time": "2024-07-08T13:14:55.929Z"
   },
   {
    "duration": 73,
    "start_time": "2024-07-08T13:14:55.968Z"
   },
   {
    "duration": 1069,
    "start_time": "2024-07-08T13:14:56.044Z"
   },
   {
    "duration": 600,
    "start_time": "2024-07-08T13:14:57.117Z"
   },
   {
    "duration": 675,
    "start_time": "2024-07-08T13:14:57.728Z"
   },
   {
    "duration": 11,
    "start_time": "2024-07-08T13:14:58.406Z"
   },
   {
    "duration": 2767,
    "start_time": "2024-07-08T13:14:58.420Z"
   },
   {
    "duration": 47,
    "start_time": "2024-07-08T13:15:01.190Z"
   },
   {
    "duration": 37,
    "start_time": "2024-07-08T13:15:01.243Z"
   },
   {
    "duration": 6,
    "start_time": "2024-07-08T13:15:01.283Z"
   },
   {
    "duration": 6,
    "start_time": "2024-07-08T13:15:01.318Z"
   },
   {
    "duration": 9,
    "start_time": "2024-07-08T13:15:01.328Z"
   },
   {
    "duration": 8,
    "start_time": "2024-07-08T13:15:01.341Z"
   },
   {
    "duration": 59,
    "start_time": "2024-07-08T13:15:01.353Z"
   },
   {
    "duration": 9,
    "start_time": "2024-07-08T13:15:01.416Z"
   },
   {
    "duration": 11,
    "start_time": "2024-07-08T13:15:01.429Z"
   },
   {
    "duration": 6,
    "start_time": "2024-07-08T13:15:01.444Z"
   },
   {
    "duration": 7,
    "start_time": "2024-07-08T13:15:01.455Z"
   },
   {
    "duration": 1004,
    "start_time": "2024-07-08T13:15:01.513Z"
   },
   {
    "duration": 1638,
    "start_time": "2024-07-08T13:18:20.946Z"
   },
   {
    "duration": 943,
    "start_time": "2024-07-08T13:18:22.588Z"
   },
   {
    "duration": 17,
    "start_time": "2024-07-08T13:18:23.536Z"
   },
   {
    "duration": 807,
    "start_time": "2024-07-08T13:18:23.557Z"
   },
   {
    "duration": 3,
    "start_time": "2024-07-08T13:18:24.371Z"
   },
   {
    "duration": 53,
    "start_time": "2024-07-08T13:18:24.378Z"
   },
   {
    "duration": 17,
    "start_time": "2024-07-08T13:18:24.433Z"
   },
   {
    "duration": 12,
    "start_time": "2024-07-08T13:18:24.454Z"
   },
   {
    "duration": 320,
    "start_time": "2024-07-08T13:18:24.469Z"
   },
   {
    "duration": 29,
    "start_time": "2024-07-08T13:18:24.792Z"
   },
   {
    "duration": 19,
    "start_time": "2024-07-08T13:18:24.830Z"
   },
   {
    "duration": 16,
    "start_time": "2024-07-08T13:18:24.852Z"
   },
   {
    "duration": 172,
    "start_time": "2024-07-08T13:18:24.871Z"
   },
   {
    "duration": 12,
    "start_time": "2024-07-08T13:18:25.051Z"
   },
   {
    "duration": 10,
    "start_time": "2024-07-08T13:18:25.066Z"
   },
   {
    "duration": 48,
    "start_time": "2024-07-08T13:18:25.079Z"
   },
   {
    "duration": 10,
    "start_time": "2024-07-08T13:18:25.131Z"
   },
   {
    "duration": 37,
    "start_time": "2024-07-08T13:18:25.144Z"
   },
   {
    "duration": 73,
    "start_time": "2024-07-08T13:18:25.184Z"
   },
   {
    "duration": 1100,
    "start_time": "2024-07-08T13:18:25.261Z"
   },
   {
    "duration": 563,
    "start_time": "2024-07-08T13:18:26.365Z"
   },
   {
    "duration": 584,
    "start_time": "2024-07-08T13:18:26.930Z"
   },
   {
    "duration": 13,
    "start_time": "2024-07-08T13:18:27.526Z"
   },
   {
    "duration": 2695,
    "start_time": "2024-07-08T13:18:27.544Z"
   },
   {
    "duration": 34,
    "start_time": "2024-07-08T13:18:30.242Z"
   },
   {
    "duration": 55,
    "start_time": "2024-07-08T13:18:30.280Z"
   },
   {
    "duration": 5,
    "start_time": "2024-07-08T13:18:30.338Z"
   },
   {
    "duration": 9,
    "start_time": "2024-07-08T13:18:30.345Z"
   },
   {
    "duration": 8,
    "start_time": "2024-07-08T13:18:30.358Z"
   },
   {
    "duration": 7,
    "start_time": "2024-07-08T13:18:30.370Z"
   },
   {
    "duration": 42,
    "start_time": "2024-07-08T13:18:30.381Z"
   },
   {
    "duration": 11,
    "start_time": "2024-07-08T13:18:30.427Z"
   },
   {
    "duration": 13,
    "start_time": "2024-07-08T13:18:30.441Z"
   },
   {
    "duration": 6,
    "start_time": "2024-07-08T13:18:30.458Z"
   },
   {
    "duration": 48,
    "start_time": "2024-07-08T13:18:30.470Z"
   },
   {
    "duration": 1332,
    "start_time": "2024-07-08T13:18:30.521Z"
   },
   {
    "duration": 2083,
    "start_time": "2024-07-08T13:22:33.306Z"
   },
   {
    "duration": 1049,
    "start_time": "2024-07-08T13:22:35.392Z"
   },
   {
    "duration": 13,
    "start_time": "2024-07-08T13:22:36.445Z"
   },
   {
    "duration": 794,
    "start_time": "2024-07-08T13:22:36.464Z"
   },
   {
    "duration": 4,
    "start_time": "2024-07-08T13:22:37.261Z"
   },
   {
    "duration": 47,
    "start_time": "2024-07-08T13:22:37.268Z"
   },
   {
    "duration": 17,
    "start_time": "2024-07-08T13:22:37.318Z"
   },
   {
    "duration": 12,
    "start_time": "2024-07-08T13:22:37.338Z"
   },
   {
    "duration": 347,
    "start_time": "2024-07-08T13:22:37.354Z"
   },
   {
    "duration": 15,
    "start_time": "2024-07-08T13:22:37.712Z"
   },
   {
    "duration": 16,
    "start_time": "2024-07-08T13:22:37.730Z"
   },
   {
    "duration": 18,
    "start_time": "2024-07-08T13:22:37.748Z"
   },
   {
    "duration": 200,
    "start_time": "2024-07-08T13:22:37.769Z"
   },
   {
    "duration": 14,
    "start_time": "2024-07-08T13:22:37.972Z"
   },
   {
    "duration": 26,
    "start_time": "2024-07-08T13:22:37.989Z"
   },
   {
    "duration": 12,
    "start_time": "2024-07-08T13:22:38.018Z"
   },
   {
    "duration": 9,
    "start_time": "2024-07-08T13:22:38.033Z"
   },
   {
    "duration": 84,
    "start_time": "2024-07-08T13:22:38.045Z"
   },
   {
    "duration": 42,
    "start_time": "2024-07-08T13:22:38.135Z"
   },
   {
    "duration": 1113,
    "start_time": "2024-07-08T13:22:38.180Z"
   },
   {
    "duration": 570,
    "start_time": "2024-07-08T13:22:39.296Z"
   },
   {
    "duration": 624,
    "start_time": "2024-07-08T13:22:39.870Z"
   },
   {
    "duration": 8,
    "start_time": "2024-07-08T13:22:40.512Z"
   },
   {
    "duration": 2918,
    "start_time": "2024-07-08T13:22:40.524Z"
   },
   {
    "duration": 38,
    "start_time": "2024-07-08T13:22:43.444Z"
   },
   {
    "duration": 55,
    "start_time": "2024-07-08T13:22:43.487Z"
   },
   {
    "duration": 7,
    "start_time": "2024-07-08T13:22:43.546Z"
   },
   {
    "duration": 7,
    "start_time": "2024-07-08T13:22:43.563Z"
   },
   {
    "duration": 9,
    "start_time": "2024-07-08T13:22:43.573Z"
   },
   {
    "duration": 11,
    "start_time": "2024-07-08T13:22:43.617Z"
   },
   {
    "duration": 13,
    "start_time": "2024-07-08T13:22:43.632Z"
   },
   {
    "duration": 9,
    "start_time": "2024-07-08T13:22:43.649Z"
   },
   {
    "duration": 51,
    "start_time": "2024-07-08T13:22:43.662Z"
   },
   {
    "duration": 5,
    "start_time": "2024-07-08T13:22:43.717Z"
   },
   {
    "duration": 8,
    "start_time": "2024-07-08T13:22:43.726Z"
   },
   {
    "duration": 1179,
    "start_time": "2024-07-08T13:22:43.738Z"
   },
   {
    "duration": 1707,
    "start_time": "2024-07-08T13:28:19.109Z"
   },
   {
    "duration": 946,
    "start_time": "2024-07-08T13:28:20.819Z"
   },
   {
    "duration": 12,
    "start_time": "2024-07-08T13:28:21.768Z"
   },
   {
    "duration": 769,
    "start_time": "2024-07-08T13:28:21.812Z"
   },
   {
    "duration": 4,
    "start_time": "2024-07-08T13:28:22.585Z"
   },
   {
    "duration": 47,
    "start_time": "2024-07-08T13:28:22.592Z"
   },
   {
    "duration": 30,
    "start_time": "2024-07-08T13:28:22.641Z"
   },
   {
    "duration": 14,
    "start_time": "2024-07-08T13:28:22.674Z"
   },
   {
    "duration": 313,
    "start_time": "2024-07-08T13:28:22.691Z"
   },
   {
    "duration": 21,
    "start_time": "2024-07-08T13:28:23.008Z"
   },
   {
    "duration": 26,
    "start_time": "2024-07-08T13:28:23.032Z"
   },
   {
    "duration": 18,
    "start_time": "2024-07-08T13:28:23.066Z"
   },
   {
    "duration": 168,
    "start_time": "2024-07-08T13:28:23.087Z"
   },
   {
    "duration": 11,
    "start_time": "2024-07-08T13:28:23.264Z"
   },
   {
    "duration": 9,
    "start_time": "2024-07-08T13:28:23.278Z"
   },
   {
    "duration": 39,
    "start_time": "2024-07-08T13:28:23.290Z"
   },
   {
    "duration": 11,
    "start_time": "2024-07-08T13:28:23.332Z"
   },
   {
    "duration": 37,
    "start_time": "2024-07-08T13:28:23.347Z"
   },
   {
    "duration": 41,
    "start_time": "2024-07-08T13:28:23.413Z"
   },
   {
    "duration": 1123,
    "start_time": "2024-07-08T13:28:23.458Z"
   },
   {
    "duration": 550,
    "start_time": "2024-07-08T13:28:24.584Z"
   },
   {
    "duration": 587,
    "start_time": "2024-07-08T13:28:25.139Z"
   },
   {
    "duration": 9,
    "start_time": "2024-07-08T13:28:25.730Z"
   },
   {
    "duration": 2611,
    "start_time": "2024-07-08T13:28:25.742Z"
   },
   {
    "duration": 70,
    "start_time": "2024-07-08T13:28:28.357Z"
   },
   {
    "duration": 46,
    "start_time": "2024-07-08T13:28:28.442Z"
   },
   {
    "duration": 6,
    "start_time": "2024-07-08T13:28:28.491Z"
   },
   {
    "duration": 23,
    "start_time": "2024-07-08T13:28:28.500Z"
   },
   {
    "duration": 8,
    "start_time": "2024-07-08T13:28:28.537Z"
   },
   {
    "duration": 8,
    "start_time": "2024-07-08T13:28:28.548Z"
   },
   {
    "duration": 13,
    "start_time": "2024-07-08T13:28:28.559Z"
   },
   {
    "duration": 8,
    "start_time": "2024-07-08T13:28:28.575Z"
   },
   {
    "duration": 16,
    "start_time": "2024-07-08T13:28:28.623Z"
   },
   {
    "duration": 5,
    "start_time": "2024-07-08T13:28:28.642Z"
   },
   {
    "duration": 7,
    "start_time": "2024-07-08T13:28:28.651Z"
   },
   {
    "duration": 954,
    "start_time": "2024-07-08T13:28:28.662Z"
   },
   {
    "duration": 0,
    "start_time": "2024-07-08T13:33:37.050Z"
   },
   {
    "duration": 1673,
    "start_time": "2024-07-08T13:34:30.554Z"
   },
   {
    "duration": 883,
    "start_time": "2024-07-08T13:34:32.231Z"
   },
   {
    "duration": 16,
    "start_time": "2024-07-08T13:34:33.118Z"
   },
   {
    "duration": 800,
    "start_time": "2024-07-08T13:34:33.137Z"
   },
   {
    "duration": 3,
    "start_time": "2024-07-08T13:34:33.941Z"
   },
   {
    "duration": 24,
    "start_time": "2024-07-08T13:34:33.947Z"
   },
   {
    "duration": 45,
    "start_time": "2024-07-08T13:34:33.975Z"
   },
   {
    "duration": 12,
    "start_time": "2024-07-08T13:34:34.023Z"
   },
   {
    "duration": 317,
    "start_time": "2024-07-08T13:34:34.038Z"
   },
   {
    "duration": 14,
    "start_time": "2024-07-08T13:34:34.358Z"
   },
   {
    "duration": 40,
    "start_time": "2024-07-08T13:34:34.374Z"
   },
   {
    "duration": 14,
    "start_time": "2024-07-08T13:34:34.417Z"
   },
   {
    "duration": 160,
    "start_time": "2024-07-08T13:34:34.434Z"
   },
   {
    "duration": 21,
    "start_time": "2024-07-08T13:34:34.602Z"
   },
   {
    "duration": 9,
    "start_time": "2024-07-08T13:34:34.626Z"
   },
   {
    "duration": 10,
    "start_time": "2024-07-08T13:34:34.637Z"
   },
   {
    "duration": 10,
    "start_time": "2024-07-08T13:34:34.652Z"
   },
   {
    "duration": 80,
    "start_time": "2024-07-08T13:34:34.665Z"
   },
   {
    "duration": 67,
    "start_time": "2024-07-08T13:34:34.748Z"
   },
   {
    "duration": 1057,
    "start_time": "2024-07-08T13:34:34.818Z"
   },
   {
    "duration": 541,
    "start_time": "2024-07-08T13:34:35.878Z"
   },
   {
    "duration": 633,
    "start_time": "2024-07-08T13:34:36.422Z"
   },
   {
    "duration": 8,
    "start_time": "2024-07-08T13:34:37.060Z"
   },
   {
    "duration": 2647,
    "start_time": "2024-07-08T13:34:37.072Z"
   },
   {
    "duration": 37,
    "start_time": "2024-07-08T13:34:39.722Z"
   },
   {
    "duration": 66,
    "start_time": "2024-07-08T13:34:39.762Z"
   },
   {
    "duration": 5,
    "start_time": "2024-07-08T13:34:39.831Z"
   },
   {
    "duration": 8,
    "start_time": "2024-07-08T13:34:39.839Z"
   },
   {
    "duration": 9,
    "start_time": "2024-07-08T13:34:39.850Z"
   },
   {
    "duration": 8,
    "start_time": "2024-07-08T13:34:39.861Z"
   },
   {
    "duration": 52,
    "start_time": "2024-07-08T13:34:39.872Z"
   },
   {
    "duration": 9,
    "start_time": "2024-07-08T13:34:39.927Z"
   },
   {
    "duration": 11,
    "start_time": "2024-07-08T13:34:39.939Z"
   },
   {
    "duration": 6,
    "start_time": "2024-07-08T13:34:39.953Z"
   },
   {
    "duration": 56,
    "start_time": "2024-07-08T13:34:39.962Z"
   },
   {
    "duration": 999,
    "start_time": "2024-07-08T13:34:40.021Z"
   },
   {
    "duration": 9,
    "start_time": "2024-07-08T13:34:41.026Z"
   },
   {
    "duration": 6984,
    "start_time": "2024-07-08T13:34:43.461Z"
   },
   {
    "duration": 1596,
    "start_time": "2024-07-08T13:37:14.569Z"
   },
   {
    "duration": 881,
    "start_time": "2024-07-08T13:37:16.169Z"
   },
   {
    "duration": 12,
    "start_time": "2024-07-08T13:37:17.053Z"
   },
   {
    "duration": 794,
    "start_time": "2024-07-08T13:37:17.069Z"
   },
   {
    "duration": 3,
    "start_time": "2024-07-08T13:37:17.866Z"
   },
   {
    "duration": 43,
    "start_time": "2024-07-08T13:37:17.873Z"
   },
   {
    "duration": 16,
    "start_time": "2024-07-08T13:37:17.918Z"
   },
   {
    "duration": 12,
    "start_time": "2024-07-08T13:37:17.937Z"
   },
   {
    "duration": 329,
    "start_time": "2024-07-08T13:37:17.952Z"
   },
   {
    "duration": 29,
    "start_time": "2024-07-08T13:37:18.287Z"
   },
   {
    "duration": 13,
    "start_time": "2024-07-08T13:37:18.319Z"
   },
   {
    "duration": 14,
    "start_time": "2024-07-08T13:37:18.335Z"
   },
   {
    "duration": 179,
    "start_time": "2024-07-08T13:37:18.352Z"
   },
   {
    "duration": 12,
    "start_time": "2024-07-08T13:37:18.535Z"
   },
   {
    "duration": 10,
    "start_time": "2024-07-08T13:37:18.550Z"
   },
   {
    "duration": 49,
    "start_time": "2024-07-08T13:37:18.563Z"
   },
   {
    "duration": 10,
    "start_time": "2024-07-08T13:37:18.615Z"
   },
   {
    "duration": 37,
    "start_time": "2024-07-08T13:37:18.628Z"
   },
   {
    "duration": 77,
    "start_time": "2024-07-08T13:37:18.668Z"
   },
   {
    "duration": 1119,
    "start_time": "2024-07-08T13:37:18.750Z"
   },
   {
    "duration": 571,
    "start_time": "2024-07-08T13:37:19.872Z"
   },
   {
    "duration": 584,
    "start_time": "2024-07-08T13:37:20.448Z"
   },
   {
    "duration": 7,
    "start_time": "2024-07-08T13:37:21.036Z"
   },
   {
    "duration": 2751,
    "start_time": "2024-07-08T13:37:21.046Z"
   },
   {
    "duration": 45,
    "start_time": "2024-07-08T13:37:23.800Z"
   },
   {
    "duration": 65,
    "start_time": "2024-07-08T13:37:23.848Z"
   },
   {
    "duration": 6,
    "start_time": "2024-07-08T13:37:23.917Z"
   },
   {
    "duration": 6,
    "start_time": "2024-07-08T13:37:23.931Z"
   },
   {
    "duration": 7,
    "start_time": "2024-07-08T13:37:23.941Z"
   },
   {
    "duration": 8,
    "start_time": "2024-07-08T13:37:23.950Z"
   },
   {
    "duration": 61,
    "start_time": "2024-07-08T13:37:23.961Z"
   },
   {
    "duration": 8,
    "start_time": "2024-07-08T13:37:24.025Z"
   },
   {
    "duration": 11,
    "start_time": "2024-07-08T13:37:24.037Z"
   },
   {
    "duration": 9,
    "start_time": "2024-07-08T13:37:24.052Z"
   },
   {
    "duration": 7,
    "start_time": "2024-07-08T13:37:24.064Z"
   },
   {
    "duration": 819,
    "start_time": "2024-07-08T13:37:24.114Z"
   },
   {
    "duration": 7118,
    "start_time": "2024-07-08T13:37:24.936Z"
   },
   {
    "duration": 781,
    "start_time": "2024-07-08T13:37:32.057Z"
   },
   {
    "duration": 0,
    "start_time": "2024-07-08T13:37:32.841Z"
   },
   {
    "duration": 1,
    "start_time": "2024-07-08T13:37:32.843Z"
   },
   {
    "duration": 7546,
    "start_time": "2024-07-08T13:37:41.914Z"
   },
   {
    "duration": 261,
    "start_time": "2024-07-08T13:37:51.617Z"
   },
   {
    "duration": 106,
    "start_time": "2024-07-08T13:41:47.620Z"
   },
   {
    "duration": 6,
    "start_time": "2024-07-08T13:42:07.119Z"
   },
   {
    "duration": 1732,
    "start_time": "2024-07-08T13:42:12.915Z"
   },
   {
    "duration": 919,
    "start_time": "2024-07-08T13:42:14.650Z"
   },
   {
    "duration": 39,
    "start_time": "2024-07-08T13:42:15.573Z"
   },
   {
    "duration": 779,
    "start_time": "2024-07-08T13:42:15.616Z"
   },
   {
    "duration": 15,
    "start_time": "2024-07-08T13:42:16.398Z"
   },
   {
    "duration": 33,
    "start_time": "2024-07-08T13:42:16.416Z"
   },
   {
    "duration": 22,
    "start_time": "2024-07-08T13:42:16.452Z"
   },
   {
    "duration": 46,
    "start_time": "2024-07-08T13:42:16.478Z"
   },
   {
    "duration": 329,
    "start_time": "2024-07-08T13:42:16.529Z"
   },
   {
    "duration": 17,
    "start_time": "2024-07-08T13:42:16.865Z"
   },
   {
    "duration": 38,
    "start_time": "2024-07-08T13:42:16.885Z"
   },
   {
    "duration": 15,
    "start_time": "2024-07-08T13:42:16.928Z"
   },
   {
    "duration": 166,
    "start_time": "2024-07-08T13:42:16.946Z"
   },
   {
    "duration": 11,
    "start_time": "2024-07-08T13:42:17.115Z"
   },
   {
    "duration": 9,
    "start_time": "2024-07-08T13:42:17.132Z"
   },
   {
    "duration": 10,
    "start_time": "2024-07-08T13:42:17.145Z"
   },
   {
    "duration": 53,
    "start_time": "2024-07-08T13:42:17.159Z"
   },
   {
    "duration": 43,
    "start_time": "2024-07-08T13:42:17.215Z"
   },
   {
    "duration": 74,
    "start_time": "2024-07-08T13:42:17.261Z"
   },
   {
    "duration": 1146,
    "start_time": "2024-07-08T13:42:17.339Z"
   },
   {
    "duration": 583,
    "start_time": "2024-07-08T13:42:18.489Z"
   },
   {
    "duration": 624,
    "start_time": "2024-07-08T13:42:19.075Z"
   },
   {
    "duration": 7,
    "start_time": "2024-07-08T13:42:19.712Z"
   },
   {
    "duration": 2841,
    "start_time": "2024-07-08T13:42:19.723Z"
   },
   {
    "duration": 48,
    "start_time": "2024-07-08T13:42:22.567Z"
   },
   {
    "duration": 44,
    "start_time": "2024-07-08T13:42:22.618Z"
   },
   {
    "duration": 5,
    "start_time": "2024-07-08T13:42:22.666Z"
   },
   {
    "duration": 36,
    "start_time": "2024-07-08T13:42:22.680Z"
   },
   {
    "duration": 11,
    "start_time": "2024-07-08T13:42:22.719Z"
   },
   {
    "duration": 8,
    "start_time": "2024-07-08T13:42:22.733Z"
   },
   {
    "duration": 14,
    "start_time": "2024-07-08T13:42:22.745Z"
   },
   {
    "duration": 52,
    "start_time": "2024-07-08T13:42:22.763Z"
   },
   {
    "duration": 10,
    "start_time": "2024-07-08T13:42:22.820Z"
   },
   {
    "duration": 6,
    "start_time": "2024-07-08T13:42:22.833Z"
   },
   {
    "duration": 8,
    "start_time": "2024-07-08T13:42:22.842Z"
   },
   {
    "duration": 1067,
    "start_time": "2024-07-08T13:42:22.854Z"
   },
   {
    "duration": 7120,
    "start_time": "2024-07-08T13:42:23.928Z"
   },
   {
    "duration": 7308,
    "start_time": "2024-07-08T13:42:31.051Z"
   },
   {
    "duration": 813,
    "start_time": "2024-07-08T13:42:38.362Z"
   },
   {
    "duration": 16,
    "start_time": "2024-07-08T14:31:43.221Z"
   },
   {
    "duration": 331,
    "start_time": "2024-07-08T15:56:48.359Z"
   },
   {
    "duration": 5271,
    "start_time": "2024-07-08T15:56:55.289Z"
   },
   {
    "duration": 1027,
    "start_time": "2024-07-08T15:57:00.564Z"
   },
   {
    "duration": 10,
    "start_time": "2024-07-08T15:57:01.595Z"
   },
   {
    "duration": 776,
    "start_time": "2024-07-08T15:57:01.608Z"
   },
   {
    "duration": 4,
    "start_time": "2024-07-08T15:57:02.392Z"
   },
   {
    "duration": 24,
    "start_time": "2024-07-08T15:57:02.399Z"
   },
   {
    "duration": 16,
    "start_time": "2024-07-08T15:57:02.426Z"
   },
   {
    "duration": 47,
    "start_time": "2024-07-08T15:57:02.445Z"
   },
   {
    "duration": 325,
    "start_time": "2024-07-08T15:57:02.496Z"
   },
   {
    "duration": 14,
    "start_time": "2024-07-08T15:57:02.824Z"
   },
   {
    "duration": 13,
    "start_time": "2024-07-08T15:57:02.841Z"
   },
   {
    "duration": 18,
    "start_time": "2024-07-08T15:57:02.892Z"
   },
   {
    "duration": 161,
    "start_time": "2024-07-08T15:57:02.913Z"
   },
   {
    "duration": 17,
    "start_time": "2024-07-08T15:57:03.080Z"
   },
   {
    "duration": 9,
    "start_time": "2024-07-08T15:57:03.100Z"
   },
   {
    "duration": 10,
    "start_time": "2024-07-08T15:57:03.112Z"
   },
   {
    "duration": 9,
    "start_time": "2024-07-08T15:57:03.125Z"
   },
   {
    "duration": 91,
    "start_time": "2024-07-08T15:57:03.137Z"
   },
   {
    "duration": 63,
    "start_time": "2024-07-08T15:57:03.231Z"
   },
   {
    "duration": 1158,
    "start_time": "2024-07-08T15:57:03.297Z"
   },
   {
    "duration": 574,
    "start_time": "2024-07-08T15:57:04.458Z"
   },
   {
    "duration": 566,
    "start_time": "2024-07-08T15:57:05.036Z"
   },
   {
    "duration": 7,
    "start_time": "2024-07-08T15:57:05.606Z"
   },
   {
    "duration": 2659,
    "start_time": "2024-07-08T15:57:05.616Z"
   },
   {
    "duration": 43,
    "start_time": "2024-07-08T15:57:08.279Z"
   },
   {
    "duration": 38,
    "start_time": "2024-07-08T15:57:08.325Z"
   },
   {
    "duration": 5,
    "start_time": "2024-07-08T15:57:08.390Z"
   },
   {
    "duration": 7,
    "start_time": "2024-07-08T15:57:08.398Z"
   },
   {
    "duration": 7,
    "start_time": "2024-07-08T15:57:08.408Z"
   },
   {
    "duration": 10,
    "start_time": "2024-07-08T15:57:08.418Z"
   },
   {
    "duration": 12,
    "start_time": "2024-07-08T15:57:08.431Z"
   },
   {
    "duration": 8,
    "start_time": "2024-07-08T15:57:08.491Z"
   },
   {
    "duration": 13,
    "start_time": "2024-07-08T15:57:08.502Z"
   },
   {
    "duration": 8,
    "start_time": "2024-07-08T15:57:08.519Z"
   },
   {
    "duration": 784,
    "start_time": "2024-07-08T15:57:08.530Z"
   },
   {
    "duration": 7088,
    "start_time": "2024-07-08T15:57:09.392Z"
   },
   {
    "duration": 7468,
    "start_time": "2024-07-08T15:57:16.492Z"
   },
   {
    "duration": 1651,
    "start_time": "2024-07-08T16:02:22.116Z"
   },
   {
    "duration": 919,
    "start_time": "2024-07-08T16:02:23.771Z"
   },
   {
    "duration": 11,
    "start_time": "2024-07-08T16:02:24.693Z"
   },
   {
    "duration": 834,
    "start_time": "2024-07-08T16:02:24.708Z"
   },
   {
    "duration": 4,
    "start_time": "2024-07-08T16:02:25.548Z"
   },
   {
    "duration": 44,
    "start_time": "2024-07-08T16:02:25.555Z"
   },
   {
    "duration": 17,
    "start_time": "2024-07-08T16:02:25.602Z"
   },
   {
    "duration": 13,
    "start_time": "2024-07-08T16:02:25.622Z"
   },
   {
    "duration": 320,
    "start_time": "2024-07-08T16:02:25.639Z"
   },
   {
    "duration": 30,
    "start_time": "2024-07-08T16:02:25.962Z"
   },
   {
    "duration": 14,
    "start_time": "2024-07-08T16:02:25.995Z"
   },
   {
    "duration": 17,
    "start_time": "2024-07-08T16:02:26.012Z"
   },
   {
    "duration": 181,
    "start_time": "2024-07-08T16:02:26.033Z"
   },
   {
    "duration": 10,
    "start_time": "2024-07-08T16:02:26.221Z"
   },
   {
    "duration": 10,
    "start_time": "2024-07-08T16:02:26.234Z"
   },
   {
    "duration": 44,
    "start_time": "2024-07-08T16:02:26.247Z"
   },
   {
    "duration": 9,
    "start_time": "2024-07-08T16:02:26.295Z"
   },
   {
    "duration": 38,
    "start_time": "2024-07-08T16:02:26.307Z"
   },
   {
    "duration": 75,
    "start_time": "2024-07-08T16:02:26.348Z"
   },
   {
    "duration": 1101,
    "start_time": "2024-07-08T16:02:26.426Z"
   },
   {
    "duration": 644,
    "start_time": "2024-07-08T16:02:27.530Z"
   },
   {
    "duration": 577,
    "start_time": "2024-07-08T16:02:28.176Z"
   },
   {
    "duration": 7,
    "start_time": "2024-07-08T16:02:28.756Z"
   },
   {
    "duration": 2639,
    "start_time": "2024-07-08T16:02:28.766Z"
   },
   {
    "duration": 35,
    "start_time": "2024-07-08T16:02:31.409Z"
   },
   {
    "duration": 71,
    "start_time": "2024-07-08T16:02:31.447Z"
   },
   {
    "duration": 7,
    "start_time": "2024-07-08T16:02:31.521Z"
   },
   {
    "duration": 8,
    "start_time": "2024-07-08T16:02:31.531Z"
   },
   {
    "duration": 7,
    "start_time": "2024-07-08T16:02:31.542Z"
   },
   {
    "duration": 40,
    "start_time": "2024-07-08T16:02:31.553Z"
   },
   {
    "duration": 12,
    "start_time": "2024-07-08T16:02:31.596Z"
   },
   {
    "duration": 8,
    "start_time": "2024-07-08T16:02:31.613Z"
   },
   {
    "duration": 11,
    "start_time": "2024-07-08T16:02:31.626Z"
   },
   {
    "duration": 51,
    "start_time": "2024-07-08T16:02:31.642Z"
   },
   {
    "duration": 997,
    "start_time": "2024-07-08T16:02:31.696Z"
   },
   {
    "duration": 7055,
    "start_time": "2024-07-08T16:02:32.702Z"
   },
   {
    "duration": 7666,
    "start_time": "2024-07-08T16:02:39.760Z"
   },
   {
    "duration": 569,
    "start_time": "2024-07-08T16:02:47.429Z"
   },
   {
    "duration": 0,
    "start_time": "2024-07-08T16:02:48.002Z"
   },
   {
    "duration": 0,
    "start_time": "2024-07-08T16:02:48.004Z"
   },
   {
    "duration": 1612,
    "start_time": "2024-07-08T16:03:21.367Z"
   },
   {
    "duration": 947,
    "start_time": "2024-07-08T16:03:22.983Z"
   },
   {
    "duration": 11,
    "start_time": "2024-07-08T16:03:23.934Z"
   },
   {
    "duration": 823,
    "start_time": "2024-07-08T16:03:23.949Z"
   },
   {
    "duration": 7,
    "start_time": "2024-07-08T16:03:24.775Z"
   },
   {
    "duration": 34,
    "start_time": "2024-07-08T16:03:24.792Z"
   },
   {
    "duration": 18,
    "start_time": "2024-07-08T16:03:24.830Z"
   },
   {
    "duration": 12,
    "start_time": "2024-07-08T16:03:24.851Z"
   },
   {
    "duration": 322,
    "start_time": "2024-07-08T16:03:24.891Z"
   },
   {
    "duration": 17,
    "start_time": "2024-07-08T16:03:25.219Z"
   },
   {
    "duration": 17,
    "start_time": "2024-07-08T16:03:25.239Z"
   },
   {
    "duration": 47,
    "start_time": "2024-07-08T16:03:25.260Z"
   },
   {
    "duration": 201,
    "start_time": "2024-07-08T16:03:25.311Z"
   },
   {
    "duration": 18,
    "start_time": "2024-07-08T16:03:25.520Z"
   },
   {
    "duration": 13,
    "start_time": "2024-07-08T16:03:25.549Z"
   },
   {
    "duration": 34,
    "start_time": "2024-07-08T16:03:25.566Z"
   },
   {
    "duration": 9,
    "start_time": "2024-07-08T16:03:25.608Z"
   },
   {
    "duration": 69,
    "start_time": "2024-07-08T16:03:25.621Z"
   },
   {
    "duration": 49,
    "start_time": "2024-07-08T16:03:25.694Z"
   },
   {
    "duration": 1320,
    "start_time": "2024-07-08T16:03:25.747Z"
   },
   {
    "duration": 619,
    "start_time": "2024-07-08T16:03:27.072Z"
   },
   {
    "duration": 654,
    "start_time": "2024-07-08T16:03:27.695Z"
   },
   {
    "duration": 10,
    "start_time": "2024-07-08T16:03:28.353Z"
   },
   {
    "duration": 2896,
    "start_time": "2024-07-08T16:03:28.367Z"
   },
   {
    "duration": 50,
    "start_time": "2024-07-08T16:03:31.267Z"
   },
   {
    "duration": 42,
    "start_time": "2024-07-08T16:03:31.321Z"
   },
   {
    "duration": 6,
    "start_time": "2024-07-08T16:03:31.390Z"
   },
   {
    "duration": 5,
    "start_time": "2024-07-08T16:03:31.406Z"
   },
   {
    "duration": 8,
    "start_time": "2024-07-08T16:03:31.415Z"
   },
   {
    "duration": 8,
    "start_time": "2024-07-08T16:03:31.426Z"
   },
   {
    "duration": 58,
    "start_time": "2024-07-08T16:03:31.437Z"
   },
   {
    "duration": 9,
    "start_time": "2024-07-08T16:03:31.498Z"
   },
   {
    "duration": 11,
    "start_time": "2024-07-08T16:03:31.511Z"
   },
   {
    "duration": 8,
    "start_time": "2024-07-08T16:03:31.525Z"
   },
   {
    "duration": 1073,
    "start_time": "2024-07-08T16:03:31.536Z"
   },
   {
    "duration": 7552,
    "start_time": "2024-07-08T16:03:32.613Z"
   },
   {
    "duration": 7430,
    "start_time": "2024-07-08T16:03:40.168Z"
   },
   {
    "duration": 190289,
    "start_time": "2024-07-08T16:03:47.601Z"
   },
   {
    "duration": 0,
    "start_time": "2024-07-08T16:06:57.893Z"
   },
   {
    "duration": 0,
    "start_time": "2024-07-08T16:06:57.894Z"
   },
   {
    "duration": 1726,
    "start_time": "2024-07-08T16:07:37.193Z"
   },
   {
    "duration": 855,
    "start_time": "2024-07-08T16:07:38.922Z"
   },
   {
    "duration": 11,
    "start_time": "2024-07-08T16:07:39.791Z"
   },
   {
    "duration": 785,
    "start_time": "2024-07-08T16:07:39.807Z"
   },
   {
    "duration": 4,
    "start_time": "2024-07-08T16:07:40.596Z"
   },
   {
    "duration": 26,
    "start_time": "2024-07-08T16:07:40.604Z"
   },
   {
    "duration": 56,
    "start_time": "2024-07-08T16:07:40.634Z"
   },
   {
    "duration": 12,
    "start_time": "2024-07-08T16:07:40.694Z"
   },
   {
    "duration": 361,
    "start_time": "2024-07-08T16:07:40.711Z"
   },
   {
    "duration": 23,
    "start_time": "2024-07-08T16:07:41.078Z"
   },
   {
    "duration": 14,
    "start_time": "2024-07-08T16:07:41.104Z"
   },
   {
    "duration": 16,
    "start_time": "2024-07-08T16:07:41.121Z"
   },
   {
    "duration": 190,
    "start_time": "2024-07-08T16:07:41.140Z"
   },
   {
    "duration": 10,
    "start_time": "2024-07-08T16:07:41.333Z"
   },
   {
    "duration": 8,
    "start_time": "2024-07-08T16:07:41.346Z"
   },
   {
    "duration": 42,
    "start_time": "2024-07-08T16:07:41.357Z"
   },
   {
    "duration": 9,
    "start_time": "2024-07-08T16:07:41.401Z"
   },
   {
    "duration": 76,
    "start_time": "2024-07-08T16:07:41.414Z"
   },
   {
    "duration": 34,
    "start_time": "2024-07-08T16:07:41.493Z"
   },
   {
    "duration": 1089,
    "start_time": "2024-07-08T16:07:41.530Z"
   },
   {
    "duration": 555,
    "start_time": "2024-07-08T16:07:42.622Z"
   },
   {
    "duration": 558,
    "start_time": "2024-07-08T16:07:43.181Z"
   },
   {
    "duration": 7,
    "start_time": "2024-07-08T16:07:43.743Z"
   },
   {
    "duration": 2749,
    "start_time": "2024-07-08T16:07:43.753Z"
   },
   {
    "duration": 33,
    "start_time": "2024-07-08T16:07:46.505Z"
   },
   {
    "duration": 61,
    "start_time": "2024-07-08T16:07:46.541Z"
   },
   {
    "duration": 6,
    "start_time": "2024-07-08T16:07:46.606Z"
   },
   {
    "duration": 5,
    "start_time": "2024-07-08T16:07:46.621Z"
   },
   {
    "duration": 8,
    "start_time": "2024-07-08T16:07:46.629Z"
   },
   {
    "duration": 9,
    "start_time": "2024-07-08T16:07:46.640Z"
   },
   {
    "duration": 13,
    "start_time": "2024-07-08T16:07:46.692Z"
   },
   {
    "duration": 7,
    "start_time": "2024-07-08T16:07:46.709Z"
   },
   {
    "duration": 10,
    "start_time": "2024-07-08T16:07:46.720Z"
   },
   {
    "duration": 7,
    "start_time": "2024-07-08T16:07:46.734Z"
   },
   {
    "duration": 861,
    "start_time": "2024-07-08T16:07:46.744Z"
   },
   {
    "duration": 7275,
    "start_time": "2024-07-08T16:07:47.612Z"
   },
   {
    "duration": 7646,
    "start_time": "2024-07-08T16:07:54.891Z"
   },
   {
    "duration": 608,
    "start_time": "2024-07-08T16:08:02.540Z"
   },
   {
    "duration": 0,
    "start_time": "2024-07-08T16:08:03.152Z"
   },
   {
    "duration": 0,
    "start_time": "2024-07-08T16:08:03.155Z"
   },
   {
    "duration": 1718,
    "start_time": "2024-07-08T16:09:24.900Z"
   },
   {
    "duration": 1024,
    "start_time": "2024-07-08T16:09:26.622Z"
   },
   {
    "duration": 41,
    "start_time": "2024-07-08T16:09:27.650Z"
   },
   {
    "duration": 852,
    "start_time": "2024-07-08T16:09:27.696Z"
   },
   {
    "duration": 4,
    "start_time": "2024-07-08T16:09:28.552Z"
   },
   {
    "duration": 50,
    "start_time": "2024-07-08T16:09:28.562Z"
   },
   {
    "duration": 17,
    "start_time": "2024-07-08T16:09:28.616Z"
   },
   {
    "duration": 16,
    "start_time": "2024-07-08T16:09:28.637Z"
   },
   {
    "duration": 357,
    "start_time": "2024-07-08T16:09:28.657Z"
   },
   {
    "duration": 17,
    "start_time": "2024-07-08T16:09:29.019Z"
   },
   {
    "duration": 50,
    "start_time": "2024-07-08T16:09:29.040Z"
   },
   {
    "duration": 16,
    "start_time": "2024-07-08T16:09:29.093Z"
   },
   {
    "duration": 159,
    "start_time": "2024-07-08T16:09:29.112Z"
   },
   {
    "duration": 18,
    "start_time": "2024-07-08T16:09:29.274Z"
   },
   {
    "duration": 10,
    "start_time": "2024-07-08T16:09:29.295Z"
   },
   {
    "duration": 10,
    "start_time": "2024-07-08T16:09:29.307Z"
   },
   {
    "duration": 9,
    "start_time": "2024-07-08T16:09:29.320Z"
   },
   {
    "duration": 86,
    "start_time": "2024-07-08T16:09:29.332Z"
   },
   {
    "duration": 36,
    "start_time": "2024-07-08T16:09:29.420Z"
   },
   {
    "duration": 1065,
    "start_time": "2024-07-08T16:09:29.491Z"
   },
   {
    "duration": 592,
    "start_time": "2024-07-08T16:09:30.560Z"
   },
   {
    "duration": 597,
    "start_time": "2024-07-08T16:09:31.156Z"
   },
   {
    "duration": 9,
    "start_time": "2024-07-08T16:09:31.756Z"
   },
   {
    "duration": 2720,
    "start_time": "2024-07-08T16:09:31.770Z"
   },
   {
    "duration": 35,
    "start_time": "2024-07-08T16:09:34.494Z"
   },
   {
    "duration": 63,
    "start_time": "2024-07-08T16:09:34.532Z"
   },
   {
    "duration": 7,
    "start_time": "2024-07-08T16:09:34.598Z"
   },
   {
    "duration": 5,
    "start_time": "2024-07-08T16:09:34.613Z"
   },
   {
    "duration": 8,
    "start_time": "2024-07-08T16:09:34.621Z"
   },
   {
    "duration": 8,
    "start_time": "2024-07-08T16:09:34.633Z"
   },
   {
    "duration": 57,
    "start_time": "2024-07-08T16:09:34.644Z"
   },
   {
    "duration": 10,
    "start_time": "2024-07-08T16:09:34.704Z"
   },
   {
    "duration": 11,
    "start_time": "2024-07-08T16:09:34.717Z"
   },
   {
    "duration": 8,
    "start_time": "2024-07-08T16:09:34.731Z"
   },
   {
    "duration": 861,
    "start_time": "2024-07-08T16:09:34.744Z"
   },
   {
    "duration": 7092,
    "start_time": "2024-07-08T16:09:35.610Z"
   },
   {
    "duration": 7737,
    "start_time": "2024-07-08T16:09:42.707Z"
   },
   {
    "duration": 556,
    "start_time": "2024-07-08T16:09:50.447Z"
   },
   {
    "duration": 0,
    "start_time": "2024-07-08T16:09:51.006Z"
   },
   {
    "duration": 0,
    "start_time": "2024-07-08T16:09:51.008Z"
   },
   {
    "duration": 1608,
    "start_time": "2024-07-08T16:11:10.169Z"
   },
   {
    "duration": 925,
    "start_time": "2024-07-08T16:11:11.781Z"
   },
   {
    "duration": 10,
    "start_time": "2024-07-08T16:11:12.710Z"
   },
   {
    "duration": 810,
    "start_time": "2024-07-08T16:11:12.724Z"
   },
   {
    "duration": 3,
    "start_time": "2024-07-08T16:11:13.540Z"
   },
   {
    "duration": 51,
    "start_time": "2024-07-08T16:11:13.546Z"
   },
   {
    "duration": 20,
    "start_time": "2024-07-08T16:11:13.600Z"
   },
   {
    "duration": 12,
    "start_time": "2024-07-08T16:11:13.624Z"
   },
   {
    "duration": 318,
    "start_time": "2024-07-08T16:11:13.639Z"
   },
   {
    "duration": 31,
    "start_time": "2024-07-08T16:11:13.960Z"
   },
   {
    "duration": 13,
    "start_time": "2024-07-08T16:11:13.993Z"
   },
   {
    "duration": 15,
    "start_time": "2024-07-08T16:11:14.010Z"
   },
   {
    "duration": 188,
    "start_time": "2024-07-08T16:11:14.028Z"
   },
   {
    "duration": 12,
    "start_time": "2024-07-08T16:11:14.224Z"
   },
   {
    "duration": 8,
    "start_time": "2024-07-08T16:11:14.242Z"
   },
   {
    "duration": 38,
    "start_time": "2024-07-08T16:11:14.255Z"
   },
   {
    "duration": 8,
    "start_time": "2024-07-08T16:11:14.297Z"
   },
   {
    "duration": 38,
    "start_time": "2024-07-08T16:11:14.308Z"
   },
   {
    "duration": 72,
    "start_time": "2024-07-08T16:11:14.349Z"
   },
   {
    "duration": 1059,
    "start_time": "2024-07-08T16:11:14.424Z"
   },
   {
    "duration": 543,
    "start_time": "2024-07-08T16:11:15.486Z"
   },
   {
    "duration": 563,
    "start_time": "2024-07-08T16:11:16.032Z"
   },
   {
    "duration": 8,
    "start_time": "2024-07-08T16:11:16.598Z"
   },
   {
    "duration": 2733,
    "start_time": "2024-07-08T16:11:16.609Z"
   },
   {
    "duration": 48,
    "start_time": "2024-07-08T16:11:19.345Z"
   },
   {
    "duration": 40,
    "start_time": "2024-07-08T16:11:19.395Z"
   },
   {
    "duration": 8,
    "start_time": "2024-07-08T16:11:19.438Z"
   },
   {
    "duration": 7,
    "start_time": "2024-07-08T16:11:19.448Z"
   },
   {
    "duration": 6,
    "start_time": "2024-07-08T16:11:19.492Z"
   },
   {
    "duration": 8,
    "start_time": "2024-07-08T16:11:19.501Z"
   },
   {
    "duration": 12,
    "start_time": "2024-07-08T16:11:19.512Z"
   },
   {
    "duration": 7,
    "start_time": "2024-07-08T16:11:19.527Z"
   },
   {
    "duration": 58,
    "start_time": "2024-07-08T16:11:19.537Z"
   },
   {
    "duration": 7,
    "start_time": "2024-07-08T16:11:19.599Z"
   },
   {
    "duration": 800,
    "start_time": "2024-07-08T16:11:19.609Z"
   },
   {
    "duration": 7123,
    "start_time": "2024-07-08T16:11:20.412Z"
   },
   {
    "duration": 7654,
    "start_time": "2024-07-08T16:11:27.538Z"
   },
   {
    "duration": 1677,
    "start_time": "2024-07-08T16:16:32.167Z"
   },
   {
    "duration": 889,
    "start_time": "2024-07-08T16:16:33.848Z"
   },
   {
    "duration": 21,
    "start_time": "2024-07-08T16:16:34.740Z"
   },
   {
    "duration": 798,
    "start_time": "2024-07-08T16:16:34.764Z"
   },
   {
    "duration": 4,
    "start_time": "2024-07-08T16:16:35.566Z"
   },
   {
    "duration": 43,
    "start_time": "2024-07-08T16:16:35.573Z"
   },
   {
    "duration": 17,
    "start_time": "2024-07-08T16:16:35.622Z"
   },
   {
    "duration": 15,
    "start_time": "2024-07-08T16:16:35.641Z"
   },
   {
    "duration": 333,
    "start_time": "2024-07-08T16:16:35.659Z"
   },
   {
    "duration": 14,
    "start_time": "2024-07-08T16:16:35.994Z"
   },
   {
    "duration": 12,
    "start_time": "2024-07-08T16:16:36.012Z"
   },
   {
    "duration": 17,
    "start_time": "2024-07-08T16:16:36.027Z"
   },
   {
    "duration": 145,
    "start_time": "2024-07-08T16:16:36.089Z"
   },
   {
    "duration": 11,
    "start_time": "2024-07-08T16:16:36.242Z"
   },
   {
    "duration": 35,
    "start_time": "2024-07-08T16:16:36.257Z"
   },
   {
    "duration": 11,
    "start_time": "2024-07-08T16:16:36.295Z"
   },
   {
    "duration": 9,
    "start_time": "2024-07-08T16:16:36.309Z"
   },
   {
    "duration": 74,
    "start_time": "2024-07-08T16:16:36.322Z"
   },
   {
    "duration": 35,
    "start_time": "2024-07-08T16:16:36.400Z"
   },
   {
    "duration": 1105,
    "start_time": "2024-07-08T16:16:36.438Z"
   },
   {
    "duration": 559,
    "start_time": "2024-07-08T16:16:37.546Z"
   },
   {
    "duration": 572,
    "start_time": "2024-07-08T16:16:38.109Z"
   },
   {
    "duration": 7,
    "start_time": "2024-07-08T16:16:38.692Z"
   },
   {
    "duration": 2779,
    "start_time": "2024-07-08T16:16:38.703Z"
   },
   {
    "duration": 40,
    "start_time": "2024-07-08T16:16:41.485Z"
   },
   {
    "duration": 62,
    "start_time": "2024-07-08T16:16:41.528Z"
   },
   {
    "duration": 8,
    "start_time": "2024-07-08T16:16:41.593Z"
   },
   {
    "duration": 7,
    "start_time": "2024-07-08T16:16:41.604Z"
   },
   {
    "duration": 7,
    "start_time": "2024-07-08T16:16:41.615Z"
   },
   {
    "duration": 8,
    "start_time": "2024-07-08T16:16:41.625Z"
   },
   {
    "duration": 57,
    "start_time": "2024-07-08T16:16:41.637Z"
   },
   {
    "duration": 8,
    "start_time": "2024-07-08T16:16:41.697Z"
   },
   {
    "duration": 11,
    "start_time": "2024-07-08T16:16:41.708Z"
   },
   {
    "duration": 7,
    "start_time": "2024-07-08T16:16:41.722Z"
   },
   {
    "duration": 969,
    "start_time": "2024-07-08T16:16:41.732Z"
   },
   {
    "duration": 7048,
    "start_time": "2024-07-08T16:16:42.706Z"
   },
   {
    "duration": 7699,
    "start_time": "2024-07-08T16:16:49.758Z"
   },
   {
    "duration": 1741,
    "start_time": "2024-07-08T16:18:21.715Z"
   },
   {
    "duration": 1065,
    "start_time": "2024-07-08T16:18:23.461Z"
   },
   {
    "duration": 12,
    "start_time": "2024-07-08T16:18:24.535Z"
   },
   {
    "duration": 922,
    "start_time": "2024-07-08T16:18:24.550Z"
   },
   {
    "duration": 17,
    "start_time": "2024-07-08T16:18:25.475Z"
   },
   {
    "duration": 27,
    "start_time": "2024-07-08T16:18:25.496Z"
   },
   {
    "duration": 18,
    "start_time": "2024-07-08T16:18:25.526Z"
   },
   {
    "duration": 48,
    "start_time": "2024-07-08T16:18:25.548Z"
   },
   {
    "duration": 320,
    "start_time": "2024-07-08T16:18:25.602Z"
   },
   {
    "duration": 14,
    "start_time": "2024-07-08T16:18:25.925Z"
   },
   {
    "duration": 15,
    "start_time": "2024-07-08T16:18:25.943Z"
   },
   {
    "duration": 19,
    "start_time": "2024-07-08T16:18:25.991Z"
   },
   {
    "duration": 169,
    "start_time": "2024-07-08T16:18:26.014Z"
   },
   {
    "duration": 11,
    "start_time": "2024-07-08T16:18:26.186Z"
   },
   {
    "duration": 8,
    "start_time": "2024-07-08T16:18:26.200Z"
   },
   {
    "duration": 12,
    "start_time": "2024-07-08T16:18:26.212Z"
   },
   {
    "duration": 8,
    "start_time": "2024-07-08T16:18:26.227Z"
   },
   {
    "duration": 84,
    "start_time": "2024-07-08T16:18:26.238Z"
   },
   {
    "duration": 68,
    "start_time": "2024-07-08T16:18:26.326Z"
   },
   {
    "duration": 1082,
    "start_time": "2024-07-08T16:18:26.397Z"
   },
   {
    "duration": 731,
    "start_time": "2024-07-08T16:18:27.483Z"
   },
   {
    "duration": 594,
    "start_time": "2024-07-08T16:18:28.218Z"
   },
   {
    "duration": 7,
    "start_time": "2024-07-08T16:18:28.818Z"
   },
   {
    "duration": 2738,
    "start_time": "2024-07-08T16:18:28.829Z"
   },
   {
    "duration": 51,
    "start_time": "2024-07-08T16:18:31.572Z"
   },
   {
    "duration": 68,
    "start_time": "2024-07-08T16:18:31.627Z"
   },
   {
    "duration": 8,
    "start_time": "2024-07-08T16:18:31.704Z"
   },
   {
    "duration": 7,
    "start_time": "2024-07-08T16:18:31.716Z"
   },
   {
    "duration": 10,
    "start_time": "2024-07-08T16:18:31.726Z"
   },
   {
    "duration": 9,
    "start_time": "2024-07-08T16:18:31.740Z"
   },
   {
    "duration": 13,
    "start_time": "2024-07-08T16:18:31.793Z"
   },
   {
    "duration": 9,
    "start_time": "2024-07-08T16:18:31.809Z"
   },
   {
    "duration": 14,
    "start_time": "2024-07-08T16:18:31.822Z"
   },
   {
    "duration": 55,
    "start_time": "2024-07-08T16:18:31.840Z"
   },
   {
    "duration": 999,
    "start_time": "2024-07-08T16:18:31.898Z"
   },
   {
    "duration": 7187,
    "start_time": "2024-07-08T16:18:32.900Z"
   },
   {
    "duration": 7807,
    "start_time": "2024-07-08T16:18:40.091Z"
   },
   {
    "duration": 1619,
    "start_time": "2024-07-08T16:22:04.216Z"
   },
   {
    "duration": 874,
    "start_time": "2024-07-08T16:22:05.838Z"
   },
   {
    "duration": 10,
    "start_time": "2024-07-08T16:22:06.716Z"
   },
   {
    "duration": 763,
    "start_time": "2024-07-08T16:22:06.729Z"
   },
   {
    "duration": 3,
    "start_time": "2024-07-08T16:22:07.497Z"
   },
   {
    "duration": 24,
    "start_time": "2024-07-08T16:22:07.504Z"
   },
   {
    "duration": 16,
    "start_time": "2024-07-08T16:22:07.531Z"
   },
   {
    "duration": 47,
    "start_time": "2024-07-08T16:22:07.550Z"
   },
   {
    "duration": 311,
    "start_time": "2024-07-08T16:22:07.600Z"
   },
   {
    "duration": 14,
    "start_time": "2024-07-08T16:22:07.914Z"
   },
   {
    "duration": 13,
    "start_time": "2024-07-08T16:22:07.931Z"
   },
   {
    "duration": 47,
    "start_time": "2024-07-08T16:22:07.947Z"
   },
   {
    "duration": 154,
    "start_time": "2024-07-08T16:22:07.997Z"
   },
   {
    "duration": 11,
    "start_time": "2024-07-08T16:22:08.158Z"
   },
   {
    "duration": 9,
    "start_time": "2024-07-08T16:22:08.189Z"
   },
   {
    "duration": 9,
    "start_time": "2024-07-08T16:22:08.201Z"
   },
   {
    "duration": 8,
    "start_time": "2024-07-08T16:22:08.213Z"
   },
   {
    "duration": 75,
    "start_time": "2024-07-08T16:22:08.225Z"
   },
   {
    "duration": 34,
    "start_time": "2024-07-08T16:22:08.303Z"
   },
   {
    "duration": 1091,
    "start_time": "2024-07-08T16:22:08.340Z"
   },
   {
    "duration": 555,
    "start_time": "2024-07-08T16:22:09.435Z"
   },
   {
    "duration": 556,
    "start_time": "2024-07-08T16:22:09.993Z"
   },
   {
    "duration": 8,
    "start_time": "2024-07-08T16:22:10.552Z"
   },
   {
    "duration": 2808,
    "start_time": "2024-07-08T16:22:10.563Z"
   },
   {
    "duration": 48,
    "start_time": "2024-07-08T16:22:13.374Z"
   },
   {
    "duration": 42,
    "start_time": "2024-07-08T16:22:13.425Z"
   },
   {
    "duration": 10,
    "start_time": "2024-07-08T16:22:13.491Z"
   },
   {
    "duration": 7,
    "start_time": "2024-07-08T16:22:13.504Z"
   },
   {
    "duration": 8,
    "start_time": "2024-07-08T16:22:13.515Z"
   },
   {
    "duration": 8,
    "start_time": "2024-07-08T16:22:13.527Z"
   },
   {
    "duration": 62,
    "start_time": "2024-07-08T16:22:13.538Z"
   },
   {
    "duration": 9,
    "start_time": "2024-07-08T16:22:13.604Z"
   },
   {
    "duration": 12,
    "start_time": "2024-07-08T16:22:13.616Z"
   },
   {
    "duration": 8,
    "start_time": "2024-07-08T16:22:13.631Z"
   },
   {
    "duration": 871,
    "start_time": "2024-07-08T16:22:13.642Z"
   },
   {
    "duration": 7092,
    "start_time": "2024-07-08T16:22:14.591Z"
   },
   {
    "duration": 8684,
    "start_time": "2024-07-08T16:22:21.690Z"
   },
   {
    "duration": 0,
    "start_time": "2024-07-08T16:22:30.377Z"
   },
   {
    "duration": 1,
    "start_time": "2024-07-08T16:22:30.380Z"
   },
   {
    "duration": 0,
    "start_time": "2024-07-08T16:22:30.392Z"
   },
   {
    "duration": 1651,
    "start_time": "2024-07-08T16:22:44.823Z"
   },
   {
    "duration": 868,
    "start_time": "2024-07-08T16:22:46.477Z"
   },
   {
    "duration": 11,
    "start_time": "2024-07-08T16:22:47.348Z"
   },
   {
    "duration": 857,
    "start_time": "2024-07-08T16:22:47.392Z"
   },
   {
    "duration": 5,
    "start_time": "2024-07-08T16:22:48.252Z"
   },
   {
    "duration": 43,
    "start_time": "2024-07-08T16:22:48.260Z"
   },
   {
    "duration": 16,
    "start_time": "2024-07-08T16:22:48.306Z"
   },
   {
    "duration": 13,
    "start_time": "2024-07-08T16:22:48.325Z"
   },
   {
    "duration": 325,
    "start_time": "2024-07-08T16:22:48.341Z"
   },
   {
    "duration": 22,
    "start_time": "2024-07-08T16:22:48.673Z"
   },
   {
    "duration": 12,
    "start_time": "2024-07-08T16:22:48.698Z"
   },
   {
    "duration": 14,
    "start_time": "2024-07-08T16:22:48.713Z"
   },
   {
    "duration": 185,
    "start_time": "2024-07-08T16:22:48.730Z"
   },
   {
    "duration": 10,
    "start_time": "2024-07-08T16:22:48.918Z"
   },
   {
    "duration": 9,
    "start_time": "2024-07-08T16:22:48.933Z"
   },
   {
    "duration": 10,
    "start_time": "2024-07-08T16:22:48.945Z"
   },
   {
    "duration": 9,
    "start_time": "2024-07-08T16:22:48.991Z"
   },
   {
    "duration": 37,
    "start_time": "2024-07-08T16:22:49.003Z"
   },
   {
    "duration": 73,
    "start_time": "2024-07-08T16:22:49.044Z"
   },
   {
    "duration": 1066,
    "start_time": "2024-07-08T16:22:49.121Z"
   },
   {
    "duration": 575,
    "start_time": "2024-07-08T16:22:50.190Z"
   },
   {
    "duration": 563,
    "start_time": "2024-07-08T16:22:50.768Z"
   },
   {
    "duration": 9,
    "start_time": "2024-07-08T16:22:51.335Z"
   },
   {
    "duration": 2761,
    "start_time": "2024-07-08T16:22:51.348Z"
   },
   {
    "duration": 36,
    "start_time": "2024-07-08T16:22:54.113Z"
   },
   {
    "duration": 68,
    "start_time": "2024-07-08T16:22:54.152Z"
   },
   {
    "duration": 9,
    "start_time": "2024-07-08T16:22:54.223Z"
   },
   {
    "duration": 6,
    "start_time": "2024-07-08T16:22:54.239Z"
   },
   {
    "duration": 8,
    "start_time": "2024-07-08T16:22:54.248Z"
   },
   {
    "duration": 35,
    "start_time": "2024-07-08T16:22:54.259Z"
   },
   {
    "duration": 13,
    "start_time": "2024-07-08T16:22:54.298Z"
   },
   {
    "duration": 8,
    "start_time": "2024-07-08T16:22:54.314Z"
   },
   {
    "duration": 11,
    "start_time": "2024-07-08T16:22:54.325Z"
   },
   {
    "duration": 56,
    "start_time": "2024-07-08T16:22:54.339Z"
   },
   {
    "duration": 809,
    "start_time": "2024-07-08T16:22:54.398Z"
   },
   {
    "duration": 7153,
    "start_time": "2024-07-08T16:22:55.211Z"
   },
   {
    "duration": 7465,
    "start_time": "2024-07-08T16:23:02.367Z"
   },
   {
    "duration": 13,
    "start_time": "2024-07-08T16:23:09.835Z"
   },
   {
    "duration": 0,
    "start_time": "2024-07-08T16:23:09.852Z"
   },
   {
    "duration": 0,
    "start_time": "2024-07-08T16:23:09.855Z"
   },
   {
    "duration": 10,
    "start_time": "2024-07-08T16:23:37.903Z"
   },
   {
    "duration": 8,
    "start_time": "2024-07-08T16:23:42.464Z"
   },
   {
    "duration": 12,
    "start_time": "2024-07-08T16:23:54.039Z"
   },
   {
    "duration": 248871,
    "start_time": "2024-07-08T16:25:24.245Z"
   },
   {
    "duration": 11,
    "start_time": "2024-07-08T16:29:40.429Z"
   },
   {
    "duration": 5,
    "start_time": "2024-07-08T16:29:45.697Z"
   },
   {
    "duration": 6,
    "start_time": "2024-07-08T16:29:59.628Z"
   },
   {
    "duration": 7488,
    "start_time": "2024-07-08T16:32:10.870Z"
   },
   {
    "duration": 20308,
    "start_time": "2024-07-08T16:32:18.362Z"
   },
   {
    "duration": 1915,
    "start_time": "2024-07-08T16:33:24.190Z"
   },
   {
    "duration": 1298,
    "start_time": "2024-07-08T16:33:26.109Z"
   },
   {
    "duration": 10,
    "start_time": "2024-07-08T16:33:27.411Z"
   },
   {
    "duration": 906,
    "start_time": "2024-07-08T16:33:27.426Z"
   },
   {
    "duration": 5,
    "start_time": "2024-07-08T16:33:28.338Z"
   },
   {
    "duration": 73,
    "start_time": "2024-07-08T16:33:28.348Z"
   },
   {
    "duration": 20,
    "start_time": "2024-07-08T16:33:28.425Z"
   },
   {
    "duration": 12,
    "start_time": "2024-07-08T16:33:28.448Z"
   },
   {
    "duration": 353,
    "start_time": "2024-07-08T16:33:28.464Z"
   },
   {
    "duration": 19,
    "start_time": "2024-07-08T16:33:28.825Z"
   },
   {
    "duration": 48,
    "start_time": "2024-07-08T16:33:28.848Z"
   },
   {
    "duration": 20,
    "start_time": "2024-07-08T16:33:28.900Z"
   },
   {
    "duration": 174,
    "start_time": "2024-07-08T16:33:28.927Z"
   },
   {
    "duration": 14,
    "start_time": "2024-07-08T16:33:29.104Z"
   },
   {
    "duration": 12,
    "start_time": "2024-07-08T16:33:29.122Z"
   },
   {
    "duration": 55,
    "start_time": "2024-07-08T16:33:29.138Z"
   },
   {
    "duration": 11,
    "start_time": "2024-07-08T16:33:29.197Z"
   },
   {
    "duration": 88,
    "start_time": "2024-07-08T16:33:29.212Z"
   },
   {
    "duration": 44,
    "start_time": "2024-07-08T16:33:29.305Z"
   },
   {
    "duration": 1251,
    "start_time": "2024-07-08T16:33:29.353Z"
   },
   {
    "duration": 638,
    "start_time": "2024-07-08T16:33:30.608Z"
   },
   {
    "duration": 656,
    "start_time": "2024-07-08T16:33:31.249Z"
   },
   {
    "duration": 9,
    "start_time": "2024-07-08T16:33:31.911Z"
   },
   {
    "duration": 3009,
    "start_time": "2024-07-08T16:33:31.926Z"
   },
   {
    "duration": 48,
    "start_time": "2024-07-08T16:33:34.940Z"
   },
   {
    "duration": 45,
    "start_time": "2024-07-08T16:33:34.993Z"
   },
   {
    "duration": 10,
    "start_time": "2024-07-08T16:33:35.042Z"
   },
   {
    "duration": 7,
    "start_time": "2024-07-08T16:33:35.094Z"
   },
   {
    "duration": 11,
    "start_time": "2024-07-08T16:33:35.106Z"
   },
   {
    "duration": 10,
    "start_time": "2024-07-08T16:33:35.121Z"
   },
   {
    "duration": 60,
    "start_time": "2024-07-08T16:33:35.136Z"
   },
   {
    "duration": 12,
    "start_time": "2024-07-08T16:33:35.201Z"
   },
   {
    "duration": 14,
    "start_time": "2024-07-08T16:33:35.217Z"
   },
   {
    "duration": 9,
    "start_time": "2024-07-08T16:33:35.236Z"
   },
   {
    "duration": 1304,
    "start_time": "2024-07-08T16:33:35.293Z"
   },
   {
    "duration": 7449,
    "start_time": "2024-07-08T16:33:36.606Z"
   },
   {
    "duration": 8093,
    "start_time": "2024-07-08T16:33:44.059Z"
   },
   {
    "duration": 21483,
    "start_time": "2024-07-08T16:33:52.157Z"
   },
   {
    "duration": 1716,
    "start_time": "2024-07-08T16:36:42.085Z"
   },
   {
    "duration": 1202,
    "start_time": "2024-07-08T16:36:43.806Z"
   },
   {
    "duration": 10,
    "start_time": "2024-07-08T16:36:45.011Z"
   },
   {
    "duration": 850,
    "start_time": "2024-07-08T16:36:45.026Z"
   },
   {
    "duration": 4,
    "start_time": "2024-07-08T16:36:45.889Z"
   },
   {
    "duration": 30,
    "start_time": "2024-07-08T16:36:45.897Z"
   },
   {
    "duration": 22,
    "start_time": "2024-07-08T16:36:45.931Z"
   },
   {
    "duration": 41,
    "start_time": "2024-07-08T16:36:45.956Z"
   },
   {
    "duration": 336,
    "start_time": "2024-07-08T16:36:46.001Z"
   },
   {
    "duration": 15,
    "start_time": "2024-07-08T16:36:46.344Z"
   },
   {
    "duration": 34,
    "start_time": "2024-07-08T16:36:46.362Z"
   },
   {
    "duration": 17,
    "start_time": "2024-07-08T16:36:46.400Z"
   },
   {
    "duration": 166,
    "start_time": "2024-07-08T16:36:46.420Z"
   },
   {
    "duration": 10,
    "start_time": "2024-07-08T16:36:46.592Z"
   },
   {
    "duration": 9,
    "start_time": "2024-07-08T16:36:46.607Z"
   },
   {
    "duration": 10,
    "start_time": "2024-07-08T16:36:46.618Z"
   },
   {
    "duration": 9,
    "start_time": "2024-07-08T16:36:46.631Z"
   },
   {
    "duration": 81,
    "start_time": "2024-07-08T16:36:46.644Z"
   },
   {
    "duration": 73,
    "start_time": "2024-07-08T16:36:46.728Z"
   },
   {
    "duration": 1082,
    "start_time": "2024-07-08T16:36:46.805Z"
   },
   {
    "duration": 586,
    "start_time": "2024-07-08T16:36:47.890Z"
   },
   {
    "duration": 584,
    "start_time": "2024-07-08T16:36:48.480Z"
   },
   {
    "duration": 23,
    "start_time": "2024-07-08T16:36:49.068Z"
   },
   {
    "duration": 2891,
    "start_time": "2024-07-08T16:36:49.094Z"
   },
   {
    "duration": 37,
    "start_time": "2024-07-08T16:36:51.992Z"
   },
   {
    "duration": 66,
    "start_time": "2024-07-08T16:36:52.033Z"
   },
   {
    "duration": 8,
    "start_time": "2024-07-08T16:36:52.102Z"
   },
   {
    "duration": 7,
    "start_time": "2024-07-08T16:36:52.117Z"
   },
   {
    "duration": 8,
    "start_time": "2024-07-08T16:36:52.127Z"
   },
   {
    "duration": 51,
    "start_time": "2024-07-08T16:36:52.139Z"
   },
   {
    "duration": 13,
    "start_time": "2024-07-08T16:36:52.193Z"
   },
   {
    "duration": 8,
    "start_time": "2024-07-08T16:36:52.209Z"
   },
   {
    "duration": 11,
    "start_time": "2024-07-08T16:36:52.219Z"
   },
   {
    "duration": 11,
    "start_time": "2024-07-08T16:36:52.233Z"
   },
   {
    "duration": 1062,
    "start_time": "2024-07-08T16:36:52.248Z"
   },
   {
    "duration": 7399,
    "start_time": "2024-07-08T16:36:53.316Z"
   },
   {
    "duration": 7519,
    "start_time": "2024-07-08T16:37:00.719Z"
   },
   {
    "duration": 20361,
    "start_time": "2024-07-08T16:37:08.242Z"
   },
   {
    "duration": 1624,
    "start_time": "2024-07-08T16:42:38.841Z"
   },
   {
    "duration": 1058,
    "start_time": "2024-07-08T16:42:40.468Z"
   },
   {
    "duration": 10,
    "start_time": "2024-07-08T16:42:41.529Z"
   },
   {
    "duration": 824,
    "start_time": "2024-07-08T16:42:41.543Z"
   },
   {
    "duration": 3,
    "start_time": "2024-07-08T16:42:42.371Z"
   },
   {
    "duration": 26,
    "start_time": "2024-07-08T16:42:42.391Z"
   },
   {
    "duration": 17,
    "start_time": "2024-07-08T16:42:42.420Z"
   },
   {
    "duration": 11,
    "start_time": "2024-07-08T16:42:42.441Z"
   },
   {
    "duration": 347,
    "start_time": "2024-07-08T16:42:42.456Z"
   },
   {
    "duration": 15,
    "start_time": "2024-07-08T16:42:42.810Z"
   },
   {
    "duration": 15,
    "start_time": "2024-07-08T16:42:42.831Z"
   },
   {
    "duration": 54,
    "start_time": "2024-07-08T16:42:42.850Z"
   },
   {
    "duration": 159,
    "start_time": "2024-07-08T16:42:42.907Z"
   },
   {
    "duration": 21,
    "start_time": "2024-07-08T16:42:43.071Z"
   },
   {
    "duration": 11,
    "start_time": "2024-07-08T16:42:43.096Z"
   },
   {
    "duration": 12,
    "start_time": "2024-07-08T16:42:43.111Z"
   },
   {
    "duration": 9,
    "start_time": "2024-07-08T16:42:43.127Z"
   },
   {
    "duration": 89,
    "start_time": "2024-07-08T16:42:43.140Z"
   },
   {
    "duration": 74,
    "start_time": "2024-07-08T16:42:43.233Z"
   },
   {
    "duration": 1160,
    "start_time": "2024-07-08T16:42:43.311Z"
   },
   {
    "duration": 607,
    "start_time": "2024-07-08T16:42:44.475Z"
   },
   {
    "duration": 625,
    "start_time": "2024-07-08T16:42:45.090Z"
   },
   {
    "duration": 9,
    "start_time": "2024-07-08T16:42:45.719Z"
   },
   {
    "duration": 2694,
    "start_time": "2024-07-08T16:42:45.731Z"
   },
   {
    "duration": 39,
    "start_time": "2024-07-08T16:42:48.429Z"
   },
   {
    "duration": 42,
    "start_time": "2024-07-08T16:42:48.490Z"
   },
   {
    "duration": 9,
    "start_time": "2024-07-08T16:42:48.535Z"
   },
   {
    "duration": 38,
    "start_time": "2024-07-08T16:42:48.552Z"
   },
   {
    "duration": 9,
    "start_time": "2024-07-08T16:42:48.595Z"
   },
   {
    "duration": 9,
    "start_time": "2024-07-08T16:42:48.608Z"
   },
   {
    "duration": 17,
    "start_time": "2024-07-08T16:42:48.620Z"
   },
   {
    "duration": 53,
    "start_time": "2024-07-08T16:42:48.644Z"
   },
   {
    "duration": 18,
    "start_time": "2024-07-08T16:42:48.700Z"
   },
   {
    "duration": 9,
    "start_time": "2024-07-08T16:42:48.722Z"
   },
   {
    "duration": 954,
    "start_time": "2024-07-08T16:42:48.735Z"
   },
   {
    "duration": 7208,
    "start_time": "2024-07-08T16:42:49.695Z"
   },
   {
    "duration": 7919,
    "start_time": "2024-07-08T16:42:56.907Z"
   },
   {
    "duration": 20992,
    "start_time": "2024-07-08T16:43:04.830Z"
   },
   {
    "duration": 465,
    "start_time": "2024-07-08T16:43:25.825Z"
   },
   {
    "duration": 1612,
    "start_time": "2024-07-08T16:46:20.845Z"
   },
   {
    "duration": 949,
    "start_time": "2024-07-08T16:46:22.462Z"
   },
   {
    "duration": 10,
    "start_time": "2024-07-08T16:46:23.414Z"
   },
   {
    "duration": 828,
    "start_time": "2024-07-08T16:46:23.427Z"
   },
   {
    "duration": 3,
    "start_time": "2024-07-08T16:46:24.261Z"
   },
   {
    "duration": 43,
    "start_time": "2024-07-08T16:46:24.268Z"
   },
   {
    "duration": 17,
    "start_time": "2024-07-08T16:46:24.314Z"
   },
   {
    "duration": 12,
    "start_time": "2024-07-08T16:46:24.334Z"
   },
   {
    "duration": 343,
    "start_time": "2024-07-08T16:46:24.349Z"
   },
   {
    "duration": 18,
    "start_time": "2024-07-08T16:46:24.696Z"
   },
   {
    "duration": 15,
    "start_time": "2024-07-08T16:46:24.718Z"
   },
   {
    "duration": 63,
    "start_time": "2024-07-08T16:46:24.738Z"
   },
   {
    "duration": 155,
    "start_time": "2024-07-08T16:46:24.805Z"
   },
   {
    "duration": 22,
    "start_time": "2024-07-08T16:46:24.968Z"
   },
   {
    "duration": 9,
    "start_time": "2024-07-08T16:46:24.994Z"
   },
   {
    "duration": 10,
    "start_time": "2024-07-08T16:46:25.006Z"
   },
   {
    "duration": 9,
    "start_time": "2024-07-08T16:46:25.020Z"
   },
   {
    "duration": 83,
    "start_time": "2024-07-08T16:46:25.032Z"
   },
   {
    "duration": 38,
    "start_time": "2024-07-08T16:46:25.118Z"
   },
   {
    "duration": 1097,
    "start_time": "2024-07-08T16:46:25.158Z"
   },
   {
    "duration": 559,
    "start_time": "2024-07-08T16:46:26.258Z"
   },
   {
    "duration": 651,
    "start_time": "2024-07-08T16:46:26.821Z"
   },
   {
    "duration": 15,
    "start_time": "2024-07-08T16:46:27.476Z"
   },
   {
    "duration": 2968,
    "start_time": "2024-07-08T16:46:27.494Z"
   },
   {
    "duration": 53,
    "start_time": "2024-07-08T16:46:30.467Z"
   },
   {
    "duration": 41,
    "start_time": "2024-07-08T16:46:30.523Z"
   },
   {
    "duration": 29,
    "start_time": "2024-07-08T16:46:30.567Z"
   },
   {
    "duration": 10,
    "start_time": "2024-07-08T16:46:30.600Z"
   },
   {
    "duration": 8,
    "start_time": "2024-07-08T16:46:30.613Z"
   },
   {
    "duration": 8,
    "start_time": "2024-07-08T16:46:30.625Z"
   },
   {
    "duration": 60,
    "start_time": "2024-07-08T16:46:30.638Z"
   },
   {
    "duration": 8,
    "start_time": "2024-07-08T16:46:30.701Z"
   },
   {
    "duration": 12,
    "start_time": "2024-07-08T16:46:30.714Z"
   },
   {
    "duration": 12,
    "start_time": "2024-07-08T16:46:30.730Z"
   },
   {
    "duration": 852,
    "start_time": "2024-07-08T16:46:30.745Z"
   },
   {
    "duration": 7428,
    "start_time": "2024-07-08T16:46:31.601Z"
   },
   {
    "duration": 7833,
    "start_time": "2024-07-08T16:46:39.033Z"
   },
   {
    "duration": 20496,
    "start_time": "2024-07-08T16:46:46.869Z"
   },
   {
    "duration": 1247,
    "start_time": "2024-07-08T16:47:07.368Z"
   },
   {
    "duration": 318,
    "start_time": "2024-07-08T16:50:10.079Z"
   },
   {
    "duration": 1618,
    "start_time": "2024-07-08T16:50:19.937Z"
   },
   {
    "duration": 959,
    "start_time": "2024-07-08T16:50:21.560Z"
   },
   {
    "duration": 11,
    "start_time": "2024-07-08T16:50:22.527Z"
   },
   {
    "duration": 838,
    "start_time": "2024-07-08T16:50:22.542Z"
   },
   {
    "duration": 8,
    "start_time": "2024-07-08T16:50:23.383Z"
   },
   {
    "duration": 26,
    "start_time": "2024-07-08T16:50:23.395Z"
   },
   {
    "duration": 17,
    "start_time": "2024-07-08T16:50:23.425Z"
   },
   {
    "duration": 46,
    "start_time": "2024-07-08T16:50:23.445Z"
   },
   {
    "duration": 326,
    "start_time": "2024-07-08T16:50:23.494Z"
   },
   {
    "duration": 14,
    "start_time": "2024-07-08T16:50:23.826Z"
   },
   {
    "duration": 47,
    "start_time": "2024-07-08T16:50:23.843Z"
   },
   {
    "duration": 16,
    "start_time": "2024-07-08T16:50:23.893Z"
   },
   {
    "duration": 162,
    "start_time": "2024-07-08T16:50:23.912Z"
   },
   {
    "duration": 19,
    "start_time": "2024-07-08T16:50:24.078Z"
   },
   {
    "duration": 8,
    "start_time": "2024-07-08T16:50:24.100Z"
   },
   {
    "duration": 10,
    "start_time": "2024-07-08T16:50:24.112Z"
   },
   {
    "duration": 9,
    "start_time": "2024-07-08T16:50:24.125Z"
   },
   {
    "duration": 82,
    "start_time": "2024-07-08T16:50:24.138Z"
   },
   {
    "duration": 69,
    "start_time": "2024-07-08T16:50:24.223Z"
   },
   {
    "duration": 1124,
    "start_time": "2024-07-08T16:50:24.295Z"
   },
   {
    "duration": 579,
    "start_time": "2024-07-08T16:50:25.423Z"
   },
   {
    "duration": 587,
    "start_time": "2024-07-08T16:50:26.006Z"
   },
   {
    "duration": 8,
    "start_time": "2024-07-08T16:50:26.596Z"
   },
   {
    "duration": 3071,
    "start_time": "2024-07-08T16:50:26.608Z"
   },
   {
    "duration": 34,
    "start_time": "2024-07-08T16:50:29.690Z"
   },
   {
    "duration": 40,
    "start_time": "2024-07-08T16:50:29.727Z"
   },
   {
    "duration": 8,
    "start_time": "2024-07-08T16:50:29.790Z"
   },
   {
    "duration": 10,
    "start_time": "2024-07-08T16:50:29.808Z"
   },
   {
    "duration": 8,
    "start_time": "2024-07-08T16:50:29.821Z"
   },
   {
    "duration": 8,
    "start_time": "2024-07-08T16:50:29.832Z"
   },
   {
    "duration": 56,
    "start_time": "2024-07-08T16:50:29.843Z"
   },
   {
    "duration": 7,
    "start_time": "2024-07-08T16:50:29.902Z"
   },
   {
    "duration": 11,
    "start_time": "2024-07-08T16:50:29.913Z"
   },
   {
    "duration": 7,
    "start_time": "2024-07-08T16:50:29.929Z"
   },
   {
    "duration": 853,
    "start_time": "2024-07-08T16:50:29.941Z"
   },
   {
    "duration": 7223,
    "start_time": "2024-07-08T16:50:30.796Z"
   },
   {
    "duration": 7786,
    "start_time": "2024-07-08T16:50:38.022Z"
   },
   {
    "duration": 20158,
    "start_time": "2024-07-08T16:50:45.811Z"
   },
   {
    "duration": 858,
    "start_time": "2024-07-08T16:51:05.972Z"
   },
   {
    "duration": 96,
    "start_time": "2024-07-08T16:53:12.259Z"
   },
   {
    "duration": 1658,
    "start_time": "2024-07-08T16:53:20.099Z"
   },
   {
    "duration": 886,
    "start_time": "2024-07-08T16:53:21.760Z"
   },
   {
    "duration": 43,
    "start_time": "2024-07-08T16:53:22.649Z"
   },
   {
    "duration": 790,
    "start_time": "2024-07-08T16:53:22.695Z"
   },
   {
    "duration": 4,
    "start_time": "2024-07-08T16:53:23.491Z"
   },
   {
    "duration": 33,
    "start_time": "2024-07-08T16:53:23.498Z"
   },
   {
    "duration": 17,
    "start_time": "2024-07-08T16:53:23.534Z"
   },
   {
    "duration": 18,
    "start_time": "2024-07-08T16:53:23.590Z"
   },
   {
    "duration": 331,
    "start_time": "2024-07-08T16:53:23.612Z"
   },
   {
    "duration": 15,
    "start_time": "2024-07-08T16:53:23.946Z"
   },
   {
    "duration": 35,
    "start_time": "2024-07-08T16:53:23.963Z"
   },
   {
    "duration": 15,
    "start_time": "2024-07-08T16:53:24.001Z"
   },
   {
    "duration": 166,
    "start_time": "2024-07-08T16:53:24.018Z"
   },
   {
    "duration": 11,
    "start_time": "2024-07-08T16:53:24.190Z"
   },
   {
    "duration": 10,
    "start_time": "2024-07-08T16:53:24.204Z"
   },
   {
    "duration": 10,
    "start_time": "2024-07-08T16:53:24.217Z"
   },
   {
    "duration": 10,
    "start_time": "2024-07-08T16:53:24.230Z"
   },
   {
    "duration": 38,
    "start_time": "2024-07-08T16:53:24.290Z"
   },
   {
    "duration": 71,
    "start_time": "2024-07-08T16:53:24.331Z"
   },
   {
    "duration": 1074,
    "start_time": "2024-07-08T16:53:24.405Z"
   },
   {
    "duration": 544,
    "start_time": "2024-07-08T16:53:25.482Z"
   },
   {
    "duration": 575,
    "start_time": "2024-07-08T16:53:26.029Z"
   },
   {
    "duration": 8,
    "start_time": "2024-07-08T16:53:26.607Z"
   },
   {
    "duration": 2705,
    "start_time": "2024-07-08T16:53:26.618Z"
   },
   {
    "duration": 40,
    "start_time": "2024-07-08T16:53:29.326Z"
   },
   {
    "duration": 61,
    "start_time": "2024-07-08T16:53:29.370Z"
   },
   {
    "duration": 10,
    "start_time": "2024-07-08T16:53:29.434Z"
   },
   {
    "duration": 40,
    "start_time": "2024-07-08T16:53:29.450Z"
   },
   {
    "duration": 8,
    "start_time": "2024-07-08T16:53:29.493Z"
   },
   {
    "duration": 8,
    "start_time": "2024-07-08T16:53:29.505Z"
   },
   {
    "duration": 14,
    "start_time": "2024-07-08T16:53:29.517Z"
   },
   {
    "duration": 8,
    "start_time": "2024-07-08T16:53:29.534Z"
   },
   {
    "duration": 55,
    "start_time": "2024-07-08T16:53:29.545Z"
   },
   {
    "duration": 6,
    "start_time": "2024-07-08T16:53:29.604Z"
   },
   {
    "duration": 796,
    "start_time": "2024-07-08T16:53:29.614Z"
   },
   {
    "duration": 7384,
    "start_time": "2024-07-08T16:53:30.414Z"
   },
   {
    "duration": 7740,
    "start_time": "2024-07-08T16:53:37.801Z"
   },
   {
    "duration": 20112,
    "start_time": "2024-07-08T16:53:45.544Z"
   },
   {
    "duration": 838,
    "start_time": "2024-07-08T16:54:05.659Z"
   },
   {
    "duration": 0,
    "start_time": "2024-07-08T16:54:06.500Z"
   },
   {
    "duration": 1620,
    "start_time": "2024-07-08T16:55:05.418Z"
   },
   {
    "duration": 98,
    "start_time": "2024-07-08T16:57:21.113Z"
   },
   {
    "duration": 371,
    "start_time": "2024-07-08T16:57:32.308Z"
   },
   {
    "duration": 387,
    "start_time": "2024-07-08T16:57:46.184Z"
   },
   {
    "duration": 14,
    "start_time": "2024-07-08T18:41:13.277Z"
   },
   {
    "duration": 10,
    "start_time": "2024-07-08T18:43:32.181Z"
   },
   {
    "duration": 487,
    "start_time": "2024-07-08T20:19:58.057Z"
   },
   {
    "duration": 24,
    "start_time": "2024-07-08T20:19:58.704Z"
   },
   {
    "duration": 25,
    "start_time": "2024-07-08T20:19:59.649Z"
   },
   {
    "duration": 5255,
    "start_time": "2024-07-08T20:20:07.650Z"
   },
   {
    "duration": 1036,
    "start_time": "2024-07-08T20:20:12.909Z"
   },
   {
    "duration": 12,
    "start_time": "2024-07-08T20:20:13.948Z"
   },
   {
    "duration": 843,
    "start_time": "2024-07-08T20:20:13.964Z"
   },
   {
    "duration": 5,
    "start_time": "2024-07-08T20:20:14.809Z"
   },
   {
    "duration": 25,
    "start_time": "2024-07-08T20:20:14.817Z"
   },
   {
    "duration": 18,
    "start_time": "2024-07-08T20:20:14.845Z"
   },
   {
    "duration": 13,
    "start_time": "2024-07-08T20:20:14.903Z"
   },
   {
    "duration": 299,
    "start_time": "2024-07-08T20:20:14.919Z"
   },
   {
    "duration": 14,
    "start_time": "2024-07-08T20:20:15.223Z"
   },
   {
    "duration": 13,
    "start_time": "2024-07-08T20:20:15.240Z"
   },
   {
    "duration": 54,
    "start_time": "2024-07-08T20:20:15.256Z"
   },
   {
    "duration": 152,
    "start_time": "2024-07-08T20:20:15.313Z"
   },
   {
    "duration": 12,
    "start_time": "2024-07-08T20:20:15.468Z"
   },
   {
    "duration": 26,
    "start_time": "2024-07-08T20:20:15.482Z"
   },
   {
    "duration": 11,
    "start_time": "2024-07-08T20:20:15.513Z"
   },
   {
    "duration": 11,
    "start_time": "2024-07-08T20:20:15.528Z"
   },
   {
    "duration": 84,
    "start_time": "2024-07-08T20:20:15.542Z"
   },
   {
    "duration": 34,
    "start_time": "2024-07-08T20:20:15.629Z"
   },
   {
    "duration": 1121,
    "start_time": "2024-07-08T20:20:15.665Z"
   },
   {
    "duration": 543,
    "start_time": "2024-07-08T20:20:16.790Z"
   },
   {
    "duration": 583,
    "start_time": "2024-07-08T20:20:17.337Z"
   },
   {
    "duration": 7,
    "start_time": "2024-07-08T20:20:17.923Z"
   },
   {
    "duration": 2710,
    "start_time": "2024-07-08T20:20:17.934Z"
   },
   {
    "duration": 33,
    "start_time": "2024-07-08T20:20:20.647Z"
   },
   {
    "duration": 37,
    "start_time": "2024-07-08T20:20:20.703Z"
   },
   {
    "duration": 8,
    "start_time": "2024-07-08T20:20:20.743Z"
   },
   {
    "duration": 8,
    "start_time": "2024-07-08T20:20:20.759Z"
   },
   {
    "duration": 35,
    "start_time": "2024-07-08T20:20:20.770Z"
   },
   {
    "duration": 7,
    "start_time": "2024-07-08T20:20:20.808Z"
   },
   {
    "duration": 12,
    "start_time": "2024-07-08T20:20:20.819Z"
   },
   {
    "duration": 7,
    "start_time": "2024-07-08T20:20:20.834Z"
   },
   {
    "duration": 58,
    "start_time": "2024-07-08T20:20:20.844Z"
   },
   {
    "duration": 9,
    "start_time": "2024-07-08T20:20:20.905Z"
   },
   {
    "duration": 804,
    "start_time": "2024-07-08T20:20:20.917Z"
   },
   {
    "duration": 7356,
    "start_time": "2024-07-08T20:20:21.724Z"
   },
   {
    "duration": 5,
    "start_time": "2024-07-08T20:20:29.084Z"
   },
   {
    "duration": 209379,
    "start_time": "2024-07-08T20:20:29.101Z"
   },
   {
    "duration": 2799,
    "start_time": "2024-07-08T20:23:58.483Z"
   },
   {
    "duration": 0,
    "start_time": "2024-07-08T20:24:01.285Z"
   },
   {
    "duration": 0,
    "start_time": "2024-07-08T20:24:01.286Z"
   },
   {
    "duration": 14,
    "start_time": "2024-07-10T17:33:39.096Z"
   },
   {
    "duration": 313,
    "start_time": "2024-07-10T17:49:49.777Z"
   },
   {
    "duration": 5165,
    "start_time": "2024-07-10T17:50:28.725Z"
   },
   {
    "duration": 1027,
    "start_time": "2024-07-10T17:50:33.894Z"
   },
   {
    "duration": 10,
    "start_time": "2024-07-10T17:50:34.924Z"
   },
   {
    "duration": 778,
    "start_time": "2024-07-10T17:50:34.939Z"
   },
   {
    "duration": 3,
    "start_time": "2024-07-10T17:50:35.722Z"
   },
   {
    "duration": 44,
    "start_time": "2024-07-10T17:50:35.728Z"
   },
   {
    "duration": 18,
    "start_time": "2024-07-10T17:50:35.775Z"
   },
   {
    "duration": 10,
    "start_time": "2024-07-10T17:50:35.796Z"
   },
   {
    "duration": 307,
    "start_time": "2024-07-10T17:50:35.810Z"
   },
   {
    "duration": 17,
    "start_time": "2024-07-10T17:50:36.122Z"
   },
   {
    "duration": 37,
    "start_time": "2024-07-10T17:50:36.142Z"
   },
   {
    "duration": 15,
    "start_time": "2024-07-10T17:50:36.182Z"
   },
   {
    "duration": 167,
    "start_time": "2024-07-10T17:50:36.203Z"
   },
   {
    "duration": 10,
    "start_time": "2024-07-10T17:50:36.373Z"
   },
   {
    "duration": 9,
    "start_time": "2024-07-10T17:50:36.386Z"
   },
   {
    "duration": 11,
    "start_time": "2024-07-10T17:50:36.398Z"
   },
   {
    "duration": 12,
    "start_time": "2024-07-10T17:50:36.412Z"
   },
   {
    "duration": 40,
    "start_time": "2024-07-10T17:50:36.468Z"
   },
   {
    "duration": 69,
    "start_time": "2024-07-10T17:50:36.510Z"
   },
   {
    "duration": 1078,
    "start_time": "2024-07-10T17:50:36.582Z"
   },
   {
    "duration": 627,
    "start_time": "2024-07-10T17:50:37.664Z"
   },
   {
    "duration": 576,
    "start_time": "2024-07-10T17:50:38.295Z"
   },
   {
    "duration": 8,
    "start_time": "2024-07-10T17:50:38.874Z"
   },
   {
    "duration": 2666,
    "start_time": "2024-07-10T17:50:38.886Z"
   },
   {
    "duration": 49,
    "start_time": "2024-07-10T17:50:41.556Z"
   },
   {
    "duration": 37,
    "start_time": "2024-07-10T17:50:41.608Z"
   },
   {
    "duration": 6,
    "start_time": "2024-07-10T17:50:41.668Z"
   },
   {
    "duration": 4,
    "start_time": "2024-07-10T17:50:41.683Z"
   },
   {
    "duration": 8,
    "start_time": "2024-07-10T17:50:41.690Z"
   },
   {
    "duration": 9,
    "start_time": "2024-07-10T17:50:41.701Z"
   },
   {
    "duration": 54,
    "start_time": "2024-07-10T17:50:41.713Z"
   },
   {
    "duration": 7,
    "start_time": "2024-07-10T17:50:41.770Z"
   },
   {
    "duration": 12,
    "start_time": "2024-07-10T17:50:41.781Z"
   },
   {
    "duration": 11,
    "start_time": "2024-07-10T17:50:41.796Z"
   },
   {
    "duration": 12,
    "start_time": "2024-07-10T17:50:41.810Z"
   },
   {
    "duration": 51,
    "start_time": "2024-07-10T17:50:41.824Z"
   },
   {
    "duration": 8,
    "start_time": "2024-07-10T17:50:41.879Z"
   },
   {
    "duration": 699,
    "start_time": "2024-07-10T17:50:41.890Z"
   },
   {
    "duration": 156335,
    "start_time": "2024-07-10T17:50:42.670Z"
   },
   {
    "duration": 5999,
    "start_time": "2024-07-10T17:53:19.010Z"
   },
   {
    "duration": 15993,
    "start_time": "2024-07-10T17:53:25.013Z"
   },
   {
    "duration": 1610,
    "start_time": "2024-07-10T17:54:07.500Z"
   },
   {
    "duration": 840,
    "start_time": "2024-07-10T17:54:09.113Z"
   },
   {
    "duration": 20,
    "start_time": "2024-07-10T17:54:09.955Z"
   },
   {
    "duration": 751,
    "start_time": "2024-07-10T17:54:09.981Z"
   },
   {
    "duration": 5,
    "start_time": "2024-07-10T17:54:10.735Z"
   },
   {
    "duration": 41,
    "start_time": "2024-07-10T17:54:10.743Z"
   },
   {
    "duration": 17,
    "start_time": "2024-07-10T17:54:10.787Z"
   },
   {
    "duration": 13,
    "start_time": "2024-07-10T17:54:10.807Z"
   },
   {
    "duration": 321,
    "start_time": "2024-07-10T17:54:10.824Z"
   },
   {
    "duration": 25,
    "start_time": "2024-07-10T17:54:11.150Z"
   },
   {
    "duration": 13,
    "start_time": "2024-07-10T17:54:11.178Z"
   },
   {
    "duration": 15,
    "start_time": "2024-07-10T17:54:11.193Z"
   },
   {
    "duration": 171,
    "start_time": "2024-07-10T17:54:11.211Z"
   },
   {
    "duration": 10,
    "start_time": "2024-07-10T17:54:11.384Z"
   },
   {
    "duration": 9,
    "start_time": "2024-07-10T17:54:11.397Z"
   },
   {
    "duration": 11,
    "start_time": "2024-07-10T17:54:11.409Z"
   },
   {
    "duration": 49,
    "start_time": "2024-07-10T17:54:11.422Z"
   },
   {
    "duration": 38,
    "start_time": "2024-07-10T17:54:11.473Z"
   },
   {
    "duration": 69,
    "start_time": "2024-07-10T17:54:11.516Z"
   },
   {
    "duration": 1052,
    "start_time": "2024-07-10T17:54:11.588Z"
   },
   {
    "duration": 553,
    "start_time": "2024-07-10T17:54:12.643Z"
   },
   {
    "duration": 551,
    "start_time": "2024-07-10T17:54:13.199Z"
   },
   {
    "duration": 18,
    "start_time": "2024-07-10T17:54:13.753Z"
   },
   {
    "duration": 2661,
    "start_time": "2024-07-10T17:54:13.774Z"
   },
   {
    "duration": 45,
    "start_time": "2024-07-10T17:54:16.438Z"
   },
   {
    "duration": 37,
    "start_time": "2024-07-10T17:54:16.486Z"
   },
   {
    "duration": 7,
    "start_time": "2024-07-10T17:54:16.525Z"
   },
   {
    "duration": 5,
    "start_time": "2024-07-10T17:54:16.570Z"
   },
   {
    "duration": 8,
    "start_time": "2024-07-10T17:54:16.579Z"
   },
   {
    "duration": 9,
    "start_time": "2024-07-10T17:54:16.590Z"
   },
   {
    "duration": 10,
    "start_time": "2024-07-10T17:54:16.602Z"
   },
   {
    "duration": 12,
    "start_time": "2024-07-10T17:54:16.616Z"
   },
   {
    "duration": 12,
    "start_time": "2024-07-10T17:54:16.669Z"
   },
   {
    "duration": 8,
    "start_time": "2024-07-10T17:54:16.685Z"
   },
   {
    "duration": 10,
    "start_time": "2024-07-10T17:54:16.696Z"
   },
   {
    "duration": 10,
    "start_time": "2024-07-10T17:54:16.710Z"
   },
   {
    "duration": 47,
    "start_time": "2024-07-10T17:54:16.723Z"
   },
   {
    "duration": 502,
    "start_time": "2024-07-10T17:54:16.774Z"
   },
   {
    "duration": 157247,
    "start_time": "2024-07-10T17:54:17.280Z"
   },
   {
    "duration": 6156,
    "start_time": "2024-07-10T17:56:54.530Z"
   },
   {
    "duration": 31757,
    "start_time": "2024-07-10T17:57:00.690Z"
   },
   {
    "duration": 327,
    "start_time": "2024-07-10T18:01:22.727Z"
   },
   {
    "duration": 30,
    "start_time": "2024-07-10T18:01:26.973Z"
   },
   {
    "duration": 30,
    "start_time": "2024-07-10T18:01:28.032Z"
   },
   {
    "duration": 22,
    "start_time": "2024-07-10T18:01:32.588Z"
   },
   {
    "duration": 1671,
    "start_time": "2024-07-10T18:01:41.493Z"
   },
   {
    "duration": 1045,
    "start_time": "2024-07-10T18:01:43.170Z"
   },
   {
    "duration": 10,
    "start_time": "2024-07-10T18:01:44.217Z"
   },
   {
    "duration": 769,
    "start_time": "2024-07-10T18:01:44.230Z"
   },
   {
    "duration": 4,
    "start_time": "2024-07-10T18:01:45.004Z"
   },
   {
    "duration": 30,
    "start_time": "2024-07-10T18:01:45.011Z"
   },
   {
    "duration": 36,
    "start_time": "2024-07-10T18:01:45.044Z"
   },
   {
    "duration": 11,
    "start_time": "2024-07-10T18:01:45.085Z"
   },
   {
    "duration": 308,
    "start_time": "2024-07-10T18:01:45.100Z"
   },
   {
    "duration": 14,
    "start_time": "2024-07-10T18:01:45.411Z"
   },
   {
    "duration": 39,
    "start_time": "2024-07-10T18:01:45.428Z"
   },
   {
    "duration": 16,
    "start_time": "2024-07-10T18:01:45.470Z"
   },
   {
    "duration": 161,
    "start_time": "2024-07-10T18:01:45.490Z"
   },
   {
    "duration": 17,
    "start_time": "2024-07-10T18:01:45.659Z"
   },
   {
    "duration": 10,
    "start_time": "2024-07-10T18:01:45.680Z"
   },
   {
    "duration": 11,
    "start_time": "2024-07-10T18:01:45.694Z"
   },
   {
    "duration": 10,
    "start_time": "2024-07-10T18:01:45.709Z"
   },
   {
    "duration": 79,
    "start_time": "2024-07-10T18:01:45.723Z"
   },
   {
    "duration": 66,
    "start_time": "2024-07-10T18:01:45.805Z"
   },
   {
    "duration": 1046,
    "start_time": "2024-07-10T18:01:45.874Z"
   },
   {
    "duration": 531,
    "start_time": "2024-07-10T18:01:46.923Z"
   },
   {
    "duration": 589,
    "start_time": "2024-07-10T18:01:47.457Z"
   },
   {
    "duration": 7,
    "start_time": "2024-07-10T18:01:48.049Z"
   },
   {
    "duration": 2605,
    "start_time": "2024-07-10T18:01:48.068Z"
   },
   {
    "duration": 35,
    "start_time": "2024-07-10T18:01:50.677Z"
   },
   {
    "duration": 63,
    "start_time": "2024-07-10T18:01:50.715Z"
   },
   {
    "duration": 6,
    "start_time": "2024-07-10T18:01:50.781Z"
   },
   {
    "duration": 6,
    "start_time": "2024-07-10T18:01:50.791Z"
   },
   {
    "duration": 8,
    "start_time": "2024-07-10T18:01:50.799Z"
   },
   {
    "duration": 9,
    "start_time": "2024-07-10T18:01:50.810Z"
   },
   {
    "duration": 46,
    "start_time": "2024-07-10T18:01:50.822Z"
   },
   {
    "duration": 6,
    "start_time": "2024-07-10T18:01:50.872Z"
   },
   {
    "duration": 13,
    "start_time": "2024-07-10T18:01:50.881Z"
   },
   {
    "duration": 9,
    "start_time": "2024-07-10T18:01:50.897Z"
   },
   {
    "duration": 11,
    "start_time": "2024-07-10T18:01:50.909Z"
   },
   {
    "duration": 10,
    "start_time": "2024-07-10T18:01:50.967Z"
   },
   {
    "duration": 7,
    "start_time": "2024-07-10T18:01:50.980Z"
   },
   {
    "duration": 484,
    "start_time": "2024-07-10T18:01:50.991Z"
   },
   {
    "duration": 158578,
    "start_time": "2024-07-10T18:01:51.478Z"
   },
   {
    "duration": 5949,
    "start_time": "2024-07-10T18:04:30.060Z"
   },
   {
    "duration": 1691,
    "start_time": "2024-07-10T18:04:53.460Z"
   },
   {
    "duration": 863,
    "start_time": "2024-07-10T18:04:55.154Z"
   },
   {
    "duration": 12,
    "start_time": "2024-07-10T18:04:56.019Z"
   },
   {
    "duration": 770,
    "start_time": "2024-07-10T18:04:56.035Z"
   },
   {
    "duration": 4,
    "start_time": "2024-07-10T18:04:56.808Z"
   },
   {
    "duration": 24,
    "start_time": "2024-07-10T18:04:56.815Z"
   },
   {
    "duration": 18,
    "start_time": "2024-07-10T18:04:56.868Z"
   },
   {
    "duration": 11,
    "start_time": "2024-07-10T18:04:56.889Z"
   },
   {
    "duration": 338,
    "start_time": "2024-07-10T18:04:56.903Z"
   },
   {
    "duration": 26,
    "start_time": "2024-07-10T18:04:57.247Z"
   },
   {
    "duration": 14,
    "start_time": "2024-07-10T18:04:57.276Z"
   },
   {
    "duration": 14,
    "start_time": "2024-07-10T18:04:57.292Z"
   },
   {
    "duration": 187,
    "start_time": "2024-07-10T18:04:57.309Z"
   },
   {
    "duration": 11,
    "start_time": "2024-07-10T18:04:57.499Z"
   },
   {
    "duration": 8,
    "start_time": "2024-07-10T18:04:57.513Z"
   },
   {
    "duration": 45,
    "start_time": "2024-07-10T18:04:57.524Z"
   },
   {
    "duration": 10,
    "start_time": "2024-07-10T18:04:57.571Z"
   },
   {
    "duration": 39,
    "start_time": "2024-07-10T18:04:57.583Z"
   },
   {
    "duration": 71,
    "start_time": "2024-07-10T18:04:57.625Z"
   },
   {
    "duration": 1117,
    "start_time": "2024-07-10T18:04:57.699Z"
   },
   {
    "duration": 753,
    "start_time": "2024-07-10T18:04:58.819Z"
   },
   {
    "duration": 572,
    "start_time": "2024-07-10T18:04:59.575Z"
   },
   {
    "duration": 17,
    "start_time": "2024-07-10T18:05:00.150Z"
   },
   {
    "duration": 2698,
    "start_time": "2024-07-10T18:05:00.170Z"
   },
   {
    "duration": 36,
    "start_time": "2024-07-10T18:05:02.871Z"
   },
   {
    "duration": 65,
    "start_time": "2024-07-10T18:05:02.910Z"
   },
   {
    "duration": 6,
    "start_time": "2024-07-10T18:05:02.979Z"
   },
   {
    "duration": 6,
    "start_time": "2024-07-10T18:05:02.995Z"
   },
   {
    "duration": 13,
    "start_time": "2024-07-10T18:05:03.005Z"
   },
   {
    "duration": 48,
    "start_time": "2024-07-10T18:05:03.022Z"
   },
   {
    "duration": 8,
    "start_time": "2024-07-10T18:05:03.073Z"
   },
   {
    "duration": 7,
    "start_time": "2024-07-10T18:05:03.084Z"
   },
   {
    "duration": 14,
    "start_time": "2024-07-10T18:05:03.095Z"
   },
   {
    "duration": 8,
    "start_time": "2024-07-10T18:05:03.112Z"
   },
   {
    "duration": 58,
    "start_time": "2024-07-10T18:05:03.122Z"
   },
   {
    "duration": 14,
    "start_time": "2024-07-10T18:05:03.183Z"
   },
   {
    "duration": 9,
    "start_time": "2024-07-10T18:05:03.200Z"
   },
   {
    "duration": 558,
    "start_time": "2024-07-10T18:05:03.212Z"
   },
   {
    "duration": 1599,
    "start_time": "2024-07-10T18:07:14.076Z"
   },
   {
    "duration": 874,
    "start_time": "2024-07-10T18:07:15.679Z"
   },
   {
    "duration": 11,
    "start_time": "2024-07-10T18:07:16.568Z"
   },
   {
    "duration": 756,
    "start_time": "2024-07-10T18:07:16.583Z"
   },
   {
    "duration": 3,
    "start_time": "2024-07-10T18:07:17.343Z"
   },
   {
    "duration": 38,
    "start_time": "2024-07-10T18:07:17.349Z"
   },
   {
    "duration": 21,
    "start_time": "2024-07-10T18:07:17.390Z"
   },
   {
    "duration": 15,
    "start_time": "2024-07-10T18:07:17.415Z"
   },
   {
    "duration": 321,
    "start_time": "2024-07-10T18:07:17.433Z"
   },
   {
    "duration": 14,
    "start_time": "2024-07-10T18:07:17.767Z"
   },
   {
    "duration": 13,
    "start_time": "2024-07-10T18:07:17.783Z"
   },
   {
    "duration": 15,
    "start_time": "2024-07-10T18:07:17.799Z"
   },
   {
    "duration": 189,
    "start_time": "2024-07-10T18:07:17.817Z"
   },
   {
    "duration": 12,
    "start_time": "2024-07-10T18:07:18.009Z"
   },
   {
    "duration": 10,
    "start_time": "2024-07-10T18:07:18.024Z"
   },
   {
    "duration": 44,
    "start_time": "2024-07-10T18:07:18.037Z"
   },
   {
    "duration": 10,
    "start_time": "2024-07-10T18:07:18.086Z"
   },
   {
    "duration": 77,
    "start_time": "2024-07-10T18:07:18.099Z"
   },
   {
    "duration": 34,
    "start_time": "2024-07-10T18:07:18.179Z"
   },
   {
    "duration": 1100,
    "start_time": "2024-07-10T18:07:18.216Z"
   },
   {
    "duration": 534,
    "start_time": "2024-07-10T18:07:19.320Z"
   },
   {
    "duration": 578,
    "start_time": "2024-07-10T18:07:19.857Z"
   },
   {
    "duration": 7,
    "start_time": "2024-07-10T18:07:20.438Z"
   },
   {
    "duration": 2691,
    "start_time": "2024-07-10T18:07:20.448Z"
   },
   {
    "duration": 40,
    "start_time": "2024-07-10T18:07:23.142Z"
   },
   {
    "duration": 38,
    "start_time": "2024-07-10T18:07:23.185Z"
   },
   {
    "duration": 6,
    "start_time": "2024-07-10T18:07:23.226Z"
   },
   {
    "duration": 4,
    "start_time": "2024-07-10T18:07:23.268Z"
   },
   {
    "duration": 8,
    "start_time": "2024-07-10T18:07:23.275Z"
   },
   {
    "duration": 8,
    "start_time": "2024-07-10T18:07:23.288Z"
   },
   {
    "duration": 7,
    "start_time": "2024-07-10T18:07:23.300Z"
   },
   {
    "duration": 8,
    "start_time": "2024-07-10T18:07:23.310Z"
   },
   {
    "duration": 56,
    "start_time": "2024-07-10T18:07:23.321Z"
   },
   {
    "duration": 8,
    "start_time": "2024-07-10T18:07:23.382Z"
   },
   {
    "duration": 10,
    "start_time": "2024-07-10T18:07:23.392Z"
   },
   {
    "duration": 12,
    "start_time": "2024-07-10T18:07:23.405Z"
   },
   {
    "duration": 48,
    "start_time": "2024-07-10T18:07:23.419Z"
   },
   {
    "duration": 520,
    "start_time": "2024-07-10T18:07:23.470Z"
   },
   {
    "duration": 311164,
    "start_time": "2024-07-10T18:07:24.069Z"
   },
   {
    "duration": 33,
    "start_time": "2024-07-10T18:12:35.236Z"
   },
   {
    "duration": 5924,
    "start_time": "2024-07-10T18:12:35.272Z"
   },
   {
    "duration": 32102,
    "start_time": "2024-07-10T18:12:41.199Z"
   },
   {
    "duration": 313,
    "start_time": "2024-07-10T18:13:31.276Z"
   },
   {
    "duration": 28,
    "start_time": "2024-07-10T18:13:46.998Z"
   },
   {
    "duration": 22,
    "start_time": "2024-07-10T18:13:51.221Z"
   },
   {
    "duration": 1665,
    "start_time": "2024-07-10T18:14:06.828Z"
   },
   {
    "duration": 143,
    "start_time": "2024-07-10T18:14:16.614Z"
   },
   {
    "duration": 1611,
    "start_time": "2024-07-10T18:14:26.185Z"
   },
   {
    "duration": 1038,
    "start_time": "2024-07-10T18:14:27.800Z"
   },
   {
    "duration": 31,
    "start_time": "2024-07-10T18:14:28.841Z"
   },
   {
    "duration": 753,
    "start_time": "2024-07-10T18:14:28.880Z"
   },
   {
    "duration": 3,
    "start_time": "2024-07-10T18:14:29.636Z"
   },
   {
    "duration": 39,
    "start_time": "2024-07-10T18:14:29.643Z"
   },
   {
    "duration": 17,
    "start_time": "2024-07-10T18:14:29.685Z"
   },
   {
    "duration": 11,
    "start_time": "2024-07-10T18:14:29.705Z"
   },
   {
    "duration": 314,
    "start_time": "2024-07-10T18:14:29.719Z"
   },
   {
    "duration": 28,
    "start_time": "2024-07-10T18:14:30.039Z"
   },
   {
    "duration": 17,
    "start_time": "2024-07-10T18:14:30.070Z"
   },
   {
    "duration": 16,
    "start_time": "2024-07-10T18:14:30.091Z"
   },
   {
    "duration": 180,
    "start_time": "2024-07-10T18:14:30.110Z"
   },
   {
    "duration": 12,
    "start_time": "2024-07-10T18:14:30.293Z"
   },
   {
    "duration": 8,
    "start_time": "2024-07-10T18:14:30.309Z"
   },
   {
    "duration": 48,
    "start_time": "2024-07-10T18:14:30.320Z"
   },
   {
    "duration": 8,
    "start_time": "2024-07-10T18:14:30.371Z"
   },
   {
    "duration": 36,
    "start_time": "2024-07-10T18:14:30.381Z"
   },
   {
    "duration": 71,
    "start_time": "2024-07-10T18:14:30.420Z"
   },
   {
    "duration": 1025,
    "start_time": "2024-07-10T18:14:30.495Z"
   },
   {
    "duration": 534,
    "start_time": "2024-07-10T18:14:31.527Z"
   },
   {
    "duration": 582,
    "start_time": "2024-07-10T18:14:32.065Z"
   },
   {
    "duration": 18,
    "start_time": "2024-07-10T18:14:32.650Z"
   },
   {
    "duration": 2621,
    "start_time": "2024-07-10T18:14:32.671Z"
   },
   {
    "duration": 36,
    "start_time": "2024-07-10T18:14:35.295Z"
   },
   {
    "duration": 65,
    "start_time": "2024-07-10T18:14:35.334Z"
   },
   {
    "duration": 6,
    "start_time": "2024-07-10T18:14:35.402Z"
   },
   {
    "duration": 5,
    "start_time": "2024-07-10T18:14:35.417Z"
   },
   {
    "duration": 8,
    "start_time": "2024-07-10T18:14:35.425Z"
   },
   {
    "duration": 38,
    "start_time": "2024-07-10T18:14:35.436Z"
   },
   {
    "duration": 9,
    "start_time": "2024-07-10T18:14:35.476Z"
   },
   {
    "duration": 7,
    "start_time": "2024-07-10T18:14:35.488Z"
   },
   {
    "duration": 12,
    "start_time": "2024-07-10T18:14:35.498Z"
   },
   {
    "duration": 56,
    "start_time": "2024-07-10T18:14:35.512Z"
   },
   {
    "duration": 11,
    "start_time": "2024-07-10T18:14:35.571Z"
   },
   {
    "duration": 11,
    "start_time": "2024-07-10T18:14:35.584Z"
   },
   {
    "duration": 7,
    "start_time": "2024-07-10T18:14:35.599Z"
   },
   {
    "duration": 557,
    "start_time": "2024-07-10T18:14:35.610Z"
   },
   {
    "duration": 310432,
    "start_time": "2024-07-10T18:14:36.173Z"
   },
   {
    "duration": 22,
    "start_time": "2024-07-10T18:19:46.608Z"
   },
   {
    "duration": 5968,
    "start_time": "2024-07-10T18:19:46.633Z"
   },
   {
    "duration": 31885,
    "start_time": "2024-07-10T18:19:52.604Z"
   },
   {
    "duration": 5276,
    "start_time": "2024-07-10T20:17:11.423Z"
   },
   {
    "duration": 1056,
    "start_time": "2024-07-10T20:17:16.703Z"
   },
   {
    "duration": 11,
    "start_time": "2024-07-10T20:17:17.762Z"
   },
   {
    "duration": 767,
    "start_time": "2024-07-10T20:17:17.776Z"
   },
   {
    "duration": 7,
    "start_time": "2024-07-10T20:17:18.549Z"
   },
   {
    "duration": 24,
    "start_time": "2024-07-10T20:17:18.559Z"
   },
   {
    "duration": 45,
    "start_time": "2024-07-10T20:17:18.586Z"
   },
   {
    "duration": 12,
    "start_time": "2024-07-10T20:17:18.634Z"
   },
   {
    "duration": 372,
    "start_time": "2024-07-10T20:17:18.648Z"
   },
   {
    "duration": 14,
    "start_time": "2024-07-10T20:17:19.023Z"
   },
   {
    "duration": 12,
    "start_time": "2024-07-10T20:17:19.040Z"
   },
   {
    "duration": 16,
    "start_time": "2024-07-10T20:17:19.055Z"
   },
   {
    "duration": 186,
    "start_time": "2024-07-10T20:17:19.074Z"
   },
   {
    "duration": 11,
    "start_time": "2024-07-10T20:17:19.268Z"
   },
   {
    "duration": 10,
    "start_time": "2024-07-10T20:17:19.282Z"
   },
   {
    "duration": 10,
    "start_time": "2024-07-10T20:17:19.322Z"
   },
   {
    "duration": 9,
    "start_time": "2024-07-10T20:17:19.335Z"
   },
   {
    "duration": 77,
    "start_time": "2024-07-10T20:17:19.348Z"
   },
   {
    "duration": 38,
    "start_time": "2024-07-10T20:17:19.427Z"
   },
   {
    "duration": 1138,
    "start_time": "2024-07-10T20:17:19.469Z"
   },
   {
    "duration": 566,
    "start_time": "2024-07-10T20:17:20.610Z"
   },
   {
    "duration": 559,
    "start_time": "2024-07-10T20:17:21.179Z"
   },
   {
    "duration": 11,
    "start_time": "2024-07-10T20:17:21.741Z"
   },
   {
    "duration": 2642,
    "start_time": "2024-07-10T20:17:21.755Z"
   },
   {
    "duration": 41,
    "start_time": "2024-07-10T20:17:24.400Z"
   },
   {
    "duration": 38,
    "start_time": "2024-07-10T20:17:24.444Z"
   },
   {
    "duration": 6,
    "start_time": "2024-07-10T20:17:24.485Z"
   },
   {
    "duration": 5,
    "start_time": "2024-07-10T20:17:24.522Z"
   },
   {
    "duration": 8,
    "start_time": "2024-07-10T20:17:24.531Z"
   },
   {
    "duration": 10,
    "start_time": "2024-07-10T20:17:24.543Z"
   },
   {
    "duration": 7,
    "start_time": "2024-07-10T20:17:24.556Z"
   },
   {
    "duration": 8,
    "start_time": "2024-07-10T20:17:24.567Z"
   },
   {
    "duration": 12,
    "start_time": "2024-07-10T20:17:24.624Z"
   },
   {
    "duration": 8,
    "start_time": "2024-07-10T20:17:24.638Z"
   },
   {
    "duration": 13,
    "start_time": "2024-07-10T20:17:24.649Z"
   },
   {
    "duration": 10,
    "start_time": "2024-07-10T20:17:24.665Z"
   },
   {
    "duration": 7,
    "start_time": "2024-07-10T20:17:24.722Z"
   },
   {
    "duration": 511,
    "start_time": "2024-07-10T20:17:24.732Z"
   },
   {
    "duration": 312309,
    "start_time": "2024-07-10T20:17:25.246Z"
   },
   {
    "duration": 22,
    "start_time": "2024-07-10T20:22:37.558Z"
   },
   {
    "duration": 5958,
    "start_time": "2024-07-10T20:22:37.589Z"
   },
   {
    "duration": 31973,
    "start_time": "2024-07-10T20:22:43.550Z"
   },
   {
    "duration": 1633,
    "start_time": "2024-07-10T20:28:26.762Z"
   },
   {
    "duration": 1025,
    "start_time": "2024-07-10T20:28:28.399Z"
   },
   {
    "duration": 10,
    "start_time": "2024-07-10T20:28:29.427Z"
   },
   {
    "duration": 827,
    "start_time": "2024-07-10T20:28:29.441Z"
   },
   {
    "duration": 4,
    "start_time": "2024-07-10T20:28:30.271Z"
   },
   {
    "duration": 48,
    "start_time": "2024-07-10T20:28:30.277Z"
   },
   {
    "duration": 16,
    "start_time": "2024-07-10T20:28:30.329Z"
   },
   {
    "duration": 13,
    "start_time": "2024-07-10T20:28:30.348Z"
   },
   {
    "duration": 312,
    "start_time": "2024-07-10T20:28:30.364Z"
   },
   {
    "duration": 14,
    "start_time": "2024-07-10T20:28:30.683Z"
   },
   {
    "duration": 36,
    "start_time": "2024-07-10T20:28:30.700Z"
   },
   {
    "duration": 15,
    "start_time": "2024-07-10T20:28:30.739Z"
   },
   {
    "duration": 185,
    "start_time": "2024-07-10T20:28:30.757Z"
   },
   {
    "duration": 10,
    "start_time": "2024-07-10T20:28:30.945Z"
   },
   {
    "duration": 9,
    "start_time": "2024-07-10T20:28:30.958Z"
   },
   {
    "duration": 11,
    "start_time": "2024-07-10T20:28:30.970Z"
   },
   {
    "duration": 45,
    "start_time": "2024-07-10T20:28:30.984Z"
   },
   {
    "duration": 37,
    "start_time": "2024-07-10T20:28:31.032Z"
   },
   {
    "duration": 80,
    "start_time": "2024-07-10T20:28:31.072Z"
   },
   {
    "duration": 1125,
    "start_time": "2024-07-10T20:28:31.155Z"
   },
   {
    "duration": 541,
    "start_time": "2024-07-10T20:28:32.282Z"
   },
   {
    "duration": 571,
    "start_time": "2024-07-10T20:28:32.826Z"
   },
   {
    "duration": 7,
    "start_time": "2024-07-10T20:28:33.400Z"
   },
   {
    "duration": 2779,
    "start_time": "2024-07-10T20:28:33.423Z"
   },
   {
    "duration": 43,
    "start_time": "2024-07-10T20:28:36.206Z"
   },
   {
    "duration": 40,
    "start_time": "2024-07-10T20:28:36.253Z"
   },
   {
    "duration": 27,
    "start_time": "2024-07-10T20:28:36.296Z"
   },
   {
    "duration": 5,
    "start_time": "2024-07-10T20:28:36.332Z"
   },
   {
    "duration": 8,
    "start_time": "2024-07-10T20:28:36.340Z"
   },
   {
    "duration": 12,
    "start_time": "2024-07-10T20:28:36.351Z"
   },
   {
    "duration": 10,
    "start_time": "2024-07-10T20:28:36.367Z"
   },
   {
    "duration": 51,
    "start_time": "2024-07-10T20:28:36.379Z"
   },
   {
    "duration": 16,
    "start_time": "2024-07-10T20:28:36.433Z"
   },
   {
    "duration": 9,
    "start_time": "2024-07-10T20:28:36.452Z"
   },
   {
    "duration": 12,
    "start_time": "2024-07-10T20:28:36.465Z"
   },
   {
    "duration": 10,
    "start_time": "2024-07-10T20:28:36.524Z"
   },
   {
    "duration": 7,
    "start_time": "2024-07-10T20:28:36.538Z"
   },
   {
    "duration": 596,
    "start_time": "2024-07-10T20:28:36.548Z"
   },
   {
    "duration": 311506,
    "start_time": "2024-07-10T20:28:37.147Z"
   },
   {
    "duration": 23,
    "start_time": "2024-07-10T20:33:48.656Z"
   },
   {
    "duration": 5961,
    "start_time": "2024-07-10T20:33:48.681Z"
   },
   {
    "duration": 31603,
    "start_time": "2024-07-10T20:33:54.645Z"
   },
   {
    "duration": 16,
    "start_time": "2024-07-10T20:34:26.251Z"
   },
   {
    "duration": 336,
    "start_time": "2024-07-10T20:34:44.907Z"
   },
   {
    "duration": 0,
    "start_time": "2024-07-10T20:34:45.246Z"
   },
   {
    "duration": 0,
    "start_time": "2024-07-10T20:34:45.249Z"
   },
   {
    "duration": 1587,
    "start_time": "2024-07-10T20:35:16.853Z"
   },
   {
    "duration": 141,
    "start_time": "2024-07-10T20:35:24.835Z"
   },
   {
    "duration": 1625,
    "start_time": "2024-07-10T20:37:22.038Z"
   },
   {
    "duration": 1055,
    "start_time": "2024-07-10T20:37:23.667Z"
   },
   {
    "duration": 10,
    "start_time": "2024-07-10T20:37:24.725Z"
   },
   {
    "duration": 774,
    "start_time": "2024-07-10T20:37:24.740Z"
   },
   {
    "duration": 8,
    "start_time": "2024-07-10T20:37:25.516Z"
   },
   {
    "duration": 24,
    "start_time": "2024-07-10T20:37:25.527Z"
   },
   {
    "duration": 16,
    "start_time": "2024-07-10T20:37:25.554Z"
   },
   {
    "duration": 11,
    "start_time": "2024-07-10T20:37:25.573Z"
   },
   {
    "duration": 294,
    "start_time": "2024-07-10T20:37:25.624Z"
   },
   {
    "duration": 13,
    "start_time": "2024-07-10T20:37:25.928Z"
   },
   {
    "duration": 13,
    "start_time": "2024-07-10T20:37:25.944Z"
   },
   {
    "duration": 14,
    "start_time": "2024-07-10T20:37:25.960Z"
   },
   {
    "duration": 143,
    "start_time": "2024-07-10T20:37:26.022Z"
   },
   {
    "duration": 12,
    "start_time": "2024-07-10T20:37:26.169Z"
   },
   {
    "duration": 39,
    "start_time": "2024-07-10T20:37:26.184Z"
   },
   {
    "duration": 9,
    "start_time": "2024-07-10T20:37:26.226Z"
   },
   {
    "duration": 8,
    "start_time": "2024-07-10T20:37:26.239Z"
   },
   {
    "duration": 77,
    "start_time": "2024-07-10T20:37:26.250Z"
   },
   {
    "duration": 34,
    "start_time": "2024-07-10T20:37:26.330Z"
   },
   {
    "duration": 1084,
    "start_time": "2024-07-10T20:37:26.367Z"
   },
   {
    "duration": 538,
    "start_time": "2024-07-10T20:37:27.455Z"
   },
   {
    "duration": 577,
    "start_time": "2024-07-10T20:37:27.996Z"
   },
   {
    "duration": 8,
    "start_time": "2024-07-10T20:37:28.576Z"
   },
   {
    "duration": 2689,
    "start_time": "2024-07-10T20:37:28.587Z"
   },
   {
    "duration": 46,
    "start_time": "2024-07-10T20:37:31.279Z"
   },
   {
    "duration": 37,
    "start_time": "2024-07-10T20:37:31.328Z"
   },
   {
    "duration": 6,
    "start_time": "2024-07-10T20:37:31.368Z"
   },
   {
    "duration": 4,
    "start_time": "2024-07-10T20:37:31.382Z"
   },
   {
    "duration": 37,
    "start_time": "2024-07-10T20:37:31.389Z"
   },
   {
    "duration": 9,
    "start_time": "2024-07-10T20:37:31.429Z"
   },
   {
    "duration": 7,
    "start_time": "2024-07-10T20:37:31.441Z"
   },
   {
    "duration": 7,
    "start_time": "2024-07-10T20:37:31.452Z"
   },
   {
    "duration": 61,
    "start_time": "2024-07-10T20:37:31.462Z"
   },
   {
    "duration": 8,
    "start_time": "2024-07-10T20:37:31.526Z"
   },
   {
    "duration": 10,
    "start_time": "2024-07-10T20:37:31.537Z"
   },
   {
    "duration": 11,
    "start_time": "2024-07-10T20:37:31.551Z"
   },
   {
    "duration": 7,
    "start_time": "2024-07-10T20:37:31.564Z"
   },
   {
    "duration": 565,
    "start_time": "2024-07-10T20:37:31.575Z"
   },
   {
    "duration": 227703,
    "start_time": "2024-07-10T20:37:32.143Z"
   },
   {
    "duration": 0,
    "start_time": "2024-07-10T20:41:19.850Z"
   },
   {
    "duration": 0,
    "start_time": "2024-07-10T20:41:19.852Z"
   },
   {
    "duration": 0,
    "start_time": "2024-07-10T20:41:19.854Z"
   },
   {
    "duration": 0,
    "start_time": "2024-07-10T20:41:19.856Z"
   },
   {
    "duration": 0,
    "start_time": "2024-07-10T20:41:19.858Z"
   },
   {
    "duration": 0,
    "start_time": "2024-07-10T20:41:19.859Z"
   },
   {
    "duration": 0,
    "start_time": "2024-07-10T20:41:19.861Z"
   },
   {
    "duration": 0,
    "start_time": "2024-07-10T20:41:19.864Z"
   },
   {
    "duration": 0,
    "start_time": "2024-07-10T20:41:19.866Z"
   },
   {
    "duration": 1663,
    "start_time": "2024-07-10T20:42:14.233Z"
   },
   {
    "duration": 891,
    "start_time": "2024-07-10T20:42:15.900Z"
   },
   {
    "duration": 33,
    "start_time": "2024-07-10T20:42:16.794Z"
   },
   {
    "duration": 789,
    "start_time": "2024-07-10T20:42:16.831Z"
   },
   {
    "duration": 5,
    "start_time": "2024-07-10T20:42:17.624Z"
   },
   {
    "duration": 24,
    "start_time": "2024-07-10T20:42:17.632Z"
   },
   {
    "duration": 18,
    "start_time": "2024-07-10T20:42:17.659Z"
   },
   {
    "duration": 45,
    "start_time": "2024-07-10T20:42:17.680Z"
   },
   {
    "duration": 310,
    "start_time": "2024-07-10T20:42:17.728Z"
   },
   {
    "duration": 13,
    "start_time": "2024-07-10T20:42:18.043Z"
   },
   {
    "duration": 13,
    "start_time": "2024-07-10T20:42:18.060Z"
   },
   {
    "duration": 51,
    "start_time": "2024-07-10T20:42:18.076Z"
   },
   {
    "duration": 155,
    "start_time": "2024-07-10T20:42:18.130Z"
   },
   {
    "duration": 11,
    "start_time": "2024-07-10T20:42:18.289Z"
   },
   {
    "duration": 22,
    "start_time": "2024-07-10T20:42:18.302Z"
   },
   {
    "duration": 10,
    "start_time": "2024-07-10T20:42:18.327Z"
   },
   {
    "duration": 9,
    "start_time": "2024-07-10T20:42:18.339Z"
   },
   {
    "duration": 80,
    "start_time": "2024-07-10T20:42:18.351Z"
   },
   {
    "duration": 36,
    "start_time": "2024-07-10T20:42:18.434Z"
   },
   {
    "duration": 1079,
    "start_time": "2024-07-10T20:42:18.472Z"
   },
   {
    "duration": 591,
    "start_time": "2024-07-10T20:42:19.554Z"
   },
   {
    "duration": 566,
    "start_time": "2024-07-10T20:42:20.147Z"
   },
   {
    "duration": 10,
    "start_time": "2024-07-10T20:42:20.725Z"
   },
   {
    "duration": 2684,
    "start_time": "2024-07-10T20:42:20.739Z"
   },
   {
    "duration": 34,
    "start_time": "2024-07-10T20:42:23.425Z"
   },
   {
    "duration": 63,
    "start_time": "2024-07-10T20:42:23.462Z"
   },
   {
    "duration": 6,
    "start_time": "2024-07-10T20:42:23.528Z"
   },
   {
    "duration": 4,
    "start_time": "2024-07-10T20:42:23.543Z"
   },
   {
    "duration": 9,
    "start_time": "2024-07-10T20:42:23.550Z"
   },
   {
    "duration": 10,
    "start_time": "2024-07-10T20:42:23.561Z"
   },
   {
    "duration": 8,
    "start_time": "2024-07-10T20:42:23.573Z"
   },
   {
    "duration": 7,
    "start_time": "2024-07-10T20:42:23.625Z"
   },
   {
    "duration": 12,
    "start_time": "2024-07-10T20:42:23.635Z"
   },
   {
    "duration": 7,
    "start_time": "2024-07-10T20:42:23.650Z"
   },
   {
    "duration": 11,
    "start_time": "2024-07-10T20:42:23.661Z"
   },
   {
    "duration": 11,
    "start_time": "2024-07-10T20:42:23.722Z"
   },
   {
    "duration": 7,
    "start_time": "2024-07-10T20:42:23.736Z"
   },
   {
    "duration": 485,
    "start_time": "2024-07-10T20:42:23.746Z"
   },
   {
    "duration": 312514,
    "start_time": "2024-07-10T20:42:24.234Z"
   },
   {
    "duration": 22,
    "start_time": "2024-07-10T20:47:36.752Z"
   },
   {
    "duration": 6,
    "start_time": "2024-07-10T20:47:36.778Z"
   },
   {
    "duration": 579,
    "start_time": "2024-07-10T20:47:36.789Z"
   },
   {
    "duration": 0,
    "start_time": "2024-07-10T20:47:37.371Z"
   },
   {
    "duration": 0,
    "start_time": "2024-07-10T20:47:37.373Z"
   },
   {
    "duration": 0,
    "start_time": "2024-07-10T20:47:37.375Z"
   },
   {
    "duration": 0,
    "start_time": "2024-07-10T20:47:37.376Z"
   },
   {
    "duration": 0,
    "start_time": "2024-07-10T20:47:37.378Z"
   },
   {
    "duration": 25,
    "start_time": "2024-07-10T20:49:55.088Z"
   },
   {
    "duration": 0,
    "start_time": "2024-07-10T20:49:55.116Z"
   },
   {
    "duration": 1,
    "start_time": "2024-07-10T20:49:55.118Z"
   },
   {
    "duration": 0,
    "start_time": "2024-07-10T20:49:55.121Z"
   },
   {
    "duration": 0,
    "start_time": "2024-07-10T20:49:55.124Z"
   },
   {
    "duration": 32,
    "start_time": "2024-07-10T20:50:04.502Z"
   },
   {
    "duration": 0,
    "start_time": "2024-07-10T20:50:04.537Z"
   },
   {
    "duration": 0,
    "start_time": "2024-07-10T20:50:04.540Z"
   },
   {
    "duration": 0,
    "start_time": "2024-07-10T20:50:04.542Z"
   },
   {
    "duration": 28,
    "start_time": "2024-07-10T20:50:18.235Z"
   },
   {
    "duration": 5,
    "start_time": "2024-07-10T20:50:22.515Z"
   },
   {
    "duration": 59,
    "start_time": "2024-07-10T20:50:25.920Z"
   },
   {
    "duration": 23,
    "start_time": "2024-07-10T20:50:44.422Z"
   },
   {
    "duration": 31,
    "start_time": "2024-07-10T20:50:47.469Z"
   },
   {
    "duration": 5340,
    "start_time": "2024-07-11T18:06:35.301Z"
   },
   {
    "duration": 1024,
    "start_time": "2024-07-11T18:06:40.645Z"
   },
   {
    "duration": 12,
    "start_time": "2024-07-11T18:06:41.672Z"
   },
   {
    "duration": 814,
    "start_time": "2024-07-11T18:06:41.688Z"
   },
   {
    "duration": 4,
    "start_time": "2024-07-11T18:06:42.505Z"
   },
   {
    "duration": 23,
    "start_time": "2024-07-11T18:06:42.513Z"
   },
   {
    "duration": 43,
    "start_time": "2024-07-11T18:06:42.539Z"
   },
   {
    "duration": 11,
    "start_time": "2024-07-11T18:06:42.585Z"
   },
   {
    "duration": 317,
    "start_time": "2024-07-11T18:06:42.600Z"
   },
   {
    "duration": 14,
    "start_time": "2024-07-11T18:06:42.922Z"
   },
   {
    "duration": 35,
    "start_time": "2024-07-11T18:06:42.938Z"
   },
   {
    "duration": 14,
    "start_time": "2024-07-11T18:06:42.976Z"
   },
   {
    "duration": 178,
    "start_time": "2024-07-11T18:06:42.994Z"
   },
   {
    "duration": 12,
    "start_time": "2024-07-11T18:06:43.175Z"
   },
   {
    "duration": 10,
    "start_time": "2024-07-11T18:06:43.190Z"
   },
   {
    "duration": 10,
    "start_time": "2024-07-11T18:06:43.204Z"
   },
   {
    "duration": 54,
    "start_time": "2024-07-11T18:06:43.217Z"
   },
   {
    "duration": 38,
    "start_time": "2024-07-11T18:06:43.275Z"
   },
   {
    "duration": 72,
    "start_time": "2024-07-11T18:06:43.316Z"
   },
   {
    "duration": 1177,
    "start_time": "2024-07-11T18:06:43.391Z"
   },
   {
    "duration": 552,
    "start_time": "2024-07-11T18:06:44.572Z"
   },
   {
    "duration": 570,
    "start_time": "2024-07-11T18:06:45.127Z"
   },
   {
    "duration": 8,
    "start_time": "2024-07-11T18:06:45.700Z"
   },
   {
    "duration": 2933,
    "start_time": "2024-07-11T18:06:45.711Z"
   },
   {
    "duration": 66,
    "start_time": "2024-07-11T18:06:48.647Z"
   },
   {
    "duration": 78,
    "start_time": "2024-07-11T18:06:48.717Z"
   },
   {
    "duration": 14,
    "start_time": "2024-07-11T18:06:48.801Z"
   },
   {
    "duration": 6,
    "start_time": "2024-07-11T18:06:48.831Z"
   },
   {
    "duration": 28,
    "start_time": "2024-07-11T18:06:48.841Z"
   },
   {
    "duration": 13,
    "start_time": "2024-07-11T18:06:48.876Z"
   },
   {
    "duration": 10,
    "start_time": "2024-07-11T18:06:48.893Z"
   },
   {
    "duration": 8,
    "start_time": "2024-07-11T18:06:48.907Z"
   },
   {
    "duration": 60,
    "start_time": "2024-07-11T18:06:48.920Z"
   },
   {
    "duration": 11,
    "start_time": "2024-07-11T18:06:48.984Z"
   },
   {
    "duration": 13,
    "start_time": "2024-07-11T18:06:48.999Z"
   },
   {
    "duration": 12,
    "start_time": "2024-07-11T18:06:49.016Z"
   },
   {
    "duration": 10,
    "start_time": "2024-07-11T18:06:49.069Z"
   },
   {
    "duration": 785,
    "start_time": "2024-07-11T18:06:49.084Z"
   },
   {
    "duration": 311829,
    "start_time": "2024-07-11T18:06:49.872Z"
   },
   {
    "duration": 22,
    "start_time": "2024-07-11T18:12:01.704Z"
   },
   {
    "duration": 5,
    "start_time": "2024-07-11T18:12:01.729Z"
   },
   {
    "duration": 458,
    "start_time": "2024-07-11T18:12:01.738Z"
   },
   {
    "duration": 0,
    "start_time": "2024-07-11T18:12:02.199Z"
   },
   {
    "duration": 0,
    "start_time": "2024-07-11T18:12:02.201Z"
   },
   {
    "duration": 0,
    "start_time": "2024-07-11T18:12:02.204Z"
   },
   {
    "duration": 0,
    "start_time": "2024-07-11T18:12:02.207Z"
   },
   {
    "duration": 0,
    "start_time": "2024-07-11T18:12:02.210Z"
   },
   {
    "duration": 9,
    "start_time": "2024-07-11T18:15:30.443Z"
   },
   {
    "duration": 1659,
    "start_time": "2024-07-11T18:18:37.968Z"
   },
   {
    "duration": 862,
    "start_time": "2024-07-11T18:18:39.631Z"
   },
   {
    "duration": 11,
    "start_time": "2024-07-11T18:18:40.496Z"
   },
   {
    "duration": 796,
    "start_time": "2024-07-11T18:18:40.511Z"
   },
   {
    "duration": 4,
    "start_time": "2024-07-11T18:18:41.310Z"
   },
   {
    "duration": 24,
    "start_time": "2024-07-11T18:18:41.316Z"
   },
   {
    "duration": 19,
    "start_time": "2024-07-11T18:18:41.367Z"
   },
   {
    "duration": 11,
    "start_time": "2024-07-11T18:18:41.389Z"
   },
   {
    "duration": 322,
    "start_time": "2024-07-11T18:18:41.403Z"
   },
   {
    "duration": 14,
    "start_time": "2024-07-11T18:18:41.731Z"
   },
   {
    "duration": 30,
    "start_time": "2024-07-11T18:18:41.748Z"
   },
   {
    "duration": 14,
    "start_time": "2024-07-11T18:18:41.781Z"
   },
   {
    "duration": 179,
    "start_time": "2024-07-11T18:18:41.799Z"
   },
   {
    "duration": 12,
    "start_time": "2024-07-11T18:18:41.981Z"
   },
   {
    "duration": 9,
    "start_time": "2024-07-11T18:18:41.996Z"
   },
   {
    "duration": 10,
    "start_time": "2024-07-11T18:18:42.007Z"
   },
   {
    "duration": 52,
    "start_time": "2024-07-11T18:18:42.020Z"
   },
   {
    "duration": 41,
    "start_time": "2024-07-11T18:18:42.076Z"
   },
   {
    "duration": 72,
    "start_time": "2024-07-11T18:18:42.120Z"
   },
   {
    "duration": 1073,
    "start_time": "2024-07-11T18:18:42.195Z"
   },
   {
    "duration": 550,
    "start_time": "2024-07-11T18:18:43.272Z"
   },
   {
    "duration": 591,
    "start_time": "2024-07-11T18:18:43.824Z"
   },
   {
    "duration": 7,
    "start_time": "2024-07-11T18:18:44.418Z"
   },
   {
    "duration": 2699,
    "start_time": "2024-07-11T18:18:44.428Z"
   },
   {
    "duration": 53,
    "start_time": "2024-07-11T18:18:47.130Z"
   },
   {
    "duration": 39,
    "start_time": "2024-07-11T18:18:47.186Z"
   },
   {
    "duration": 6,
    "start_time": "2024-07-11T18:18:47.228Z"
   },
   {
    "duration": 5,
    "start_time": "2024-07-11T18:18:47.272Z"
   },
   {
    "duration": 8,
    "start_time": "2024-07-11T18:18:47.280Z"
   },
   {
    "duration": 9,
    "start_time": "2024-07-11T18:18:47.291Z"
   },
   {
    "duration": 8,
    "start_time": "2024-07-11T18:18:47.303Z"
   },
   {
    "duration": 8,
    "start_time": "2024-07-11T18:18:47.313Z"
   },
   {
    "duration": 55,
    "start_time": "2024-07-11T18:18:47.324Z"
   },
   {
    "duration": 16,
    "start_time": "2024-07-11T18:18:47.383Z"
   },
   {
    "duration": 13,
    "start_time": "2024-07-11T18:18:47.404Z"
   },
   {
    "duration": 49,
    "start_time": "2024-07-11T18:18:47.420Z"
   },
   {
    "duration": 9,
    "start_time": "2024-07-11T18:18:47.472Z"
   },
   {
    "duration": 504,
    "start_time": "2024-07-11T18:18:47.485Z"
   },
   {
    "duration": 313736,
    "start_time": "2024-07-11T18:18:47.993Z"
   },
   {
    "duration": 39,
    "start_time": "2024-07-11T18:24:01.733Z"
   },
   {
    "duration": 5,
    "start_time": "2024-07-11T18:24:01.774Z"
   },
   {
    "duration": 8,
    "start_time": "2024-07-11T18:24:01.783Z"
   },
   {
    "duration": 1613,
    "start_time": "2024-07-11T18:43:30.597Z"
   },
   {
    "duration": 855,
    "start_time": "2024-07-11T18:43:32.213Z"
   },
   {
    "duration": 12,
    "start_time": "2024-07-11T18:43:33.072Z"
   },
   {
    "duration": 892,
    "start_time": "2024-07-11T18:43:33.088Z"
   },
   {
    "duration": 6,
    "start_time": "2024-07-11T18:43:33.986Z"
   },
   {
    "duration": 27,
    "start_time": "2024-07-11T18:43:33.995Z"
   },
   {
    "duration": 48,
    "start_time": "2024-07-11T18:43:34.025Z"
   },
   {
    "duration": 13,
    "start_time": "2024-07-11T18:43:34.076Z"
   },
   {
    "duration": 360,
    "start_time": "2024-07-11T18:43:34.093Z"
   },
   {
    "duration": 17,
    "start_time": "2024-07-11T18:43:34.456Z"
   },
   {
    "duration": 16,
    "start_time": "2024-07-11T18:43:34.477Z"
   },
   {
    "duration": 16,
    "start_time": "2024-07-11T18:43:34.495Z"
   },
   {
    "duration": 201,
    "start_time": "2024-07-11T18:43:34.515Z"
   },
   {
    "duration": 11,
    "start_time": "2024-07-11T18:43:34.724Z"
   },
   {
    "duration": 34,
    "start_time": "2024-07-11T18:43:34.738Z"
   },
   {
    "duration": 12,
    "start_time": "2024-07-11T18:43:34.775Z"
   },
   {
    "duration": 9,
    "start_time": "2024-07-11T18:43:34.790Z"
   },
   {
    "duration": 74,
    "start_time": "2024-07-11T18:43:34.801Z"
   },
   {
    "duration": 37,
    "start_time": "2024-07-11T18:43:34.878Z"
   },
   {
    "duration": 1107,
    "start_time": "2024-07-11T18:43:34.917Z"
   },
   {
    "duration": 548,
    "start_time": "2024-07-11T18:43:36.027Z"
   },
   {
    "duration": 566,
    "start_time": "2024-07-11T18:43:36.579Z"
   },
   {
    "duration": 20,
    "start_time": "2024-07-11T18:43:37.149Z"
   },
   {
    "duration": 2745,
    "start_time": "2024-07-11T18:43:37.172Z"
   },
   {
    "duration": 48,
    "start_time": "2024-07-11T18:43:39.920Z"
   },
   {
    "duration": 39,
    "start_time": "2024-07-11T18:43:39.970Z"
   },
   {
    "duration": 6,
    "start_time": "2024-07-11T18:43:40.012Z"
   },
   {
    "duration": 5,
    "start_time": "2024-07-11T18:43:40.022Z"
   },
   {
    "duration": 40,
    "start_time": "2024-07-11T18:43:40.031Z"
   },
   {
    "duration": 10,
    "start_time": "2024-07-11T18:43:40.074Z"
   },
   {
    "duration": 7,
    "start_time": "2024-07-11T18:43:40.087Z"
   },
   {
    "duration": 8,
    "start_time": "2024-07-11T18:43:40.098Z"
   },
   {
    "duration": 60,
    "start_time": "2024-07-11T18:43:40.108Z"
   },
   {
    "duration": 9,
    "start_time": "2024-07-11T18:43:40.171Z"
   },
   {
    "duration": 10,
    "start_time": "2024-07-11T18:43:40.183Z"
   },
   {
    "duration": 11,
    "start_time": "2024-07-11T18:43:40.196Z"
   },
   {
    "duration": 8,
    "start_time": "2024-07-11T18:43:40.210Z"
   },
   {
    "duration": 501,
    "start_time": "2024-07-11T18:43:40.267Z"
   },
   {
    "duration": 314639,
    "start_time": "2024-07-11T18:43:40.773Z"
   },
   {
    "duration": 22,
    "start_time": "2024-07-11T18:48:55.415Z"
   },
   {
    "duration": 21,
    "start_time": "2024-07-11T18:48:55.447Z"
   },
   {
    "duration": 10,
    "start_time": "2024-07-11T18:48:55.471Z"
   },
   {
    "duration": 606,
    "start_time": "2024-07-11T18:48:55.484Z"
   },
   {
    "duration": 0,
    "start_time": "2024-07-11T18:48:56.093Z"
   },
   {
    "duration": 0,
    "start_time": "2024-07-11T18:48:56.094Z"
   },
   {
    "duration": 0,
    "start_time": "2024-07-11T18:48:56.096Z"
   },
   {
    "duration": 0,
    "start_time": "2024-07-11T18:48:56.098Z"
   },
   {
    "duration": 6,
    "start_time": "2024-07-11T18:49:51.806Z"
   },
   {
    "duration": 1671,
    "start_time": "2024-07-11T18:51:16.735Z"
   },
   {
    "duration": 1081,
    "start_time": "2024-07-11T18:51:18.411Z"
   },
   {
    "duration": 13,
    "start_time": "2024-07-11T18:51:19.495Z"
   },
   {
    "duration": 819,
    "start_time": "2024-07-11T18:51:19.513Z"
   },
   {
    "duration": 3,
    "start_time": "2024-07-11T18:51:20.335Z"
   },
   {
    "duration": 44,
    "start_time": "2024-07-11T18:51:20.341Z"
   },
   {
    "duration": 20,
    "start_time": "2024-07-11T18:51:20.388Z"
   },
   {
    "duration": 15,
    "start_time": "2024-07-11T18:51:20.411Z"
   },
   {
    "duration": 336,
    "start_time": "2024-07-11T18:51:20.430Z"
   },
   {
    "duration": 16,
    "start_time": "2024-07-11T18:51:20.774Z"
   },
   {
    "duration": 17,
    "start_time": "2024-07-11T18:51:20.794Z"
   },
   {
    "duration": 56,
    "start_time": "2024-07-11T18:51:20.814Z"
   },
   {
    "duration": 163,
    "start_time": "2024-07-11T18:51:20.877Z"
   },
   {
    "duration": 13,
    "start_time": "2024-07-11T18:51:21.043Z"
   },
   {
    "duration": 8,
    "start_time": "2024-07-11T18:51:21.069Z"
   },
   {
    "duration": 11,
    "start_time": "2024-07-11T18:51:21.083Z"
   },
   {
    "duration": 10,
    "start_time": "2024-07-11T18:51:21.097Z"
   },
   {
    "duration": 82,
    "start_time": "2024-07-11T18:51:21.111Z"
   },
   {
    "duration": 73,
    "start_time": "2024-07-11T18:51:21.196Z"
   },
   {
    "duration": 1097,
    "start_time": "2024-07-11T18:51:21.275Z"
   },
   {
    "duration": 575,
    "start_time": "2024-07-11T18:51:22.375Z"
   },
   {
    "duration": 636,
    "start_time": "2024-07-11T18:51:22.956Z"
   },
   {
    "duration": 8,
    "start_time": "2024-07-11T18:51:23.596Z"
   },
   {
    "duration": 2932,
    "start_time": "2024-07-11T18:51:23.607Z"
   },
   {
    "duration": 66,
    "start_time": "2024-07-11T18:51:26.544Z"
   },
   {
    "duration": 52,
    "start_time": "2024-07-11T18:51:26.618Z"
   },
   {
    "duration": 7,
    "start_time": "2024-07-11T18:51:26.674Z"
   },
   {
    "duration": 6,
    "start_time": "2024-07-11T18:51:26.692Z"
   },
   {
    "duration": 10,
    "start_time": "2024-07-11T18:51:26.701Z"
   },
   {
    "duration": 53,
    "start_time": "2024-07-11T18:51:26.715Z"
   },
   {
    "duration": 7,
    "start_time": "2024-07-11T18:51:26.775Z"
   },
   {
    "duration": 12,
    "start_time": "2024-07-11T18:51:26.785Z"
   },
   {
    "duration": 15,
    "start_time": "2024-07-11T18:51:26.800Z"
   },
   {
    "duration": 9,
    "start_time": "2024-07-11T18:51:26.817Z"
   },
   {
    "duration": 11,
    "start_time": "2024-07-11T18:51:26.868Z"
   },
   {
    "duration": 13,
    "start_time": "2024-07-11T18:51:26.882Z"
   },
   {
    "duration": 8,
    "start_time": "2024-07-11T18:51:26.899Z"
   },
   {
    "duration": 788,
    "start_time": "2024-07-11T18:51:26.910Z"
   },
   {
    "duration": 325249,
    "start_time": "2024-07-11T18:51:27.701Z"
   },
   {
    "duration": 29,
    "start_time": "2024-07-11T18:56:52.953Z"
   },
   {
    "duration": 5,
    "start_time": "2024-07-11T18:56:52.985Z"
   },
   {
    "duration": 9,
    "start_time": "2024-07-11T18:56:52.994Z"
   },
   {
    "duration": 16,
    "start_time": "2024-07-12T09:02:49.699Z"
   }
  ],
  "kernelspec": {
   "display_name": "Python 3 (ipykernel)",
   "language": "python",
   "name": "python3"
  },
  "language_info": {
   "codemirror_mode": {
    "name": "ipython",
    "version": 3
   },
   "file_extension": ".py",
   "mimetype": "text/x-python",
   "name": "python",
   "nbconvert_exporter": "python",
   "pygments_lexer": "ipython3",
   "version": "3.9.19"
  },
  "toc": {
   "base_numbering": 1,
   "nav_menu": {},
   "number_sections": true,
   "sideBar": true,
   "skip_h1_title": true,
   "title_cell": "Table of Contents",
   "title_sidebar": "Contents",
   "toc_cell": false,
   "toc_position": {},
   "toc_section_display": true,
   "toc_window_display": false
  }
 },
 "nbformat": 4,
 "nbformat_minor": 2
}
