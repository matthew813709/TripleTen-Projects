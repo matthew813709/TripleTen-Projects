{
 "cells": [
  {
   "cell_type": "markdown",
   "id": "f85a80d2",
   "metadata": {},
   "source": [
    "## Basic Python - Project <a id='intro'></a>"
   ]
  },
  {
   "cell_type": "markdown",
   "id": "a1262df4",
   "metadata": {},
   "source": [
    "## Introduction <a id='intro'></a>\n",
    "In this project, you will work with data from the entertainment industry. You will study a dataset with records on movies and shows. The research will focus on the \"Golden Age\" of television, which began in 1999 with the release of *The Sopranos* and is still ongoing.\n",
    "\n",
    "The aim of this project is to investigate how the number of votes a title receives impacts its ratings. The assumption is that highly-rated shows (we will focus on TV shows, ignoring movies) released during the \"Golden Age\" of television also have the most votes.\n",
    "\n",
    "### Stages \n",
    "Data on movies and shows is stored in the `/datasets/movies_and_shows.csv` file. There is no information about the quality of the data, so you will need to explore it before doing the analysis.\n",
    "\n",
    "First, you'll evaluate the quality of the data and see whether its issues are significant. Then, during data preprocessing, you will try to account for the most critical problems.\n",
    " \n",
    "Your project will consist of three stages:\n",
    " 1. Data overview\n",
    " 2. Data preprocessing\n",
    " 3. Data analysis"
   ]
  },
  {
   "cell_type": "markdown",
   "id": "ac0593ac",
   "metadata": {},
   "source": [
    "## Stage 1. Data overview <a id='data_review'></a>\n",
    "\n",
    "Open and explore the data."
   ]
  },
  {
   "cell_type": "markdown",
   "id": "e86ed00e",
   "metadata": {},
   "source": [
    "You'll need `pandas`, so import it."
   ]
  },
  {
   "cell_type": "code",
   "execution_count": 1,
   "id": "1727d3f8",
   "metadata": {},
   "outputs": [],
   "source": [
    "# importing pandas\n",
    "import pandas as pd"
   ]
  },
  {
   "cell_type": "markdown",
   "id": "9821beeb",
   "metadata": {},
   "source": [
    "Read the `movies_and_shows.csv` file from the `datasets` folder and save it in the `df` variable:"
   ]
  },
  {
   "cell_type": "code",
   "execution_count": 2,
   "id": "fc5a1402",
   "metadata": {},
   "outputs": [],
   "source": [
    "try:\n",
    "    # Assuming the variable 'server_path' holds alternative paths\n",
    "    orders = pd.read_csv('/datasets/movies_and_shows.csv')\n",
    "except FileNotFoundError:\n",
    "    # Provide the correct path or operation in the exception block\n",
    "    orders = pd.read_csv(server_path['orders'])\n",
    "    print(orders)"
   ]
  },
  {
   "cell_type": "markdown",
   "id": "1cd0a96d",
   "metadata": {},
   "source": [
    "Print the first 10 table rows:"
   ]
  },
  {
   "cell_type": "code",
   "execution_count": 3,
   "id": "acd92001",
   "metadata": {},
   "outputs": [
    {
     "name": "stdout",
     "output_type": "stream",
     "text": [
      "              name                      Character   r0le        TITLE   Type  \\\n",
      "0   Robert De Niro                  Travis Bickle  ACTOR  Taxi Driver  MOVIE   \n",
      "1     Jodie Foster                  Iris Steensma  ACTOR  Taxi Driver  MOVIE   \n",
      "2    Albert Brooks                            Tom  ACTOR  Taxi Driver  MOVIE   \n",
      "3    Harvey Keitel        Matthew 'Sport' Higgins  ACTOR  Taxi Driver  MOVIE   \n",
      "4  Cybill Shepherd                          Betsy  ACTOR  Taxi Driver  MOVIE   \n",
      "5      Peter Boyle                         Wizard  ACTOR  Taxi Driver  MOVIE   \n",
      "6   Leonard Harris      Senator Charles Palantine  ACTOR  Taxi Driver  MOVIE   \n",
      "7   Diahnne Abbott                Concession Girl  ACTOR  Taxi Driver  MOVIE   \n",
      "8      Gino Ardito             Policeman at Rally  ACTOR  Taxi Driver  MOVIE   \n",
      "9  Martin Scorsese  Passenger Watching Silhouette  ACTOR  Taxi Driver  MOVIE   \n",
      "\n",
      "   release Year              genres  imdb sc0re  imdb v0tes  \n",
      "0          1976  ['drama', 'crime']         8.2    808582.0  \n",
      "1          1976  ['drama', 'crime']         8.2    808582.0  \n",
      "2          1976  ['drama', 'crime']         8.2    808582.0  \n",
      "3          1976  ['drama', 'crime']         8.2    808582.0  \n",
      "4          1976  ['drama', 'crime']         8.2    808582.0  \n",
      "5          1976  ['drama', 'crime']         8.2    808582.0  \n",
      "6          1976  ['drama', 'crime']         8.2    808582.0  \n",
      "7          1976  ['drama', 'crime']         8.2    808582.0  \n",
      "8          1976  ['drama', 'crime']         8.2    808582.0  \n",
      "9          1976  ['drama', 'crime']         8.2    808582.0  \n"
     ]
    }
   ],
   "source": [
    "# obtaining the first 10 rows from the df table\n",
    "# hint: you can use head() and tail() in Jupyter Notebook without wrapping them into print()\n",
    "import pandas as pd\n",
    "\n",
    "df = pd.read_csv('/datasets/movies_and_shows.csv')\n",
    "\n",
    "print(df.head(10))"
   ]
  },
  {
   "cell_type": "markdown",
   "id": "e579aa91",
   "metadata": {},
   "source": [
    "Obtain the general information about the table with one command:"
   ]
  },
  {
   "cell_type": "code",
   "execution_count": 4,
   "id": "7bf66d2a",
   "metadata": {},
   "outputs": [
    {
     "name": "stdout",
     "output_type": "stream",
     "text": [
      "              name                      Character   r0le        TITLE   Type  \\\n",
      "0   Robert De Niro                  Travis Bickle  ACTOR  Taxi Driver  MOVIE   \n",
      "1     Jodie Foster                  Iris Steensma  ACTOR  Taxi Driver  MOVIE   \n",
      "2    Albert Brooks                            Tom  ACTOR  Taxi Driver  MOVIE   \n",
      "3    Harvey Keitel        Matthew 'Sport' Higgins  ACTOR  Taxi Driver  MOVIE   \n",
      "4  Cybill Shepherd                          Betsy  ACTOR  Taxi Driver  MOVIE   \n",
      "5      Peter Boyle                         Wizard  ACTOR  Taxi Driver  MOVIE   \n",
      "6   Leonard Harris      Senator Charles Palantine  ACTOR  Taxi Driver  MOVIE   \n",
      "7   Diahnne Abbott                Concession Girl  ACTOR  Taxi Driver  MOVIE   \n",
      "8      Gino Ardito             Policeman at Rally  ACTOR  Taxi Driver  MOVIE   \n",
      "9  Martin Scorsese  Passenger Watching Silhouette  ACTOR  Taxi Driver  MOVIE   \n",
      "\n",
      "   release Year              genres  imdb sc0re  imdb v0tes  \n",
      "0          1976  ['drama', 'crime']         8.2    808582.0  \n",
      "1          1976  ['drama', 'crime']         8.2    808582.0  \n",
      "2          1976  ['drama', 'crime']         8.2    808582.0  \n",
      "3          1976  ['drama', 'crime']         8.2    808582.0  \n",
      "4          1976  ['drama', 'crime']         8.2    808582.0  \n",
      "5          1976  ['drama', 'crime']         8.2    808582.0  \n",
      "6          1976  ['drama', 'crime']         8.2    808582.0  \n",
      "7          1976  ['drama', 'crime']         8.2    808582.0  \n",
      "8          1976  ['drama', 'crime']         8.2    808582.0  \n",
      "9          1976  ['drama', 'crime']         8.2    808582.0  \n",
      "<class 'pandas.core.frame.DataFrame'>\n",
      "RangeIndex: 85579 entries, 0 to 85578\n",
      "Data columns (total 9 columns):\n",
      " #   Column        Non-Null Count  Dtype  \n",
      "---  ------        --------------  -----  \n",
      " 0      name       85579 non-null  object \n",
      " 1   character     85579 non-null  object \n",
      " 2   role          85579 non-null  object \n",
      " 3   title         85578 non-null  object \n",
      " 4   type          85579 non-null  object \n",
      " 5   release_year  85579 non-null  int64  \n",
      " 6   genres        85579 non-null  object \n",
      " 7   imdb_score    80970 non-null  float64\n",
      " 8   imdb_votes    80853 non-null  float64\n",
      "dtypes: float64(2), int64(1), object(6)\n",
      "memory usage: 5.9+ MB\n",
      "                     name                character      role        title  \\\n",
      "0          Robert De Niro            Travis Bickle     ACTOR  Taxi Driver   \n",
      "1            Jodie Foster            Iris Steensma     ACTOR  Taxi Driver   \n",
      "2           Albert Brooks                      Tom     ACTOR  Taxi Driver   \n",
      "3           Harvey Keitel  Matthew 'Sport' Higgins     ACTOR  Taxi Driver   \n",
      "4         Cybill Shepherd                    Betsy     ACTOR  Taxi Driver   \n",
      "...                   ...                      ...       ...          ...   \n",
      "85574    Adelaida Buscato               Mar??a Paz     ACTOR      Lokillo   \n",
      "85575  Luz Stella Luengas             Karen Bayona     ACTOR      Lokillo   \n",
      "85576        In??s Prieto                    Fanny     ACTOR      Lokillo   \n",
      "85577        Isabel Gaona                   Cacica     ACTOR      Lokillo   \n",
      "85578      Julian Gaviria                  unknown  DIRECTOR      Lokillo   \n",
      "\n",
      "            type  release_year              genres  imdb_score  imdb_votes  \n",
      "0          MOVIE          1976  ['drama', 'crime']         8.2    808582.0  \n",
      "1          MOVIE          1976  ['drama', 'crime']         8.2    808582.0  \n",
      "2          MOVIE          1976  ['drama', 'crime']         8.2    808582.0  \n",
      "3          MOVIE          1976  ['drama', 'crime']         8.2    808582.0  \n",
      "4          MOVIE          1976  ['drama', 'crime']         8.2    808582.0  \n",
      "...          ...           ...                 ...         ...         ...  \n",
      "85574  the movie          2021          ['comedy']         3.8        68.0  \n",
      "85575  the movie          2021          ['comedy']         3.8        68.0  \n",
      "85576  the movie          2021          ['comedy']         3.8        68.0  \n",
      "85577      MOVIE          2021          ['comedy']         3.8        68.0  \n",
      "85578  the movie          2021          ['comedy']         3.8        68.0  \n",
      "\n",
      "[85579 rows x 9 columns]\n"
     ]
    }
   ],
   "source": [
    "# obtaining general information about the data in df\n",
    "\n",
    "# Load the dataset into a DataFrame\n",
    "df = pd.read_csv('/datasets/movies_and_shows.csv')\n",
    "\n",
    "print(df.head(10))\n",
    "df = df.rename(columns={'Character': 'character',\n",
    "                        'r0le': 'role',\n",
    "                        'TITLE': 'title',\n",
    "                        '  Type': 'type',\n",
    "                        'release Year': 'release_year',\n",
    "                        'imdb sc0re': 'imdb_score', 'imdb v0tes': 'imdb_votes'})\n",
    "df.info()\n",
    "print(df)"
   ]
  },
  {
   "cell_type": "markdown",
   "id": "e91f62a7",
   "metadata": {},
   "source": [
    "The table contains nine columns. The majority store the same data type: object. The only exceptions are `'release Year'` (int64 type), `'imdb sc0re'` (float64 type) and `'imdb v0tes'` (float64 type). Scores and votes will be used in our analysis, so it's important to verify that they are present in the dataframe in the appropriate numeric format. Three columns (`'TITLE'`, `'imdb sc0re'` and `'imdb v0tes'`) have missing values.\n",
    "\n",
    "According to the documentation:\n",
    "- `'name'` — actor/director's name and last name\n",
    "- `'Character'` — character played (for actors)\n",
    "- `'r0le '` — the person's contribution to the title (it can be in the capacity of either actor or director)\n",
    "- `'TITLE '` — title of the movie (show)\n",
    "- `'  Type'` — show or movie\n",
    "- `'release Year'` — year when movie (show) was released\n",
    "- `'genres'` — list of genres under which the movie (show) falls\n",
    "- `'imdb sc0re'` — score on IMDb\n",
    "- `'imdb v0tes'` — votes on IMDb\n",
    "\n",
    "We can see three issues with the column names:\n",
    "1. Some names are uppercase, while others are lowercase.\n",
    "2. There are names containing whitespace.\n",
    "3. A few column names have digit '0' instead of letter 'o'. \n"
   ]
  },
  {
   "cell_type": "markdown",
   "id": "4355de7b",
   "metadata": {},
   "source": [
    "### Conclusions <a id='data_review_conclusions'></a> \n",
    "\n",
    "Each row in the table stores data about a movie or show. The columns can be divided into two categories: the first is about the roles held by different people who worked on the movie or show (role, name of the actor or director, and character if the row is about an actor); the second category is information about the movie or show itself (title, release year, genre, imdb figures).\n",
    "\n",
    "It's clear that there is sufficient data to do the analysis and evaluate our assumption. However, to move forward, we need to preprocess the data."
   ]
  },
  {
   "cell_type": "markdown",
   "id": "c5dc9111",
   "metadata": {},
   "source": [
    "## Stage 2. Data preprocessing <a id='data_preprocessing'></a>\n",
    "Correct the formatting in the column headers and deal with the missing values. Then, check whether there are duplicates in the data."
   ]
  },
  {
   "cell_type": "code",
   "execution_count": 5,
   "id": "9c850d13",
   "metadata": {},
   "outputs": [
    {
     "name": "stdout",
     "output_type": "stream",
     "text": [
      "<class 'pandas.core.frame.DataFrame'>\n",
      "RangeIndex: 85579 entries, 0 to 85578\n",
      "Data columns (total 9 columns):\n",
      " #   Column        Non-Null Count  Dtype  \n",
      "---  ------        --------------  -----  \n",
      " 0      name       85579 non-null  object \n",
      " 1   character     85579 non-null  object \n",
      " 2   role          85579 non-null  object \n",
      " 3   title         85578 non-null  object \n",
      " 4   type          85579 non-null  object \n",
      " 5   release_year  85579 non-null  int64  \n",
      " 6   genres        85579 non-null  object \n",
      " 7   imdb_score    80970 non-null  float64\n",
      " 8   imdb_votes    80853 non-null  float64\n",
      "dtypes: float64(2), int64(1), object(6)\n",
      "memory usage: 5.9+ MB\n",
      "Index(['   name', 'character', 'role', 'title', 'type', 'release_year',\n",
      "       'genres', 'imdb_score', 'imdb_votes'],\n",
      "      dtype='object')\n"
     ]
    }
   ],
   "source": [
    "# the list of column names in the df table\n",
    "df.info()\n",
    "print(df.columns)\n"
   ]
  },
  {
   "cell_type": "markdown",
   "id": "5f966df9",
   "metadata": {},
   "source": [
    "Change the column names according to the rules of good style:\n",
    "* If the name has several words, use snake_case\n",
    "* All characters must be lowercase\n",
    "* Remove whitespace\n",
    "* Replace zero with letter 'o'"
   ]
  },
  {
   "cell_type": "code",
   "execution_count": 6,
   "id": "23a1dc11",
   "metadata": {},
   "outputs": [],
   "source": [
    "# renaming columns\n",
    "df.columns = df.columns.str.lower().str.replace(' ', '').str.replace('0', 'o')"
   ]
  },
  {
   "cell_type": "markdown",
   "id": "464fbd04",
   "metadata": {},
   "source": [
    "Check the result. Print the names of the columns once more:"
   ]
  },
  {
   "cell_type": "code",
   "execution_count": 7,
   "id": "0eb6527f",
   "metadata": {},
   "outputs": [
    {
     "name": "stdout",
     "output_type": "stream",
     "text": [
      "                     name                character      role        title  \\\n",
      "0          Robert De Niro            Travis Bickle     ACTOR  Taxi Driver   \n",
      "1            Jodie Foster            Iris Steensma     ACTOR  Taxi Driver   \n",
      "2           Albert Brooks                      Tom     ACTOR  Taxi Driver   \n",
      "3           Harvey Keitel  Matthew 'Sport' Higgins     ACTOR  Taxi Driver   \n",
      "4         Cybill Shepherd                    Betsy     ACTOR  Taxi Driver   \n",
      "...                   ...                      ...       ...          ...   \n",
      "85574    Adelaida Buscato               Mar??a Paz     ACTOR      Lokillo   \n",
      "85575  Luz Stella Luengas             Karen Bayona     ACTOR      Lokillo   \n",
      "85576        In??s Prieto                    Fanny     ACTOR      Lokillo   \n",
      "85577        Isabel Gaona                   Cacica     ACTOR      Lokillo   \n",
      "85578      Julian Gaviria                  unknown  DIRECTOR      Lokillo   \n",
      "\n",
      "            type  release_year              genres  imdb_score  imdb_votes  \n",
      "0          MOVIE          1976  ['drama', 'crime']         8.2    808582.0  \n",
      "1          MOVIE          1976  ['drama', 'crime']         8.2    808582.0  \n",
      "2          MOVIE          1976  ['drama', 'crime']         8.2    808582.0  \n",
      "3          MOVIE          1976  ['drama', 'crime']         8.2    808582.0  \n",
      "4          MOVIE          1976  ['drama', 'crime']         8.2    808582.0  \n",
      "...          ...           ...                 ...         ...         ...  \n",
      "85574  the movie          2021          ['comedy']         3.8        68.0  \n",
      "85575  the movie          2021          ['comedy']         3.8        68.0  \n",
      "85576  the movie          2021          ['comedy']         3.8        68.0  \n",
      "85577      MOVIE          2021          ['comedy']         3.8        68.0  \n",
      "85578  the movie          2021          ['comedy']         3.8        68.0  \n",
      "\n",
      "[85579 rows x 9 columns]\n"
     ]
    }
   ],
   "source": [
    "# checking result: the list of column names\n",
    "print(df)"
   ]
  },
  {
   "cell_type": "markdown",
   "id": "14d9c319",
   "metadata": {},
   "source": [
    "### Missing values <a id='missing_values'></a>\n",
    "First, find the number of missing values in the table. To do so, combine two `pandas` methods:"
   ]
  },
  {
   "cell_type": "code",
   "execution_count": 8,
   "id": "21c427f2",
   "metadata": {},
   "outputs": [
    {
     "name": "stdout",
     "output_type": "stream",
     "text": [
      "              name                character   role        title   type  \\\n",
      "0   Robert De Niro            Travis Bickle  ACTOR  Taxi Driver  MOVIE   \n",
      "1     Jodie Foster            Iris Steensma  ACTOR  Taxi Driver  MOVIE   \n",
      "2    Albert Brooks                      Tom  ACTOR  Taxi Driver  MOVIE   \n",
      "3    Harvey Keitel  Matthew 'Sport' Higgins  ACTOR  Taxi Driver  MOVIE   \n",
      "4  Cybill Shepherd                    Betsy  ACTOR  Taxi Driver  MOVIE   \n",
      "\n",
      "   release_year              genres  imdb_score  imdb_votes  \n",
      "0          1976  ['drama', 'crime']         8.2    808582.0  \n",
      "1          1976  ['drama', 'crime']         8.2    808582.0  \n",
      "2          1976  ['drama', 'crime']         8.2    808582.0  \n",
      "3          1976  ['drama', 'crime']         8.2    808582.0  \n",
      "4          1976  ['drama', 'crime']         8.2    808582.0  \n",
      "\n",
      "                     name     character      role    title       type  \\\n",
      "85574    Adelaida Buscato    Mar??a Paz     ACTOR  Lokillo  the movie   \n",
      "85575  Luz Stella Luengas  Karen Bayona     ACTOR  Lokillo  the movie   \n",
      "85576        In??s Prieto         Fanny     ACTOR  Lokillo  the movie   \n",
      "85577        Isabel Gaona        Cacica     ACTOR  Lokillo      MOVIE   \n",
      "85578      Julian Gaviria       unknown  DIRECTOR  Lokillo  the movie   \n",
      "\n",
      "       release_year      genres  imdb_score  imdb_votes  \n",
      "85574          2021  ['comedy']         3.8        68.0  \n",
      "85575          2021  ['comedy']         3.8        68.0  \n",
      "85576          2021  ['comedy']         3.8        68.0  \n",
      "85577          2021  ['comedy']         3.8        68.0  \n",
      "85578          2021  ['comedy']         3.8        68.0  \n"
     ]
    }
   ],
   "source": [
    "# calculating missing values\n",
    "print(df.head())\n",
    "print()\n",
    "print(df.tail())"
   ]
  },
  {
   "cell_type": "markdown",
   "id": "c8272df3",
   "metadata": {},
   "source": [
    "Not all missing values affect the research: the single missing value in `'title'` is not critical. The missing values in columns `'imdb_score'` and `'imdb_votes'` represent around 6% of all records (4,609 and 4,726, respectively, of the total 85,579). This could potentially affect our research. To avoid this issue, we will drop rows with missing values in the `'imdb_score'` and `'imdb_votes'` columns."
   ]
  },
  {
   "cell_type": "code",
   "execution_count": 9,
   "id": "599d5550",
   "metadata": {},
   "outputs": [
    {
     "name": "stdout",
     "output_type": "stream",
     "text": [
      "                     name                character      role        title  \\\n",
      "0          Robert De Niro            Travis Bickle     ACTOR  Taxi Driver   \n",
      "1            Jodie Foster            Iris Steensma     ACTOR  Taxi Driver   \n",
      "2           Albert Brooks                      Tom     ACTOR  Taxi Driver   \n",
      "3           Harvey Keitel  Matthew 'Sport' Higgins     ACTOR  Taxi Driver   \n",
      "4         Cybill Shepherd                    Betsy     ACTOR  Taxi Driver   \n",
      "...                   ...                      ...       ...          ...   \n",
      "85574    Adelaida Buscato               Mar??a Paz     ACTOR      Lokillo   \n",
      "85575  Luz Stella Luengas             Karen Bayona     ACTOR      Lokillo   \n",
      "85576        In??s Prieto                    Fanny     ACTOR      Lokillo   \n",
      "85577        Isabel Gaona                   Cacica     ACTOR      Lokillo   \n",
      "85578      Julian Gaviria                  unknown  DIRECTOR      Lokillo   \n",
      "\n",
      "            type  release_year              genres  imdb_score  imdb_votes  \n",
      "0          MOVIE          1976  ['drama', 'crime']         8.2    808582.0  \n",
      "1          MOVIE          1976  ['drama', 'crime']         8.2    808582.0  \n",
      "2          MOVIE          1976  ['drama', 'crime']         8.2    808582.0  \n",
      "3          MOVIE          1976  ['drama', 'crime']         8.2    808582.0  \n",
      "4          MOVIE          1976  ['drama', 'crime']         8.2    808582.0  \n",
      "...          ...           ...                 ...         ...         ...  \n",
      "85574  the movie          2021          ['comedy']         3.8        68.0  \n",
      "85575  the movie          2021          ['comedy']         3.8        68.0  \n",
      "85576  the movie          2021          ['comedy']         3.8        68.0  \n",
      "85577      MOVIE          2021          ['comedy']         3.8        68.0  \n",
      "85578  the movie          2021          ['comedy']         3.8        68.0  \n",
      "\n",
      "[80853 rows x 9 columns]\n"
     ]
    }
   ],
   "source": [
    "# dropping rows where columns with title, scores and votes have missing values\n",
    "print(df.dropna())"
   ]
  },
  {
   "cell_type": "markdown",
   "id": "2156887f",
   "metadata": {},
   "source": [
    "Make sure the table doesn't contain any more missing values. Count the missing values again."
   ]
  },
  {
   "cell_type": "code",
   "execution_count": 10,
   "id": "55c0b0ce",
   "metadata": {},
   "outputs": [
    {
     "name": "stdout",
     "output_type": "stream",
     "text": [
      "        name  character   role  title   type  release_year  genres  \\\n",
      "0      False      False  False  False  False         False   False   \n",
      "1      False      False  False  False  False         False   False   \n",
      "2      False      False  False  False  False         False   False   \n",
      "3      False      False  False  False  False         False   False   \n",
      "4      False      False  False  False  False         False   False   \n",
      "...      ...        ...    ...    ...    ...           ...     ...   \n",
      "85574  False      False  False  False  False         False   False   \n",
      "85575  False      False  False  False  False         False   False   \n",
      "85576  False      False  False  False  False         False   False   \n",
      "85577  False      False  False  False  False         False   False   \n",
      "85578  False      False  False  False  False         False   False   \n",
      "\n",
      "       imdb_score  imdb_votes  \n",
      "0           False       False  \n",
      "1           False       False  \n",
      "2           False       False  \n",
      "3           False       False  \n",
      "4           False       False  \n",
      "...           ...         ...  \n",
      "85574       False       False  \n",
      "85575       False       False  \n",
      "85576       False       False  \n",
      "85577       False       False  \n",
      "85578       False       False  \n",
      "\n",
      "[85579 rows x 9 columns]\n"
     ]
    }
   ],
   "source": [
    "# counting missing values\n",
    "print(df.isnull())"
   ]
  },
  {
   "cell_type": "code",
   "execution_count": 11,
   "id": "8e44da7d",
   "metadata": {},
   "outputs": [
    {
     "data": {
      "text/plain": [
       "name               0\n",
       "character          0\n",
       "role               0\n",
       "title              1\n",
       "type               0\n",
       "release_year       0\n",
       "genres             0\n",
       "imdb_score      4609\n",
       "imdb_votes      4726\n",
       "dtype: int64"
      ]
     },
     "execution_count": 11,
     "metadata": {},
     "output_type": "execute_result"
    }
   ],
   "source": [
    "df.isna().sum()"
   ]
  },
  {
   "cell_type": "markdown",
   "id": "a7dc7aa0",
   "metadata": {},
   "source": [
    "### Duplicates <a id='duplicates'></a>\n",
    "Find the number of duplicate rows in the table using one command:"
   ]
  },
  {
   "cell_type": "code",
   "execution_count": 12,
   "id": "9227df01",
   "metadata": {},
   "outputs": [
    {
     "name": "stdout",
     "output_type": "stream",
     "text": [
      "0        False\n",
      "1        False\n",
      "2        False\n",
      "3        False\n",
      "4        False\n",
      "         ...  \n",
      "85574    False\n",
      "85575    False\n",
      "85576    False\n",
      "85577     True\n",
      "85578    False\n",
      "Length: 85579, dtype: bool\n"
     ]
    }
   ],
   "source": [
    "# counting duplicate rows\n",
    "print(df.duplicated())"
   ]
  },
  {
   "cell_type": "markdown",
   "id": "5f6eb0fc",
   "metadata": {},
   "source": [
    "Review the duplicate rows to determine if removing them would distort our dataset."
   ]
  },
  {
   "cell_type": "code",
   "execution_count": 13,
   "id": "bcf32fcb",
   "metadata": {},
   "outputs": [
    {
     "name": "stdout",
     "output_type": "stream",
     "text": [
      "                     name                character      role        title  \\\n",
      "0          Robert De Niro            Travis Bickle     ACTOR  Taxi Driver   \n",
      "1            Jodie Foster            Iris Steensma     ACTOR  Taxi Driver   \n",
      "2           Albert Brooks                      Tom     ACTOR  Taxi Driver   \n",
      "3           Harvey Keitel  Matthew 'Sport' Higgins     ACTOR  Taxi Driver   \n",
      "4         Cybill Shepherd                    Betsy     ACTOR  Taxi Driver   \n",
      "...                   ...                      ...       ...          ...   \n",
      "77899       A??da Morales                  Maritza     ACTOR      Lokillo   \n",
      "77900    Adelaida Buscato               Mar??a Paz     ACTOR      Lokillo   \n",
      "77901  Luz Stella Luengas             Karen Bayona     ACTOR      Lokillo   \n",
      "77902        In??s Prieto                    Fanny     ACTOR      Lokillo   \n",
      "77903      Julian Gaviria                  unknown  DIRECTOR      Lokillo   \n",
      "\n",
      "            type  release_year              genres  imdb_score  imdb_votes  \n",
      "0          MOVIE          1976  ['drama', 'crime']         8.2    808582.0  \n",
      "1          MOVIE          1976  ['drama', 'crime']         8.2    808582.0  \n",
      "2          MOVIE          1976  ['drama', 'crime']         8.2    808582.0  \n",
      "3          MOVIE          1976  ['drama', 'crime']         8.2    808582.0  \n",
      "4          MOVIE          1976  ['drama', 'crime']         8.2    808582.0  \n",
      "...          ...           ...                 ...         ...         ...  \n",
      "77899  the movie          2021          ['comedy']         3.8        68.0  \n",
      "77900  the movie          2021          ['comedy']         3.8        68.0  \n",
      "77901  the movie          2021          ['comedy']         3.8        68.0  \n",
      "77902  the movie          2021          ['comedy']         3.8        68.0  \n",
      "77903  the movie          2021          ['comedy']         3.8        68.0  \n",
      "\n",
      "[73859 rows x 9 columns]\n"
     ]
    }
   ],
   "source": [
    "# Produce table with duplicates (with original rows included) and review last 5 rows\n",
    "df = df.drop_duplicates().reset_index(drop=True)\n",
    "df = df.dropna()\n",
    "print(df)"
   ]
  },
  {
   "cell_type": "markdown",
   "id": "a1ed6640",
   "metadata": {},
   "source": [
    "There are two clear duplicates in the printed rows. We can safely remove them.\n",
    "Call the `pandas` method for getting rid of duplicate rows:"
   ]
  },
  {
   "cell_type": "code",
   "execution_count": 14,
   "id": "724d5bc8",
   "metadata": {},
   "outputs": [
    {
     "name": "stdout",
     "output_type": "stream",
     "text": [
      "                     name                character      role        title  \\\n",
      "0          Robert De Niro            Travis Bickle     ACTOR  Taxi Driver   \n",
      "1            Jodie Foster            Iris Steensma     ACTOR  Taxi Driver   \n",
      "2           Albert Brooks                      Tom     ACTOR  Taxi Driver   \n",
      "3           Harvey Keitel  Matthew 'Sport' Higgins     ACTOR  Taxi Driver   \n",
      "4         Cybill Shepherd                    Betsy     ACTOR  Taxi Driver   \n",
      "...                   ...                      ...       ...          ...   \n",
      "77899       A??da Morales                  Maritza     ACTOR      Lokillo   \n",
      "77900    Adelaida Buscato               Mar??a Paz     ACTOR      Lokillo   \n",
      "77901  Luz Stella Luengas             Karen Bayona     ACTOR      Lokillo   \n",
      "77902        In??s Prieto                    Fanny     ACTOR      Lokillo   \n",
      "77903      Julian Gaviria                  unknown  DIRECTOR      Lokillo   \n",
      "\n",
      "            type  release_year              genres  imdb_score  imdb_votes  \n",
      "0          MOVIE          1976  ['drama', 'crime']         8.2    808582.0  \n",
      "1          MOVIE          1976  ['drama', 'crime']         8.2    808582.0  \n",
      "2          MOVIE          1976  ['drama', 'crime']         8.2    808582.0  \n",
      "3          MOVIE          1976  ['drama', 'crime']         8.2    808582.0  \n",
      "4          MOVIE          1976  ['drama', 'crime']         8.2    808582.0  \n",
      "...          ...           ...                 ...         ...         ...  \n",
      "77899  the movie          2021          ['comedy']         3.8        68.0  \n",
      "77900  the movie          2021          ['comedy']         3.8        68.0  \n",
      "77901  the movie          2021          ['comedy']         3.8        68.0  \n",
      "77902  the movie          2021          ['comedy']         3.8        68.0  \n",
      "77903  the movie          2021          ['comedy']         3.8        68.0  \n",
      "\n",
      "[73859 rows x 9 columns]\n"
     ]
    }
   ],
   "source": [
    "# removing duplicate rows\n",
    "print(df.drop_duplicates())"
   ]
  },
  {
   "cell_type": "markdown",
   "id": "fc8c77ba",
   "metadata": {},
   "source": [
    "Check for duplicate rows once more to make sure you have removed all of them:"
   ]
  },
  {
   "cell_type": "code",
   "execution_count": 15,
   "id": "8091a9bc",
   "metadata": {},
   "outputs": [
    {
     "name": "stdout",
     "output_type": "stream",
     "text": [
      "                     name                character      role        title  \\\n",
      "0          Robert De Niro            Travis Bickle     ACTOR  Taxi Driver   \n",
      "1            Jodie Foster            Iris Steensma     ACTOR  Taxi Driver   \n",
      "2           Albert Brooks                      Tom     ACTOR  Taxi Driver   \n",
      "3           Harvey Keitel  Matthew 'Sport' Higgins     ACTOR  Taxi Driver   \n",
      "4         Cybill Shepherd                    Betsy     ACTOR  Taxi Driver   \n",
      "...                   ...                      ...       ...          ...   \n",
      "77899       A??da Morales                  Maritza     ACTOR      Lokillo   \n",
      "77900    Adelaida Buscato               Mar??a Paz     ACTOR      Lokillo   \n",
      "77901  Luz Stella Luengas             Karen Bayona     ACTOR      Lokillo   \n",
      "77902        In??s Prieto                    Fanny     ACTOR      Lokillo   \n",
      "77903      Julian Gaviria                  unknown  DIRECTOR      Lokillo   \n",
      "\n",
      "            type  release_year              genres  imdb_score  imdb_votes  \n",
      "0          MOVIE          1976  ['drama', 'crime']         8.2    808582.0  \n",
      "1          MOVIE          1976  ['drama', 'crime']         8.2    808582.0  \n",
      "2          MOVIE          1976  ['drama', 'crime']         8.2    808582.0  \n",
      "3          MOVIE          1976  ['drama', 'crime']         8.2    808582.0  \n",
      "4          MOVIE          1976  ['drama', 'crime']         8.2    808582.0  \n",
      "...          ...           ...                 ...         ...         ...  \n",
      "77899  the movie          2021          ['comedy']         3.8        68.0  \n",
      "77900  the movie          2021          ['comedy']         3.8        68.0  \n",
      "77901  the movie          2021          ['comedy']         3.8        68.0  \n",
      "77902  the movie          2021          ['comedy']         3.8        68.0  \n",
      "77903  the movie          2021          ['comedy']         3.8        68.0  \n",
      "\n",
      "[73859 rows x 9 columns]\n"
     ]
    }
   ],
   "source": [
    "# checking for duplicates\n",
    "print(df)"
   ]
  },
  {
   "cell_type": "markdown",
   "id": "1d802b07",
   "metadata": {},
   "source": [
    "Now get rid of implicit duplicates in the `'type'` column. For example, the string `'SHOW'` can be written in different ways. These kinds of errors will also affect the result."
   ]
  },
  {
   "cell_type": "markdown",
   "id": "d5f987ed",
   "metadata": {},
   "source": [
    "Print a list of unique `'type'` names, sorted in alphabetical order. To do so:\n",
    "* Retrieve the intended dataframe column \n",
    "* Apply a sorting method to it\n",
    "* For the sorted column, call the method that will return all unique column values"
   ]
  },
  {
   "cell_type": "code",
   "execution_count": 16,
   "id": "3d7b0ac5",
   "metadata": {},
   "outputs": [
    {
     "name": "stdout",
     "output_type": "stream",
     "text": [
      "name            52270\n",
      "character       45492\n",
      "role                2\n",
      "title            5008\n",
      "type                9\n",
      "release_year       62\n",
      "genres           1645\n",
      "imdb_score         78\n",
      "imdb_votes       3811\n",
      "dtype: int64\n"
     ]
    }
   ],
   "source": [
    "# viewing unique type names\n",
    "print(df.nunique())"
   ]
  },
  {
   "cell_type": "markdown",
   "id": "ac6e8b18",
   "metadata": {},
   "source": [
    "Look through the list to find implicit duplicates of `'show'` (`'movie'` duplicates will be ignored since the assumption is about shows). These could be names written incorrectly or alternative names of the same genre.\n",
    "\n",
    "You will see the following implicit duplicates:\n",
    "* `'shows'`\n",
    "* `'SHOW'`\n",
    "* `'tv show'`\n",
    "* `'tv shows'`\n",
    "* `'tv series'`\n",
    "* `'tv'`\n",
    "\n",
    "To get rid of them, declare the function `replace_wrong_show()` with two parameters: \n",
    "* `wrong_shows_list=` — the list of duplicates\n",
    "* `correct_show=` — the string with the correct value\n",
    "\n",
    "The function should correct the names in the `'type'` column from the `df` table (i.e., replace each value from the `wrong_shows_list` list with the value in `correct_show`)."
   ]
  },
  {
   "cell_type": "markdown",
   "id": "d02d13a6",
   "metadata": {},
   "source": [
    "Call `replace_wrong_show()` and pass it arguments so that it clears implicit duplicates and replaces them with `SHOW`:"
   ]
  },
  {
   "cell_type": "code",
   "execution_count": 17,
   "id": "bff944f9",
   "metadata": {},
   "outputs": [],
   "source": [
    "# function for replacing implicit duplicates\n",
    "def replace_wrong_show(df, wrong_shows_list, correct_show):\n",
    "    for wrong_show in wrong_shows_list:\n",
    "        df['type'] = df['type'].replace(wrong_show, correct_show)\n",
    "    return df"
   ]
  },
  {
   "cell_type": "code",
   "execution_count": 18,
   "id": "a2217e53",
   "metadata": {},
   "outputs": [],
   "source": [
    "# removing implicit duplicates\n",
    "wrong_shows_list = [\"tv show\", \"the movie\", \"shows\", \"tv shows\", \"tv series\", \"tv\", \"movies\", \"MOVIE\"]  # Example incorrect values\n",
    "correct_show = \"SHOW\"\n",
    "df = replace_wrong_show(df, wrong_shows_list, correct_show)"
   ]
  },
  {
   "cell_type": "code",
   "execution_count": 19,
   "id": "9bac7291",
   "metadata": {},
   "outputs": [
    {
     "data": {
      "text/plain": [
       "array(['SHOW'], dtype=object)"
      ]
     },
     "execution_count": 19,
     "metadata": {},
     "output_type": "execute_result"
    }
   ],
   "source": [
    "df.type.unique()"
   ]
  },
  {
   "cell_type": "markdown",
   "id": "318b09f7",
   "metadata": {},
   "source": [
    "Make sure the duplicate names are removed. Print the list of unique values from the `'type'` column:"
   ]
  },
  {
   "cell_type": "code",
   "execution_count": 20,
   "id": "25d49d73",
   "metadata": {},
   "outputs": [
    {
     "name": "stdout",
     "output_type": "stream",
     "text": [
      "                     name                character      role        title  \\\n",
      "0          Robert De Niro            Travis Bickle     ACTOR  Taxi Driver   \n",
      "1            Jodie Foster            Iris Steensma     ACTOR  Taxi Driver   \n",
      "2           Albert Brooks                      Tom     ACTOR  Taxi Driver   \n",
      "3           Harvey Keitel  Matthew 'Sport' Higgins     ACTOR  Taxi Driver   \n",
      "4         Cybill Shepherd                    Betsy     ACTOR  Taxi Driver   \n",
      "...                   ...                      ...       ...          ...   \n",
      "77899       A??da Morales                  Maritza     ACTOR      Lokillo   \n",
      "77900    Adelaida Buscato               Mar??a Paz     ACTOR      Lokillo   \n",
      "77901  Luz Stella Luengas             Karen Bayona     ACTOR      Lokillo   \n",
      "77902        In??s Prieto                    Fanny     ACTOR      Lokillo   \n",
      "77903      Julian Gaviria                  unknown  DIRECTOR      Lokillo   \n",
      "\n",
      "       type  release_year              genres  imdb_score  imdb_votes  \n",
      "0      SHOW          1976  ['drama', 'crime']         8.2    808582.0  \n",
      "1      SHOW          1976  ['drama', 'crime']         8.2    808582.0  \n",
      "2      SHOW          1976  ['drama', 'crime']         8.2    808582.0  \n",
      "3      SHOW          1976  ['drama', 'crime']         8.2    808582.0  \n",
      "4      SHOW          1976  ['drama', 'crime']         8.2    808582.0  \n",
      "...     ...           ...                 ...         ...         ...  \n",
      "77899  SHOW          2021          ['comedy']         3.8        68.0  \n",
      "77900  SHOW          2021          ['comedy']         3.8        68.0  \n",
      "77901  SHOW          2021          ['comedy']         3.8        68.0  \n",
      "77902  SHOW          2021          ['comedy']         3.8        68.0  \n",
      "77903  SHOW          2021          ['comedy']         3.8        68.0  \n",
      "\n",
      "[73859 rows x 9 columns]\n"
     ]
    }
   ],
   "source": [
    "# viewing unique genre names\n",
    "df.type.unique()\n",
    "wrong_shows_list = ['SHOW', 'shows', 'tv', 'tv series', 'tv show', 'tv shows']\n",
    "correct_show = 'SHOW'\n",
    "df = replace_wrong_show(df, wrong_shows_list, correct_show)\n",
    "print(df)"
   ]
  },
  {
   "cell_type": "code",
   "execution_count": 21,
   "id": "49a9d2de",
   "metadata": {},
   "outputs": [
    {
     "name": "stdout",
     "output_type": "stream",
     "text": [
      "                     name                character      role        title  \\\n",
      "0          Robert De Niro            Travis Bickle     ACTOR  Taxi Driver   \n",
      "1            Jodie Foster            Iris Steensma     ACTOR  Taxi Driver   \n",
      "2           Albert Brooks                      Tom     ACTOR  Taxi Driver   \n",
      "3           Harvey Keitel  Matthew 'Sport' Higgins     ACTOR  Taxi Driver   \n",
      "4         Cybill Shepherd                    Betsy     ACTOR  Taxi Driver   \n",
      "...                   ...                      ...       ...          ...   \n",
      "77899       A??da Morales                  Maritza     ACTOR      Lokillo   \n",
      "77900    Adelaida Buscato               Mar??a Paz     ACTOR      Lokillo   \n",
      "77901  Luz Stella Luengas             Karen Bayona     ACTOR      Lokillo   \n",
      "77902        In??s Prieto                    Fanny     ACTOR      Lokillo   \n",
      "77903      Julian Gaviria                  unknown  DIRECTOR      Lokillo   \n",
      "\n",
      "       type  release_year              genres  imdb_score  imdb_votes  \n",
      "0      SHOW          1976  ['drama', 'crime']         8.2    808582.0  \n",
      "1      SHOW          1976  ['drama', 'crime']         8.2    808582.0  \n",
      "2      SHOW          1976  ['drama', 'crime']         8.2    808582.0  \n",
      "3      SHOW          1976  ['drama', 'crime']         8.2    808582.0  \n",
      "4      SHOW          1976  ['drama', 'crime']         8.2    808582.0  \n",
      "...     ...           ...                 ...         ...         ...  \n",
      "77899  SHOW          2021          ['comedy']         3.8        68.0  \n",
      "77900  SHOW          2021          ['comedy']         3.8        68.0  \n",
      "77901  SHOW          2021          ['comedy']         3.8        68.0  \n",
      "77902  SHOW          2021          ['comedy']         3.8        68.0  \n",
      "77903  SHOW          2021          ['comedy']         3.8        68.0  \n",
      "\n",
      "[73859 rows x 9 columns]\n"
     ]
    }
   ],
   "source": [
    "print(df)"
   ]
  },
  {
   "cell_type": "markdown",
   "id": "18b2049e",
   "metadata": {},
   "source": [
    "### Conclusions <a id='data_preprocessing_conclusions'></a>\n",
    "We detected three issues with the data:\n",
    "\n",
    "- Incorrect header styles\n",
    "- Missing values\n",
    "- Duplicate rows and implicit duplicates\n",
    "\n",
    "The headers have been cleaned up to make processing the table simpler.\n",
    "\n",
    "All rows with missing values have been removed. \n",
    "\n",
    "The absence of duplicates will make the results more precise and easier to understand.\n",
    "\n",
    "Now we can move on to our analysis of the prepared data."
   ]
  },
  {
   "cell_type": "markdown",
   "id": "1aa0f1b1",
   "metadata": {},
   "source": [
    "## Stage 3. Data analysis <a id='hypotheses'></a>"
   ]
  },
  {
   "cell_type": "markdown",
   "id": "f8fb6a0e",
   "metadata": {},
   "source": [
    "Based on the previous project stages, you can now define how the assumption will be checked. Calculate the average amount of votes for each score (this data is available in the `imdb_score` and `imdb_votes` columns), and then check how these averages relate to each other. If the averages for shows with the highest scores are bigger than those for shows with lower scores, the assumption appears to be true.\n",
    "\n",
    "Based on this, complete the following steps:\n",
    "\n",
    "- Filter the dataframe to only include shows released in 1999 or later.\n",
    "- Group scores into buckets by rounding the values of the appropriate column (a set of 1-10 integers will help us make the outcome of our calculations more evident without damaging the quality of our research).\n",
    "- Identify outliers among scores based on their number of votes, and exclude scores with few votes.\n",
    "- Calculate the average votes for each score and check whether the assumption matches the results."
   ]
  },
  {
   "cell_type": "markdown",
   "id": "0ea2cb51",
   "metadata": {},
   "source": [
    "To filter the dataframe and only include shows released in 1999 or later, you will take two steps. First, keep only titles published in 1999 or later in our dataframe. Then, filter the table to only contain shows (movies will be removed)."
   ]
  },
  {
   "cell_type": "code",
   "execution_count": 22,
   "id": "6a704aa1",
   "metadata": {},
   "outputs": [],
   "source": [
    "# using conditional indexing modify df so it has only titles released after 1999 (with 1999 included)\n",
    "# give the slice of dataframe new name\n",
    "def shows_after_99(df):\n",
    "    for shows in df:\n",
    "        if shows >= 1999:\n",
    "            print(shows)\n",
    "        \n",
    "        \n",
    "    "
   ]
  },
  {
   "cell_type": "code",
   "execution_count": 23,
   "id": "128dc6a9",
   "metadata": {
    "scrolled": true
   },
   "outputs": [
    {
     "name": "stderr",
     "output_type": "stream",
     "text": [
      "/tmp/ipykernel_77/3283001117.py:10: SettingWithCopyWarning: \n",
      "A value is trying to be set on a copy of a slice from a DataFrame.\n",
      "Try using .loc[row_indexer,col_indexer] = value instead\n",
      "\n",
      "See the caveats in the documentation: https://pandas.pydata.org/pandas-docs/stable/user_guide/indexing.html#returning-a-view-versus-a-copy\n",
      "  filtered_df['rounded_score'] = filtered_df['imdb_score'].round()\n"
     ]
    }
   ],
   "source": [
    "# repeat conditional indexing so df has only shows (movies are removed as result)\n",
    "def movies_after_99(df):\n",
    "    for movies in df:\n",
    "        if movies >= 1999:\n",
    "            print(movies)\n",
    "# Filter shows released after 1999\n",
    "filtered_df = df[(df['release_year'] > 1999) & (df['type'] == 'SHOW')]\n",
    "\n",
    "# Rounding the scores\n",
    "filtered_df['rounded_score'] = filtered_df['imdb_score'].round()"
   ]
  },
  {
   "cell_type": "markdown",
   "id": "9648040c",
   "metadata": {},
   "source": [
    "The scores that are to be grouped should be rounded. For instance, titles with scores like 7.8, 8.1, and 8.3 will all be placed in the same bucket with a score of 8."
   ]
  },
  {
   "cell_type": "code",
   "execution_count": 24,
   "id": "54bbd5c0",
   "metadata": {},
   "outputs": [
    {
     "name": "stdout",
     "output_type": "stream",
     "text": [
      "                     name                character      role        title  \\\n",
      "0          Robert De Niro            Travis Bickle     ACTOR  Taxi Driver   \n",
      "1            Jodie Foster            Iris Steensma     ACTOR  Taxi Driver   \n",
      "2           Albert Brooks                      Tom     ACTOR  Taxi Driver   \n",
      "3           Harvey Keitel  Matthew 'Sport' Higgins     ACTOR  Taxi Driver   \n",
      "4         Cybill Shepherd                    Betsy     ACTOR  Taxi Driver   \n",
      "...                   ...                      ...       ...          ...   \n",
      "77899       A??da Morales                  Maritza     ACTOR      Lokillo   \n",
      "77900    Adelaida Buscato               Mar??a Paz     ACTOR      Lokillo   \n",
      "77901  Luz Stella Luengas             Karen Bayona     ACTOR      Lokillo   \n",
      "77902        In??s Prieto                    Fanny     ACTOR      Lokillo   \n",
      "77903      Julian Gaviria                  unknown  DIRECTOR      Lokillo   \n",
      "\n",
      "       type  release_year              genres  imdb_score  imdb_votes  \n",
      "0      SHOW          1976  ['drama', 'crime']         8.0    808582.0  \n",
      "1      SHOW          1976  ['drama', 'crime']         8.0    808582.0  \n",
      "2      SHOW          1976  ['drama', 'crime']         8.0    808582.0  \n",
      "3      SHOW          1976  ['drama', 'crime']         8.0    808582.0  \n",
      "4      SHOW          1976  ['drama', 'crime']         8.0    808582.0  \n",
      "...     ...           ...                 ...         ...         ...  \n",
      "77899  SHOW          2021          ['comedy']         4.0        68.0  \n",
      "77900  SHOW          2021          ['comedy']         4.0        68.0  \n",
      "77901  SHOW          2021          ['comedy']         4.0        68.0  \n",
      "77902  SHOW          2021          ['comedy']         4.0        68.0  \n",
      "77903  SHOW          2021          ['comedy']         4.0        68.0  \n",
      "\n",
      "[73859 rows x 9 columns]\n",
      "              name                character   role        title  type  \\\n",
      "0   Robert De Niro            Travis Bickle  ACTOR  Taxi Driver  SHOW   \n",
      "1     Jodie Foster            Iris Steensma  ACTOR  Taxi Driver  SHOW   \n",
      "2    Albert Brooks                      Tom  ACTOR  Taxi Driver  SHOW   \n",
      "3    Harvey Keitel  Matthew 'Sport' Higgins  ACTOR  Taxi Driver  SHOW   \n",
      "4  Cybill Shepherd                    Betsy  ACTOR  Taxi Driver  SHOW   \n",
      "\n",
      "   release_year              genres  imdb_score  imdb_votes  \n",
      "0          1976  ['drama', 'crime']         8.2    808582.0  \n",
      "1          1976  ['drama', 'crime']         8.2    808582.0  \n",
      "2          1976  ['drama', 'crime']         8.2    808582.0  \n",
      "3          1976  ['drama', 'crime']         8.2    808582.0  \n",
      "4          1976  ['drama', 'crime']         8.2    808582.0  \n",
      "\n",
      "                     name     character      role    title  type  \\\n",
      "77899       A??da Morales       Maritza     ACTOR  Lokillo  SHOW   \n",
      "77900    Adelaida Buscato    Mar??a Paz     ACTOR  Lokillo  SHOW   \n",
      "77901  Luz Stella Luengas  Karen Bayona     ACTOR  Lokillo  SHOW   \n",
      "77902        In??s Prieto         Fanny     ACTOR  Lokillo  SHOW   \n",
      "77903      Julian Gaviria       unknown  DIRECTOR  Lokillo  SHOW   \n",
      "\n",
      "       release_year      genres  imdb_score  imdb_votes  \n",
      "77899          2021  ['comedy']         3.8        68.0  \n",
      "77900          2021  ['comedy']         3.8        68.0  \n",
      "77901          2021  ['comedy']         3.8        68.0  \n",
      "77902          2021  ['comedy']         3.8        68.0  \n",
      "77903          2021  ['comedy']         3.8        68.0  \n"
     ]
    }
   ],
   "source": [
    "# rounding column with scores\n",
    "print(df.round())\n",
    "#checking the outcome with tail()\n",
    "print(df.head())\n",
    "print()\n",
    "print(df.tail())\n"
   ]
  },
  {
   "cell_type": "markdown",
   "id": "36dbd00a",
   "metadata": {},
   "source": [
    "It is now time to identify outliers based on the number of votes."
   ]
  },
  {
   "cell_type": "code",
   "execution_count": 25,
   "id": "b8b55e95",
   "metadata": {},
   "outputs": [
    {
     "name": "stdout",
     "output_type": "stream",
     "text": [
      "<pandas.core.groupby.generic.DataFrameGroupBy object at 0x7f3809a63370>\n",
      "0        8.2\n",
      "1        8.2\n",
      "2        8.2\n",
      "3        8.2\n",
      "4        8.2\n",
      "        ... \n",
      "77899    3.8\n",
      "77900    3.8\n",
      "77901    3.8\n",
      "77902    3.8\n",
      "77903    3.8\n",
      "Name: imdb_score, Length: 73859, dtype: float64\n"
     ]
    }
   ],
   "source": [
    "# Use groupby() for scores and count all unique values in each group, print the result\n",
    "print(df.groupby('imdb_score'))\n",
    "print(df.imdb_score)"
   ]
  },
  {
   "cell_type": "markdown",
   "id": "1ba6daae",
   "metadata": {},
   "source": [
    "Based on the aggregation performed, it is evident that scores 2 (24 voted shows), 3 (27 voted shows), and 10 (only 8 voted shows) are outliers. There isn't enough data for these scores for the average number of votes to be meaningful."
   ]
  },
  {
   "cell_type": "markdown",
   "id": "bd468c46",
   "metadata": {},
   "source": [
    "To obtain the mean numbers of votes for the selected scores (we identified a range of 4-9 as acceptable), use conditional filtering and grouping."
   ]
  },
  {
   "cell_type": "code",
   "execution_count": 26,
   "id": "d1867e0e",
   "metadata": {},
   "outputs": [
    {
     "name": "stdout",
     "output_type": "stream",
     "text": [
      "            release_year    imdb_votes\n",
      "imdb_score                            \n",
      "1.5          2016.000000  3.880000e+02\n",
      "1.6          2020.000000  3.700000e+02\n",
      "1.7          2013.000000  8.648000e+03\n",
      "1.9          2016.000000  4.356000e+03\n",
      "2.0          2015.592593  2.506704e+03\n",
      "...                  ...           ...\n",
      "9.0          2010.315789  1.537102e+05\n",
      "9.1          2020.882353  4.935488e+04\n",
      "9.2          2015.000000  6.718000e+03\n",
      "9.3          2006.166667  2.818821e+05\n",
      "9.5          2008.000000  1.775990e+06\n",
      "\n",
      "[78 rows x 2 columns]\n",
      "   rounded_score     imdb_votes\n",
      "0            4.0    9168.943609\n",
      "1            5.0   14241.794418\n",
      "2            6.0   28665.995804\n",
      "3            7.0   50708.480627\n",
      "4            8.0  145883.125487\n",
      "5            9.0  265172.031627\n"
     ]
    }
   ],
   "source": [
    "# filter dataframe using two conditions (scores to be in the range 4-9)\n",
    "mean = df.groupby('imdb_score').mean()\n",
    "print(mean)\n",
    "\n",
    "# group scores and corresponding average number of votes, reset index and print the result\n",
    "filtered_df = filtered_df[(filtered_df['imdb_score']>= 4) & (filtered_df['imdb_score']<= 9)]\n",
    "filtered_df\n",
    "\n",
    "grouped_scores_votes = filtered_df.groupby('rounded_score')['imdb_votes'].mean().reset_index()\n",
    "print(grouped_scores_votes)"
   ]
  },
  {
   "cell_type": "markdown",
   "id": "96a66d14",
   "metadata": {},
   "source": [
    "Now for the final step! Round the column with the averages, rename both columns, and print the dataframe in descending order."
   ]
  },
  {
   "cell_type": "code",
   "execution_count": 27,
   "id": "5999051b",
   "metadata": {},
   "outputs": [
    {
     "name": "stdout",
     "output_type": "stream",
     "text": [
      "                     name                character      role        title  \\\n",
      "0          Robert De Niro            Travis Bickle     ACTOR  Taxi Driver   \n",
      "1            Jodie Foster            Iris Steensma     ACTOR  Taxi Driver   \n",
      "2           Albert Brooks                      Tom     ACTOR  Taxi Driver   \n",
      "3           Harvey Keitel  Matthew 'Sport' Higgins     ACTOR  Taxi Driver   \n",
      "4         Cybill Shepherd                    Betsy     ACTOR  Taxi Driver   \n",
      "...                   ...                      ...       ...          ...   \n",
      "77899       A??da Morales                  Maritza     ACTOR      Lokillo   \n",
      "77900    Adelaida Buscato               Mar??a Paz     ACTOR      Lokillo   \n",
      "77901  Luz Stella Luengas             Karen Bayona     ACTOR      Lokillo   \n",
      "77902        In??s Prieto                    Fanny     ACTOR      Lokillo   \n",
      "77903      Julian Gaviria                  unknown  DIRECTOR      Lokillo   \n",
      "\n",
      "       type  release_year              genres  imdb_score  imdb_votes  \n",
      "0      SHOW          1976  ['drama', 'crime']         8.2    808582.0  \n",
      "1      SHOW          1976  ['drama', 'crime']         8.2    808582.0  \n",
      "2      SHOW          1976  ['drama', 'crime']         8.2    808582.0  \n",
      "3      SHOW          1976  ['drama', 'crime']         8.2    808582.0  \n",
      "4      SHOW          1976  ['drama', 'crime']         8.2    808582.0  \n",
      "...     ...           ...                 ...         ...         ...  \n",
      "77899  SHOW          2021          ['comedy']         3.8        68.0  \n",
      "77900  SHOW          2021          ['comedy']         3.8        68.0  \n",
      "77901  SHOW          2021          ['comedy']         3.8        68.0  \n",
      "77902  SHOW          2021          ['comedy']         3.8        68.0  \n",
      "77903  SHOW          2021          ['comedy']         3.8        68.0  \n",
      "\n",
      "[73859 rows x 9 columns]\n"
     ]
    }
   ],
   "source": [
    "# round column with averages\n",
    "round = df['imdb_score'].round()\n",
    "\n",
    "# rename columns\n",
    "df.columns = df.columns.str.replace('releaseyear', 'release_year')\n",
    "df.columns = df.columns.str.replace('imdbvotes', 'imdb_votes')\n",
    "\n",
    "# print dataframe in descending order\n",
    "print(df)"
   ]
  },
  {
   "cell_type": "markdown",
   "id": "af07386d",
   "metadata": {},
   "source": [
    "The assumption macthes the analysis: the shows with the top 3 scores have the most amounts of votes."
   ]
  },
  {
   "cell_type": "markdown",
   "id": "84e29a37",
   "metadata": {},
   "source": [
    "## Conclusion <a id='hypotheses'></a>"
   ]
  },
  {
   "cell_type": "markdown",
   "id": "984766a3",
   "metadata": {},
   "source": [
    "The research done confirms that highly-rated shows released during the \"Golden Age\" of television also have the most votes. While shows with score 4 have more votes than ones with scores 5 and 6, the top three (scores 7-9) have the largest number. The data studied represents around 94% of the original set, so we can be confident in our findings."
   ]
  }
 ],
 "metadata": {
  "kernelspec": {
   "display_name": "Python 3 (ipykernel)",
   "language": "python",
   "name": "python3"
  },
  "language_info": {
   "codemirror_mode": {
    "name": "ipython",
    "version": 3
   },
   "file_extension": ".py",
   "mimetype": "text/x-python",
   "name": "python",
   "nbconvert_exporter": "python",
   "pygments_lexer": "ipython3",
   "version": "3.9.19"
  },
  "toc": {
   "base_numbering": 1,
   "nav_menu": {},
   "number_sections": true,
   "sideBar": true,
   "skip_h1_title": true,
   "title_cell": "Table of Contents",
   "title_sidebar": "Contents",
   "toc_cell": false,
   "toc_position": {},
   "toc_section_display": true,
   "toc_window_display": false
  }
 },
 "nbformat": 4,
 "nbformat_minor": 5
}
