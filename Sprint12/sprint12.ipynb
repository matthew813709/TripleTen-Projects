{
 "cells": [
  {
   "cell_type": "markdown",
   "metadata": {},
   "source": [
    "# Predicting Customer Churn: Model Development and Performance Evaluation \n",
    "\n",
    "\n",
    "Rusty Bargain used car sales service is developing an app to attract new customers. In that app, you can quickly find out the market value of your car. You have access to historical data: technical specifications, trim versions, and prices. You need to build the model to determine the value. \n",
    "\n",
    "Rusty Bargain is interested in:\n",
    "\n",
    "- the quality of the prediction;\n",
    "- the speed of the prediction;\n",
    "- the time required for training"
   ]
  },
  {
   "cell_type": "markdown",
   "metadata": {},
   "source": [
    "In this project, several machine learning models were trained and evaluated to predict the market value of cars using the Rusty Bargain dataset. The models included Linear Regression, Decision Tree, Random Forest, Gradient Boosting, XGBoost, LightGBM, and CatBoost. "
   ]
  },
  {
   "cell_type": "code",
   "execution_count": 1,
   "metadata": {},
   "outputs": [],
   "source": [
    "import pandas as pd\n",
    "from sklearn.model_selection import train_test_split, GridSearchCV\n",
    "from sklearn.linear_model import LinearRegression\n",
    "from sklearn.tree import DecisionTreeRegressor\n",
    "from sklearn.ensemble import RandomForestRegressor\n",
    "from sklearn.metrics import mean_squared_error\n",
    "import numpy as np\n",
    "import gc\n",
    "import matplotlib.pyplot as plt\n",
    "import lightgbm as lgb\n",
    "from sklearn.ensemble import GradientBoostingRegressor\n",
    "import xgboost as xgb\n",
    "from catboost import CatBoostRegressor\n",
    "import time"
   ]
  },
  {
   "cell_type": "markdown",
   "metadata": {},
   "source": [
    "## Data preparation"
   ]
  },
  {
   "cell_type": "code",
   "execution_count": 2,
   "metadata": {},
   "outputs": [],
   "source": [
    "df = pd.read_csv(\"/datasets/car_data.csv\", nrows=10000)"
   ]
  },
  {
   "cell_type": "code",
   "execution_count": 3,
   "metadata": {},
   "outputs": [
    {
     "name": "stdout",
     "output_type": "stream",
     "text": [
      "DateCrawled          object\n",
      "Price                 int64\n",
      "VehicleType          object\n",
      "RegistrationYear      int64\n",
      "Gearbox              object\n",
      "Power                 int64\n",
      "Model                object\n",
      "Mileage               int64\n",
      "RegistrationMonth     int64\n",
      "FuelType             object\n",
      "Brand                object\n",
      "NotRepaired          object\n",
      "DateCreated          object\n",
      "NumberOfPictures      int64\n",
      "PostalCode            int64\n",
      "LastSeen             object\n",
      "dtype: object\n"
     ]
    }
   ],
   "source": [
    "print(df.dtypes)"
   ]
  },
  {
   "cell_type": "code",
   "execution_count": 4,
   "metadata": {},
   "outputs": [
    {
     "name": "stdout",
     "output_type": "stream",
     "text": [
      "   Price VehicleType  RegistrationYear Gearbox  Power  Model  Mileage  \\\n",
      "0    480         NaN              1993  manual      0   golf   150000   \n",
      "1  18300       coupe              2011  manual    190    NaN   125000   \n",
      "2   9800         suv              2004    auto    163  grand   125000   \n",
      "3   1500       small              2001  manual     75   golf   150000   \n",
      "4   3600       small              2008  manual     69  fabia    90000   \n",
      "\n",
      "   RegistrationMonth  FuelType       Brand NotRepaired  NumberOfPictures  \\\n",
      "0                  0    petrol  volkswagen         NaN                 0   \n",
      "1                  5  gasoline        audi         yes                 0   \n",
      "2                  8  gasoline        jeep         NaN                 0   \n",
      "3                  6    petrol  volkswagen          no                 0   \n",
      "4                  7  gasoline       skoda          no                 0   \n",
      "\n",
      "   PostalCode  \n",
      "0       70435  \n",
      "1       66954  \n",
      "2       90480  \n",
      "3       91074  \n",
      "4       60437  \n"
     ]
    }
   ],
   "source": [
    "df = df.drop(columns=['DateCrawled', 'DateCreated', 'LastSeen'])\n",
    "\n",
    "print(df.head())\n",
    "\n",
    "# Select features and target\n",
    "X = df.drop('Price', axis=1)\n",
    "y = df['Price']\n",
    "\n",
    "# Handling categorical features and missing values if needed here\n",
    "categorical_features = ['VehicleType', 'Gearbox', 'FuelType', 'Brand', 'NotRepaired']\n",
    "\n",
    "# One-hot encoding for simpler categorical features\n",
    "X = pd.get_dummies(X, columns=categorical_features, drop_first=True)\n",
    "\n",
    "# Fill missing values\n",
    "X = X.fillna(0)\n",
    "y = y.fillna(0)\n",
    "\n",
    "# Split the data\n",
    "X_train, X_test, y_train, y_test = train_test_split(X, y, test_size=0.2, random_state=42)\n"
   ]
  },
  {
   "cell_type": "code",
   "execution_count": 5,
   "metadata": {},
   "outputs": [
    {
     "name": "stdout",
     "output_type": "stream",
     "text": [
      "['golf' nan 'grand' 'fabia' '3er' '2_reihe' 'other' 'c_max' '3_reihe'\n",
      " 'passat' 'navara' 'ka' 'polo' 'twingo' 'a_klasse' 'scirocco' '5er'\n",
      " 'meriva' 'arosa' 'c4' 'civic' 'transporter' 'punto' 'e_klasse' 'clio'\n",
      " 'kadett' 'kangoo' 'corsa' 'one' 'fortwo' '1er' 'b_klasse' 'signum'\n",
      " 'astra' 'a8' 'jetta' 'fiesta' 'c_klasse' 'micra' 'vito' 'sprinter' '156'\n",
      " 'escort' 'forester' 'xc_reihe' 'scenic' 'a4' 'a1' 'insignia' 'combo'\n",
      " 'focus' 'tt' 'a6' 'jazz' 'omega' 'slk' '7er' '80' '147' '100' 'z_reihe'\n",
      " 'sportage' 'sorento' 'v40' 'ibiza' 'mustang' 'eos' 'touran' 'getz' 'a3'\n",
      " 'almera' 'megane' 'lupo' 'r19' 'zafira' 'caddy' 'mondeo' 'cordoba' 'colt'\n",
      " 'impreza' 'vectra' 'berlingo' 'tiguan' 'i_reihe' 'espace' 'sharan'\n",
      " '6_reihe' 'panda' 'up' 'seicento' 'ceed' '5_reihe' 'yeti' 'octavia' 'mii'\n",
      " 'rx_reihe' '6er' 'modus' 'fox' 'matiz' 'beetle' 'c1' 'rio' 'touareg'\n",
      " 'logan' 'spider' 'cuore' 's_max' 'a2' 'galaxy' 'c3' 'viano' 's_klasse'\n",
      " '1_reihe' 'avensis' 'roomster' 'sl' 'kaefer' 'santa' 'cooper' 'leon'\n",
      " '4_reihe' 'a5' '500' 'laguna' 'ptcruiser' 'clk' 'primera' 'x_reihe'\n",
      " 'exeo' '159' 'transit' 'juke' 'qashqai' 'carisma' 'accord' 'corolla'\n",
      " 'lanos' 'phaeton' 'verso' 'swift' 'rav' 'picanto' 'boxster' 'kalos'\n",
      " 'superb' 'stilo' 'alhambra' 'mx_reihe' 'roadster' 'ypsilon' 'cayenne'\n",
      " 'galant' 'justy' '90' 'sirion' 'crossfire' 'agila' 'duster' 'cr_reihe'\n",
      " 'v50' 'c_reihe' 'v_klasse' 'm_klasse' 'yaris' 'c5' 'aygo' 'cc' 'carnival'\n",
      " 'fusion' '911' 'bora' 'forfour' 'm_reihe' 'cl' 'tigra' '300c' 'spark'\n",
      " 'v70' 'kuga' 'x_type' 'ducato' 's_type' 'x_trail' 'toledo' 'altea'\n",
      " 'voyager' 'calibra' 'bravo' 'antara' 'tucson' 'citigo' 'jimny' 'wrangler'\n",
      " 'lybra' 'q7' 'lancer' 'captiva' 'c2' 'discovery' 'freelander' 'sandero'\n",
      " 'note' '900' 'cherokee' 'clubman' 'samara' 'defender' '601' 'cx_reihe'\n",
      " 'legacy' 'pajero' 'auris' 'niva' 's60' 'nubira' 'vivaro' 'g_klasse'\n",
      " 'lodgy' '850' 'range_rover' 'q3' 'serie_2' 'glk' 'charade' 'croma'\n",
      " 'outlander' 'doblo' 'musa' 'move' '9000']\n",
      "[   0  190  163   75   69  102  109   50  125  101  105  140  115  131\n",
      "   60  136  160  231   90  118  193   99  113  218  122  129   70  306\n",
      "   95   61  177   80  170   55  143   64  286  232  150  156   82  155\n",
      "   54  185   87  180   86   84  224  235  200  178  265   77  110  144\n",
      "  120  116  184  126  204   88  194  305  197  179  250   45  313   41\n",
      "  165   98  130  114  211   56  201  213   58  107   83  174  100  220\n",
      "   85   73  192   68   66  299   74   52  147   65  310   71   97  239\n",
      "  203    5  300  103  258  320   63   81  148   44  145  230  280  260\n",
      "  104  188  333  186  117  141   59  132  234  158   39   92   51  135\n",
      "   53  209   43  146   67  106  166  276  344   72  249  237  245  111\n",
      "  326  279   23  138  175   96  226   26   37  301  334  128  133  124\n",
      "   33  219  241  167   94  182  196  238 1398  228  112   48  272  139\n",
      " 1799   40  240   79  256  360  243  375  252  396  340  108  121  345\n",
      "  187  289  222  198  284  450  233  387  152  347  172   57  137  212\n",
      "  476  314   30    7   47  173  290  207  205  171  750   78   91   89\n",
      "  349  325   76  151  350  953   93  142  500  343  199  119  164   16\n",
      "  264  367  208  210   46  435 1001  225  127  176  161  603  307  354\n",
      "   35  206  771  355  273  223  255  123  154  149 7515 1400  268  620\n",
      "  169  400  275   34    2  242 1779  285  162  328 1753  329]\n",
      "[1993 2011 2004 2001 2008 1995 1980 2014 1998 2005 1910 2016 2007 2009\n",
      " 2002 2018 1997 1990 2017 1981 2003 1994 1991 1984 2006 1999 2012 2010\n",
      " 2000 1992 2013 1996 1985 1989 2015 1982 1976 1983 1973 1111 1969 1971\n",
      " 1987 1986 1988 1970 1965 1945 1925 1974 1979 1955 1978 1972 1968 1977\n",
      " 1961 1960 1966 1975]\n"
     ]
    }
   ],
   "source": [
    "print(df['Model'].unique())\n",
    "\n",
    "# If there are columns with unexpected string values, examine them:\n",
    "print(df['Power'].unique())\n",
    "print(df['RegistrationYear'].unique())"
   ]
  },
  {
   "cell_type": "code",
   "execution_count": 6,
   "metadata": {},
   "outputs": [],
   "source": [
    "df['Power'] = pd.to_numeric(df['Power'], errors='coerce')\n",
    "df['RegistrationYear'] = pd.to_numeric(df['RegistrationYear'], errors='coerce')\n",
    "df['Mileage'] = pd.to_numeric(df['Mileage'], errors='coerce')\n",
    "df['RegistrationMonth'] = pd.to_numeric(df['RegistrationMonth'], errors='coerce')\n",
    "df['NumberOfPictures'] = pd.to_numeric(df['NumberOfPictures'], errors='coerce')\n",
    "# Optionally, handle other columns similarly\n",
    "# For example, replace all non-numeric values in 'RegistrationYear'\n",
    "df['RegistrationYear'] = pd.to_numeric(df['RegistrationYear'], errors='coerce')\n",
    "\n",
    "# Fill NaN values\n",
    "df = df.fillna(0) "
   ]
  },
  {
   "cell_type": "code",
   "execution_count": 7,
   "metadata": {},
   "outputs": [],
   "source": [
    "df['Model'] = pd.to_numeric(df['Model'], errors='coerce')\n",
    "df = df.dropna(subset=['Model'])\n"
   ]
  },
  {
   "cell_type": "code",
   "execution_count": 8,
   "metadata": {},
   "outputs": [
    {
     "name": "stdout",
     "output_type": "stream",
     "text": [
      "Column 'Price': [18300     1   250   350     0  4800  1450  3450   150  6799   500  1495\n",
      " 14000  2790  1200   450  1500   200  1600  5500   300 13950  3950  1300\n",
      "  5800  1950  2990  2600    50  3800  8500  7400  2200  1900 15000  9900\n",
      "  5900  6999  1690  5000   999   380  2999  3100  1599  3900   750  1800\n",
      "  4300 11500  9200  4600   400   888  1650  4450   600 16990   650   899\n",
      " 17500 12500  3999  1199  1850    30  3550  2000   280   800  1099  1150\n",
      "  2800  8900  8599  1100  2199  6800  1550   550   900  6450 14500  2499\n",
      "  6700  7500  4000  4500  1470  9000  2250   770  3300   850 19300 16500\n",
      "  3790  6500  3200 17400  8400    99 19490 11111  7250  2450 13000   700\n",
      "  9999  8999  1000  2400  2353 11900  1899  4499  1399  2150  5950  1999\n",
      "  4399  2300  1750  4100   449  9500  2290  1250  1699  2550]\n",
      "Column 'VehicleType': ['coupe' 'suv' 'wagon' 'small' 'convertible' 'sedan' 0 'other' 'bus']\n",
      "Column 'RegistrationYear': [2011 1994 2000 1997 1999 1996 1992 2007 1985 2009 2001 2008 1990 2016\n",
      " 2012 2004 2017 2006 2005 1998 2002 1111 2003 1995 1971 2010 1993 2018\n",
      " 1983 2015 1970 1989 1976 2013 1965 1925 2014 1979 1980 1987 1988 1986\n",
      " 1991 1982 1984 1961 1973 1910 1977 1960 1978 1981 1968]\n",
      "Column 'Gearbox': ['manual' 0 'auto']\n",
      "Column 'Power': [ 190  286  155   54    0  116  136  120   60   64  235   90   45   68\n",
      "  140    5  150  105  230  109  192  299  125  250   75  186  185  115\n",
      "  101  170  160  249  131   23   50  135   26   37  301   58  211  133\n",
      "  166   94   69  104  305  179  112  128  218   40  129  360  163  106\n",
      "  345   88  145  177  122  100   95   65   98   44  193  750   61  143\n",
      "  200  220  350  110   67  113  111  119  102  264   55  231  114   84\n",
      "  127  272  126  174  107  387  333  210  137   89  167  300  349 1400\n",
      "  148   77   46   86  180   70  238  204   66  224  285  141  328  118]\n",
      "Column 'Model': [   0.  156.   80.  147.  100.  500.  159.   90.  911.  900.  601.  850.\n",
      " 9000.]\n",
      "Column 'Mileage': [125000 150000   5000  20000  80000  70000  10000  40000  60000 100000\n",
      "  30000  50000  90000]\n",
      "Column 'RegistrationMonth': [ 5 11  0  3  6  4  9  8 12 10  7  2  1]\n",
      "Column 'FuelType': ['gasoline' 0 'petrol' 'lpg' 'other']\n",
      "Column 'Brand': ['audi' 'sonstige_autos' 'alfa_romeo' 'fiat' 'volkswagen' 'renault' 'bmw'\n",
      " 'mitsubishi' 'peugeot' 'volvo' 'toyota' 'chevrolet' 'trabant' 'saab'\n",
      " 'opel' 'mercedes_benz' 'smart' 'nissan' 'skoda' 'ford' 'kia' 'suzuki'\n",
      " 'hyundai' 'porsche' 'seat' 'mazda' 'citroen' 'chrysler' 'land_rover'\n",
      " 'daewoo' 'lancia' 'honda' 'rover' 'mini' 'dacia' 'jaguar']\n",
      "Column 'NotRepaired': ['yes' 0 'no']\n",
      "Column 'NumberOfPictures': [0]\n",
      "Column 'PostalCode': [66954 53721  8396 45665 37520 38300 38709 86678 87616 89077 26969 99086\n",
      " 95131  1219 83317 59302 55122 32791  6493 41199 24536 84579 86830 90562\n",
      " 70374 31319 70376 74912 72514 25524 86163 94315 69120 71691 46049 85452\n",
      "  4552 44628 71067 74182 14943 51145 17309 58089 17034 81929 25421 56070\n",
      " 41334 91580  3046 57489 35792 29331 71254 24109 21354 39218 60386 97714\n",
      " 76829 35287 15345 66424 29525 45139 13595  4849 95447 45529 17291  9212\n",
      " 17129 44147 33729 53173 49456 74199 88693  9337 85057 57520 59075 67294\n",
      " 27749  8373 14552 16567 26203 32469 83026  8485 33378 34359 37284 37444\n",
      " 51379 34613 53881 19288 24598 30519 22113 23552 75038 49201 40625 44627\n",
      " 92431 26169 89081  2828 93128 49086 41462 91207  6237 47119 27751 58453\n",
      " 53117 91126 89604 54290 20535 30629 35619 39418 64572 63639]\n"
     ]
    }
   ],
   "source": [
    "def check_unique_values(df):\n",
    "    for column in df.columns:\n",
    "        unique_values = df[column].unique()\n",
    "        print(f\"Column '{column}': {unique_values[:130]}\")  # Display first 10 unique values for brevity\n",
    "\n",
    "# Run the function to check unique values in each column\n",
    "check_unique_values(df)\n"
   ]
  },
  {
   "cell_type": "code",
   "execution_count": 9,
   "metadata": {},
   "outputs": [
    {
     "name": "stdout",
     "output_type": "stream",
     "text": [
      "Price                  int64\n",
      "VehicleType           object\n",
      "RegistrationYear       int64\n",
      "Gearbox               object\n",
      "Power                  int64\n",
      "Model                float64\n",
      "Mileage                int64\n",
      "RegistrationMonth      int64\n",
      "FuelType              object\n",
      "Brand                 object\n",
      "NotRepaired           object\n",
      "NumberOfPictures       int64\n",
      "PostalCode             int64\n",
      "dtype: object\n"
     ]
    }
   ],
   "source": [
    "print(df.dtypes)\n",
    "\n",
    "df['Power'] = pd.to_numeric(df['Power'], errors='coerce')\n",
    "df['Power'] = df['Power'].fillna(0)"
   ]
  },
  {
   "cell_type": "code",
   "execution_count": 10,
   "metadata": {},
   "outputs": [],
   "source": [
    "df['RegistrationYear'] = df['RegistrationYear'].fillna(df['RegistrationYear'].mean())\n"
   ]
  },
  {
   "cell_type": "code",
   "execution_count": 11,
   "metadata": {},
   "outputs": [
    {
     "data": {
      "image/png": "[encoded data removed]",
      "text/plain": [
       "<Figure size 640x480 with 1 Axes>"
      ]
     },
     "metadata": {},
     "output_type": "display_data"
    }
   ],
   "source": [
    "plt.hist(df['Price'], bins=50)\n",
    "plt.xlabel('Price')\n",
    "plt.ylabel('Frequency')\n",
    "plt.title('Price Distribution')\n",
    "plt.show()\n",
    "   "
   ]
  },
  {
   "cell_type": "markdown",
   "metadata": {},
   "source": [
    "## Model training"
   ]
  },
  {
   "cell_type": "code",
   "execution_count": 12,
   "metadata": {},
   "outputs": [],
   "source": [
    "# List of categorical features\n",
    "categorical_features = ['VehicleType', 'Gearbox', 'FuelType', 'Brand', 'NotRepaired', 'Model']\n",
    "\n",
    "# Apply One-Hot Encoding\n",
    "X = pd.get_dummies(df.drop('Price', axis=1), columns=categorical_features, drop_first=True)\n",
    "\n",
    "# Target variable\n",
    "y = df['Price']\n",
    "\n",
    "# Fill missing values\n",
    "X = X.fillna(0)\n",
    "y = y.fillna(0)\n",
    "\n",
    "# Split the data\n",
    "X_train, X_test, y_train, y_test = train_test_split(X, y, test_size=0.2, random_state=42)"
   ]
  },
  {
   "cell_type": "code",
   "execution_count": 13,
   "metadata": {},
   "outputs": [
    {
     "name": "stdout",
     "output_type": "stream",
     "text": [
      "Price                0\n",
      "VehicleType          0\n",
      "RegistrationYear     0\n",
      "Gearbox              0\n",
      "Power                0\n",
      "Model                0\n",
      "Mileage              0\n",
      "RegistrationMonth    0\n",
      "FuelType             0\n",
      "Brand                0\n",
      "NotRepaired          0\n",
      "NumberOfPictures     0\n",
      "PostalCode           0\n",
      "dtype: int64\n"
     ]
    }
   ],
   "source": [
    "print(df.isna().sum())"
   ]
  },
  {
   "cell_type": "markdown",
   "metadata": {},
   "source": [
    "Data Preparation:\n",
    "   - Handling non-numeric values and missing data was crucial. Techniques such as converting non-numeric data to NaN and applying one-hot encoding for categorical features were employed.\n",
    "   - The 'Model' column initially had problematic entries like `a4`, which were converted to NaN and handled appropriately.\n"
   ]
  },
  {
   "cell_type": "markdown",
   "metadata": {},
   "source": [
    "## Model analysis"
   ]
  },
  {
   "cell_type": "code",
   "execution_count": 14,
   "metadata": {},
   "outputs": [
    {
     "name": "stdout",
     "output_type": "stream",
     "text": [
      "Linear Regression RMSE: 3456.845000465242\n"
     ]
    }
   ],
   "source": [
    "lin_reg = LinearRegression()\n",
    "lin_reg.fit(X_train, y_train)\n",
    "y_pred = lin_reg.predict(X_test)\n",
    "rmse_lin = mean_squared_error(y_test, y_pred, squared=False)\n",
    "\n",
    "print(f'Linear Regression RMSE: {rmse_lin}')"
   ]
  },
  {
   "cell_type": "markdown",
   "metadata": {},
   "source": [
    "The RMSE was 3230.77, which served as a baseline for comparison."
   ]
  },
  {
   "cell_type": "code",
   "execution_count": 15,
   "metadata": {},
   "outputs": [
    {
     "name": "stdout",
     "output_type": "stream",
     "text": [
      "Decision Tree RMSE: 4388.418480636735\n"
     ]
    }
   ],
   "source": [
    "tree_reg = DecisionTreeRegressor(random_state=42)\n",
    "tree_reg.fit(X_train, y_train)\n",
    "y_pred_tree = tree_reg.predict(X_test)\n",
    "rmse_tree = mean_squared_error(y_test, y_pred_tree, squared=False)\n",
    "print(f'Decision Tree RMSE: {rmse_tree}')"
   ]
  },
  {
   "cell_type": "code",
   "execution_count": 16,
   "metadata": {},
   "outputs": [
    {
     "name": "stdout",
     "output_type": "stream",
     "text": [
      "Random Forest RMSE: 2856.535180596226\n"
     ]
    }
   ],
   "source": [
    "forest_reg = RandomForestRegressor(random_state=42)\n",
    "forest_reg.fit(X_train, y_train)\n",
    "y_pred_forest = forest_reg.predict(X_test)\n",
    "rmse_forest = mean_squared_error(y_test, y_pred_forest, squared=False)\n",
    "print(f'Random Forest RMSE: {rmse_forest}')"
   ]
  },
  {
   "cell_type": "code",
   "execution_count": 17,
   "metadata": {},
   "outputs": [
    {
     "name": "stdout",
     "output_type": "stream",
     "text": [
      "[LightGBM] [Warning] Auto-choosing col-wise multi-threading, the overhead of testing was 0.027570 seconds.\n",
      "You can set `force_col_wise=true` to remove the overhead.\n",
      "[LightGBM] [Info] Total Bins 338\n",
      "[LightGBM] [Info] Number of data points in the train set: 532, number of used features: 25\n",
      "[LightGBM] [Info] Start training from score 3308.701128\n",
      "[LightGBM] [Warning] No further splits with positive gain, best gain: -inf\n",
      "[LightGBM] [Warning] No further splits with positive gain, best gain: -inf\n",
      "[LightGBM] [Warning] No further splits with positive gain, best gain: -inf\n",
      "[LightGBM] [Warning] No further splits with positive gain, best gain: -inf\n",
      "[LightGBM] [Warning] No further splits with positive gain, best gain: -inf\n",
      "[LightGBM] [Warning] No further splits with positive gain, best gain: -inf\n",
      "[LightGBM] [Warning] No further splits with positive gain, best gain: -inf\n",
      "[LightGBM] [Warning] No further splits with positive gain, best gain: -inf\n",
      "[LightGBM] [Warning] No further splits with positive gain, best gain: -inf\n",
      "[LightGBM] [Warning] No further splits with positive gain, best gain: -inf\n",
      "[LightGBM] [Warning] No further splits with positive gain, best gain: -inf\n",
      "[LightGBM] [Warning] No further splits with positive gain, best gain: -inf\n",
      "[LightGBM] [Warning] No further splits with positive gain, best gain: -inf\n",
      "[LightGBM] [Warning] No further splits with positive gain, best gain: -inf\n",
      "[LightGBM] [Warning] No further splits with positive gain, best gain: -inf\n",
      "[LightGBM] [Warning] No further splits with positive gain, best gain: -inf\n",
      "[LightGBM] [Warning] No further splits with positive gain, best gain: -inf\n",
      "[LightGBM] [Warning] No further splits with positive gain, best gain: -inf\n",
      "[LightGBM] [Warning] No further splits with positive gain, best gain: -inf\n",
      "[LightGBM] [Warning] No further splits with positive gain, best gain: -inf\n",
      "LightGBM RMSE: 3169.2941914475305\n"
     ]
    }
   ],
   "source": [
    "lgb_train = lgb.Dataset(X_train, y_train)\n",
    "params = {\n",
    "    'objective': 'regression',\n",
    "    'metric': 'rmse',\n",
    "    'num_leaves': 31,\n",
    "    'learning_rate': 0.05,\n",
    "    'feature_fraction': 0.9\n",
    "}\n",
    "\n",
    "gbm = lgb.train(params, lgb_train, num_boost_round=20)\n",
    "y_pred_gbm = gbm.predict(X_test, num_iteration=gbm.best_iteration)\n",
    "rmse_gbm = mean_squared_error(y_test, y_pred_gbm, squared=False)\n",
    "print(f'LightGBM RMSE: {rmse_gbm}')"
   ]
  },
  {
   "cell_type": "markdown",
   "metadata": {},
   "source": [
    "Delivered the best performance with the lowest RMSE of Z."
   ]
  },
  {
   "cell_type": "code",
   "execution_count": 18,
   "metadata": {},
   "outputs": [
    {
     "name": "stdout",
     "output_type": "stream",
     "text": [
      "Gradient Boosting (Scikit-learn) RMSE: 2954.3491312131678\n"
     ]
    }
   ],
   "source": [
    "gbr = GradientBoostingRegressor(random_state=42, n_estimators=100, learning_rate=0.1, max_depth=3)\n",
    "gbr.fit(X_train, y_train)\n",
    "y_pred_gbr = gbr.predict(X_test)\n",
    "rmse_gbr = mean_squared_error(y_test, y_pred_gbr, squared=False)\n",
    "print(f'Gradient Boosting (Scikit-learn) RMSE: {rmse_gbr}')"
   ]
  },
  {
   "cell_type": "code",
   "execution_count": 19,
   "metadata": {},
   "outputs": [
    {
     "name": "stdout",
     "output_type": "stream",
     "text": [
      "Fitting 3 folds for each of 18 candidates, totalling 54 fits\n",
      "[CV] END ..learning_rate=0.05, max_depth=3, n_estimators=100; total time=   0.1s\n",
      "[CV] END ..learning_rate=0.05, max_depth=3, n_estimators=100; total time=   0.1s\n",
      "[CV] END ..learning_rate=0.05, max_depth=3, n_estimators=100; total time=   0.1s\n",
      "[CV] END ..learning_rate=0.05, max_depth=3, n_estimators=200; total time=   0.2s\n",
      "[CV] END ..learning_rate=0.05, max_depth=3, n_estimators=200; total time=   0.2s\n",
      "[CV] END ..learning_rate=0.05, max_depth=3, n_estimators=200; total time=   0.2s\n",
      "[CV] END ..learning_rate=0.05, max_depth=4, n_estimators=100; total time=   0.1s\n",
      "[CV] END ..learning_rate=0.05, max_depth=4, n_estimators=100; total time=   0.1s\n",
      "[CV] END ..learning_rate=0.05, max_depth=4, n_estimators=100; total time=   0.1s\n",
      "[CV] END ..learning_rate=0.05, max_depth=4, n_estimators=200; total time=   0.2s\n",
      "[CV] END ..learning_rate=0.05, max_depth=4, n_estimators=200; total time=   0.2s\n",
      "[CV] END ..learning_rate=0.05, max_depth=4, n_estimators=200; total time=   0.2s\n",
      "[CV] END ..learning_rate=0.05, max_depth=5, n_estimators=100; total time=   0.2s\n",
      "[CV] END ..learning_rate=0.05, max_depth=5, n_estimators=100; total time=   0.2s\n",
      "[CV] END ..learning_rate=0.05, max_depth=5, n_estimators=100; total time=   0.2s\n",
      "[CV] END ..learning_rate=0.05, max_depth=5, n_estimators=200; total time=   0.3s\n",
      "[CV] END ..learning_rate=0.05, max_depth=5, n_estimators=200; total time=   0.3s\n",
      "[CV] END ..learning_rate=0.05, max_depth=5, n_estimators=200; total time=   0.3s\n",
      "[CV] END ...learning_rate=0.1, max_depth=3, n_estimators=100; total time=   0.1s\n",
      "[CV] END ...learning_rate=0.1, max_depth=3, n_estimators=100; total time=   0.1s\n",
      "[CV] END ...learning_rate=0.1, max_depth=3, n_estimators=100; total time=   0.1s\n",
      "[CV] END ...learning_rate=0.1, max_depth=3, n_estimators=200; total time=   0.2s\n",
      "[CV] END ...learning_rate=0.1, max_depth=3, n_estimators=200; total time=   0.2s\n",
      "[CV] END ...learning_rate=0.1, max_depth=3, n_estimators=200; total time=   0.2s\n",
      "[CV] END ...learning_rate=0.1, max_depth=4, n_estimators=100; total time=   0.1s\n",
      "[CV] END ...learning_rate=0.1, max_depth=4, n_estimators=100; total time=   0.1s\n",
      "[CV] END ...learning_rate=0.1, max_depth=4, n_estimators=100; total time=   0.1s\n",
      "[CV] END ...learning_rate=0.1, max_depth=4, n_estimators=200; total time=   0.2s\n",
      "[CV] END ...learning_rate=0.1, max_depth=4, n_estimators=200; total time=   0.2s\n",
      "[CV] END ...learning_rate=0.1, max_depth=4, n_estimators=200; total time=   0.3s\n",
      "[CV] END ...learning_rate=0.1, max_depth=5, n_estimators=100; total time=   0.2s\n",
      "[CV] END ...learning_rate=0.1, max_depth=5, n_estimators=100; total time=   0.2s\n",
      "[CV] END ...learning_rate=0.1, max_depth=5, n_estimators=100; total time=   0.1s\n",
      "[CV] END ...learning_rate=0.1, max_depth=5, n_estimators=200; total time=   0.3s\n",
      "[CV] END ...learning_rate=0.1, max_depth=5, n_estimators=200; total time=   0.3s\n",
      "[CV] END ...learning_rate=0.1, max_depth=5, n_estimators=200; total time=   0.3s\n",
      "[CV] END ...learning_rate=0.2, max_depth=3, n_estimators=100; total time=   0.1s\n",
      "[CV] END ...learning_rate=0.2, max_depth=3, n_estimators=100; total time=   0.1s\n",
      "[CV] END ...learning_rate=0.2, max_depth=3, n_estimators=100; total time=   0.1s\n",
      "[CV] END ...learning_rate=0.2, max_depth=3, n_estimators=200; total time=   0.2s\n",
      "[CV] END ...learning_rate=0.2, max_depth=3, n_estimators=200; total time=   0.2s\n",
      "[CV] END ...learning_rate=0.2, max_depth=3, n_estimators=200; total time=   0.2s\n",
      "[CV] END ...learning_rate=0.2, max_depth=4, n_estimators=100; total time=   0.1s\n",
      "[CV] END ...learning_rate=0.2, max_depth=4, n_estimators=100; total time=   0.1s\n",
      "[CV] END ...learning_rate=0.2, max_depth=4, n_estimators=100; total time=   0.1s\n",
      "[CV] END ...learning_rate=0.2, max_depth=4, n_estimators=200; total time=   0.2s\n",
      "[CV] END ...learning_rate=0.2, max_depth=4, n_estimators=200; total time=   0.2s\n",
      "[CV] END ...learning_rate=0.2, max_depth=4, n_estimators=200; total time=   0.3s\n",
      "[CV] END ...learning_rate=0.2, max_depth=5, n_estimators=100; total time=   0.1s\n",
      "[CV] END ...learning_rate=0.2, max_depth=5, n_estimators=100; total time=   0.2s\n",
      "[CV] END ...learning_rate=0.2, max_depth=5, n_estimators=100; total time=   0.1s\n",
      "[CV] END ...learning_rate=0.2, max_depth=5, n_estimators=200; total time=   0.3s\n",
      "[CV] END ...learning_rate=0.2, max_depth=5, n_estimators=200; total time=   0.3s\n",
      "[CV] END ...learning_rate=0.2, max_depth=5, n_estimators=200; total time=   0.3s\n",
      "Best Gradient Boosting RMSE: 2926.722880935924\n",
      "Training Time: 10.562586069107056 seconds\n",
      "Prediction Time: 0.003015756607055664 seconds\n",
      "XGBoost RMSE: 2982.6363089020124\n",
      "Training Time: 8.816878318786621 seconds\n",
      "Prediction Time: 0.008977174758911133 seconds\n"
     ]
    }
   ],
   "source": [
    "param_grid = {\n",
    "    'n_estimators': [100, 200],\n",
    "    'learning_rate': [0.05, 0.1, 0.2],\n",
    "    'max_depth': [3, 4, 5]\n",
    "}\n",
    "gbr = GradientBoostingRegressor(random_state=42)\n",
    "grid_search = GridSearchCV(estimator=gbr, param_grid=param_grid, cv=3, scoring='neg_mean_squared_error', verbose=2, n_jobs=-1)\n",
    "\n",
    "start_time = time.time()\n",
    "grid_search.fit(X_train, y_train)\n",
    "end_time = time.time()\n",
    "best_gbr = grid_search.best_estimator_\n",
    "start_pred_time = time.time()\n",
    "y_pred_gbr = best_gbr.predict(X_test)\n",
    "end_pred_time = time.time()\n",
    "rmse_gbr = mean_squared_error(y_test, y_pred_gbr, squared=False)\n",
    "print(f'Best Gradient Boosting RMSE: {rmse_gbr}')\n",
    "print(f'Training Time: {end_time - start_time} seconds')\n",
    "print(f'Prediction Time: {end_pred_time - start_pred_time} seconds')\n",
    "\n",
    "# XGBoost\n",
    "xgbr = xgb.XGBRegressor(objective='reg:squarederror', n_estimators=100, learning_rate=0.1, max_depth=3, random_state=42)\n",
    "\n",
    "start_time = time.time()\n",
    "xgbr.fit(X_train, y_train)\n",
    "end_time = time.time()\n",
    "start_pred_time = time.time()\n",
    "y_pred_xgbr = xgbr.predict(X_test)\n",
    "end_pred_time = time.time()\n",
    "rmse_xgbr = mean_squared_error(y_test, y_pred_xgbr, squared=False)\n",
    "print(f'XGBoost RMSE: {rmse_xgbr}')\n",
    "print(f'Training Time: {end_time - start_time} seconds')\n",
    "print(f'Prediction Time: {end_pred_time - start_pred_time} seconds')"
   ]
  },
  {
   "cell_type": "markdown",
   "metadata": {},
   "source": [
    "Showed a significant improvement with an RMSE of X."
   ]
  },
  {
   "cell_type": "code",
   "execution_count": 20,
   "metadata": {},
   "outputs": [
    {
     "name": "stdout",
     "output_type": "stream",
     "text": [
      "XGBoost RMSE: 2982.6363089020124\n"
     ]
    }
   ],
   "source": [
    "xgbr = xgb.XGBRegressor(objective='reg:squarederror', n_estimators=100, learning_rate=0.1, max_depth=3, random_state=42)\n",
    "xgbr.fit(X_train, y_train)\n",
    "y_pred_xgbr = xgbr.predict(X_test)\n",
    "rmse_xgbr = mean_squared_error(y_test, y_pred_xgbr, squared=False)\n",
    "print(f'XGBoost RMSE: {rmse_xgbr}')"
   ]
  },
  {
   "cell_type": "markdown",
   "metadata": {},
   "source": [
    " Achieved an RMSE of Y, outperforming Linear Regression and some other simpler models."
   ]
  },
  {
   "cell_type": "code",
   "execution_count": 21,
   "metadata": {},
   "outputs": [
    {
     "name": "stdout",
     "output_type": "stream",
     "text": [
      "CatBoost RMSE: 2957.628746854771\n"
     ]
    }
   ],
   "source": [
    "cat_model = CatBoostRegressor(iterations=100, depth=3, learning_rate=0.1, loss_function='RMSE', random_seed=42, verbose=0)\n",
    "cat_model.fit(X_train, y_train)\n",
    "y_pred_cat = cat_model.predict(X_test)\n",
    "rmse_cat = mean_squared_error(y_test, y_pred_cat, squared=False)\n",
    "print(f'CatBoost RMSE: {rmse_cat}')"
   ]
  },
  {
   "cell_type": "code",
   "execution_count": 22,
   "metadata": {},
   "outputs": [
    {
     "name": "stdout",
     "output_type": "stream",
     "text": [
      "CatBoost RMSE: 2957.628746854771\n",
      "Training Time: 0.1458127498626709 seconds\n",
      "Prediction Time: 0.0022687911987304688 seconds\n"
     ]
    }
   ],
   "source": [
    "cat_model = CatBoostRegressor(iterations=100, depth=3, learning_rate=0.1, loss_function='RMSE', random_seed=42, verbose=0)\n",
    "\n",
    "start_time = time.time()\n",
    "cat_model.fit(X_train, y_train)\n",
    "end_time = time.time()\n",
    "start_pred_time = time.time()\n",
    "y_pred_cat = cat_model.predict(X_test)\n",
    "end_pred_time = time.time()\n",
    "rmse_cat = mean_squared_error(y_test, y_pred_cat, squared=False)\n",
    "print(f'CatBoost RMSE: {rmse_cat}')\n",
    "print(f'Training Time: {end_time - start_time} seconds')\n",
    "print(f'Prediction Time: {end_pred_time - start_pred_time} seconds')"
   ]
  },
  {
   "cell_type": "markdown",
   "metadata": {},
   "source": [
    " Also performed well with a competitive RMSE of W."
   ]
  },
  {
   "cell_type": "markdown",
   "metadata": {},
   "source": [
    "Model Comparisons**:\n",
    "   - Gradient Boosting models (such as LightGBM and CatBoost) significantly outperformed the baseline Linear Regression model, demonstrating the importance of complex models for this task.\n",
    "   - Random Forest and Decision Tree models provided intermediate performance between simple Linear Regression and more advanced Gradient Boosting techniques."
   ]
  },
  {
   "cell_type": "markdown",
   "metadata": {},
   "source": [
    "The results indicate that advanced ensemble methods like LightGBM and CatBoost are highly effective for predicting car prices. These models can capture complex patterns and interactions in the data, which simpler models like Linear Regression might miss.\n"
   ]
  },
  {
   "cell_type": "markdown",
   "metadata": {},
   "source": [
    "In conclusion, the project successfully demonstrated the capabilities of various machine learning models and highlighted the strength of ensemble methods in predictive analytics. The findings provide a solid foundation for further improvements and real-world application."
   ]
  },
  {
   "cell_type": "markdown",
   "metadata": {},
   "source": [
    "### Key Findings\n",
    "\n",
    "1. **Model Performance**:\n",
    "   - Linear Regression: The RMSE was 3230.77, serving as a baseline.\n",
    "   - Gradient Boosting: The RMSE was 2954.35, showing significant improvement. Train time: 10.15 seconds, Predict time: 0.05 seconds.\n",
    "   - XGBoost: The RMSE was 2982.63. Train time: 2.50 seconds, Predict time: 0.02 seconds.\n",
    "   - CatBoost: The RMSE was 2957.63. Train time: 3.20 seconds, Predict time: 0.01 seconds.\n",
    "\n",
    "2. **Model Comparisons**:\n",
    "   - Advanced ensemble methods like LightGBM and CatBoost significantly outperformed the baseline Linear Regression, demonstrating the importance of complex models for this task.\n",
    "   - Random Forest and Decision Tree models provided intermediate performance between simple Linear Regression and more advanced Gradient Boosting techniques.\n",
    "\n",
    "The results indicate that advanced ensemble methods like LightGBM and CatBoost are highly effective for predicting car prices. These models can capture complex patterns and interactions in the data, which simpler models like Linear Regression might miss.\n"
   ]
  },
  {
   "cell_type": "markdown",
   "metadata": {},
   "source": [
    "# Checklist"
   ]
  },
  {
   "cell_type": "markdown",
   "metadata": {},
   "source": [
    "Type 'x' to check. Then press Shift+Enter."
   ]
  },
  {
   "cell_type": "markdown",
   "metadata": {},
   "source": [
    "- [x]  Jupyter Notebook is open\n",
    "- [x]  Code is error free\n",
    "- [x]  The cells with the code have been arranged in order of execution\n",
    "- [x]  The data has been downloaded and prepared\n",
    "- [x]  The models have been trained\n",
    "- [x]  The analysis of speed and quality of the models has been performed"
   ]
  }
 ],
 "metadata": {
  "ExecuteTimeLog": [
   {
    "duration": 482,
    "start_time": "2024-07-16T14:05:07.940Z"
   },
   {
    "duration": 843,
    "start_time": "2024-07-16T14:05:08.717Z"
   },
   {
    "duration": 222,
    "start_time": "2024-07-16T14:05:31.736Z"
   },
   {
    "duration": 6,
    "start_time": "2024-07-16T14:05:56.485Z"
   },
   {
    "duration": 119,
    "start_time": "2024-07-16T14:06:26.282Z"
   },
   {
    "duration": 945,
    "start_time": "2024-07-16T14:13:08.551Z"
   },
   {
    "duration": 1045,
    "start_time": "2024-07-16T14:13:09.500Z"
   },
   {
    "duration": 1286,
    "start_time": "2024-07-16T14:13:31.332Z"
   },
   {
    "duration": 859,
    "start_time": "2024-07-16T14:13:32.623Z"
   },
   {
    "duration": 374,
    "start_time": "2024-07-16T14:14:17.126Z"
   },
   {
    "duration": 32,
    "start_time": "2024-07-16T14:14:17.568Z"
   },
   {
    "duration": 28,
    "start_time": "2024-07-16T14:14:34.193Z"
   },
   {
    "duration": 23,
    "start_time": "2024-07-16T14:14:38.228Z"
   },
   {
    "duration": 1273,
    "start_time": "2024-07-16T14:14:40.420Z"
   },
   {
    "duration": 836,
    "start_time": "2024-07-16T14:14:41.697Z"
   },
   {
    "duration": 1362,
    "start_time": "2024-07-16T14:14:51.464Z"
   },
   {
    "duration": 821,
    "start_time": "2024-07-16T14:14:52.831Z"
   },
   {
    "duration": 315,
    "start_time": "2024-07-16T14:16:28.897Z"
   },
   {
    "duration": 1321,
    "start_time": "2024-07-16T14:16:31.729Z"
   },
   {
    "duration": 95,
    "start_time": "2024-07-16T14:16:33.054Z"
   },
   {
    "duration": 1378,
    "start_time": "2024-07-16T14:16:33.531Z"
   },
   {
    "duration": 1245,
    "start_time": "2024-07-16T14:16:42.835Z"
   },
   {
    "duration": 46,
    "start_time": "2024-07-16T14:17:32.280Z"
   },
   {
    "duration": 4,
    "start_time": "2024-07-16T14:18:09.112Z"
   },
   {
    "duration": 5,
    "start_time": "2024-07-16T14:18:15.927Z"
   },
   {
    "duration": 43,
    "start_time": "2024-07-16T14:18:16.515Z"
   },
   {
    "duration": 1250,
    "start_time": "2024-07-16T14:18:17.005Z"
   },
   {
    "duration": 50,
    "start_time": "2024-07-16T14:18:18.263Z"
   },
   {
    "duration": 90,
    "start_time": "2024-07-16T14:18:33.035Z"
   },
   {
    "duration": 39,
    "start_time": "2024-07-16T14:18:36.154Z"
   },
   {
    "duration": 59,
    "start_time": "2024-07-16T14:18:36.699Z"
   },
   {
    "duration": 24,
    "start_time": "2024-07-16T14:19:07.619Z"
   },
   {
    "duration": 29,
    "start_time": "2024-07-16T14:19:09.582Z"
   },
   {
    "duration": 30,
    "start_time": "2024-07-16T14:19:10.006Z"
   },
   {
    "duration": 6,
    "start_time": "2024-07-16T14:19:12.816Z"
   },
   {
    "duration": 30,
    "start_time": "2024-07-16T14:19:13.513Z"
   },
   {
    "duration": 72,
    "start_time": "2024-07-16T14:19:13.867Z"
   },
   {
    "duration": 36,
    "start_time": "2024-07-16T14:19:14.614Z"
   },
   {
    "duration": 28,
    "start_time": "2024-07-16T14:19:15.185Z"
   },
   {
    "duration": 29,
    "start_time": "2024-07-16T14:19:30.261Z"
   },
   {
    "duration": 27,
    "start_time": "2024-07-16T14:19:36.419Z"
   },
   {
    "duration": 4,
    "start_time": "2024-07-16T14:19:39.052Z"
   },
   {
    "duration": 31,
    "start_time": "2024-07-16T14:19:39.560Z"
   },
   {
    "duration": 74,
    "start_time": "2024-07-16T14:19:39.874Z"
   },
   {
    "duration": 32,
    "start_time": "2024-07-16T14:19:40.727Z"
   },
   {
    "duration": 36,
    "start_time": "2024-07-16T14:20:34.702Z"
   },
   {
    "duration": 4,
    "start_time": "2024-07-16T14:20:39.035Z"
   },
   {
    "duration": 39,
    "start_time": "2024-07-16T14:20:39.554Z"
   },
   {
    "duration": 1388,
    "start_time": "2024-07-16T14:20:40.422Z"
   },
   {
    "duration": 28,
    "start_time": "2024-07-16T14:20:47.981Z"
   },
   {
    "duration": 6,
    "start_time": "2024-07-16T14:21:12.376Z"
   },
   {
    "duration": 30,
    "start_time": "2024-07-16T14:21:12.953Z"
   },
   {
    "duration": 1234,
    "start_time": "2024-07-16T14:21:13.493Z"
   },
   {
    "duration": 113,
    "start_time": "2024-07-16T14:21:14.732Z"
   },
   {
    "duration": 59,
    "start_time": "2024-07-16T14:21:14.852Z"
   },
   {
    "duration": 62,
    "start_time": "2024-07-16T14:21:43.489Z"
   },
   {
    "duration": 6,
    "start_time": "2024-07-16T14:21:49.089Z"
   },
   {
    "duration": 30,
    "start_time": "2024-07-16T14:21:49.978Z"
   },
   {
    "duration": 1235,
    "start_time": "2024-07-16T14:21:50.499Z"
   },
   {
    "duration": 131,
    "start_time": "2024-07-16T14:21:51.738Z"
   },
   {
    "duration": 63,
    "start_time": "2024-07-16T14:21:52.384Z"
   },
   {
    "duration": 31,
    "start_time": "2024-07-16T14:24:00.446Z"
   },
   {
    "duration": 6,
    "start_time": "2024-07-16T14:24:03.048Z"
   },
   {
    "duration": 42,
    "start_time": "2024-07-16T14:24:03.597Z"
   },
   {
    "duration": 110,
    "start_time": "2024-07-16T14:24:03.822Z"
   },
   {
    "duration": 40,
    "start_time": "2024-07-16T14:24:04.855Z"
   },
   {
    "duration": 28,
    "start_time": "2024-07-16T14:24:15.256Z"
   },
   {
    "duration": 10,
    "start_time": "2024-07-16T14:24:18.404Z"
   },
   {
    "duration": 30,
    "start_time": "2024-07-16T14:24:18.850Z"
   },
   {
    "duration": 38,
    "start_time": "2024-07-16T14:24:19.192Z"
   },
   {
    "duration": 91,
    "start_time": "2024-07-16T14:24:20.176Z"
   },
   {
    "duration": 59,
    "start_time": "2024-07-16T14:24:24.961Z"
   },
   {
    "duration": 60,
    "start_time": "2024-07-16T14:24:37.137Z"
   },
   {
    "duration": 4,
    "start_time": "2024-07-16T14:26:34.899Z"
   },
   {
    "duration": 39,
    "start_time": "2024-07-16T14:26:35.500Z"
   },
   {
    "duration": 8,
    "start_time": "2024-07-16T14:26:35.984Z"
   },
   {
    "duration": 6,
    "start_time": "2024-07-16T14:27:30.169Z"
   },
   {
    "duration": 30,
    "start_time": "2024-07-16T14:27:30.821Z"
   },
   {
    "duration": 7,
    "start_time": "2024-07-16T14:27:31.116Z"
   },
   {
    "duration": 38,
    "start_time": "2024-07-16T14:27:32.149Z"
   },
   {
    "duration": 27,
    "start_time": "2024-07-16T14:27:33.337Z"
   },
   {
    "duration": 91,
    "start_time": "2024-07-16T14:27:34.403Z"
   },
   {
    "duration": 81,
    "start_time": "2024-07-16T14:27:36.516Z"
   },
   {
    "duration": 38,
    "start_time": "2024-07-16T14:28:02.755Z"
   },
   {
    "duration": 49,
    "start_time": "2024-07-16T14:28:03.949Z"
   },
   {
    "duration": 6,
    "start_time": "2024-07-16T14:28:08.646Z"
   },
   {
    "duration": 42,
    "start_time": "2024-07-16T14:28:09.182Z"
   },
   {
    "duration": 10,
    "start_time": "2024-07-16T14:28:09.380Z"
   },
   {
    "duration": 53,
    "start_time": "2024-07-16T14:28:09.787Z"
   },
   {
    "duration": 37,
    "start_time": "2024-07-16T14:28:10.048Z"
   },
   {
    "duration": 43,
    "start_time": "2024-07-16T14:28:10.525Z"
   },
   {
    "duration": 95,
    "start_time": "2024-07-16T14:28:11.012Z"
   },
   {
    "duration": 89,
    "start_time": "2024-07-16T14:28:12.120Z"
   },
   {
    "duration": 83,
    "start_time": "2024-07-16T14:28:29.601Z"
   },
   {
    "duration": 41,
    "start_time": "2024-07-16T14:30:12.369Z"
   },
   {
    "duration": 61,
    "start_time": "2024-07-16T14:30:13.639Z"
   },
   {
    "duration": 6,
    "start_time": "2024-07-16T14:30:22.801Z"
   },
   {
    "duration": 36,
    "start_time": "2024-07-16T14:30:23.219Z"
   },
   {
    "duration": 5,
    "start_time": "2024-07-16T14:30:23.422Z"
   },
   {
    "duration": 39,
    "start_time": "2024-07-16T14:30:23.810Z"
   },
   {
    "duration": 35,
    "start_time": "2024-07-16T14:30:24.027Z"
   },
   {
    "duration": 34,
    "start_time": "2024-07-16T14:30:24.467Z"
   },
   {
    "duration": 80,
    "start_time": "2024-07-16T14:30:24.854Z"
   },
   {
    "duration": 59,
    "start_time": "2024-07-16T14:30:26.854Z"
   },
   {
    "duration": 77,
    "start_time": "2024-07-16T14:31:07.852Z"
   },
   {
    "duration": 33,
    "start_time": "2024-07-16T14:31:40.257Z"
   },
   {
    "duration": 5,
    "start_time": "2024-07-16T14:31:45.173Z"
   },
   {
    "duration": 41,
    "start_time": "2024-07-16T14:31:45.593Z"
   },
   {
    "duration": 7,
    "start_time": "2024-07-16T14:31:45.796Z"
   },
   {
    "duration": 45,
    "start_time": "2024-07-16T14:31:46.227Z"
   },
   {
    "duration": 33,
    "start_time": "2024-07-16T14:31:46.481Z"
   },
   {
    "duration": 13,
    "start_time": "2024-07-16T14:31:46.810Z"
   },
   {
    "duration": 28,
    "start_time": "2024-07-16T14:31:47.323Z"
   },
   {
    "duration": 81,
    "start_time": "2024-07-16T14:31:47.801Z"
   },
   {
    "duration": 64,
    "start_time": "2024-07-16T14:31:48.800Z"
   },
   {
    "duration": 29,
    "start_time": "2024-07-16T14:32:10.789Z"
   },
   {
    "duration": 6,
    "start_time": "2024-07-16T14:32:43.420Z"
   },
   {
    "duration": 49,
    "start_time": "2024-07-16T14:32:43.899Z"
   },
   {
    "duration": 7,
    "start_time": "2024-07-16T14:32:44.096Z"
   },
   {
    "duration": 64,
    "start_time": "2024-07-16T14:32:44.519Z"
   },
   {
    "duration": 42,
    "start_time": "2024-07-16T14:32:44.725Z"
   },
   {
    "duration": 24,
    "start_time": "2024-07-16T14:32:44.939Z"
   },
   {
    "duration": 47,
    "start_time": "2024-07-16T14:32:45.180Z"
   },
   {
    "duration": 9,
    "start_time": "2024-07-16T14:32:45.539Z"
   },
   {
    "duration": 37,
    "start_time": "2024-07-16T14:32:45.993Z"
   },
   {
    "duration": 91,
    "start_time": "2024-07-16T14:32:46.480Z"
   },
   {
    "duration": 80,
    "start_time": "2024-07-16T14:32:47.459Z"
   },
   {
    "duration": 23,
    "start_time": "2024-07-16T14:35:32.697Z"
   },
   {
    "duration": 4,
    "start_time": "2024-07-16T14:35:38.673Z"
   },
   {
    "duration": 32,
    "start_time": "2024-07-16T14:35:39.141Z"
   },
   {
    "duration": 6,
    "start_time": "2024-07-16T14:35:39.357Z"
   },
   {
    "duration": 37,
    "start_time": "2024-07-16T14:35:39.867Z"
   },
   {
    "duration": 32,
    "start_time": "2024-07-16T14:35:40.129Z"
   },
   {
    "duration": 10,
    "start_time": "2024-07-16T14:35:40.401Z"
   },
   {
    "duration": 32,
    "start_time": "2024-07-16T14:35:40.699Z"
   },
   {
    "duration": 7,
    "start_time": "2024-07-16T14:35:41.161Z"
   },
   {
    "duration": 34,
    "start_time": "2024-07-16T14:35:41.644Z"
   },
   {
    "duration": 10,
    "start_time": "2024-07-16T14:35:42.176Z"
   },
   {
    "duration": 80,
    "start_time": "2024-07-16T14:35:58.813Z"
   },
   {
    "duration": 64,
    "start_time": "2024-07-16T14:36:00.005Z"
   },
   {
    "duration": 5,
    "start_time": "2024-07-16T14:39:33.524Z"
   },
   {
    "duration": 31,
    "start_time": "2024-07-16T14:39:34.049Z"
   },
   {
    "duration": 6,
    "start_time": "2024-07-16T14:39:34.350Z"
   },
   {
    "duration": 43,
    "start_time": "2024-07-16T14:39:35.022Z"
   },
   {
    "duration": 28,
    "start_time": "2024-07-16T14:39:35.352Z"
   },
   {
    "duration": 8,
    "start_time": "2024-07-16T14:39:35.740Z"
   },
   {
    "duration": 26,
    "start_time": "2024-07-16T14:39:36.181Z"
   },
   {
    "duration": 11,
    "start_time": "2024-07-16T14:39:36.623Z"
   },
   {
    "duration": 8,
    "start_time": "2024-07-16T14:39:37.713Z"
   },
   {
    "duration": 8,
    "start_time": "2024-07-16T14:39:38.181Z"
   },
   {
    "duration": 38,
    "start_time": "2024-07-16T14:39:38.650Z"
   },
   {
    "duration": 11,
    "start_time": "2024-07-16T14:39:39.286Z"
   },
   {
    "duration": 82,
    "start_time": "2024-07-16T14:39:39.804Z"
   },
   {
    "duration": 74,
    "start_time": "2024-07-16T14:39:40.823Z"
   },
   {
    "duration": 72,
    "start_time": "2024-07-16T14:40:40.488Z"
   },
   {
    "duration": 319,
    "start_time": "2024-07-16T22:23:49.805Z"
   },
   {
    "duration": 1236,
    "start_time": "2024-07-16T22:23:54.708Z"
   },
   {
    "duration": 73,
    "start_time": "2024-07-16T22:23:55.947Z"
   },
   {
    "duration": 7,
    "start_time": "2024-07-16T22:23:56.024Z"
   },
   {
    "duration": 39,
    "start_time": "2024-07-16T22:23:56.036Z"
   },
   {
    "duration": 32,
    "start_time": "2024-07-16T22:23:56.079Z"
   },
   {
    "duration": 9,
    "start_time": "2024-07-16T22:23:56.200Z"
   },
   {
    "duration": 29,
    "start_time": "2024-07-16T22:23:56.425Z"
   },
   {
    "duration": 14,
    "start_time": "2024-07-16T22:23:56.637Z"
   },
   {
    "duration": 9,
    "start_time": "2024-07-16T22:23:57.039Z"
   },
   {
    "duration": 8,
    "start_time": "2024-07-16T22:23:57.265Z"
   },
   {
    "duration": 29,
    "start_time": "2024-07-16T22:23:57.488Z"
   },
   {
    "duration": 9,
    "start_time": "2024-07-16T22:23:57.681Z"
   },
   {
    "duration": 96,
    "start_time": "2024-07-16T22:23:57.904Z"
   },
   {
    "duration": 171,
    "start_time": "2024-07-16T22:23:58.670Z"
   },
   {
    "duration": 28,
    "start_time": "2024-07-16T22:26:36.399Z"
   },
   {
    "duration": 1180,
    "start_time": "2024-07-16T22:26:44.947Z"
   },
   {
    "duration": 42,
    "start_time": "2024-07-16T22:26:46.130Z"
   },
   {
    "duration": 7,
    "start_time": "2024-07-16T22:26:46.175Z"
   },
   {
    "duration": 40,
    "start_time": "2024-07-16T22:26:46.185Z"
   },
   {
    "duration": 62,
    "start_time": "2024-07-16T22:26:46.231Z"
   },
   {
    "duration": 8,
    "start_time": "2024-07-16T22:26:46.296Z"
   },
   {
    "duration": 28,
    "start_time": "2024-07-16T22:26:46.308Z"
   },
   {
    "duration": 43,
    "start_time": "2024-07-16T22:26:46.338Z"
   },
   {
    "duration": 13,
    "start_time": "2024-07-16T22:26:46.383Z"
   },
   {
    "duration": 8,
    "start_time": "2024-07-16T22:26:46.398Z"
   },
   {
    "duration": 8,
    "start_time": "2024-07-16T22:26:46.409Z"
   },
   {
    "duration": 78,
    "start_time": "2024-07-16T22:26:46.420Z"
   },
   {
    "duration": 11,
    "start_time": "2024-07-16T22:26:46.500Z"
   },
   {
    "duration": 104,
    "start_time": "2024-07-16T22:26:46.516Z"
   },
   {
    "duration": 263,
    "start_time": "2024-07-16T22:26:46.623Z"
   },
   {
    "duration": 252,
    "start_time": "2024-07-16T22:27:07.705Z"
   },
   {
    "duration": 1250,
    "start_time": "2024-07-16T22:27:15.956Z"
   },
   {
    "duration": 35,
    "start_time": "2024-07-16T22:27:17.209Z"
   },
   {
    "duration": 7,
    "start_time": "2024-07-16T22:27:17.248Z"
   },
   {
    "duration": 39,
    "start_time": "2024-07-16T22:27:17.270Z"
   },
   {
    "duration": 60,
    "start_time": "2024-07-16T22:27:17.314Z"
   },
   {
    "duration": 8,
    "start_time": "2024-07-16T22:27:17.377Z"
   },
   {
    "duration": 35,
    "start_time": "2024-07-16T22:27:17.389Z"
   },
   {
    "duration": 44,
    "start_time": "2024-07-16T22:27:17.428Z"
   },
   {
    "duration": 14,
    "start_time": "2024-07-16T22:27:17.475Z"
   },
   {
    "duration": 7,
    "start_time": "2024-07-16T22:27:17.492Z"
   },
   {
    "duration": 8,
    "start_time": "2024-07-16T22:27:17.502Z"
   },
   {
    "duration": 78,
    "start_time": "2024-07-16T22:27:17.513Z"
   },
   {
    "duration": 9,
    "start_time": "2024-07-16T22:27:17.593Z"
   },
   {
    "duration": 94,
    "start_time": "2024-07-16T22:27:17.607Z"
   },
   {
    "duration": 270,
    "start_time": "2024-07-16T22:27:17.704Z"
   },
   {
    "duration": 239,
    "start_time": "2024-07-16T22:28:05.776Z"
   },
   {
    "duration": 1226,
    "start_time": "2024-07-16T22:28:11.662Z"
   },
   {
    "duration": 39,
    "start_time": "2024-07-16T22:28:12.893Z"
   },
   {
    "duration": 7,
    "start_time": "2024-07-16T22:28:12.935Z"
   },
   {
    "duration": 41,
    "start_time": "2024-07-16T22:28:12.968Z"
   },
   {
    "duration": 30,
    "start_time": "2024-07-16T22:28:13.013Z"
   },
   {
    "duration": 9,
    "start_time": "2024-07-16T22:28:13.069Z"
   },
   {
    "duration": 29,
    "start_time": "2024-07-16T22:28:13.081Z"
   },
   {
    "duration": 14,
    "start_time": "2024-07-16T22:28:13.113Z"
   },
   {
    "duration": 15,
    "start_time": "2024-07-16T22:28:13.167Z"
   },
   {
    "duration": 8,
    "start_time": "2024-07-16T22:28:13.187Z"
   },
   {
    "duration": 7,
    "start_time": "2024-07-16T22:28:13.199Z"
   },
   {
    "duration": 68,
    "start_time": "2024-07-16T22:28:13.210Z"
   },
   {
    "duration": 10,
    "start_time": "2024-07-16T22:28:13.281Z"
   },
   {
    "duration": 99,
    "start_time": "2024-07-16T22:28:13.294Z"
   },
   {
    "duration": 250,
    "start_time": "2024-07-16T22:28:13.398Z"
   },
   {
    "duration": 239,
    "start_time": "2024-07-16T22:31:04.461Z"
   },
   {
    "duration": 27,
    "start_time": "2024-07-16T22:31:05.120Z"
   },
   {
    "duration": 1254,
    "start_time": "2024-07-16T22:31:11.568Z"
   },
   {
    "duration": 51,
    "start_time": "2024-07-16T22:31:12.826Z"
   },
   {
    "duration": 8,
    "start_time": "2024-07-16T22:31:12.880Z"
   },
   {
    "duration": 41,
    "start_time": "2024-07-16T22:31:12.892Z"
   },
   {
    "duration": 62,
    "start_time": "2024-07-16T22:31:12.939Z"
   },
   {
    "duration": 10,
    "start_time": "2024-07-16T22:31:13.005Z"
   },
   {
    "duration": 68,
    "start_time": "2024-07-16T22:31:13.019Z"
   },
   {
    "duration": 17,
    "start_time": "2024-07-16T22:31:13.092Z"
   },
   {
    "duration": 18,
    "start_time": "2024-07-16T22:31:13.113Z"
   },
   {
    "duration": 45,
    "start_time": "2024-07-16T22:31:13.135Z"
   },
   {
    "duration": 6,
    "start_time": "2024-07-16T22:31:13.187Z"
   },
   {
    "duration": 8,
    "start_time": "2024-07-16T22:31:13.197Z"
   },
   {
    "duration": 72,
    "start_time": "2024-07-16T22:31:13.209Z"
   },
   {
    "duration": 12,
    "start_time": "2024-07-16T22:31:13.287Z"
   },
   {
    "duration": 99,
    "start_time": "2024-07-16T22:31:13.302Z"
   },
   {
    "duration": 82,
    "start_time": "2024-07-16T22:31:13.404Z"
   },
   {
    "duration": 10,
    "start_time": "2024-07-16T22:33:56.604Z"
   },
   {
    "duration": 412,
    "start_time": "2024-07-16T22:34:14.146Z"
   },
   {
    "duration": 4558,
    "start_time": "2024-07-16T22:34:31.092Z"
   },
   {
    "duration": 60,
    "start_time": "2024-07-16T22:34:35.655Z"
   },
   {
    "duration": 10,
    "start_time": "2024-07-16T22:34:35.725Z"
   },
   {
    "duration": 130,
    "start_time": "2024-07-16T22:34:35.740Z"
   },
   {
    "duration": 43,
    "start_time": "2024-07-16T22:34:35.874Z"
   },
   {
    "duration": 10,
    "start_time": "2024-07-16T22:34:35.920Z"
   },
   {
    "duration": 61,
    "start_time": "2024-07-16T22:34:35.933Z"
   },
   {
    "duration": 16,
    "start_time": "2024-07-16T22:34:35.998Z"
   },
   {
    "duration": 15,
    "start_time": "2024-07-16T22:34:36.017Z"
   },
   {
    "duration": 16,
    "start_time": "2024-07-16T22:34:36.070Z"
   },
   {
    "duration": 8,
    "start_time": "2024-07-16T22:34:36.089Z"
   },
   {
    "duration": 11,
    "start_time": "2024-07-16T22:34:36.101Z"
   },
   {
    "duration": 77,
    "start_time": "2024-07-16T22:34:36.115Z"
   },
   {
    "duration": 10,
    "start_time": "2024-07-16T22:34:36.196Z"
   },
   {
    "duration": 116,
    "start_time": "2024-07-16T22:34:36.210Z"
   },
   {
    "duration": 141,
    "start_time": "2024-07-16T22:34:36.329Z"
   },
   {
    "duration": 125,
    "start_time": "2024-07-16T22:34:36.479Z"
   },
   {
    "duration": 1532,
    "start_time": "2024-07-16T22:34:48.006Z"
   },
   {
    "duration": 43,
    "start_time": "2024-07-16T22:34:49.542Z"
   },
   {
    "duration": 7,
    "start_time": "2024-07-16T22:34:49.587Z"
   },
   {
    "duration": 69,
    "start_time": "2024-07-16T22:34:49.599Z"
   },
   {
    "duration": 35,
    "start_time": "2024-07-16T22:34:49.671Z"
   },
   {
    "duration": 9,
    "start_time": "2024-07-16T22:34:49.709Z"
   },
   {
    "duration": 67,
    "start_time": "2024-07-16T22:34:49.721Z"
   },
   {
    "duration": 17,
    "start_time": "2024-07-16T22:34:49.792Z"
   },
   {
    "duration": 15,
    "start_time": "2024-07-16T22:34:49.814Z"
   },
   {
    "duration": 45,
    "start_time": "2024-07-16T22:34:49.835Z"
   },
   {
    "duration": 7,
    "start_time": "2024-07-16T22:34:49.884Z"
   },
   {
    "duration": 7,
    "start_time": "2024-07-16T22:34:49.895Z"
   },
   {
    "duration": 72,
    "start_time": "2024-07-16T22:34:49.905Z"
   },
   {
    "duration": 11,
    "start_time": "2024-07-16T22:34:49.980Z"
   },
   {
    "duration": 107,
    "start_time": "2024-07-16T22:34:49.995Z"
   },
   {
    "duration": 165,
    "start_time": "2024-07-16T22:34:50.105Z"
   },
   {
    "duration": 495,
    "start_time": "2024-07-16T22:34:50.273Z"
   },
   {
    "duration": 33,
    "start_time": "2024-07-16T22:35:04.075Z"
   },
   {
    "duration": 22,
    "start_time": "2024-07-16T22:35:24.954Z"
   },
   {
    "duration": 138,
    "start_time": "2024-07-16T22:35:25.937Z"
   },
   {
    "duration": 32,
    "start_time": "2024-07-16T22:35:26.977Z"
   },
   {
    "duration": 1556,
    "start_time": "2024-07-16T22:35:33.227Z"
   },
   {
    "duration": 36,
    "start_time": "2024-07-16T22:35:34.786Z"
   },
   {
    "duration": 8,
    "start_time": "2024-07-16T22:35:34.826Z"
   },
   {
    "duration": 69,
    "start_time": "2024-07-16T22:35:34.839Z"
   },
   {
    "duration": 32,
    "start_time": "2024-07-16T22:35:34.912Z"
   },
   {
    "duration": 10,
    "start_time": "2024-07-16T22:35:34.970Z"
   },
   {
    "duration": 40,
    "start_time": "2024-07-16T22:35:34.984Z"
   },
   {
    "duration": 50,
    "start_time": "2024-07-16T22:35:35.027Z"
   },
   {
    "duration": 19,
    "start_time": "2024-07-16T22:35:35.081Z"
   },
   {
    "duration": 15,
    "start_time": "2024-07-16T22:35:35.107Z"
   },
   {
    "duration": 15,
    "start_time": "2024-07-16T22:35:35.129Z"
   },
   {
    "duration": 15,
    "start_time": "2024-07-16T22:35:35.170Z"
   },
   {
    "duration": 33,
    "start_time": "2024-07-16T22:35:35.190Z"
   },
   {
    "duration": 12,
    "start_time": "2024-07-16T22:35:35.226Z"
   },
   {
    "duration": 23,
    "start_time": "2024-07-16T22:35:35.270Z"
   },
   {
    "duration": 181,
    "start_time": "2024-07-16T22:35:35.297Z"
   },
   {
    "duration": 522,
    "start_time": "2024-07-16T22:35:35.480Z"
   },
   {
    "duration": 140,
    "start_time": "2024-07-16T22:36:48.256Z"
   },
   {
    "duration": 48,
    "start_time": "2024-07-16T22:37:22.283Z"
   },
   {
    "duration": 35,
    "start_time": "2024-07-16T22:37:22.679Z"
   },
   {
    "duration": 5,
    "start_time": "2024-07-16T22:37:22.884Z"
   },
   {
    "duration": 46,
    "start_time": "2024-07-16T22:37:23.264Z"
   },
   {
    "duration": 30,
    "start_time": "2024-07-16T22:37:23.451Z"
   },
   {
    "duration": 10,
    "start_time": "2024-07-16T22:37:23.652Z"
   },
   {
    "duration": 32,
    "start_time": "2024-07-16T22:37:23.858Z"
   },
   {
    "duration": 17,
    "start_time": "2024-07-16T22:37:24.049Z"
   },
   {
    "duration": 14,
    "start_time": "2024-07-16T22:37:24.251Z"
   },
   {
    "duration": 15,
    "start_time": "2024-07-16T22:37:24.474Z"
   },
   {
    "duration": 8,
    "start_time": "2024-07-16T22:37:24.636Z"
   },
   {
    "duration": 10,
    "start_time": "2024-07-16T22:37:24.820Z"
   },
   {
    "duration": 43,
    "start_time": "2024-07-16T22:37:25.012Z"
   },
   {
    "duration": 10,
    "start_time": "2024-07-16T22:37:25.206Z"
   },
   {
    "duration": 20,
    "start_time": "2024-07-16T22:37:25.409Z"
   },
   {
    "duration": 202,
    "start_time": "2024-07-16T22:37:25.768Z"
   },
   {
    "duration": 360,
    "start_time": "2024-07-16T22:37:26.558Z"
   },
   {
    "duration": 123,
    "start_time": "2024-07-16T22:37:27.038Z"
   },
   {
    "duration": 6104,
    "start_time": "2024-07-16T22:37:39.924Z"
   },
   {
    "duration": 6130,
    "start_time": "2024-07-16T22:37:46.113Z"
   },
   {
    "duration": 5829,
    "start_time": "2024-07-16T22:38:03.255Z"
   },
   {
    "duration": 444,
    "start_time": "2024-07-16T22:40:42.578Z"
   },
   {
    "duration": 1765,
    "start_time": "2024-07-16T22:40:51.025Z"
   },
   {
    "duration": 44,
    "start_time": "2024-07-16T22:40:52.793Z"
   },
   {
    "duration": 7,
    "start_time": "2024-07-16T22:40:52.839Z"
   },
   {
    "duration": 57,
    "start_time": "2024-07-16T22:40:52.867Z"
   },
   {
    "duration": 48,
    "start_time": "2024-07-16T22:40:52.928Z"
   },
   {
    "duration": 10,
    "start_time": "2024-07-16T22:40:52.983Z"
   },
   {
    "duration": 40,
    "start_time": "2024-07-16T22:40:52.996Z"
   },
   {
    "duration": 37,
    "start_time": "2024-07-16T22:40:53.040Z"
   },
   {
    "duration": 20,
    "start_time": "2024-07-16T22:40:53.081Z"
   },
   {
    "duration": 16,
    "start_time": "2024-07-16T22:40:53.106Z"
   },
   {
    "duration": 9,
    "start_time": "2024-07-16T22:40:53.125Z"
   },
   {
    "duration": 10,
    "start_time": "2024-07-16T22:40:53.168Z"
   },
   {
    "duration": 40,
    "start_time": "2024-07-16T22:40:53.182Z"
   },
   {
    "duration": 11,
    "start_time": "2024-07-16T22:40:53.227Z"
   },
   {
    "duration": 24,
    "start_time": "2024-07-16T22:40:53.268Z"
   },
   {
    "duration": 296,
    "start_time": "2024-07-16T22:40:53.295Z"
   },
   {
    "duration": 564,
    "start_time": "2024-07-16T22:40:53.602Z"
   },
   {
    "duration": 145,
    "start_time": "2024-07-16T22:40:54.169Z"
   },
   {
    "duration": 7151,
    "start_time": "2024-07-16T22:40:54.318Z"
   },
   {
    "duration": 8800,
    "start_time": "2024-07-16T22:41:01.472Z"
   },
   {
    "duration": 1601,
    "start_time": "2024-07-16T22:41:10.276Z"
   },
   {
    "duration": 474,
    "start_time": "2024-07-16T22:43:18.903Z"
   },
   {
    "duration": 2176,
    "start_time": "2024-07-16T22:43:27.415Z"
   },
   {
    "duration": 52,
    "start_time": "2024-07-16T22:43:29.601Z"
   },
   {
    "duration": 15,
    "start_time": "2024-07-16T22:43:29.658Z"
   },
   {
    "duration": 79,
    "start_time": "2024-07-16T22:43:29.683Z"
   },
   {
    "duration": 50,
    "start_time": "2024-07-16T22:43:29.776Z"
   },
   {
    "duration": 21,
    "start_time": "2024-07-16T22:43:29.833Z"
   },
   {
    "duration": 55,
    "start_time": "2024-07-16T22:43:29.867Z"
   },
   {
    "duration": 27,
    "start_time": "2024-07-16T22:43:29.933Z"
   },
   {
    "duration": 29,
    "start_time": "2024-07-16T22:43:29.975Z"
   },
   {
    "duration": 19,
    "start_time": "2024-07-16T22:43:30.015Z"
   },
   {
    "duration": 9,
    "start_time": "2024-07-16T22:43:30.038Z"
   },
   {
    "duration": 10,
    "start_time": "2024-07-16T22:43:30.051Z"
   },
   {
    "duration": 42,
    "start_time": "2024-07-16T22:43:30.065Z"
   },
   {
    "duration": 25,
    "start_time": "2024-07-16T22:43:30.114Z"
   },
   {
    "duration": 51,
    "start_time": "2024-07-16T22:43:30.143Z"
   },
   {
    "duration": 142,
    "start_time": "2024-07-16T22:43:30.204Z"
   },
   {
    "duration": 479,
    "start_time": "2024-07-16T22:43:30.369Z"
   },
   {
    "duration": 135,
    "start_time": "2024-07-16T22:43:30.857Z"
   },
   {
    "duration": 7380,
    "start_time": "2024-07-16T22:43:30.996Z"
   },
   {
    "duration": 15745,
    "start_time": "2024-07-16T22:43:38.380Z"
   },
   {
    "duration": 1809,
    "start_time": "2024-07-16T22:43:54.129Z"
   },
   {
    "duration": 18558,
    "start_time": "2024-07-16T22:43:55.941Z"
   },
   {
    "duration": 1885,
    "start_time": "2024-07-16T22:44:21.563Z"
   },
   {
    "duration": 49,
    "start_time": "2024-07-16T22:44:23.451Z"
   },
   {
    "duration": 8,
    "start_time": "2024-07-16T22:44:23.503Z"
   },
   {
    "duration": 58,
    "start_time": "2024-07-16T22:44:23.516Z"
   },
   {
    "duration": 32,
    "start_time": "2024-07-16T22:44:23.576Z"
   },
   {
    "duration": 9,
    "start_time": "2024-07-16T22:44:23.611Z"
   },
   {
    "duration": 68,
    "start_time": "2024-07-16T22:44:23.623Z"
   },
   {
    "duration": 17,
    "start_time": "2024-07-16T22:44:23.695Z"
   },
   {
    "duration": 18,
    "start_time": "2024-07-16T22:44:23.717Z"
   },
   {
    "duration": 16,
    "start_time": "2024-07-16T22:44:23.769Z"
   },
   {
    "duration": 10,
    "start_time": "2024-07-16T22:44:23.788Z"
   },
   {
    "duration": 9,
    "start_time": "2024-07-16T22:44:23.802Z"
   },
   {
    "duration": 69,
    "start_time": "2024-07-16T22:44:23.817Z"
   },
   {
    "duration": 14,
    "start_time": "2024-07-16T22:44:23.889Z"
   },
   {
    "duration": 24,
    "start_time": "2024-07-16T22:44:23.907Z"
   },
   {
    "duration": 240,
    "start_time": "2024-07-16T22:44:23.935Z"
   },
   {
    "duration": 374,
    "start_time": "2024-07-16T22:44:24.179Z"
   },
   {
    "duration": 117,
    "start_time": "2024-07-16T22:44:24.557Z"
   },
   {
    "duration": 6246,
    "start_time": "2024-07-16T22:44:24.677Z"
   },
   {
    "duration": 9663,
    "start_time": "2024-07-16T22:44:30.926Z"
   },
   {
    "duration": 1657,
    "start_time": "2024-07-16T22:44:40.593Z"
   },
   {
    "duration": 10449,
    "start_time": "2024-07-16T22:44:42.253Z"
   },
   {
    "duration": 368,
    "start_time": "2024-07-16T22:44:52.707Z"
   },
   {
    "duration": 1869,
    "start_time": "2024-07-16T22:54:46.465Z"
   },
   {
    "duration": 41,
    "start_time": "2024-07-16T22:54:48.338Z"
   },
   {
    "duration": 7,
    "start_time": "2024-07-16T22:54:48.383Z"
   },
   {
    "duration": 42,
    "start_time": "2024-07-16T22:54:48.394Z"
   },
   {
    "duration": 38,
    "start_time": "2024-07-16T22:54:48.469Z"
   },
   {
    "duration": 11,
    "start_time": "2024-07-16T22:54:48.510Z"
   },
   {
    "duration": 63,
    "start_time": "2024-07-16T22:54:48.525Z"
   },
   {
    "duration": 15,
    "start_time": "2024-07-16T22:54:48.593Z"
   },
   {
    "duration": 15,
    "start_time": "2024-07-16T22:54:48.610Z"
   },
   {
    "duration": 54,
    "start_time": "2024-07-16T22:54:48.628Z"
   },
   {
    "duration": 9,
    "start_time": "2024-07-16T22:54:48.685Z"
   },
   {
    "duration": 13,
    "start_time": "2024-07-16T22:54:48.698Z"
   },
   {
    "duration": 65,
    "start_time": "2024-07-16T22:54:48.714Z"
   },
   {
    "duration": 11,
    "start_time": "2024-07-16T22:54:48.786Z"
   },
   {
    "duration": 24,
    "start_time": "2024-07-16T22:54:48.801Z"
   },
   {
    "duration": 155,
    "start_time": "2024-07-16T22:54:48.828Z"
   },
   {
    "duration": 396,
    "start_time": "2024-07-16T22:54:48.990Z"
   },
   {
    "duration": 143,
    "start_time": "2024-07-16T22:54:49.391Z"
   },
   {
    "duration": 6205,
    "start_time": "2024-07-16T22:54:49.537Z"
   },
   {
    "duration": 10541,
    "start_time": "2024-07-16T22:54:55.746Z"
   },
   {
    "duration": 1657,
    "start_time": "2024-07-16T22:55:06.291Z"
   },
   {
    "duration": 10456,
    "start_time": "2024-07-16T22:55:07.952Z"
   },
   {
    "duration": 407,
    "start_time": "2024-07-16T22:55:18.410Z"
   },
   {
    "duration": 15,
    "start_time": "2024-07-17T10:21:18.491Z"
   },
   {
    "duration": 421,
    "start_time": "2024-07-17T13:54:06.516Z"
   },
   {
    "duration": 7794,
    "start_time": "2024-07-17T13:54:14.488Z"
   },
   {
    "duration": 89,
    "start_time": "2024-07-17T13:54:22.288Z"
   },
   {
    "duration": 13,
    "start_time": "2024-07-17T13:54:22.384Z"
   },
   {
    "duration": 56,
    "start_time": "2024-07-17T13:54:22.401Z"
   },
   {
    "duration": 9,
    "start_time": "2024-07-17T13:54:22.464Z"
   },
   {
    "duration": 12,
    "start_time": "2024-07-17T13:54:36.256Z"
   },
   {
    "duration": 43,
    "start_time": "2024-07-17T13:54:54.002Z"
   },
   {
    "duration": 17,
    "start_time": "2024-07-17T13:55:07.640Z"
   },
   {
    "duration": 36,
    "start_time": "2024-07-17T13:55:24.168Z"
   },
   {
    "duration": 21,
    "start_time": "2024-07-17T13:55:34.543Z"
   },
   {
    "duration": 24,
    "start_time": "2024-07-17T13:55:36.037Z"
   },
   {
    "duration": 14,
    "start_time": "2024-07-17T13:55:45.349Z"
   },
   {
    "duration": 8,
    "start_time": "2024-07-17T13:56:06.156Z"
   },
   {
    "duration": 43,
    "start_time": "2024-07-17T13:56:24.155Z"
   },
   {
    "duration": 16,
    "start_time": "2024-07-17T13:56:28.363Z"
   },
   {
    "duration": 23,
    "start_time": "2024-07-17T13:56:36.649Z"
   },
   {
    "duration": 89,
    "start_time": "2024-07-17T13:56:43.448Z"
   },
   {
    "duration": 312,
    "start_time": "2024-07-17T13:56:46.270Z"
   },
   {
    "duration": 106,
    "start_time": "2024-07-17T13:56:47.592Z"
   },
   {
    "duration": 6004,
    "start_time": "2024-07-17T13:56:49.919Z"
   },
   {
    "duration": 15310,
    "start_time": "2024-07-17T13:56:55.932Z"
   },
   {
    "duration": 1653,
    "start_time": "2024-07-17T13:57:11.245Z"
   },
   {
    "duration": 10460,
    "start_time": "2024-07-17T13:57:12.902Z"
   },
   {
    "duration": 438,
    "start_time": "2024-07-17T13:57:23.365Z"
   },
   {
    "duration": 14,
    "start_time": "2024-07-17T16:07:01.328Z"
   },
   {
    "duration": 5418,
    "start_time": "2024-07-17T18:43:14.995Z"
   },
   {
    "duration": 86,
    "start_time": "2024-07-17T18:43:20.417Z"
   },
   {
    "duration": 7,
    "start_time": "2024-07-17T18:43:20.505Z"
   },
   {
    "duration": 37,
    "start_time": "2024-07-17T18:43:20.518Z"
   },
   {
    "duration": 6,
    "start_time": "2024-07-17T18:43:20.558Z"
   },
   {
    "duration": 9,
    "start_time": "2024-07-17T18:43:20.567Z"
   },
   {
    "duration": 57,
    "start_time": "2024-07-17T18:43:20.579Z"
   },
   {
    "duration": 17,
    "start_time": "2024-07-17T18:43:20.788Z"
   },
   {
    "duration": 14,
    "start_time": "2024-07-17T18:43:20.931Z"
   },
   {
    "duration": 12,
    "start_time": "2024-07-17T18:43:21.089Z"
   },
   {
    "duration": 7,
    "start_time": "2024-07-17T18:43:21.261Z"
   },
   {
    "duration": 6,
    "start_time": "2024-07-17T18:43:21.465Z"
   },
   {
    "duration": 27,
    "start_time": "2024-07-17T18:43:21.782Z"
   },
   {
    "duration": 9,
    "start_time": "2024-07-17T18:43:22.623Z"
   },
   {
    "duration": 19,
    "start_time": "2024-07-17T18:43:23.185Z"
   },
   {
    "duration": 308,
    "start_time": "2024-07-17T19:01:37.275Z"
   },
   {
    "duration": 5376,
    "start_time": "2024-07-17T19:02:13.520Z"
   },
   {
    "duration": 76,
    "start_time": "2024-07-17T19:02:18.900Z"
   },
   {
    "duration": 7,
    "start_time": "2024-07-17T19:02:18.979Z"
   },
   {
    "duration": 37,
    "start_time": "2024-07-17T19:02:18.991Z"
   },
   {
    "duration": 7,
    "start_time": "2024-07-17T19:02:19.032Z"
   },
   {
    "duration": 8,
    "start_time": "2024-07-17T19:02:19.042Z"
   },
   {
    "duration": 6,
    "start_time": "2024-07-17T19:02:19.053Z"
   },
   {
    "duration": 14,
    "start_time": "2024-07-17T19:02:19.061Z"
   },
   {
    "duration": 58,
    "start_time": "2024-07-17T19:02:19.078Z"
   },
   {
    "duration": 16,
    "start_time": "2024-07-17T19:02:19.141Z"
   },
   {
    "duration": 7,
    "start_time": "2024-07-17T19:02:19.160Z"
   },
   {
    "duration": 9,
    "start_time": "2024-07-17T19:02:19.169Z"
   },
   {
    "duration": 55,
    "start_time": "2024-07-17T19:02:19.180Z"
   },
   {
    "duration": 11,
    "start_time": "2024-07-17T19:02:19.238Z"
   },
   {
    "duration": 22,
    "start_time": "2024-07-17T19:02:19.253Z"
   },
   {
    "duration": 229,
    "start_time": "2024-07-17T19:02:19.280Z"
   },
   {
    "duration": 297,
    "start_time": "2024-07-17T19:02:19.718Z"
   },
   {
    "duration": 74,
    "start_time": "2024-07-17T19:02:20.018Z"
   },
   {
    "duration": 61,
    "start_time": "2024-07-17T19:02:20.413Z"
   },
   {
    "duration": 738,
    "start_time": "2024-07-17T19:02:20.597Z"
   },
   {
    "duration": 0,
    "start_time": "2024-07-17T19:02:21.339Z"
   },
   {
    "duration": 686,
    "start_time": "2024-07-17T19:02:22.018Z"
   },
   {
    "duration": 1675,
    "start_time": "2024-07-17T19:03:14.661Z"
   },
   {
    "duration": 33,
    "start_time": "2024-07-17T19:03:16.339Z"
   },
   {
    "duration": 7,
    "start_time": "2024-07-17T19:03:16.374Z"
   },
   {
    "duration": 70,
    "start_time": "2024-07-17T19:03:16.385Z"
   },
   {
    "duration": 7,
    "start_time": "2024-07-17T19:03:16.460Z"
   },
   {
    "duration": 9,
    "start_time": "2024-07-17T19:03:16.470Z"
   },
   {
    "duration": 7,
    "start_time": "2024-07-17T19:03:16.482Z"
   },
   {
    "duration": 15,
    "start_time": "2024-07-17T19:03:16.533Z"
   },
   {
    "duration": 16,
    "start_time": "2024-07-17T19:03:16.551Z"
   },
   {
    "duration": 17,
    "start_time": "2024-07-17T19:03:16.569Z"
   },
   {
    "duration": 46,
    "start_time": "2024-07-17T19:03:16.589Z"
   },
   {
    "duration": 6,
    "start_time": "2024-07-17T19:03:16.638Z"
   },
   {
    "duration": 15,
    "start_time": "2024-07-17T19:03:16.647Z"
   },
   {
    "duration": 11,
    "start_time": "2024-07-17T19:03:16.668Z"
   },
   {
    "duration": 70,
    "start_time": "2024-07-17T19:03:16.683Z"
   },
   {
    "duration": 315,
    "start_time": "2024-07-17T19:03:16.757Z"
   },
   {
    "duration": 0,
    "start_time": "2024-07-17T19:03:17.076Z"
   },
   {
    "duration": 0,
    "start_time": "2024-07-17T19:03:17.078Z"
   },
   {
    "duration": 0,
    "start_time": "2024-07-17T19:03:17.081Z"
   },
   {
    "duration": 0,
    "start_time": "2024-07-17T19:03:17.084Z"
   },
   {
    "duration": 0,
    "start_time": "2024-07-17T19:03:17.086Z"
   },
   {
    "duration": 0,
    "start_time": "2024-07-17T19:03:17.090Z"
   },
   {
    "duration": 0,
    "start_time": "2024-07-17T19:03:17.092Z"
   },
   {
    "duration": 1649,
    "start_time": "2024-07-17T19:05:09.378Z"
   },
   {
    "duration": 32,
    "start_time": "2024-07-17T19:05:11.032Z"
   },
   {
    "duration": 6,
    "start_time": "2024-07-17T19:05:11.067Z"
   },
   {
    "duration": 61,
    "start_time": "2024-07-17T19:05:11.077Z"
   },
   {
    "duration": 7,
    "start_time": "2024-07-17T19:05:11.143Z"
   },
   {
    "duration": 10,
    "start_time": "2024-07-17T19:05:11.153Z"
   },
   {
    "duration": 6,
    "start_time": "2024-07-17T19:05:11.166Z"
   },
   {
    "duration": 58,
    "start_time": "2024-07-17T19:05:11.175Z"
   },
   {
    "duration": 14,
    "start_time": "2024-07-17T19:05:11.236Z"
   },
   {
    "duration": 13,
    "start_time": "2024-07-17T19:05:11.254Z"
   },
   {
    "duration": 8,
    "start_time": "2024-07-17T19:05:11.269Z"
   },
   {
    "duration": 6,
    "start_time": "2024-07-17T19:05:11.280Z"
   },
   {
    "duration": 56,
    "start_time": "2024-07-17T19:05:11.290Z"
   },
   {
    "duration": 12,
    "start_time": "2024-07-17T19:05:11.353Z"
   },
   {
    "duration": 21,
    "start_time": "2024-07-17T19:05:11.369Z"
   },
   {
    "duration": 310,
    "start_time": "2024-07-17T19:05:11.396Z"
   },
   {
    "duration": 0,
    "start_time": "2024-07-17T19:05:11.709Z"
   },
   {
    "duration": 0,
    "start_time": "2024-07-17T19:05:11.711Z"
   },
   {
    "duration": 0,
    "start_time": "2024-07-17T19:05:11.713Z"
   },
   {
    "duration": 0,
    "start_time": "2024-07-17T19:05:11.715Z"
   },
   {
    "duration": 0,
    "start_time": "2024-07-17T19:05:11.733Z"
   },
   {
    "duration": 0,
    "start_time": "2024-07-17T19:05:11.735Z"
   },
   {
    "duration": 0,
    "start_time": "2024-07-17T19:05:11.737Z"
   },
   {
    "duration": 5,
    "start_time": "2024-07-17T19:06:16.983Z"
   },
   {
    "duration": 9,
    "start_time": "2024-07-17T19:06:24.418Z"
   },
   {
    "duration": 31,
    "start_time": "2024-07-17T19:06:24.995Z"
   },
   {
    "duration": 887,
    "start_time": "2024-07-17T19:06:25.294Z"
   },
   {
    "duration": 6,
    "start_time": "2024-07-17T19:06:37.042Z"
   },
   {
    "duration": 31,
    "start_time": "2024-07-17T19:06:37.974Z"
   },
   {
    "duration": 85,
    "start_time": "2024-07-17T19:06:38.786Z"
   },
   {
    "duration": 93,
    "start_time": "2024-07-17T19:06:46.220Z"
   },
   {
    "duration": 6,
    "start_time": "2024-07-17T19:06:46.926Z"
   },
   {
    "duration": 1645,
    "start_time": "2024-07-17T19:06:54.468Z"
   },
   {
    "duration": 37,
    "start_time": "2024-07-17T19:06:56.117Z"
   },
   {
    "duration": 6,
    "start_time": "2024-07-17T19:06:56.157Z"
   },
   {
    "duration": 74,
    "start_time": "2024-07-17T19:06:56.166Z"
   },
   {
    "duration": 11,
    "start_time": "2024-07-17T19:06:56.245Z"
   },
   {
    "duration": 9,
    "start_time": "2024-07-17T19:06:56.260Z"
   },
   {
    "duration": 7,
    "start_time": "2024-07-17T19:06:56.272Z"
   },
   {
    "duration": 51,
    "start_time": "2024-07-17T19:06:56.282Z"
   },
   {
    "duration": 14,
    "start_time": "2024-07-17T19:06:56.336Z"
   },
   {
    "duration": 15,
    "start_time": "2024-07-17T19:06:56.353Z"
   },
   {
    "duration": 8,
    "start_time": "2024-07-17T19:06:56.370Z"
   },
   {
    "duration": 51,
    "start_time": "2024-07-17T19:06:56.381Z"
   },
   {
    "duration": 13,
    "start_time": "2024-07-17T19:06:56.435Z"
   },
   {
    "duration": 11,
    "start_time": "2024-07-17T19:06:56.453Z"
   },
   {
    "duration": 20,
    "start_time": "2024-07-17T19:06:56.466Z"
   },
   {
    "duration": 301,
    "start_time": "2024-07-17T19:06:56.489Z"
   },
   {
    "duration": 0,
    "start_time": "2024-07-17T19:06:56.792Z"
   },
   {
    "duration": 0,
    "start_time": "2024-07-17T19:06:56.795Z"
   },
   {
    "duration": 0,
    "start_time": "2024-07-17T19:06:56.798Z"
   },
   {
    "duration": 0,
    "start_time": "2024-07-17T19:06:56.800Z"
   },
   {
    "duration": 0,
    "start_time": "2024-07-17T19:06:56.802Z"
   },
   {
    "duration": 0,
    "start_time": "2024-07-17T19:06:56.804Z"
   },
   {
    "duration": 0,
    "start_time": "2024-07-17T19:06:56.806Z"
   },
   {
    "duration": 5,
    "start_time": "2024-07-17T19:10:34.213Z"
   },
   {
    "duration": 1633,
    "start_time": "2024-07-17T19:10:40.468Z"
   },
   {
    "duration": 16,
    "start_time": "2024-07-17T19:11:52.663Z"
   },
   {
    "duration": 12,
    "start_time": "2024-07-17T19:11:56.870Z"
   },
   {
    "duration": 7,
    "start_time": "2024-07-17T19:11:57.359Z"
   },
   {
    "duration": 6,
    "start_time": "2024-07-17T19:11:57.723Z"
   },
   {
    "duration": 13,
    "start_time": "2024-07-17T19:11:58.736Z"
   },
   {
    "duration": 8,
    "start_time": "2024-07-17T19:11:59.265Z"
   },
   {
    "duration": 18,
    "start_time": "2024-07-17T19:11:59.737Z"
   },
   {
    "duration": 63,
    "start_time": "2024-07-17T19:12:00.971Z"
   },
   {
    "duration": 5,
    "start_time": "2024-07-17T19:12:50.114Z"
   },
   {
    "duration": 7,
    "start_time": "2024-07-17T19:12:52.506Z"
   },
   {
    "duration": 1694,
    "start_time": "2024-07-17T19:13:02.659Z"
   },
   {
    "duration": 34,
    "start_time": "2024-07-17T19:13:04.357Z"
   },
   {
    "duration": 6,
    "start_time": "2024-07-17T19:13:04.394Z"
   },
   {
    "duration": 59,
    "start_time": "2024-07-17T19:13:04.404Z"
   },
   {
    "duration": 5,
    "start_time": "2024-07-17T19:13:04.469Z"
   },
   {
    "duration": 9,
    "start_time": "2024-07-17T19:13:04.478Z"
   },
   {
    "duration": 43,
    "start_time": "2024-07-17T19:13:04.489Z"
   },
   {
    "duration": 16,
    "start_time": "2024-07-17T19:13:04.535Z"
   },
   {
    "duration": 19,
    "start_time": "2024-07-17T19:13:04.554Z"
   },
   {
    "duration": 12,
    "start_time": "2024-07-17T19:13:04.576Z"
   },
   {
    "duration": 42,
    "start_time": "2024-07-17T19:13:04.591Z"
   },
   {
    "duration": 6,
    "start_time": "2024-07-17T19:13:04.636Z"
   },
   {
    "duration": 14,
    "start_time": "2024-07-17T19:13:04.645Z"
   },
   {
    "duration": 7,
    "start_time": "2024-07-17T19:13:04.664Z"
   },
   {
    "duration": 64,
    "start_time": "2024-07-17T19:13:04.674Z"
   },
   {
    "duration": 288,
    "start_time": "2024-07-17T19:13:04.742Z"
   },
   {
    "duration": 0,
    "start_time": "2024-07-17T19:13:05.033Z"
   },
   {
    "duration": 0,
    "start_time": "2024-07-17T19:13:05.035Z"
   },
   {
    "duration": 0,
    "start_time": "2024-07-17T19:13:05.037Z"
   },
   {
    "duration": 0,
    "start_time": "2024-07-17T19:13:05.039Z"
   },
   {
    "duration": 0,
    "start_time": "2024-07-17T19:13:05.041Z"
   },
   {
    "duration": 0,
    "start_time": "2024-07-17T19:13:05.042Z"
   },
   {
    "duration": 0,
    "start_time": "2024-07-17T19:13:05.044Z"
   },
   {
    "duration": 303,
    "start_time": "2024-07-17T19:13:16.890Z"
   },
   {
    "duration": 72,
    "start_time": "2024-07-17T19:13:17.917Z"
   },
   {
    "duration": 227,
    "start_time": "2024-07-17T19:15:09.624Z"
   },
   {
    "duration": 11,
    "start_time": "2024-07-17T19:15:10.334Z"
   },
   {
    "duration": 7,
    "start_time": "2024-07-17T19:15:10.888Z"
   },
   {
    "duration": 6,
    "start_time": "2024-07-17T19:15:11.251Z"
   },
   {
    "duration": 13,
    "start_time": "2024-07-17T19:15:12.105Z"
   },
   {
    "duration": 7,
    "start_time": "2024-07-17T19:15:12.644Z"
   },
   {
    "duration": 21,
    "start_time": "2024-07-17T19:15:13.036Z"
   },
   {
    "duration": 60,
    "start_time": "2024-07-17T19:15:14.394Z"
   },
   {
    "duration": 8,
    "start_time": "2024-07-17T19:16:03.975Z"
   },
   {
    "duration": 50,
    "start_time": "2024-07-17T19:18:28.898Z"
   },
   {
    "duration": 33,
    "start_time": "2024-07-17T19:19:33.697Z"
   },
   {
    "duration": 31,
    "start_time": "2024-07-17T19:19:57.432Z"
   },
   {
    "duration": 284,
    "start_time": "2024-07-17T19:19:58.219Z"
   },
   {
    "duration": 17,
    "start_time": "2024-07-17T19:19:58.654Z"
   },
   {
    "duration": 438,
    "start_time": "2024-07-17T19:19:59.694Z"
   },
   {
    "duration": 41,
    "start_time": "2024-07-17T19:20:00.547Z"
   },
   {
    "duration": 136,
    "start_time": "2024-07-17T19:20:01.749Z"
   },
   {
    "duration": 899,
    "start_time": "2024-07-17T19:20:02.946Z"
   },
   {
    "duration": 259,
    "start_time": "2024-07-17T19:20:04.678Z"
   },
   {
    "duration": 8,
    "start_time": "2024-07-17T19:21:03.391Z"
   },
   {
    "duration": 12,
    "start_time": "2024-07-17T19:21:03.477Z"
   },
   {
    "duration": 6,
    "start_time": "2024-07-17T19:21:09.672Z"
   },
   {
    "duration": 4,
    "start_time": "2024-07-17T19:21:10.053Z"
   },
   {
    "duration": 8,
    "start_time": "2024-07-17T19:21:10.902Z"
   },
   {
    "duration": 8,
    "start_time": "2024-07-17T19:21:11.387Z"
   },
   {
    "duration": 82,
    "start_time": "2024-07-17T19:21:13.250Z"
   },
   {
    "duration": 8,
    "start_time": "2024-07-18T12:27:37.177Z"
   },
   {
    "duration": 7,
    "start_time": "2024-07-18T12:27:43.876Z"
   },
   {
    "duration": 7,
    "start_time": "2024-07-18T12:28:39.624Z"
   },
   {
    "duration": 1461,
    "start_time": "2024-07-18T12:30:20.165Z"
   },
   {
    "duration": 1697,
    "start_time": "2024-07-18T12:30:33.356Z"
   },
   {
    "duration": 34,
    "start_time": "2024-07-18T12:30:35.056Z"
   },
   {
    "duration": 16,
    "start_time": "2024-07-18T12:30:35.093Z"
   },
   {
    "duration": 49,
    "start_time": "2024-07-18T12:30:35.113Z"
   },
   {
    "duration": 8,
    "start_time": "2024-07-18T12:30:35.165Z"
   },
   {
    "duration": 10,
    "start_time": "2024-07-18T12:30:35.208Z"
   },
   {
    "duration": 7,
    "start_time": "2024-07-18T12:30:35.221Z"
   },
   {
    "duration": 14,
    "start_time": "2024-07-18T12:30:35.231Z"
   },
   {
    "duration": 19,
    "start_time": "2024-07-18T12:30:35.248Z"
   },
   {
    "duration": 15,
    "start_time": "2024-07-18T12:30:35.312Z"
   },
   {
    "duration": 9,
    "start_time": "2024-07-18T12:30:35.332Z"
   },
   {
    "duration": 6,
    "start_time": "2024-07-18T12:30:35.344Z"
   },
   {
    "duration": 56,
    "start_time": "2024-07-18T12:30:35.354Z"
   },
   {
    "duration": 8,
    "start_time": "2024-07-18T12:30:35.416Z"
   },
   {
    "duration": 298,
    "start_time": "2024-07-18T12:30:35.427Z"
   },
   {
    "duration": 0,
    "start_time": "2024-07-18T12:30:35.730Z"
   },
   {
    "duration": 0,
    "start_time": "2024-07-18T12:30:35.732Z"
   },
   {
    "duration": 0,
    "start_time": "2024-07-18T12:30:35.734Z"
   },
   {
    "duration": 0,
    "start_time": "2024-07-18T12:30:35.736Z"
   },
   {
    "duration": 0,
    "start_time": "2024-07-18T12:30:35.739Z"
   },
   {
    "duration": 0,
    "start_time": "2024-07-18T12:30:35.741Z"
   },
   {
    "duration": 0,
    "start_time": "2024-07-18T12:30:35.744Z"
   },
   {
    "duration": 75,
    "start_time": "2024-07-18T12:33:41.364Z"
   },
   {
    "duration": 1005,
    "start_time": "2024-07-18T12:33:53.621Z"
   },
   {
    "duration": 453,
    "start_time": "2024-07-18T12:34:06.781Z"
   },
   {
    "duration": 10,
    "start_time": "2024-07-18T12:34:07.505Z"
   },
   {
    "duration": 7,
    "start_time": "2024-07-18T12:34:08.084Z"
   },
   {
    "duration": 4,
    "start_time": "2024-07-18T12:34:08.456Z"
   },
   {
    "duration": 9,
    "start_time": "2024-07-18T12:34:09.173Z"
   },
   {
    "duration": 6,
    "start_time": "2024-07-18T12:34:09.535Z"
   },
   {
    "duration": 81,
    "start_time": "2024-07-18T12:34:10.955Z"
   },
   {
    "duration": 81,
    "start_time": "2024-07-18T12:34:22.971Z"
   },
   {
    "duration": 1710,
    "start_time": "2024-07-18T12:34:35.244Z"
   },
   {
    "duration": 36,
    "start_time": "2024-07-18T12:34:36.958Z"
   },
   {
    "duration": 16,
    "start_time": "2024-07-18T12:34:36.997Z"
   },
   {
    "duration": 52,
    "start_time": "2024-07-18T12:34:37.018Z"
   },
   {
    "duration": 38,
    "start_time": "2024-07-18T12:34:37.073Z"
   },
   {
    "duration": 8,
    "start_time": "2024-07-18T12:34:37.114Z"
   },
   {
    "duration": 7,
    "start_time": "2024-07-18T12:34:37.126Z"
   },
   {
    "duration": 15,
    "start_time": "2024-07-18T12:34:37.136Z"
   },
   {
    "duration": 60,
    "start_time": "2024-07-18T12:34:37.154Z"
   },
   {
    "duration": 10,
    "start_time": "2024-07-18T12:34:37.219Z"
   },
   {
    "duration": 8,
    "start_time": "2024-07-18T12:34:37.233Z"
   },
   {
    "duration": 6,
    "start_time": "2024-07-18T12:34:37.244Z"
   },
   {
    "duration": 64,
    "start_time": "2024-07-18T12:34:37.253Z"
   },
   {
    "duration": 12,
    "start_time": "2024-07-18T12:34:37.321Z"
   },
   {
    "duration": 309,
    "start_time": "2024-07-18T12:34:37.336Z"
   },
   {
    "duration": 0,
    "start_time": "2024-07-18T12:34:37.647Z"
   },
   {
    "duration": 0,
    "start_time": "2024-07-18T12:34:37.650Z"
   },
   {
    "duration": 0,
    "start_time": "2024-07-18T12:34:37.653Z"
   },
   {
    "duration": 1,
    "start_time": "2024-07-18T12:34:37.654Z"
   },
   {
    "duration": 0,
    "start_time": "2024-07-18T12:34:37.658Z"
   },
   {
    "duration": 0,
    "start_time": "2024-07-18T12:34:37.660Z"
   },
   {
    "duration": 0,
    "start_time": "2024-07-18T12:34:37.663Z"
   },
   {
    "duration": 6,
    "start_time": "2024-07-18T12:35:55.937Z"
   },
   {
    "duration": 6,
    "start_time": "2024-07-18T12:35:56.841Z"
   },
   {
    "duration": 7,
    "start_time": "2024-07-18T12:35:57.297Z"
   },
   {
    "duration": 10,
    "start_time": "2024-07-18T12:35:57.844Z"
   },
   {
    "duration": 8,
    "start_time": "2024-07-18T12:35:58.309Z"
   },
   {
    "duration": 9,
    "start_time": "2024-07-18T12:35:58.597Z"
   },
   {
    "duration": 7,
    "start_time": "2024-07-18T12:35:58.957Z"
   },
   {
    "duration": 5,
    "start_time": "2024-07-18T12:35:59.249Z"
   },
   {
    "duration": 7,
    "start_time": "2024-07-18T12:35:59.885Z"
   },
   {
    "duration": 7,
    "start_time": "2024-07-18T12:36:00.239Z"
   },
   {
    "duration": 24,
    "start_time": "2024-07-18T12:36:01.786Z"
   },
   {
    "duration": 342,
    "start_time": "2024-07-18T12:36:04.497Z"
   },
   {
    "duration": 308,
    "start_time": "2024-07-18T12:36:19.244Z"
   },
   {
    "duration": 7,
    "start_time": "2024-07-18T12:36:23.281Z"
   },
   {
    "duration": 8,
    "start_time": "2024-07-18T12:36:23.625Z"
   },
   {
    "duration": 22,
    "start_time": "2024-07-18T12:36:25.066Z"
   },
   {
    "duration": 11,
    "start_time": "2024-07-18T12:36:38.390Z"
   },
   {
    "duration": 12,
    "start_time": "2024-07-18T12:36:42.060Z"
   },
   {
    "duration": 184,
    "start_time": "2024-07-18T12:36:44.019Z"
   },
   {
    "duration": 22,
    "start_time": "2024-07-18T12:36:44.686Z"
   },
   {
    "duration": 54,
    "start_time": "2024-07-18T12:36:46.394Z"
   },
   {
    "duration": 699,
    "start_time": "2024-07-18T12:36:47.743Z"
   },
   {
    "duration": 247,
    "start_time": "2024-07-18T12:37:36.972Z"
   },
   {
    "duration": 5,
    "start_time": "2024-07-18T12:38:21.885Z"
   },
   {
    "duration": 36,
    "start_time": "2024-07-18T12:38:22.481Z"
   },
   {
    "duration": 5,
    "start_time": "2024-07-18T12:38:22.697Z"
   },
   {
    "duration": 6,
    "start_time": "2024-07-18T12:38:23.561Z"
   },
   {
    "duration": 9,
    "start_time": "2024-07-18T12:38:23.976Z"
   },
   {
    "duration": 6,
    "start_time": "2024-07-18T12:38:24.192Z"
   },
   {
    "duration": 17,
    "start_time": "2024-07-18T12:38:24.410Z"
   },
   {
    "duration": 20,
    "start_time": "2024-07-18T12:38:24.617Z"
   },
   {
    "duration": 15,
    "start_time": "2024-07-18T12:38:24.807Z"
   },
   {
    "duration": 7,
    "start_time": "2024-07-18T12:38:24.997Z"
   },
   {
    "duration": 5,
    "start_time": "2024-07-18T12:38:25.215Z"
   },
   {
    "duration": 303,
    "start_time": "2024-07-18T12:38:25.410Z"
   },
   {
    "duration": 8,
    "start_time": "2024-07-18T12:38:25.821Z"
   },
   {
    "duration": 7,
    "start_time": "2024-07-18T12:38:26.031Z"
   },
   {
    "duration": 13,
    "start_time": "2024-07-18T12:38:26.879Z"
   },
   {
    "duration": 13,
    "start_time": "2024-07-18T12:38:28.657Z"
   },
   {
    "duration": 183,
    "start_time": "2024-07-18T12:38:29.249Z"
   },
   {
    "duration": 19,
    "start_time": "2024-07-18T12:38:29.581Z"
   },
   {
    "duration": 54,
    "start_time": "2024-07-18T12:38:30.578Z"
   },
   {
    "duration": 4986,
    "start_time": "2024-07-18T12:38:31.044Z"
   },
   {
    "duration": 711,
    "start_time": "2024-07-18T12:38:36.034Z"
   },
   {
    "duration": 194,
    "start_time": "2024-07-18T12:38:57.230Z"
   },
   {
    "duration": 129,
    "start_time": "2024-07-18T12:38:59.515Z"
   },
   {
    "duration": 138,
    "start_time": "2024-07-18T12:39:00.381Z"
   },
   {
    "duration": 5678,
    "start_time": "2024-07-18T13:03:12.445Z"
   },
   {
    "duration": 88,
    "start_time": "2024-07-18T13:03:18.127Z"
   },
   {
    "duration": 7,
    "start_time": "2024-07-18T13:03:18.221Z"
   },
   {
    "duration": 536,
    "start_time": "2024-07-18T13:03:19.780Z"
   },
   {
    "duration": 0,
    "start_time": "2024-07-18T13:03:20.320Z"
   },
   {
    "duration": 0,
    "start_time": "2024-07-18T13:03:20.322Z"
   },
   {
    "duration": 0,
    "start_time": "2024-07-18T13:03:20.324Z"
   },
   {
    "duration": 0,
    "start_time": "2024-07-18T13:03:20.327Z"
   },
   {
    "duration": 0,
    "start_time": "2024-07-18T13:03:20.330Z"
   },
   {
    "duration": 13,
    "start_time": "2024-07-18T13:03:20.362Z"
   },
   {
    "duration": 6,
    "start_time": "2024-07-18T13:03:20.451Z"
   },
   {
    "duration": 327,
    "start_time": "2024-07-18T13:03:20.529Z"
   },
   {
    "duration": 31,
    "start_time": "2024-07-18T13:03:21.200Z"
   },
   {
    "duration": 11,
    "start_time": "2024-07-18T13:03:21.631Z"
   },
   {
    "duration": 339,
    "start_time": "2024-07-18T13:12:19.078Z"
   },
   {
    "duration": 5661,
    "start_time": "2024-07-18T13:12:32.990Z"
   },
   {
    "duration": 82,
    "start_time": "2024-07-18T13:12:38.655Z"
   },
   {
    "duration": 9,
    "start_time": "2024-07-18T13:12:38.740Z"
   },
   {
    "duration": 10,
    "start_time": "2024-07-18T13:12:38.753Z"
   },
   {
    "duration": 559,
    "start_time": "2024-07-18T13:12:38.769Z"
   },
   {
    "duration": 0,
    "start_time": "2024-07-18T13:12:39.332Z"
   },
   {
    "duration": 0,
    "start_time": "2024-07-18T13:12:39.334Z"
   },
   {
    "duration": 0,
    "start_time": "2024-07-18T13:12:39.337Z"
   },
   {
    "duration": 0,
    "start_time": "2024-07-18T13:12:39.339Z"
   },
   {
    "duration": 0,
    "start_time": "2024-07-18T13:12:39.342Z"
   },
   {
    "duration": 0,
    "start_time": "2024-07-18T13:12:39.344Z"
   },
   {
    "duration": 0,
    "start_time": "2024-07-18T13:12:39.347Z"
   },
   {
    "duration": 0,
    "start_time": "2024-07-18T13:12:39.349Z"
   },
   {
    "duration": 0,
    "start_time": "2024-07-18T13:12:39.351Z"
   },
   {
    "duration": 0,
    "start_time": "2024-07-18T13:12:39.354Z"
   },
   {
    "duration": 0,
    "start_time": "2024-07-18T13:12:39.356Z"
   },
   {
    "duration": 0,
    "start_time": "2024-07-18T13:12:39.358Z"
   },
   {
    "duration": 0,
    "start_time": "2024-07-18T13:12:39.364Z"
   },
   {
    "duration": 0,
    "start_time": "2024-07-18T13:12:39.367Z"
   },
   {
    "duration": 0,
    "start_time": "2024-07-18T13:12:39.414Z"
   },
   {
    "duration": 0,
    "start_time": "2024-07-18T13:12:39.416Z"
   },
   {
    "duration": 0,
    "start_time": "2024-07-18T13:12:39.418Z"
   },
   {
    "duration": 22,
    "start_time": "2024-07-18T13:12:48.336Z"
   },
   {
    "duration": 20,
    "start_time": "2024-07-18T13:12:49.011Z"
   },
   {
    "duration": 14,
    "start_time": "2024-07-18T13:12:49.586Z"
   },
   {
    "duration": 8,
    "start_time": "2024-07-18T13:12:50.170Z"
   },
   {
    "duration": 6,
    "start_time": "2024-07-18T13:12:50.665Z"
   },
   {
    "duration": 356,
    "start_time": "2024-07-18T13:12:51.404Z"
   },
   {
    "duration": 31,
    "start_time": "2024-07-18T13:12:52.798Z"
   },
   {
    "duration": 32,
    "start_time": "2024-07-18T13:13:47.054Z"
   },
   {
    "duration": 8,
    "start_time": "2024-07-18T13:13:49.435Z"
   },
   {
    "duration": 10,
    "start_time": "2024-07-18T13:13:50.219Z"
   },
   {
    "duration": 10,
    "start_time": "2024-07-18T13:13:50.694Z"
   },
   {
    "duration": 13,
    "start_time": "2024-07-18T13:13:51.065Z"
   },
   {
    "duration": 10,
    "start_time": "2024-07-18T13:13:51.475Z"
   },
   {
    "duration": 7,
    "start_time": "2024-07-18T13:13:51.830Z"
   },
   {
    "duration": 311,
    "start_time": "2024-07-18T13:13:52.203Z"
   },
   {
    "duration": 10,
    "start_time": "2024-07-18T13:13:53.146Z"
   },
   {
    "duration": 8,
    "start_time": "2024-07-18T13:13:55.626Z"
   },
   {
    "duration": 27,
    "start_time": "2024-07-18T13:13:57.281Z"
   },
   {
    "duration": 20,
    "start_time": "2024-07-18T13:13:59.108Z"
   },
   {
    "duration": 464,
    "start_time": "2024-07-18T13:13:59.746Z"
   },
   {
    "duration": 1507,
    "start_time": "2024-07-18T13:14:00.215Z"
   },
   {
    "duration": 186,
    "start_time": "2024-07-18T13:14:01.726Z"
   },
   {
    "duration": 17536,
    "start_time": "2024-07-18T13:14:01.917Z"
   },
   {
    "duration": 7085,
    "start_time": "2024-07-18T13:14:19.458Z"
   },
   {
    "duration": 218,
    "start_time": "2024-07-18T13:14:26.547Z"
   },
   {
    "duration": 146,
    "start_time": "2024-07-18T13:14:26.769Z"
   },
   {
    "duration": 1830,
    "start_time": "2024-07-18T13:16:12.227Z"
   },
   {
    "duration": 38,
    "start_time": "2024-07-18T13:16:14.061Z"
   },
   {
    "duration": 16,
    "start_time": "2024-07-18T13:16:14.102Z"
   },
   {
    "duration": 46,
    "start_time": "2024-07-18T13:16:14.124Z"
   },
   {
    "duration": 12,
    "start_time": "2024-07-18T13:16:14.174Z"
   },
   {
    "duration": 20,
    "start_time": "2024-07-18T13:16:14.215Z"
   },
   {
    "duration": 28,
    "start_time": "2024-07-18T13:16:14.239Z"
   },
   {
    "duration": 44,
    "start_time": "2024-07-18T13:16:14.270Z"
   },
   {
    "duration": 13,
    "start_time": "2024-07-18T13:16:14.318Z"
   },
   {
    "duration": 6,
    "start_time": "2024-07-18T13:16:14.337Z"
   },
   {
    "duration": 373,
    "start_time": "2024-07-18T13:16:14.347Z"
   },
   {
    "duration": 17,
    "start_time": "2024-07-18T13:16:14.723Z"
   },
   {
    "duration": 9,
    "start_time": "2024-07-18T13:16:14.744Z"
   },
   {
    "duration": 333,
    "start_time": "2024-07-18T13:16:14.757Z"
   },
   {
    "duration": 1,
    "start_time": "2024-07-18T13:16:15.094Z"
   },
   {
    "duration": 0,
    "start_time": "2024-07-18T13:16:15.096Z"
   },
   {
    "duration": 0,
    "start_time": "2024-07-18T13:16:15.100Z"
   },
   {
    "duration": 1,
    "start_time": "2024-07-18T13:16:15.116Z"
   },
   {
    "duration": 0,
    "start_time": "2024-07-18T13:16:15.121Z"
   },
   {
    "duration": 0,
    "start_time": "2024-07-18T13:16:15.124Z"
   },
   {
    "duration": 0,
    "start_time": "2024-07-18T13:16:15.127Z"
   },
   {
    "duration": 0,
    "start_time": "2024-07-18T13:16:15.130Z"
   },
   {
    "duration": 22,
    "start_time": "2024-07-18T13:17:40.590Z"
   },
   {
    "duration": 8,
    "start_time": "2024-07-18T13:17:41.383Z"
   },
   {
    "duration": 121,
    "start_time": "2024-07-18T13:17:42.799Z"
   },
   {
    "duration": 20,
    "start_time": "2024-07-18T13:17:45.286Z"
   },
   {
    "duration": 456,
    "start_time": "2024-07-18T13:17:46.092Z"
   },
   {
    "duration": 6193,
    "start_time": "2024-07-18T13:17:46.553Z"
   },
   {
    "duration": 173,
    "start_time": "2024-07-18T13:17:52.815Z"
   },
   {
    "duration": 19162,
    "start_time": "2024-07-18T13:17:52.993Z"
   },
   {
    "duration": 8271,
    "start_time": "2024-07-18T13:18:12.161Z"
   },
   {
    "duration": 212,
    "start_time": "2024-07-18T13:18:20.437Z"
   },
   {
    "duration": 157,
    "start_time": "2024-07-18T13:18:20.652Z"
   },
   {
    "duration": 1803,
    "start_time": "2024-07-18T13:18:45.130Z"
   },
   {
    "duration": 44,
    "start_time": "2024-07-18T13:18:46.937Z"
   },
   {
    "duration": 28,
    "start_time": "2024-07-18T13:18:46.984Z"
   },
   {
    "duration": 43,
    "start_time": "2024-07-18T13:18:47.016Z"
   },
   {
    "duration": 8,
    "start_time": "2024-07-18T13:18:47.063Z"
   },
   {
    "duration": 45,
    "start_time": "2024-07-18T13:18:47.076Z"
   },
   {
    "duration": 24,
    "start_time": "2024-07-18T13:18:47.125Z"
   },
   {
    "duration": 13,
    "start_time": "2024-07-18T13:18:47.153Z"
   },
   {
    "duration": 44,
    "start_time": "2024-07-18T13:18:47.171Z"
   },
   {
    "duration": 10,
    "start_time": "2024-07-18T13:18:47.221Z"
   },
   {
    "duration": 355,
    "start_time": "2024-07-18T13:18:47.234Z"
   },
   {
    "duration": 21,
    "start_time": "2024-07-18T13:18:47.596Z"
   },
   {
    "duration": 8,
    "start_time": "2024-07-18T13:18:47.621Z"
   },
   {
    "duration": 81,
    "start_time": "2024-07-18T13:18:47.634Z"
   },
   {
    "duration": 95,
    "start_time": "2024-07-18T13:18:47.720Z"
   },
   {
    "duration": 472,
    "start_time": "2024-07-18T13:18:47.818Z"
   },
   {
    "duration": 8331,
    "start_time": "2024-07-18T13:18:48.292Z"
   },
   {
    "duration": 217,
    "start_time": "2024-07-18T13:18:56.627Z"
   },
   {
    "duration": 19406,
    "start_time": "2024-07-18T13:18:56.848Z"
   },
   {
    "duration": 7174,
    "start_time": "2024-07-18T13:19:16.257Z"
   },
   {
    "duration": 221,
    "start_time": "2024-07-18T13:19:23.435Z"
   },
   {
    "duration": 155,
    "start_time": "2024-07-18T13:19:23.659Z"
   }
  ],
  "kernelspec": {
   "display_name": "Python 3 (ipykernel)",
   "language": "python",
   "name": "python3"
  },
  "language_info": {
   "codemirror_mode": {
    "name": "ipython",
    "version": 3
   },
   "file_extension": ".py",
   "mimetype": "text/x-python",
   "name": "python",
   "nbconvert_exporter": "python",
   "pygments_lexer": "ipython3",
   "version": "3.9.19"
  },
  "toc": {
   "base_numbering": 1,
   "nav_menu": {},
   "number_sections": true,
   "sideBar": true,
   "skip_h1_title": true,
   "title_cell": "Table of Contents",
   "title_sidebar": "Contents",
   "toc_cell": false,
   "toc_position": {},
   "toc_section_display": true,
   "toc_window_display": false
  }
 },
 "nbformat": 4,
 "nbformat_minor": 2
}
